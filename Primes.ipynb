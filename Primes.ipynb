{
 "cells": [
  {
   "cell_type": "code",
   "execution_count": null,
   "metadata": {
    "collapsed": true,
    "slideshow": {
     "slide_type": "skip"
    }
   },
   "outputs": [],
   "source": [
    "from IPython.core.magics.execution import _format_time as format_time\n",
    "from IPython.display import Javascript\n",
    "\n",
    "Javascript('''\n",
    "function swap(el, src, t) {\n",
    "  console.log(\"swap\", el, src, t);\n",
    "  var old = el.src;\n",
    "  el.src = src;\n",
    "  setTimeout(function() {el.src = old;}, t);\n",
    "}\n",
    "\n",
    "sieve.onclick = function() {\n",
    "  swap(document.getElementById(\"sieve\"), 'sieve.gif', 37000);\n",
    "};\n",
    "''')"
   ]
  },
  {
   "cell_type": "markdown",
   "metadata": {
    "slideshow": {
     "slide_type": "slide"
    }
   },
   "source": [
    "# Optimised Primes\n",
    "\n",
    "Emlyn Corrin\n",
    "\n",
    "<img data-gifffer=\"sieve.gif\" />"
   ]
  },
  {
   "cell_type": "markdown",
   "metadata": {
    "slideshow": {
     "slide_type": "skip"
    }
   },
   "source": [
    "\n",
    "\n",
    "\n",
    "\n",
    "\n",
    "\n",
    "\n",
    "\n",
    "\n",
    "\n",
    "\n",
    "\n",
    "\n",
    "\n",
    "\n",
    "\n",
    "\n",
    "\n",
    "\n",
    "\n",
    "\n",
    "\n",
    "\n",
    "\n",
    "\n",
    "\n",
    "\n",
    "\n",
    "\n",
    "\n",
    "\n"
   ]
  },
  {
   "cell_type": "markdown",
   "metadata": {
    "slideshow": {
     "slide_type": "fragment"
    }
   },
   "source": [
    "![](prime.png)\n",
    "<!--- Image (public domain) from:\n",
    "https://www.flickr.com/photos/114305749@N08/24438440681\n",
    "-->"
   ]
  },
  {
   "cell_type": "markdown",
   "metadata": {
    "slideshow": {
     "slide_type": "slide"
    }
   },
   "source": [
    "## Why?\n",
    "\n",
    "- Because it's fun?\n",
    "- Mathematical or programming exercise\n",
    "- Online programming contests (Project Euler etc.)"
   ]
  },
  {
   "cell_type": "markdown",
   "metadata": {
    "slideshow": {
     "slide_type": "slide"
    }
   },
   "source": [
    "## What is a prime?\n",
    "\n",
    "A prime number (or a prime) is a natural number greater than 1 that has no positive divisors other than 1 and itself.  \n",
    "<div style=\"text-align: right\">&mdash; Wikipedia</div>"
   ]
  },
  {
   "cell_type": "code",
   "execution_count": null,
   "metadata": {
    "collapsed": true,
    "slideshow": {
     "slide_type": "fragment"
    }
   },
   "outputs": [],
   "source": [
    "def is_prime(n):\n",
    "    # Greater than 1\n",
    "    if n <= 1:\n",
    "        return False\n",
    "    # Any positive divisors (> 1 and < n)?\n",
    "    for i in range(2, n):\n",
    "        if n % i == 0:\n",
    "            return False\n",
    "    # If not, it must be a prime\n",
    "    return True"
   ]
  },
  {
   "cell_type": "markdown",
   "metadata": {
    "slideshow": {
     "slide_type": "slide"
    }
   },
   "source": [
    "## Let's generate a few more"
   ]
  },
  {
   "cell_type": "code",
   "execution_count": null,
   "metadata": {
    "collapsed": true
   },
   "outputs": [],
   "source": [
    "[i for i in range(10) if is_prime(i)]"
   ]
  },
  {
   "cell_type": "code",
   "execution_count": null,
   "metadata": {
    "collapsed": true,
    "slideshow": {
     "slide_type": "fragment"
    }
   },
   "outputs": [],
   "source": [
    "print(', '.join(str(i) for i in range(2000) if is_prime(i)))"
   ]
  },
  {
   "cell_type": "markdown",
   "metadata": {
    "slideshow": {
     "slide_type": "slide"
    }
   },
   "source": [
    "## What about generating them on demand"
   ]
  },
  {
   "cell_type": "code",
   "execution_count": null,
   "metadata": {
    "collapsed": true,
    "scrolled": false,
    "slideshow": {
     "slide_type": "-"
    }
   },
   "outputs": [],
   "source": [
    "from itertools import count\n",
    "\n",
    "def primes(limit):\n",
    "    n = 0\n",
    "    for i in count():\n",
    "        if is_prime(i):\n",
    "            yield i\n",
    "            n += 1\n",
    "            if n >= limit:\n",
    "                break\n",
    "    \n",
    "list(primes(10))"
   ]
  },
  {
   "cell_type": "markdown",
   "metadata": {
    "slideshow": {
     "slide_type": "slide"
    }
   },
   "source": [
    "## But how fast is it?"
   ]
  },
  {
   "cell_type": "code",
   "execution_count": null,
   "metadata": {
    "collapsed": true,
    "slideshow": {
     "slide_type": "-"
    }
   },
   "outputs": [],
   "source": [
    "import time\n",
    "\n",
    "def test(limit):\n",
    "    t0 = time.perf_counter()\n",
    "    numbers = list(primes(limit))\n",
    "    t = time.perf_counter() - t0\n",
    "    print(\"Took: {}\".format(format_time(t)))\n",
    "    print(\"First 20 primes: {}\".format(\", \".join(map(str, numbers[:20]))))\n",
    "    print(\"{0}th prime is {1}\".format(len(numbers), numbers[-1]))"
   ]
  },
  {
   "cell_type": "code",
   "execution_count": null,
   "metadata": {
    "collapsed": true,
    "slideshow": {
     "slide_type": "fragment"
    }
   },
   "outputs": [],
   "source": [
    "test(1000)"
   ]
  },
  {
   "cell_type": "markdown",
   "metadata": {
    "slideshow": {
     "slide_type": "slide"
    }
   },
   "source": [
    "## How can we make it faster?"
   ]
  },
  {
   "cell_type": "markdown",
   "metadata": {
    "slideshow": {
     "slide_type": "fragment"
    }
   },
   "source": [
    "### What about skipping all even numbers (apart from 2)?"
   ]
  },
  {
   "cell_type": "code",
   "execution_count": null,
   "metadata": {
    "collapsed": true,
    "slideshow": {
     "slide_type": "fragment"
    }
   },
   "outputs": [],
   "source": [
    "def primes(limit):\n",
    "    def is_prime(n):\n",
    "        for i in range(3, n, 2):\n",
    "            if n % i == 0:\n",
    "                return False\n",
    "        return True\n",
    "    n = 0\n",
    "    yield 2\n",
    "    for i in count(3, 2):\n",
    "        if is_prime(i):\n",
    "            yield i\n",
    "            n += 1\n",
    "            if n >= limit:\n",
    "                break"
   ]
  },
  {
   "cell_type": "markdown",
   "metadata": {
    "slideshow": {
     "slide_type": "slide"
    }
   },
   "source": [
    "### How much faster is it?"
   ]
  },
  {
   "cell_type": "code",
   "execution_count": null,
   "metadata": {
    "collapsed": true,
    "slideshow": {
     "slide_type": "fragment"
    }
   },
   "outputs": [],
   "source": [
    "test(1000)"
   ]
  },
  {
   "cell_type": "markdown",
   "metadata": {
    "slideshow": {
     "slide_type": "slide"
    }
   },
   "source": [
    "## Can we reduce the number of checks further?"
   ]
  },
  {
   "cell_type": "markdown",
   "metadata": {
    "slideshow": {
     "slide_type": "fragment"
    }
   },
   "source": [
    "Imagine we have a candidate prime $n$, and find a factor $f$.  \n",
    "We must also have another factor $n/f$, where one is $\\leq \\sqrt n$ and the other is $\\geq \\sqrt n$.\n",
    "So we only have to check up to $\\sqrt n$"
   ]
  },
  {
   "cell_type": "code",
   "execution_count": null,
   "metadata": {
    "collapsed": true,
    "slideshow": {
     "slide_type": "fragment"
    }
   },
   "outputs": [],
   "source": [
    "from math import sqrt\n",
    "\n",
    "def primes(limit):\n",
    "    def is_prime(n):\n",
    "        for i in range(3, int(sqrt(n)) + 1, 2):\n",
    "            if n % i == 0:\n",
    "                return False\n",
    "        return True\n",
    "    n = 0\n",
    "    yield 2\n",
    "    for i in count(3, 2):\n",
    "        if is_prime(i):\n",
    "            yield i\n",
    "            n += 1\n",
    "            if n >= limit:\n",
    "                break"
   ]
  },
  {
   "cell_type": "markdown",
   "metadata": {
    "slideshow": {
     "slide_type": "slide"
    }
   },
   "source": [
    "## How much faster is this?"
   ]
  },
  {
   "cell_type": "code",
   "execution_count": null,
   "metadata": {
    "collapsed": true,
    "scrolled": false,
    "slideshow": {
     "slide_type": "fragment"
    }
   },
   "outputs": [],
   "source": [
    "test(1000)"
   ]
  },
  {
   "cell_type": "markdown",
   "metadata": {
    "slideshow": {
     "slide_type": "slide"
    }
   },
   "source": [
    "## The sieve of Eratosthenes"
   ]
  },
  {
   "cell_type": "markdown",
   "metadata": {
    "slideshow": {
     "slide_type": "fragment"
    }
   },
   "source": [
    "1. start with a grid of numbers, from 2 to max_prime\n",
    "2. find first (next) unmarked number, return that as a prime\n",
    "3. mark all multiples of it (actually just from n² onwards)\n",
    "4. go back to 2.\n",
    "<img src=\"sieve.png\" id=\"sieve\" />"
   ]
  },
  {
   "cell_type": "code",
   "execution_count": null,
   "metadata": {
    "collapsed": true,
    "slideshow": {
     "slide_type": "slide"
    }
   },
   "outputs": [],
   "source": [
    "def primes(limit):\n",
    "    sieve = [True] * limit\n",
    "    for i in range(2, limit):\n",
    "        if sieve[i]:\n",
    "            yield i\n",
    "            for j in range(i, limit, i):\n",
    "                sieve[j] = False"
   ]
  },
  {
   "cell_type": "code",
   "execution_count": null,
   "metadata": {
    "collapsed": true,
    "slideshow": {
     "slide_type": "fragment"
    }
   },
   "outputs": [],
   "source": [
    "def primes(limit):\n",
    "    sieve = [True] * (limit // 2)\n",
    "    yield 2\n",
    "    for i in range(3, limit, 2):\n",
    "        if sieve[i//2]:\n",
    "            yield i\n",
    "            for j in range(i*i, limit, i*2):\n",
    "                sieve[j//2] = False"
   ]
  },
  {
   "cell_type": "code",
   "execution_count": null,
   "metadata": {
    "collapsed": true,
    "slideshow": {
     "slide_type": "fragment"
    }
   },
   "outputs": [],
   "source": [
    "test(10000000)"
   ]
  },
  {
   "cell_type": "markdown",
   "metadata": {
    "slideshow": {
     "slide_type": "slide"
    }
   },
   "source": [
    "## Problems?"
   ]
  },
  {
   "cell_type": "markdown",
   "metadata": {
    "slideshow": {
     "slide_type": "fragment"
    }
   },
   "source": [
    "### Memory use\n",
    "Can be mitigated somewhat:\n",
    "- Use packed data structure (e.g. struct module), 1 byte per cell\n",
    "- Even encode 8 cells into 1 byte (1 bit each)\n",
    "- No need for cells for even numbers\n",
    "- Or even multiples of 3 (only check numbers of form $6n \\pm 1$)"
   ]
  },
  {
   "cell_type": "markdown",
   "metadata": {
    "slideshow": {
     "slide_type": "fragment"
    }
   },
   "source": [
    "### Need to allocate storage upfront\n",
    "Sometimes we don't know in advance how much to allocate\n",
    "(e.g. first 100k primes, find first prime with X property...)"
   ]
  },
  {
   "cell_type": "markdown",
   "metadata": {
    "slideshow": {
     "slide_type": "slide"
    }
   },
   "source": [
    "## What about storing a list of primes so far, and only test dividing by those?"
   ]
  },
  {
   "cell_type": "code",
   "execution_count": null,
   "metadata": {
    "collapsed": true,
    "slideshow": {
     "slide_type": "fragment"
    }
   },
   "outputs": [],
   "source": [
    "def primes(limit):\n",
    "    primelist = [2]\n",
    "    yield 2\n",
    "    for candidate in range(3, limit + 1, 2):\n",
    "        isprime = True\n",
    "        for p in primelist:\n",
    "            if candidate % p == 0:\n",
    "                isprime = False\n",
    "                break\n",
    "        if isprime:\n",
    "            yield candidate\n",
    "            primelist.append(candidate)"
   ]
  },
  {
   "cell_type": "code",
   "execution_count": null,
   "metadata": {
    "collapsed": true,
    "slideshow": {
     "slide_type": "fragment"
    }
   },
   "outputs": [],
   "source": [
    "test(100000)"
   ]
  },
  {
   "cell_type": "markdown",
   "metadata": {
    "slideshow": {
     "slide_type": "slide"
    }
   },
   "source": [
    "## Better?\n",
    "Now don’t have to decide upper limit in advance, but slower\n",
    "\n",
    "What about switching things around… for each prime store the next multiple higher than candidate, then we just just have to check if candidate is in the list, not multiple test divisions per candidate.\n",
    "For each multiple in the list, we store the original prime, so that when we reach it, we we can add it to generate the next multiple. But it could be a multiple of more than one prime, so we have to store a list of source primes:"
   ]
  },
  {
   "cell_type": "code",
   "execution_count": null,
   "metadata": {
    "collapsed": true,
    "slideshow": {
     "slide_type": "fragment"
    }
   },
   "outputs": [],
   "source": [
    "def primes(limit):\n",
    "    state = {}\n",
    "    for candidate in range(2, limit + 1):\n",
    "        if candidate in state:\n",
    "            for factor in state[candidate]:\n",
    "                if candidate + factor in state:\n",
    "                    state[candidate + factor].append(factor)\n",
    "                else:\n",
    "                    state[candidate + factor] = [factor]\n",
    "            del state[candidate]\n",
    "        else:\n",
    "            yield candidate\n",
    "            state[2 * candidate] = [candidate]"
   ]
  },
  {
   "cell_type": "code",
   "execution_count": null,
   "metadata": {
    "collapsed": true
   },
   "outputs": [],
   "source": [
    "test(1000000)"
   ]
  },
  {
   "cell_type": "markdown",
   "metadata": {
    "slideshow": {
     "slide_type": "slide"
    }
   },
   "source": [
    "We can make a few optimisations:\n",
    "Defaultdict so we don’t have to check if a number is present\n",
    "We skip even numbers, and therefore even multiples of primes\n",
    "When we find a prime, p, the first multiple we have to add to the state is p^2, because smaller multiples will have another factor less than p  (p*q, where q < p).\n"
   ]
  },
  {
   "cell_type": "code",
   "execution_count": null,
   "metadata": {
    "collapsed": true,
    "slideshow": {
     "slide_type": "fragment"
    }
   },
   "outputs": [],
   "source": [
    "from collections import defaultdict\n",
    "\n",
    "def primes(limit):\n",
    "    yield 2\n",
    "    state = defaultdict(list)\n",
    "    for candidate in range(3, limit + 1, 2):\n",
    "        if candidate in state:\n",
    "            for factor in state[candidate]:\n",
    "                state[candidate + 2 * factor].append(factor)\n",
    "            del state[candidate]\n",
    "        else:\n",
    "            yield candidate\n",
    "            state[candidate * candidate] = [candidate]"
   ]
  },
  {
   "cell_type": "code",
   "execution_count": null,
   "metadata": {
    "collapsed": true,
    "slideshow": {
     "slide_type": "fragment"
    }
   },
   "outputs": [],
   "source": [
    "test(1000000)"
   ]
  },
  {
   "cell_type": "code",
   "execution_count": null,
   "metadata": {
    "collapsed": true
   },
   "outputs": [],
   "source": []
  }
 ],
 "metadata": {
  "celltoolbar": "Slideshow",
  "kernelspec": {
   "display_name": "Python 3",
   "language": "python",
   "name": "python3"
  },
  "language_info": {
   "codemirror_mode": {
    "name": "ipython",
    "version": 3
   },
   "file_extension": ".py",
   "mimetype": "text/x-python",
   "name": "python",
   "nbconvert_exporter": "python",
   "pygments_lexer": "ipython3",
   "version": "3.6.1"
  },
  "livereveal": {
   "scroll": "True",
   "start_slideshow_at": "selected",
   "theme": "serif",
   "transition": "convex"
  }
 },
 "nbformat": 4,
 "nbformat_minor": 2
}
