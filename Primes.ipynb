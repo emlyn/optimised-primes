{
 "cells": [
  {
   "cell_type": "code",
   "execution_count": null,
   "metadata": {
    "slideshow": {
     "slide_type": "skip"
    }
   },
   "outputs": [],
   "source": [
    "########################################\n",
    "## Evaluate this cell before starting ##\n",
    "########################################\n",
    "\n",
    "from collections import defaultdict\n",
    "from itertools import count, islice\n",
    "import time\n",
    "\n",
    "from IPython.core.magics.execution import _format_time as format_time\n",
    "from IPython.display import Javascript\n",
    "\n",
    "Javascript('''\n",
    "function swap(el, src, t) {\n",
    "  console.log(\"swap\", el, src, t);\n",
    "  var old = el.src;\n",
    "  el.src = src;\n",
    "  setTimeout(function() {el.src = old;}, t);\n",
    "}\n",
    "\n",
    "sieve.onclick = function() {\n",
    "  swap(document.getElementById(\"sieve\"), 'sieve.gif', 37000);\n",
    "};\n",
    "''')"
   ]
  },
  {
   "cell_type": "markdown",
   "metadata": {
    "slideshow": {
     "slide_type": "slide"
    }
   },
   "source": [
    "# Optimised Primes\n",
    "\n",
    "Emlyn Corrin\n",
    "\n",
    "<img data-gifffer=\"sieve.gif\" />"
   ]
  },
  {
   "cell_type": "markdown",
   "metadata": {
    "slideshow": {
     "slide_type": "skip"
    }
   },
   "source": [
    "\n",
    "\n",
    "\n",
    "\n",
    "\n",
    "\n",
    "\n",
    "\n",
    "\n",
    "\n",
    "\n",
    "\n",
    "\n",
    "\n",
    "\n",
    "\n",
    "\n",
    "\n",
    "\n",
    "\n",
    "\n",
    "\n",
    "\n",
    "\n",
    "\n",
    "\n",
    "\n",
    "\n",
    "\n",
    "\n",
    "\n"
   ]
  },
  {
   "cell_type": "markdown",
   "metadata": {
    "slideshow": {
     "slide_type": "fragment"
    }
   },
   "source": [
    "![](prime.png)\n",
    "<!--- Image (public domain) from:\n",
    "https://www.flickr.com/photos/114305749@N08/24438440681\n",
    "-->"
   ]
  },
  {
   "cell_type": "markdown",
   "metadata": {
    "slideshow": {
     "slide_type": "slide"
    }
   },
   "source": [
    "## Why?"
   ]
  },
  {
   "cell_type": "markdown",
   "metadata": {
    "slideshow": {
     "slide_type": "fragment"
    }
   },
   "source": [
    "- Online programming contests (Project Euler etc.)"
   ]
  },
  {
   "cell_type": "markdown",
   "metadata": {
    "slideshow": {
     "slide_type": "fragment"
    }
   },
   "source": [
    "- Mathematical or programming exercise"
   ]
  },
  {
   "cell_type": "markdown",
   "metadata": {
    "slideshow": {
     "slide_type": "fragment"
    }
   },
   "source": [
    "- Because it's fun!"
   ]
  },
  {
   "cell_type": "markdown",
   "metadata": {
    "slideshow": {
     "slide_type": "slide"
    }
   },
   "source": [
    "## What is a prime?"
   ]
  },
  {
   "cell_type": "markdown",
   "metadata": {
    "slideshow": {
     "slide_type": "fragment"
    }
   },
   "source": [
    "A prime number (or a prime) is a natural number greater than 1 that has no positive divisors other than 1 and itself.\n",
    "<div style=\"text-align: right\">&mdash; Wikipedia</div>"
   ]
  },
  {
   "cell_type": "code",
   "execution_count": null,
   "metadata": {
    "slideshow": {
     "slide_type": "fragment"
    }
   },
   "outputs": [],
   "source": [
    "def is_prime(n):\n",
    "    # Greater than 1\n",
    "    if n <= 1:\n",
    "        return False\n",
    "    # Any positive divisors (> 1 and < n)?\n",
    "    for i in range(2, n):\n",
    "        if n % i == 0:\n",
    "            return False\n",
    "    # If not, it must be a prime\n",
    "    return True"
   ]
  },
  {
   "cell_type": "markdown",
   "metadata": {
    "slideshow": {
     "slide_type": "slide"
    }
   },
   "source": [
    "## Let's generate a few"
   ]
  },
  {
   "cell_type": "code",
   "execution_count": null,
   "metadata": {},
   "outputs": [],
   "source": [
    "[i for i in range(20) if is_prime(i)]"
   ]
  },
  {
   "cell_type": "code",
   "execution_count": null,
   "metadata": {
    "slideshow": {
     "slide_type": "fragment"
    }
   },
   "outputs": [],
   "source": [
    "print(', '.join(str(i) for i in range(2000) if is_prime(i)))"
   ]
  },
  {
   "cell_type": "markdown",
   "metadata": {
    "slideshow": {
     "slide_type": "slide"
    }
   },
   "source": [
    "## What about generating them on demand"
   ]
  },
  {
   "cell_type": "code",
   "execution_count": null,
   "metadata": {
    "scrolled": false,
    "slideshow": {
     "slide_type": "-"
    }
   },
   "outputs": [],
   "source": [
    "from itertools import count, islice\n",
    "\n",
    "def primes1():\n",
    "    for i in count():\n",
    "        if is_prime(i):\n",
    "            yield i\n",
    "    \n",
    "list(islice(primes1(), 20))"
   ]
  },
  {
   "cell_type": "markdown",
   "metadata": {
    "slideshow": {
     "slide_type": "slide"
    }
   },
   "source": [
    "## But how fast is it?"
   ]
  },
  {
   "cell_type": "code",
   "execution_count": null,
   "metadata": {
    "slideshow": {
     "slide_type": "-"
    }
   },
   "outputs": [],
   "source": [
    "import time\n",
    "\n",
    "def test(gen, num):\n",
    "    t0 = time.perf_counter()\n",
    "    numbers = list(islice(gen, num))\n",
    "    t = time.perf_counter() - t0\n",
    "    print(\"Took: {}\".format(format_time(t)))\n",
    "    print(\"{0}th prime is {1}\".format(len(numbers), numbers[-1]))"
   ]
  },
  {
   "cell_type": "code",
   "execution_count": null,
   "metadata": {
    "slideshow": {
     "slide_type": "fragment"
    }
   },
   "outputs": [],
   "source": [
    "test(primes1(), 1000)"
   ]
  },
  {
   "cell_type": "markdown",
   "metadata": {
    "slideshow": {
     "slide_type": "slide"
    }
   },
   "source": [
    "## Can we make it faster?"
   ]
  },
  {
   "cell_type": "markdown",
   "metadata": {
    "slideshow": {
     "slide_type": "fragment"
    }
   },
   "source": [
    "### What about skipping all even numbers (apart from 2)?"
   ]
  },
  {
   "cell_type": "code",
   "execution_count": null,
   "metadata": {
    "slideshow": {
     "slide_type": "fragment"
    }
   },
   "outputs": [],
   "source": [
    "def primes2():\n",
    "    def is_prime(n):\n",
    "        for i in range(3, n, 2):\n",
    "            if n % i == 0:\n",
    "                return False\n",
    "        return True\n",
    "    yield 2\n",
    "    for i in count(3, 2):\n",
    "        if is_prime(i):\n",
    "            yield i"
   ]
  },
  {
   "cell_type": "markdown",
   "metadata": {
    "slideshow": {
     "slide_type": "slide"
    }
   },
   "source": [
    "### How much faster is it?"
   ]
  },
  {
   "cell_type": "code",
   "execution_count": null,
   "metadata": {
    "slideshow": {
     "slide_type": "fragment"
    }
   },
   "outputs": [],
   "source": [
    "test(primes2(), 1000)"
   ]
  },
  {
   "cell_type": "markdown",
   "metadata": {
    "slideshow": {
     "slide_type": "slide"
    }
   },
   "source": [
    "## Can we reduce the number of checks further?"
   ]
  },
  {
   "cell_type": "markdown",
   "metadata": {
    "slideshow": {
     "slide_type": "fragment"
    }
   },
   "source": [
    "### Yes!\n",
    "Factors always come in pairs: $n = f*g$ (except square numbers where you can have $f = g = \\sqrt n$).  \n",
    "If $f \\leq \\sqrt n$ then $g \\geq \\sqrt n$, and vice versa.  \n",
    "So if $n$ has any prime factors, at least one of them must always be $\\leq \\sqrt n$.  \n",
    "So we only have to check up to $\\sqrt n$, not to $n$."
   ]
  },
  {
   "cell_type": "code",
   "execution_count": null,
   "metadata": {
    "slideshow": {
     "slide_type": "slide"
    }
   },
   "outputs": [],
   "source": [
    "from math import sqrt\n",
    "\n",
    "def primes3():\n",
    "    def is_prime(n):\n",
    "        for i in range(3, int(sqrt(n)) + 1, 2):\n",
    "            if n % i == 0:\n",
    "                return False\n",
    "        return True\n",
    "    yield 2\n",
    "    for i in count(3, 2):\n",
    "        if is_prime(i):\n",
    "            yield i"
   ]
  },
  {
   "cell_type": "markdown",
   "metadata": {
    "slideshow": {
     "slide_type": "slide"
    }
   },
   "source": [
    "## How much faster is this?"
   ]
  },
  {
   "cell_type": "code",
   "execution_count": null,
   "metadata": {
    "scrolled": false,
    "slideshow": {
     "slide_type": "fragment"
    }
   },
   "outputs": [],
   "source": [
    "test(primes3(), 1000)"
   ]
  },
  {
   "cell_type": "markdown",
   "metadata": {
    "slideshow": {
     "slide_type": "slide"
    }
   },
   "source": [
    "## Is this the best we can do?"
   ]
  },
  {
   "cell_type": "markdown",
   "metadata": {
    "slideshow": {
     "slide_type": "fragment"
    }
   },
   "source": [
    "We are still checking more numbers than necessary:  \n",
    "e.g. once we've tested for divisibility by 3 and 5,  \n",
    "we shouldn't need to test 9, 15, 25, 30, 45... etc."
   ]
  },
  {
   "cell_type": "markdown",
   "metadata": {
    "slideshow": {
     "slide_type": "fragment"
    }
   },
   "source": [
    "i.e. we only need to check for divisibility by primes."
   ]
  },
  {
   "cell_type": "markdown",
   "metadata": {
    "slideshow": {
     "slide_type": "slide"
    }
   },
   "source": [
    "## The sieve of Eratosthenes"
   ]
  },
  {
   "cell_type": "markdown",
   "metadata": {
    "slideshow": {
     "slide_type": "fragment"
    }
   },
   "source": [
    "1. start with a grid of numbers, from 2 to max_prime\n",
    "2. find first (next) unmarked number, return that as a prime\n",
    "3. mark all multiples of it (actually just from n² onwards)\n",
    "4. go back to 2.\n",
    "<img src=\"sieve.png\" id=\"sieve\" />"
   ]
  },
  {
   "cell_type": "code",
   "execution_count": null,
   "metadata": {
    "slideshow": {
     "slide_type": "slide"
    }
   },
   "outputs": [],
   "source": [
    "def primes4(max_prime):\n",
    "    sieve = [True] * max_prime\n",
    "    for i in range(2, max_prime):\n",
    "        if sieve[i]:\n",
    "            yield i\n",
    "            for j in range(i, max_prime, i):\n",
    "                sieve[j] = False"
   ]
  },
  {
   "cell_type": "code",
   "execution_count": null,
   "metadata": {
    "slideshow": {
     "slide_type": "fragment"
    }
   },
   "outputs": [],
   "source": [
    "def primes5(max_prime):\n",
    "    sieve = [True] * (max_prime // 2)\n",
    "    yield 2\n",
    "    for i in range(3, max_prime, 2):\n",
    "        if sieve[i//2]:\n",
    "            yield i\n",
    "            for j in range(i*i, max_prime, i*2):\n",
    "                sieve[j//2] = False"
   ]
  },
  {
   "cell_type": "code",
   "execution_count": null,
   "metadata": {
    "slideshow": {
     "slide_type": "fragment"
    }
   },
   "outputs": [],
   "source": [
    "test(primes4(2000000), 100000)"
   ]
  },
  {
   "cell_type": "code",
   "execution_count": null,
   "metadata": {
    "slideshow": {
     "slide_type": "fragment"
    }
   },
   "outputs": [],
   "source": [
    "test(primes5(2000000), 100000)"
   ]
  },
  {
   "cell_type": "markdown",
   "metadata": {
    "slideshow": {
     "slide_type": "slide"
    }
   },
   "source": [
    "## Problems?"
   ]
  },
  {
   "cell_type": "markdown",
   "metadata": {
    "slideshow": {
     "slide_type": "fragment"
    }
   },
   "source": [
    "### Memory use\n",
    "- Use packed data structure (e.g. struct module), encode 8 cells/byte\n",
    "- Also skip multiples of 3 (only check numbers of form $6n \\pm 1$)"
   ]
  },
  {
   "cell_type": "markdown",
   "metadata": {
    "slideshow": {
     "slide_type": "fragment"
    }
   },
   "source": [
    "### Need to allocate storage upfront\n",
    "Often don't know in advance how much to allocate\n",
    "(e.g. first 100k primes)"
   ]
  },
  {
   "cell_type": "markdown",
   "metadata": {
    "slideshow": {
     "slide_type": "slide"
    }
   },
   "source": [
    "## What about storing a list of primes so far, and only test dividing by those?"
   ]
  },
  {
   "cell_type": "code",
   "execution_count": null,
   "metadata": {
    "slideshow": {
     "slide_type": "fragment"
    }
   },
   "outputs": [],
   "source": [
    "def primes6():\n",
    "    primelist = [2]\n",
    "    yield 2\n",
    "    for candidate in count(3, 2):\n",
    "        isprime = True\n",
    "        for p in primelist:\n",
    "            if candidate % p == 0:\n",
    "                isprime = False\n",
    "                break\n",
    "        if isprime:\n",
    "            yield candidate\n",
    "            primelist.append(candidate)"
   ]
  },
  {
   "cell_type": "code",
   "execution_count": null,
   "metadata": {
    "slideshow": {
     "slide_type": "fragment"
    }
   },
   "outputs": [],
   "source": [
    "test(primes6(), 1000)"
   ]
  },
  {
   "cell_type": "markdown",
   "metadata": {
    "slideshow": {
     "slide_type": "slide"
    }
   },
   "source": [
    "## Better?\n",
    "Now don’t have to decide upper limit in advance, but slower\n",
    "\n",
    "What about switching things around… for each prime store the next multiple higher than candidate, then we just just have to check if candidate is in the list, not multiple test divisions per candidate.\n",
    "For each multiple in the list, we store the original prime, so that when we reach it, we we can add it to generate the next multiple. But it could be a multiple of more than one prime, so we have to store a list of source primes:"
   ]
  },
  {
   "cell_type": "code",
   "execution_count": null,
   "metadata": {
    "slideshow": {
     "slide_type": "fragment"
    }
   },
   "outputs": [],
   "source": [
    "def primes7():\n",
    "    state = {}\n",
    "    for candidate in count(2):\n",
    "        if candidate in state:\n",
    "            for factor in state[candidate]:\n",
    "                if candidate + factor in state:\n",
    "                    state[candidate + factor].append(factor)\n",
    "                else:\n",
    "                    state[candidate + factor] = [factor]\n",
    "            del state[candidate]\n",
    "        else:\n",
    "            yield candidate\n",
    "            state[2 * candidate] = [candidate]"
   ]
  },
  {
   "cell_type": "code",
   "execution_count": null,
   "metadata": {},
   "outputs": [],
   "source": [
    "test(primes7(), 100000)"
   ]
  },
  {
   "cell_type": "markdown",
   "metadata": {
    "slideshow": {
     "slide_type": "slide"
    }
   },
   "source": [
    "We can make a few optimisations:\n",
    "Defaultdict so we don’t have to check if a number is present\n",
    "We skip even numbers, and therefore even multiples of primes\n",
    "When we find a prime, p, the first multiple we have to add to the state is p^2, because smaller multiples will have another factor less than p  (p*q, where q < p).\n"
   ]
  },
  {
   "cell_type": "code",
   "execution_count": null,
   "metadata": {
    "slideshow": {
     "slide_type": "fragment"
    }
   },
   "outputs": [],
   "source": [
    "from collections import defaultdict\n",
    "\n",
    "def primes8():\n",
    "    yield 2\n",
    "    state = defaultdict(list)\n",
    "    for candidate in count(3, 2):\n",
    "        if candidate in state:\n",
    "            for factor in state[candidate]:\n",
    "                state[candidate + 2 * factor].append(factor)\n",
    "            del state[candidate]\n",
    "        else:\n",
    "            yield candidate\n",
    "            state[candidate * candidate] = [candidate]"
   ]
  },
  {
   "cell_type": "code",
   "execution_count": null,
   "metadata": {
    "slideshow": {
     "slide_type": "fragment"
    }
   },
   "outputs": [],
   "source": [
    "test(primes8(), 100000)"
   ]
  },
  {
   "cell_type": "code",
   "execution_count": null,
   "metadata": {},
   "outputs": [],
   "source": []
  }
 ],
 "metadata": {
  "celltoolbar": "Slideshow",
  "kernelspec": {
   "display_name": "Python 3",
   "language": "python",
   "name": "python3"
  },
  "language_info": {
   "codemirror_mode": {
    "name": "ipython",
    "version": 3
   },
   "file_extension": ".py",
   "mimetype": "text/x-python",
   "name": "python",
   "nbconvert_exporter": "python",
   "pygments_lexer": "ipython3",
   "version": "3.6.4"
  },
  "livereveal": {
   "scroll": "True",
   "start_slideshow_at": "selected",
   "theme": "serif",
   "transition": "convex"
  }
 },
 "nbformat": 4,
 "nbformat_minor": 2
}
