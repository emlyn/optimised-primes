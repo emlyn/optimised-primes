{
 "cells": [
  {
   "cell_type": "code",
   "execution_count": null,
   "metadata": {
    "slideshow": {
     "slide_type": "notes"
    }
   },
   "outputs": [],
   "source": [
    "#########################################################\n",
    "##\n",
    "##  NOTE: Evaluate this cell first!\n",
    "##\n",
    "##  Click on it, then press Shift+Enter (or Ctrl+Enter)\n",
    "##\n",
    "##  Instructions for starting the slides should appear below.\n",
    "##  If they don't, try evaluating this cell again.\n",
    "##  \n",
    "#########################################################\n",
    "\n",
    "from helpers import init, timing_plot\n",
    "init()"
   ]
  },
  {
   "cell_type": "markdown",
   "metadata": {
    "slideshow": {
     "slide_type": "slide"
    }
   },
   "source": [
    "# Optimised Primes\n",
    "\n",
    "Emlyn Corrin\n",
    "\n",
    "<img data-gifffer=\"resources/sieve.gif\" />"
   ]
  },
  {
   "cell_type": "markdown",
   "metadata": {
    "slideshow": {
     "slide_type": "fragment"
    }
   },
   "source": [
    "![](resources/prime.png)\n",
    "<!--- Image (public domain) from:\n",
    "https://www.flickr.com/photos/114305749@N08/24438440681\n",
    "-->"
   ]
  },
  {
   "cell_type": "markdown",
   "metadata": {
    "slideshow": {
     "slide_type": "slide"
    }
   },
   "source": [
    "## Why?"
   ]
  },
  {
   "cell_type": "markdown",
   "metadata": {
    "slideshow": {
     "slide_type": "fragment"
    }
   },
   "source": [
    "- Online programming contests (Project Euler etc.)"
   ]
  },
  {
   "cell_type": "markdown",
   "metadata": {
    "slideshow": {
     "slide_type": "fragment"
    }
   },
   "source": [
    "- As a mathematical or programming exercise"
   ]
  },
  {
   "cell_type": "markdown",
   "metadata": {
    "slideshow": {
     "slide_type": "fragment"
    }
   },
   "source": [
    "- Because it's fun!"
   ]
  },
  {
   "cell_type": "markdown",
   "metadata": {
    "slideshow": {
     "slide_type": "slide"
    }
   },
   "source": [
    "## What is a prime?"
   ]
  },
  {
   "cell_type": "markdown",
   "metadata": {
    "slideshow": {
     "slide_type": "fragment"
    }
   },
   "source": [
    "A prime number (or a prime) is a natural number greater than 1 that has no positive divisors other than 1 and itself.\n",
    "<div style=\"text-align: right\">&mdash; Wikipedia</div>"
   ]
  },
  {
   "cell_type": "markdown",
   "metadata": {
    "slideshow": {
     "slide_type": "slide"
    }
   },
   "source": [
    "## How would that look in code?"
   ]
  },
  {
   "cell_type": "code",
   "execution_count": null,
   "metadata": {
    "slideshow": {
     "slide_type": "fragment"
    }
   },
   "outputs": [],
   "source": [
    "# A prime number (or a prime) is a natural number greater than 1\n",
    "# that has no positive divisors other than 1 and itself.\n",
    "\n",
    "def is_prime(number):\n",
    "  if not number > 1:         # If it's not greater than 1\n",
    "    return False             # It can't be a prime\n",
    "  for d in range(2, number): # Let's check every possible divisor between 2 and number-1\n",
    "    if number % d == 0:      # If the remainder when dividing number by d is zero\n",
    "      return False           # It's not a prime\n",
    "  return True                # If we get this far, it must be a prime"
   ]
  },
  {
   "cell_type": "markdown",
   "metadata": {
    "slideshow": {
     "slide_type": "slide"
    }
   },
   "source": [
    "## Let's generate a few"
   ]
  },
  {
   "cell_type": "code",
   "execution_count": null,
   "metadata": {},
   "outputs": [],
   "source": [
    "# All primes less than 20\n",
    "[i for i in range(20) if is_prime(i)]"
   ]
  },
  {
   "cell_type": "code",
   "execution_count": null,
   "metadata": {
    "slideshow": {
     "slide_type": "fragment"
    }
   },
   "outputs": [],
   "source": [
    "# Primes less than 1000 (print it otherwise Jupyter only displays 1 number per line)\n",
    "print([i for i in range(1000) if is_prime(i)])"
   ]
  },
  {
   "cell_type": "markdown",
   "metadata": {
    "slideshow": {
     "slide_type": "slide"
    }
   },
   "source": [
    "## Let's make it a bit more flexible"
   ]
  },
  {
   "cell_type": "markdown",
   "metadata": {
    "slideshow": {
     "slide_type": "fragment"
    }
   },
   "source": [
    "Currently we can only check if a particular number is prime. \\\n",
    "Let's turn it into a generator function that returns a sequence of primes. \\\n",
    "This will allow us to do more things, like:"
   ]
  },
  {
   "cell_type": "markdown",
   "metadata": {
    "slideshow": {
     "slide_type": "fragment"
    }
   },
   "source": [
    "- Generate the first $n$ primes\n",
    "- Generate primes up to a certain size\n",
    "- Generate primes until some other condition is met\n",
    "- Optimise it better later (we might not need to check every number)"
   ]
  },
  {
   "cell_type": "code",
   "execution_count": null,
   "metadata": {
    "slideshow": {
     "slide_type": "slide"
    }
   },
   "outputs": [],
   "source": [
    "from itertools import count\n",
    "\n",
    "# For now let's just loop over all numbers and call is_prime on each one,\n",
    "# we'll worry about optimising this later.\n",
    "def first_try():\n",
    "  for n in count(): # Loop over all positive integers\n",
    "    if is_prime(n): # Check each one to see if it's prime\n",
    "      yield n       # If so, yield it (return it and continue)"
   ]
  },
  {
   "cell_type": "code",
   "execution_count": null,
   "metadata": {
    "slideshow": {
     "slide_type": "slide"
    }
   },
   "outputs": [],
   "source": [
    "from itertools import islice\n",
    "\n",
    "# First 20 primes:\n",
    "[p for p in islice(first_try(), 20)]"
   ]
  },
  {
   "cell_type": "code",
   "execution_count": null,
   "metadata": {
    "slideshow": {
     "slide_type": "fragment"
    }
   },
   "outputs": [],
   "source": [
    "from itertools import takewhile\n",
    "\n",
    "# Primes less than 50\n",
    "[p for p in takewhile(lambda x: x < 50, first_try())]"
   ]
  },
  {
   "cell_type": "markdown",
   "metadata": {
    "slideshow": {
     "slide_type": "slide"
    }
   },
   "source": [
    "## But how fast is it?"
   ]
  },
  {
   "cell_type": "code",
   "execution_count": null,
   "metadata": {
    "slideshow": {
     "slide_type": "fragment"
    }
   },
   "outputs": [],
   "source": [
    "timing_plot(first_try)"
   ]
  },
  {
   "cell_type": "markdown",
   "metadata": {
    "slideshow": {
     "slide_type": "slide"
    }
   },
   "source": [
    "## Can we make it faster?"
   ]
  },
  {
   "cell_type": "markdown",
   "metadata": {
    "slideshow": {
     "slide_type": "fragment"
    }
   },
   "source": [
    "### We know 2 is the only even prime, so why not skip even numbers (apart from 2)?"
   ]
  },
  {
   "cell_type": "code",
   "execution_count": null,
   "metadata": {
    "slideshow": {
     "slide_type": "fragment"
    }
   },
   "outputs": [],
   "source": [
    "from itertools import count\n",
    "\n",
    "def skip_even():\n",
    "  def is_prime(number):           # Let's a local is_prime that skips even numbers\n",
    "    for d in range(3, number, 2): # check odd divisors between 3 and n-1\n",
    "      if number % d == 0:         # If there's no remainder, it divides,\n",
    "        return False              # so we haven't got a prime\n",
    "    return True                   # If we get this far, it must be prime\n",
    "  yield 2                         # Make sure we start by yielding the only even prime, 2\n",
    "  for n in count(3, 2):           # Then loop over odd integers from 3 upwards\n",
    "    if is_prime(n):               # Checking each (odd) number to see if it's prime\n",
    "      yield n"
   ]
  },
  {
   "cell_type": "markdown",
   "metadata": {
    "slideshow": {
     "slide_type": "slide"
    }
   },
   "source": [
    "### How much faster is it?"
   ]
  },
  {
   "cell_type": "code",
   "execution_count": null,
   "metadata": {
    "slideshow": {
     "slide_type": "fragment"
    }
   },
   "outputs": [],
   "source": [
    "timing_plot(skip_even)"
   ]
  },
  {
   "cell_type": "markdown",
   "metadata": {
    "slideshow": {
     "slide_type": "slide"
    }
   },
   "source": [
    "## Can we reduce the number of checks further?"
   ]
  },
  {
   "cell_type": "markdown",
   "metadata": {
    "slideshow": {
     "slide_type": "fragment"
    }
   },
   "source": [
    "### We could also skip multiples of 3"
   ]
  },
  {
   "cell_type": "markdown",
   "metadata": {
    "slideshow": {
     "slide_type": "fragment"
    }
   },
   "source": [
    "Would give us another factor of $\\approx 3/2$, or 1.5\n",
    "(not 3, because half of the multiples of 3 (the even ones) are already skipped from before),\n",
    "but it would also complicate the code quite a bit.\n",
    "\n",
    "Is there a way we can we do better than that?"
   ]
  },
  {
   "cell_type": "markdown",
   "metadata": {
    "slideshow": {
     "slide_type": "slide"
    }
   },
   "source": [
    "### Yes!\n",
    "Factors always come in pairs:\\\n",
    "if $n$ has a factor $f$, that means $n = f * g$,\\\n",
    "and therefore $g$ must also be a factor\n",
    "\n",
    "Now, either $f$ and $g$ are both the same and equal to $\\sqrt n$,\\\n",
    "or one of them must be less than $\\sqrt n$.\n",
    "\n",
    "They can't both be greater than $\\sqrt n$.\n",
    "\n",
    "So if $n$ has any prime factors, at least one of them must always be $\\leq \\sqrt n$,\\\n",
    "and therefore we can stop checking once we reach $\\sqrt n$."
   ]
  },
  {
   "cell_type": "markdown",
   "metadata": {
    "slideshow": {
     "slide_type": "slide"
    }
   },
   "source": [
    "Let's write the code for that:"
   ]
  },
  {
   "cell_type": "code",
   "execution_count": null,
   "metadata": {
    "slideshow": {
     "slide_type": "fragment"
    }
   },
   "outputs": [],
   "source": [
    "from itertools import count\n",
    "from math import sqrt\n",
    "\n",
    "def to_sqrt():\n",
    "  def is_prime(number):\n",
    "    limit = int(sqrt(number))        # The highest number we have to check\n",
    "    for d in range(3, limit + 1, 2): # check odd divisors from 3 to limit\n",
    "      if number % d == 0:            # If there's no remainder, it divides,\n",
    "        return False                 # so we haven't got a prime\n",
    "    return True                      # If we get this far, it must be prime\n",
    "  yield 2                            # Start with 2\n",
    "  for n in count(3, 2):              # Then do the odd numbers from 3 upwards\n",
    "    if is_prime(n):                  # checking each to see if it's prime\n",
    "      yield n"
   ]
  },
  {
   "cell_type": "markdown",
   "metadata": {
    "slideshow": {
     "slide_type": "slide"
    }
   },
   "source": [
    "## How much faster is this?"
   ]
  },
  {
   "cell_type": "code",
   "execution_count": null,
   "metadata": {
    "slideshow": {
     "slide_type": "fragment"
    }
   },
   "outputs": [],
   "source": [
    "timing_plot(to_sqrt)"
   ]
  },
  {
   "cell_type": "markdown",
   "metadata": {
    "slideshow": {
     "slide_type": "slide"
    }
   },
   "source": [
    "## Is this the best we can do?"
   ]
  },
  {
   "cell_type": "markdown",
   "metadata": {
    "slideshow": {
     "slide_type": "fragment"
    }
   },
   "source": [
    "We are still checking more numbers than necessary..."
   ]
  },
  {
   "cell_type": "markdown",
   "metadata": {
    "slideshow": {
     "slide_type": "fragment"
    }
   },
   "source": [
    "For example, once we've tested for divisibility by 3 and 5,\\\n",
    "we shouldn't need to test their multiples (e.g. 9, 15, 21, 25, 30, 45... etc)."
   ]
  },
  {
   "cell_type": "markdown",
   "metadata": {
    "slideshow": {
     "slide_type": "fragment"
    }
   },
   "source": [
    "i.e. we only need to check for divisibility by prime numbers."
   ]
  },
  {
   "cell_type": "markdown",
   "metadata": {
    "slideshow": {
     "slide_type": "slide"
    }
   },
   "source": [
    "## What about storing a list of primes so far, and only checking those?"
   ]
  },
  {
   "cell_type": "code",
   "execution_count": null,
   "metadata": {
    "slideshow": {
     "slide_type": "fragment"
    }
   },
   "outputs": [],
   "source": [
    "from itertools import count\n",
    "\n",
    "def check_primes():\n",
    "  yield 2                       # Initially yield 2, then we only consider odd numbers\n",
    "  primes = []                   # Keep a list of all the primes seen so far\n",
    "  for candidate in count(3, 2): # Let's check all odd number starting from 3\n",
    "    isprime = True              # Start by assuming it is a prime\n",
    "    for p in primes:            # Then start going through all our known primes\n",
    "      if p * p > candidate:     # If the next prime is > sqrt(candidate)\n",
    "        break                   # No need to continue looking at higher primes\n",
    "      if candidate % p == 0:    # Else, if candidate is divisible by this prime\n",
    "        isprime = False         # Our candidate was not a prime after all\n",
    "        break                   # And stop looking at more primes\n",
    "    if isprime:                 # If our candidate turned out to be a prime number\n",
    "      yield candidate           # Yield it to the caller\n",
    "      primes.append(candidate)  # And add it to the end of our list of primes"
   ]
  },
  {
   "cell_type": "code",
   "execution_count": null,
   "metadata": {
    "slideshow": {
     "slide_type": "slide"
    }
   },
   "outputs": [],
   "source": [
    "timing_plot(check_primes)"
   ]
  },
  {
   "cell_type": "markdown",
   "metadata": {
    "slideshow": {
     "slide_type": "slide"
    }
   },
   "source": [
    "### What next?\n",
    "\n",
    "Test dividing is (relatively) slow.\n",
    "Instead of test dividing candidate primes, we can generate and eliminate the composite numbers, leaving behind the primes."
   ]
  },
  {
   "cell_type": "markdown",
   "metadata": {
    "slideshow": {
     "slide_type": "slide"
    }
   },
   "source": [
    "## The sieve of Eratosthenes"
   ]
  },
  {
   "cell_type": "markdown",
   "metadata": {
    "slideshow": {
     "slide_type": "fragment"
    }
   },
   "source": [
    "1. start with a grid of numbers, from 2 to max_prime\n",
    "2. find first (next) unmarked number, return that as a prime\n",
    "3. mark all multiples of it (actually just from $n^2$ onwards)\n",
    "4. go back to step 2.\n",
    "\n",
    "<img src=\"resources/sieve.png\" id=\"sieve\" />"
   ]
  },
  {
   "cell_type": "code",
   "execution_count": null,
   "metadata": {
    "slideshow": {
     "slide_type": "slide"
    }
   },
   "outputs": [],
   "source": [
    "def simple_sieve(max_prime):\n",
    "  sieve = [True] * max_prime             # Create the \"sieve\" (an array of booleans)\n",
    "  for i in range(2, max_prime):          # Loop over the cells of the sieve from 2\n",
    "    if sieve[i]:                         # If this cell is True\n",
    "      yield i                            # It's a prime\n",
    "      for j in range(2*i, max_prime, i): # So loop over all its multiples\n",
    "        sieve[j] = False                 # and mark them as non-prime"
   ]
  },
  {
   "cell_type": "code",
   "execution_count": null,
   "metadata": {},
   "outputs": [],
   "source": [
    "timing_plot(simple_sieve)"
   ]
  },
  {
   "cell_type": "code",
   "execution_count": null,
   "metadata": {},
   "outputs": [],
   "source": [
    "def improved_sieve(max_prime):\n",
    "    yield 2                                      # Yield the only even prime\n",
    "    sieve = [True] * (max_prime // 2)            # Create sieve of only odd numbers (half the size)\n",
    "    for i in range(3, max_prime, 2):             # Loop over only odd numbers from 3\n",
    "        if sieve[i//2]:                          # If this cell is True\n",
    "            yield i                              # It's a prime\n",
    "            for j in range(i*i, max_prime, i*2): # Loop over odd multiples starting from its square\n",
    "                sieve[j//2] = False              # and mark them as non-prime"
   ]
  },
  {
   "cell_type": "code",
   "execution_count": null,
   "metadata": {
    "slideshow": {
     "slide_type": "slide"
    }
   },
   "outputs": [],
   "source": [
    "timing_plot(improved_sieve)"
   ]
  },
  {
   "cell_type": "markdown",
   "metadata": {
    "slideshow": {
     "slide_type": "slide"
    }
   },
   "source": [
    "## Problems?"
   ]
  },
  {
   "cell_type": "markdown",
   "metadata": {
    "slideshow": {
     "slide_type": "fragment"
    }
   },
   "source": [
    "### Memory use\n",
    "- Use packed data structure (e.g. struct module), encode 8 cells/byte\n",
    "- Also skip multiples of 3 (only check numbers of form $6n \\pm 1$)"
   ]
  },
  {
   "cell_type": "markdown",
   "metadata": {
    "slideshow": {
     "slide_type": "fragment"
    }
   },
   "source": [
    "### Need to allocate storage upfront\n",
    "Often don't know in advance how much to allocate\n",
    "(e.g. first 100k primes)"
   ]
  },
  {
   "cell_type": "markdown",
   "metadata": {
    "slideshow": {
     "slide_type": "slide"
    }
   },
   "source": [
    "## What can we do about it?\n",
    "\n",
    "What about switching things around… for each prime, we store the next multiple higher than the current candidate, then we just have to check if candidate is in the list, not multiple test divisions per candidate.\n",
    "For each multiple in the list, we store the original prime, so that when we reach it, we we can add it to generate the next multiple. But it could be a multiple of more than one prime, so we have to store a list of source primes:"
   ]
  },
  {
   "cell_type": "code",
   "execution_count": null,
   "metadata": {
    "slideshow": {
     "slide_type": "fragment"
    }
   },
   "outputs": [],
   "source": [
    "from itertools import count\n",
    "\n",
    "def unbounded_sieve():\n",
    "  state = {}\n",
    "  for candidate in count(2):\n",
    "    if candidate in state:\n",
    "      for factor in state[candidate]:\n",
    "        if candidate + factor in state:\n",
    "          state[candidate + factor].append(factor)\n",
    "        else:\n",
    "          state[candidate + factor] = [factor]\n",
    "      del state[candidate]\n",
    "    else:\n",
    "      yield candidate\n",
    "      state[2 * candidate] = [candidate]"
   ]
  },
  {
   "cell_type": "code",
   "execution_count": null,
   "metadata": {
    "slideshow": {
     "slide_type": "slide"
    }
   },
   "outputs": [],
   "source": [
    "timing_plot(unbounded_sieve)"
   ]
  },
  {
   "cell_type": "markdown",
   "metadata": {
    "slideshow": {
     "slide_type": "slide"
    }
   },
   "source": [
    "We can make a few optimisations:\\\n",
    "Defaultdict so we don’t have to check if a number is present\\\n",
    "We skip even numbers, and therefore even multiples of primes\\\n",
    "When we find a prime, p, the first multiple we have to add to the state is p^2, because smaller multiples will have another factor less than p  (p*q, where q < p).\n"
   ]
  },
  {
   "cell_type": "code",
   "execution_count": null,
   "metadata": {
    "slideshow": {
     "slide_type": "fragment"
    }
   },
   "outputs": [],
   "source": [
    "from collections import defaultdict\n",
    "from itertools import count\n",
    "\n",
    "def unbounded_sieve2():\n",
    "  yield 2\n",
    "  state = defaultdict(list)\n",
    "  for candidate in count(3, 2):\n",
    "    if candidate in state:\n",
    "      for inc in state[candidate]:\n",
    "        state[candidate + inc].append(inc)\n",
    "      del state[candidate]\n",
    "    else:\n",
    "      yield candidate\n",
    "      state[candidate * candidate] = [2 * candidate]"
   ]
  },
  {
   "cell_type": "code",
   "execution_count": null,
   "metadata": {
    "slideshow": {
     "slide_type": "slide"
    }
   },
   "outputs": [],
   "source": [
    "timing_plot(unbounded_sieve2)"
   ]
  },
  {
   "cell_type": "markdown",
   "metadata": {
    "slideshow": {
     "slide_type": "slide"
    }
   },
   "source": [
    "## But!\n",
    "\n",
    "If you really need fast primes, don't reinvent the wheel!\n",
    "A properly optimised native C library is still much faster..."
   ]
  },
  {
   "cell_type": "code",
   "execution_count": null,
   "metadata": {
    "slideshow": {
     "slide_type": "slide"
    }
   },
   "outputs": [],
   "source": [
    "from pyprimesieve import primes\n",
    "\n",
    "def library(n):\n",
    "  return primes(n)\n",
    "\n",
    "timing_plot(library)"
   ]
  }
 ],
 "metadata": {
  "celltoolbar": "Slideshow",
  "kernelspec": {
   "display_name": "Python 3 (ipykernel)",
   "language": "python",
   "name": "python3"
  },
  "language_info": {
   "codemirror_mode": {
    "name": "ipython",
    "version": 3
   },
   "file_extension": ".py",
   "mimetype": "text/x-python",
   "name": "python",
   "nbconvert_exporter": "python",
   "pygments_lexer": "ipython3",
   "version": "3.8.12"
  },
  "livereveal": {
   "scroll": "True",
   "start_slideshow_at": "selected",
   "theme": "serif",
   "transition": "convex"
  },
  "rise": {
   "auto_select": "code",
   "enable_chalkboard": true,
   "scroll": true
  },
  "widgets": {
   "application/vnd.jupyter.widget-state+json": {
    "state": {},
    "version_major": 1,
    "version_minor": 0
   }
  }
 },
 "nbformat": 4,
 "nbformat_minor": 4
}
