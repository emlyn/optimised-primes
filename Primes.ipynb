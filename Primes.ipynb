{
 "cells": [
  {
   "cell_type": "code",
   "execution_count": 1,
   "metadata": {
    "slideshow": {
     "slide_type": "skip"
    }
   },
   "outputs": [
    {
     "data": {
      "text/html": [
       "\n",
       "    <div class=\"bk-root\">\n",
       "        <a href=\"https://bokeh.pydata.org\" target=\"_blank\" class=\"bk-logo bk-logo-small bk-logo-notebook\"></a>\n",
       "        <span id=\"797ff86c-1da3-490f-a069-2f70b8030e6b\">Loading BokehJS ...</span>\n",
       "    </div>"
      ]
     },
     "metadata": {},
     "output_type": "display_data"
    },
    {
     "data": {
      "application/javascript": [
       "\n",
       "(function(root) {\n",
       "  function now() {\n",
       "    return new Date();\n",
       "  }\n",
       "\n",
       "  var force = true;\n",
       "\n",
       "  if (typeof (root._bokeh_onload_callbacks) === \"undefined\" || force === true) {\n",
       "    root._bokeh_onload_callbacks = [];\n",
       "    root._bokeh_is_loading = undefined;\n",
       "  }\n",
       "\n",
       "  var JS_MIME_TYPE = 'application/javascript';\n",
       "  var HTML_MIME_TYPE = 'text/html';\n",
       "  var EXEC_MIME_TYPE = 'application/vnd.bokehjs_exec.v0+json';\n",
       "  var CLASS_NAME = 'output_bokeh rendered_html';\n",
       "\n",
       "  /**\n",
       "   * Render data to the DOM node\n",
       "   */\n",
       "  function render(props, node) {\n",
       "    var script = document.createElement(\"script\");\n",
       "    node.appendChild(script);\n",
       "  }\n",
       "\n",
       "  /**\n",
       "   * Handle when an output is cleared or removed\n",
       "   */\n",
       "  function handleClearOutput(event, handle) {\n",
       "    var cell = handle.cell;\n",
       "\n",
       "    var id = cell.output_area._bokeh_element_id;\n",
       "    var server_id = cell.output_area._bokeh_server_id;\n",
       "    // Clean up Bokeh references\n",
       "    if (id !== undefined) {\n",
       "      Bokeh.index[id].model.document.clear();\n",
       "      delete Bokeh.index[id];\n",
       "    }\n",
       "\n",
       "    if (server_id !== undefined) {\n",
       "      // Clean up Bokeh references\n",
       "      var cmd = \"from bokeh.io.state import curstate; print(curstate().uuid_to_server['\" + server_id + \"'].get_sessions()[0].document.roots[0]._id)\";\n",
       "      cell.notebook.kernel.execute(cmd, {\n",
       "        iopub: {\n",
       "          output: function(msg) {\n",
       "            var element_id = msg.content.text.trim();\n",
       "            Bokeh.index[element_id].model.document.clear();\n",
       "            delete Bokeh.index[element_id];\n",
       "          }\n",
       "        }\n",
       "      });\n",
       "      // Destroy server and session\n",
       "      var cmd = \"import bokeh.io.notebook as ion; ion.destroy_server('\" + server_id + \"')\";\n",
       "      cell.notebook.kernel.execute(cmd);\n",
       "    }\n",
       "  }\n",
       "\n",
       "  /**\n",
       "   * Handle when a new output is added\n",
       "   */\n",
       "  function handleAddOutput(event, handle) {\n",
       "    var output_area = handle.output_area;\n",
       "    var output = handle.output;\n",
       "\n",
       "    // limit handleAddOutput to display_data with EXEC_MIME_TYPE content only\n",
       "    if ((output.output_type != \"display_data\") || (!output.data.hasOwnProperty(EXEC_MIME_TYPE))) {\n",
       "      return\n",
       "    }\n",
       "\n",
       "    var toinsert = output_area.element.find(\".\" + CLASS_NAME.split(' ')[0]);\n",
       "\n",
       "    if (output.metadata[EXEC_MIME_TYPE][\"id\"] !== undefined) {\n",
       "      toinsert[0].firstChild.textContent = output.data[JS_MIME_TYPE];\n",
       "      // store reference to embed id on output_area\n",
       "      output_area._bokeh_element_id = output.metadata[EXEC_MIME_TYPE][\"id\"];\n",
       "    }\n",
       "    if (output.metadata[EXEC_MIME_TYPE][\"server_id\"] !== undefined) {\n",
       "      var bk_div = document.createElement(\"div\");\n",
       "      bk_div.innerHTML = output.data[HTML_MIME_TYPE];\n",
       "      var script_attrs = bk_div.children[0].attributes;\n",
       "      for (var i = 0; i < script_attrs.length; i++) {\n",
       "        toinsert[0].firstChild.setAttribute(script_attrs[i].name, script_attrs[i].value);\n",
       "      }\n",
       "      // store reference to server id on output_area\n",
       "      output_area._bokeh_server_id = output.metadata[EXEC_MIME_TYPE][\"server_id\"];\n",
       "    }\n",
       "  }\n",
       "\n",
       "  function register_renderer(events, OutputArea) {\n",
       "\n",
       "    function append_mime(data, metadata, element) {\n",
       "      // create a DOM node to render to\n",
       "      var toinsert = this.create_output_subarea(\n",
       "        metadata,\n",
       "        CLASS_NAME,\n",
       "        EXEC_MIME_TYPE\n",
       "      );\n",
       "      this.keyboard_manager.register_events(toinsert);\n",
       "      // Render to node\n",
       "      var props = {data: data, metadata: metadata[EXEC_MIME_TYPE]};\n",
       "      render(props, toinsert[0]);\n",
       "      element.append(toinsert);\n",
       "      return toinsert\n",
       "    }\n",
       "\n",
       "    /* Handle when an output is cleared or removed */\n",
       "    events.on('clear_output.CodeCell', handleClearOutput);\n",
       "    events.on('delete.Cell', handleClearOutput);\n",
       "\n",
       "    /* Handle when a new output is added */\n",
       "    events.on('output_added.OutputArea', handleAddOutput);\n",
       "\n",
       "    /**\n",
       "     * Register the mime type and append_mime function with output_area\n",
       "     */\n",
       "    OutputArea.prototype.register_mime_type(EXEC_MIME_TYPE, append_mime, {\n",
       "      /* Is output safe? */\n",
       "      safe: true,\n",
       "      /* Index of renderer in `output_area.display_order` */\n",
       "      index: 0\n",
       "    });\n",
       "  }\n",
       "\n",
       "  // register the mime type if in Jupyter Notebook environment and previously unregistered\n",
       "  if (root.Jupyter !== undefined) {\n",
       "    var events = require('base/js/events');\n",
       "    var OutputArea = require('notebook/js/outputarea').OutputArea;\n",
       "\n",
       "    if (OutputArea.prototype.mime_types().indexOf(EXEC_MIME_TYPE) == -1) {\n",
       "      register_renderer(events, OutputArea);\n",
       "    }\n",
       "  }\n",
       "\n",
       "  \n",
       "  if (typeof (root._bokeh_timeout) === \"undefined\" || force === true) {\n",
       "    root._bokeh_timeout = Date.now() + 5000;\n",
       "    root._bokeh_failed_load = false;\n",
       "  }\n",
       "\n",
       "  var NB_LOAD_WARNING = {'data': {'text/html':\n",
       "     \"<div style='background-color: #fdd'>\\n\"+\n",
       "     \"<p>\\n\"+\n",
       "     \"BokehJS does not appear to have successfully loaded. If loading BokehJS from CDN, this \\n\"+\n",
       "     \"may be due to a slow or bad network connection. Possible fixes:\\n\"+\n",
       "     \"</p>\\n\"+\n",
       "     \"<ul>\\n\"+\n",
       "     \"<li>re-rerun `output_notebook()` to attempt to load from CDN again, or</li>\\n\"+\n",
       "     \"<li>use INLINE resources instead, as so:</li>\\n\"+\n",
       "     \"</ul>\\n\"+\n",
       "     \"<code>\\n\"+\n",
       "     \"from bokeh.resources import INLINE\\n\"+\n",
       "     \"output_notebook(resources=INLINE)\\n\"+\n",
       "     \"</code>\\n\"+\n",
       "     \"</div>\"}};\n",
       "\n",
       "  function display_loaded() {\n",
       "    var el = document.getElementById(\"797ff86c-1da3-490f-a069-2f70b8030e6b\");\n",
       "    if (el != null) {\n",
       "      el.textContent = \"BokehJS is loading...\";\n",
       "    }\n",
       "    if (root.Bokeh !== undefined) {\n",
       "      if (el != null) {\n",
       "        el.textContent = \"BokehJS \" + root.Bokeh.version + \" successfully loaded.\";\n",
       "      }\n",
       "    } else if (Date.now() < root._bokeh_timeout) {\n",
       "      setTimeout(display_loaded, 100)\n",
       "    }\n",
       "  }\n",
       "\n",
       "\n",
       "  function run_callbacks() {\n",
       "    try {\n",
       "      root._bokeh_onload_callbacks.forEach(function(callback) { callback() });\n",
       "    }\n",
       "    finally {\n",
       "      delete root._bokeh_onload_callbacks\n",
       "    }\n",
       "    console.info(\"Bokeh: all callbacks have finished\");\n",
       "  }\n",
       "\n",
       "  function load_libs(js_urls, callback) {\n",
       "    root._bokeh_onload_callbacks.push(callback);\n",
       "    if (root._bokeh_is_loading > 0) {\n",
       "      console.log(\"Bokeh: BokehJS is being loaded, scheduling callback at\", now());\n",
       "      return null;\n",
       "    }\n",
       "    if (js_urls == null || js_urls.length === 0) {\n",
       "      run_callbacks();\n",
       "      return null;\n",
       "    }\n",
       "    console.log(\"Bokeh: BokehJS not loaded, scheduling load and callback at\", now());\n",
       "    root._bokeh_is_loading = js_urls.length;\n",
       "    for (var i = 0; i < js_urls.length; i++) {\n",
       "      var url = js_urls[i];\n",
       "      var s = document.createElement('script');\n",
       "      s.src = url;\n",
       "      s.async = false;\n",
       "      s.onreadystatechange = s.onload = function() {\n",
       "        root._bokeh_is_loading--;\n",
       "        if (root._bokeh_is_loading === 0) {\n",
       "          console.log(\"Bokeh: all BokehJS libraries loaded\");\n",
       "          run_callbacks()\n",
       "        }\n",
       "      };\n",
       "      s.onerror = function() {\n",
       "        console.warn(\"failed to load library \" + url);\n",
       "      };\n",
       "      console.log(\"Bokeh: injecting script tag for BokehJS library: \", url);\n",
       "      document.getElementsByTagName(\"head\")[0].appendChild(s);\n",
       "    }\n",
       "  };var element = document.getElementById(\"797ff86c-1da3-490f-a069-2f70b8030e6b\");\n",
       "  if (element == null) {\n",
       "    console.log(\"Bokeh: ERROR: autoload.js configured with elementid '797ff86c-1da3-490f-a069-2f70b8030e6b' but no matching script tag was found. \")\n",
       "    return false;\n",
       "  }\n",
       "\n",
       "  var js_urls = [\"https://cdn.pydata.org/bokeh/release/bokeh-0.12.14.min.js\", \"https://cdn.pydata.org/bokeh/release/bokeh-widgets-0.12.14.min.js\", \"https://cdn.pydata.org/bokeh/release/bokeh-tables-0.12.14.min.js\", \"https://cdn.pydata.org/bokeh/release/bokeh-gl-0.12.14.min.js\"];\n",
       "\n",
       "  var inline_js = [\n",
       "    function(Bokeh) {\n",
       "      Bokeh.set_log_level(\"info\");\n",
       "    },\n",
       "    \n",
       "    function(Bokeh) {\n",
       "      \n",
       "    },\n",
       "    function(Bokeh) {\n",
       "      console.log(\"Bokeh: injecting CSS: https://cdn.pydata.org/bokeh/release/bokeh-0.12.14.min.css\");\n",
       "      Bokeh.embed.inject_css(\"https://cdn.pydata.org/bokeh/release/bokeh-0.12.14.min.css\");\n",
       "      console.log(\"Bokeh: injecting CSS: https://cdn.pydata.org/bokeh/release/bokeh-widgets-0.12.14.min.css\");\n",
       "      Bokeh.embed.inject_css(\"https://cdn.pydata.org/bokeh/release/bokeh-widgets-0.12.14.min.css\");\n",
       "      console.log(\"Bokeh: injecting CSS: https://cdn.pydata.org/bokeh/release/bokeh-tables-0.12.14.min.css\");\n",
       "      Bokeh.embed.inject_css(\"https://cdn.pydata.org/bokeh/release/bokeh-tables-0.12.14.min.css\");\n",
       "    }\n",
       "  ];\n",
       "\n",
       "  function run_inline_js() {\n",
       "    \n",
       "    if ((root.Bokeh !== undefined) || (force === true)) {\n",
       "      for (var i = 0; i < inline_js.length; i++) {\n",
       "        inline_js[i].call(root, root.Bokeh);\n",
       "      }if (force === true) {\n",
       "        display_loaded();\n",
       "      }} else if (Date.now() < root._bokeh_timeout) {\n",
       "      setTimeout(run_inline_js, 100);\n",
       "    } else if (!root._bokeh_failed_load) {\n",
       "      console.log(\"Bokeh: BokehJS failed to load within specified timeout.\");\n",
       "      root._bokeh_failed_load = true;\n",
       "    } else if (force !== true) {\n",
       "      var cell = $(document.getElementById(\"797ff86c-1da3-490f-a069-2f70b8030e6b\")).parents('.cell').data().cell;\n",
       "      cell.output_area.append_execute_result(NB_LOAD_WARNING)\n",
       "    }\n",
       "\n",
       "  }\n",
       "\n",
       "  if (root._bokeh_is_loading === 0) {\n",
       "    console.log(\"Bokeh: BokehJS loaded, going straight to plotting\");\n",
       "    run_inline_js();\n",
       "  } else {\n",
       "    load_libs(js_urls, function() {\n",
       "      console.log(\"Bokeh: BokehJS plotting callback run at\", now());\n",
       "      run_inline_js();\n",
       "    });\n",
       "  }\n",
       "}(window));"
      ],
      "application/vnd.bokehjs_load.v0+json": "\n(function(root) {\n  function now() {\n    return new Date();\n  }\n\n  var force = true;\n\n  if (typeof (root._bokeh_onload_callbacks) === \"undefined\" || force === true) {\n    root._bokeh_onload_callbacks = [];\n    root._bokeh_is_loading = undefined;\n  }\n\n  \n\n  \n  if (typeof (root._bokeh_timeout) === \"undefined\" || force === true) {\n    root._bokeh_timeout = Date.now() + 5000;\n    root._bokeh_failed_load = false;\n  }\n\n  var NB_LOAD_WARNING = {'data': {'text/html':\n     \"<div style='background-color: #fdd'>\\n\"+\n     \"<p>\\n\"+\n     \"BokehJS does not appear to have successfully loaded. If loading BokehJS from CDN, this \\n\"+\n     \"may be due to a slow or bad network connection. Possible fixes:\\n\"+\n     \"</p>\\n\"+\n     \"<ul>\\n\"+\n     \"<li>re-rerun `output_notebook()` to attempt to load from CDN again, or</li>\\n\"+\n     \"<li>use INLINE resources instead, as so:</li>\\n\"+\n     \"</ul>\\n\"+\n     \"<code>\\n\"+\n     \"from bokeh.resources import INLINE\\n\"+\n     \"output_notebook(resources=INLINE)\\n\"+\n     \"</code>\\n\"+\n     \"</div>\"}};\n\n  function display_loaded() {\n    var el = document.getElementById(\"797ff86c-1da3-490f-a069-2f70b8030e6b\");\n    if (el != null) {\n      el.textContent = \"BokehJS is loading...\";\n    }\n    if (root.Bokeh !== undefined) {\n      if (el != null) {\n        el.textContent = \"BokehJS \" + root.Bokeh.version + \" successfully loaded.\";\n      }\n    } else if (Date.now() < root._bokeh_timeout) {\n      setTimeout(display_loaded, 100)\n    }\n  }\n\n\n  function run_callbacks() {\n    try {\n      root._bokeh_onload_callbacks.forEach(function(callback) { callback() });\n    }\n    finally {\n      delete root._bokeh_onload_callbacks\n    }\n    console.info(\"Bokeh: all callbacks have finished\");\n  }\n\n  function load_libs(js_urls, callback) {\n    root._bokeh_onload_callbacks.push(callback);\n    if (root._bokeh_is_loading > 0) {\n      console.log(\"Bokeh: BokehJS is being loaded, scheduling callback at\", now());\n      return null;\n    }\n    if (js_urls == null || js_urls.length === 0) {\n      run_callbacks();\n      return null;\n    }\n    console.log(\"Bokeh: BokehJS not loaded, scheduling load and callback at\", now());\n    root._bokeh_is_loading = js_urls.length;\n    for (var i = 0; i < js_urls.length; i++) {\n      var url = js_urls[i];\n      var s = document.createElement('script');\n      s.src = url;\n      s.async = false;\n      s.onreadystatechange = s.onload = function() {\n        root._bokeh_is_loading--;\n        if (root._bokeh_is_loading === 0) {\n          console.log(\"Bokeh: all BokehJS libraries loaded\");\n          run_callbacks()\n        }\n      };\n      s.onerror = function() {\n        console.warn(\"failed to load library \" + url);\n      };\n      console.log(\"Bokeh: injecting script tag for BokehJS library: \", url);\n      document.getElementsByTagName(\"head\")[0].appendChild(s);\n    }\n  };var element = document.getElementById(\"797ff86c-1da3-490f-a069-2f70b8030e6b\");\n  if (element == null) {\n    console.log(\"Bokeh: ERROR: autoload.js configured with elementid '797ff86c-1da3-490f-a069-2f70b8030e6b' but no matching script tag was found. \")\n    return false;\n  }\n\n  var js_urls = [\"https://cdn.pydata.org/bokeh/release/bokeh-0.12.14.min.js\", \"https://cdn.pydata.org/bokeh/release/bokeh-widgets-0.12.14.min.js\", \"https://cdn.pydata.org/bokeh/release/bokeh-tables-0.12.14.min.js\", \"https://cdn.pydata.org/bokeh/release/bokeh-gl-0.12.14.min.js\"];\n\n  var inline_js = [\n    function(Bokeh) {\n      Bokeh.set_log_level(\"info\");\n    },\n    \n    function(Bokeh) {\n      \n    },\n    function(Bokeh) {\n      console.log(\"Bokeh: injecting CSS: https://cdn.pydata.org/bokeh/release/bokeh-0.12.14.min.css\");\n      Bokeh.embed.inject_css(\"https://cdn.pydata.org/bokeh/release/bokeh-0.12.14.min.css\");\n      console.log(\"Bokeh: injecting CSS: https://cdn.pydata.org/bokeh/release/bokeh-widgets-0.12.14.min.css\");\n      Bokeh.embed.inject_css(\"https://cdn.pydata.org/bokeh/release/bokeh-widgets-0.12.14.min.css\");\n      console.log(\"Bokeh: injecting CSS: https://cdn.pydata.org/bokeh/release/bokeh-tables-0.12.14.min.css\");\n      Bokeh.embed.inject_css(\"https://cdn.pydata.org/bokeh/release/bokeh-tables-0.12.14.min.css\");\n    }\n  ];\n\n  function run_inline_js() {\n    \n    if ((root.Bokeh !== undefined) || (force === true)) {\n      for (var i = 0; i < inline_js.length; i++) {\n        inline_js[i].call(root, root.Bokeh);\n      }if (force === true) {\n        display_loaded();\n      }} else if (Date.now() < root._bokeh_timeout) {\n      setTimeout(run_inline_js, 100);\n    } else if (!root._bokeh_failed_load) {\n      console.log(\"Bokeh: BokehJS failed to load within specified timeout.\");\n      root._bokeh_failed_load = true;\n    } else if (force !== true) {\n      var cell = $(document.getElementById(\"797ff86c-1da3-490f-a069-2f70b8030e6b\")).parents('.cell').data().cell;\n      cell.output_area.append_execute_result(NB_LOAD_WARNING)\n    }\n\n  }\n\n  if (root._bokeh_is_loading === 0) {\n    console.log(\"Bokeh: BokehJS loaded, going straight to plotting\");\n    run_inline_js();\n  } else {\n    load_libs(js_urls, function() {\n      console.log(\"Bokeh: BokehJS plotting callback run at\", now());\n      run_inline_js();\n    });\n  }\n}(window));"
     },
     "metadata": {},
     "output_type": "display_data"
    },
    {
     "data": {
      "application/javascript": [
       "\n",
       "require(['base/js/namespace', 'base/js/events'],\n",
       "function (Jupyter, events) {\n",
       "    function swap_src(el, src, t) {\n",
       "        console.log(\"swap\", el, src, t);\n",
       "        var old = el.src;\n",
       "        el.src = src;\n",
       "        setTimeout(function() {el.src = old;}, t);\n",
       "    }\n",
       "\n",
       "    // save a reference to the cell we're currently executing inside of,\n",
       "    // to avoid clearing it later (which would remove this js)\n",
       "    var this_cell = $(element).closest('.cell').data('cell');\n",
       "    function init_presentation() {\n",
       "        // Clear (other) cell outputs\n",
       "        Jupyter.notebook.get_cells().forEach(function (cell) {\n",
       "            if (cell.cell_type === 'code' && cell !== this_cell) {\n",
       "                cell.clear_output();\n",
       "            }\n",
       "            Jupyter.notebook.set_dirty(true);\n",
       "        });\n",
       "        // Make sieve clickable to start gif\n",
       "        sieve.src = 'resources/sieve1.png';\n",
       "        sieve.onclick = function() {\n",
       "            swap(document.getElementById(\"sieve\"), 'resources/sieve.gif', 37000);\n",
       "        };\n",
       "    }\n",
       "\n",
       "    if (Jupyter.notebook._fully_loaded) {\n",
       "        // notebook has already been fully loaded, so init now\n",
       "        init_presentation();\n",
       "    }\n",
       "    // Also clear on any future load\n",
       "    // (e.g. when notebook finishes loading, or when a checkpoint is reloaded)\n",
       "    events.on('notebook_loaded.Notebook', init_presentation);\n",
       "});\n",
       "\n",
       "\n"
      ],
      "text/plain": [
       "<IPython.core.display.Javascript object>"
      ]
     },
     "execution_count": 1,
     "metadata": {},
     "output_type": "execute_result"
    }
   ],
   "source": [
    "########################################\n",
    "## Evaluate this cell before starting ##\n",
    "########################################\n",
    "\n",
    "import timeit\n",
    "from collections import OrderedDict\n",
    "from itertools import islice\n",
    "from math import log\n",
    "from bokeh.models.formatters import NumeralTickFormatter\n",
    "from bokeh.models.ranges import DataRange1d\n",
    "from bokeh.models.sources import ColumnDataSource\n",
    "from bokeh.palettes import Category10\n",
    "from bokeh.plotting import figure\n",
    "from bokeh.io import output_notebook, show, push_notebook\n",
    "\n",
    "output_notebook()\n",
    "\n",
    "timing_palette = Category10[10]\n",
    "timing_lines = OrderedDict()\n",
    "\n",
    "def iterations():\n",
    "    m = 1\n",
    "    while True:\n",
    "        for i in (1, 2, 5):\n",
    "            yield m * i\n",
    "        m *= 10\n",
    "\n",
    "def approx_nth(n):\n",
    "    if n < 6:\n",
    "        return int(2.2 * n + 1)\n",
    "    else:\n",
    "        return int(n * (log(n) + log(log(n))))\n",
    "\n",
    "def time_gen(genfn, num):\n",
    "    def timed():\n",
    "        return list(islice(genfn(), num - 1, num))[0]\n",
    "    return min(timeit.repeat(timed, number=1, repeat=3, globals=globals()))\n",
    "\n",
    "def timing_plot(genfn, need_nth=False):\n",
    "    def plot(fig, name, vals, num, dash='solid'):\n",
    "        col = timing_palette[num % len(timing_palette)]\n",
    "        fig.line('x', 'y', legend=name, source=vals, line_dash=dash, color=col)\n",
    "        fig.scatter('x', 'y', legend=name, source=vals, marker='o', color=col)\n",
    "    name = genfn.__name__\n",
    "    exist = None\n",
    "    if True: # log-log\n",
    "        extra_args = dict(y_range=[1e-6, 1], x_range=DataRange1d(start=1),\n",
    "                          x_axis_type='log', y_axis_type='log')\n",
    "    else: # lin-lin\n",
    "        extra_args = dict(y_range=[0,1], x_range=DataRange1d(start=0))\n",
    "    fig = figure(plot_width=800, plot_height=400, toolbar_location='above', title=\"Timing\", **extra_args)\n",
    "    num = 0\n",
    "    for k, v in timing_lines.items():\n",
    "        plot(fig, k, v, num, 'dashed')\n",
    "        if k == name:\n",
    "            exist = num\n",
    "        num += 1\n",
    "    source = ColumnDataSource(data=dict(x=[], y=[]))\n",
    "    plot(fig, name, source, exist or num)\n",
    "    fig.xaxis.axis_label = \"Primes\"\n",
    "    fig.xaxis.formatter = NumeralTickFormatter(format='0[.]0 a')\n",
    "    fig.yaxis.axis_label = \"Seconds\"\n",
    "    fig.legend.location = 'top_left'\n",
    "    fig.legend.click_policy='hide'\n",
    "    fig.legend.background_fill_alpha = 0.5\n",
    "    handle = show(fig, notebook_handle=True)\n",
    "    for i in iterations():\n",
    "        if need_nth:\n",
    "            def gen():\n",
    "                return genfn(approx_nth(i))\n",
    "            gen.__name__ = genfn.__name__\n",
    "        else:\n",
    "            gen = genfn\n",
    "        t = time_gen(gen, i)\n",
    "        source.stream(dict(x=[i], y=[t]))\n",
    "        push_notebook(handle=handle)\n",
    "        if t >= 1: break\n",
    "    timing_lines[gen.__name__] = source.data\n",
    "\n",
    "from IPython.display import Javascript\n",
    "\n",
    "# Cell clearing code based on:\n",
    "# https://stackoverflow.com/questions/45638720/jupyter-programmatically-clear-output-from-all-cells-when-kernel-is-ready\n",
    "\n",
    "Javascript('''\n",
    "require(['base/js/namespace', 'base/js/events'],\n",
    "function (Jupyter, events) {\n",
    "    function swap_src(el, src, t) {\n",
    "        console.log(\"swap\", el, src, t);\n",
    "        var old = el.src;\n",
    "        el.src = src;\n",
    "        setTimeout(function() {el.src = old;}, t);\n",
    "    }\n",
    "\n",
    "    // save a reference to the cell we're currently executing inside of,\n",
    "    // to avoid clearing it later (which would remove this js)\n",
    "    var this_cell = $(element).closest('.cell').data('cell');\n",
    "    function init_presentation() {\n",
    "        // Clear (other) cell outputs\n",
    "        Jupyter.notebook.get_cells().forEach(function (cell) {\n",
    "            if (cell.cell_type === 'code' && cell !== this_cell) {\n",
    "                cell.clear_output();\n",
    "            }\n",
    "            Jupyter.notebook.set_dirty(true);\n",
    "        });\n",
    "        // Make sieve clickable to start gif\n",
    "        sieve.src = 'resources/sieve1.png';\n",
    "        sieve.onclick = function() {\n",
    "            swap(document.getElementById(\"sieve\"), 'resources/sieve.gif', 37000);\n",
    "        };\n",
    "    }\n",
    "\n",
    "    if (Jupyter.notebook._fully_loaded) {\n",
    "        // notebook has already been fully loaded, so init now\n",
    "        init_presentation();\n",
    "    }\n",
    "    // Also clear on any future load\n",
    "    // (e.g. when notebook finishes loading, or when a checkpoint is reloaded)\n",
    "    events.on('notebook_loaded.Notebook', init_presentation);\n",
    "});\n",
    "\n",
    "\n",
    "''')"
   ]
  },
  {
   "cell_type": "markdown",
   "metadata": {
    "slideshow": {
     "slide_type": "slide"
    }
   },
   "source": [
    "# Optimised Primes\n",
    "\n",
    "Emlyn Corrin\n",
    "\n",
    "<img data-gifffer=\"resources/sieve.gif\" />"
   ]
  },
  {
   "cell_type": "markdown",
   "metadata": {
    "slideshow": {
     "slide_type": "fragment"
    }
   },
   "source": [
    "![](resources/prime.png)\n",
    "<!--- Image (public domain) from:\n",
    "https://www.flickr.com/photos/114305749@N08/24438440681\n",
    "-->"
   ]
  },
  {
   "cell_type": "markdown",
   "metadata": {
    "slideshow": {
     "slide_type": "slide"
    }
   },
   "source": [
    "## Why?"
   ]
  },
  {
   "cell_type": "markdown",
   "metadata": {
    "slideshow": {
     "slide_type": "fragment"
    }
   },
   "source": [
    "- Online programming contests (Project Euler etc.)"
   ]
  },
  {
   "cell_type": "markdown",
   "metadata": {
    "slideshow": {
     "slide_type": "fragment"
    }
   },
   "source": [
    "- Mathematical or programming exercise"
   ]
  },
  {
   "cell_type": "markdown",
   "metadata": {
    "slideshow": {
     "slide_type": "fragment"
    }
   },
   "source": [
    "- Because it's fun!"
   ]
  },
  {
   "cell_type": "markdown",
   "metadata": {
    "slideshow": {
     "slide_type": "slide"
    }
   },
   "source": [
    "## What is a prime?"
   ]
  },
  {
   "cell_type": "markdown",
   "metadata": {
    "slideshow": {
     "slide_type": "fragment"
    }
   },
   "source": [
    "A prime number (or a prime) is a natural number greater than 1 that has no positive divisors other than 1 and itself.\n",
    "<div style=\"text-align: right\">&mdash; Wikipedia</div>"
   ]
  },
  {
   "cell_type": "code",
   "execution_count": 2,
   "metadata": {
    "slideshow": {
     "slide_type": "fragment"
    }
   },
   "outputs": [],
   "source": [
    "def is_prime(n):\n",
    "    # Greater than 1\n",
    "    if n <= 1:\n",
    "        return False\n",
    "    # Any positive divisors (> 1 and < n)?\n",
    "    for i in range(2, n):\n",
    "        if n % i == 0:\n",
    "            return False\n",
    "    # If not, it must be a prime\n",
    "    return True"
   ]
  },
  {
   "cell_type": "markdown",
   "metadata": {
    "slideshow": {
     "slide_type": "slide"
    }
   },
   "source": [
    "## Let's generate a few"
   ]
  },
  {
   "cell_type": "code",
   "execution_count": 3,
   "metadata": {},
   "outputs": [
    {
     "data": {
      "text/plain": [
       "[2, 3, 5, 7, 11, 13, 17, 19]"
      ]
     },
     "execution_count": 3,
     "metadata": {},
     "output_type": "execute_result"
    }
   ],
   "source": [
    "# All primes less than 20\n",
    "[i for i in range(20) if is_prime(i)]"
   ]
  },
  {
   "cell_type": "code",
   "execution_count": 4,
   "metadata": {
    "slideshow": {
     "slide_type": "fragment"
    }
   },
   "outputs": [
    {
     "name": "stdout",
     "output_type": "stream",
     "text": [
      "2, 3, 5, 7, 11, 13, 17, 19, 23, 29, 31, 37, 41, 43, 47, 53, 59, 61, 67, 71, 73, 79, 83, 89, 97, 101, 103, 107, 109, 113, 127, 131, 137, 139, 149, 151, 157, 163, 167, 173, 179, 181, 191, 193, 197, 199, 211, 223, 227, 229, 233, 239, 241, 251, 257, 263, 269, 271, 277, 281, 283, 293, 307, 311, 313, 317, 331, 337, 347, 349, 353, 359, 367, 373, 379, 383, 389, 397, 401, 409, 419, 421, 431, 433, 439, 443, 449, 457, 461, 463, 467, 479, 487, 491, 499, 503, 509, 521, 523, 541, 547, 557, 563, 569, 571, 577, 587, 593, 599, 601, 607, 613, 617, 619, 631, 641, 643, 647, 653, 659, 661, 673, 677, 683, 691, 701, 709, 719, 727, 733, 739, 743, 751, 757, 761, 769, 773, 787, 797, 809, 811, 821, 823, 827, 829, 839, 853, 857, 859, 863, 877, 881, 883, 887, 907, 911, 919, 929, 937, 941, 947, 953, 967, 971, 977, 983, 991, 997, 1009, 1013, 1019, 1021, 1031, 1033, 1039, 1049, 1051, 1061, 1063, 1069, 1087, 1091, 1093, 1097, 1103, 1109, 1117, 1123, 1129, 1151, 1153, 1163, 1171, 1181, 1187, 1193, 1201, 1213, 1217, 1223, 1229, 1231, 1237, 1249, 1259, 1277, 1279, 1283, 1289, 1291, 1297, 1301, 1303, 1307, 1319, 1321, 1327, 1361, 1367, 1373, 1381, 1399, 1409, 1423, 1427, 1429, 1433, 1439, 1447, 1451, 1453, 1459, 1471, 1481, 1483, 1487, 1489, 1493, 1499, 1511, 1523, 1531, 1543, 1549, 1553, 1559, 1567, 1571, 1579, 1583, 1597, 1601, 1607, 1609, 1613, 1619, 1621, 1627, 1637, 1657, 1663, 1667, 1669, 1693, 1697, 1699, 1709, 1721, 1723, 1733, 1741, 1747, 1753, 1759, 1777, 1783, 1787, 1789, 1801, 1811, 1823, 1831, 1847, 1861, 1867, 1871, 1873, 1877, 1879, 1889, 1901, 1907, 1913, 1931, 1933, 1949, 1951, 1973, 1979, 1987, 1993, 1997, 1999\n"
     ]
    }
   ],
   "source": [
    "# Primes less than 2000 (convert to string otherwise Jupyter only displays 1 per line)\n",
    "print(', '.join(str(i) for i in range(2000) if is_prime(i)))"
   ]
  },
  {
   "cell_type": "markdown",
   "metadata": {
    "slideshow": {
     "slide_type": "slide"
    }
   },
   "source": [
    "## What about generating them on demand"
   ]
  },
  {
   "cell_type": "code",
   "execution_count": 5,
   "metadata": {
    "scrolled": false,
    "slideshow": {
     "slide_type": "-"
    }
   },
   "outputs": [
    {
     "data": {
      "text/plain": [
       "[2, 3, 5, 7, 11, 13, 17, 19, 23, 29, 31, 37, 41, 43, 47, 53, 59, 61, 67, 71]"
      ]
     },
     "execution_count": 5,
     "metadata": {},
     "output_type": "execute_result"
    }
   ],
   "source": [
    "from itertools import count, islice\n",
    "\n",
    "def first_try():\n",
    "    for i in count():\n",
    "        if is_prime(i):\n",
    "            yield i\n",
    "\n",
    "# First 20 primes\n",
    "list(islice(first_try(), 20))"
   ]
  },
  {
   "cell_type": "markdown",
   "metadata": {
    "slideshow": {
     "slide_type": "slide"
    }
   },
   "source": [
    "## But how fast is it?"
   ]
  },
  {
   "cell_type": "code",
   "execution_count": 6,
   "metadata": {
    "scrolled": false,
    "slideshow": {
     "slide_type": "fragment"
    }
   },
   "outputs": [
    {
     "data": {
      "text/html": [
       "\n",
       "<div class=\"bk-root\">\n",
       "    <div class=\"bk-plotdiv\" id=\"57b69d99-9544-4548-bff1-f3634c189c68\"></div>\n",
       "</div>"
      ]
     },
     "metadata": {},
     "output_type": "display_data"
    },
    {
     "data": {
      "application/javascript": [
       "(function(root) {\n",
       "  function embed_document(root) {\n",
       "    \n",
       "  var docs_json = {\"d5fcefc1-1177-4cec-a754-021f2b553b3d\":{\"roots\":{\"references\":[{\"attributes\":{\"num_minor_ticks\":10},\"id\":\"357662bd-9f85-45b7-930e-c8e3f398e0b5\",\"type\":\"LogTicker\"},{\"attributes\":{\"callback\":null,\"column_names\":[\"x\",\"y\"],\"data\":{\"x\":[],\"y\":[]}},\"id\":\"50a47873-5ffe-465a-afc6-967212b293a9\",\"type\":\"ColumnDataSource\"},{\"attributes\":{\"ticker\":null},\"id\":\"b74c2afd-6aeb-4ac8-9945-507651b67a43\",\"type\":\"LogTickFormatter\"},{\"attributes\":{\"callback\":null,\"start\":1},\"id\":\"f4cc74c7-e855-451d-9511-7da8f7801f7f\",\"type\":\"DataRange1d\"},{\"attributes\":{\"num_minor_ticks\":10},\"id\":\"d1b95047-d0b1-4965-b044-ad36ddd97569\",\"type\":\"LogTicker\"},{\"attributes\":{},\"id\":\"1d5db41f-de6d-4193-9c34-7d768dd4b25c\",\"type\":\"LogScale\"},{\"attributes\":{\"axis_label\":\"Primes\",\"formatter\":{\"id\":\"1ac22dda-fe42-454b-b31e-e7d9f34a23f2\",\"type\":\"NumeralTickFormatter\"},\"plot\":{\"id\":\"02e9c23e-eec1-4c68-81f5-6ee96b6381a5\",\"subtype\":\"Figure\",\"type\":\"Plot\"},\"ticker\":{\"id\":\"357662bd-9f85-45b7-930e-c8e3f398e0b5\",\"type\":\"LogTicker\"}},\"id\":\"1029866c-c548-4866-bee2-d374e8efce67\",\"type\":\"LogAxis\"},{\"attributes\":{\"plot\":{\"id\":\"02e9c23e-eec1-4c68-81f5-6ee96b6381a5\",\"subtype\":\"Figure\",\"type\":\"Plot\"},\"ticker\":{\"id\":\"357662bd-9f85-45b7-930e-c8e3f398e0b5\",\"type\":\"LogTicker\"}},\"id\":\"646f6a6b-ea86-4133-8f65-7d6f09eb819b\",\"type\":\"Grid\"},{\"attributes\":{\"active_drag\":\"auto\",\"active_inspect\":\"auto\",\"active_scroll\":\"auto\",\"active_tap\":\"auto\",\"tools\":[{\"id\":\"7eec5490-fe4d-456a-bedd-af474089022b\",\"type\":\"PanTool\"},{\"id\":\"e868cddb-d252-43c2-ad68-5b532421660c\",\"type\":\"WheelZoomTool\"},{\"id\":\"f425c44d-45a0-4ec1-a8f2-769ae4d0b54b\",\"type\":\"BoxZoomTool\"},{\"id\":\"0fb3f316-202b-4349-85b0-70b8f142d042\",\"type\":\"SaveTool\"},{\"id\":\"d4a5bb23-16d8-4605-92c3-54111a440474\",\"type\":\"ResetTool\"},{\"id\":\"86ec5adf-3f0f-46c7-bd0a-8d3202b4ac65\",\"type\":\"HelpTool\"}]},\"id\":\"0e09fff4-0b00-4801-a82d-6d606d2008a8\",\"type\":\"Toolbar\"},{\"attributes\":{},\"id\":\"b0b48c0d-17c8-4d0c-bb69-86fcf30ba848\",\"type\":\"LogScale\"},{\"attributes\":{\"plot\":null,\"text\":\"Timing\"},\"id\":\"a464fbd1-0da0-4262-8497-0c979c5a078e\",\"type\":\"Title\"},{\"attributes\":{\"dimension\":1,\"plot\":{\"id\":\"02e9c23e-eec1-4c68-81f5-6ee96b6381a5\",\"subtype\":\"Figure\",\"type\":\"Plot\"},\"ticker\":{\"id\":\"d1b95047-d0b1-4965-b044-ad36ddd97569\",\"type\":\"LogTicker\"}},\"id\":\"1f63b16d-2b96-48b8-97d2-25584e33cecf\",\"type\":\"Grid\"},{\"attributes\":{\"axis_label\":\"Seconds\",\"formatter\":{\"id\":\"b74c2afd-6aeb-4ac8-9945-507651b67a43\",\"type\":\"LogTickFormatter\"},\"plot\":{\"id\":\"02e9c23e-eec1-4c68-81f5-6ee96b6381a5\",\"subtype\":\"Figure\",\"type\":\"Plot\"},\"ticker\":{\"id\":\"d1b95047-d0b1-4965-b044-ad36ddd97569\",\"type\":\"LogTicker\"}},\"id\":\"c3020405-3c3c-4561-9bde-6d338143ce6a\",\"type\":\"LogAxis\"},{\"attributes\":{\"data_source\":{\"id\":\"50a47873-5ffe-465a-afc6-967212b293a9\",\"type\":\"ColumnDataSource\"},\"glyph\":{\"id\":\"a681c8b6-a0f6-48fa-a16d-e39f4773c401\",\"type\":\"Circle\"},\"hover_glyph\":null,\"muted_glyph\":null,\"nonselection_glyph\":{\"id\":\"5cd35a3a-3bc8-439a-81a1-63774e94ee83\",\"type\":\"Circle\"},\"selection_glyph\":null,\"view\":{\"id\":\"306a429d-cfb2-40f0-8a8b-10ce2cf7a923\",\"type\":\"CDSView\"}},\"id\":\"6290d08a-b271-4ddb-b6b3-ca839f6f4feb\",\"type\":\"GlyphRenderer\"},{\"attributes\":{\"callback\":null,\"start\":1e-06},\"id\":\"a2debca6-d83b-4de9-bd3c-17baab0ef33c\",\"type\":\"Range1d\"},{\"attributes\":{\"source\":{\"id\":\"50a47873-5ffe-465a-afc6-967212b293a9\",\"type\":\"ColumnDataSource\"}},\"id\":\"0f00969c-7587-406e-9c75-5cb65bd2c5b0\",\"type\":\"CDSView\"},{\"attributes\":{},\"id\":\"7eec5490-fe4d-456a-bedd-af474089022b\",\"type\":\"PanTool\"},{\"attributes\":{},\"id\":\"e868cddb-d252-43c2-ad68-5b532421660c\",\"type\":\"WheelZoomTool\"},{\"attributes\":{\"overlay\":{\"id\":\"36c6a4f7-6ee2-4a8e-b891-8a29dc79f259\",\"type\":\"BoxAnnotation\"}},\"id\":\"f425c44d-45a0-4ec1-a8f2-769ae4d0b54b\",\"type\":\"BoxZoomTool\"},{\"attributes\":{\"background_fill_alpha\":{\"value\":0.5},\"click_policy\":\"hide\",\"items\":[{\"id\":\"b4c442f3-64e5-4055-802b-104df8bac8d1\",\"type\":\"LegendItem\"}],\"location\":\"top_left\",\"plot\":{\"id\":\"02e9c23e-eec1-4c68-81f5-6ee96b6381a5\",\"subtype\":\"Figure\",\"type\":\"Plot\"}},\"id\":\"f865cb71-a66d-41d8-b7f7-a1dd5b27d3b8\",\"type\":\"Legend\"},{\"attributes\":{},\"id\":\"0fb3f316-202b-4349-85b0-70b8f142d042\",\"type\":\"SaveTool\"},{\"attributes\":{},\"id\":\"d4a5bb23-16d8-4605-92c3-54111a440474\",\"type\":\"ResetTool\"},{\"attributes\":{\"data_source\":{\"id\":\"50a47873-5ffe-465a-afc6-967212b293a9\",\"type\":\"ColumnDataSource\"},\"glyph\":{\"id\":\"50addec9-23af-4648-bea1-3a79374711fe\",\"type\":\"Line\"},\"hover_glyph\":null,\"muted_glyph\":null,\"nonselection_glyph\":{\"id\":\"fdbcd948-07ce-4884-bdad-a5b55ad9701a\",\"type\":\"Line\"},\"selection_glyph\":null,\"view\":{\"id\":\"0f00969c-7587-406e-9c75-5cb65bd2c5b0\",\"type\":\"CDSView\"}},\"id\":\"3404818e-ce3e-41d3-b4bd-2de93c762407\",\"type\":\"GlyphRenderer\"},{\"attributes\":{\"fill_color\":{\"value\":\"#1f77b4\"},\"line_color\":{\"value\":\"#1f77b4\"},\"x\":{\"field\":\"x\"},\"y\":{\"field\":\"y\"}},\"id\":\"a681c8b6-a0f6-48fa-a16d-e39f4773c401\",\"type\":\"Circle\"},{\"attributes\":{},\"id\":\"86ec5adf-3f0f-46c7-bd0a-8d3202b4ac65\",\"type\":\"HelpTool\"},{\"attributes\":{\"line_color\":\"#1f77b4\",\"x\":{\"field\":\"x\"},\"y\":{\"field\":\"y\"}},\"id\":\"50addec9-23af-4648-bea1-3a79374711fe\",\"type\":\"Line\"},{\"attributes\":{\"source\":{\"id\":\"50a47873-5ffe-465a-afc6-967212b293a9\",\"type\":\"ColumnDataSource\"}},\"id\":\"306a429d-cfb2-40f0-8a8b-10ce2cf7a923\",\"type\":\"CDSView\"},{\"attributes\":{\"bottom_units\":\"screen\",\"fill_alpha\":{\"value\":0.5},\"fill_color\":{\"value\":\"lightgrey\"},\"left_units\":\"screen\",\"level\":\"overlay\",\"line_alpha\":{\"value\":1.0},\"line_color\":{\"value\":\"black\"},\"line_dash\":[4,4],\"line_width\":{\"value\":2},\"plot\":null,\"render_mode\":\"css\",\"right_units\":\"screen\",\"top_units\":\"screen\"},\"id\":\"36c6a4f7-6ee2-4a8e-b891-8a29dc79f259\",\"type\":\"BoxAnnotation\"},{\"attributes\":{\"format\":\"0[.]0 a\"},\"id\":\"1ac22dda-fe42-454b-b31e-e7d9f34a23f2\",\"type\":\"NumeralTickFormatter\"},{\"attributes\":{\"below\":[{\"id\":\"1029866c-c548-4866-bee2-d374e8efce67\",\"type\":\"LogAxis\"}],\"left\":[{\"id\":\"c3020405-3c3c-4561-9bde-6d338143ce6a\",\"type\":\"LogAxis\"}],\"plot_height\":400,\"plot_width\":800,\"renderers\":[{\"id\":\"1029866c-c548-4866-bee2-d374e8efce67\",\"type\":\"LogAxis\"},{\"id\":\"646f6a6b-ea86-4133-8f65-7d6f09eb819b\",\"type\":\"Grid\"},{\"id\":\"c3020405-3c3c-4561-9bde-6d338143ce6a\",\"type\":\"LogAxis\"},{\"id\":\"1f63b16d-2b96-48b8-97d2-25584e33cecf\",\"type\":\"Grid\"},{\"id\":\"36c6a4f7-6ee2-4a8e-b891-8a29dc79f259\",\"type\":\"BoxAnnotation\"},{\"id\":\"f865cb71-a66d-41d8-b7f7-a1dd5b27d3b8\",\"type\":\"Legend\"},{\"id\":\"3404818e-ce3e-41d3-b4bd-2de93c762407\",\"type\":\"GlyphRenderer\"},{\"id\":\"6290d08a-b271-4ddb-b6b3-ca839f6f4feb\",\"type\":\"GlyphRenderer\"}],\"title\":{\"id\":\"a464fbd1-0da0-4262-8497-0c979c5a078e\",\"type\":\"Title\"},\"toolbar\":{\"id\":\"0e09fff4-0b00-4801-a82d-6d606d2008a8\",\"type\":\"Toolbar\"},\"toolbar_location\":\"above\",\"x_range\":{\"id\":\"f4cc74c7-e855-451d-9511-7da8f7801f7f\",\"type\":\"DataRange1d\"},\"x_scale\":{\"id\":\"1d5db41f-de6d-4193-9c34-7d768dd4b25c\",\"type\":\"LogScale\"},\"y_range\":{\"id\":\"a2debca6-d83b-4de9-bd3c-17baab0ef33c\",\"type\":\"Range1d\"},\"y_scale\":{\"id\":\"b0b48c0d-17c8-4d0c-bb69-86fcf30ba848\",\"type\":\"LogScale\"}},\"id\":\"02e9c23e-eec1-4c68-81f5-6ee96b6381a5\",\"subtype\":\"Figure\",\"type\":\"Plot\"},{\"attributes\":{\"label\":{\"value\":\"first_try\"},\"renderers\":[{\"id\":\"3404818e-ce3e-41d3-b4bd-2de93c762407\",\"type\":\"GlyphRenderer\"},{\"id\":\"6290d08a-b271-4ddb-b6b3-ca839f6f4feb\",\"type\":\"GlyphRenderer\"}]},\"id\":\"b4c442f3-64e5-4055-802b-104df8bac8d1\",\"type\":\"LegendItem\"},{\"attributes\":{\"fill_alpha\":{\"value\":0.1},\"fill_color\":{\"value\":\"#1f77b4\"},\"line_alpha\":{\"value\":0.1},\"line_color\":{\"value\":\"#1f77b4\"},\"x\":{\"field\":\"x\"},\"y\":{\"field\":\"y\"}},\"id\":\"5cd35a3a-3bc8-439a-81a1-63774e94ee83\",\"type\":\"Circle\"},{\"attributes\":{\"line_alpha\":0.1,\"line_color\":\"#1f77b4\",\"x\":{\"field\":\"x\"},\"y\":{\"field\":\"y\"}},\"id\":\"fdbcd948-07ce-4884-bdad-a5b55ad9701a\",\"type\":\"Line\"}],\"root_ids\":[\"02e9c23e-eec1-4c68-81f5-6ee96b6381a5\"]},\"title\":\"Bokeh Application\",\"version\":\"0.12.14\"}};\n",
       "  var render_items = [{\"docid\":\"d5fcefc1-1177-4cec-a754-021f2b553b3d\",\"elementid\":\"57b69d99-9544-4548-bff1-f3634c189c68\",\"modelid\":\"02e9c23e-eec1-4c68-81f5-6ee96b6381a5\",\"notebook_comms_target\":\"e45f463a-47a4-4efd-87d3-1193d13a2041\"}];\n",
       "  root.Bokeh.embed.embed_items_notebook(docs_json, render_items);\n",
       "\n",
       "  }\n",
       "  if (root.Bokeh !== undefined) {\n",
       "    embed_document(root);\n",
       "  } else {\n",
       "    var attempts = 0;\n",
       "    var timer = setInterval(function(root) {\n",
       "      if (root.Bokeh !== undefined) {\n",
       "        embed_document(root);\n",
       "        clearInterval(timer);\n",
       "      }\n",
       "      attempts++;\n",
       "      if (attempts > 100) {\n",
       "        console.log(\"Bokeh: ERROR: Unable to run BokehJS code because BokehJS library is missing\")\n",
       "        clearInterval(timer);\n",
       "      }\n",
       "    }, 10, root)\n",
       "  }\n",
       "})(window);"
      ],
      "application/vnd.bokehjs_exec.v0+json": ""
     },
     "metadata": {
      "application/vnd.bokehjs_exec.v0+json": {
       "id": "02e9c23e-eec1-4c68-81f5-6ee96b6381a5"
      }
     },
     "output_type": "display_data"
    }
   ],
   "source": [
    "timing_plot(first_try)"
   ]
  },
  {
   "cell_type": "markdown",
   "metadata": {
    "slideshow": {
     "slide_type": "slide"
    }
   },
   "source": [
    "## Can we make it faster?"
   ]
  },
  {
   "cell_type": "markdown",
   "metadata": {
    "slideshow": {
     "slide_type": "fragment"
    }
   },
   "source": [
    "### What about skipping all even numbers (apart from 2)?"
   ]
  },
  {
   "cell_type": "code",
   "execution_count": 7,
   "metadata": {
    "slideshow": {
     "slide_type": "fragment"
    }
   },
   "outputs": [],
   "source": [
    "from itertools import count\n",
    "\n",
    "def only_odd():\n",
    "    def is_prime(n):\n",
    "        for i in range(3, n, 2):\n",
    "            if n % i == 0:\n",
    "                return False\n",
    "        return True\n",
    "    yield 2\n",
    "    for i in count(3, 2):\n",
    "        if is_prime(i):\n",
    "            yield i"
   ]
  },
  {
   "cell_type": "markdown",
   "metadata": {
    "slideshow": {
     "slide_type": "slide"
    }
   },
   "source": [
    "### How much faster is it?"
   ]
  },
  {
   "cell_type": "code",
   "execution_count": 8,
   "metadata": {
    "slideshow": {
     "slide_type": "fragment"
    }
   },
   "outputs": [
    {
     "data": {
      "text/html": [
       "\n",
       "<div class=\"bk-root\">\n",
       "    <div class=\"bk-plotdiv\" id=\"52c5ed03-6309-4bf0-a755-714d5df07a46\"></div>\n",
       "</div>"
      ]
     },
     "metadata": {},
     "output_type": "display_data"
    },
    {
     "data": {
      "application/javascript": [
       "(function(root) {\n",
       "  function embed_document(root) {\n",
       "    \n",
       "  var docs_json = {\"d093f0c1-b33e-4f76-8b08-a243595a8a33\":{\"roots\":{\"references\":[{\"attributes\":{\"fill_alpha\":{\"value\":0.1},\"fill_color\":{\"value\":\"#1f77b4\"},\"line_alpha\":{\"value\":0.1},\"line_color\":{\"value\":\"#1f77b4\"},\"x\":{\"field\":\"x\"},\"y\":{\"field\":\"y\"}},\"id\":\"438f5b4c-0085-4d3d-8e74-a10889b5f2e2\",\"type\":\"Circle\"},{\"attributes\":{\"fill_color\":{\"value\":\"#ff7f0e\"},\"line_color\":{\"value\":\"#ff7f0e\"},\"x\":{\"field\":\"x\"},\"y\":{\"field\":\"y\"}},\"id\":\"2ce82622-6b75-4cbe-9a07-479302ddf53a\",\"type\":\"Circle\"},{\"attributes\":{\"source\":{\"id\":\"b82466d0-4092-48fa-a8c0-aa24663b1a1a\",\"type\":\"ColumnDataSource\"}},\"id\":\"35795bd4-996d-42d1-b747-cd4e45e2f278\",\"type\":\"CDSView\"},{\"attributes\":{\"data_source\":{\"id\":\"b82466d0-4092-48fa-a8c0-aa24663b1a1a\",\"type\":\"ColumnDataSource\"},\"glyph\":{\"id\":\"2ce82622-6b75-4cbe-9a07-479302ddf53a\",\"type\":\"Circle\"},\"hover_glyph\":null,\"muted_glyph\":null,\"nonselection_glyph\":{\"id\":\"438f5b4c-0085-4d3d-8e74-a10889b5f2e2\",\"type\":\"Circle\"},\"selection_glyph\":null,\"view\":{\"id\":\"35795bd4-996d-42d1-b747-cd4e45e2f278\",\"type\":\"CDSView\"}},\"id\":\"8fcffe33-9953-4b3c-9a76-7677e8b0f906\",\"type\":\"GlyphRenderer\"},{\"attributes\":{\"source\":{\"id\":\"743fafec-7057-497f-a021-fd6e5181195b\",\"type\":\"ColumnDataSource\"}},\"id\":\"dcd17d4a-b5c0-440f-b482-6715167aafd2\",\"type\":\"CDSView\"},{\"attributes\":{\"data_source\":{\"id\":\"b82466d0-4092-48fa-a8c0-aa24663b1a1a\",\"type\":\"ColumnDataSource\"},\"glyph\":{\"id\":\"718feaf3-8dc4-4fc3-bc67-61237b4912a4\",\"type\":\"Line\"},\"hover_glyph\":null,\"muted_glyph\":null,\"nonselection_glyph\":{\"id\":\"2cbceaf0-ed9c-410b-a7a6-d4680e6f2b22\",\"type\":\"Line\"},\"selection_glyph\":null,\"view\":{\"id\":\"8f71c5c0-00d2-422f-94c9-dc093b6ae97e\",\"type\":\"CDSView\"}},\"id\":\"80db3e1b-36f4-4864-a046-836a1199a42a\",\"type\":\"GlyphRenderer\"},{\"attributes\":{\"line_color\":\"#ff7f0e\",\"x\":{\"field\":\"x\"},\"y\":{\"field\":\"y\"}},\"id\":\"718feaf3-8dc4-4fc3-bc67-61237b4912a4\",\"type\":\"Line\"},{\"attributes\":{\"label\":{\"value\":\"only_odd\"},\"renderers\":[{\"id\":\"80db3e1b-36f4-4864-a046-836a1199a42a\",\"type\":\"GlyphRenderer\"},{\"id\":\"8fcffe33-9953-4b3c-9a76-7677e8b0f906\",\"type\":\"GlyphRenderer\"}]},\"id\":\"f44ff332-8133-4bc2-9df6-cafe0ff07460\",\"type\":\"LegendItem\"},{\"attributes\":{\"source\":{\"id\":\"b82466d0-4092-48fa-a8c0-aa24663b1a1a\",\"type\":\"ColumnDataSource\"}},\"id\":\"8f71c5c0-00d2-422f-94c9-dc093b6ae97e\",\"type\":\"CDSView\"},{\"attributes\":{\"line_alpha\":0.1,\"line_color\":\"#1f77b4\",\"x\":{\"field\":\"x\"},\"y\":{\"field\":\"y\"}},\"id\":\"2cbceaf0-ed9c-410b-a7a6-d4680e6f2b22\",\"type\":\"Line\"},{\"attributes\":{},\"id\":\"b2c0740b-1863-46f5-82e5-f352c17b818f\",\"type\":\"WheelZoomTool\"},{\"attributes\":{\"line_alpha\":0.1,\"line_color\":\"#1f77b4\",\"line_dash\":[6],\"x\":{\"field\":\"x\"},\"y\":{\"field\":\"y\"}},\"id\":\"90f1fb1f-4dda-4325-9e44-42b72a6d8baa\",\"type\":\"Line\"},{\"attributes\":{},\"id\":\"be2c7b6e-1488-4251-b642-b1a60bde96c0\",\"type\":\"PanTool\"},{\"attributes\":{\"callback\":null,\"column_names\":[\"x\",\"y\"],\"data\":{\"x\":[1,2,5,10,20,50,100,200,500,1000,2000],\"y\":[3.0079390853643417e-06,2.980930730700493e-06,8.170027285814285e-06,2.24430114030838e-05,6.925896741449833e-05,0.00035684509202837944,0.0015316121280193329,0.007375265937298536,0.05917246709577739,0.27406985498964787,1.2293089928571135]}},\"id\":\"743fafec-7057-497f-a021-fd6e5181195b\",\"type\":\"ColumnDataSource\"},{\"attributes\":{\"axis_label\":\"Primes\",\"formatter\":{\"id\":\"85254111-946a-4f7f-bc4c-6277acf6947a\",\"type\":\"NumeralTickFormatter\"},\"plot\":{\"id\":\"d6cd4c6d-06ff-4458-ae6d-3511af4c1236\",\"subtype\":\"Figure\",\"type\":\"Plot\"},\"ticker\":{\"id\":\"4060d58e-8f64-460e-b271-85a6f7c3dd88\",\"type\":\"LogTicker\"}},\"id\":\"548daf0c-42c8-4eb0-b333-eb7d83c8ad02\",\"type\":\"LogAxis\"},{\"attributes\":{\"below\":[{\"id\":\"548daf0c-42c8-4eb0-b333-eb7d83c8ad02\",\"type\":\"LogAxis\"}],\"left\":[{\"id\":\"e32408fe-8f0b-4aad-b19d-8a913ff1719e\",\"type\":\"LogAxis\"}],\"plot_height\":400,\"plot_width\":800,\"renderers\":[{\"id\":\"548daf0c-42c8-4eb0-b333-eb7d83c8ad02\",\"type\":\"LogAxis\"},{\"id\":\"d31fa6d1-56f3-4134-af14-d8be87c16059\",\"type\":\"Grid\"},{\"id\":\"e32408fe-8f0b-4aad-b19d-8a913ff1719e\",\"type\":\"LogAxis\"},{\"id\":\"01b3253f-ec1d-46ab-a825-e5b8cb165d31\",\"type\":\"Grid\"},{\"id\":\"87261017-d5ca-4d2a-99ce-b2f8f8439b33\",\"type\":\"BoxAnnotation\"},{\"id\":\"1d5a21f3-5058-409e-9900-6af8f4711285\",\"type\":\"Legend\"},{\"id\":\"1192a25d-e137-42bf-bfe6-8319d84127b3\",\"type\":\"GlyphRenderer\"},{\"id\":\"2160c5dd-a137-447f-8513-4024e2f408dc\",\"type\":\"GlyphRenderer\"},{\"id\":\"80db3e1b-36f4-4864-a046-836a1199a42a\",\"type\":\"GlyphRenderer\"},{\"id\":\"8fcffe33-9953-4b3c-9a76-7677e8b0f906\",\"type\":\"GlyphRenderer\"}],\"title\":{\"id\":\"46cdc4bd-dd9f-4e4f-9cd4-f6bf885f4722\",\"type\":\"Title\"},\"toolbar\":{\"id\":\"da597ead-73d7-41bb-be0b-40fa4cc4ac6e\",\"type\":\"Toolbar\"},\"toolbar_location\":\"above\",\"x_range\":{\"id\":\"29dd3668-91e4-4a72-8973-70420bf370c0\",\"type\":\"DataRange1d\"},\"x_scale\":{\"id\":\"40aba076-4f5e-4f6a-8252-f063b1ba5a38\",\"type\":\"LogScale\"},\"y_range\":{\"id\":\"fd8df2fa-5b22-4176-a3dd-f08c821ffb3a\",\"type\":\"Range1d\"},\"y_scale\":{\"id\":\"0a2052cf-1d72-4f2c-8725-ee2e6794936a\",\"type\":\"LogScale\"}},\"id\":\"d6cd4c6d-06ff-4458-ae6d-3511af4c1236\",\"subtype\":\"Figure\",\"type\":\"Plot\"},{\"attributes\":{},\"id\":\"77242fee-517e-4e76-82d2-641786c50513\",\"type\":\"ResetTool\"},{\"attributes\":{\"plot\":null,\"text\":\"Timing\"},\"id\":\"46cdc4bd-dd9f-4e4f-9cd4-f6bf885f4722\",\"type\":\"Title\"},{\"attributes\":{\"source\":{\"id\":\"6824963f-2333-4387-b859-604520f60fe4\",\"type\":\"ColumnDataSource\"}},\"id\":\"0994f442-59c6-4610-9300-b460126cdae0\",\"type\":\"CDSView\"},{\"attributes\":{},\"id\":\"0a2052cf-1d72-4f2c-8725-ee2e6794936a\",\"type\":\"LogScale\"},{\"attributes\":{\"format\":\"0[.]0 a\"},\"id\":\"85254111-946a-4f7f-bc4c-6277acf6947a\",\"type\":\"NumeralTickFormatter\"},{\"attributes\":{\"callback\":null,\"start\":1e-06},\"id\":\"fd8df2fa-5b22-4176-a3dd-f08c821ffb3a\",\"type\":\"Range1d\"},{\"attributes\":{\"dimension\":1,\"plot\":{\"id\":\"d6cd4c6d-06ff-4458-ae6d-3511af4c1236\",\"subtype\":\"Figure\",\"type\":\"Plot\"},\"ticker\":{\"id\":\"2ea05ff2-9b8a-4be8-8d43-62fb144675a6\",\"type\":\"LogTicker\"}},\"id\":\"01b3253f-ec1d-46ab-a825-e5b8cb165d31\",\"type\":\"Grid\"},{\"attributes\":{\"fill_color\":{\"value\":\"#1f77b4\"},\"line_color\":{\"value\":\"#1f77b4\"},\"x\":{\"field\":\"x\"},\"y\":{\"field\":\"y\"}},\"id\":\"d8fc3ba2-1cc1-4c40-b65a-7b3174f02f6f\",\"type\":\"Circle\"},{\"attributes\":{\"label\":{\"value\":\"first_try\"},\"renderers\":[{\"id\":\"1192a25d-e137-42bf-bfe6-8319d84127b3\",\"type\":\"GlyphRenderer\"},{\"id\":\"2160c5dd-a137-447f-8513-4024e2f408dc\",\"type\":\"GlyphRenderer\"}]},\"id\":\"fa84e8ad-dd28-42b7-9428-d9a91b4a2afb\",\"type\":\"LegendItem\"},{\"attributes\":{\"data_source\":{\"id\":\"743fafec-7057-497f-a021-fd6e5181195b\",\"type\":\"ColumnDataSource\"},\"glyph\":{\"id\":\"d8fc3ba2-1cc1-4c40-b65a-7b3174f02f6f\",\"type\":\"Circle\"},\"hover_glyph\":null,\"muted_glyph\":null,\"nonselection_glyph\":{\"id\":\"0dede900-6e4a-47b9-a052-ec8db267887d\",\"type\":\"Circle\"},\"selection_glyph\":null,\"view\":{\"id\":\"dcd17d4a-b5c0-440f-b482-6715167aafd2\",\"type\":\"CDSView\"}},\"id\":\"2160c5dd-a137-447f-8513-4024e2f408dc\",\"type\":\"GlyphRenderer\"},{\"attributes\":{\"num_minor_ticks\":10},\"id\":\"4060d58e-8f64-460e-b271-85a6f7c3dd88\",\"type\":\"LogTicker\"},{\"attributes\":{\"active_drag\":\"auto\",\"active_inspect\":\"auto\",\"active_scroll\":\"auto\",\"active_tap\":\"auto\",\"tools\":[{\"id\":\"be2c7b6e-1488-4251-b642-b1a60bde96c0\",\"type\":\"PanTool\"},{\"id\":\"b2c0740b-1863-46f5-82e5-f352c17b818f\",\"type\":\"WheelZoomTool\"},{\"id\":\"71afa00f-c7a1-4bfa-af4f-6ecdc4c0d01c\",\"type\":\"BoxZoomTool\"},{\"id\":\"0931685b-b1df-4bc4-af5f-dc9c8b43ae7e\",\"type\":\"SaveTool\"},{\"id\":\"77242fee-517e-4e76-82d2-641786c50513\",\"type\":\"ResetTool\"},{\"id\":\"7afe09e0-c194-4606-9567-df249c454727\",\"type\":\"HelpTool\"}]},\"id\":\"da597ead-73d7-41bb-be0b-40fa4cc4ac6e\",\"type\":\"Toolbar\"},{\"attributes\":{\"overlay\":{\"id\":\"87261017-d5ca-4d2a-99ce-b2f8f8439b33\",\"type\":\"BoxAnnotation\"}},\"id\":\"71afa00f-c7a1-4bfa-af4f-6ecdc4c0d01c\",\"type\":\"BoxZoomTool\"},{\"attributes\":{\"fill_alpha\":{\"value\":0.1},\"fill_color\":{\"value\":\"#1f77b4\"},\"line_alpha\":{\"value\":0.1},\"line_color\":{\"value\":\"#1f77b4\"},\"x\":{\"field\":\"x\"},\"y\":{\"field\":\"y\"}},\"id\":\"0dede900-6e4a-47b9-a052-ec8db267887d\",\"type\":\"Circle\"},{\"attributes\":{\"axis_label\":\"Seconds\",\"formatter\":{\"id\":\"22a6b375-7cc0-47a4-be5b-264776b3fdcc\",\"type\":\"LogTickFormatter\"},\"plot\":{\"id\":\"d6cd4c6d-06ff-4458-ae6d-3511af4c1236\",\"subtype\":\"Figure\",\"type\":\"Plot\"},\"ticker\":{\"id\":\"2ea05ff2-9b8a-4be8-8d43-62fb144675a6\",\"type\":\"LogTicker\"}},\"id\":\"e32408fe-8f0b-4aad-b19d-8a913ff1719e\",\"type\":\"LogAxis\"},{\"attributes\":{},\"id\":\"0931685b-b1df-4bc4-af5f-dc9c8b43ae7e\",\"type\":\"SaveTool\"},{\"attributes\":{},\"id\":\"40aba076-4f5e-4f6a-8252-f063b1ba5a38\",\"type\":\"LogScale\"},{\"attributes\":{},\"id\":\"7afe09e0-c194-4606-9567-df249c454727\",\"type\":\"HelpTool\"},{\"attributes\":{\"callback\":null,\"start\":1},\"id\":\"29dd3668-91e4-4a72-8973-70420bf370c0\",\"type\":\"DataRange1d\"},{\"attributes\":{\"plot\":{\"id\":\"d6cd4c6d-06ff-4458-ae6d-3511af4c1236\",\"subtype\":\"Figure\",\"type\":\"Plot\"},\"ticker\":{\"id\":\"4060d58e-8f64-460e-b271-85a6f7c3dd88\",\"type\":\"LogTicker\"}},\"id\":\"d31fa6d1-56f3-4134-af14-d8be87c16059\",\"type\":\"Grid\"},{\"attributes\":{\"data_source\":{\"id\":\"6824963f-2333-4387-b859-604520f60fe4\",\"type\":\"ColumnDataSource\"},\"glyph\":{\"id\":\"01876564-222d-448b-8e40-e42766fdf69c\",\"type\":\"Line\"},\"hover_glyph\":null,\"muted_glyph\":null,\"nonselection_glyph\":{\"id\":\"90f1fb1f-4dda-4325-9e44-42b72a6d8baa\",\"type\":\"Line\"},\"selection_glyph\":null,\"view\":{\"id\":\"0994f442-59c6-4610-9300-b460126cdae0\",\"type\":\"CDSView\"}},\"id\":\"1192a25d-e137-42bf-bfe6-8319d84127b3\",\"type\":\"GlyphRenderer\"},{\"attributes\":{\"num_minor_ticks\":10},\"id\":\"2ea05ff2-9b8a-4be8-8d43-62fb144675a6\",\"type\":\"LogTicker\"},{\"attributes\":{\"callback\":null,\"column_names\":[\"x\",\"y\"],\"data\":{\"x\":[],\"y\":[]}},\"id\":\"b82466d0-4092-48fa-a8c0-aa24663b1a1a\",\"type\":\"ColumnDataSource\"},{\"attributes\":{\"bottom_units\":\"screen\",\"fill_alpha\":{\"value\":0.5},\"fill_color\":{\"value\":\"lightgrey\"},\"left_units\":\"screen\",\"level\":\"overlay\",\"line_alpha\":{\"value\":1.0},\"line_color\":{\"value\":\"black\"},\"line_dash\":[4,4],\"line_width\":{\"value\":2},\"plot\":null,\"render_mode\":\"css\",\"right_units\":\"screen\",\"top_units\":\"screen\"},\"id\":\"87261017-d5ca-4d2a-99ce-b2f8f8439b33\",\"type\":\"BoxAnnotation\"},{\"attributes\":{\"line_color\":\"#1f77b4\",\"line_dash\":[6],\"x\":{\"field\":\"x\"},\"y\":{\"field\":\"y\"}},\"id\":\"01876564-222d-448b-8e40-e42766fdf69c\",\"type\":\"Line\"},{\"attributes\":{\"background_fill_alpha\":{\"value\":0.5},\"click_policy\":\"hide\",\"items\":[{\"id\":\"fa84e8ad-dd28-42b7-9428-d9a91b4a2afb\",\"type\":\"LegendItem\"},{\"id\":\"f44ff332-8133-4bc2-9df6-cafe0ff07460\",\"type\":\"LegendItem\"}],\"location\":\"top_left\",\"plot\":{\"id\":\"d6cd4c6d-06ff-4458-ae6d-3511af4c1236\",\"subtype\":\"Figure\",\"type\":\"Plot\"}},\"id\":\"1d5a21f3-5058-409e-9900-6af8f4711285\",\"type\":\"Legend\"},{\"attributes\":{\"ticker\":null},\"id\":\"22a6b375-7cc0-47a4-be5b-264776b3fdcc\",\"type\":\"LogTickFormatter\"},{\"attributes\":{\"callback\":null,\"column_names\":[\"x\",\"y\"],\"data\":{\"x\":[1,2,5,10,20,50,100,200,500,1000,2000],\"y\":[3.0079390853643417e-06,2.980930730700493e-06,8.170027285814285e-06,2.24430114030838e-05,6.925896741449833e-05,0.00035684509202837944,0.0015316121280193329,0.007375265937298536,0.05917246709577739,0.27406985498964787,1.2293089928571135]}},\"id\":\"6824963f-2333-4387-b859-604520f60fe4\",\"type\":\"ColumnDataSource\"}],\"root_ids\":[\"d6cd4c6d-06ff-4458-ae6d-3511af4c1236\"]},\"title\":\"Bokeh Application\",\"version\":\"0.12.14\"}};\n",
       "  var render_items = [{\"docid\":\"d093f0c1-b33e-4f76-8b08-a243595a8a33\",\"elementid\":\"52c5ed03-6309-4bf0-a755-714d5df07a46\",\"modelid\":\"d6cd4c6d-06ff-4458-ae6d-3511af4c1236\",\"notebook_comms_target\":\"50275d83-312d-4ad7-92ae-aa5388a93aee\"}];\n",
       "  root.Bokeh.embed.embed_items_notebook(docs_json, render_items);\n",
       "\n",
       "  }\n",
       "  if (root.Bokeh !== undefined) {\n",
       "    embed_document(root);\n",
       "  } else {\n",
       "    var attempts = 0;\n",
       "    var timer = setInterval(function(root) {\n",
       "      if (root.Bokeh !== undefined) {\n",
       "        embed_document(root);\n",
       "        clearInterval(timer);\n",
       "      }\n",
       "      attempts++;\n",
       "      if (attempts > 100) {\n",
       "        console.log(\"Bokeh: ERROR: Unable to run BokehJS code because BokehJS library is missing\")\n",
       "        clearInterval(timer);\n",
       "      }\n",
       "    }, 10, root)\n",
       "  }\n",
       "})(window);"
      ],
      "application/vnd.bokehjs_exec.v0+json": ""
     },
     "metadata": {
      "application/vnd.bokehjs_exec.v0+json": {
       "id": "d6cd4c6d-06ff-4458-ae6d-3511af4c1236"
      }
     },
     "output_type": "display_data"
    }
   ],
   "source": [
    "timing_plot(only_odd)"
   ]
  },
  {
   "cell_type": "markdown",
   "metadata": {
    "slideshow": {
     "slide_type": "slide"
    }
   },
   "source": [
    "## Can we reduce the number of checks further?"
   ]
  },
  {
   "cell_type": "markdown",
   "metadata": {
    "slideshow": {
     "slide_type": "fragment"
    }
   },
   "source": [
    "### Yes!\n",
    "Factors always come in pairs: if $n$ has a factor $f$, then $g = n / f$ must also be a factor.  \n",
    "If $f \\leq \\sqrt n$ then $g \\geq \\sqrt n$, and vice versa (equal when $f = g = \\sqrt n$).  \n",
    "So if $n$ has any prime factors, at least one of them must always be $\\leq \\sqrt n$,  \n",
    "and therefore we can stop checking once we reach $\\sqrt n$."
   ]
  },
  {
   "cell_type": "code",
   "execution_count": 9,
   "metadata": {
    "slideshow": {
     "slide_type": "slide"
    }
   },
   "outputs": [],
   "source": [
    "from itertools import count\n",
    "from math import sqrt\n",
    "\n",
    "def to_sqrt():\n",
    "    def is_prime(n):\n",
    "        for i in range(3, int(sqrt(n)) + 1, 2):\n",
    "            if n % i == 0:\n",
    "                return False\n",
    "        return True\n",
    "    yield 2\n",
    "    for i in count(3, 2):\n",
    "        if is_prime(i):\n",
    "            yield i"
   ]
  },
  {
   "cell_type": "markdown",
   "metadata": {
    "slideshow": {
     "slide_type": "slide"
    }
   },
   "source": [
    "## How much faster is this?"
   ]
  },
  {
   "cell_type": "code",
   "execution_count": 10,
   "metadata": {
    "scrolled": false,
    "slideshow": {
     "slide_type": "fragment"
    }
   },
   "outputs": [
    {
     "data": {
      "text/html": [
       "\n",
       "<div class=\"bk-root\">\n",
       "    <div class=\"bk-plotdiv\" id=\"167bd548-819a-47bf-9ce8-42c154bf5efb\"></div>\n",
       "</div>"
      ]
     },
     "metadata": {},
     "output_type": "display_data"
    },
    {
     "data": {
      "application/javascript": [
       "(function(root) {\n",
       "  function embed_document(root) {\n",
       "    \n",
       "  var docs_json = {\"26d4aa5b-b690-4820-aed1-ddf57774f191\":{\"roots\":{\"references\":[{\"attributes\":{\"background_fill_alpha\":{\"value\":0.5},\"click_policy\":\"hide\",\"items\":[{\"id\":\"5dec7a71-a56f-469d-bdf8-7b78597ebf54\",\"type\":\"LegendItem\"},{\"id\":\"365198a5-bd65-4588-98b2-afb4ed91098f\",\"type\":\"LegendItem\"},{\"id\":\"ecb63053-b5eb-491c-9c65-3a476e8d7880\",\"type\":\"LegendItem\"}],\"location\":\"top_left\",\"plot\":{\"id\":\"204c96ba-1a28-45f7-bca3-8602e679b550\",\"subtype\":\"Figure\",\"type\":\"Plot\"}},\"id\":\"f768cf9e-ea9e-41f2-8e06-54ca5476067a\",\"type\":\"Legend\"},{\"attributes\":{\"data_source\":{\"id\":\"721cdfbb-3bef-403b-8ad0-4d702a9dbc97\",\"type\":\"ColumnDataSource\"},\"glyph\":{\"id\":\"515a9403-f970-42df-a657-cfb3f3e56bcd\",\"type\":\"Circle\"},\"hover_glyph\":null,\"muted_glyph\":null,\"nonselection_glyph\":{\"id\":\"e7a9e0e5-2e5e-48a5-be8e-a9c594623202\",\"type\":\"Circle\"},\"selection_glyph\":null,\"view\":{\"id\":\"82e03812-4ed7-4fec-ae8e-b2444e1c93b4\",\"type\":\"CDSView\"}},\"id\":\"2a238186-192b-4336-a4de-49e80c085e58\",\"type\":\"GlyphRenderer\"},{\"attributes\":{\"callback\":null,\"column_names\":[\"x\",\"y\"],\"data\":{\"x\":[1,2,5,10,20,50,100,200,500,1000,2000],\"y\":[3.0079390853643417e-06,2.980930730700493e-06,8.170027285814285e-06,2.24430114030838e-05,6.925896741449833e-05,0.00035684509202837944,0.0015316121280193329,0.007375265937298536,0.05917246709577739,0.27406985498964787,1.2293089928571135]}},\"id\":\"5eff2963-06d8-4951-8c9c-b03e7076f6bd\",\"type\":\"ColumnDataSource\"},{\"attributes\":{\"callback\":null,\"column_names\":[\"x\",\"y\"],\"data\":{\"x\":[1,2,5,10,20,50,100,200,500,1000,2000,5000],\"y\":[1.4319084584712982e-06,2.3900065571069717e-06,5.2889809012413025e-06,1.3441778719425201e-05,4.3275998905301094e-05,0.00022354512475430965,0.0009551611728966236,0.005093520972877741,0.0360875460319221,0.16740669403225183,0.6574779360089451,4.291011564899236]}},\"id\":\"721cdfbb-3bef-403b-8ad0-4d702a9dbc97\",\"type\":\"ColumnDataSource\"},{\"attributes\":{\"bottom_units\":\"screen\",\"fill_alpha\":{\"value\":0.5},\"fill_color\":{\"value\":\"lightgrey\"},\"left_units\":\"screen\",\"level\":\"overlay\",\"line_alpha\":{\"value\":1.0},\"line_color\":{\"value\":\"black\"},\"line_dash\":[4,4],\"line_width\":{\"value\":2},\"plot\":null,\"render_mode\":\"css\",\"right_units\":\"screen\",\"top_units\":\"screen\"},\"id\":\"55e91635-bcad-49a8-8951-1754e4070b6a\",\"type\":\"BoxAnnotation\"},{\"attributes\":{},\"id\":\"908e4f13-4051-4af1-8475-3fc03f4858a2\",\"type\":\"PanTool\"},{\"attributes\":{\"data_source\":{\"id\":\"5eff2963-06d8-4951-8c9c-b03e7076f6bd\",\"type\":\"ColumnDataSource\"},\"glyph\":{\"id\":\"e6cb9653-5357-4f65-a8e4-30a101663fbe\",\"type\":\"Line\"},\"hover_glyph\":null,\"muted_glyph\":null,\"nonselection_glyph\":{\"id\":\"11af3da1-b7cd-4c3d-8016-a56cea5000ef\",\"type\":\"Line\"},\"selection_glyph\":null,\"view\":{\"id\":\"8594e108-852e-4878-8c0e-4a934d27f2cb\",\"type\":\"CDSView\"}},\"id\":\"01ed8148-6136-4062-8ace-b949b6b98c81\",\"type\":\"GlyphRenderer\"},{\"attributes\":{\"line_alpha\":0.1,\"line_color\":\"#1f77b4\",\"line_dash\":[6],\"x\":{\"field\":\"x\"},\"y\":{\"field\":\"y\"}},\"id\":\"0921a929-8d32-4a47-a49a-364637120021\",\"type\":\"Line\"},{\"attributes\":{\"source\":{\"id\":\"71973ec0-aaab-4a67-bf69-8a6f7ca4165d\",\"type\":\"ColumnDataSource\"}},\"id\":\"7bf97234-acb9-4183-8437-628ff24516bb\",\"type\":\"CDSView\"},{\"attributes\":{},\"id\":\"25659844-a46b-49cc-8c71-cd71808a31e6\",\"type\":\"WheelZoomTool\"},{\"attributes\":{\"source\":{\"id\":\"ffe1d8b1-57d2-422f-b17f-11ed9f22fc02\",\"type\":\"ColumnDataSource\"}},\"id\":\"eba1cd47-1f1e-434b-8f4a-ae0580a208c2\",\"type\":\"CDSView\"},{\"attributes\":{},\"id\":\"a3f168ab-ea97-4418-9125-e96992faf9c6\",\"type\":\"SaveTool\"},{\"attributes\":{},\"id\":\"d589b132-2391-4111-9533-fffbc5145f6c\",\"type\":\"ResetTool\"},{\"attributes\":{\"source\":{\"id\":\"b9824ba0-2d8b-4834-9636-f8e71067ee26\",\"type\":\"ColumnDataSource\"}},\"id\":\"035ee824-52d8-4d29-8789-a8951b215463\",\"type\":\"CDSView\"},{\"attributes\":{},\"id\":\"f056c165-c4a4-4a95-851e-486f22d49d72\",\"type\":\"HelpTool\"},{\"attributes\":{\"callback\":null,\"column_names\":[\"x\",\"y\"],\"data\":{\"x\":[1,2,5,10,20,50,100,200,500,1000,2000,5000],\"y\":[1.4319084584712982e-06,2.3900065571069717e-06,5.2889809012413025e-06,1.3441778719425201e-05,4.3275998905301094e-05,0.00022354512475430965,0.0009551611728966236,0.005093520972877741,0.0360875460319221,0.16740669403225183,0.6574779360089451,4.291011564899236]}},\"id\":\"ffe1d8b1-57d2-422f-b17f-11ed9f22fc02\",\"type\":\"ColumnDataSource\"},{\"attributes\":{\"source\":{\"id\":\"5eff2963-06d8-4951-8c9c-b03e7076f6bd\",\"type\":\"ColumnDataSource\"}},\"id\":\"8594e108-852e-4878-8c0e-4a934d27f2cb\",\"type\":\"CDSView\"},{\"attributes\":{\"label\":{\"value\":\"only_odd\"},\"renderers\":[{\"id\":\"bc95b106-fe13-4ca9-a712-4960f1933466\",\"type\":\"GlyphRenderer\"},{\"id\":\"2a238186-192b-4336-a4de-49e80c085e58\",\"type\":\"GlyphRenderer\"}]},\"id\":\"365198a5-bd65-4588-98b2-afb4ed91098f\",\"type\":\"LegendItem\"},{\"attributes\":{\"callback\":null,\"column_names\":[\"x\",\"y\"],\"data\":{\"x\":[],\"y\":[]}},\"id\":\"71973ec0-aaab-4a67-bf69-8a6f7ca4165d\",\"type\":\"ColumnDataSource\"},{\"attributes\":{\"data_source\":{\"id\":\"71973ec0-aaab-4a67-bf69-8a6f7ca4165d\",\"type\":\"ColumnDataSource\"},\"glyph\":{\"id\":\"1f0ff64a-da9a-43ed-a35c-ce4587560aa1\",\"type\":\"Circle\"},\"hover_glyph\":null,\"muted_glyph\":null,\"nonselection_glyph\":{\"id\":\"a5d7d291-82ba-4f3c-8ceb-a3c2ae5a14a1\",\"type\":\"Circle\"},\"selection_glyph\":null,\"view\":{\"id\":\"7bf97234-acb9-4183-8437-628ff24516bb\",\"type\":\"CDSView\"}},\"id\":\"6c2206fe-dba5-4364-91b6-a9a74107a62b\",\"type\":\"GlyphRenderer\"},{\"attributes\":{\"line_color\":\"#2ca02c\",\"x\":{\"field\":\"x\"},\"y\":{\"field\":\"y\"}},\"id\":\"47ae873f-48ee-4ad9-a2dc-45dc98b4ec98\",\"type\":\"Line\"},{\"attributes\":{\"source\":{\"id\":\"721cdfbb-3bef-403b-8ad0-4d702a9dbc97\",\"type\":\"ColumnDataSource\"}},\"id\":\"82e03812-4ed7-4fec-ae8e-b2444e1c93b4\",\"type\":\"CDSView\"},{\"attributes\":{\"fill_color\":{\"value\":\"#ff7f0e\"},\"line_color\":{\"value\":\"#ff7f0e\"},\"x\":{\"field\":\"x\"},\"y\":{\"field\":\"y\"}},\"id\":\"515a9403-f970-42df-a657-cfb3f3e56bcd\",\"type\":\"Circle\"},{\"attributes\":{\"data_source\":{\"id\":\"b9824ba0-2d8b-4834-9636-f8e71067ee26\",\"type\":\"ColumnDataSource\"},\"glyph\":{\"id\":\"b4ee1757-89dc-4fea-8b35-4b0ca83ea53b\",\"type\":\"Circle\"},\"hover_glyph\":null,\"muted_glyph\":null,\"nonselection_glyph\":{\"id\":\"d1fc2b9d-a6cf-4f54-9307-aa2281edb8f9\",\"type\":\"Circle\"},\"selection_glyph\":null,\"view\":{\"id\":\"035ee824-52d8-4d29-8789-a8951b215463\",\"type\":\"CDSView\"}},\"id\":\"0969bbf1-562d-49c6-8e09-d9025dcf10d6\",\"type\":\"GlyphRenderer\"},{\"attributes\":{\"callback\":null,\"start\":1},\"id\":\"07c41e43-fd77-4d9a-8a58-d8534635fa92\",\"type\":\"DataRange1d\"},{\"attributes\":{\"data_source\":{\"id\":\"71973ec0-aaab-4a67-bf69-8a6f7ca4165d\",\"type\":\"ColumnDataSource\"},\"glyph\":{\"id\":\"47ae873f-48ee-4ad9-a2dc-45dc98b4ec98\",\"type\":\"Line\"},\"hover_glyph\":null,\"muted_glyph\":null,\"nonselection_glyph\":{\"id\":\"89c524dd-a008-4ff4-9d1c-9eaf0a52b3b7\",\"type\":\"Line\"},\"selection_glyph\":null,\"view\":{\"id\":\"f3fcca2f-ff5c-4ea7-9096-a58725ae6749\",\"type\":\"CDSView\"}},\"id\":\"a6d99007-d9a1-40bc-b819-0cf7a7980bfb\",\"type\":\"GlyphRenderer\"},{\"attributes\":{\"fill_alpha\":{\"value\":0.1},\"fill_color\":{\"value\":\"#1f77b4\"},\"line_alpha\":{\"value\":0.1},\"line_color\":{\"value\":\"#1f77b4\"},\"x\":{\"field\":\"x\"},\"y\":{\"field\":\"y\"}},\"id\":\"e7a9e0e5-2e5e-48a5-be8e-a9c594623202\",\"type\":\"Circle\"},{\"attributes\":{\"line_alpha\":0.1,\"line_color\":\"#1f77b4\",\"line_dash\":[6],\"x\":{\"field\":\"x\"},\"y\":{\"field\":\"y\"}},\"id\":\"11af3da1-b7cd-4c3d-8016-a56cea5000ef\",\"type\":\"Line\"},{\"attributes\":{\"source\":{\"id\":\"71973ec0-aaab-4a67-bf69-8a6f7ca4165d\",\"type\":\"ColumnDataSource\"}},\"id\":\"f3fcca2f-ff5c-4ea7-9096-a58725ae6749\",\"type\":\"CDSView\"},{\"attributes\":{\"fill_color\":{\"value\":\"#2ca02c\"},\"line_color\":{\"value\":\"#2ca02c\"},\"x\":{\"field\":\"x\"},\"y\":{\"field\":\"y\"}},\"id\":\"1f0ff64a-da9a-43ed-a35c-ce4587560aa1\",\"type\":\"Circle\"},{\"attributes\":{\"below\":[{\"id\":\"3ba3ad8d-407f-474d-9be1-be25e09095a2\",\"type\":\"LogAxis\"}],\"left\":[{\"id\":\"f455bd76-b60d-4b30-a9ff-1db9121b7e9e\",\"type\":\"LogAxis\"}],\"plot_height\":400,\"plot_width\":800,\"renderers\":[{\"id\":\"3ba3ad8d-407f-474d-9be1-be25e09095a2\",\"type\":\"LogAxis\"},{\"id\":\"b3254beb-4b44-4b04-8cf6-0f7deb9fbcd1\",\"type\":\"Grid\"},{\"id\":\"f455bd76-b60d-4b30-a9ff-1db9121b7e9e\",\"type\":\"LogAxis\"},{\"id\":\"36c648f6-f067-40e8-9e79-309af987332e\",\"type\":\"Grid\"},{\"id\":\"55e91635-bcad-49a8-8951-1754e4070b6a\",\"type\":\"BoxAnnotation\"},{\"id\":\"f768cf9e-ea9e-41f2-8e06-54ca5476067a\",\"type\":\"Legend\"},{\"id\":\"01ed8148-6136-4062-8ace-b949b6b98c81\",\"type\":\"GlyphRenderer\"},{\"id\":\"0969bbf1-562d-49c6-8e09-d9025dcf10d6\",\"type\":\"GlyphRenderer\"},{\"id\":\"bc95b106-fe13-4ca9-a712-4960f1933466\",\"type\":\"GlyphRenderer\"},{\"id\":\"2a238186-192b-4336-a4de-49e80c085e58\",\"type\":\"GlyphRenderer\"},{\"id\":\"a6d99007-d9a1-40bc-b819-0cf7a7980bfb\",\"type\":\"GlyphRenderer\"},{\"id\":\"6c2206fe-dba5-4364-91b6-a9a74107a62b\",\"type\":\"GlyphRenderer\"}],\"title\":{\"id\":\"451a016a-cb6b-475a-9d38-cd6ef2fc5089\",\"type\":\"Title\"},\"toolbar\":{\"id\":\"65b64e0c-7166-4831-87e6-336bfcf1ee08\",\"type\":\"Toolbar\"},\"toolbar_location\":\"above\",\"x_range\":{\"id\":\"07c41e43-fd77-4d9a-8a58-d8534635fa92\",\"type\":\"DataRange1d\"},\"x_scale\":{\"id\":\"c281d230-d3f7-4749-89d0-bf369cab0ad2\",\"type\":\"LogScale\"},\"y_range\":{\"id\":\"a30ce151-0c7e-4249-b3df-ecfb357679cb\",\"type\":\"Range1d\"},\"y_scale\":{\"id\":\"184630b3-ea77-4623-b06a-9467b011b8f0\",\"type\":\"LogScale\"}},\"id\":\"204c96ba-1a28-45f7-bca3-8602e679b550\",\"subtype\":\"Figure\",\"type\":\"Plot\"},{\"attributes\":{\"line_alpha\":0.1,\"line_color\":\"#1f77b4\",\"x\":{\"field\":\"x\"},\"y\":{\"field\":\"y\"}},\"id\":\"89c524dd-a008-4ff4-9d1c-9eaf0a52b3b7\",\"type\":\"Line\"},{\"attributes\":{\"data_source\":{\"id\":\"ffe1d8b1-57d2-422f-b17f-11ed9f22fc02\",\"type\":\"ColumnDataSource\"},\"glyph\":{\"id\":\"27933556-de6c-4bb1-93ba-8c8a72d252a0\",\"type\":\"Line\"},\"hover_glyph\":null,\"muted_glyph\":null,\"nonselection_glyph\":{\"id\":\"0921a929-8d32-4a47-a49a-364637120021\",\"type\":\"Line\"},\"selection_glyph\":null,\"view\":{\"id\":\"eba1cd47-1f1e-434b-8f4a-ae0580a208c2\",\"type\":\"CDSView\"}},\"id\":\"bc95b106-fe13-4ca9-a712-4960f1933466\",\"type\":\"GlyphRenderer\"},{\"attributes\":{\"plot\":null,\"text\":\"Timing\"},\"id\":\"451a016a-cb6b-475a-9d38-cd6ef2fc5089\",\"type\":\"Title\"},{\"attributes\":{\"callback\":null,\"column_names\":[\"x\",\"y\"],\"data\":{\"x\":[1,2,5,10,20,50,100,200,500,1000,2000],\"y\":[3.0079390853643417e-06,2.980930730700493e-06,8.170027285814285e-06,2.24430114030838e-05,6.925896741449833e-05,0.00035684509202837944,0.0015316121280193329,0.007375265937298536,0.05917246709577739,0.27406985498964787,1.2293089928571135]}},\"id\":\"b9824ba0-2d8b-4834-9636-f8e71067ee26\",\"type\":\"ColumnDataSource\"},{\"attributes\":{\"callback\":null,\"start\":1e-06},\"id\":\"a30ce151-0c7e-4249-b3df-ecfb357679cb\",\"type\":\"Range1d\"},{\"attributes\":{\"active_drag\":\"auto\",\"active_inspect\":\"auto\",\"active_scroll\":\"auto\",\"active_tap\":\"auto\",\"tools\":[{\"id\":\"908e4f13-4051-4af1-8475-3fc03f4858a2\",\"type\":\"PanTool\"},{\"id\":\"25659844-a46b-49cc-8c71-cd71808a31e6\",\"type\":\"WheelZoomTool\"},{\"id\":\"f8697337-6918-4ccc-ba34-b13a2234e765\",\"type\":\"BoxZoomTool\"},{\"id\":\"a3f168ab-ea97-4418-9125-e96992faf9c6\",\"type\":\"SaveTool\"},{\"id\":\"d589b132-2391-4111-9533-fffbc5145f6c\",\"type\":\"ResetTool\"},{\"id\":\"f056c165-c4a4-4a95-851e-486f22d49d72\",\"type\":\"HelpTool\"}]},\"id\":\"65b64e0c-7166-4831-87e6-336bfcf1ee08\",\"type\":\"Toolbar\"},{\"attributes\":{\"label\":{\"value\":\"to_sqrt\"},\"renderers\":[{\"id\":\"a6d99007-d9a1-40bc-b819-0cf7a7980bfb\",\"type\":\"GlyphRenderer\"},{\"id\":\"6c2206fe-dba5-4364-91b6-a9a74107a62b\",\"type\":\"GlyphRenderer\"}]},\"id\":\"ecb63053-b5eb-491c-9c65-3a476e8d7880\",\"type\":\"LegendItem\"},{\"attributes\":{\"fill_color\":{\"value\":\"#1f77b4\"},\"line_color\":{\"value\":\"#1f77b4\"},\"x\":{\"field\":\"x\"},\"y\":{\"field\":\"y\"}},\"id\":\"b4ee1757-89dc-4fea-8b35-4b0ca83ea53b\",\"type\":\"Circle\"},{\"attributes\":{\"num_minor_ticks\":10},\"id\":\"d0f61e0b-5b34-4b73-9d71-e13a0fd89160\",\"type\":\"LogTicker\"},{\"attributes\":{\"fill_alpha\":{\"value\":0.1},\"fill_color\":{\"value\":\"#1f77b4\"},\"line_alpha\":{\"value\":0.1},\"line_color\":{\"value\":\"#1f77b4\"},\"x\":{\"field\":\"x\"},\"y\":{\"field\":\"y\"}},\"id\":\"d1fc2b9d-a6cf-4f54-9307-aa2281edb8f9\",\"type\":\"Circle\"},{\"attributes\":{\"overlay\":{\"id\":\"55e91635-bcad-49a8-8951-1754e4070b6a\",\"type\":\"BoxAnnotation\"}},\"id\":\"f8697337-6918-4ccc-ba34-b13a2234e765\",\"type\":\"BoxZoomTool\"},{\"attributes\":{\"fill_alpha\":{\"value\":0.1},\"fill_color\":{\"value\":\"#1f77b4\"},\"line_alpha\":{\"value\":0.1},\"line_color\":{\"value\":\"#1f77b4\"},\"x\":{\"field\":\"x\"},\"y\":{\"field\":\"y\"}},\"id\":\"a5d7d291-82ba-4f3c-8ceb-a3c2ae5a14a1\",\"type\":\"Circle\"},{\"attributes\":{\"num_minor_ticks\":10},\"id\":\"311cf9e1-294f-4450-9d8d-3e158f492c0e\",\"type\":\"LogTicker\"},{\"attributes\":{\"plot\":{\"id\":\"204c96ba-1a28-45f7-bca3-8602e679b550\",\"subtype\":\"Figure\",\"type\":\"Plot\"},\"ticker\":{\"id\":\"d0f61e0b-5b34-4b73-9d71-e13a0fd89160\",\"type\":\"LogTicker\"}},\"id\":\"b3254beb-4b44-4b04-8cf6-0f7deb9fbcd1\",\"type\":\"Grid\"},{\"attributes\":{\"line_color\":\"#ff7f0e\",\"line_dash\":[6],\"x\":{\"field\":\"x\"},\"y\":{\"field\":\"y\"}},\"id\":\"27933556-de6c-4bb1-93ba-8c8a72d252a0\",\"type\":\"Line\"},{\"attributes\":{},\"id\":\"c281d230-d3f7-4749-89d0-bf369cab0ad2\",\"type\":\"LogScale\"},{\"attributes\":{\"format\":\"0[.]0 a\"},\"id\":\"54c34445-44cb-4808-9505-21e9b8f54306\",\"type\":\"NumeralTickFormatter\"},{\"attributes\":{\"axis_label\":\"Primes\",\"formatter\":{\"id\":\"54c34445-44cb-4808-9505-21e9b8f54306\",\"type\":\"NumeralTickFormatter\"},\"plot\":{\"id\":\"204c96ba-1a28-45f7-bca3-8602e679b550\",\"subtype\":\"Figure\",\"type\":\"Plot\"},\"ticker\":{\"id\":\"d0f61e0b-5b34-4b73-9d71-e13a0fd89160\",\"type\":\"LogTicker\"}},\"id\":\"3ba3ad8d-407f-474d-9be1-be25e09095a2\",\"type\":\"LogAxis\"},{\"attributes\":{},\"id\":\"184630b3-ea77-4623-b06a-9467b011b8f0\",\"type\":\"LogScale\"},{\"attributes\":{\"axis_label\":\"Seconds\",\"formatter\":{\"id\":\"0aaa413b-6b59-4574-9c08-82dd4db92c1f\",\"type\":\"LogTickFormatter\"},\"plot\":{\"id\":\"204c96ba-1a28-45f7-bca3-8602e679b550\",\"subtype\":\"Figure\",\"type\":\"Plot\"},\"ticker\":{\"id\":\"311cf9e1-294f-4450-9d8d-3e158f492c0e\",\"type\":\"LogTicker\"}},\"id\":\"f455bd76-b60d-4b30-a9ff-1db9121b7e9e\",\"type\":\"LogAxis\"},{\"attributes\":{\"dimension\":1,\"plot\":{\"id\":\"204c96ba-1a28-45f7-bca3-8602e679b550\",\"subtype\":\"Figure\",\"type\":\"Plot\"},\"ticker\":{\"id\":\"311cf9e1-294f-4450-9d8d-3e158f492c0e\",\"type\":\"LogTicker\"}},\"id\":\"36c648f6-f067-40e8-9e79-309af987332e\",\"type\":\"Grid\"},{\"attributes\":{\"line_color\":\"#1f77b4\",\"line_dash\":[6],\"x\":{\"field\":\"x\"},\"y\":{\"field\":\"y\"}},\"id\":\"e6cb9653-5357-4f65-a8e4-30a101663fbe\",\"type\":\"Line\"},{\"attributes\":{\"ticker\":null},\"id\":\"0aaa413b-6b59-4574-9c08-82dd4db92c1f\",\"type\":\"LogTickFormatter\"},{\"attributes\":{\"label\":{\"value\":\"first_try\"},\"renderers\":[{\"id\":\"01ed8148-6136-4062-8ace-b949b6b98c81\",\"type\":\"GlyphRenderer\"},{\"id\":\"0969bbf1-562d-49c6-8e09-d9025dcf10d6\",\"type\":\"GlyphRenderer\"}]},\"id\":\"5dec7a71-a56f-469d-bdf8-7b78597ebf54\",\"type\":\"LegendItem\"}],\"root_ids\":[\"204c96ba-1a28-45f7-bca3-8602e679b550\"]},\"title\":\"Bokeh Application\",\"version\":\"0.12.14\"}};\n",
       "  var render_items = [{\"docid\":\"26d4aa5b-b690-4820-aed1-ddf57774f191\",\"elementid\":\"167bd548-819a-47bf-9ce8-42c154bf5efb\",\"modelid\":\"204c96ba-1a28-45f7-bca3-8602e679b550\",\"notebook_comms_target\":\"e90c4782-873f-45eb-9e3b-b8c28b211481\"}];\n",
       "  root.Bokeh.embed.embed_items_notebook(docs_json, render_items);\n",
       "\n",
       "  }\n",
       "  if (root.Bokeh !== undefined) {\n",
       "    embed_document(root);\n",
       "  } else {\n",
       "    var attempts = 0;\n",
       "    var timer = setInterval(function(root) {\n",
       "      if (root.Bokeh !== undefined) {\n",
       "        embed_document(root);\n",
       "        clearInterval(timer);\n",
       "      }\n",
       "      attempts++;\n",
       "      if (attempts > 100) {\n",
       "        console.log(\"Bokeh: ERROR: Unable to run BokehJS code because BokehJS library is missing\")\n",
       "        clearInterval(timer);\n",
       "      }\n",
       "    }, 10, root)\n",
       "  }\n",
       "})(window);"
      ],
      "application/vnd.bokehjs_exec.v0+json": ""
     },
     "metadata": {
      "application/vnd.bokehjs_exec.v0+json": {
       "id": "204c96ba-1a28-45f7-bca3-8602e679b550"
      }
     },
     "output_type": "display_data"
    }
   ],
   "source": [
    "timing_plot(to_sqrt)"
   ]
  },
  {
   "cell_type": "markdown",
   "metadata": {
    "slideshow": {
     "slide_type": "slide"
    }
   },
   "source": [
    "## Is this the best we can do?"
   ]
  },
  {
   "cell_type": "markdown",
   "metadata": {
    "slideshow": {
     "slide_type": "fragment"
    }
   },
   "source": [
    "We are still checking more numbers than necessary:  \n",
    "e.g. once we've tested for divisibility by 3 and 5,  \n",
    "we shouldn't need to test their multiples (e.g. 9, 15, 25, 30, 45... etc)."
   ]
  },
  {
   "cell_type": "markdown",
   "metadata": {
    "slideshow": {
     "slide_type": "fragment"
    }
   },
   "source": [
    "i.e. we only need to check for divisibility by primes."
   ]
  },
  {
   "cell_type": "markdown",
   "metadata": {
    "slideshow": {
     "slide_type": "slide"
    }
   },
   "source": [
    "## What about storing a list of primes so far, and only test dividing by those?"
   ]
  },
  {
   "cell_type": "code",
   "execution_count": 11,
   "metadata": {
    "slideshow": {
     "slide_type": "fragment"
    }
   },
   "outputs": [],
   "source": [
    "from itertools import count\n",
    "\n",
    "def check_primes():\n",
    "    yield 2\n",
    "    primelist = []\n",
    "    for candidate in count(3, 2):\n",
    "        for p in primelist:\n",
    "            if candidate % p == 0:\n",
    "                break\n",
    "        else:\n",
    "            yield candidate\n",
    "            primelist.append(candidate)"
   ]
  },
  {
   "cell_type": "code",
   "execution_count": 12,
   "metadata": {
    "slideshow": {
     "slide_type": "slide"
    }
   },
   "outputs": [
    {
     "data": {
      "text/html": [
       "\n",
       "<div class=\"bk-root\">\n",
       "    <div class=\"bk-plotdiv\" id=\"5532954c-e86f-4f1a-b923-62c232e62cc5\"></div>\n",
       "</div>"
      ]
     },
     "metadata": {},
     "output_type": "display_data"
    },
    {
     "data": {
      "application/javascript": [
       "(function(root) {\n",
       "  function embed_document(root) {\n",
       "    \n",
       "  var docs_json = {\"8eefcf71-85d2-4519-90f7-2807e2e981b7\":{\"roots\":{\"references\":[{\"attributes\":{\"source\":{\"id\":\"99fa3d66-2ba1-41f1-8017-6e53ec3d1c71\",\"type\":\"ColumnDataSource\"}},\"id\":\"d82106eb-0401-4564-8454-971753dca60b\",\"type\":\"CDSView\"},{\"attributes\":{\"line_alpha\":0.1,\"line_color\":\"#1f77b4\",\"line_dash\":[6],\"x\":{\"field\":\"x\"},\"y\":{\"field\":\"y\"}},\"id\":\"017306fa-e7ee-4d07-8a75-6ba9d6020ece\",\"type\":\"Line\"},{\"attributes\":{\"source\":{\"id\":\"99e0f1fc-2d08-4809-a085-3ea9f67609b7\",\"type\":\"ColumnDataSource\"}},\"id\":\"dc7c4d08-1b68-4b4c-aae3-097af3f64b40\",\"type\":\"CDSView\"},{\"attributes\":{\"format\":\"0[.]0 a\"},\"id\":\"1dddfb53-a3c4-404e-b6b7-882d12592946\",\"type\":\"NumeralTickFormatter\"},{\"attributes\":{\"callback\":null,\"column_names\":[\"x\",\"y\"],\"data\":{\"x\":[1,2,5,10,20,50,100,200,500,1000,2000,5000,10000,20000,50000],\"y\":[1.3171229511499405e-06,2.8780195862054825e-06,6.7069195210933685e-06,1.4960067346692085e-05,5.4510077461600304e-05,0.00012037507258355618,0.0003023201134055853,0.0007400668691843748,0.002520353067666292,0.00632662489078939,0.01610450493171811,0.05177717702463269,0.1080278200097382,0.29799197404645383,1.25529725686647]}},\"id\":\"99e0f1fc-2d08-4809-a085-3ea9f67609b7\",\"type\":\"ColumnDataSource\"},{\"attributes\":{\"data_source\":{\"id\":\"99e0f1fc-2d08-4809-a085-3ea9f67609b7\",\"type\":\"ColumnDataSource\"},\"glyph\":{\"id\":\"a2d8d9b5-e563-46bb-a4a8-34043f1c463d\",\"type\":\"Circle\"},\"hover_glyph\":null,\"muted_glyph\":null,\"nonselection_glyph\":{\"id\":\"a4e59cda-5378-4a1c-b08c-1d9c4f8b57e4\",\"type\":\"Circle\"},\"selection_glyph\":null,\"view\":{\"id\":\"dc7c4d08-1b68-4b4c-aae3-097af3f64b40\",\"type\":\"CDSView\"}},\"id\":\"9f113718-b48e-4735-814e-c5016a04b073\",\"type\":\"GlyphRenderer\"},{\"attributes\":{\"callback\":null,\"start\":1},\"id\":\"0acb9a12-1f24-4d58-b9ba-66d5eeac7ec6\",\"type\":\"DataRange1d\"},{\"attributes\":{\"line_alpha\":0.1,\"line_color\":\"#1f77b4\",\"line_dash\":[6],\"x\":{\"field\":\"x\"},\"y\":{\"field\":\"y\"}},\"id\":\"df5a8160-79f3-482a-bf76-9f8f3626ce64\",\"type\":\"Line\"},{\"attributes\":{\"below\":[{\"id\":\"e6173397-2847-48aa-b0c3-5d0f33c32d2d\",\"type\":\"LogAxis\"}],\"left\":[{\"id\":\"f3de7c28-c6ed-44eb-a6e0-6a26cd7ee7a8\",\"type\":\"LogAxis\"}],\"plot_height\":400,\"plot_width\":800,\"renderers\":[{\"id\":\"e6173397-2847-48aa-b0c3-5d0f33c32d2d\",\"type\":\"LogAxis\"},{\"id\":\"8175ec7b-afe2-43a6-bc11-5ab5ec8ba418\",\"type\":\"Grid\"},{\"id\":\"f3de7c28-c6ed-44eb-a6e0-6a26cd7ee7a8\",\"type\":\"LogAxis\"},{\"id\":\"0f088a4d-b8f3-425c-9653-68f8a75a9e7b\",\"type\":\"Grid\"},{\"id\":\"53eec4c3-786a-4dec-9ca4-33f5e70abe50\",\"type\":\"BoxAnnotation\"},{\"id\":\"5cd04854-3e6a-42ce-bb70-d2c1ff42c8ba\",\"type\":\"Legend\"},{\"id\":\"e07f4f85-45e1-4168-9d9f-e4de1e33d70d\",\"type\":\"GlyphRenderer\"},{\"id\":\"881097d7-0e09-4f7b-9dd9-baeaa5d92eb3\",\"type\":\"GlyphRenderer\"},{\"id\":\"66451f56-fd14-4336-8724-b3bf20b04bba\",\"type\":\"GlyphRenderer\"},{\"id\":\"c9c70c2d-b87a-467b-a27b-4e752e42a438\",\"type\":\"GlyphRenderer\"},{\"id\":\"ee08e59d-4535-402b-b41e-3825c864eeb9\",\"type\":\"GlyphRenderer\"},{\"id\":\"9f113718-b48e-4735-814e-c5016a04b073\",\"type\":\"GlyphRenderer\"},{\"id\":\"5a035dca-2c76-4bac-a80c-baacc4fe0ee7\",\"type\":\"GlyphRenderer\"},{\"id\":\"10c5616d-43ae-4a36-929b-7c6a2ec3d37e\",\"type\":\"GlyphRenderer\"}],\"title\":{\"id\":\"8e6d9f12-98f1-4578-8c39-1d23f6b2bd5b\",\"type\":\"Title\"},\"toolbar\":{\"id\":\"7483d110-6fad-4479-b527-b68199b52bff\",\"type\":\"Toolbar\"},\"toolbar_location\":\"above\",\"x_range\":{\"id\":\"0acb9a12-1f24-4d58-b9ba-66d5eeac7ec6\",\"type\":\"DataRange1d\"},\"x_scale\":{\"id\":\"3f12129a-3615-4e35-a044-b605c08db2cd\",\"type\":\"LogScale\"},\"y_range\":{\"id\":\"8c414f52-bc24-42da-a089-c08cbd3bf494\",\"type\":\"Range1d\"},\"y_scale\":{\"id\":\"44e191a1-0b46-4043-abd2-a7c3e21e84e1\",\"type\":\"LogScale\"}},\"id\":\"b989b89b-9580-42cf-800f-26d5e97d52d9\",\"subtype\":\"Figure\",\"type\":\"Plot\"},{\"attributes\":{\"plot\":null,\"text\":\"Timing\"},\"id\":\"8e6d9f12-98f1-4578-8c39-1d23f6b2bd5b\",\"type\":\"Title\"},{\"attributes\":{\"source\":{\"id\":\"99fa3d66-2ba1-41f1-8017-6e53ec3d1c71\",\"type\":\"ColumnDataSource\"}},\"id\":\"500ead94-5e59-4f1e-8787-91628bbeef9d\",\"type\":\"CDSView\"},{\"attributes\":{\"callback\":null,\"start\":1e-06},\"id\":\"8c414f52-bc24-42da-a089-c08cbd3bf494\",\"type\":\"Range1d\"},{\"attributes\":{\"active_drag\":\"auto\",\"active_inspect\":\"auto\",\"active_scroll\":\"auto\",\"active_tap\":\"auto\",\"tools\":[{\"id\":\"9bab36c0-c246-4e65-9f17-716540c2e258\",\"type\":\"PanTool\"},{\"id\":\"35b6cd30-ffca-47d9-b69e-ba3db359b52c\",\"type\":\"WheelZoomTool\"},{\"id\":\"75cd3137-508f-4e9d-a617-f3d6062e8ea8\",\"type\":\"BoxZoomTool\"},{\"id\":\"2667467f-5a5c-4595-b474-c6b07055df65\",\"type\":\"SaveTool\"},{\"id\":\"0fe120e4-2f93-4526-9329-6b9565448514\",\"type\":\"ResetTool\"},{\"id\":\"d9097ab8-3a1c-4c02-a4f8-023ff0a44ec0\",\"type\":\"HelpTool\"}]},\"id\":\"7483d110-6fad-4479-b527-b68199b52bff\",\"type\":\"Toolbar\"},{\"attributes\":{\"fill_color\":{\"value\":\"#2ca02c\"},\"line_color\":{\"value\":\"#2ca02c\"},\"x\":{\"field\":\"x\"},\"y\":{\"field\":\"y\"}},\"id\":\"a2d8d9b5-e563-46bb-a4a8-34043f1c463d\",\"type\":\"Circle\"},{\"attributes\":{\"num_minor_ticks\":10},\"id\":\"b7d623b2-b545-4c3b-bd03-ae8e5b943d21\",\"type\":\"LogTicker\"},{\"attributes\":{\"fill_color\":{\"value\":\"#d62728\"},\"line_color\":{\"value\":\"#d62728\"},\"x\":{\"field\":\"x\"},\"y\":{\"field\":\"y\"}},\"id\":\"e5b4f540-b1e5-49ba-8a7e-da38bbdc3a39\",\"type\":\"Circle\"},{\"attributes\":{\"line_color\":\"#d62728\",\"x\":{\"field\":\"x\"},\"y\":{\"field\":\"y\"}},\"id\":\"c3f5831e-0f2e-4275-87f6-197c3c001d0a\",\"type\":\"Line\"},{\"attributes\":{\"data_source\":{\"id\":\"99fa3d66-2ba1-41f1-8017-6e53ec3d1c71\",\"type\":\"ColumnDataSource\"},\"glyph\":{\"id\":\"e5b4f540-b1e5-49ba-8a7e-da38bbdc3a39\",\"type\":\"Circle\"},\"hover_glyph\":null,\"muted_glyph\":null,\"nonselection_glyph\":{\"id\":\"3c50bc46-9e2c-4715-b9f6-8e63a5b16a92\",\"type\":\"Circle\"},\"selection_glyph\":null,\"view\":{\"id\":\"d82106eb-0401-4564-8454-971753dca60b\",\"type\":\"CDSView\"}},\"id\":\"10c5616d-43ae-4a36-929b-7c6a2ec3d37e\",\"type\":\"GlyphRenderer\"},{\"attributes\":{\"data_source\":{\"id\":\"99fa3d66-2ba1-41f1-8017-6e53ec3d1c71\",\"type\":\"ColumnDataSource\"},\"glyph\":{\"id\":\"c3f5831e-0f2e-4275-87f6-197c3c001d0a\",\"type\":\"Line\"},\"hover_glyph\":null,\"muted_glyph\":null,\"nonselection_glyph\":{\"id\":\"a4dbd273-303a-4a15-8515-69d35f3b4c24\",\"type\":\"Line\"},\"selection_glyph\":null,\"view\":{\"id\":\"500ead94-5e59-4f1e-8787-91628bbeef9d\",\"type\":\"CDSView\"}},\"id\":\"5a035dca-2c76-4bac-a80c-baacc4fe0ee7\",\"type\":\"GlyphRenderer\"},{\"attributes\":{\"num_minor_ticks\":10},\"id\":\"73e8d17b-3174-4d46-ac1b-b6ec04b41e56\",\"type\":\"LogTicker\"},{\"attributes\":{\"source\":{\"id\":\"1b1e9380-d06b-495f-9af8-63cfcefe55de\",\"type\":\"ColumnDataSource\"}},\"id\":\"3dd25ccd-6b18-4925-9efa-d06449d7a29b\",\"type\":\"CDSView\"},{\"attributes\":{\"callback\":null,\"column_names\":[\"x\",\"y\"],\"data\":{\"x\":[1,2,5,10,20,50,100,200,500,1000,2000,5000,10000,20000,50000],\"y\":[1.3171229511499405e-06,2.8780195862054825e-06,6.7069195210933685e-06,1.4960067346692085e-05,5.4510077461600304e-05,0.00012037507258355618,0.0003023201134055853,0.0007400668691843748,0.002520353067666292,0.00632662489078939,0.01610450493171811,0.05177717702463269,0.1080278200097382,0.29799197404645383,1.25529725686647]}},\"id\":\"1b1e9380-d06b-495f-9af8-63cfcefe55de\",\"type\":\"ColumnDataSource\"},{\"attributes\":{\"plot\":{\"id\":\"b989b89b-9580-42cf-800f-26d5e97d52d9\",\"subtype\":\"Figure\",\"type\":\"Plot\"},\"ticker\":{\"id\":\"b7d623b2-b545-4c3b-bd03-ae8e5b943d21\",\"type\":\"LogTicker\"}},\"id\":\"8175ec7b-afe2-43a6-bc11-5ab5ec8ba418\",\"type\":\"Grid\"},{\"attributes\":{},\"id\":\"3f12129a-3615-4e35-a044-b605c08db2cd\",\"type\":\"LogScale\"},{\"attributes\":{\"axis_label\":\"Primes\",\"formatter\":{\"id\":\"1dddfb53-a3c4-404e-b6b7-882d12592946\",\"type\":\"NumeralTickFormatter\"},\"plot\":{\"id\":\"b989b89b-9580-42cf-800f-26d5e97d52d9\",\"subtype\":\"Figure\",\"type\":\"Plot\"},\"ticker\":{\"id\":\"b7d623b2-b545-4c3b-bd03-ae8e5b943d21\",\"type\":\"LogTicker\"}},\"id\":\"e6173397-2847-48aa-b0c3-5d0f33c32d2d\",\"type\":\"LogAxis\"},{\"attributes\":{\"source\":{\"id\":\"28d445d6-6c1c-4a47-8d28-cd6886b6b62f\",\"type\":\"ColumnDataSource\"}},\"id\":\"ee939bde-5182-4619-9c66-c37c7711244d\",\"type\":\"CDSView\"},{\"attributes\":{},\"id\":\"44e191a1-0b46-4043-abd2-a7c3e21e84e1\",\"type\":\"LogScale\"},{\"attributes\":{\"axis_label\":\"Seconds\",\"formatter\":{\"id\":\"117cbda5-9a5e-4ce9-b7ab-3d4ac4519ef0\",\"type\":\"LogTickFormatter\"},\"plot\":{\"id\":\"b989b89b-9580-42cf-800f-26d5e97d52d9\",\"subtype\":\"Figure\",\"type\":\"Plot\"},\"ticker\":{\"id\":\"73e8d17b-3174-4d46-ac1b-b6ec04b41e56\",\"type\":\"LogTicker\"}},\"id\":\"f3de7c28-c6ed-44eb-a6e0-6a26cd7ee7a8\",\"type\":\"LogAxis\"},{\"attributes\":{\"dimension\":1,\"plot\":{\"id\":\"b989b89b-9580-42cf-800f-26d5e97d52d9\",\"subtype\":\"Figure\",\"type\":\"Plot\"},\"ticker\":{\"id\":\"73e8d17b-3174-4d46-ac1b-b6ec04b41e56\",\"type\":\"LogTicker\"}},\"id\":\"0f088a4d-b8f3-425c-9653-68f8a75a9e7b\",\"type\":\"Grid\"},{\"attributes\":{\"fill_alpha\":{\"value\":0.1},\"fill_color\":{\"value\":\"#1f77b4\"},\"line_alpha\":{\"value\":0.1},\"line_color\":{\"value\":\"#1f77b4\"},\"x\":{\"field\":\"x\"},\"y\":{\"field\":\"y\"}},\"id\":\"a51d813c-3859-43b2-afc4-32b29bb4a350\",\"type\":\"Circle\"},{\"attributes\":{\"line_color\":\"#1f77b4\",\"line_dash\":[6],\"x\":{\"field\":\"x\"},\"y\":{\"field\":\"y\"}},\"id\":\"4a91404a-c376-43de-afdd-6f9255d0677c\",\"type\":\"Line\"},{\"attributes\":{\"line_alpha\":0.1,\"line_color\":\"#1f77b4\",\"line_dash\":[6],\"x\":{\"field\":\"x\"},\"y\":{\"field\":\"y\"}},\"id\":\"f87cc3b5-2dab-466e-b4f6-99fe72d669fe\",\"type\":\"Line\"},{\"attributes\":{\"background_fill_alpha\":{\"value\":0.5},\"click_policy\":\"hide\",\"items\":[{\"id\":\"2b95d64f-ec3e-48a9-bfb7-b2b2632a0b08\",\"type\":\"LegendItem\"},{\"id\":\"6f83574c-d648-4ab9-a4fb-9e373099045f\",\"type\":\"LegendItem\"},{\"id\":\"59dd426f-2b27-4d97-8502-5988ed34f3d4\",\"type\":\"LegendItem\"},{\"id\":\"d1b4c979-951c-4757-81e0-f74ba313f2fc\",\"type\":\"LegendItem\"}],\"location\":\"top_left\",\"plot\":{\"id\":\"b989b89b-9580-42cf-800f-26d5e97d52d9\",\"subtype\":\"Figure\",\"type\":\"Plot\"}},\"id\":\"5cd04854-3e6a-42ce-bb70-d2c1ff42c8ba\",\"type\":\"Legend\"},{\"attributes\":{\"callback\":null,\"column_names\":[\"x\",\"y\"],\"data\":{\"x\":[1,2,5,10,20,50,100,200,500,1000,2000,5000],\"y\":[1.4319084584712982e-06,2.3900065571069717e-06,5.2889809012413025e-06,1.3441778719425201e-05,4.3275998905301094e-05,0.00022354512475430965,0.0009551611728966236,0.005093520972877741,0.0360875460319221,0.16740669403225183,0.6574779360089451,4.291011564899236]}},\"id\":\"8db4d7d2-d79e-4056-9df6-51b71fd1ce12\",\"type\":\"ColumnDataSource\"},{\"attributes\":{\"data_source\":{\"id\":\"8db4d7d2-d79e-4056-9df6-51b71fd1ce12\",\"type\":\"ColumnDataSource\"},\"glyph\":{\"id\":\"c97397e4-2c6a-4e8f-9ce7-1ba5a65da884\",\"type\":\"Line\"},\"hover_glyph\":null,\"muted_glyph\":null,\"nonselection_glyph\":{\"id\":\"017306fa-e7ee-4d07-8a75-6ba9d6020ece\",\"type\":\"Line\"},\"selection_glyph\":null,\"view\":{\"id\":\"bb902fbb-f56a-4947-8f1a-06fabf0f7990\",\"type\":\"CDSView\"}},\"id\":\"66451f56-fd14-4336-8724-b3bf20b04bba\",\"type\":\"GlyphRenderer\"},{\"attributes\":{\"callback\":null,\"column_names\":[\"x\",\"y\"],\"data\":{\"x\":[1,2,5,10,20,50,100,200,500,1000,2000],\"y\":[3.0079390853643417e-06,2.980930730700493e-06,8.170027285814285e-06,2.24430114030838e-05,6.925896741449833e-05,0.00035684509202837944,0.0015316121280193329,0.007375265937298536,0.05917246709577739,0.27406985498964787,1.2293089928571135]}},\"id\":\"a3900f79-2957-4268-9031-a35ea05fc3f3\",\"type\":\"ColumnDataSource\"},{\"attributes\":{\"bottom_units\":\"screen\",\"fill_alpha\":{\"value\":0.5},\"fill_color\":{\"value\":\"lightgrey\"},\"left_units\":\"screen\",\"level\":\"overlay\",\"line_alpha\":{\"value\":1.0},\"line_color\":{\"value\":\"black\"},\"line_dash\":[4,4],\"line_width\":{\"value\":2},\"plot\":null,\"render_mode\":\"css\",\"right_units\":\"screen\",\"top_units\":\"screen\"},\"id\":\"53eec4c3-786a-4dec-9ca4-33f5e70abe50\",\"type\":\"BoxAnnotation\"},{\"attributes\":{\"callback\":null,\"column_names\":[\"x\",\"y\"],\"data\":{\"x\":[1,2,5,10,20,50,100,200,500,1000,2000,5000],\"y\":[1.4319084584712982e-06,2.3900065571069717e-06,5.2889809012413025e-06,1.3441778719425201e-05,4.3275998905301094e-05,0.00022354512475430965,0.0009551611728966236,0.005093520972877741,0.0360875460319221,0.16740669403225183,0.6574779360089451,4.291011564899236]}},\"id\":\"28d445d6-6c1c-4a47-8d28-cd6886b6b62f\",\"type\":\"ColumnDataSource\"},{\"attributes\":{},\"id\":\"9bab36c0-c246-4e65-9f17-716540c2e258\",\"type\":\"PanTool\"},{\"attributes\":{\"data_source\":{\"id\":\"a3900f79-2957-4268-9031-a35ea05fc3f3\",\"type\":\"ColumnDataSource\"},\"glyph\":{\"id\":\"4a91404a-c376-43de-afdd-6f9255d0677c\",\"type\":\"Line\"},\"hover_glyph\":null,\"muted_glyph\":null,\"nonselection_glyph\":{\"id\":\"df5a8160-79f3-482a-bf76-9f8f3626ce64\",\"type\":\"Line\"},\"selection_glyph\":null,\"view\":{\"id\":\"0c376128-c892-4dd6-a848-6dde6c666913\",\"type\":\"CDSView\"}},\"id\":\"e07f4f85-45e1-4168-9d9f-e4de1e33d70d\",\"type\":\"GlyphRenderer\"},{\"attributes\":{},\"id\":\"35b6cd30-ffca-47d9-b69e-ba3db359b52c\",\"type\":\"WheelZoomTool\"},{\"attributes\":{\"source\":{\"id\":\"8db4d7d2-d79e-4056-9df6-51b71fd1ce12\",\"type\":\"ColumnDataSource\"}},\"id\":\"bb902fbb-f56a-4947-8f1a-06fabf0f7990\",\"type\":\"CDSView\"},{\"attributes\":{\"overlay\":{\"id\":\"53eec4c3-786a-4dec-9ca4-33f5e70abe50\",\"type\":\"BoxAnnotation\"}},\"id\":\"75cd3137-508f-4e9d-a617-f3d6062e8ea8\",\"type\":\"BoxZoomTool\"},{\"attributes\":{},\"id\":\"2667467f-5a5c-4595-b474-c6b07055df65\",\"type\":\"SaveTool\"},{\"attributes\":{},\"id\":\"0fe120e4-2f93-4526-9329-6b9565448514\",\"type\":\"ResetTool\"},{\"attributes\":{},\"id\":\"d9097ab8-3a1c-4c02-a4f8-023ff0a44ec0\",\"type\":\"HelpTool\"},{\"attributes\":{\"source\":{\"id\":\"c4f9a03e-142f-4764-8385-c821612120c9\",\"type\":\"ColumnDataSource\"}},\"id\":\"7b3b6f91-a589-4545-a4d2-a35608202d18\",\"type\":\"CDSView\"},{\"attributes\":{\"ticker\":null},\"id\":\"117cbda5-9a5e-4ce9-b7ab-3d4ac4519ef0\",\"type\":\"LogTickFormatter\"},{\"attributes\":{\"source\":{\"id\":\"a3900f79-2957-4268-9031-a35ea05fc3f3\",\"type\":\"ColumnDataSource\"}},\"id\":\"0c376128-c892-4dd6-a848-6dde6c666913\",\"type\":\"CDSView\"},{\"attributes\":{\"label\":{\"value\":\"first_try\"},\"renderers\":[{\"id\":\"e07f4f85-45e1-4168-9d9f-e4de1e33d70d\",\"type\":\"GlyphRenderer\"},{\"id\":\"881097d7-0e09-4f7b-9dd9-baeaa5d92eb3\",\"type\":\"GlyphRenderer\"}]},\"id\":\"2b95d64f-ec3e-48a9-bfb7-b2b2632a0b08\",\"type\":\"LegendItem\"},{\"attributes\":{\"callback\":null,\"column_names\":[\"x\",\"y\"],\"data\":{\"x\":[1,2,5,10,20,50,100,200,500,1000,2000],\"y\":[3.0079390853643417e-06,2.980930730700493e-06,8.170027285814285e-06,2.24430114030838e-05,6.925896741449833e-05,0.00035684509202837944,0.0015316121280193329,0.007375265937298536,0.05917246709577739,0.27406985498964787,1.2293089928571135]}},\"id\":\"c4f9a03e-142f-4764-8385-c821612120c9\",\"type\":\"ColumnDataSource\"},{\"attributes\":{\"fill_alpha\":{\"value\":0.1},\"fill_color\":{\"value\":\"#1f77b4\"},\"line_alpha\":{\"value\":0.1},\"line_color\":{\"value\":\"#1f77b4\"},\"x\":{\"field\":\"x\"},\"y\":{\"field\":\"y\"}},\"id\":\"c74bf7fe-9d02-458f-ab30-0e43fe0802d5\",\"type\":\"Circle\"},{\"attributes\":{\"data_source\":{\"id\":\"c4f9a03e-142f-4764-8385-c821612120c9\",\"type\":\"ColumnDataSource\"},\"glyph\":{\"id\":\"e1a5d54f-899f-400a-be99-7608755f91eb\",\"type\":\"Circle\"},\"hover_glyph\":null,\"muted_glyph\":null,\"nonselection_glyph\":{\"id\":\"a51d813c-3859-43b2-afc4-32b29bb4a350\",\"type\":\"Circle\"},\"selection_glyph\":null,\"view\":{\"id\":\"7b3b6f91-a589-4545-a4d2-a35608202d18\",\"type\":\"CDSView\"}},\"id\":\"881097d7-0e09-4f7b-9dd9-baeaa5d92eb3\",\"type\":\"GlyphRenderer\"},{\"attributes\":{\"fill_color\":{\"value\":\"#1f77b4\"},\"line_color\":{\"value\":\"#1f77b4\"},\"x\":{\"field\":\"x\"},\"y\":{\"field\":\"y\"}},\"id\":\"e1a5d54f-899f-400a-be99-7608755f91eb\",\"type\":\"Circle\"},{\"attributes\":{\"label\":{\"value\":\"to_sqrt\"},\"renderers\":[{\"id\":\"ee08e59d-4535-402b-b41e-3825c864eeb9\",\"type\":\"GlyphRenderer\"},{\"id\":\"9f113718-b48e-4735-814e-c5016a04b073\",\"type\":\"GlyphRenderer\"}]},\"id\":\"59dd426f-2b27-4d97-8502-5988ed34f3d4\",\"type\":\"LegendItem\"},{\"attributes\":{\"fill_alpha\":{\"value\":0.1},\"fill_color\":{\"value\":\"#1f77b4\"},\"line_alpha\":{\"value\":0.1},\"line_color\":{\"value\":\"#1f77b4\"},\"x\":{\"field\":\"x\"},\"y\":{\"field\":\"y\"}},\"id\":\"3c50bc46-9e2c-4715-b9f6-8e63a5b16a92\",\"type\":\"Circle\"},{\"attributes\":{\"line_color\":\"#2ca02c\",\"line_dash\":[6],\"x\":{\"field\":\"x\"},\"y\":{\"field\":\"y\"}},\"id\":\"757f0370-3272-483b-8dda-ae9b7a9358fc\",\"type\":\"Line\"},{\"attributes\":{\"fill_alpha\":{\"value\":0.1},\"fill_color\":{\"value\":\"#1f77b4\"},\"line_alpha\":{\"value\":0.1},\"line_color\":{\"value\":\"#1f77b4\"},\"x\":{\"field\":\"x\"},\"y\":{\"field\":\"y\"}},\"id\":\"a4e59cda-5378-4a1c-b08c-1d9c4f8b57e4\",\"type\":\"Circle\"},{\"attributes\":{\"line_color\":\"#ff7f0e\",\"line_dash\":[6],\"x\":{\"field\":\"x\"},\"y\":{\"field\":\"y\"}},\"id\":\"c97397e4-2c6a-4e8f-9ce7-1ba5a65da884\",\"type\":\"Line\"},{\"attributes\":{\"callback\":null,\"column_names\":[\"x\",\"y\"],\"data\":{\"x\":[],\"y\":[]}},\"id\":\"99fa3d66-2ba1-41f1-8017-6e53ec3d1c71\",\"type\":\"ColumnDataSource\"},{\"attributes\":{\"label\":{\"value\":\"only_odd\"},\"renderers\":[{\"id\":\"66451f56-fd14-4336-8724-b3bf20b04bba\",\"type\":\"GlyphRenderer\"},{\"id\":\"c9c70c2d-b87a-467b-a27b-4e752e42a438\",\"type\":\"GlyphRenderer\"}]},\"id\":\"6f83574c-d648-4ab9-a4fb-9e373099045f\",\"type\":\"LegendItem\"},{\"attributes\":{\"line_alpha\":0.1,\"line_color\":\"#1f77b4\",\"x\":{\"field\":\"x\"},\"y\":{\"field\":\"y\"}},\"id\":\"a4dbd273-303a-4a15-8515-69d35f3b4c24\",\"type\":\"Line\"},{\"attributes\":{\"data_source\":{\"id\":\"28d445d6-6c1c-4a47-8d28-cd6886b6b62f\",\"type\":\"ColumnDataSource\"},\"glyph\":{\"id\":\"3f2c3aa0-764a-4626-9c30-bc5022314af3\",\"type\":\"Circle\"},\"hover_glyph\":null,\"muted_glyph\":null,\"nonselection_glyph\":{\"id\":\"c74bf7fe-9d02-458f-ab30-0e43fe0802d5\",\"type\":\"Circle\"},\"selection_glyph\":null,\"view\":{\"id\":\"ee939bde-5182-4619-9c66-c37c7711244d\",\"type\":\"CDSView\"}},\"id\":\"c9c70c2d-b87a-467b-a27b-4e752e42a438\",\"type\":\"GlyphRenderer\"},{\"attributes\":{\"fill_color\":{\"value\":\"#ff7f0e\"},\"line_color\":{\"value\":\"#ff7f0e\"},\"x\":{\"field\":\"x\"},\"y\":{\"field\":\"y\"}},\"id\":\"3f2c3aa0-764a-4626-9c30-bc5022314af3\",\"type\":\"Circle\"},{\"attributes\":{\"label\":{\"value\":\"check_primes\"},\"renderers\":[{\"id\":\"5a035dca-2c76-4bac-a80c-baacc4fe0ee7\",\"type\":\"GlyphRenderer\"},{\"id\":\"10c5616d-43ae-4a36-929b-7c6a2ec3d37e\",\"type\":\"GlyphRenderer\"}]},\"id\":\"d1b4c979-951c-4757-81e0-f74ba313f2fc\",\"type\":\"LegendItem\"},{\"attributes\":{\"data_source\":{\"id\":\"1b1e9380-d06b-495f-9af8-63cfcefe55de\",\"type\":\"ColumnDataSource\"},\"glyph\":{\"id\":\"757f0370-3272-483b-8dda-ae9b7a9358fc\",\"type\":\"Line\"},\"hover_glyph\":null,\"muted_glyph\":null,\"nonselection_glyph\":{\"id\":\"f87cc3b5-2dab-466e-b4f6-99fe72d669fe\",\"type\":\"Line\"},\"selection_glyph\":null,\"view\":{\"id\":\"3dd25ccd-6b18-4925-9efa-d06449d7a29b\",\"type\":\"CDSView\"}},\"id\":\"ee08e59d-4535-402b-b41e-3825c864eeb9\",\"type\":\"GlyphRenderer\"}],\"root_ids\":[\"b989b89b-9580-42cf-800f-26d5e97d52d9\"]},\"title\":\"Bokeh Application\",\"version\":\"0.12.14\"}};\n",
       "  var render_items = [{\"docid\":\"8eefcf71-85d2-4519-90f7-2807e2e981b7\",\"elementid\":\"5532954c-e86f-4f1a-b923-62c232e62cc5\",\"modelid\":\"b989b89b-9580-42cf-800f-26d5e97d52d9\",\"notebook_comms_target\":\"16e77db4-b945-417f-8c03-cd45ae369ec5\"}];\n",
       "  root.Bokeh.embed.embed_items_notebook(docs_json, render_items);\n",
       "\n",
       "  }\n",
       "  if (root.Bokeh !== undefined) {\n",
       "    embed_document(root);\n",
       "  } else {\n",
       "    var attempts = 0;\n",
       "    var timer = setInterval(function(root) {\n",
       "      if (root.Bokeh !== undefined) {\n",
       "        embed_document(root);\n",
       "        clearInterval(timer);\n",
       "      }\n",
       "      attempts++;\n",
       "      if (attempts > 100) {\n",
       "        console.log(\"Bokeh: ERROR: Unable to run BokehJS code because BokehJS library is missing\")\n",
       "        clearInterval(timer);\n",
       "      }\n",
       "    }, 10, root)\n",
       "  }\n",
       "})(window);"
      ],
      "application/vnd.bokehjs_exec.v0+json": ""
     },
     "metadata": {
      "application/vnd.bokehjs_exec.v0+json": {
       "id": "b989b89b-9580-42cf-800f-26d5e97d52d9"
      }
     },
     "output_type": "display_data"
    }
   ],
   "source": [
    "timing_plot(check_primes)"
   ]
  },
  {
   "cell_type": "markdown",
   "metadata": {
    "slideshow": {
     "slide_type": "slide"
    }
   },
   "source": [
    "### Why is this slower?"
   ]
  },
  {
   "cell_type": "markdown",
   "metadata": {
    "slideshow": {
     "slide_type": "fragment"
    }
   },
   "source": [
    "We forgot to stop testing primes $> \\sqrt n$.  \n",
    "Let's fix that."
   ]
  },
  {
   "cell_type": "code",
   "execution_count": 13,
   "metadata": {
    "slideshow": {
     "slide_type": "slide"
    }
   },
   "outputs": [],
   "source": [
    "from itertools import count\n",
    "\n",
    "def check_primes_sqrt():\n",
    "    yield 2\n",
    "    primelist = []\n",
    "    for candidate in count(3, 2):\n",
    "        prime = True\n",
    "        for p in primelist:\n",
    "            if p * p > candidate:\n",
    "                break\n",
    "            if candidate % p == 0:\n",
    "                prime = False\n",
    "                break\n",
    "        if prime:\n",
    "            yield candidate\n",
    "            primelist.append(candidate)"
   ]
  },
  {
   "cell_type": "code",
   "execution_count": 14,
   "metadata": {
    "slideshow": {
     "slide_type": "slide"
    }
   },
   "outputs": [
    {
     "data": {
      "text/html": [
       "\n",
       "<div class=\"bk-root\">\n",
       "    <div class=\"bk-plotdiv\" id=\"1752e6c6-62ae-4c93-afc6-91d638501578\"></div>\n",
       "</div>"
      ]
     },
     "metadata": {},
     "output_type": "display_data"
    },
    {
     "data": {
      "application/javascript": [
       "(function(root) {\n",
       "  function embed_document(root) {\n",
       "    \n",
       "  var docs_json = {\"87584415-1114-476e-bb60-99992bbdc8e3\":{\"roots\":{\"references\":[{\"attributes\":{\"data_source\":{\"id\":\"29bb623b-6f3c-480d-aa11-6961a479ef3d\",\"type\":\"ColumnDataSource\"},\"glyph\":{\"id\":\"a3a0445c-9532-48ba-be70-c948c2d4c000\",\"type\":\"Circle\"},\"hover_glyph\":null,\"muted_glyph\":null,\"nonselection_glyph\":{\"id\":\"60619b0e-f541-4577-ba7e-285f606225a3\",\"type\":\"Circle\"},\"selection_glyph\":null,\"view\":{\"id\":\"2b49e166-bea2-452b-99d2-7ed792d86cb7\",\"type\":\"CDSView\"}},\"id\":\"5e897cb3-a53f-43ce-aef6-4936b9c2b841\",\"type\":\"GlyphRenderer\"},{\"attributes\":{\"callback\":null,\"column_names\":[\"x\",\"y\"],\"data\":{\"x\":[],\"y\":[]}},\"id\":\"0ea9d590-b564-4a73-b3c0-07730d41dd90\",\"type\":\"ColumnDataSource\"},{\"attributes\":{\"fill_color\":{\"value\":\"#d62728\"},\"line_color\":{\"value\":\"#d62728\"},\"x\":{\"field\":\"x\"},\"y\":{\"field\":\"y\"}},\"id\":\"0bfe7ca6-0a29-4102-ab3a-a7f9bacd0516\",\"type\":\"Circle\"},{\"attributes\":{\"label\":{\"value\":\"to_sqrt\"},\"renderers\":[{\"id\":\"4f17f0c0-2ac3-49e5-91f2-59a5bc53c690\",\"type\":\"GlyphRenderer\"},{\"id\":\"5e897cb3-a53f-43ce-aef6-4936b9c2b841\",\"type\":\"GlyphRenderer\"}]},\"id\":\"a7875805-6ffc-4b39-bee5-ddf121318448\",\"type\":\"LegendItem\"},{\"attributes\":{\"fill_alpha\":{\"value\":0.1},\"fill_color\":{\"value\":\"#1f77b4\"},\"line_alpha\":{\"value\":0.1},\"line_color\":{\"value\":\"#1f77b4\"},\"x\":{\"field\":\"x\"},\"y\":{\"field\":\"y\"}},\"id\":\"c46a357b-af80-47c0-98bb-91c561025dfa\",\"type\":\"Circle\"},{\"attributes\":{\"source\":{\"id\":\"0ea9d590-b564-4a73-b3c0-07730d41dd90\",\"type\":\"ColumnDataSource\"}},\"id\":\"0a75210a-1912-49a2-b0fe-dcda0ad5454d\",\"type\":\"CDSView\"},{\"attributes\":{\"callback\":null,\"column_names\":[\"x\",\"y\"],\"data\":{\"x\":[1,2,5,10,20,50,100,200,500,1000,2000,5000,10000,20000,50000],\"y\":[1.3171229511499405e-06,2.8780195862054825e-06,6.7069195210933685e-06,1.4960067346692085e-05,5.4510077461600304e-05,0.00012037507258355618,0.0003023201134055853,0.0007400668691843748,0.002520353067666292,0.00632662489078939,0.01610450493171811,0.05177717702463269,0.1080278200097382,0.29799197404645383,1.25529725686647]}},\"id\":\"368d28b8-66ee-4cbb-a9c5-eb88f3785655\",\"type\":\"ColumnDataSource\"},{\"attributes\":{\"line_alpha\":0.1,\"line_color\":\"#1f77b4\",\"line_dash\":[6],\"x\":{\"field\":\"x\"},\"y\":{\"field\":\"y\"}},\"id\":\"6d99c796-c591-44db-beca-4710d9aacccf\",\"type\":\"Line\"},{\"attributes\":{\"data_source\":{\"id\":\"ba2454e0-8d32-4822-8316-21c0462fbf52\",\"type\":\"ColumnDataSource\"},\"glyph\":{\"id\":\"7b005fb0-1efe-4a8b-b387-31e477c71c73\",\"type\":\"Line\"},\"hover_glyph\":null,\"muted_glyph\":null,\"nonselection_glyph\":{\"id\":\"6d99c796-c591-44db-beca-4710d9aacccf\",\"type\":\"Line\"},\"selection_glyph\":null,\"view\":{\"id\":\"dd6b386d-d7d0-4138-b125-4a1efc4b57fa\",\"type\":\"CDSView\"}},\"id\":\"3a250ea4-4f83-4fbe-acb3-8c1e7295e152\",\"type\":\"GlyphRenderer\"},{\"attributes\":{\"label\":{\"value\":\"check_primes_sqrt\"},\"renderers\":[{\"id\":\"ad367630-b654-4f9e-a0b3-b41da3b6b27d\",\"type\":\"GlyphRenderer\"},{\"id\":\"85b6dfec-b730-404e-8331-fb182b51b8ce\",\"type\":\"GlyphRenderer\"}]},\"id\":\"d60c66be-e740-49bf-9dde-fa8c50a42999\",\"type\":\"LegendItem\"},{\"attributes\":{\"fill_color\":{\"value\":\"#9467bd\"},\"line_color\":{\"value\":\"#9467bd\"},\"x\":{\"field\":\"x\"},\"y\":{\"field\":\"y\"}},\"id\":\"4a5d1bc0-76c8-4084-96f3-6bdae1506dcc\",\"type\":\"Circle\"},{\"attributes\":{\"fill_alpha\":{\"value\":0.1},\"fill_color\":{\"value\":\"#1f77b4\"},\"line_alpha\":{\"value\":0.1},\"line_color\":{\"value\":\"#1f77b4\"},\"x\":{\"field\":\"x\"},\"y\":{\"field\":\"y\"}},\"id\":\"377171c8-fe58-4589-8579-bf252ed4a300\",\"type\":\"Circle\"},{\"attributes\":{\"source\":{\"id\":\"0ea9d590-b564-4a73-b3c0-07730d41dd90\",\"type\":\"ColumnDataSource\"}},\"id\":\"18529f23-0204-461b-8da2-8b7642fc2a7a\",\"type\":\"CDSView\"},{\"attributes\":{\"callback\":null,\"column_names\":[\"x\",\"y\"],\"data\":{\"x\":[1,2,5,10,20,50,100,200,500,1000,2000,5000],\"y\":[1.4319084584712982e-06,2.3900065571069717e-06,5.2889809012413025e-06,1.3441778719425201e-05,4.3275998905301094e-05,0.00022354512475430965,0.0009551611728966236,0.005093520972877741,0.0360875460319221,0.16740669403225183,0.6574779360089451,4.291011564899236]}},\"id\":\"ba2454e0-8d32-4822-8316-21c0462fbf52\",\"type\":\"ColumnDataSource\"},{\"attributes\":{\"callback\":null,\"start\":1},\"id\":\"786014de-7c2a-45b4-9ccc-0334e041380b\",\"type\":\"DataRange1d\"},{\"attributes\":{\"line_alpha\":0.1,\"line_color\":\"#1f77b4\",\"line_dash\":[6],\"x\":{\"field\":\"x\"},\"y\":{\"field\":\"y\"}},\"id\":\"8674e648-2631-4f4e-8a9b-41eb621ab6b0\",\"type\":\"Line\"},{\"attributes\":{\"below\":[{\"id\":\"4e7fbc3d-d59d-47b0-89b5-096fe9d3698d\",\"type\":\"LogAxis\"}],\"left\":[{\"id\":\"4527ace4-7f73-4d6c-a804-c3a53518aa82\",\"type\":\"LogAxis\"}],\"plot_height\":400,\"plot_width\":800,\"renderers\":[{\"id\":\"4e7fbc3d-d59d-47b0-89b5-096fe9d3698d\",\"type\":\"LogAxis\"},{\"id\":\"31f73f98-4a24-4452-b6cd-a31b73d149c4\",\"type\":\"Grid\"},{\"id\":\"4527ace4-7f73-4d6c-a804-c3a53518aa82\",\"type\":\"LogAxis\"},{\"id\":\"9e945063-9ca8-4c1f-a16e-ecf6b0eb10aa\",\"type\":\"Grid\"},{\"id\":\"e9bf029b-c732-42e3-a3ce-04362da11cb0\",\"type\":\"BoxAnnotation\"},{\"id\":\"ac0f1e9f-3ef9-496b-a98a-aff040cdd80f\",\"type\":\"Legend\"},{\"id\":\"d7377e09-ca3a-4c80-a4f5-fb1369e2e278\",\"type\":\"GlyphRenderer\"},{\"id\":\"eb4af925-ff34-4734-b6fb-eaa979989cd1\",\"type\":\"GlyphRenderer\"},{\"id\":\"3a250ea4-4f83-4fbe-acb3-8c1e7295e152\",\"type\":\"GlyphRenderer\"},{\"id\":\"0392b11b-9245-4bc4-9bf8-31b06ae914d5\",\"type\":\"GlyphRenderer\"},{\"id\":\"4f17f0c0-2ac3-49e5-91f2-59a5bc53c690\",\"type\":\"GlyphRenderer\"},{\"id\":\"5e897cb3-a53f-43ce-aef6-4936b9c2b841\",\"type\":\"GlyphRenderer\"},{\"id\":\"5180c6c1-a15b-4ff1-bf49-8b9e7b6e0aaa\",\"type\":\"GlyphRenderer\"},{\"id\":\"e5bf65d9-acb7-4f5a-89ca-75d1019b6d75\",\"type\":\"GlyphRenderer\"},{\"id\":\"ad367630-b654-4f9e-a0b3-b41da3b6b27d\",\"type\":\"GlyphRenderer\"},{\"id\":\"85b6dfec-b730-404e-8331-fb182b51b8ce\",\"type\":\"GlyphRenderer\"}],\"title\":{\"id\":\"2f329b89-559a-4f7b-90f0-e1fadf07d6de\",\"type\":\"Title\"},\"toolbar\":{\"id\":\"04e02d57-1fbd-4e47-8b4d-77d4c0787e2d\",\"type\":\"Toolbar\"},\"toolbar_location\":\"above\",\"x_range\":{\"id\":\"786014de-7c2a-45b4-9ccc-0334e041380b\",\"type\":\"DataRange1d\"},\"x_scale\":{\"id\":\"b8bbbba4-2fc2-4bda-80ac-891313066c72\",\"type\":\"LogScale\"},\"y_range\":{\"id\":\"3071c9fe-97ad-4ea9-b963-4f2f9c0b24c1\",\"type\":\"Range1d\"},\"y_scale\":{\"id\":\"78701fc5-0cb4-4a76-817e-8527dc240f3b\",\"type\":\"LogScale\"}},\"id\":\"b9085928-d84f-4e88-82c8-9bdb0e98c340\",\"subtype\":\"Figure\",\"type\":\"Plot\"},{\"attributes\":{\"plot\":null,\"text\":\"Timing\"},\"id\":\"2f329b89-559a-4f7b-90f0-e1fadf07d6de\",\"type\":\"Title\"},{\"attributes\":{\"callback\":null,\"start\":1e-06},\"id\":\"3071c9fe-97ad-4ea9-b963-4f2f9c0b24c1\",\"type\":\"Range1d\"},{\"attributes\":{\"active_drag\":\"auto\",\"active_inspect\":\"auto\",\"active_scroll\":\"auto\",\"active_tap\":\"auto\",\"tools\":[{\"id\":\"a0bf132b-207a-4c45-8869-84d7822a4316\",\"type\":\"PanTool\"},{\"id\":\"0d6feb5e-a695-4f9d-9711-083fe4d3e831\",\"type\":\"WheelZoomTool\"},{\"id\":\"df8fbad9-d3aa-44b9-aabd-c06164ad76b0\",\"type\":\"BoxZoomTool\"},{\"id\":\"055d904b-53c6-4ef9-a4f0-e952e13dc675\",\"type\":\"SaveTool\"},{\"id\":\"1a482fde-fb05-4312-ba69-eab6f3c12052\",\"type\":\"ResetTool\"},{\"id\":\"78a7a7ca-7583-42b7-b7e9-3bdff9f1652e\",\"type\":\"HelpTool\"}]},\"id\":\"04e02d57-1fbd-4e47-8b4d-77d4c0787e2d\",\"type\":\"Toolbar\"},{\"attributes\":{\"num_minor_ticks\":10},\"id\":\"46e23686-cbe1-4f7e-9ce2-72086da122c9\",\"type\":\"LogTicker\"},{\"attributes\":{\"fill_alpha\":{\"value\":0.1},\"fill_color\":{\"value\":\"#1f77b4\"},\"line_alpha\":{\"value\":0.1},\"line_color\":{\"value\":\"#1f77b4\"},\"x\":{\"field\":\"x\"},\"y\":{\"field\":\"y\"}},\"id\":\"b8e27718-9b0c-417d-b434-6c2a3736cfb7\",\"type\":\"Circle\"},{\"attributes\":{\"num_minor_ticks\":10},\"id\":\"360a9457-6f85-4b02-ab8a-232a1ff7b3de\",\"type\":\"LogTicker\"},{\"attributes\":{\"plot\":{\"id\":\"b9085928-d84f-4e88-82c8-9bdb0e98c340\",\"subtype\":\"Figure\",\"type\":\"Plot\"},\"ticker\":{\"id\":\"46e23686-cbe1-4f7e-9ce2-72086da122c9\",\"type\":\"LogTicker\"}},\"id\":\"31f73f98-4a24-4452-b6cd-a31b73d149c4\",\"type\":\"Grid\"},{\"attributes\":{},\"id\":\"b8bbbba4-2fc2-4bda-80ac-891313066c72\",\"type\":\"LogScale\"},{\"attributes\":{\"source\":{\"id\":\"e243edc8-2a87-4fb8-927d-c82b4ac710f3\",\"type\":\"ColumnDataSource\"}},\"id\":\"098dae9a-38f5-4b43-9071-78b0c048ca4d\",\"type\":\"CDSView\"},{\"attributes\":{\"axis_label\":\"Primes\",\"formatter\":{\"id\":\"8557f4e4-a47c-41fd-8ff3-1d386c5b880c\",\"type\":\"NumeralTickFormatter\"},\"plot\":{\"id\":\"b9085928-d84f-4e88-82c8-9bdb0e98c340\",\"subtype\":\"Figure\",\"type\":\"Plot\"},\"ticker\":{\"id\":\"46e23686-cbe1-4f7e-9ce2-72086da122c9\",\"type\":\"LogTicker\"}},\"id\":\"4e7fbc3d-d59d-47b0-89b5-096fe9d3698d\",\"type\":\"LogAxis\"},{\"attributes\":{},\"id\":\"78701fc5-0cb4-4a76-817e-8527dc240f3b\",\"type\":\"LogScale\"},{\"attributes\":{\"axis_label\":\"Seconds\",\"formatter\":{\"id\":\"b9e6a15b-2227-40c7-bcca-aadf3894573c\",\"type\":\"LogTickFormatter\"},\"plot\":{\"id\":\"b9085928-d84f-4e88-82c8-9bdb0e98c340\",\"subtype\":\"Figure\",\"type\":\"Plot\"},\"ticker\":{\"id\":\"360a9457-6f85-4b02-ab8a-232a1ff7b3de\",\"type\":\"LogTicker\"}},\"id\":\"4527ace4-7f73-4d6c-a804-c3a53518aa82\",\"type\":\"LogAxis\"},{\"attributes\":{\"dimension\":1,\"plot\":{\"id\":\"b9085928-d84f-4e88-82c8-9bdb0e98c340\",\"subtype\":\"Figure\",\"type\":\"Plot\"},\"ticker\":{\"id\":\"360a9457-6f85-4b02-ab8a-232a1ff7b3de\",\"type\":\"LogTicker\"}},\"id\":\"9e945063-9ca8-4c1f-a16e-ecf6b0eb10aa\",\"type\":\"Grid\"},{\"attributes\":{\"line_color\":\"#1f77b4\",\"line_dash\":[6],\"x\":{\"field\":\"x\"},\"y\":{\"field\":\"y\"}},\"id\":\"dbc6999b-a00a-4a69-a29f-514716af36dd\",\"type\":\"Line\"},{\"attributes\":{\"background_fill_alpha\":{\"value\":0.5},\"click_policy\":\"hide\",\"items\":[{\"id\":\"0651706a-6ba9-4404-a21e-9413254ed77d\",\"type\":\"LegendItem\"},{\"id\":\"e87710b6-1de4-49b5-bb04-41029361a30f\",\"type\":\"LegendItem\"},{\"id\":\"a7875805-6ffc-4b39-bee5-ddf121318448\",\"type\":\"LegendItem\"},{\"id\":\"c9794a74-ecff-49f1-9b8a-b24e3b1903a0\",\"type\":\"LegendItem\"},{\"id\":\"d60c66be-e740-49bf-9dde-fa8c50a42999\",\"type\":\"LegendItem\"}],\"location\":\"top_left\",\"plot\":{\"id\":\"b9085928-d84f-4e88-82c8-9bdb0e98c340\",\"subtype\":\"Figure\",\"type\":\"Plot\"}},\"id\":\"ac0f1e9f-3ef9-496b-a98a-aff040cdd80f\",\"type\":\"Legend\"},{\"attributes\":{\"line_color\":\"#ff7f0e\",\"line_dash\":[6],\"x\":{\"field\":\"x\"},\"y\":{\"field\":\"y\"}},\"id\":\"7b005fb0-1efe-4a8b-b387-31e477c71c73\",\"type\":\"Line\"},{\"attributes\":{\"callback\":null,\"column_names\":[\"x\",\"y\"],\"data\":{\"x\":[1,2,5,10,20,50,100,200,500,1000,2000],\"y\":[3.0079390853643417e-06,2.980930730700493e-06,8.170027285814285e-06,2.24430114030838e-05,6.925896741449833e-05,0.00035684509202837944,0.0015316121280193329,0.007375265937298536,0.05917246709577739,0.27406985498964787,1.2293089928571135]}},\"id\":\"7ea9dcb4-1637-417a-a9e6-d54efeba7182\",\"type\":\"ColumnDataSource\"},{\"attributes\":{\"bottom_units\":\"screen\",\"fill_alpha\":{\"value\":0.5},\"fill_color\":{\"value\":\"lightgrey\"},\"left_units\":\"screen\",\"level\":\"overlay\",\"line_alpha\":{\"value\":1.0},\"line_color\":{\"value\":\"black\"},\"line_dash\":[4,4],\"line_width\":{\"value\":2},\"plot\":null,\"render_mode\":\"css\",\"right_units\":\"screen\",\"top_units\":\"screen\"},\"id\":\"e9bf029b-c732-42e3-a3ce-04362da11cb0\",\"type\":\"BoxAnnotation\"},{\"attributes\":{\"source\":{\"id\":\"0abb5d85-2c02-40d6-b705-493b27525757\",\"type\":\"ColumnDataSource\"}},\"id\":\"3548e07b-a65b-4d88-b958-6d21ab1b8e67\",\"type\":\"CDSView\"},{\"attributes\":{\"callback\":null,\"column_names\":[\"x\",\"y\"],\"data\":{\"x\":[1,2,5,10,20,50,100,200,500,1000,2000],\"y\":[3.0079390853643417e-06,2.980930730700493e-06,8.170027285814285e-06,2.24430114030838e-05,6.925896741449833e-05,0.00035684509202837944,0.0015316121280193329,0.007375265937298536,0.05917246709577739,0.27406985498964787,1.2293089928571135]}},\"id\":\"e243edc8-2a87-4fb8-927d-c82b4ac710f3\",\"type\":\"ColumnDataSource\"},{\"attributes\":{},\"id\":\"a0bf132b-207a-4c45-8869-84d7822a4316\",\"type\":\"PanTool\"},{\"attributes\":{\"data_source\":{\"id\":\"7ea9dcb4-1637-417a-a9e6-d54efeba7182\",\"type\":\"ColumnDataSource\"},\"glyph\":{\"id\":\"dbc6999b-a00a-4a69-a29f-514716af36dd\",\"type\":\"Line\"},\"hover_glyph\":null,\"muted_glyph\":null,\"nonselection_glyph\":{\"id\":\"8674e648-2631-4f4e-8a9b-41eb621ab6b0\",\"type\":\"Line\"},\"selection_glyph\":null,\"view\":{\"id\":\"e02348fc-d8b9-4ed0-aa5d-91bb986185a8\",\"type\":\"CDSView\"}},\"id\":\"d7377e09-ca3a-4c80-a4f5-fb1369e2e278\",\"type\":\"GlyphRenderer\"},{\"attributes\":{\"line_alpha\":0.1,\"line_color\":\"#1f77b4\",\"line_dash\":[6],\"x\":{\"field\":\"x\"},\"y\":{\"field\":\"y\"}},\"id\":\"f4470c97-83ef-48a7-9bb4-6cefe0cb3717\",\"type\":\"Line\"},{\"attributes\":{},\"id\":\"0d6feb5e-a695-4f9d-9711-083fe4d3e831\",\"type\":\"WheelZoomTool\"},{\"attributes\":{\"source\":{\"id\":\"38505c99-c5c7-43bd-98c6-4311e1c8725e\",\"type\":\"ColumnDataSource\"}},\"id\":\"006bd6fa-a1dd-456b-b5e2-1f321ddb1799\",\"type\":\"CDSView\"},{\"attributes\":{\"overlay\":{\"id\":\"e9bf029b-c732-42e3-a3ce-04362da11cb0\",\"type\":\"BoxAnnotation\"}},\"id\":\"df8fbad9-d3aa-44b9-aabd-c06164ad76b0\",\"type\":\"BoxZoomTool\"},{\"attributes\":{\"data_source\":{\"id\":\"0abb5d85-2c02-40d6-b705-493b27525757\",\"type\":\"ColumnDataSource\"},\"glyph\":{\"id\":\"0bfe7ca6-0a29-4102-ab3a-a7f9bacd0516\",\"type\":\"Circle\"},\"hover_glyph\":null,\"muted_glyph\":null,\"nonselection_glyph\":{\"id\":\"377171c8-fe58-4589-8579-bf252ed4a300\",\"type\":\"Circle\"},\"selection_glyph\":null,\"view\":{\"id\":\"3548e07b-a65b-4d88-b958-6d21ab1b8e67\",\"type\":\"CDSView\"}},\"id\":\"e5bf65d9-acb7-4f5a-89ca-75d1019b6d75\",\"type\":\"GlyphRenderer\"},{\"attributes\":{},\"id\":\"055d904b-53c6-4ef9-a4f0-e952e13dc675\",\"type\":\"SaveTool\"},{\"attributes\":{\"line_color\":\"#d62728\",\"line_dash\":[6],\"x\":{\"field\":\"x\"},\"y\":{\"field\":\"y\"}},\"id\":\"bc635459-8e46-444d-a6aa-2e4bc2d440b7\",\"type\":\"Line\"},{\"attributes\":{},\"id\":\"1a482fde-fb05-4312-ba69-eab6f3c12052\",\"type\":\"ResetTool\"},{\"attributes\":{\"line_color\":\"#2ca02c\",\"line_dash\":[6],\"x\":{\"field\":\"x\"},\"y\":{\"field\":\"y\"}},\"id\":\"86f35797-3711-4203-82f7-704887e1ced9\",\"type\":\"Line\"},{\"attributes\":{},\"id\":\"78a7a7ca-7583-42b7-b7e9-3bdff9f1652e\",\"type\":\"HelpTool\"},{\"attributes\":{\"fill_alpha\":{\"value\":0.1},\"fill_color\":{\"value\":\"#1f77b4\"},\"line_alpha\":{\"value\":0.1},\"line_color\":{\"value\":\"#1f77b4\"},\"x\":{\"field\":\"x\"},\"y\":{\"field\":\"y\"}},\"id\":\"f87fe43d-afcf-45ff-a4be-51b4fbc17913\",\"type\":\"Circle\"},{\"attributes\":{\"data_source\":{\"id\":\"66b5f1d2-2e7f-4c82-8f21-e3f37713cb0e\",\"type\":\"ColumnDataSource\"},\"glyph\":{\"id\":\"c8cab3cb-90e8-4e57-aded-04abd1d60e53\",\"type\":\"Circle\"},\"hover_glyph\":null,\"muted_glyph\":null,\"nonselection_glyph\":{\"id\":\"f87fe43d-afcf-45ff-a4be-51b4fbc17913\",\"type\":\"Circle\"},\"selection_glyph\":null,\"view\":{\"id\":\"caca3948-2000-4862-90da-a0e15ca73f37\",\"type\":\"CDSView\"}},\"id\":\"0392b11b-9245-4bc4-9bf8-31b06ae914d5\",\"type\":\"GlyphRenderer\"},{\"attributes\":{\"source\":{\"id\":\"7ea9dcb4-1637-417a-a9e6-d54efeba7182\",\"type\":\"ColumnDataSource\"}},\"id\":\"e02348fc-d8b9-4ed0-aa5d-91bb986185a8\",\"type\":\"CDSView\"},{\"attributes\":{\"ticker\":null},\"id\":\"b9e6a15b-2227-40c7-bcca-aadf3894573c\",\"type\":\"LogTickFormatter\"},{\"attributes\":{\"fill_color\":{\"value\":\"#ff7f0e\"},\"line_color\":{\"value\":\"#ff7f0e\"},\"x\":{\"field\":\"x\"},\"y\":{\"field\":\"y\"}},\"id\":\"c8cab3cb-90e8-4e57-aded-04abd1d60e53\",\"type\":\"Circle\"},{\"attributes\":{\"data_source\":{\"id\":\"368d28b8-66ee-4cbb-a9c5-eb88f3785655\",\"type\":\"ColumnDataSource\"},\"glyph\":{\"id\":\"86f35797-3711-4203-82f7-704887e1ced9\",\"type\":\"Line\"},\"hover_glyph\":null,\"muted_glyph\":null,\"nonselection_glyph\":{\"id\":\"f4470c97-83ef-48a7-9bb4-6cefe0cb3717\",\"type\":\"Line\"},\"selection_glyph\":null,\"view\":{\"id\":\"0f6d3a2a-9b63-45c4-b724-8c3f3e6ffccc\",\"type\":\"CDSView\"}},\"id\":\"4f17f0c0-2ac3-49e5-91f2-59a5bc53c690\",\"type\":\"GlyphRenderer\"},{\"attributes\":{\"label\":{\"value\":\"first_try\"},\"renderers\":[{\"id\":\"d7377e09-ca3a-4c80-a4f5-fb1369e2e278\",\"type\":\"GlyphRenderer\"},{\"id\":\"eb4af925-ff34-4734-b6fb-eaa979989cd1\",\"type\":\"GlyphRenderer\"}]},\"id\":\"0651706a-6ba9-4404-a21e-9413254ed77d\",\"type\":\"LegendItem\"},{\"attributes\":{\"line_color\":\"#9467bd\",\"x\":{\"field\":\"x\"},\"y\":{\"field\":\"y\"}},\"id\":\"9195d1ea-1bc7-4530-8d96-83d7bfa333fa\",\"type\":\"Line\"},{\"attributes\":{\"data_source\":{\"id\":\"e243edc8-2a87-4fb8-927d-c82b4ac710f3\",\"type\":\"ColumnDataSource\"},\"glyph\":{\"id\":\"1416c359-7c4c-4fbf-ae16-c0813517ef7c\",\"type\":\"Circle\"},\"hover_glyph\":null,\"muted_glyph\":null,\"nonselection_glyph\":{\"id\":\"b8e27718-9b0c-417d-b434-6c2a3736cfb7\",\"type\":\"Circle\"},\"selection_glyph\":null,\"view\":{\"id\":\"098dae9a-38f5-4b43-9071-78b0c048ca4d\",\"type\":\"CDSView\"}},\"id\":\"eb4af925-ff34-4734-b6fb-eaa979989cd1\",\"type\":\"GlyphRenderer\"},{\"attributes\":{\"callback\":null,\"column_names\":[\"x\",\"y\"],\"data\":{\"x\":[1,2,5,10,20,50,100,200,500,1000,2000,5000,10000],\"y\":[1.0139774531126022e-06,1.3730023056268692e-06,2.58604995906353e-06,5.44707290828228e-06,1.5757977962493896e-05,7.756706327199936e-05,0.00028013112023472786,0.001088918186724186,0.00725925387814641,0.031019693007692695,0.13349225302226841,0.7455389390233904,3.107478972990066]}},\"id\":\"0abb5d85-2c02-40d6-b705-493b27525757\",\"type\":\"ColumnDataSource\"},{\"attributes\":{\"source\":{\"id\":\"66b5f1d2-2e7f-4c82-8f21-e3f37713cb0e\",\"type\":\"ColumnDataSource\"}},\"id\":\"caca3948-2000-4862-90da-a0e15ca73f37\",\"type\":\"CDSView\"},{\"attributes\":{\"line_alpha\":0.1,\"line_color\":\"#1f77b4\",\"line_dash\":[6],\"x\":{\"field\":\"x\"},\"y\":{\"field\":\"y\"}},\"id\":\"e2f05fce-b15d-4e92-a3ad-aa19e888f682\",\"type\":\"Line\"},{\"attributes\":{\"data_source\":{\"id\":\"38505c99-c5c7-43bd-98c6-4311e1c8725e\",\"type\":\"ColumnDataSource\"},\"glyph\":{\"id\":\"bc635459-8e46-444d-a6aa-2e4bc2d440b7\",\"type\":\"Line\"},\"hover_glyph\":null,\"muted_glyph\":null,\"nonselection_glyph\":{\"id\":\"e2f05fce-b15d-4e92-a3ad-aa19e888f682\",\"type\":\"Line\"},\"selection_glyph\":null,\"view\":{\"id\":\"006bd6fa-a1dd-456b-b5e2-1f321ddb1799\",\"type\":\"CDSView\"}},\"id\":\"5180c6c1-a15b-4ff1-bf49-8b9e7b6e0aaa\",\"type\":\"GlyphRenderer\"},{\"attributes\":{\"data_source\":{\"id\":\"0ea9d590-b564-4a73-b3c0-07730d41dd90\",\"type\":\"ColumnDataSource\"},\"glyph\":{\"id\":\"9195d1ea-1bc7-4530-8d96-83d7bfa333fa\",\"type\":\"Line\"},\"hover_glyph\":null,\"muted_glyph\":null,\"nonselection_glyph\":{\"id\":\"97ee87b4-adf5-4109-abd7-9aab412dc9ac\",\"type\":\"Line\"},\"selection_glyph\":null,\"view\":{\"id\":\"18529f23-0204-461b-8da2-8b7642fc2a7a\",\"type\":\"CDSView\"}},\"id\":\"ad367630-b654-4f9e-a0b3-b41da3b6b27d\",\"type\":\"GlyphRenderer\"},{\"attributes\":{\"callback\":null,\"column_names\":[\"x\",\"y\"],\"data\":{\"x\":[1,2,5,10,20,50,100,200,500,1000,2000,5000],\"y\":[1.4319084584712982e-06,2.3900065571069717e-06,5.2889809012413025e-06,1.3441778719425201e-05,4.3275998905301094e-05,0.00022354512475430965,0.0009551611728966236,0.005093520972877741,0.0360875460319221,0.16740669403225183,0.6574779360089451,4.291011564899236]}},\"id\":\"66b5f1d2-2e7f-4c82-8f21-e3f37713cb0e\",\"type\":\"ColumnDataSource\"},{\"attributes\":{\"label\":{\"value\":\"only_odd\"},\"renderers\":[{\"id\":\"3a250ea4-4f83-4fbe-acb3-8c1e7295e152\",\"type\":\"GlyphRenderer\"},{\"id\":\"0392b11b-9245-4bc4-9bf8-31b06ae914d5\",\"type\":\"GlyphRenderer\"}]},\"id\":\"e87710b6-1de4-49b5-bb04-41029361a30f\",\"type\":\"LegendItem\"},{\"attributes\":{\"source\":{\"id\":\"368d28b8-66ee-4cbb-a9c5-eb88f3785655\",\"type\":\"ColumnDataSource\"}},\"id\":\"0f6d3a2a-9b63-45c4-b724-8c3f3e6ffccc\",\"type\":\"CDSView\"},{\"attributes\":{\"label\":{\"value\":\"check_primes\"},\"renderers\":[{\"id\":\"5180c6c1-a15b-4ff1-bf49-8b9e7b6e0aaa\",\"type\":\"GlyphRenderer\"},{\"id\":\"e5bf65d9-acb7-4f5a-89ca-75d1019b6d75\",\"type\":\"GlyphRenderer\"}]},\"id\":\"c9794a74-ecff-49f1-9b8a-b24e3b1903a0\",\"type\":\"LegendItem\"},{\"attributes\":{\"source\":{\"id\":\"29bb623b-6f3c-480d-aa11-6961a479ef3d\",\"type\":\"ColumnDataSource\"}},\"id\":\"2b49e166-bea2-452b-99d2-7ed792d86cb7\",\"type\":\"CDSView\"},{\"attributes\":{\"callback\":null,\"column_names\":[\"x\",\"y\"],\"data\":{\"x\":[1,2,5,10,20,50,100,200,500,1000,2000,5000,10000],\"y\":[1.0139774531126022e-06,1.3730023056268692e-06,2.58604995906353e-06,5.44707290828228e-06,1.5757977962493896e-05,7.756706327199936e-05,0.00028013112023472786,0.001088918186724186,0.00725925387814641,0.031019693007692695,0.13349225302226841,0.7455389390233904,3.107478972990066]}},\"id\":\"38505c99-c5c7-43bd-98c6-4311e1c8725e\",\"type\":\"ColumnDataSource\"},{\"attributes\":{\"data_source\":{\"id\":\"0ea9d590-b564-4a73-b3c0-07730d41dd90\",\"type\":\"ColumnDataSource\"},\"glyph\":{\"id\":\"4a5d1bc0-76c8-4084-96f3-6bdae1506dcc\",\"type\":\"Circle\"},\"hover_glyph\":null,\"muted_glyph\":null,\"nonselection_glyph\":{\"id\":\"c46a357b-af80-47c0-98bb-91c561025dfa\",\"type\":\"Circle\"},\"selection_glyph\":null,\"view\":{\"id\":\"0a75210a-1912-49a2-b0fe-dcda0ad5454d\",\"type\":\"CDSView\"}},\"id\":\"85b6dfec-b730-404e-8331-fb182b51b8ce\",\"type\":\"GlyphRenderer\"},{\"attributes\":{\"callback\":null,\"column_names\":[\"x\",\"y\"],\"data\":{\"x\":[1,2,5,10,20,50,100,200,500,1000,2000,5000,10000,20000,50000],\"y\":[1.3171229511499405e-06,2.8780195862054825e-06,6.7069195210933685e-06,1.4960067346692085e-05,5.4510077461600304e-05,0.00012037507258355618,0.0003023201134055853,0.0007400668691843748,0.002520353067666292,0.00632662489078939,0.01610450493171811,0.05177717702463269,0.1080278200097382,0.29799197404645383,1.25529725686647]}},\"id\":\"29bb623b-6f3c-480d-aa11-6961a479ef3d\",\"type\":\"ColumnDataSource\"},{\"attributes\":{\"source\":{\"id\":\"ba2454e0-8d32-4822-8316-21c0462fbf52\",\"type\":\"ColumnDataSource\"}},\"id\":\"dd6b386d-d7d0-4138-b125-4a1efc4b57fa\",\"type\":\"CDSView\"},{\"attributes\":{\"fill_alpha\":{\"value\":0.1},\"fill_color\":{\"value\":\"#1f77b4\"},\"line_alpha\":{\"value\":0.1},\"line_color\":{\"value\":\"#1f77b4\"},\"x\":{\"field\":\"x\"},\"y\":{\"field\":\"y\"}},\"id\":\"60619b0e-f541-4577-ba7e-285f606225a3\",\"type\":\"Circle\"},{\"attributes\":{\"fill_color\":{\"value\":\"#2ca02c\"},\"line_color\":{\"value\":\"#2ca02c\"},\"x\":{\"field\":\"x\"},\"y\":{\"field\":\"y\"}},\"id\":\"a3a0445c-9532-48ba-be70-c948c2d4c000\",\"type\":\"Circle\"},{\"attributes\":{\"format\":\"0[.]0 a\"},\"id\":\"8557f4e4-a47c-41fd-8ff3-1d386c5b880c\",\"type\":\"NumeralTickFormatter\"},{\"attributes\":{\"fill_color\":{\"value\":\"#1f77b4\"},\"line_color\":{\"value\":\"#1f77b4\"},\"x\":{\"field\":\"x\"},\"y\":{\"field\":\"y\"}},\"id\":\"1416c359-7c4c-4fbf-ae16-c0813517ef7c\",\"type\":\"Circle\"},{\"attributes\":{\"line_alpha\":0.1,\"line_color\":\"#1f77b4\",\"x\":{\"field\":\"x\"},\"y\":{\"field\":\"y\"}},\"id\":\"97ee87b4-adf5-4109-abd7-9aab412dc9ac\",\"type\":\"Line\"}],\"root_ids\":[\"b9085928-d84f-4e88-82c8-9bdb0e98c340\"]},\"title\":\"Bokeh Application\",\"version\":\"0.12.14\"}};\n",
       "  var render_items = [{\"docid\":\"87584415-1114-476e-bb60-99992bbdc8e3\",\"elementid\":\"1752e6c6-62ae-4c93-afc6-91d638501578\",\"modelid\":\"b9085928-d84f-4e88-82c8-9bdb0e98c340\",\"notebook_comms_target\":\"e253b1d1-a52f-400b-b429-a8268b494029\"}];\n",
       "  root.Bokeh.embed.embed_items_notebook(docs_json, render_items);\n",
       "\n",
       "  }\n",
       "  if (root.Bokeh !== undefined) {\n",
       "    embed_document(root);\n",
       "  } else {\n",
       "    var attempts = 0;\n",
       "    var timer = setInterval(function(root) {\n",
       "      if (root.Bokeh !== undefined) {\n",
       "        embed_document(root);\n",
       "        clearInterval(timer);\n",
       "      }\n",
       "      attempts++;\n",
       "      if (attempts > 100) {\n",
       "        console.log(\"Bokeh: ERROR: Unable to run BokehJS code because BokehJS library is missing\")\n",
       "        clearInterval(timer);\n",
       "      }\n",
       "    }, 10, root)\n",
       "  }\n",
       "})(window);"
      ],
      "application/vnd.bokehjs_exec.v0+json": ""
     },
     "metadata": {
      "application/vnd.bokehjs_exec.v0+json": {
       "id": "b9085928-d84f-4e88-82c8-9bdb0e98c340"
      }
     },
     "output_type": "display_data"
    }
   ],
   "source": [
    "timing_plot(check_primes_sqrt)"
   ]
  },
  {
   "cell_type": "markdown",
   "metadata": {
    "slideshow": {
     "slide_type": "slide"
    }
   },
   "source": [
    "### "
   ]
  },
  {
   "cell_type": "markdown",
   "metadata": {
    "slideshow": {
     "slide_type": "slide"
    }
   },
   "source": [
    "## The sieve of Eratosthenes"
   ]
  },
  {
   "cell_type": "markdown",
   "metadata": {
    "slideshow": {
     "slide_type": "fragment"
    }
   },
   "source": [
    "1. start with a grid of numbers, from 2 to max_prime\n",
    "2. find first (next) unmarked number, return that as a prime\n",
    "3. mark all multiples of it (actually just from n² onwards)\n",
    "4. go back to 2.\n",
    "<img src=\"resources/sieve.png\" id=\"sieve\" />"
   ]
  },
  {
   "cell_type": "code",
   "execution_count": 15,
   "metadata": {
    "slideshow": {
     "slide_type": "slide"
    }
   },
   "outputs": [],
   "source": [
    "def sieve(max_prime):\n",
    "    sieve = [True] * (max_prime // 2)\n",
    "    yield 2\n",
    "    for i in range(3, max_prime, 2):\n",
    "        if sieve[i//2]:\n",
    "            yield i\n",
    "            for j in range(i*i, max_prime, i*2):\n",
    "                sieve[j//2] = False"
   ]
  },
  {
   "cell_type": "code",
   "execution_count": 16,
   "metadata": {
    "slideshow": {
     "slide_type": "slide"
    }
   },
   "outputs": [
    {
     "data": {
      "text/html": [
       "\n",
       "<div class=\"bk-root\">\n",
       "    <div class=\"bk-plotdiv\" id=\"6de147bd-f6ac-4320-8f9c-ce55a8c253b2\"></div>\n",
       "</div>"
      ]
     },
     "metadata": {},
     "output_type": "display_data"
    },
    {
     "data": {
      "application/javascript": [
       "(function(root) {\n",
       "  function embed_document(root) {\n",
       "    \n",
       "  var docs_json = {\"25bde92a-793f-444a-8013-9b4631b91fe7\":{\"roots\":{\"references\":[{\"attributes\":{\"line_color\":\"#2ca02c\",\"line_dash\":[6],\"x\":{\"field\":\"x\"},\"y\":{\"field\":\"y\"}},\"id\":\"8c9b59ff-8880-47f7-936c-74708b9a1db2\",\"type\":\"Line\"},{\"attributes\":{\"ticker\":null},\"id\":\"300da373-569d-4f08-a6d5-f94b9f7638c7\",\"type\":\"LogTickFormatter\"},{\"attributes\":{\"source\":{\"id\":\"65169889-d13c-4a80-839d-bd04c610babe\",\"type\":\"ColumnDataSource\"}},\"id\":\"7ac88be7-280f-44f5-ad95-7d946a634ed9\",\"type\":\"CDSView\"},{\"attributes\":{\"callback\":null,\"column_names\":[\"x\",\"y\"],\"data\":{\"x\":[1,2,5,10,20,50,100,200,500,1000,2000,5000,10000,20000,50000,100000],\"y\":[1.2891832739114761e-06,1.8130522221326828e-06,3.261025995016098e-06,6.554881110787392e-06,1.7058104276657104e-05,5.391007289290428e-05,0.00014810916036367416,0.0004937269259244204,0.001433278899639845,0.003815744072198868,0.010338949039578438,0.03980604512616992,0.10124637698754668,0.20987048209644854,0.7688391590490937,2.1385415359400213]}},\"id\":\"b6cd5621-e771-4e5e-b266-f3a81561dbc3\",\"type\":\"ColumnDataSource\"},{\"attributes\":{\"source\":{\"id\":\"7bd84bb6-3b87-4b0a-b2d9-e1cfe2a9fa1d\",\"type\":\"ColumnDataSource\"}},\"id\":\"21d27113-f846-4a97-9158-9cb8671ec4e9\",\"type\":\"CDSView\"},{\"attributes\":{\"line_alpha\":0.1,\"line_color\":\"#1f77b4\",\"line_dash\":[6],\"x\":{\"field\":\"x\"},\"y\":{\"field\":\"y\"}},\"id\":\"e3cf9561-51bd-4686-a1e0-8efe2b7e9a2a\",\"type\":\"Line\"},{\"attributes\":{\"data_source\":{\"id\":\"7bd84bb6-3b87-4b0a-b2d9-e1cfe2a9fa1d\",\"type\":\"ColumnDataSource\"},\"glyph\":{\"id\":\"8c9b59ff-8880-47f7-936c-74708b9a1db2\",\"type\":\"Line\"},\"hover_glyph\":null,\"muted_glyph\":null,\"nonselection_glyph\":{\"id\":\"e3cf9561-51bd-4686-a1e0-8efe2b7e9a2a\",\"type\":\"Line\"},\"selection_glyph\":null,\"view\":{\"id\":\"21d27113-f846-4a97-9158-9cb8671ec4e9\",\"type\":\"CDSView\"}},\"id\":\"77210ad7-7a8f-46b5-b144-b06290f67f67\",\"type\":\"GlyphRenderer\"},{\"attributes\":{\"fill_color\":{\"value\":\"#d62728\"},\"line_color\":{\"value\":\"#d62728\"},\"x\":{\"field\":\"x\"},\"y\":{\"field\":\"y\"}},\"id\":\"780fe7c2-eb6e-4fd1-bf1b-1fda7c83e336\",\"type\":\"Circle\"},{\"attributes\":{\"callback\":null,\"column_names\":[\"x\",\"y\"],\"data\":{\"x\":[1,2,5,10,20,50,100,200,500,1000,2000,5000,10000,20000,50000],\"y\":[1.3171229511499405e-06,2.8780195862054825e-06,6.7069195210933685e-06,1.4960067346692085e-05,5.4510077461600304e-05,0.00012037507258355618,0.0003023201134055853,0.0007400668691843748,0.002520353067666292,0.00632662489078939,0.01610450493171811,0.05177717702463269,0.1080278200097382,0.29799197404645383,1.25529725686647]}},\"id\":\"58319e90-bad8-4fb3-a5ae-4c68f61c7f6d\",\"type\":\"ColumnDataSource\"},{\"attributes\":{\"callback\":null,\"column_names\":[\"x\",\"y\"],\"data\":{\"x\":[1,2,5,10,20,50,100,200,500,1000,2000,5000,10000],\"y\":[1.0139774531126022e-06,1.3730023056268692e-06,2.58604995906353e-06,5.44707290828228e-06,1.5757977962493896e-05,7.756706327199936e-05,0.00028013112023472786,0.001088918186724186,0.00725925387814641,0.031019693007692695,0.13349225302226841,0.7455389390233904,3.107478972990066]}},\"id\":\"102cdec0-d8f6-4b8a-9b93-d8683a24e4c6\",\"type\":\"ColumnDataSource\"},{\"attributes\":{\"label\":{\"value\":\"first_try\"},\"renderers\":[{\"id\":\"a396b680-4f33-4787-bf9c-60a0dee84df0\",\"type\":\"GlyphRenderer\"},{\"id\":\"69a039e1-11e4-44d8-b034-780cc1f94ea8\",\"type\":\"GlyphRenderer\"}]},\"id\":\"8d1b4357-aa9a-4b5a-95b7-13f3edf3ad96\",\"type\":\"LegendItem\"},{\"attributes\":{\"label\":{\"value\":\"check_primes\"},\"renderers\":[{\"id\":\"e3c9420b-bd5a-4791-99ea-010fff9e6756\",\"type\":\"GlyphRenderer\"},{\"id\":\"63476cea-6423-43bd-91a2-8b893d55a6d3\",\"type\":\"GlyphRenderer\"}]},\"id\":\"733152b8-8745-45a0-8c33-61dd25b3fb39\",\"type\":\"LegendItem\"},{\"attributes\":{\"callback\":null,\"column_names\":[\"x\",\"y\"],\"data\":{\"x\":[1,2,5,10,20,50,100,200,500,1000,2000],\"y\":[3.0079390853643417e-06,2.980930730700493e-06,8.170027285814285e-06,2.24430114030838e-05,6.925896741449833e-05,0.00035684509202837944,0.0015316121280193329,0.007375265937298536,0.05917246709577739,0.27406985498964787,1.2293089928571135]}},\"id\":\"8139b6db-f185-4195-9270-ebe5cc050e35\",\"type\":\"ColumnDataSource\"},{\"attributes\":{\"fill_color\":{\"value\":\"#1f77b4\"},\"line_color\":{\"value\":\"#1f77b4\"},\"x\":{\"field\":\"x\"},\"y\":{\"field\":\"y\"}},\"id\":\"cf2156fe-4a2e-4a53-a62c-581aa9d83a8f\",\"type\":\"Circle\"},{\"attributes\":{\"line_alpha\":0.1,\"line_color\":\"#1f77b4\",\"line_dash\":[6],\"x\":{\"field\":\"x\"},\"y\":{\"field\":\"y\"}},\"id\":\"92884e0a-ab73-4b53-96a6-d3a698428c74\",\"type\":\"Line\"},{\"attributes\":{\"callback\":null,\"column_names\":[\"x\",\"y\"],\"data\":{\"x\":[1,2,5,10,20,50,100,200,500,1000,2000,5000,10000,20000,50000],\"y\":[1.3171229511499405e-06,2.8780195862054825e-06,6.7069195210933685e-06,1.4960067346692085e-05,5.4510077461600304e-05,0.00012037507258355618,0.0003023201134055853,0.0007400668691843748,0.002520353067666292,0.00632662489078939,0.01610450493171811,0.05177717702463269,0.1080278200097382,0.29799197404645383,1.25529725686647]}},\"id\":\"7bd84bb6-3b87-4b0a-b2d9-e1cfe2a9fa1d\",\"type\":\"ColumnDataSource\"},{\"attributes\":{},\"id\":\"aa220566-0f7f-44ba-ac24-98514a0d1cd5\",\"type\":\"HelpTool\"},{\"attributes\":{\"label\":{\"value\":\"check_primes_sqrt\"},\"renderers\":[{\"id\":\"046a3162-d7d8-496d-9ea8-a4030c9db1ad\",\"type\":\"GlyphRenderer\"},{\"id\":\"352f8ef2-0f85-4238-9c65-a8a7815c8d81\",\"type\":\"GlyphRenderer\"}]},\"id\":\"54a308f1-3d4d-4ca1-9766-fdb8fda57b0e\",\"type\":\"LegendItem\"},{\"attributes\":{\"line_alpha\":0.1,\"line_color\":\"#1f77b4\",\"line_dash\":[6],\"x\":{\"field\":\"x\"},\"y\":{\"field\":\"y\"}},\"id\":\"7c059e9f-c5f8-4a9d-a098-f57a70115f46\",\"type\":\"Line\"},{\"attributes\":{\"data_source\":{\"id\":\"102cdec0-d8f6-4b8a-9b93-d8683a24e4c6\",\"type\":\"ColumnDataSource\"},\"glyph\":{\"id\":\"dde45288-71ed-44df-a9d5-daca428fe899\",\"type\":\"Line\"},\"hover_glyph\":null,\"muted_glyph\":null,\"nonselection_glyph\":{\"id\":\"92884e0a-ab73-4b53-96a6-d3a698428c74\",\"type\":\"Line\"},\"selection_glyph\":null,\"view\":{\"id\":\"a83ebc69-ae42-418c-8a56-62815e4a3c39\",\"type\":\"CDSView\"}},\"id\":\"e3c9420b-bd5a-4791-99ea-010fff9e6756\",\"type\":\"GlyphRenderer\"},{\"attributes\":{\"fill_color\":{\"value\":\"#ff7f0e\"},\"line_color\":{\"value\":\"#ff7f0e\"},\"x\":{\"field\":\"x\"},\"y\":{\"field\":\"y\"}},\"id\":\"eba2e600-4114-43ea-a69d-74a5e03ee252\",\"type\":\"Circle\"},{\"attributes\":{\"data_source\":{\"id\":\"0e315238-421e-486a-b457-f73d4b49cc1d\",\"type\":\"ColumnDataSource\"},\"glyph\":{\"id\":\"65e2a67d-c25c-48ff-aa94-b0b159629680\",\"type\":\"Line\"},\"hover_glyph\":null,\"muted_glyph\":null,\"nonselection_glyph\":{\"id\":\"7c059e9f-c5f8-4a9d-a098-f57a70115f46\",\"type\":\"Line\"},\"selection_glyph\":null,\"view\":{\"id\":\"786392da-f301-422f-966e-f7a3550ca47d\",\"type\":\"CDSView\"}},\"id\":\"4ca0318d-946f-480f-a2e0-85edc5ec681d\",\"type\":\"GlyphRenderer\"},{\"attributes\":{\"fill_color\":{\"value\":\"#2ca02c\"},\"line_color\":{\"value\":\"#2ca02c\"},\"x\":{\"field\":\"x\"},\"y\":{\"field\":\"y\"}},\"id\":\"2dbc6a0f-0284-472e-8a63-e3da703fe763\",\"type\":\"Circle\"},{\"attributes\":{\"callback\":null,\"column_names\":[\"x\",\"y\"],\"data\":{\"x\":[1,2,5,10,20,50,100,200,500,1000,2000,5000],\"y\":[1.4319084584712982e-06,2.3900065571069717e-06,5.2889809012413025e-06,1.3441778719425201e-05,4.3275998905301094e-05,0.00022354512475430965,0.0009551611728966236,0.005093520972877741,0.0360875460319221,0.16740669403225183,0.6574779360089451,4.291011564899236]}},\"id\":\"65169889-d13c-4a80-839d-bd04c610babe\",\"type\":\"ColumnDataSource\"},{\"attributes\":{\"fill_alpha\":{\"value\":0.1},\"fill_color\":{\"value\":\"#1f77b4\"},\"line_alpha\":{\"value\":0.1},\"line_color\":{\"value\":\"#1f77b4\"},\"x\":{\"field\":\"x\"},\"y\":{\"field\":\"y\"}},\"id\":\"daffafd8-1b27-4ef9-ae05-36fd30496b55\",\"type\":\"Circle\"},{\"attributes\":{\"line_color\":\"#ff7f0e\",\"line_dash\":[6],\"x\":{\"field\":\"x\"},\"y\":{\"field\":\"y\"}},\"id\":\"65e2a67d-c25c-48ff-aa94-b0b159629680\",\"type\":\"Line\"},{\"attributes\":{\"callback\":null,\"column_names\":[\"x\",\"y\"],\"data\":{\"x\":[1,2,5,10,20,50,100,200,500,1000,2000,5000,10000],\"y\":[1.0139774531126022e-06,1.3730023056268692e-06,2.58604995906353e-06,5.44707290828228e-06,1.5757977962493896e-05,7.756706327199936e-05,0.00028013112023472786,0.001088918186724186,0.00725925387814641,0.031019693007692695,0.13349225302226841,0.7455389390233904,3.107478972990066]}},\"id\":\"26acc3e9-6eb0-4b45-b0c3-7f37130cb393\",\"type\":\"ColumnDataSource\"},{\"attributes\":{\"source\":{\"id\":\"dd09ee9f-d167-41db-bc33-271e6b5ebf7d\",\"type\":\"ColumnDataSource\"}},\"id\":\"01c036d0-e431-4337-b580-39d0b47f7663\",\"type\":\"CDSView\"},{\"attributes\":{\"line_alpha\":0.1,\"line_color\":\"#1f77b4\",\"line_dash\":[6],\"x\":{\"field\":\"x\"},\"y\":{\"field\":\"y\"}},\"id\":\"251d5665-a91c-464a-a32d-fa3f3eda79e2\",\"type\":\"Line\"},{\"attributes\":{\"source\":{\"id\":\"ff4e8fd4-93ae-42b7-bc02-62ca12228295\",\"type\":\"ColumnDataSource\"}},\"id\":\"c66647db-007d-44c3-b32a-573ffad88ba2\",\"type\":\"CDSView\"},{\"attributes\":{\"data_source\":{\"id\":\"65169889-d13c-4a80-839d-bd04c610babe\",\"type\":\"ColumnDataSource\"},\"glyph\":{\"id\":\"eba2e600-4114-43ea-a69d-74a5e03ee252\",\"type\":\"Circle\"},\"hover_glyph\":null,\"muted_glyph\":null,\"nonselection_glyph\":{\"id\":\"33176985-5caf-4cd7-8962-f5f35312de22\",\"type\":\"Circle\"},\"selection_glyph\":null,\"view\":{\"id\":\"7ac88be7-280f-44f5-ad95-7d946a634ed9\",\"type\":\"CDSView\"}},\"id\":\"934c87e6-52b9-4ced-936f-92dcdc46d284\",\"type\":\"GlyphRenderer\"},{\"attributes\":{\"source\":{\"id\":\"b6cd5621-e771-4e5e-b266-f3a81561dbc3\",\"type\":\"ColumnDataSource\"}},\"id\":\"ff20dfcf-cfc3-4577-be75-49e7554dee96\",\"type\":\"CDSView\"},{\"attributes\":{\"data_source\":{\"id\":\"dd09ee9f-d167-41db-bc33-271e6b5ebf7d\",\"type\":\"ColumnDataSource\"},\"glyph\":{\"id\":\"7385bc7d-f765-4565-b07b-3dd723593487\",\"type\":\"Circle\"},\"hover_glyph\":null,\"muted_glyph\":null,\"nonselection_glyph\":{\"id\":\"e87f9aed-0a96-4278-b197-a71e5b386510\",\"type\":\"Circle\"},\"selection_glyph\":null,\"view\":{\"id\":\"01c036d0-e431-4337-b580-39d0b47f7663\",\"type\":\"CDSView\"}},\"id\":\"0d16665f-1532-46ca-96f7-feccbab5874c\",\"type\":\"GlyphRenderer\"},{\"attributes\":{\"source\":{\"id\":\"58319e90-bad8-4fb3-a5ae-4c68f61c7f6d\",\"type\":\"ColumnDataSource\"}},\"id\":\"0b8367f5-6b4f-4813-b9e0-e58dc785d33b\",\"type\":\"CDSView\"},{\"attributes\":{\"callback\":null,\"column_names\":[\"x\",\"y\"],\"data\":{\"x\":[1,2,5,10,20,50,100,200,500,1000,2000,5000,10000,20000,50000,100000],\"y\":[1.2891832739114761e-06,1.8130522221326828e-06,3.261025995016098e-06,6.554881110787392e-06,1.7058104276657104e-05,5.391007289290428e-05,0.00014810916036367416,0.0004937269259244204,0.001433278899639845,0.003815744072198868,0.010338949039578438,0.03980604512616992,0.10124637698754668,0.20987048209644854,0.7688391590490937,2.1385415359400213]}},\"id\":\"a1c2ded8-0e7d-4ad1-9d67-37aa28c259be\",\"type\":\"ColumnDataSource\"},{\"attributes\":{\"fill_alpha\":{\"value\":0.1},\"fill_color\":{\"value\":\"#1f77b4\"},\"line_alpha\":{\"value\":0.1},\"line_color\":{\"value\":\"#1f77b4\"},\"x\":{\"field\":\"x\"},\"y\":{\"field\":\"y\"}},\"id\":\"33176985-5caf-4cd7-8962-f5f35312de22\",\"type\":\"Circle\"},{\"attributes\":{\"callback\":null,\"column_names\":[\"x\",\"y\"],\"data\":{\"x\":[],\"y\":[]}},\"id\":\"dd09ee9f-d167-41db-bc33-271e6b5ebf7d\",\"type\":\"ColumnDataSource\"},{\"attributes\":{\"callback\":null,\"column_names\":[\"x\",\"y\"],\"data\":{\"x\":[1,2,5,10,20,50,100,200,500,1000,2000,5000],\"y\":[1.4319084584712982e-06,2.3900065571069717e-06,5.2889809012413025e-06,1.3441778719425201e-05,4.3275998905301094e-05,0.00022354512475430965,0.0009551611728966236,0.005093520972877741,0.0360875460319221,0.16740669403225183,0.6574779360089451,4.291011564899236]}},\"id\":\"0e315238-421e-486a-b457-f73d4b49cc1d\",\"type\":\"ColumnDataSource\"},{\"attributes\":{\"fill_color\":{\"value\":\"#9467bd\"},\"line_color\":{\"value\":\"#9467bd\"},\"x\":{\"field\":\"x\"},\"y\":{\"field\":\"y\"}},\"id\":\"84b4154b-afbb-42cc-9bb8-3521afbd7acb\",\"type\":\"Circle\"},{\"attributes\":{\"fill_alpha\":{\"value\":0.1},\"fill_color\":{\"value\":\"#1f77b4\"},\"line_alpha\":{\"value\":0.1},\"line_color\":{\"value\":\"#1f77b4\"},\"x\":{\"field\":\"x\"},\"y\":{\"field\":\"y\"}},\"id\":\"c40172d1-f12b-4569-8ac5-01ac77d43ed7\",\"type\":\"Circle\"},{\"attributes\":{\"line_color\":\"#9467bd\",\"line_dash\":[6],\"x\":{\"field\":\"x\"},\"y\":{\"field\":\"y\"}},\"id\":\"26b97ac0-1500-4dfd-9a04-d7379828fabc\",\"type\":\"Line\"},{\"attributes\":{\"source\":{\"id\":\"0e315238-421e-486a-b457-f73d4b49cc1d\",\"type\":\"ColumnDataSource\"}},\"id\":\"786392da-f301-422f-966e-f7a3550ca47d\",\"type\":\"CDSView\"},{\"attributes\":{\"line_color\":\"#8c564b\",\"x\":{\"field\":\"x\"},\"y\":{\"field\":\"y\"}},\"id\":\"a4a8fcbf-9e4c-4052-bd67-a08d09eecbb6\",\"type\":\"Line\"},{\"attributes\":{\"line_alpha\":0.1,\"line_color\":\"#1f77b4\",\"x\":{\"field\":\"x\"},\"y\":{\"field\":\"y\"}},\"id\":\"b5561168-05c4-437f-a7e7-68bb08b2ae70\",\"type\":\"Line\"},{\"attributes\":{\"data_source\":{\"id\":\"8139b6db-f185-4195-9270-ebe5cc050e35\",\"type\":\"ColumnDataSource\"},\"glyph\":{\"id\":\"cf2156fe-4a2e-4a53-a62c-581aa9d83a8f\",\"type\":\"Circle\"},\"hover_glyph\":null,\"muted_glyph\":null,\"nonselection_glyph\":{\"id\":\"b97afce1-704a-43f5-893f-6a60798c1033\",\"type\":\"Circle\"},\"selection_glyph\":null,\"view\":{\"id\":\"4a370d6c-4b22-4103-aaa7-6088554ed9d5\",\"type\":\"CDSView\"}},\"id\":\"69a039e1-11e4-44d8-b034-780cc1f94ea8\",\"type\":\"GlyphRenderer\"},{\"attributes\":{\"label\":{\"value\":\"only_odd\"},\"renderers\":[{\"id\":\"4ca0318d-946f-480f-a2e0-85edc5ec681d\",\"type\":\"GlyphRenderer\"},{\"id\":\"934c87e6-52b9-4ced-936f-92dcdc46d284\",\"type\":\"GlyphRenderer\"}]},\"id\":\"346c2007-66ca-408a-b2eb-8e610a4cca70\",\"type\":\"LegendItem\"},{\"attributes\":{\"source\":{\"id\":\"8139b6db-f185-4195-9270-ebe5cc050e35\",\"type\":\"ColumnDataSource\"}},\"id\":\"4a370d6c-4b22-4103-aaa7-6088554ed9d5\",\"type\":\"CDSView\"},{\"attributes\":{\"fill_alpha\":{\"value\":0.1},\"fill_color\":{\"value\":\"#1f77b4\"},\"line_alpha\":{\"value\":0.1},\"line_color\":{\"value\":\"#1f77b4\"},\"x\":{\"field\":\"x\"},\"y\":{\"field\":\"y\"}},\"id\":\"b97afce1-704a-43f5-893f-6a60798c1033\",\"type\":\"Circle\"},{\"attributes\":{\"fill_alpha\":{\"value\":0.1},\"fill_color\":{\"value\":\"#1f77b4\"},\"line_alpha\":{\"value\":0.1},\"line_color\":{\"value\":\"#1f77b4\"},\"x\":{\"field\":\"x\"},\"y\":{\"field\":\"y\"}},\"id\":\"4cb3739b-3609-4480-85f4-59ee4b7957cc\",\"type\":\"Circle\"},{\"attributes\":{\"label\":{\"value\":\"to_sqrt\"},\"renderers\":[{\"id\":\"77210ad7-7a8f-46b5-b144-b06290f67f67\",\"type\":\"GlyphRenderer\"},{\"id\":\"81d091a0-2153-4ea6-a50b-7dafae59b100\",\"type\":\"GlyphRenderer\"}]},\"id\":\"d52ea6d7-4db5-426c-bee8-234209dbb3c2\",\"type\":\"LegendItem\"},{\"attributes\":{\"fill_alpha\":{\"value\":0.1},\"fill_color\":{\"value\":\"#1f77b4\"},\"line_alpha\":{\"value\":0.1},\"line_color\":{\"value\":\"#1f77b4\"},\"x\":{\"field\":\"x\"},\"y\":{\"field\":\"y\"}},\"id\":\"e87f9aed-0a96-4278-b197-a71e5b386510\",\"type\":\"Circle\"},{\"attributes\":{\"fill_color\":{\"value\":\"#8c564b\"},\"line_color\":{\"value\":\"#8c564b\"},\"x\":{\"field\":\"x\"},\"y\":{\"field\":\"y\"}},\"id\":\"7385bc7d-f765-4565-b07b-3dd723593487\",\"type\":\"Circle\"},{\"attributes\":{\"callback\":null,\"start\":1},\"id\":\"aceda313-377c-49de-ad30-ac12c4bea0b9\",\"type\":\"DataRange1d\"},{\"attributes\":{\"format\":\"0[.]0 a\"},\"id\":\"c70fee30-5349-4e21-b136-c3dd19a25b36\",\"type\":\"NumeralTickFormatter\"},{\"attributes\":{\"line_alpha\":0.1,\"line_color\":\"#1f77b4\",\"line_dash\":[6],\"x\":{\"field\":\"x\"},\"y\":{\"field\":\"y\"}},\"id\":\"b3466287-f6e9-4b14-af5d-e7be56523259\",\"type\":\"Line\"},{\"attributes\":{\"below\":[{\"id\":\"48577071-beec-4b03-8550-f218728927fa\",\"type\":\"LogAxis\"}],\"left\":[{\"id\":\"bf9c8551-c6d8-4e2e-b52b-ad1b677e3a6b\",\"type\":\"LogAxis\"}],\"plot_height\":400,\"plot_width\":800,\"renderers\":[{\"id\":\"48577071-beec-4b03-8550-f218728927fa\",\"type\":\"LogAxis\"},{\"id\":\"b55d4fed-78e5-41ca-9bf1-0193d870c156\",\"type\":\"Grid\"},{\"id\":\"bf9c8551-c6d8-4e2e-b52b-ad1b677e3a6b\",\"type\":\"LogAxis\"},{\"id\":\"e7c2d85c-8705-4c44-a9c8-4c2dbcc9a56a\",\"type\":\"Grid\"},{\"id\":\"150c5efe-48d1-4bac-81bc-ca1cb1f03edb\",\"type\":\"BoxAnnotation\"},{\"id\":\"096f7223-a5be-4e8a-a9f5-0acca776165b\",\"type\":\"Legend\"},{\"id\":\"a396b680-4f33-4787-bf9c-60a0dee84df0\",\"type\":\"GlyphRenderer\"},{\"id\":\"69a039e1-11e4-44d8-b034-780cc1f94ea8\",\"type\":\"GlyphRenderer\"},{\"id\":\"4ca0318d-946f-480f-a2e0-85edc5ec681d\",\"type\":\"GlyphRenderer\"},{\"id\":\"934c87e6-52b9-4ced-936f-92dcdc46d284\",\"type\":\"GlyphRenderer\"},{\"id\":\"77210ad7-7a8f-46b5-b144-b06290f67f67\",\"type\":\"GlyphRenderer\"},{\"id\":\"81d091a0-2153-4ea6-a50b-7dafae59b100\",\"type\":\"GlyphRenderer\"},{\"id\":\"e3c9420b-bd5a-4791-99ea-010fff9e6756\",\"type\":\"GlyphRenderer\"},{\"id\":\"63476cea-6423-43bd-91a2-8b893d55a6d3\",\"type\":\"GlyphRenderer\"},{\"id\":\"046a3162-d7d8-496d-9ea8-a4030c9db1ad\",\"type\":\"GlyphRenderer\"},{\"id\":\"352f8ef2-0f85-4238-9c65-a8a7815c8d81\",\"type\":\"GlyphRenderer\"},{\"id\":\"c0153cff-71fb-4bd7-86ea-03adf7b6e158\",\"type\":\"GlyphRenderer\"},{\"id\":\"0d16665f-1532-46ca-96f7-feccbab5874c\",\"type\":\"GlyphRenderer\"}],\"title\":{\"id\":\"c6006c89-edd9-4337-9175-c453edadd879\",\"type\":\"Title\"},\"toolbar\":{\"id\":\"04f9f31f-feba-402f-bbf9-a39e2dbfbcf3\",\"type\":\"Toolbar\"},\"toolbar_location\":\"above\",\"x_range\":{\"id\":\"aceda313-377c-49de-ad30-ac12c4bea0b9\",\"type\":\"DataRange1d\"},\"x_scale\":{\"id\":\"88aa868e-f9a3-4690-9ac1-9f3aeb3fd45b\",\"type\":\"LogScale\"},\"y_range\":{\"id\":\"734360e2-b487-462a-930c-e17072ef0c45\",\"type\":\"Range1d\"},\"y_scale\":{\"id\":\"c0536c2a-00a8-4965-a6e5-ca3812df4e33\",\"type\":\"LogScale\"}},\"id\":\"874e0038-44e4-4c42-9164-a75e74990221\",\"subtype\":\"Figure\",\"type\":\"Plot\"},{\"attributes\":{\"plot\":null,\"text\":\"Timing\"},\"id\":\"c6006c89-edd9-4337-9175-c453edadd879\",\"type\":\"Title\"},{\"attributes\":{\"data_source\":{\"id\":\"dd09ee9f-d167-41db-bc33-271e6b5ebf7d\",\"type\":\"ColumnDataSource\"},\"glyph\":{\"id\":\"a4a8fcbf-9e4c-4052-bd67-a08d09eecbb6\",\"type\":\"Line\"},\"hover_glyph\":null,\"muted_glyph\":null,\"nonselection_glyph\":{\"id\":\"b5561168-05c4-437f-a7e7-68bb08b2ae70\",\"type\":\"Line\"},\"selection_glyph\":null,\"view\":{\"id\":\"00559f26-0ed8-4cae-a450-c1f40d69e898\",\"type\":\"CDSView\"}},\"id\":\"c0153cff-71fb-4bd7-86ea-03adf7b6e158\",\"type\":\"GlyphRenderer\"},{\"attributes\":{\"callback\":null,\"start\":1e-06},\"id\":\"734360e2-b487-462a-930c-e17072ef0c45\",\"type\":\"Range1d\"},{\"attributes\":{\"active_drag\":\"auto\",\"active_inspect\":\"auto\",\"active_scroll\":\"auto\",\"active_tap\":\"auto\",\"tools\":[{\"id\":\"9d369f33-9f23-4e1e-85cf-903cd1269f79\",\"type\":\"PanTool\"},{\"id\":\"aded0fa4-9b14-4d32-9114-cc8fcf443083\",\"type\":\"WheelZoomTool\"},{\"id\":\"7a31ec35-3f2d-4365-b1d3-2bbe107e9ed0\",\"type\":\"BoxZoomTool\"},{\"id\":\"651bc91f-6a71-4d75-9d3f-84689ac828f7\",\"type\":\"SaveTool\"},{\"id\":\"c1e2efc8-4a60-4ab2-a9ac-565f3f8f9117\",\"type\":\"ResetTool\"},{\"id\":\"aa220566-0f7f-44ba-ac24-98514a0d1cd5\",\"type\":\"HelpTool\"}]},\"id\":\"04f9f31f-feba-402f-bbf9-a39e2dbfbcf3\",\"type\":\"Toolbar\"},{\"attributes\":{\"num_minor_ticks\":10},\"id\":\"1628f81c-cd1f-4561-ba7a-25d2d06a9887\",\"type\":\"LogTicker\"},{\"attributes\":{},\"id\":\"651bc91f-6a71-4d75-9d3f-84689ac828f7\",\"type\":\"SaveTool\"},{\"attributes\":{\"num_minor_ticks\":10},\"id\":\"d1077e6f-585c-49ba-bfee-521611010890\",\"type\":\"LogTicker\"},{\"attributes\":{\"plot\":{\"id\":\"874e0038-44e4-4c42-9164-a75e74990221\",\"subtype\":\"Figure\",\"type\":\"Plot\"},\"ticker\":{\"id\":\"1628f81c-cd1f-4561-ba7a-25d2d06a9887\",\"type\":\"LogTicker\"}},\"id\":\"b55d4fed-78e5-41ca-9bf1-0193d870c156\",\"type\":\"Grid\"},{\"attributes\":{},\"id\":\"88aa868e-f9a3-4690-9ac1-9f3aeb3fd45b\",\"type\":\"LogScale\"},{\"attributes\":{\"label\":{\"value\":\"sieve\"},\"renderers\":[{\"id\":\"c0153cff-71fb-4bd7-86ea-03adf7b6e158\",\"type\":\"GlyphRenderer\"},{\"id\":\"0d16665f-1532-46ca-96f7-feccbab5874c\",\"type\":\"GlyphRenderer\"}]},\"id\":\"3ac4f6ef-0864-4137-a32a-568922080b29\",\"type\":\"LegendItem\"},{\"attributes\":{\"axis_label\":\"Primes\",\"formatter\":{\"id\":\"c70fee30-5349-4e21-b136-c3dd19a25b36\",\"type\":\"NumeralTickFormatter\"},\"plot\":{\"id\":\"874e0038-44e4-4c42-9164-a75e74990221\",\"subtype\":\"Figure\",\"type\":\"Plot\"},\"ticker\":{\"id\":\"1628f81c-cd1f-4561-ba7a-25d2d06a9887\",\"type\":\"LogTicker\"}},\"id\":\"48577071-beec-4b03-8550-f218728927fa\",\"type\":\"LogAxis\"},{\"attributes\":{\"source\":{\"id\":\"a1c2ded8-0e7d-4ad1-9d67-37aa28c259be\",\"type\":\"ColumnDataSource\"}},\"id\":\"e8457360-e035-4d03-9a3a-ec9eb7af8bbc\",\"type\":\"CDSView\"},{\"attributes\":{},\"id\":\"c0536c2a-00a8-4965-a6e5-ca3812df4e33\",\"type\":\"LogScale\"},{\"attributes\":{\"source\":{\"id\":\"dd09ee9f-d167-41db-bc33-271e6b5ebf7d\",\"type\":\"ColumnDataSource\"}},\"id\":\"00559f26-0ed8-4cae-a450-c1f40d69e898\",\"type\":\"CDSView\"},{\"attributes\":{\"axis_label\":\"Seconds\",\"formatter\":{\"id\":\"300da373-569d-4f08-a6d5-f94b9f7638c7\",\"type\":\"LogTickFormatter\"},\"plot\":{\"id\":\"874e0038-44e4-4c42-9164-a75e74990221\",\"subtype\":\"Figure\",\"type\":\"Plot\"},\"ticker\":{\"id\":\"d1077e6f-585c-49ba-bfee-521611010890\",\"type\":\"LogTicker\"}},\"id\":\"bf9c8551-c6d8-4e2e-b52b-ad1b677e3a6b\",\"type\":\"LogAxis\"},{\"attributes\":{\"dimension\":1,\"plot\":{\"id\":\"874e0038-44e4-4c42-9164-a75e74990221\",\"subtype\":\"Figure\",\"type\":\"Plot\"},\"ticker\":{\"id\":\"d1077e6f-585c-49ba-bfee-521611010890\",\"type\":\"LogTicker\"}},\"id\":\"e7c2d85c-8705-4c44-a9c8-4c2dbcc9a56a\",\"type\":\"Grid\"},{\"attributes\":{\"line_color\":\"#1f77b4\",\"line_dash\":[6],\"x\":{\"field\":\"x\"},\"y\":{\"field\":\"y\"}},\"id\":\"d5aae157-ad86-41fd-8e97-3d1a458713da\",\"type\":\"Line\"},{\"attributes\":{\"data_source\":{\"id\":\"58319e90-bad8-4fb3-a5ae-4c68f61c7f6d\",\"type\":\"ColumnDataSource\"},\"glyph\":{\"id\":\"2dbc6a0f-0284-472e-8a63-e3da703fe763\",\"type\":\"Circle\"},\"hover_glyph\":null,\"muted_glyph\":null,\"nonselection_glyph\":{\"id\":\"daffafd8-1b27-4ef9-ae05-36fd30496b55\",\"type\":\"Circle\"},\"selection_glyph\":null,\"view\":{\"id\":\"0b8367f5-6b4f-4813-b9e0-e58dc785d33b\",\"type\":\"CDSView\"}},\"id\":\"81d091a0-2153-4ea6-a50b-7dafae59b100\",\"type\":\"GlyphRenderer\"},{\"attributes\":{\"background_fill_alpha\":{\"value\":0.5},\"click_policy\":\"hide\",\"items\":[{\"id\":\"8d1b4357-aa9a-4b5a-95b7-13f3edf3ad96\",\"type\":\"LegendItem\"},{\"id\":\"346c2007-66ca-408a-b2eb-8e610a4cca70\",\"type\":\"LegendItem\"},{\"id\":\"d52ea6d7-4db5-426c-bee8-234209dbb3c2\",\"type\":\"LegendItem\"},{\"id\":\"733152b8-8745-45a0-8c33-61dd25b3fb39\",\"type\":\"LegendItem\"},{\"id\":\"54a308f1-3d4d-4ca1-9766-fdb8fda57b0e\",\"type\":\"LegendItem\"},{\"id\":\"3ac4f6ef-0864-4137-a32a-568922080b29\",\"type\":\"LegendItem\"}],\"location\":\"top_left\",\"plot\":{\"id\":\"874e0038-44e4-4c42-9164-a75e74990221\",\"subtype\":\"Figure\",\"type\":\"Plot\"}},\"id\":\"096f7223-a5be-4e8a-a9f5-0acca776165b\",\"type\":\"Legend\"},{\"attributes\":{},\"id\":\"aded0fa4-9b14-4d32-9114-cc8fcf443083\",\"type\":\"WheelZoomTool\"},{\"attributes\":{\"overlay\":{\"id\":\"150c5efe-48d1-4bac-81bc-ca1cb1f03edb\",\"type\":\"BoxAnnotation\"}},\"id\":\"7a31ec35-3f2d-4365-b1d3-2bbe107e9ed0\",\"type\":\"BoxZoomTool\"},{\"attributes\":{\"data_source\":{\"id\":\"b6cd5621-e771-4e5e-b266-f3a81561dbc3\",\"type\":\"ColumnDataSource\"},\"glyph\":{\"id\":\"84b4154b-afbb-42cc-9bb8-3521afbd7acb\",\"type\":\"Circle\"},\"hover_glyph\":null,\"muted_glyph\":null,\"nonselection_glyph\":{\"id\":\"4cb3739b-3609-4480-85f4-59ee4b7957cc\",\"type\":\"Circle\"},\"selection_glyph\":null,\"view\":{\"id\":\"ff20dfcf-cfc3-4577-be75-49e7554dee96\",\"type\":\"CDSView\"}},\"id\":\"352f8ef2-0f85-4238-9c65-a8a7815c8d81\",\"type\":\"GlyphRenderer\"},{\"attributes\":{\"callback\":null,\"column_names\":[\"x\",\"y\"],\"data\":{\"x\":[1,2,5,10,20,50,100,200,500,1000,2000],\"y\":[3.0079390853643417e-06,2.980930730700493e-06,8.170027285814285e-06,2.24430114030838e-05,6.925896741449833e-05,0.00035684509202837944,0.0015316121280193329,0.007375265937298536,0.05917246709577739,0.27406985498964787,1.2293089928571135]}},\"id\":\"ff4e8fd4-93ae-42b7-bc02-62ca12228295\",\"type\":\"ColumnDataSource\"},{\"attributes\":{\"bottom_units\":\"screen\",\"fill_alpha\":{\"value\":0.5},\"fill_color\":{\"value\":\"lightgrey\"},\"left_units\":\"screen\",\"level\":\"overlay\",\"line_alpha\":{\"value\":1.0},\"line_color\":{\"value\":\"black\"},\"line_dash\":[4,4],\"line_width\":{\"value\":2},\"plot\":null,\"render_mode\":\"css\",\"right_units\":\"screen\",\"top_units\":\"screen\"},\"id\":\"150c5efe-48d1-4bac-81bc-ca1cb1f03edb\",\"type\":\"BoxAnnotation\"},{\"attributes\":{\"line_color\":\"#d62728\",\"line_dash\":[6],\"x\":{\"field\":\"x\"},\"y\":{\"field\":\"y\"}},\"id\":\"dde45288-71ed-44df-a9d5-daca428fe899\",\"type\":\"Line\"},{\"attributes\":{\"data_source\":{\"id\":\"26acc3e9-6eb0-4b45-b0c3-7f37130cb393\",\"type\":\"ColumnDataSource\"},\"glyph\":{\"id\":\"780fe7c2-eb6e-4fd1-bf1b-1fda7c83e336\",\"type\":\"Circle\"},\"hover_glyph\":null,\"muted_glyph\":null,\"nonselection_glyph\":{\"id\":\"c40172d1-f12b-4569-8ac5-01ac77d43ed7\",\"type\":\"Circle\"},\"selection_glyph\":null,\"view\":{\"id\":\"dc97551d-0109-49f6-ae22-5ef8f8cd835d\",\"type\":\"CDSView\"}},\"id\":\"63476cea-6423-43bd-91a2-8b893d55a6d3\",\"type\":\"GlyphRenderer\"},{\"attributes\":{},\"id\":\"9d369f33-9f23-4e1e-85cf-903cd1269f79\",\"type\":\"PanTool\"},{\"attributes\":{\"data_source\":{\"id\":\"ff4e8fd4-93ae-42b7-bc02-62ca12228295\",\"type\":\"ColumnDataSource\"},\"glyph\":{\"id\":\"d5aae157-ad86-41fd-8e97-3d1a458713da\",\"type\":\"Line\"},\"hover_glyph\":null,\"muted_glyph\":null,\"nonselection_glyph\":{\"id\":\"b3466287-f6e9-4b14-af5d-e7be56523259\",\"type\":\"Line\"},\"selection_glyph\":null,\"view\":{\"id\":\"c66647db-007d-44c3-b32a-573ffad88ba2\",\"type\":\"CDSView\"}},\"id\":\"a396b680-4f33-4787-bf9c-60a0dee84df0\",\"type\":\"GlyphRenderer\"},{\"attributes\":{\"data_source\":{\"id\":\"a1c2ded8-0e7d-4ad1-9d67-37aa28c259be\",\"type\":\"ColumnDataSource\"},\"glyph\":{\"id\":\"26b97ac0-1500-4dfd-9a04-d7379828fabc\",\"type\":\"Line\"},\"hover_glyph\":null,\"muted_glyph\":null,\"nonselection_glyph\":{\"id\":\"251d5665-a91c-464a-a32d-fa3f3eda79e2\",\"type\":\"Line\"},\"selection_glyph\":null,\"view\":{\"id\":\"e8457360-e035-4d03-9a3a-ec9eb7af8bbc\",\"type\":\"CDSView\"}},\"id\":\"046a3162-d7d8-496d-9ea8-a4030c9db1ad\",\"type\":\"GlyphRenderer\"},{\"attributes\":{},\"id\":\"c1e2efc8-4a60-4ab2-a9ac-565f3f8f9117\",\"type\":\"ResetTool\"},{\"attributes\":{\"source\":{\"id\":\"26acc3e9-6eb0-4b45-b0c3-7f37130cb393\",\"type\":\"ColumnDataSource\"}},\"id\":\"dc97551d-0109-49f6-ae22-5ef8f8cd835d\",\"type\":\"CDSView\"},{\"attributes\":{\"source\":{\"id\":\"102cdec0-d8f6-4b8a-9b93-d8683a24e4c6\",\"type\":\"ColumnDataSource\"}},\"id\":\"a83ebc69-ae42-418c-8a56-62815e4a3c39\",\"type\":\"CDSView\"}],\"root_ids\":[\"874e0038-44e4-4c42-9164-a75e74990221\"]},\"title\":\"Bokeh Application\",\"version\":\"0.12.14\"}};\n",
       "  var render_items = [{\"docid\":\"25bde92a-793f-444a-8013-9b4631b91fe7\",\"elementid\":\"6de147bd-f6ac-4320-8f9c-ce55a8c253b2\",\"modelid\":\"874e0038-44e4-4c42-9164-a75e74990221\",\"notebook_comms_target\":\"7d9a3ac0-a7e0-4cb9-ba32-64bbca28bceb\"}];\n",
       "  root.Bokeh.embed.embed_items_notebook(docs_json, render_items);\n",
       "\n",
       "  }\n",
       "  if (root.Bokeh !== undefined) {\n",
       "    embed_document(root);\n",
       "  } else {\n",
       "    var attempts = 0;\n",
       "    var timer = setInterval(function(root) {\n",
       "      if (root.Bokeh !== undefined) {\n",
       "        embed_document(root);\n",
       "        clearInterval(timer);\n",
       "      }\n",
       "      attempts++;\n",
       "      if (attempts > 100) {\n",
       "        console.log(\"Bokeh: ERROR: Unable to run BokehJS code because BokehJS library is missing\")\n",
       "        clearInterval(timer);\n",
       "      }\n",
       "    }, 10, root)\n",
       "  }\n",
       "})(window);"
      ],
      "application/vnd.bokehjs_exec.v0+json": ""
     },
     "metadata": {
      "application/vnd.bokehjs_exec.v0+json": {
       "id": "874e0038-44e4-4c42-9164-a75e74990221"
      }
     },
     "output_type": "display_data"
    }
   ],
   "source": [
    "timing_plot(sieve, True)"
   ]
  },
  {
   "cell_type": "markdown",
   "metadata": {
    "slideshow": {
     "slide_type": "slide"
    }
   },
   "source": [
    "## Problems?"
   ]
  },
  {
   "cell_type": "markdown",
   "metadata": {
    "slideshow": {
     "slide_type": "fragment"
    }
   },
   "source": [
    "### Memory use\n",
    "- Use packed data structure (e.g. struct module), encode 8 cells/byte\n",
    "- Also skip multiples of 3 (only check numbers of form $6n \\pm 1$)"
   ]
  },
  {
   "cell_type": "markdown",
   "metadata": {
    "slideshow": {
     "slide_type": "fragment"
    }
   },
   "source": [
    "### Need to allocate storage upfront\n",
    "Often don't know in advance how much to allocate\n",
    "(e.g. first 100k primes)"
   ]
  },
  {
   "cell_type": "markdown",
   "metadata": {
    "slideshow": {
     "slide_type": "slide"
    }
   },
   "source": [
    "## Better?\n",
    "Now don’t have to decide upper limit in advance, but slower\n",
    "\n",
    "What about switching things around… for each prime store the next multiple higher than candidate, then we just just have to check if candidate is in the list, not multiple test divisions per candidate.\n",
    "For each multiple in the list, we store the original prime, so that when we reach it, we we can add it to generate the next multiple. But it could be a multiple of more than one prime, so we have to store a list of source primes:"
   ]
  },
  {
   "cell_type": "code",
   "execution_count": 17,
   "metadata": {
    "slideshow": {
     "slide_type": "fragment"
    }
   },
   "outputs": [],
   "source": [
    "from itertools import count\n",
    "\n",
    "def unbounded_sieve():\n",
    "    state = {}\n",
    "    for candidate in count(2):\n",
    "        if candidate in state:\n",
    "            for factor in state[candidate]:\n",
    "                if candidate + factor in state:\n",
    "                    state[candidate + factor].append(factor)\n",
    "                else:\n",
    "                    state[candidate + factor] = [factor]\n",
    "            del state[candidate]\n",
    "        else:\n",
    "            yield candidate\n",
    "            state[2 * candidate] = [candidate]"
   ]
  },
  {
   "cell_type": "code",
   "execution_count": 18,
   "metadata": {
    "slideshow": {
     "slide_type": "slide"
    }
   },
   "outputs": [
    {
     "data": {
      "text/html": [
       "\n",
       "<div class=\"bk-root\">\n",
       "    <div class=\"bk-plotdiv\" id=\"cc66f2c9-b4a5-4d17-855b-fbe0c2accb99\"></div>\n",
       "</div>"
      ]
     },
     "metadata": {},
     "output_type": "display_data"
    },
    {
     "data": {
      "application/javascript": [
       "(function(root) {\n",
       "  function embed_document(root) {\n",
       "    \n",
       "  var docs_json = {\"cd8c275a-d218-42a0-8b05-a335c8014b2d\":{\"roots\":{\"references\":[{\"attributes\":{\"fill_alpha\":{\"value\":0.1},\"fill_color\":{\"value\":\"#1f77b4\"},\"line_alpha\":{\"value\":0.1},\"line_color\":{\"value\":\"#1f77b4\"},\"x\":{\"field\":\"x\"},\"y\":{\"field\":\"y\"}},\"id\":\"0aa6906d-c2e3-46ff-9ece-b242b3187896\",\"type\":\"Circle\"},{\"attributes\":{\"callback\":null,\"start\":1},\"id\":\"0c899dbd-55ab-4791-9006-38be806d9dac\",\"type\":\"DataRange1d\"},{\"attributes\":{\"line_alpha\":0.1,\"line_color\":\"#1f77b4\",\"line_dash\":[6],\"x\":{\"field\":\"x\"},\"y\":{\"field\":\"y\"}},\"id\":\"cda433fc-69fa-495d-8ce0-179b2c40c000\",\"type\":\"Line\"},{\"attributes\":{\"below\":[{\"id\":\"bad48c55-2f48-447e-8b02-fcaf72ad86e6\",\"type\":\"LogAxis\"}],\"left\":[{\"id\":\"229ea066-ff21-4d2e-8750-ce0c08912cf3\",\"type\":\"LogAxis\"}],\"plot_height\":400,\"plot_width\":800,\"renderers\":[{\"id\":\"bad48c55-2f48-447e-8b02-fcaf72ad86e6\",\"type\":\"LogAxis\"},{\"id\":\"eec9c36b-171b-4d90-9204-dce3d2cbf8ce\",\"type\":\"Grid\"},{\"id\":\"229ea066-ff21-4d2e-8750-ce0c08912cf3\",\"type\":\"LogAxis\"},{\"id\":\"70b961f2-4d77-4134-865e-ef63a7a6320c\",\"type\":\"Grid\"},{\"id\":\"09ca2fb8-baf6-49ad-8361-6dae65b05877\",\"type\":\"BoxAnnotation\"},{\"id\":\"fb266876-2322-4a1a-9d67-77e5ac06bfbc\",\"type\":\"Legend\"},{\"id\":\"bd43d2e2-e057-4aac-88c4-4a4cdd2b4a5f\",\"type\":\"GlyphRenderer\"},{\"id\":\"f5e7535a-8d36-4df3-a527-f00a67b149c3\",\"type\":\"GlyphRenderer\"},{\"id\":\"ee2221a2-fd71-483e-8c65-ae5317454177\",\"type\":\"GlyphRenderer\"},{\"id\":\"0da26dcb-8e10-4f84-a267-a5d78b3d2255\",\"type\":\"GlyphRenderer\"},{\"id\":\"0269c03c-4867-4d00-b471-1e616a0f226b\",\"type\":\"GlyphRenderer\"},{\"id\":\"d3879c9d-0484-49d2-a886-525a8cbe0a9a\",\"type\":\"GlyphRenderer\"},{\"id\":\"4d068f76-52de-40ae-b9a6-975d0bde273d\",\"type\":\"GlyphRenderer\"},{\"id\":\"378d44c2-60fc-47d5-951f-e04b12f69d83\",\"type\":\"GlyphRenderer\"},{\"id\":\"74b700ab-41e1-4723-95b8-d43cce877b31\",\"type\":\"GlyphRenderer\"},{\"id\":\"f924035f-0050-45cd-92c0-51051bccd82b\",\"type\":\"GlyphRenderer\"},{\"id\":\"c5882018-91c7-42a3-b7dd-b9a3533f97a1\",\"type\":\"GlyphRenderer\"},{\"id\":\"1a80503b-5a99-4ee0-9277-5958da37c576\",\"type\":\"GlyphRenderer\"},{\"id\":\"0bf09dff-c8d4-44f4-91c7-4231396ca5f4\",\"type\":\"GlyphRenderer\"},{\"id\":\"3526d470-8763-4716-95d6-9c420ffd334a\",\"type\":\"GlyphRenderer\"}],\"title\":{\"id\":\"487ddf85-d712-4a77-b5ac-bce494a97459\",\"type\":\"Title\"},\"toolbar\":{\"id\":\"1bfb72c5-2360-408c-a7a8-a038c76ccfbc\",\"type\":\"Toolbar\"},\"toolbar_location\":\"above\",\"x_range\":{\"id\":\"0c899dbd-55ab-4791-9006-38be806d9dac\",\"type\":\"DataRange1d\"},\"x_scale\":{\"id\":\"e17b0cf5-205d-40e3-8e92-244e1110fbe3\",\"type\":\"LogScale\"},\"y_range\":{\"id\":\"11d812f8-98c5-4ea9-8bb0-0526b01f70d4\",\"type\":\"Range1d\"},\"y_scale\":{\"id\":\"b10b229e-0f7b-44f9-950f-03cac1625ba7\",\"type\":\"LogScale\"}},\"id\":\"22deff38-866c-4677-a7f7-9e5f7d2d1573\",\"subtype\":\"Figure\",\"type\":\"Plot\"},{\"attributes\":{\"line_color\":\"#8c564b\",\"line_dash\":[6],\"x\":{\"field\":\"x\"},\"y\":{\"field\":\"y\"}},\"id\":\"8bdb1115-0c97-4ede-9c4d-4baf969bbf38\",\"type\":\"Line\"},{\"attributes\":{\"plot\":null,\"text\":\"Timing\"},\"id\":\"487ddf85-d712-4a77-b5ac-bce494a97459\",\"type\":\"Title\"},{\"attributes\":{\"callback\":null,\"start\":1e-06},\"id\":\"11d812f8-98c5-4ea9-8bb0-0526b01f70d4\",\"type\":\"Range1d\"},{\"attributes\":{\"active_drag\":\"auto\",\"active_inspect\":\"auto\",\"active_scroll\":\"auto\",\"active_tap\":\"auto\",\"tools\":[{\"id\":\"61dea593-294b-4a51-bcac-2cd54db9c445\",\"type\":\"PanTool\"},{\"id\":\"c56eb990-bce0-4310-8d85-86c72229cdb5\",\"type\":\"WheelZoomTool\"},{\"id\":\"c4850e3d-5dbc-4220-9c50-fc691f3ea974\",\"type\":\"BoxZoomTool\"},{\"id\":\"94d3e378-e2d1-45f4-a396-593395d0c3fc\",\"type\":\"SaveTool\"},{\"id\":\"545fa4ba-8dd1-4ca4-9204-22ff564dee65\",\"type\":\"ResetTool\"},{\"id\":\"e39b3e26-27e8-4888-af3b-a957b5c3f6c5\",\"type\":\"HelpTool\"}]},\"id\":\"1bfb72c5-2360-408c-a7a8-a038c76ccfbc\",\"type\":\"Toolbar\"},{\"attributes\":{\"callback\":null,\"column_names\":[\"x\",\"y\"],\"data\":{\"x\":[1,2,5,10,20,50,100,200,500,1000,2000,5000,10000,20000,50000,100000,200000,500000],\"y\":[1.7101410776376724e-06,2.234010025858879e-06,3.5860575735569e-06,6.612855941057205e-06,1.219194382429123e-05,3.108987584710121e-05,7.33579508960247e-05,0.00016477005556225777,0.0004884249065071344,0.0011219209991395473,0.0026673900429159403,0.0077997660264372826,0.018545425962656736,0.04026325396262109,0.08585646585561335,0.23042701720260084,0.4798019640147686,1.3214226090349257]}},\"id\":\"1907b723-b7cb-4274-aab7-24f7ef9e3eb5\",\"type\":\"ColumnDataSource\"},{\"attributes\":{\"num_minor_ticks\":10},\"id\":\"ab9944ec-fc35-4675-89e4-ad0121cd5a89\",\"type\":\"LogTicker\"},{\"attributes\":{\"line_color\":\"#d62728\",\"line_dash\":[6],\"x\":{\"field\":\"x\"},\"y\":{\"field\":\"y\"}},\"id\":\"53a1d80f-4185-48b9-81b3-d509f3ca0c3c\",\"type\":\"Line\"},{\"attributes\":{\"callback\":null,\"column_names\":[\"x\",\"y\"],\"data\":{\"x\":[1,2,5,10,20,50,100,200,500,1000,2000],\"y\":[3.0079390853643417e-06,2.980930730700493e-06,8.170027285814285e-06,2.24430114030838e-05,6.925896741449833e-05,0.00035684509202837944,0.0015316121280193329,0.007375265937298536,0.05917246709577739,0.27406985498964787,1.2293089928571135]}},\"id\":\"57542d1d-2f67-469d-b166-220e535736de\",\"type\":\"ColumnDataSource\"},{\"attributes\":{\"callback\":null,\"column_names\":[\"x\",\"y\"],\"data\":{\"x\":[1,2,5,10,20,50,100,200,500,1000,2000,5000,10000,20000,50000,100000],\"y\":[1.2891832739114761e-06,1.8130522221326828e-06,3.261025995016098e-06,6.554881110787392e-06,1.7058104276657104e-05,5.391007289290428e-05,0.00014810916036367416,0.0004937269259244204,0.001433278899639845,0.003815744072198868,0.010338949039578438,0.03980604512616992,0.10124637698754668,0.20987048209644854,0.7688391590490937,2.1385415359400213]}},\"id\":\"bcce90af-1e5a-4a9c-b571-0cd4a57612ab\",\"type\":\"ColumnDataSource\"},{\"attributes\":{\"format\":\"0[.]0 a\"},\"id\":\"5a3efa6a-8d12-44f9-a2b7-3325c818cbff\",\"type\":\"NumeralTickFormatter\"},{\"attributes\":{},\"id\":\"b10b229e-0f7b-44f9-950f-03cac1625ba7\",\"type\":\"LogScale\"},{\"attributes\":{\"source\":{\"id\":\"657e2324-5028-4216-9cb6-7286826eeaa5\",\"type\":\"ColumnDataSource\"}},\"id\":\"ff5eaf11-1681-4a27-ad0e-1209023e2397\",\"type\":\"CDSView\"},{\"attributes\":{\"num_minor_ticks\":10},\"id\":\"f7ea1014-886c-4342-b1d5-b657176ff2b4\",\"type\":\"LogTicker\"},{\"attributes\":{\"fill_alpha\":{\"value\":0.1},\"fill_color\":{\"value\":\"#1f77b4\"},\"line_alpha\":{\"value\":0.1},\"line_color\":{\"value\":\"#1f77b4\"},\"x\":{\"field\":\"x\"},\"y\":{\"field\":\"y\"}},\"id\":\"0b26754c-86b6-4456-8f05-2e88e9af4962\",\"type\":\"Circle\"},{\"attributes\":{\"fill_color\":{\"value\":\"#e377c2\"},\"line_color\":{\"value\":\"#e377c2\"},\"x\":{\"field\":\"x\"},\"y\":{\"field\":\"y\"}},\"id\":\"c91990dd-79ae-4302-8205-c793e99708c8\",\"type\":\"Circle\"},{\"attributes\":{\"plot\":{\"id\":\"22deff38-866c-4677-a7f7-9e5f7d2d1573\",\"subtype\":\"Figure\",\"type\":\"Plot\"},\"ticker\":{\"id\":\"ab9944ec-fc35-4675-89e4-ad0121cd5a89\",\"type\":\"LogTicker\"}},\"id\":\"eec9c36b-171b-4d90-9204-dce3d2cbf8ce\",\"type\":\"Grid\"},{\"attributes\":{\"fill_alpha\":{\"value\":0.1},\"fill_color\":{\"value\":\"#1f77b4\"},\"line_alpha\":{\"value\":0.1},\"line_color\":{\"value\":\"#1f77b4\"},\"x\":{\"field\":\"x\"},\"y\":{\"field\":\"y\"}},\"id\":\"c85afab1-5db9-48f3-8478-612abe4d9530\",\"type\":\"Circle\"},{\"attributes\":{\"data_source\":{\"id\":\"657e2324-5028-4216-9cb6-7286826eeaa5\",\"type\":\"ColumnDataSource\"},\"glyph\":{\"id\":\"53a1d80f-4185-48b9-81b3-d509f3ca0c3c\",\"type\":\"Line\"},\"hover_glyph\":null,\"muted_glyph\":null,\"nonselection_glyph\":{\"id\":\"cf4ff7b9-8420-408a-bdc8-860a6db85347\",\"type\":\"Line\"},\"selection_glyph\":null,\"view\":{\"id\":\"ff5eaf11-1681-4a27-ad0e-1209023e2397\",\"type\":\"CDSView\"}},\"id\":\"4d068f76-52de-40ae-b9a6-975d0bde273d\",\"type\":\"GlyphRenderer\"},{\"attributes\":{},\"id\":\"e17b0cf5-205d-40e3-8e92-244e1110fbe3\",\"type\":\"LogScale\"},{\"attributes\":{\"axis_label\":\"Primes\",\"formatter\":{\"id\":\"5a3efa6a-8d12-44f9-a2b7-3325c818cbff\",\"type\":\"NumeralTickFormatter\"},\"plot\":{\"id\":\"22deff38-866c-4677-a7f7-9e5f7d2d1573\",\"subtype\":\"Figure\",\"type\":\"Plot\"},\"ticker\":{\"id\":\"ab9944ec-fc35-4675-89e4-ad0121cd5a89\",\"type\":\"LogTicker\"}},\"id\":\"bad48c55-2f48-447e-8b02-fcaf72ad86e6\",\"type\":\"LogAxis\"},{\"attributes\":{\"callback\":null,\"column_names\":[\"x\",\"y\"],\"data\":{\"x\":[1,2,5,10,20,50,100,200,500,1000,2000,5000,10000],\"y\":[1.0139774531126022e-06,1.3730023056268692e-06,2.58604995906353e-06,5.44707290828228e-06,1.5757977962493896e-05,7.756706327199936e-05,0.00028013112023472786,0.001088918186724186,0.00725925387814641,0.031019693007692695,0.13349225302226841,0.7455389390233904,3.107478972990066]}},\"id\":\"4fcca98e-9fb1-48e1-babb-2a041ac81cb4\",\"type\":\"ColumnDataSource\"},{\"attributes\":{\"data_source\":{\"id\":\"4fcca98e-9fb1-48e1-babb-2a041ac81cb4\",\"type\":\"ColumnDataSource\"},\"glyph\":{\"id\":\"8f060c54-83ee-423f-bcdc-0cf84a49b00b\",\"type\":\"Circle\"},\"hover_glyph\":null,\"muted_glyph\":null,\"nonselection_glyph\":{\"id\":\"0b26754c-86b6-4456-8f05-2e88e9af4962\",\"type\":\"Circle\"},\"selection_glyph\":null,\"view\":{\"id\":\"944ff734-9a41-440e-aa43-5f09eedb3527\",\"type\":\"CDSView\"}},\"id\":\"378d44c2-60fc-47d5-951f-e04b12f69d83\",\"type\":\"GlyphRenderer\"},{\"attributes\":{\"fill_alpha\":{\"value\":0.1},\"fill_color\":{\"value\":\"#1f77b4\"},\"line_alpha\":{\"value\":0.1},\"line_color\":{\"value\":\"#1f77b4\"},\"x\":{\"field\":\"x\"},\"y\":{\"field\":\"y\"}},\"id\":\"8bd6710a-e666-4669-add7-4cf8f2ad599d\",\"type\":\"Circle\"},{\"attributes\":{\"axis_label\":\"Seconds\",\"formatter\":{\"id\":\"4bb93daa-5559-4483-bbe2-cbcbb2370260\",\"type\":\"LogTickFormatter\"},\"plot\":{\"id\":\"22deff38-866c-4677-a7f7-9e5f7d2d1573\",\"subtype\":\"Figure\",\"type\":\"Plot\"},\"ticker\":{\"id\":\"f7ea1014-886c-4342-b1d5-b657176ff2b4\",\"type\":\"LogTicker\"}},\"id\":\"229ea066-ff21-4d2e-8750-ce0c08912cf3\",\"type\":\"LogAxis\"},{\"attributes\":{\"line_alpha\":0.1,\"line_color\":\"#1f77b4\",\"line_dash\":[6],\"x\":{\"field\":\"x\"},\"y\":{\"field\":\"y\"}},\"id\":\"cf4ff7b9-8420-408a-bdc8-860a6db85347\",\"type\":\"Line\"},{\"attributes\":{\"dimension\":1,\"plot\":{\"id\":\"22deff38-866c-4677-a7f7-9e5f7d2d1573\",\"subtype\":\"Figure\",\"type\":\"Plot\"},\"ticker\":{\"id\":\"f7ea1014-886c-4342-b1d5-b657176ff2b4\",\"type\":\"LogTicker\"}},\"id\":\"70b961f2-4d77-4134-865e-ef63a7a6320c\",\"type\":\"Grid\"},{\"attributes\":{\"line_color\":\"#1f77b4\",\"line_dash\":[6],\"x\":{\"field\":\"x\"},\"y\":{\"field\":\"y\"}},\"id\":\"bf3e7dfd-a4f2-4065-b0bf-2337c1edefdc\",\"type\":\"Line\"},{\"attributes\":{\"callback\":null,\"column_names\":[\"x\",\"y\"],\"data\":{\"x\":[1,2,5,10,20,50,100,200,500,1000,2000,5000,10000,20000,50000],\"y\":[1.3171229511499405e-06,2.8780195862054825e-06,6.7069195210933685e-06,1.4960067346692085e-05,5.4510077461600304e-05,0.00012037507258355618,0.0003023201134055853,0.0007400668691843748,0.002520353067666292,0.00632662489078939,0.01610450493171811,0.05177717702463269,0.1080278200097382,0.29799197404645383,1.25529725686647]}},\"id\":\"cf2b4d16-4ad1-4176-bc24-d210d7ee6b9e\",\"type\":\"ColumnDataSource\"},{\"attributes\":{\"callback\":null,\"column_names\":[\"x\",\"y\"],\"data\":{\"x\":[1,2,5,10,20,50,100,200,500,1000,2000,5000,10000,20000,50000,100000,200000,500000],\"y\":[1.7101410776376724e-06,2.234010025858879e-06,3.5860575735569e-06,6.612855941057205e-06,1.219194382429123e-05,3.108987584710121e-05,7.33579508960247e-05,0.00016477005556225777,0.0004884249065071344,0.0011219209991395473,0.0026673900429159403,0.0077997660264372826,0.018545425962656736,0.04026325396262109,0.08585646585561335,0.23042701720260084,0.4798019640147686,1.3214226090349257]}},\"id\":\"dbbd1768-90d9-41ad-baa2-a29753805f64\",\"type\":\"ColumnDataSource\"},{\"attributes\":{\"data_source\":{\"id\":\"c54b58ea-6c16-4a59-82f2-a59c74ffbfb8\",\"type\":\"ColumnDataSource\"},\"glyph\":{\"id\":\"fe9b13cd-84ae-44de-9438-e6b8e0d97023\",\"type\":\"Line\"},\"hover_glyph\":null,\"muted_glyph\":null,\"nonselection_glyph\":{\"id\":\"4bcc8bf5-c676-45ce-952f-612f785d9758\",\"type\":\"Line\"},\"selection_glyph\":null,\"view\":{\"id\":\"d697fdc0-f43d-4228-8385-98a11e50462d\",\"type\":\"CDSView\"}},\"id\":\"0269c03c-4867-4d00-b471-1e616a0f226b\",\"type\":\"GlyphRenderer\"},{\"attributes\":{\"callback\":null,\"column_names\":[\"x\",\"y\"],\"data\":{\"x\":[1,2,5,10,20,50,100,200,500,1000,2000],\"y\":[3.0079390853643417e-06,2.980930730700493e-06,8.170027285814285e-06,2.24430114030838e-05,6.925896741449833e-05,0.00035684509202837944,0.0015316121280193329,0.007375265937298536,0.05917246709577739,0.27406985498964787,1.2293089928571135]}},\"id\":\"5a92f860-7249-4f6b-be75-e4d837f54ce5\",\"type\":\"ColumnDataSource\"},{\"attributes\":{\"bottom_units\":\"screen\",\"fill_alpha\":{\"value\":0.5},\"fill_color\":{\"value\":\"lightgrey\"},\"left_units\":\"screen\",\"level\":\"overlay\",\"line_alpha\":{\"value\":1.0},\"line_color\":{\"value\":\"black\"},\"line_dash\":[4,4],\"line_width\":{\"value\":2},\"plot\":null,\"render_mode\":\"css\",\"right_units\":\"screen\",\"top_units\":\"screen\"},\"id\":\"09ca2fb8-baf6-49ad-8361-6dae65b05877\",\"type\":\"BoxAnnotation\"},{\"attributes\":{\"fill_alpha\":{\"value\":0.1},\"fill_color\":{\"value\":\"#1f77b4\"},\"line_alpha\":{\"value\":0.1},\"line_color\":{\"value\":\"#1f77b4\"},\"x\":{\"field\":\"x\"},\"y\":{\"field\":\"y\"}},\"id\":\"bd2aa822-46f3-4999-b385-6d3f92025ac3\",\"type\":\"Circle\"},{\"attributes\":{\"callback\":null,\"column_names\":[\"x\",\"y\"],\"data\":{\"x\":[1,2,5,10,20,50,100,200,500,1000,2000,5000,10000,20000,50000,100000],\"y\":[1.2891832739114761e-06,1.8130522221326828e-06,3.261025995016098e-06,6.554881110787392e-06,1.7058104276657104e-05,5.391007289290428e-05,0.00014810916036367416,0.0004937269259244204,0.001433278899639845,0.003815744072198868,0.010338949039578438,0.03980604512616992,0.10124637698754668,0.20987048209644854,0.7688391590490937,2.1385415359400213]}},\"id\":\"7a7f32c4-78b7-4c1b-a3dc-025701141944\",\"type\":\"ColumnDataSource\"},{\"attributes\":{},\"id\":\"61dea593-294b-4a51-bcac-2cd54db9c445\",\"type\":\"PanTool\"},{\"attributes\":{\"data_source\":{\"id\":\"5a92f860-7249-4f6b-be75-e4d837f54ce5\",\"type\":\"ColumnDataSource\"},\"glyph\":{\"id\":\"bf3e7dfd-a4f2-4065-b0bf-2337c1edefdc\",\"type\":\"Line\"},\"hover_glyph\":null,\"muted_glyph\":null,\"nonselection_glyph\":{\"id\":\"cda433fc-69fa-495d-8ce0-179b2c40c000\",\"type\":\"Line\"},\"selection_glyph\":null,\"view\":{\"id\":\"318665db-8bcc-45ce-bbc5-68ea5e492600\",\"type\":\"CDSView\"}},\"id\":\"bd43d2e2-e057-4aac-88c4-4a4cdd2b4a5f\",\"type\":\"GlyphRenderer\"},{\"attributes\":{\"label\":{\"value\":\"check_primes_sqrt\"},\"renderers\":[{\"id\":\"74b700ab-41e1-4723-95b8-d43cce877b31\",\"type\":\"GlyphRenderer\"},{\"id\":\"f924035f-0050-45cd-92c0-51051bccd82b\",\"type\":\"GlyphRenderer\"}]},\"id\":\"4237d0f4-b92c-4f8d-9eba-5847fdb4eefa\",\"type\":\"LegendItem\"},{\"attributes\":{\"fill_color\":{\"value\":\"#8c564b\"},\"line_color\":{\"value\":\"#8c564b\"},\"x\":{\"field\":\"x\"},\"y\":{\"field\":\"y\"}},\"id\":\"7e044ced-9508-4a94-bcb0-6559a5395a96\",\"type\":\"Circle\"},{\"attributes\":{\"source\":{\"id\":\"c54b58ea-6c16-4a59-82f2-a59c74ffbfb8\",\"type\":\"ColumnDataSource\"}},\"id\":\"d697fdc0-f43d-4228-8385-98a11e50462d\",\"type\":\"CDSView\"},{\"attributes\":{},\"id\":\"c56eb990-bce0-4310-8d85-86c72229cdb5\",\"type\":\"WheelZoomTool\"},{\"attributes\":{\"fill_color\":{\"value\":\"#d62728\"},\"line_color\":{\"value\":\"#d62728\"},\"x\":{\"field\":\"x\"},\"y\":{\"field\":\"y\"}},\"id\":\"8f060c54-83ee-423f-bcdc-0cf84a49b00b\",\"type\":\"Circle\"},{\"attributes\":{\"overlay\":{\"id\":\"09ca2fb8-baf6-49ad-8361-6dae65b05877\",\"type\":\"BoxAnnotation\"}},\"id\":\"c4850e3d-5dbc-4220-9c50-fc691f3ea974\",\"type\":\"BoxZoomTool\"},{\"attributes\":{\"data_source\":{\"id\":\"d093033b-24e2-4d06-97cf-125a65e384ac\",\"type\":\"ColumnDataSource\"},\"glyph\":{\"id\":\"eb85e3e5-a6c3-4564-af8c-f319b29c718d\",\"type\":\"Line\"},\"hover_glyph\":null,\"muted_glyph\":null,\"nonselection_glyph\":{\"id\":\"93741f6f-9028-4a7b-a952-63741f7f1977\",\"type\":\"Line\"},\"selection_glyph\":null,\"view\":{\"id\":\"b7d11a31-bbb7-438e-84d6-5a572dea6af8\",\"type\":\"CDSView\"}},\"id\":\"0bf09dff-c8d4-44f4-91c7-4231396ca5f4\",\"type\":\"GlyphRenderer\"},{\"attributes\":{\"label\":{\"value\":\"sieve\"},\"renderers\":[{\"id\":\"c5882018-91c7-42a3-b7dd-b9a3533f97a1\",\"type\":\"GlyphRenderer\"},{\"id\":\"1a80503b-5a99-4ee0-9277-5958da37c576\",\"type\":\"GlyphRenderer\"}]},\"id\":\"b36f0478-f5e7-49dc-aafa-20bb4a443e80\",\"type\":\"LegendItem\"},{\"attributes\":{},\"id\":\"94d3e378-e2d1-45f4-a396-593395d0c3fc\",\"type\":\"SaveTool\"},{\"attributes\":{\"fill_alpha\":{\"value\":0.1},\"fill_color\":{\"value\":\"#1f77b4\"},\"line_alpha\":{\"value\":0.1},\"line_color\":{\"value\":\"#1f77b4\"},\"x\":{\"field\":\"x\"},\"y\":{\"field\":\"y\"}},\"id\":\"ef73846e-34ae-44e7-b883-b23e07199edf\",\"type\":\"Circle\"},{\"attributes\":{\"source\":{\"id\":\"dbbd1768-90d9-41ad-baa2-a29753805f64\",\"type\":\"ColumnDataSource\"}},\"id\":\"ff3e22ab-fb85-4cd9-af00-0fde909dae45\",\"type\":\"CDSView\"},{\"attributes\":{},\"id\":\"545fa4ba-8dd1-4ca4-9204-22ff564dee65\",\"type\":\"ResetTool\"},{\"attributes\":{\"data_source\":{\"id\":\"1907b723-b7cb-4274-aab7-24f7ef9e3eb5\",\"type\":\"ColumnDataSource\"},\"glyph\":{\"id\":\"7e044ced-9508-4a94-bcb0-6559a5395a96\",\"type\":\"Circle\"},\"hover_glyph\":null,\"muted_glyph\":null,\"nonselection_glyph\":{\"id\":\"ef73846e-34ae-44e7-b883-b23e07199edf\",\"type\":\"Circle\"},\"selection_glyph\":null,\"view\":{\"id\":\"6307d5e3-2b52-43b6-8a98-c994f3c4f8a1\",\"type\":\"CDSView\"}},\"id\":\"1a80503b-5a99-4ee0-9277-5958da37c576\",\"type\":\"GlyphRenderer\"},{\"attributes\":{\"data_source\":{\"id\":\"25dc9cc6-3651-414f-a7db-a49576f467b6\",\"type\":\"ColumnDataSource\"},\"glyph\":{\"id\":\"58f7b71e-c24d-474c-aa20-1047903510b9\",\"type\":\"Circle\"},\"hover_glyph\":null,\"muted_glyph\":null,\"nonselection_glyph\":{\"id\":\"c85afab1-5db9-48f3-8478-612abe4d9530\",\"type\":\"Circle\"},\"selection_glyph\":null,\"view\":{\"id\":\"f517114e-0406-4ee1-978e-e62c5caec96a\",\"type\":\"CDSView\"}},\"id\":\"0da26dcb-8e10-4f84-a267-a5d78b3d2255\",\"type\":\"GlyphRenderer\"},{\"attributes\":{},\"id\":\"e39b3e26-27e8-4888-af3b-a957b5c3f6c5\",\"type\":\"HelpTool\"},{\"attributes\":{\"label\":{\"value\":\"unbounded_sieve\"},\"renderers\":[{\"id\":\"0bf09dff-c8d4-44f4-91c7-4231396ca5f4\",\"type\":\"GlyphRenderer\"},{\"id\":\"3526d470-8763-4716-95d6-9c420ffd334a\",\"type\":\"GlyphRenderer\"}]},\"id\":\"ac241387-b4a8-435a-af65-36d8e08e955b\",\"type\":\"LegendItem\"},{\"attributes\":{\"source\":{\"id\":\"bcce90af-1e5a-4a9c-b571-0cd4a57612ab\",\"type\":\"ColumnDataSource\"}},\"id\":\"32619f4e-fa9e-490c-8125-c39bc0359287\",\"type\":\"CDSView\"},{\"attributes\":{\"line_color\":\"#9467bd\",\"line_dash\":[6],\"x\":{\"field\":\"x\"},\"y\":{\"field\":\"y\"}},\"id\":\"81756210-0b0f-4713-a3a7-fd64ffcf28b1\",\"type\":\"Line\"},{\"attributes\":{\"source\":{\"id\":\"5a92f860-7249-4f6b-be75-e4d837f54ce5\",\"type\":\"ColumnDataSource\"}},\"id\":\"318665db-8bcc-45ce-bbc5-68ea5e492600\",\"type\":\"CDSView\"},{\"attributes\":{\"ticker\":null},\"id\":\"4bb93daa-5559-4483-bbe2-cbcbb2370260\",\"type\":\"LogTickFormatter\"},{\"attributes\":{\"data_source\":{\"id\":\"dbbd1768-90d9-41ad-baa2-a29753805f64\",\"type\":\"ColumnDataSource\"},\"glyph\":{\"id\":\"8bdb1115-0c97-4ede-9c4d-4baf969bbf38\",\"type\":\"Line\"},\"hover_glyph\":null,\"muted_glyph\":null,\"nonselection_glyph\":{\"id\":\"bba5a3e3-8f11-4fbf-9aba-17c7e4ec0c2c\",\"type\":\"Line\"},\"selection_glyph\":null,\"view\":{\"id\":\"ff3e22ab-fb85-4cd9-af00-0fde909dae45\",\"type\":\"CDSView\"}},\"id\":\"c5882018-91c7-42a3-b7dd-b9a3533f97a1\",\"type\":\"GlyphRenderer\"},{\"attributes\":{\"label\":{\"value\":\"first_try\"},\"renderers\":[{\"id\":\"bd43d2e2-e057-4aac-88c4-4a4cdd2b4a5f\",\"type\":\"GlyphRenderer\"},{\"id\":\"f5e7535a-8d36-4df3-a527-f00a67b149c3\",\"type\":\"GlyphRenderer\"}]},\"id\":\"33ed6ea6-98f8-4613-b66a-6e55e5663ce5\",\"type\":\"LegendItem\"},{\"attributes\":{\"line_alpha\":0.1,\"line_color\":\"#1f77b4\",\"line_dash\":[6],\"x\":{\"field\":\"x\"},\"y\":{\"field\":\"y\"}},\"id\":\"bba5a3e3-8f11-4fbf-9aba-17c7e4ec0c2c\",\"type\":\"Line\"},{\"attributes\":{\"source\":{\"id\":\"1907b723-b7cb-4274-aab7-24f7ef9e3eb5\",\"type\":\"ColumnDataSource\"}},\"id\":\"6307d5e3-2b52-43b6-8a98-c994f3c4f8a1\",\"type\":\"CDSView\"},{\"attributes\":{\"callback\":null,\"column_names\":[\"x\",\"y\"],\"data\":{\"x\":[1,2,5,10,20,50,100,200,500,1000,2000,5000,10000],\"y\":[1.0139774531126022e-06,1.3730023056268692e-06,2.58604995906353e-06,5.44707290828228e-06,1.5757977962493896e-05,7.756706327199936e-05,0.00028013112023472786,0.001088918186724186,0.00725925387814641,0.031019693007692695,0.13349225302226841,0.7455389390233904,3.107478972990066]}},\"id\":\"657e2324-5028-4216-9cb6-7286826eeaa5\",\"type\":\"ColumnDataSource\"},{\"attributes\":{\"data_source\":{\"id\":\"d093033b-24e2-4d06-97cf-125a65e384ac\",\"type\":\"ColumnDataSource\"},\"glyph\":{\"id\":\"c91990dd-79ae-4302-8205-c793e99708c8\",\"type\":\"Circle\"},\"hover_glyph\":null,\"muted_glyph\":null,\"nonselection_glyph\":{\"id\":\"8bd6710a-e666-4669-add7-4cf8f2ad599d\",\"type\":\"Circle\"},\"selection_glyph\":null,\"view\":{\"id\":\"a52e37d1-a171-412b-ad89-98f79cf42507\",\"type\":\"CDSView\"}},\"id\":\"3526d470-8763-4716-95d6-9c420ffd334a\",\"type\":\"GlyphRenderer\"},{\"attributes\":{\"fill_color\":{\"value\":\"#2ca02c\"},\"line_color\":{\"value\":\"#2ca02c\"},\"x\":{\"field\":\"x\"},\"y\":{\"field\":\"y\"}},\"id\":\"a9247cc4-85cc-41cc-b194-10ab96d38042\",\"type\":\"Circle\"},{\"attributes\":{\"source\":{\"id\":\"d093033b-24e2-4d06-97cf-125a65e384ac\",\"type\":\"ColumnDataSource\"}},\"id\":\"a52e37d1-a171-412b-ad89-98f79cf42507\",\"type\":\"CDSView\"},{\"attributes\":{\"line_alpha\":0.1,\"line_color\":\"#1f77b4\",\"x\":{\"field\":\"x\"},\"y\":{\"field\":\"y\"}},\"id\":\"93741f6f-9028-4a7b-a952-63741f7f1977\",\"type\":\"Line\"},{\"attributes\":{\"data_source\":{\"id\":\"cf2b4d16-4ad1-4176-bc24-d210d7ee6b9e\",\"type\":\"ColumnDataSource\"},\"glyph\":{\"id\":\"a9247cc4-85cc-41cc-b194-10ab96d38042\",\"type\":\"Circle\"},\"hover_glyph\":null,\"muted_glyph\":null,\"nonselection_glyph\":{\"id\":\"0aa6906d-c2e3-46ff-9ece-b242b3187896\",\"type\":\"Circle\"},\"selection_glyph\":null,\"view\":{\"id\":\"17c5d393-399f-421b-ba4b-06beb5a078d9\",\"type\":\"CDSView\"}},\"id\":\"d3879c9d-0484-49d2-a886-525a8cbe0a9a\",\"type\":\"GlyphRenderer\"},{\"attributes\":{\"source\":{\"id\":\"d093033b-24e2-4d06-97cf-125a65e384ac\",\"type\":\"ColumnDataSource\"}},\"id\":\"b7d11a31-bbb7-438e-84d6-5a572dea6af8\",\"type\":\"CDSView\"},{\"attributes\":{\"source\":{\"id\":\"cf2b4d16-4ad1-4176-bc24-d210d7ee6b9e\",\"type\":\"ColumnDataSource\"}},\"id\":\"17c5d393-399f-421b-ba4b-06beb5a078d9\",\"type\":\"CDSView\"},{\"attributes\":{\"callback\":null,\"column_names\":[\"x\",\"y\"],\"data\":{\"x\":[],\"y\":[]}},\"id\":\"d093033b-24e2-4d06-97cf-125a65e384ac\",\"type\":\"ColumnDataSource\"},{\"attributes\":{\"label\":{\"value\":\"check_primes\"},\"renderers\":[{\"id\":\"4d068f76-52de-40ae-b9a6-975d0bde273d\",\"type\":\"GlyphRenderer\"},{\"id\":\"378d44c2-60fc-47d5-951f-e04b12f69d83\",\"type\":\"GlyphRenderer\"}]},\"id\":\"2575fa55-491c-4c28-91ea-93add4fd3ca9\",\"type\":\"LegendItem\"},{\"attributes\":{\"line_color\":\"#e377c2\",\"x\":{\"field\":\"x\"},\"y\":{\"field\":\"y\"}},\"id\":\"eb85e3e5-a6c3-4564-af8c-f319b29c718d\",\"type\":\"Line\"},{\"attributes\":{\"line_color\":\"#2ca02c\",\"line_dash\":[6],\"x\":{\"field\":\"x\"},\"y\":{\"field\":\"y\"}},\"id\":\"fe9b13cd-84ae-44de-9438-e6b8e0d97023\",\"type\":\"Line\"},{\"attributes\":{\"source\":{\"id\":\"25dc9cc6-3651-414f-a7db-a49576f467b6\",\"type\":\"ColumnDataSource\"}},\"id\":\"f517114e-0406-4ee1-978e-e62c5caec96a\",\"type\":\"CDSView\"},{\"attributes\":{\"line_alpha\":0.1,\"line_color\":\"#1f77b4\",\"line_dash\":[6],\"x\":{\"field\":\"x\"},\"y\":{\"field\":\"y\"}},\"id\":\"df97bd77-13b5-4982-b331-33efbb30c2da\",\"type\":\"Line\"},{\"attributes\":{\"fill_color\":{\"value\":\"#ff7f0e\"},\"line_color\":{\"value\":\"#ff7f0e\"},\"x\":{\"field\":\"x\"},\"y\":{\"field\":\"y\"}},\"id\":\"58f7b71e-c24d-474c-aa20-1047903510b9\",\"type\":\"Circle\"},{\"attributes\":{\"line_alpha\":0.1,\"line_color\":\"#1f77b4\",\"line_dash\":[6],\"x\":{\"field\":\"x\"},\"y\":{\"field\":\"y\"}},\"id\":\"4bcc8bf5-c676-45ce-952f-612f785d9758\",\"type\":\"Line\"},{\"attributes\":{\"label\":{\"value\":\"to_sqrt\"},\"renderers\":[{\"id\":\"0269c03c-4867-4d00-b471-1e616a0f226b\",\"type\":\"GlyphRenderer\"},{\"id\":\"d3879c9d-0484-49d2-a886-525a8cbe0a9a\",\"type\":\"GlyphRenderer\"}]},\"id\":\"ec88afa5-7656-4155-a4b8-bb22e47b8c5e\",\"type\":\"LegendItem\"},{\"attributes\":{\"callback\":null,\"column_names\":[\"x\",\"y\"],\"data\":{\"x\":[1,2,5,10,20,50,100,200,500,1000,2000,5000,10000,20000,50000],\"y\":[1.3171229511499405e-06,2.8780195862054825e-06,6.7069195210933685e-06,1.4960067346692085e-05,5.4510077461600304e-05,0.00012037507258355618,0.0003023201134055853,0.0007400668691843748,0.002520353067666292,0.00632662489078939,0.01610450493171811,0.05177717702463269,0.1080278200097382,0.29799197404645383,1.25529725686647]}},\"id\":\"c54b58ea-6c16-4a59-82f2-a59c74ffbfb8\",\"type\":\"ColumnDataSource\"},{\"attributes\":{\"callback\":null,\"column_names\":[\"x\",\"y\"],\"data\":{\"x\":[1,2,5,10,20,50,100,200,500,1000,2000,5000],\"y\":[1.4319084584712982e-06,2.3900065571069717e-06,5.2889809012413025e-06,1.3441778719425201e-05,4.3275998905301094e-05,0.00022354512475430965,0.0009551611728966236,0.005093520972877741,0.0360875460319221,0.16740669403225183,0.6574779360089451,4.291011564899236]}},\"id\":\"20ecd35f-7dcc-4970-a6f9-292cac621dd9\",\"type\":\"ColumnDataSource\"},{\"attributes\":{\"data_source\":{\"id\":\"bcce90af-1e5a-4a9c-b571-0cd4a57612ab\",\"type\":\"ColumnDataSource\"},\"glyph\":{\"id\":\"a5a64919-4236-4bbc-8b75-830c2dce3b07\",\"type\":\"Circle\"},\"hover_glyph\":null,\"muted_glyph\":null,\"nonselection_glyph\":{\"id\":\"f6e14075-5104-4ed5-9a1c-d11ccd8c0c1c\",\"type\":\"Circle\"},\"selection_glyph\":null,\"view\":{\"id\":\"32619f4e-fa9e-490c-8125-c39bc0359287\",\"type\":\"CDSView\"}},\"id\":\"f924035f-0050-45cd-92c0-51051bccd82b\",\"type\":\"GlyphRenderer\"},{\"attributes\":{\"background_fill_alpha\":{\"value\":0.5},\"click_policy\":\"hide\",\"items\":[{\"id\":\"33ed6ea6-98f8-4613-b66a-6e55e5663ce5\",\"type\":\"LegendItem\"},{\"id\":\"8e975a40-7039-4e74-9a04-0ed4c94caae1\",\"type\":\"LegendItem\"},{\"id\":\"ec88afa5-7656-4155-a4b8-bb22e47b8c5e\",\"type\":\"LegendItem\"},{\"id\":\"2575fa55-491c-4c28-91ea-93add4fd3ca9\",\"type\":\"LegendItem\"},{\"id\":\"4237d0f4-b92c-4f8d-9eba-5847fdb4eefa\",\"type\":\"LegendItem\"},{\"id\":\"b36f0478-f5e7-49dc-aafa-20bb4a443e80\",\"type\":\"LegendItem\"},{\"id\":\"ac241387-b4a8-435a-af65-36d8e08e955b\",\"type\":\"LegendItem\"}],\"location\":\"top_left\",\"plot\":{\"id\":\"22deff38-866c-4677-a7f7-9e5f7d2d1573\",\"subtype\":\"Figure\",\"type\":\"Plot\"}},\"id\":\"fb266876-2322-4a1a-9d67-77e5ac06bfbc\",\"type\":\"Legend\"},{\"attributes\":{\"source\":{\"id\":\"4fcca98e-9fb1-48e1-babb-2a041ac81cb4\",\"type\":\"ColumnDataSource\"}},\"id\":\"944ff734-9a41-440e-aa43-5f09eedb3527\",\"type\":\"CDSView\"},{\"attributes\":{\"fill_color\":{\"value\":\"#1f77b4\"},\"line_color\":{\"value\":\"#1f77b4\"},\"x\":{\"field\":\"x\"},\"y\":{\"field\":\"y\"}},\"id\":\"2d68fa61-7490-44fd-944e-5b30eab45850\",\"type\":\"Circle\"},{\"attributes\":{\"fill_alpha\":{\"value\":0.1},\"fill_color\":{\"value\":\"#1f77b4\"},\"line_alpha\":{\"value\":0.1},\"line_color\":{\"value\":\"#1f77b4\"},\"x\":{\"field\":\"x\"},\"y\":{\"field\":\"y\"}},\"id\":\"f6e14075-5104-4ed5-9a1c-d11ccd8c0c1c\",\"type\":\"Circle\"},{\"attributes\":{\"fill_color\":{\"value\":\"#9467bd\"},\"line_color\":{\"value\":\"#9467bd\"},\"x\":{\"field\":\"x\"},\"y\":{\"field\":\"y\"}},\"id\":\"a5a64919-4236-4bbc-8b75-830c2dce3b07\",\"type\":\"Circle\"},{\"attributes\":{\"source\":{\"id\":\"20ecd35f-7dcc-4970-a6f9-292cac621dd9\",\"type\":\"ColumnDataSource\"}},\"id\":\"740a995d-21c0-469d-a141-fbdccbb4d3ee\",\"type\":\"CDSView\"},{\"attributes\":{\"data_source\":{\"id\":\"57542d1d-2f67-469d-b166-220e535736de\",\"type\":\"ColumnDataSource\"},\"glyph\":{\"id\":\"2d68fa61-7490-44fd-944e-5b30eab45850\",\"type\":\"Circle\"},\"hover_glyph\":null,\"muted_glyph\":null,\"nonselection_glyph\":{\"id\":\"bd2aa822-46f3-4999-b385-6d3f92025ac3\",\"type\":\"Circle\"},\"selection_glyph\":null,\"view\":{\"id\":\"7e34f226-9fc3-424a-ad87-c70eb778a80d\",\"type\":\"CDSView\"}},\"id\":\"f5e7535a-8d36-4df3-a527-f00a67b149c3\",\"type\":\"GlyphRenderer\"},{\"attributes\":{\"source\":{\"id\":\"7a7f32c4-78b7-4c1b-a3dc-025701141944\",\"type\":\"ColumnDataSource\"}},\"id\":\"1630fbac-3620-46ac-a41f-0c4056e9325b\",\"type\":\"CDSView\"},{\"attributes\":{\"data_source\":{\"id\":\"20ecd35f-7dcc-4970-a6f9-292cac621dd9\",\"type\":\"ColumnDataSource\"},\"glyph\":{\"id\":\"022d6a53-93b3-43a4-938e-81addd2e88ed\",\"type\":\"Line\"},\"hover_glyph\":null,\"muted_glyph\":null,\"nonselection_glyph\":{\"id\":\"bc398e3a-6d77-4d8b-a7a4-f5c79baf8b18\",\"type\":\"Line\"},\"selection_glyph\":null,\"view\":{\"id\":\"740a995d-21c0-469d-a141-fbdccbb4d3ee\",\"type\":\"CDSView\"}},\"id\":\"ee2221a2-fd71-483e-8c65-ae5317454177\",\"type\":\"GlyphRenderer\"},{\"attributes\":{\"callback\":null,\"column_names\":[\"x\",\"y\"],\"data\":{\"x\":[1,2,5,10,20,50,100,200,500,1000,2000,5000],\"y\":[1.4319084584712982e-06,2.3900065571069717e-06,5.2889809012413025e-06,1.3441778719425201e-05,4.3275998905301094e-05,0.00022354512475430965,0.0009551611728966236,0.005093520972877741,0.0360875460319221,0.16740669403225183,0.6574779360089451,4.291011564899236]}},\"id\":\"25dc9cc6-3651-414f-a7db-a49576f467b6\",\"type\":\"ColumnDataSource\"},{\"attributes\":{\"line_alpha\":0.1,\"line_color\":\"#1f77b4\",\"line_dash\":[6],\"x\":{\"field\":\"x\"},\"y\":{\"field\":\"y\"}},\"id\":\"bc398e3a-6d77-4d8b-a7a4-f5c79baf8b18\",\"type\":\"Line\"},{\"attributes\":{\"data_source\":{\"id\":\"7a7f32c4-78b7-4c1b-a3dc-025701141944\",\"type\":\"ColumnDataSource\"},\"glyph\":{\"id\":\"81756210-0b0f-4713-a3a7-fd64ffcf28b1\",\"type\":\"Line\"},\"hover_glyph\":null,\"muted_glyph\":null,\"nonselection_glyph\":{\"id\":\"df97bd77-13b5-4982-b331-33efbb30c2da\",\"type\":\"Line\"},\"selection_glyph\":null,\"view\":{\"id\":\"1630fbac-3620-46ac-a41f-0c4056e9325b\",\"type\":\"CDSView\"}},\"id\":\"74b700ab-41e1-4723-95b8-d43cce877b31\",\"type\":\"GlyphRenderer\"},{\"attributes\":{\"label\":{\"value\":\"only_odd\"},\"renderers\":[{\"id\":\"ee2221a2-fd71-483e-8c65-ae5317454177\",\"type\":\"GlyphRenderer\"},{\"id\":\"0da26dcb-8e10-4f84-a267-a5d78b3d2255\",\"type\":\"GlyphRenderer\"}]},\"id\":\"8e975a40-7039-4e74-9a04-0ed4c94caae1\",\"type\":\"LegendItem\"},{\"attributes\":{\"source\":{\"id\":\"57542d1d-2f67-469d-b166-220e535736de\",\"type\":\"ColumnDataSource\"}},\"id\":\"7e34f226-9fc3-424a-ad87-c70eb778a80d\",\"type\":\"CDSView\"},{\"attributes\":{\"line_color\":\"#ff7f0e\",\"line_dash\":[6],\"x\":{\"field\":\"x\"},\"y\":{\"field\":\"y\"}},\"id\":\"022d6a53-93b3-43a4-938e-81addd2e88ed\",\"type\":\"Line\"}],\"root_ids\":[\"22deff38-866c-4677-a7f7-9e5f7d2d1573\"]},\"title\":\"Bokeh Application\",\"version\":\"0.12.14\"}};\n",
       "  var render_items = [{\"docid\":\"cd8c275a-d218-42a0-8b05-a335c8014b2d\",\"elementid\":\"cc66f2c9-b4a5-4d17-855b-fbe0c2accb99\",\"modelid\":\"22deff38-866c-4677-a7f7-9e5f7d2d1573\",\"notebook_comms_target\":\"8580aa66-38fe-45ec-b661-ac9d6eb94e3b\"}];\n",
       "  root.Bokeh.embed.embed_items_notebook(docs_json, render_items);\n",
       "\n",
       "  }\n",
       "  if (root.Bokeh !== undefined) {\n",
       "    embed_document(root);\n",
       "  } else {\n",
       "    var attempts = 0;\n",
       "    var timer = setInterval(function(root) {\n",
       "      if (root.Bokeh !== undefined) {\n",
       "        embed_document(root);\n",
       "        clearInterval(timer);\n",
       "      }\n",
       "      attempts++;\n",
       "      if (attempts > 100) {\n",
       "        console.log(\"Bokeh: ERROR: Unable to run BokehJS code because BokehJS library is missing\")\n",
       "        clearInterval(timer);\n",
       "      }\n",
       "    }, 10, root)\n",
       "  }\n",
       "})(window);"
      ],
      "application/vnd.bokehjs_exec.v0+json": ""
     },
     "metadata": {
      "application/vnd.bokehjs_exec.v0+json": {
       "id": "22deff38-866c-4677-a7f7-9e5f7d2d1573"
      }
     },
     "output_type": "display_data"
    }
   ],
   "source": [
    "timing_plot(unbounded_sieve)"
   ]
  },
  {
   "cell_type": "markdown",
   "metadata": {
    "slideshow": {
     "slide_type": "slide"
    }
   },
   "source": [
    "We can make a few optimisations:\n",
    "Defaultdict so we don’t have to check if a number is present\n",
    "We skip even numbers, and therefore even multiples of primes\n",
    "When we find a prime, p, the first multiple we have to add to the state is p^2, because smaller multiples will have another factor less than p  (p*q, where q < p).\n"
   ]
  },
  {
   "cell_type": "code",
   "execution_count": 19,
   "metadata": {
    "slideshow": {
     "slide_type": "fragment"
    }
   },
   "outputs": [],
   "source": [
    "from collections import defaultdict\n",
    "from itertools import count\n",
    "\n",
    "def improved_sieve():\n",
    "    yield 2\n",
    "    state = defaultdict(list)\n",
    "    for candidate in count(3, 2):\n",
    "        if candidate in state:\n",
    "            for inc in state[candidate]:\n",
    "                state[candidate + inc].append(inc)\n",
    "            del state[candidate]\n",
    "        else:\n",
    "            yield candidate\n",
    "            state[candidate * candidate] = [2 * candidate]"
   ]
  },
  {
   "cell_type": "code",
   "execution_count": 20,
   "metadata": {
    "slideshow": {
     "slide_type": "slide"
    }
   },
   "outputs": [
    {
     "data": {
      "text/html": [
       "\n",
       "<div class=\"bk-root\">\n",
       "    <div class=\"bk-plotdiv\" id=\"09c261e0-1c9a-4354-a669-ac8018426886\"></div>\n",
       "</div>"
      ]
     },
     "metadata": {},
     "output_type": "display_data"
    },
    {
     "data": {
      "application/javascript": [
       "(function(root) {\n",
       "  function embed_document(root) {\n",
       "    \n",
       "  var docs_json = {\"4083f4b7-a342-4ef6-96c1-f99453ef99d8\":{\"roots\":{\"references\":[{\"attributes\":{\"data_source\":{\"id\":\"5ae0409b-9e4c-42a4-a905-c30fc317e29e\",\"type\":\"ColumnDataSource\"},\"glyph\":{\"id\":\"6147b345-64e3-4883-bc33-78dc71268746\",\"type\":\"Line\"},\"hover_glyph\":null,\"muted_glyph\":null,\"nonselection_glyph\":{\"id\":\"cc281339-2af1-4f59-9ec0-42f22424c9ec\",\"type\":\"Line\"},\"selection_glyph\":null,\"view\":{\"id\":\"b12a37f5-5fa9-4e98-a52a-46b0438ad989\",\"type\":\"CDSView\"}},\"id\":\"e936fdc9-83ef-4c10-8058-37ff6ae27643\",\"type\":\"GlyphRenderer\"},{\"attributes\":{\"fill_alpha\":{\"value\":0.1},\"fill_color\":{\"value\":\"#1f77b4\"},\"line_alpha\":{\"value\":0.1},\"line_color\":{\"value\":\"#1f77b4\"},\"x\":{\"field\":\"x\"},\"y\":{\"field\":\"y\"}},\"id\":\"bdf415a3-d8ee-4e4c-9608-b7ffc073fc6f\",\"type\":\"Circle\"},{\"attributes\":{\"line_color\":\"#e377c2\",\"line_dash\":[6],\"x\":{\"field\":\"x\"},\"y\":{\"field\":\"y\"}},\"id\":\"6147b345-64e3-4883-bc33-78dc71268746\",\"type\":\"Line\"},{\"attributes\":{\"fill_alpha\":{\"value\":0.1},\"fill_color\":{\"value\":\"#1f77b4\"},\"line_alpha\":{\"value\":0.1},\"line_color\":{\"value\":\"#1f77b4\"},\"x\":{\"field\":\"x\"},\"y\":{\"field\":\"y\"}},\"id\":\"8572347f-cd27-413f-8216-8d6bcff4c027\",\"type\":\"Circle\"},{\"attributes\":{\"line_alpha\":0.1,\"line_color\":\"#1f77b4\",\"line_dash\":[6],\"x\":{\"field\":\"x\"},\"y\":{\"field\":\"y\"}},\"id\":\"f22d8c4a-22e4-4260-ad05-7443c1436904\",\"type\":\"Line\"},{\"attributes\":{\"fill_color\":{\"value\":\"#7f7f7f\"},\"line_color\":{\"value\":\"#7f7f7f\"},\"x\":{\"field\":\"x\"},\"y\":{\"field\":\"y\"}},\"id\":\"70cfb7af-6680-4559-990b-cc352471a2af\",\"type\":\"Circle\"},{\"attributes\":{\"fill_color\":{\"value\":\"#9467bd\"},\"line_color\":{\"value\":\"#9467bd\"},\"x\":{\"field\":\"x\"},\"y\":{\"field\":\"y\"}},\"id\":\"8fe59ab7-e2a4-41af-a2b1-8639b58a6475\",\"type\":\"Circle\"},{\"attributes\":{\"data_source\":{\"id\":\"4190e9f4-de23-40ec-b82f-4de1b3e1d14e\",\"type\":\"ColumnDataSource\"},\"glyph\":{\"id\":\"deaae729-c608-4a4f-b067-0c7e17bc4c68\",\"type\":\"Line\"},\"hover_glyph\":null,\"muted_glyph\":null,\"nonselection_glyph\":{\"id\":\"f22d8c4a-22e4-4260-ad05-7443c1436904\",\"type\":\"Line\"},\"selection_glyph\":null,\"view\":{\"id\":\"733be9cd-b91d-4b2b-a18e-168c99218e3d\",\"type\":\"CDSView\"}},\"id\":\"e7ecf6b6-fe5e-463f-b0f3-3513a149f8ac\",\"type\":\"GlyphRenderer\"},{\"attributes\":{\"fill_alpha\":{\"value\":0.1},\"fill_color\":{\"value\":\"#1f77b4\"},\"line_alpha\":{\"value\":0.1},\"line_color\":{\"value\":\"#1f77b4\"},\"x\":{\"field\":\"x\"},\"y\":{\"field\":\"y\"}},\"id\":\"91371d73-3ca7-4f05-97dd-03e2c6d8cb43\",\"type\":\"Circle\"},{\"attributes\":{\"source\":{\"id\":\"317c1538-78e9-4932-b111-1a1bcd829879\",\"type\":\"ColumnDataSource\"}},\"id\":\"22907083-e1bf-44ba-a23b-88207fe178ad\",\"type\":\"CDSView\"},{\"attributes\":{\"data_source\":{\"id\":\"edad0bc3-9ad8-4151-8d1a-3040c462eaa0\",\"type\":\"ColumnDataSource\"},\"glyph\":{\"id\":\"70cfb7af-6680-4559-990b-cc352471a2af\",\"type\":\"Circle\"},\"hover_glyph\":null,\"muted_glyph\":null,\"nonselection_glyph\":{\"id\":\"91371d73-3ca7-4f05-97dd-03e2c6d8cb43\",\"type\":\"Circle\"},\"selection_glyph\":null,\"view\":{\"id\":\"efb060a2-3821-4591-bb52-16d1b069f4b7\",\"type\":\"CDSView\"}},\"id\":\"6bc8480d-8a74-453a-a172-35050ffaf204\",\"type\":\"GlyphRenderer\"},{\"attributes\":{\"line_color\":\"#8c564b\",\"line_dash\":[6],\"x\":{\"field\":\"x\"},\"y\":{\"field\":\"y\"}},\"id\":\"deaae729-c608-4a4f-b067-0c7e17bc4c68\",\"type\":\"Line\"},{\"attributes\":{\"background_fill_alpha\":{\"value\":0.5},\"click_policy\":\"hide\",\"items\":[{\"id\":\"eb1bfac7-6f7b-4d68-bf80-e92e55369e40\",\"type\":\"LegendItem\"},{\"id\":\"5da65d28-0479-4c0b-95f8-85e673d096fb\",\"type\":\"LegendItem\"},{\"id\":\"8fd29678-4c76-4d47-b01b-5b8c22ccd97b\",\"type\":\"LegendItem\"},{\"id\":\"cf4c8e09-3b6a-4b33-b781-51f19428a35d\",\"type\":\"LegendItem\"},{\"id\":\"638934e2-6639-46a8-902d-2ecc3283b940\",\"type\":\"LegendItem\"},{\"id\":\"ce23fce6-15f3-4d17-beb5-a309b4a3d2c5\",\"type\":\"LegendItem\"},{\"id\":\"469a5261-6bdf-4283-a771-8347e75aebad\",\"type\":\"LegendItem\"},{\"id\":\"7e1debd5-0958-4f89-b591-143d4cbfefc3\",\"type\":\"LegendItem\"}],\"location\":\"top_left\",\"plot\":{\"id\":\"61f4173c-62f3-4078-8e1f-2b031ba85a32\",\"subtype\":\"Figure\",\"type\":\"Plot\"}},\"id\":\"ef0ca806-492b-4600-99f5-426bd66fc2a7\",\"type\":\"Legend\"},{\"attributes\":{\"callback\":null,\"column_names\":[\"x\",\"y\"],\"data\":{\"x\":[1,2,5,10,20,50,100,200,500,1000,2000,5000,10000,20000,50000,100000,200000,500000],\"y\":[1.7101410776376724e-06,2.234010025858879e-06,3.5860575735569e-06,6.612855941057205e-06,1.219194382429123e-05,3.108987584710121e-05,7.33579508960247e-05,0.00016477005556225777,0.0004884249065071344,0.0011219209991395473,0.0026673900429159403,0.0077997660264372826,0.018545425962656736,0.04026325396262109,0.08585646585561335,0.23042701720260084,0.4798019640147686,1.3214226090349257]}},\"id\":\"1120d6db-3e85-473f-a677-b52d14b8142a\",\"type\":\"ColumnDataSource\"},{\"attributes\":{\"source\":{\"id\":\"edad0bc3-9ad8-4151-8d1a-3040c462eaa0\",\"type\":\"ColumnDataSource\"}},\"id\":\"efb060a2-3821-4591-bb52-16d1b069f4b7\",\"type\":\"CDSView\"},{\"attributes\":{\"fill_color\":{\"value\":\"#8c564b\"},\"line_color\":{\"value\":\"#8c564b\"},\"x\":{\"field\":\"x\"},\"y\":{\"field\":\"y\"}},\"id\":\"58f9b99d-52b3-4a9f-916b-ff803922cd2d\",\"type\":\"Circle\"},{\"attributes\":{\"format\":\"0[.]0 a\"},\"id\":\"c79d37d4-31b0-4382-88ea-e564533dab60\",\"type\":\"NumeralTickFormatter\"},{\"attributes\":{\"line_alpha\":0.1,\"line_color\":\"#1f77b4\",\"line_dash\":[6],\"x\":{\"field\":\"x\"},\"y\":{\"field\":\"y\"}},\"id\":\"cc281339-2af1-4f59-9ec0-42f22424c9ec\",\"type\":\"Line\"},{\"attributes\":{\"label\":{\"value\":\"first_try\"},\"renderers\":[{\"id\":\"aa5cbd60-5b47-4c20-bbcb-4ef0c3fecb63\",\"type\":\"GlyphRenderer\"},{\"id\":\"ff1ccf7f-f3f8-498a-8232-efb1c690c580\",\"type\":\"GlyphRenderer\"}]},\"id\":\"eb1bfac7-6f7b-4d68-bf80-e92e55369e40\",\"type\":\"LegendItem\"},{\"attributes\":{\"callback\":null,\"column_names\":[\"x\",\"y\"],\"data\":{\"x\":[1,2,5,10,20,50,100,200,500,1000,2000,5000,10000,20000,50000,100000],\"y\":[1.317821443080902e-06,1.5390105545520782e-06,4.13600355386734e-06,1.0979129001498222e-05,2.85319983959198e-05,9.939400479197502e-05,0.0003173309378325939,0.0008481529075652361,0.003156777936965227,0.007404649863019586,0.019058345817029476,0.0697223290335387,0.09744404093362391,0.21326777595095336,0.7449905530083925,1.7664531648624688]}},\"id\":\"5ae0409b-9e4c-42a4-a905-c30fc317e29e\",\"type\":\"ColumnDataSource\"},{\"attributes\":{\"data_source\":{\"id\":\"78a05d83-8c4a-46d4-a2ac-b7df8abfa14b\",\"type\":\"ColumnDataSource\"},\"glyph\":{\"id\":\"13297e0e-c54e-416f-bd86-4e7c3f5ca505\",\"type\":\"Circle\"},\"hover_glyph\":null,\"muted_glyph\":null,\"nonselection_glyph\":{\"id\":\"b61fcf22-3792-426e-aba1-fed37d2fcf83\",\"type\":\"Circle\"},\"selection_glyph\":null,\"view\":{\"id\":\"587185a5-6800-4cef-ad7e-73b645570d13\",\"type\":\"CDSView\"}},\"id\":\"bfa65338-fb88-4ec2-b98c-99878154b0d5\",\"type\":\"GlyphRenderer\"},{\"attributes\":{\"source\":{\"id\":\"1120d6db-3e85-473f-a677-b52d14b8142a\",\"type\":\"ColumnDataSource\"}},\"id\":\"4dd17238-890d-4d6c-995e-ce20400a83ab\",\"type\":\"CDSView\"},{\"attributes\":{\"source\":{\"id\":\"5ae0409b-9e4c-42a4-a905-c30fc317e29e\",\"type\":\"ColumnDataSource\"}},\"id\":\"b12a37f5-5fa9-4e98-a52a-46b0438ad989\",\"type\":\"CDSView\"},{\"attributes\":{\"data_source\":{\"id\":\"a69e9599-4ab5-4083-8255-8272492b1939\",\"type\":\"ColumnDataSource\"},\"glyph\":{\"id\":\"3e9bd53d-85b3-40af-a25d-959e36d1b7f7\",\"type\":\"Line\"},\"hover_glyph\":null,\"muted_glyph\":null,\"nonselection_glyph\":{\"id\":\"ecdf3a3e-998c-4432-b2dd-18c7a1125b81\",\"type\":\"Line\"},\"selection_glyph\":null,\"view\":{\"id\":\"6feac5ce-5962-4771-b241-3f70b7866cfa\",\"type\":\"CDSView\"}},\"id\":\"1ad9a257-bbde-4977-9b19-9c830a4fcd6b\",\"type\":\"GlyphRenderer\"},{\"attributes\":{\"label\":{\"value\":\"unbounded_sieve\"},\"renderers\":[{\"id\":\"e936fdc9-83ef-4c10-8058-37ff6ae27643\",\"type\":\"GlyphRenderer\"},{\"id\":\"9f0e0e0e-b237-47a7-830f-5fe5b463ed7b\",\"type\":\"GlyphRenderer\"}]},\"id\":\"469a5261-6bdf-4283-a771-8347e75aebad\",\"type\":\"LegendItem\"},{\"attributes\":{\"label\":{\"value\":\"improved_sieve\"},\"renderers\":[{\"id\":\"09b1018e-82fc-4f0d-8a7a-4828cc1daaf1\",\"type\":\"GlyphRenderer\"},{\"id\":\"6bc8480d-8a74-453a-a172-35050ffaf204\",\"type\":\"GlyphRenderer\"}]},\"id\":\"7e1debd5-0958-4f89-b591-143d4cbfefc3\",\"type\":\"LegendItem\"},{\"attributes\":{\"source\":{\"id\":\"e0d40ec2-06c5-4d93-adcd-6af3ee88dea5\",\"type\":\"ColumnDataSource\"}},\"id\":\"9cd64d8e-6b62-4aac-a49f-cf56f44ceb06\",\"type\":\"CDSView\"},{\"attributes\":{\"line_color\":\"#7f7f7f\",\"x\":{\"field\":\"x\"},\"y\":{\"field\":\"y\"}},\"id\":\"40f263fe-5769-4523-88d5-d7b654942e4a\",\"type\":\"Line\"},{\"attributes\":{\"callback\":null,\"column_names\":[\"x\",\"y\"],\"data\":{\"x\":[1,2,5,10,20,50,100,200,500,1000,2000,5000],\"y\":[1.4319084584712982e-06,2.3900065571069717e-06,5.2889809012413025e-06,1.3441778719425201e-05,4.3275998905301094e-05,0.00022354512475430965,0.0009551611728966236,0.005093520972877741,0.0360875460319221,0.16740669403225183,0.6574779360089451,4.291011564899236]}},\"id\":\"7af752d0-6b7d-4671-ab2b-360facb6eb99\",\"type\":\"ColumnDataSource\"},{\"attributes\":{\"data_source\":{\"id\":\"1120d6db-3e85-473f-a677-b52d14b8142a\",\"type\":\"ColumnDataSource\"},\"glyph\":{\"id\":\"58f9b99d-52b3-4a9f-916b-ff803922cd2d\",\"type\":\"Circle\"},\"hover_glyph\":null,\"muted_glyph\":null,\"nonselection_glyph\":{\"id\":\"d94b4825-571a-48f5-b9cc-db9164155919\",\"type\":\"Circle\"},\"selection_glyph\":null,\"view\":{\"id\":\"4dd17238-890d-4d6c-995e-ce20400a83ab\",\"type\":\"CDSView\"}},\"id\":\"6080d485-df02-4e66-b209-70411944cb03\",\"type\":\"GlyphRenderer\"},{\"attributes\":{\"data_source\":{\"id\":\"edad0bc3-9ad8-4151-8d1a-3040c462eaa0\",\"type\":\"ColumnDataSource\"},\"glyph\":{\"id\":\"40f263fe-5769-4523-88d5-d7b654942e4a\",\"type\":\"Line\"},\"hover_glyph\":null,\"muted_glyph\":null,\"nonselection_glyph\":{\"id\":\"d6c823e3-029d-41a8-8b53-eca329c39c06\",\"type\":\"Line\"},\"selection_glyph\":null,\"view\":{\"id\":\"ad941c3e-6209-4b8c-8274-7464d81732ef\",\"type\":\"CDSView\"}},\"id\":\"09b1018e-82fc-4f0d-8a7a-4828cc1daaf1\",\"type\":\"GlyphRenderer\"},{\"attributes\":{\"callback\":null,\"column_names\":[\"x\",\"y\"],\"data\":{\"x\":[1,2,5,10,20,50,100,200,500,1000,2000],\"y\":[3.0079390853643417e-06,2.980930730700493e-06,8.170027285814285e-06,2.24430114030838e-05,6.925896741449833e-05,0.00035684509202837944,0.0015316121280193329,0.007375265937298536,0.05917246709577739,0.27406985498964787,1.2293089928571135]}},\"id\":\"f19a9f3b-add1-49ed-bda1-76760661ca75\",\"type\":\"ColumnDataSource\"},{\"attributes\":{\"fill_color\":{\"value\":\"#ff7f0e\"},\"line_color\":{\"value\":\"#ff7f0e\"},\"x\":{\"field\":\"x\"},\"y\":{\"field\":\"y\"}},\"id\":\"13297e0e-c54e-416f-bd86-4e7c3f5ca505\",\"type\":\"Circle\"},{\"attributes\":{\"fill_alpha\":{\"value\":0.1},\"fill_color\":{\"value\":\"#1f77b4\"},\"line_alpha\":{\"value\":0.1},\"line_color\":{\"value\":\"#1f77b4\"},\"x\":{\"field\":\"x\"},\"y\":{\"field\":\"y\"}},\"id\":\"d94b4825-571a-48f5-b9cc-db9164155919\",\"type\":\"Circle\"},{\"attributes\":{\"data_source\":{\"id\":\"963ec325-31b0-4b1e-a8df-346968009f88\",\"type\":\"ColumnDataSource\"},\"glyph\":{\"id\":\"19ced818-1e92-4094-95a1-784029906d39\",\"type\":\"Circle\"},\"hover_glyph\":null,\"muted_glyph\":null,\"nonselection_glyph\":{\"id\":\"bdf415a3-d8ee-4e4c-9608-b7ffc073fc6f\",\"type\":\"Circle\"},\"selection_glyph\":null,\"view\":{\"id\":\"208d50e3-f643-4dfb-bb7d-1d80fcf85878\",\"type\":\"CDSView\"}},\"id\":\"11657a2a-2643-4569-9238-8841dec0348e\",\"type\":\"GlyphRenderer\"},{\"attributes\":{\"fill_alpha\":{\"value\":0.1},\"fill_color\":{\"value\":\"#1f77b4\"},\"line_alpha\":{\"value\":0.1},\"line_color\":{\"value\":\"#1f77b4\"},\"x\":{\"field\":\"x\"},\"y\":{\"field\":\"y\"}},\"id\":\"f00676c0-8ea7-44ac-9dae-8ecbdc9430a6\",\"type\":\"Circle\"},{\"attributes\":{\"callback\":null,\"start\":1},\"id\":\"052705cd-83b5-461a-9246-efae820361c1\",\"type\":\"DataRange1d\"},{\"attributes\":{\"line_color\":\"#ff7f0e\",\"line_dash\":[6],\"x\":{\"field\":\"x\"},\"y\":{\"field\":\"y\"}},\"id\":\"37ab571f-9175-4f95-a256-c2c061b90a3b\",\"type\":\"Line\"},{\"attributes\":{\"line_alpha\":0.1,\"line_color\":\"#1f77b4\",\"line_dash\":[6],\"x\":{\"field\":\"x\"},\"y\":{\"field\":\"y\"}},\"id\":\"99f6217a-dbc9-432f-8258-e9bacd25fec6\",\"type\":\"Line\"},{\"attributes\":{\"line_alpha\":0.1,\"line_color\":\"#1f77b4\",\"line_dash\":[6],\"x\":{\"field\":\"x\"},\"y\":{\"field\":\"y\"}},\"id\":\"51af6aba-6318-4572-b7e4-cc74e6b5bfb2\",\"type\":\"Line\"},{\"attributes\":{\"below\":[{\"id\":\"92124226-2404-4607-8120-6e76672fcca4\",\"type\":\"LogAxis\"}],\"left\":[{\"id\":\"b3f3c8f3-51ca-4aa0-8fd9-15d367e0c9ce\",\"type\":\"LogAxis\"}],\"plot_height\":400,\"plot_width\":800,\"renderers\":[{\"id\":\"92124226-2404-4607-8120-6e76672fcca4\",\"type\":\"LogAxis\"},{\"id\":\"033dfd0f-907a-46c2-a4c2-6e4616bbbdcb\",\"type\":\"Grid\"},{\"id\":\"b3f3c8f3-51ca-4aa0-8fd9-15d367e0c9ce\",\"type\":\"LogAxis\"},{\"id\":\"ae25771a-00dc-4b3f-9e99-7183ad1f5900\",\"type\":\"Grid\"},{\"id\":\"fc30ea0e-9d4f-4948-bcf4-5676993cc936\",\"type\":\"BoxAnnotation\"},{\"id\":\"ef0ca806-492b-4600-99f5-426bd66fc2a7\",\"type\":\"Legend\"},{\"id\":\"aa5cbd60-5b47-4c20-bbcb-4ef0c3fecb63\",\"type\":\"GlyphRenderer\"},{\"id\":\"ff1ccf7f-f3f8-498a-8232-efb1c690c580\",\"type\":\"GlyphRenderer\"},{\"id\":\"3c3d41bb-a216-4c6d-a3e6-2340eec2b067\",\"type\":\"GlyphRenderer\"},{\"id\":\"bfa65338-fb88-4ec2-b98c-99878154b0d5\",\"type\":\"GlyphRenderer\"},{\"id\":\"43fc10d0-fdb8-4f8d-a12a-8d03362c8fd3\",\"type\":\"GlyphRenderer\"},{\"id\":\"11657a2a-2643-4569-9238-8841dec0348e\",\"type\":\"GlyphRenderer\"},{\"id\":\"d78a5a15-cad0-4e23-80b4-29acfd0d6d2c\",\"type\":\"GlyphRenderer\"},{\"id\":\"fe6b2ad1-788b-4f3f-8da0-831fb33373a1\",\"type\":\"GlyphRenderer\"},{\"id\":\"1ad9a257-bbde-4977-9b19-9c830a4fcd6b\",\"type\":\"GlyphRenderer\"},{\"id\":\"e29660f9-d6b0-4785-a938-5c36c2eb615f\",\"type\":\"GlyphRenderer\"},{\"id\":\"e7ecf6b6-fe5e-463f-b0f3-3513a149f8ac\",\"type\":\"GlyphRenderer\"},{\"id\":\"6080d485-df02-4e66-b209-70411944cb03\",\"type\":\"GlyphRenderer\"},{\"id\":\"e936fdc9-83ef-4c10-8058-37ff6ae27643\",\"type\":\"GlyphRenderer\"},{\"id\":\"9f0e0e0e-b237-47a7-830f-5fe5b463ed7b\",\"type\":\"GlyphRenderer\"},{\"id\":\"09b1018e-82fc-4f0d-8a7a-4828cc1daaf1\",\"type\":\"GlyphRenderer\"},{\"id\":\"6bc8480d-8a74-453a-a172-35050ffaf204\",\"type\":\"GlyphRenderer\"}],\"title\":{\"id\":\"1de8c841-9644-449e-a1da-796241a2a758\",\"type\":\"Title\"},\"toolbar\":{\"id\":\"1d613601-a31a-4163-a5fa-aec16e6633be\",\"type\":\"Toolbar\"},\"toolbar_location\":\"above\",\"x_range\":{\"id\":\"052705cd-83b5-461a-9246-efae820361c1\",\"type\":\"DataRange1d\"},\"x_scale\":{\"id\":\"eba98789-e2d4-4ae5-a311-c6001d044be2\",\"type\":\"LogScale\"},\"y_range\":{\"id\":\"3c04a447-cff1-442d-9865-71d7bc3c5674\",\"type\":\"Range1d\"},\"y_scale\":{\"id\":\"950ac664-58dd-4fdf-92ee-0fdcbf1f64eb\",\"type\":\"LogScale\"}},\"id\":\"61f4173c-62f3-4078-8e1f-2b031ba85a32\",\"subtype\":\"Figure\",\"type\":\"Plot\"},{\"attributes\":{\"plot\":null,\"text\":\"Timing\"},\"id\":\"1de8c841-9644-449e-a1da-796241a2a758\",\"type\":\"Title\"},{\"attributes\":{\"source\":{\"id\":\"7af752d0-6b7d-4671-ab2b-360facb6eb99\",\"type\":\"ColumnDataSource\"}},\"id\":\"b2e22112-02c2-48e1-a285-5e42971913ef\",\"type\":\"CDSView\"},{\"attributes\":{\"callback\":null,\"start\":1e-06},\"id\":\"3c04a447-cff1-442d-9865-71d7bc3c5674\",\"type\":\"Range1d\"},{\"attributes\":{\"callback\":null,\"column_names\":[\"x\",\"y\"],\"data\":{\"x\":[1,2,5,10,20,50,100,200,500,1000,2000,5000,10000,20000,50000],\"y\":[1.3171229511499405e-06,2.8780195862054825e-06,6.7069195210933685e-06,1.4960067346692085e-05,5.4510077461600304e-05,0.00012037507258355618,0.0003023201134055853,0.0007400668691843748,0.002520353067666292,0.00632662489078939,0.01610450493171811,0.05177717702463269,0.1080278200097382,0.29799197404645383,1.25529725686647]}},\"id\":\"85320f35-c9b6-42dc-aa27-0209eda0e153\",\"type\":\"ColumnDataSource\"},{\"attributes\":{\"active_drag\":\"auto\",\"active_inspect\":\"auto\",\"active_scroll\":\"auto\",\"active_tap\":\"auto\",\"tools\":[{\"id\":\"3ee0dc1b-72c2-4df9-a32f-16659424f5b3\",\"type\":\"PanTool\"},{\"id\":\"b665020e-21c3-4c10-9111-1dfac7c388b8\",\"type\":\"WheelZoomTool\"},{\"id\":\"44b5c90f-234a-418e-90aa-471f86c6d755\",\"type\":\"BoxZoomTool\"},{\"id\":\"dd679a97-e0eb-40c9-a6e8-b23402e2fa92\",\"type\":\"SaveTool\"},{\"id\":\"c4bc274c-c7f8-4822-be4a-a869bd6e8380\",\"type\":\"ResetTool\"},{\"id\":\"facf20c8-2064-42ef-9b38-feb7f22b1c58\",\"type\":\"HelpTool\"}]},\"id\":\"1d613601-a31a-4163-a5fa-aec16e6633be\",\"type\":\"Toolbar\"},{\"attributes\":{\"num_minor_ticks\":10},\"id\":\"c4ef0b0e-75ba-4ca0-87ee-174cdd75ce46\",\"type\":\"LogTicker\"},{\"attributes\":{\"callback\":null,\"column_names\":[\"x\",\"y\"],\"data\":{\"x\":[1,2,5,10,20,50,100,200,500,1000,2000,5000],\"y\":[1.4319084584712982e-06,2.3900065571069717e-06,5.2889809012413025e-06,1.3441778719425201e-05,4.3275998905301094e-05,0.00022354512475430965,0.0009551611728966236,0.005093520972877741,0.0360875460319221,0.16740669403225183,0.6574779360089451,4.291011564899236]}},\"id\":\"78a05d83-8c4a-46d4-a2ac-b7df8abfa14b\",\"type\":\"ColumnDataSource\"},{\"attributes\":{\"data_source\":{\"id\":\"7af752d0-6b7d-4671-ab2b-360facb6eb99\",\"type\":\"ColumnDataSource\"},\"glyph\":{\"id\":\"37ab571f-9175-4f95-a256-c2c061b90a3b\",\"type\":\"Line\"},\"hover_glyph\":null,\"muted_glyph\":null,\"nonselection_glyph\":{\"id\":\"51af6aba-6318-4572-b7e4-cc74e6b5bfb2\",\"type\":\"Line\"},\"selection_glyph\":null,\"view\":{\"id\":\"b2e22112-02c2-48e1-a285-5e42971913ef\",\"type\":\"CDSView\"}},\"id\":\"3c3d41bb-a216-4c6d-a3e6-2340eec2b067\",\"type\":\"GlyphRenderer\"},{\"attributes\":{\"source\":{\"id\":\"4190e9f4-de23-40ec-b82f-4de1b3e1d14e\",\"type\":\"ColumnDataSource\"}},\"id\":\"733be9cd-b91d-4b2b-a18e-168c99218e3d\",\"type\":\"CDSView\"},{\"attributes\":{\"source\":{\"id\":\"f19a9f3b-add1-49ed-bda1-76760661ca75\",\"type\":\"ColumnDataSource\"}},\"id\":\"5b961d12-a706-40c0-90e1-fb9d16f1e8d0\",\"type\":\"CDSView\"},{\"attributes\":{\"num_minor_ticks\":10},\"id\":\"e628057a-374e-43bb-83bd-f6b3c5e2aa7c\",\"type\":\"LogTicker\"},{\"attributes\":{\"plot\":{\"id\":\"61f4173c-62f3-4078-8e1f-2b031ba85a32\",\"subtype\":\"Figure\",\"type\":\"Plot\"},\"ticker\":{\"id\":\"c4ef0b0e-75ba-4ca0-87ee-174cdd75ce46\",\"type\":\"LogTicker\"}},\"id\":\"033dfd0f-907a-46c2-a4c2-6e4616bbbdcb\",\"type\":\"Grid\"},{\"attributes\":{\"source\":{\"id\":\"a69e9599-4ab5-4083-8255-8272492b1939\",\"type\":\"ColumnDataSource\"}},\"id\":\"6feac5ce-5962-4771-b241-3f70b7866cfa\",\"type\":\"CDSView\"},{\"attributes\":{},\"id\":\"eba98789-e2d4-4ae5-a311-c6001d044be2\",\"type\":\"LogScale\"},{\"attributes\":{\"label\":{\"value\":\"to_sqrt\"},\"renderers\":[{\"id\":\"43fc10d0-fdb8-4f8d-a12a-8d03362c8fd3\",\"type\":\"GlyphRenderer\"},{\"id\":\"11657a2a-2643-4569-9238-8841dec0348e\",\"type\":\"GlyphRenderer\"}]},\"id\":\"8fd29678-4c76-4d47-b01b-5b8c22ccd97b\",\"type\":\"LegendItem\"},{\"attributes\":{\"axis_label\":\"Primes\",\"formatter\":{\"id\":\"c79d37d4-31b0-4382-88ea-e564533dab60\",\"type\":\"NumeralTickFormatter\"},\"plot\":{\"id\":\"61f4173c-62f3-4078-8e1f-2b031ba85a32\",\"subtype\":\"Figure\",\"type\":\"Plot\"},\"ticker\":{\"id\":\"c4ef0b0e-75ba-4ca0-87ee-174cdd75ce46\",\"type\":\"LogTicker\"}},\"id\":\"92124226-2404-4607-8120-6e76672fcca4\",\"type\":\"LogAxis\"},{\"attributes\":{\"label\":{\"value\":\"check_primes\"},\"renderers\":[{\"id\":\"d78a5a15-cad0-4e23-80b4-29acfd0d6d2c\",\"type\":\"GlyphRenderer\"},{\"id\":\"fe6b2ad1-788b-4f3f-8da0-831fb33373a1\",\"type\":\"GlyphRenderer\"}]},\"id\":\"cf4c8e09-3b6a-4b33-b781-51f19428a35d\",\"type\":\"LegendItem\"},{\"attributes\":{},\"id\":\"950ac664-58dd-4fdf-92ee-0fdcbf1f64eb\",\"type\":\"LogScale\"},{\"attributes\":{\"line_alpha\":0.1,\"line_color\":\"#1f77b4\",\"line_dash\":[6],\"x\":{\"field\":\"x\"},\"y\":{\"field\":\"y\"}},\"id\":\"985e3d6e-bd4c-42dc-ad9d-d8542ff8924d\",\"type\":\"Line\"},{\"attributes\":{\"axis_label\":\"Seconds\",\"formatter\":{\"id\":\"078e52d8-8839-4a01-98ff-86b060cc1073\",\"type\":\"LogTickFormatter\"},\"plot\":{\"id\":\"61f4173c-62f3-4078-8e1f-2b031ba85a32\",\"subtype\":\"Figure\",\"type\":\"Plot\"},\"ticker\":{\"id\":\"e628057a-374e-43bb-83bd-f6b3c5e2aa7c\",\"type\":\"LogTicker\"}},\"id\":\"b3f3c8f3-51ca-4aa0-8fd9-15d367e0c9ce\",\"type\":\"LogAxis\"},{\"attributes\":{\"callback\":null,\"column_names\":[\"x\",\"y\"],\"data\":{\"x\":[1,2,5,10,20,50,100,200,500,1000,2000,5000,10000],\"y\":[1.0139774531126022e-06,1.3730023056268692e-06,2.58604995906353e-06,5.44707290828228e-06,1.5757977962493896e-05,7.756706327199936e-05,0.00028013112023472786,0.001088918186724186,0.00725925387814641,0.031019693007692695,0.13349225302226841,0.7455389390233904,3.107478972990066]}},\"id\":\"317c1538-78e9-4932-b111-1a1bcd829879\",\"type\":\"ColumnDataSource\"},{\"attributes\":{\"dimension\":1,\"plot\":{\"id\":\"61f4173c-62f3-4078-8e1f-2b031ba85a32\",\"subtype\":\"Figure\",\"type\":\"Plot\"},\"ticker\":{\"id\":\"e628057a-374e-43bb-83bd-f6b3c5e2aa7c\",\"type\":\"LogTicker\"}},\"id\":\"ae25771a-00dc-4b3f-9e99-7183ad1f5900\",\"type\":\"Grid\"},{\"attributes\":{\"line_alpha\":0.1,\"line_color\":\"#1f77b4\",\"line_dash\":[6],\"x\":{\"field\":\"x\"},\"y\":{\"field\":\"y\"}},\"id\":\"1717cc8c-9fa1-441a-9b93-8c63966b84a8\",\"type\":\"Line\"},{\"attributes\":{\"line_color\":\"#1f77b4\",\"line_dash\":[6],\"x\":{\"field\":\"x\"},\"y\":{\"field\":\"y\"}},\"id\":\"c6e76345-ca94-4f3e-85e4-8fdc96109a2b\",\"type\":\"Line\"},{\"attributes\":{\"label\":{\"value\":\"check_primes_sqrt\"},\"renderers\":[{\"id\":\"1ad9a257-bbde-4977-9b19-9c830a4fcd6b\",\"type\":\"GlyphRenderer\"},{\"id\":\"e29660f9-d6b0-4785-a938-5c36c2eb615f\",\"type\":\"GlyphRenderer\"}]},\"id\":\"638934e2-6639-46a8-902d-2ecc3283b940\",\"type\":\"LegendItem\"},{\"attributes\":{\"label\":{\"value\":\"sieve\"},\"renderers\":[{\"id\":\"e7ecf6b6-fe5e-463f-b0f3-3513a149f8ac\",\"type\":\"GlyphRenderer\"},{\"id\":\"6080d485-df02-4e66-b209-70411944cb03\",\"type\":\"GlyphRenderer\"}]},\"id\":\"ce23fce6-15f3-4d17-beb5-a309b4a3d2c5\",\"type\":\"LegendItem\"},{\"attributes\":{\"callback\":null,\"column_names\":[\"x\",\"y\"],\"data\":{\"x\":[1,2,5,10,20,50,100,200,500,1000,2000],\"y\":[3.0079390853643417e-06,2.980930730700493e-06,8.170027285814285e-06,2.24430114030838e-05,6.925896741449833e-05,0.00035684509202837944,0.0015316121280193329,0.007375265937298536,0.05917246709577739,0.27406985498964787,1.2293089928571135]}},\"id\":\"c91922be-dca9-412d-a470-5668e355eaf8\",\"type\":\"ColumnDataSource\"},{\"attributes\":{\"bottom_units\":\"screen\",\"fill_alpha\":{\"value\":0.5},\"fill_color\":{\"value\":\"lightgrey\"},\"left_units\":\"screen\",\"level\":\"overlay\",\"line_alpha\":{\"value\":1.0},\"line_color\":{\"value\":\"black\"},\"line_dash\":[4,4],\"line_width\":{\"value\":2},\"plot\":null,\"render_mode\":\"css\",\"right_units\":\"screen\",\"top_units\":\"screen\"},\"id\":\"fc30ea0e-9d4f-4948-bcf4-5676993cc936\",\"type\":\"BoxAnnotation\"},{\"attributes\":{\"fill_color\":{\"value\":\"#2ca02c\"},\"line_color\":{\"value\":\"#2ca02c\"},\"x\":{\"field\":\"x\"},\"y\":{\"field\":\"y\"}},\"id\":\"19ced818-1e92-4094-95a1-784029906d39\",\"type\":\"Circle\"},{\"attributes\":{},\"id\":\"3ee0dc1b-72c2-4df9-a32f-16659424f5b3\",\"type\":\"PanTool\"},{\"attributes\":{\"source\":{\"id\":\"85320f35-c9b6-42dc-aa27-0209eda0e153\",\"type\":\"ColumnDataSource\"}},\"id\":\"cf5bec93-1e1e-4332-b66a-a2a7eeff471f\",\"type\":\"CDSView\"},{\"attributes\":{\"data_source\":{\"id\":\"c91922be-dca9-412d-a470-5668e355eaf8\",\"type\":\"ColumnDataSource\"},\"glyph\":{\"id\":\"c6e76345-ca94-4f3e-85e4-8fdc96109a2b\",\"type\":\"Line\"},\"hover_glyph\":null,\"muted_glyph\":null,\"nonselection_glyph\":{\"id\":\"99f6217a-dbc9-432f-8258-e9bacd25fec6\",\"type\":\"Line\"},\"selection_glyph\":null,\"view\":{\"id\":\"ade42d34-3280-4151-b1a0-3eb5d1c13c2a\",\"type\":\"CDSView\"}},\"id\":\"aa5cbd60-5b47-4c20-bbcb-4ef0c3fecb63\",\"type\":\"GlyphRenderer\"},{\"attributes\":{\"source\":{\"id\":\"edad0bc3-9ad8-4151-8d1a-3040c462eaa0\",\"type\":\"ColumnDataSource\"}},\"id\":\"ad941c3e-6209-4b8c-8274-7464d81732ef\",\"type\":\"CDSView\"},{\"attributes\":{},\"id\":\"b665020e-21c3-4c10-9111-1dfac7c388b8\",\"type\":\"WheelZoomTool\"},{\"attributes\":{\"data_source\":{\"id\":\"f19a9f3b-add1-49ed-bda1-76760661ca75\",\"type\":\"ColumnDataSource\"},\"glyph\":{\"id\":\"1fee4888-d28e-4153-967f-44985db8427f\",\"type\":\"Circle\"},\"hover_glyph\":null,\"muted_glyph\":null,\"nonselection_glyph\":{\"id\":\"f00676c0-8ea7-44ac-9dae-8ecbdc9430a6\",\"type\":\"Circle\"},\"selection_glyph\":null,\"view\":{\"id\":\"5b961d12-a706-40c0-90e1-fb9d16f1e8d0\",\"type\":\"CDSView\"}},\"id\":\"ff1ccf7f-f3f8-498a-8232-efb1c690c580\",\"type\":\"GlyphRenderer\"},{\"attributes\":{\"line_alpha\":0.1,\"line_color\":\"#1f77b4\",\"line_dash\":[6],\"x\":{\"field\":\"x\"},\"y\":{\"field\":\"y\"}},\"id\":\"ecdf3a3e-998c-4432-b2dd-18c7a1125b81\",\"type\":\"Line\"},{\"attributes\":{\"fill_alpha\":{\"value\":0.1},\"fill_color\":{\"value\":\"#1f77b4\"},\"line_alpha\":{\"value\":0.1},\"line_color\":{\"value\":\"#1f77b4\"},\"x\":{\"field\":\"x\"},\"y\":{\"field\":\"y\"}},\"id\":\"7d1769af-9d4c-4e63-a053-cae66d789f3a\",\"type\":\"Circle\"},{\"attributes\":{\"overlay\":{\"id\":\"fc30ea0e-9d4f-4948-bcf4-5676993cc936\",\"type\":\"BoxAnnotation\"}},\"id\":\"44b5c90f-234a-418e-90aa-471f86c6d755\",\"type\":\"BoxZoomTool\"},{\"attributes\":{\"callback\":null,\"column_names\":[\"x\",\"y\"],\"data\":{\"x\":[1,2,5,10,20,50,100,200,500,1000,2000,5000,10000,20000,50000],\"y\":[1.3171229511499405e-06,2.8780195862054825e-06,6.7069195210933685e-06,1.4960067346692085e-05,5.4510077461600304e-05,0.00012037507258355618,0.0003023201134055853,0.0007400668691843748,0.002520353067666292,0.00632662489078939,0.01610450493171811,0.05177717702463269,0.1080278200097382,0.29799197404645383,1.25529725686647]}},\"id\":\"963ec325-31b0-4b1e-a8df-346968009f88\",\"type\":\"ColumnDataSource\"},{\"attributes\":{},\"id\":\"dd679a97-e0eb-40c9-a6e8-b23402e2fa92\",\"type\":\"SaveTool\"},{\"attributes\":{\"data_source\":{\"id\":\"85320f35-c9b6-42dc-aa27-0209eda0e153\",\"type\":\"ColumnDataSource\"},\"glyph\":{\"id\":\"db276e82-daf9-4bf2-9d8f-3857e106ce60\",\"type\":\"Line\"},\"hover_glyph\":null,\"muted_glyph\":null,\"nonselection_glyph\":{\"id\":\"1717cc8c-9fa1-441a-9b93-8c63966b84a8\",\"type\":\"Line\"},\"selection_glyph\":null,\"view\":{\"id\":\"cf5bec93-1e1e-4332-b66a-a2a7eeff471f\",\"type\":\"CDSView\"}},\"id\":\"43fc10d0-fdb8-4f8d-a12a-8d03362c8fd3\",\"type\":\"GlyphRenderer\"},{\"attributes\":{},\"id\":\"c4bc274c-c7f8-4822-be4a-a869bd6e8380\",\"type\":\"ResetTool\"},{\"attributes\":{\"data_source\":{\"id\":\"50d3d2ae-b83b-4959-8ac3-07cdaa1cde43\",\"type\":\"ColumnDataSource\"},\"glyph\":{\"id\":\"8fe59ab7-e2a4-41af-a2b1-8639b58a6475\",\"type\":\"Circle\"},\"hover_glyph\":null,\"muted_glyph\":null,\"nonselection_glyph\":{\"id\":\"8572347f-cd27-413f-8216-8d6bcff4c027\",\"type\":\"Circle\"},\"selection_glyph\":null,\"view\":{\"id\":\"311f4261-32f7-435c-84d8-50c2695e0fbd\",\"type\":\"CDSView\"}},\"id\":\"e29660f9-d6b0-4785-a938-5c36c2eb615f\",\"type\":\"GlyphRenderer\"},{\"attributes\":{},\"id\":\"facf20c8-2064-42ef-9b38-feb7f22b1c58\",\"type\":\"HelpTool\"},{\"attributes\":{\"fill_alpha\":{\"value\":0.1},\"fill_color\":{\"value\":\"#1f77b4\"},\"line_alpha\":{\"value\":0.1},\"line_color\":{\"value\":\"#1f77b4\"},\"x\":{\"field\":\"x\"},\"y\":{\"field\":\"y\"}},\"id\":\"b61fcf22-3792-426e-aba1-fed37d2fcf83\",\"type\":\"Circle\"},{\"attributes\":{\"callback\":null,\"column_names\":[\"x\",\"y\"],\"data\":{\"x\":[1,2,5,10,20,50,100,200,500,1000,2000,5000,10000],\"y\":[1.0139774531126022e-06,1.3730023056268692e-06,2.58604995906353e-06,5.44707290828228e-06,1.5757977962493896e-05,7.756706327199936e-05,0.00028013112023472786,0.001088918186724186,0.00725925387814641,0.031019693007692695,0.13349225302226841,0.7455389390233904,3.107478972990066]}},\"id\":\"e0d40ec2-06c5-4d93-adcd-6af3ee88dea5\",\"type\":\"ColumnDataSource\"},{\"attributes\":{\"source\":{\"id\":\"c91922be-dca9-412d-a470-5668e355eaf8\",\"type\":\"ColumnDataSource\"}},\"id\":\"ade42d34-3280-4151-b1a0-3eb5d1c13c2a\",\"type\":\"CDSView\"},{\"attributes\":{\"callback\":null,\"column_names\":[\"x\",\"y\"],\"data\":{\"x\":[1,2,5,10,20,50,100,200,500,1000,2000,5000,10000,20000,50000,100000],\"y\":[1.2891832739114761e-06,1.8130522221326828e-06,3.261025995016098e-06,6.554881110787392e-06,1.7058104276657104e-05,5.391007289290428e-05,0.00014810916036367416,0.0004937269259244204,0.001433278899639845,0.003815744072198868,0.010338949039578438,0.03980604512616992,0.10124637698754668,0.20987048209644854,0.7688391590490937,2.1385415359400213]}},\"id\":\"50d3d2ae-b83b-4959-8ac3-07cdaa1cde43\",\"type\":\"ColumnDataSource\"},{\"attributes\":{\"ticker\":null},\"id\":\"078e52d8-8839-4a01-98ff-86b060cc1073\",\"type\":\"LogTickFormatter\"},{\"attributes\":{\"callback\":null,\"column_names\":[\"x\",\"y\"],\"data\":{\"x\":[1,2,5,10,20,50,100,200,500,1000,2000,5000,10000,20000,50000,100000],\"y\":[1.2891832739114761e-06,1.8130522221326828e-06,3.261025995016098e-06,6.554881110787392e-06,1.7058104276657104e-05,5.391007289290428e-05,0.00014810916036367416,0.0004937269259244204,0.001433278899639845,0.003815744072198868,0.010338949039578438,0.03980604512616992,0.10124637698754668,0.20987048209644854,0.7688391590490937,2.1385415359400213]}},\"id\":\"a69e9599-4ab5-4083-8255-8272492b1939\",\"type\":\"ColumnDataSource\"},{\"attributes\":{\"callback\":null,\"column_names\":[\"x\",\"y\"],\"data\":{\"x\":[1,2,5,10,20,50,100,200,500,1000,2000,5000,10000,20000,50000,100000,200000,500000],\"y\":[1.7101410776376724e-06,2.234010025858879e-06,3.5860575735569e-06,6.612855941057205e-06,1.219194382429123e-05,3.108987584710121e-05,7.33579508960247e-05,0.00016477005556225777,0.0004884249065071344,0.0011219209991395473,0.0026673900429159403,0.0077997660264372826,0.018545425962656736,0.04026325396262109,0.08585646585561335,0.23042701720260084,0.4798019640147686,1.3214226090349257]}},\"id\":\"4190e9f4-de23-40ec-b82f-4de1b3e1d14e\",\"type\":\"ColumnDataSource\"},{\"attributes\":{\"fill_color\":{\"value\":\"#1f77b4\"},\"line_color\":{\"value\":\"#1f77b4\"},\"x\":{\"field\":\"x\"},\"y\":{\"field\":\"y\"}},\"id\":\"1fee4888-d28e-4153-967f-44985db8427f\",\"type\":\"Circle\"},{\"attributes\":{\"line_color\":\"#d62728\",\"line_dash\":[6],\"x\":{\"field\":\"x\"},\"y\":{\"field\":\"y\"}},\"id\":\"9a28aff2-2b9a-4b7a-a69e-657f92fa89a6\",\"type\":\"Line\"},{\"attributes\":{\"callback\":null,\"column_names\":[\"x\",\"y\"],\"data\":{\"x\":[1,2,5,10,20,50,100,200,500,1000,2000,5000,10000,20000,50000,100000],\"y\":[1.317821443080902e-06,1.5390105545520782e-06,4.13600355386734e-06,1.0979129001498222e-05,2.85319983959198e-05,9.939400479197502e-05,0.0003173309378325939,0.0008481529075652361,0.003156777936965227,0.007404649863019586,0.019058345817029476,0.0697223290335387,0.09744404093362391,0.21326777595095336,0.7449905530083925,1.7664531648624688]}},\"id\":\"1d0ccc7c-299f-4e4e-95a2-c16202d0d7bc\",\"type\":\"ColumnDataSource\"},{\"attributes\":{\"data_source\":{\"id\":\"317c1538-78e9-4932-b111-1a1bcd829879\",\"type\":\"ColumnDataSource\"},\"glyph\":{\"id\":\"1cb4036d-e56b-44d9-9971-82539b993e97\",\"type\":\"Circle\"},\"hover_glyph\":null,\"muted_glyph\":null,\"nonselection_glyph\":{\"id\":\"7d1769af-9d4c-4e63-a053-cae66d789f3a\",\"type\":\"Circle\"},\"selection_glyph\":null,\"view\":{\"id\":\"22907083-e1bf-44ba-a23b-88207fe178ad\",\"type\":\"CDSView\"}},\"id\":\"fe6b2ad1-788b-4f3f-8da0-831fb33373a1\",\"type\":\"GlyphRenderer\"},{\"attributes\":{\"line_color\":\"#2ca02c\",\"line_dash\":[6],\"x\":{\"field\":\"x\"},\"y\":{\"field\":\"y\"}},\"id\":\"db276e82-daf9-4bf2-9d8f-3857e106ce60\",\"type\":\"Line\"},{\"attributes\":{\"line_alpha\":0.1,\"line_color\":\"#1f77b4\",\"x\":{\"field\":\"x\"},\"y\":{\"field\":\"y\"}},\"id\":\"d6c823e3-029d-41a8-8b53-eca329c39c06\",\"type\":\"Line\"},{\"attributes\":{\"fill_color\":{\"value\":\"#d62728\"},\"line_color\":{\"value\":\"#d62728\"},\"x\":{\"field\":\"x\"},\"y\":{\"field\":\"y\"}},\"id\":\"1cb4036d-e56b-44d9-9971-82539b993e97\",\"type\":\"Circle\"},{\"attributes\":{\"callback\":null,\"column_names\":[\"x\",\"y\"],\"data\":{\"x\":[],\"y\":[]}},\"id\":\"edad0bc3-9ad8-4151-8d1a-3040c462eaa0\",\"type\":\"ColumnDataSource\"},{\"attributes\":{\"line_color\":\"#9467bd\",\"line_dash\":[6],\"x\":{\"field\":\"x\"},\"y\":{\"field\":\"y\"}},\"id\":\"3e9bd53d-85b3-40af-a25d-959e36d1b7f7\",\"type\":\"Line\"},{\"attributes\":{\"label\":{\"value\":\"only_odd\"},\"renderers\":[{\"id\":\"3c3d41bb-a216-4c6d-a3e6-2340eec2b067\",\"type\":\"GlyphRenderer\"},{\"id\":\"bfa65338-fb88-4ec2-b98c-99878154b0d5\",\"type\":\"GlyphRenderer\"}]},\"id\":\"5da65d28-0479-4c0b-95f8-85e673d096fb\",\"type\":\"LegendItem\"},{\"attributes\":{\"source\":{\"id\":\"50d3d2ae-b83b-4959-8ac3-07cdaa1cde43\",\"type\":\"ColumnDataSource\"}},\"id\":\"311f4261-32f7-435c-84d8-50c2695e0fbd\",\"type\":\"CDSView\"},{\"attributes\":{\"data_source\":{\"id\":\"e0d40ec2-06c5-4d93-adcd-6af3ee88dea5\",\"type\":\"ColumnDataSource\"},\"glyph\":{\"id\":\"9a28aff2-2b9a-4b7a-a69e-657f92fa89a6\",\"type\":\"Line\"},\"hover_glyph\":null,\"muted_glyph\":null,\"nonselection_glyph\":{\"id\":\"985e3d6e-bd4c-42dc-ad9d-d8542ff8924d\",\"type\":\"Line\"},\"selection_glyph\":null,\"view\":{\"id\":\"9cd64d8e-6b62-4aac-a49f-cf56f44ceb06\",\"type\":\"CDSView\"}},\"id\":\"d78a5a15-cad0-4e23-80b4-29acfd0d6d2c\",\"type\":\"GlyphRenderer\"},{\"attributes\":{\"source\":{\"id\":\"1d0ccc7c-299f-4e4e-95a2-c16202d0d7bc\",\"type\":\"ColumnDataSource\"}},\"id\":\"45c87a00-d3dc-44d2-ae6a-7667da3d3802\",\"type\":\"CDSView\"},{\"attributes\":{\"source\":{\"id\":\"963ec325-31b0-4b1e-a8df-346968009f88\",\"type\":\"ColumnDataSource\"}},\"id\":\"208d50e3-f643-4dfb-bb7d-1d80fcf85878\",\"type\":\"CDSView\"},{\"attributes\":{\"fill_alpha\":{\"value\":0.1},\"fill_color\":{\"value\":\"#1f77b4\"},\"line_alpha\":{\"value\":0.1},\"line_color\":{\"value\":\"#1f77b4\"},\"x\":{\"field\":\"x\"},\"y\":{\"field\":\"y\"}},\"id\":\"0fe51b2c-b2ab-4c78-a669-89e4e6dcbbaf\",\"type\":\"Circle\"},{\"attributes\":{\"source\":{\"id\":\"78a05d83-8c4a-46d4-a2ac-b7df8abfa14b\",\"type\":\"ColumnDataSource\"}},\"id\":\"587185a5-6800-4cef-ad7e-73b645570d13\",\"type\":\"CDSView\"},{\"attributes\":{\"fill_color\":{\"value\":\"#e377c2\"},\"line_color\":{\"value\":\"#e377c2\"},\"x\":{\"field\":\"x\"},\"y\":{\"field\":\"y\"}},\"id\":\"db8ad21f-2ca2-4449-a4fd-b20dc409f569\",\"type\":\"Circle\"},{\"attributes\":{\"data_source\":{\"id\":\"1d0ccc7c-299f-4e4e-95a2-c16202d0d7bc\",\"type\":\"ColumnDataSource\"},\"glyph\":{\"id\":\"db8ad21f-2ca2-4449-a4fd-b20dc409f569\",\"type\":\"Circle\"},\"hover_glyph\":null,\"muted_glyph\":null,\"nonselection_glyph\":{\"id\":\"0fe51b2c-b2ab-4c78-a669-89e4e6dcbbaf\",\"type\":\"Circle\"},\"selection_glyph\":null,\"view\":{\"id\":\"45c87a00-d3dc-44d2-ae6a-7667da3d3802\",\"type\":\"CDSView\"}},\"id\":\"9f0e0e0e-b237-47a7-830f-5fe5b463ed7b\",\"type\":\"GlyphRenderer\"}],\"root_ids\":[\"61f4173c-62f3-4078-8e1f-2b031ba85a32\"]},\"title\":\"Bokeh Application\",\"version\":\"0.12.14\"}};\n",
       "  var render_items = [{\"docid\":\"4083f4b7-a342-4ef6-96c1-f99453ef99d8\",\"elementid\":\"09c261e0-1c9a-4354-a669-ac8018426886\",\"modelid\":\"61f4173c-62f3-4078-8e1f-2b031ba85a32\",\"notebook_comms_target\":\"86f3bb26-ec27-4668-86ba-4813045fb738\"}];\n",
       "  root.Bokeh.embed.embed_items_notebook(docs_json, render_items);\n",
       "\n",
       "  }\n",
       "  if (root.Bokeh !== undefined) {\n",
       "    embed_document(root);\n",
       "  } else {\n",
       "    var attempts = 0;\n",
       "    var timer = setInterval(function(root) {\n",
       "      if (root.Bokeh !== undefined) {\n",
       "        embed_document(root);\n",
       "        clearInterval(timer);\n",
       "      }\n",
       "      attempts++;\n",
       "      if (attempts > 100) {\n",
       "        console.log(\"Bokeh: ERROR: Unable to run BokehJS code because BokehJS library is missing\")\n",
       "        clearInterval(timer);\n",
       "      }\n",
       "    }, 10, root)\n",
       "  }\n",
       "})(window);"
      ],
      "application/vnd.bokehjs_exec.v0+json": ""
     },
     "metadata": {
      "application/vnd.bokehjs_exec.v0+json": {
       "id": "61f4173c-62f3-4078-8e1f-2b031ba85a32"
      }
     },
     "output_type": "display_data"
    }
   ],
   "source": [
    "timing_plot(improved_sieve)"
   ]
  },
  {
   "cell_type": "code",
   "execution_count": 21,
   "metadata": {
    "slideshow": {
     "slide_type": "skip"
    }
   },
   "outputs": [],
   "source": [
    "import heapq\n",
    "from itertools import count\n",
    "\n",
    "def priority_queue():\n",
    "    yield 2\n",
    "    yield 3\n",
    "    state = [(9, 2 * 3)]\n",
    "    for candidate in count(5, 2):\n",
    "        #print('dbg', candidate, state[0])\n",
    "        if candidate == state[0][0]:\n",
    "            while candidate == state[0][0]:\n",
    "                mult, inc = state[0]\n",
    "                heapq.heapreplace(state, (mult + inc, inc))\n",
    "        else:\n",
    "            yield candidate\n",
    "            heapq.heappush(state, (candidate * candidate, 2 * candidate))"
   ]
  },
  {
   "cell_type": "code",
   "execution_count": 22,
   "metadata": {
    "slideshow": {
     "slide_type": "skip"
    }
   },
   "outputs": [
    {
     "data": {
      "text/html": [
       "\n",
       "<div class=\"bk-root\">\n",
       "    <div class=\"bk-plotdiv\" id=\"fec036f8-2a60-4851-9d28-2ad4b37d1a2b\"></div>\n",
       "</div>"
      ]
     },
     "metadata": {},
     "output_type": "display_data"
    },
    {
     "data": {
      "application/javascript": [
       "(function(root) {\n",
       "  function embed_document(root) {\n",
       "    \n",
       "  var docs_json = {\"f7ad82f2-02a7-40eb-9472-02a414358cc8\":{\"roots\":{\"references\":[{\"attributes\":{\"source\":{\"id\":\"2e146c6b-6cf0-4785-92a1-fb027f47e3df\",\"type\":\"ColumnDataSource\"}},\"id\":\"5723f09b-9f88-4687-a7bc-13f17511c99d\",\"type\":\"CDSView\"},{\"attributes\":{\"callback\":null,\"column_names\":[\"x\",\"y\"],\"data\":{\"x\":[1,2,5,10,20,50,100,200,500,1000,2000,5000,10000,20000,50000,100000],\"y\":[1.317821443080902e-06,1.5390105545520782e-06,4.13600355386734e-06,1.0979129001498222e-05,2.85319983959198e-05,9.939400479197502e-05,0.0003173309378325939,0.0008481529075652361,0.003156777936965227,0.007404649863019586,0.019058345817029476,0.0697223290335387,0.09744404093362391,0.21326777595095336,0.7449905530083925,1.7664531648624688]}},\"id\":\"6957ec03-afa2-437b-bdda-064c9ffcd091\",\"type\":\"ColumnDataSource\"},{\"attributes\":{\"source\":{\"id\":\"d6302518-d174-484b-98de-d0d6c709ac87\",\"type\":\"ColumnDataSource\"}},\"id\":\"c7f03630-6b8e-407b-9385-675a4c05676b\",\"type\":\"CDSView\"},{\"attributes\":{\"label\":{\"value\":\"unbounded_sieve\"},\"renderers\":[{\"id\":\"3696aabf-e9c5-4f1c-a190-7acf77ea1862\",\"type\":\"GlyphRenderer\"},{\"id\":\"46f14ae9-bebe-4f07-838f-20bdd2afd3f6\",\"type\":\"GlyphRenderer\"}]},\"id\":\"8af922dd-2d11-4c6a-bf2e-eba82566ffb9\",\"type\":\"LegendItem\"},{\"attributes\":{\"source\":{\"id\":\"6957ec03-afa2-437b-bdda-064c9ffcd091\",\"type\":\"ColumnDataSource\"}},\"id\":\"d14607b6-9e26-4b86-ae37-5fb391dec4d7\",\"type\":\"CDSView\"},{\"attributes\":{\"data_source\":{\"id\":\"8cfbcfd2-ec0e-43ea-9549-c4128646faf3\",\"type\":\"ColumnDataSource\"},\"glyph\":{\"id\":\"028efa3c-ce35-4095-9663-f74898b61c33\",\"type\":\"Line\"},\"hover_glyph\":null,\"muted_glyph\":null,\"nonselection_glyph\":{\"id\":\"0a5af47e-9887-4ed3-ab47-c4061f4e08f0\",\"type\":\"Line\"},\"selection_glyph\":null,\"view\":{\"id\":\"fbc4048e-eaaa-4cbf-b57d-e9df0ebf12de\",\"type\":\"CDSView\"}},\"id\":\"c9c5c454-c985-414b-8f97-4cf14d167689\",\"type\":\"GlyphRenderer\"},{\"attributes\":{\"source\":{\"id\":\"762c4f5a-1e7a-4a0a-830f-b9c28cd772e5\",\"type\":\"ColumnDataSource\"}},\"id\":\"cbd88c0f-986b-4db5-bb1e-edd1077af667\",\"type\":\"CDSView\"},{\"attributes\":{\"fill_alpha\":{\"value\":0.1},\"fill_color\":{\"value\":\"#1f77b4\"},\"line_alpha\":{\"value\":0.1},\"line_color\":{\"value\":\"#1f77b4\"},\"x\":{\"field\":\"x\"},\"y\":{\"field\":\"y\"}},\"id\":\"195b5ef7-02c8-41e0-a036-efecf17b3404\",\"type\":\"Circle\"},{\"attributes\":{\"ticker\":null},\"id\":\"0c8867b7-4647-49d7-bd54-6cdb1f78d9a0\",\"type\":\"LogTickFormatter\"},{\"attributes\":{\"line_alpha\":0.1,\"line_color\":\"#1f77b4\",\"line_dash\":[6],\"x\":{\"field\":\"x\"},\"y\":{\"field\":\"y\"}},\"id\":\"3a563849-0c9b-4b92-91db-1faab0c121e9\",\"type\":\"Line\"},{\"attributes\":{\"label\":{\"value\":\"to_sqrt\"},\"renderers\":[{\"id\":\"8efeb23b-da02-4b26-9349-bf7f956f273d\",\"type\":\"GlyphRenderer\"},{\"id\":\"da3f7327-3067-4510-b00f-097e84f3cff3\",\"type\":\"GlyphRenderer\"}]},\"id\":\"6abbdc4b-c7c4-484c-8b37-b7a4ba9efe6b\",\"type\":\"LegendItem\"},{\"attributes\":{\"data_source\":{\"id\":\"6957ec03-afa2-437b-bdda-064c9ffcd091\",\"type\":\"ColumnDataSource\"},\"glyph\":{\"id\":\"670c9478-3062-4945-9870-091f91ba971e\",\"type\":\"Line\"},\"hover_glyph\":null,\"muted_glyph\":null,\"nonselection_glyph\":{\"id\":\"3a563849-0c9b-4b92-91db-1faab0c121e9\",\"type\":\"Line\"},\"selection_glyph\":null,\"view\":{\"id\":\"d14607b6-9e26-4b86-ae37-5fb391dec4d7\",\"type\":\"CDSView\"}},\"id\":\"3696aabf-e9c5-4f1c-a190-7acf77ea1862\",\"type\":\"GlyphRenderer\"},{\"attributes\":{\"line_color\":\"#e377c2\",\"line_dash\":[6],\"x\":{\"field\":\"x\"},\"y\":{\"field\":\"y\"}},\"id\":\"670c9478-3062-4945-9870-091f91ba971e\",\"type\":\"Line\"},{\"attributes\":{\"fill_color\":{\"value\":\"#9467bd\"},\"line_color\":{\"value\":\"#9467bd\"},\"x\":{\"field\":\"x\"},\"y\":{\"field\":\"y\"}},\"id\":\"46fd5415-2a0b-4dbf-a93c-9d1b657f6b1b\",\"type\":\"Circle\"},{\"attributes\":{\"line_alpha\":0.1,\"line_color\":\"#1f77b4\",\"line_dash\":[6],\"x\":{\"field\":\"x\"},\"y\":{\"field\":\"y\"}},\"id\":\"0a5af47e-9887-4ed3-ab47-c4061f4e08f0\",\"type\":\"Line\"},{\"attributes\":{\"source\":{\"id\":\"8cfbcfd2-ec0e-43ea-9549-c4128646faf3\",\"type\":\"ColumnDataSource\"}},\"id\":\"fbc4048e-eaaa-4cbf-b57d-e9df0ebf12de\",\"type\":\"CDSView\"},{\"attributes\":{\"data_source\":{\"id\":\"2e146c6b-6cf0-4785-92a1-fb027f47e3df\",\"type\":\"ColumnDataSource\"},\"glyph\":{\"id\":\"ae9a296a-8653-4442-ac0d-edf08c03ea9c\",\"type\":\"Line\"},\"hover_glyph\":null,\"muted_glyph\":null,\"nonselection_glyph\":{\"id\":\"26d178c7-3a33-433c-b976-ea8d2e32521d\",\"type\":\"Line\"},\"selection_glyph\":null,\"view\":{\"id\":\"5723f09b-9f88-4687-a7bc-13f17511c99d\",\"type\":\"CDSView\"}},\"id\":\"8efeb23b-da02-4b26-9349-bf7f956f273d\",\"type\":\"GlyphRenderer\"},{\"attributes\":{\"callback\":null,\"column_names\":[\"x\",\"y\"],\"data\":{\"x\":[1,2,5,10,20,50,100,200,500,1000,2000,5000,10000,20000,50000,100000,200000],\"y\":[1.2458767741918564e-06,1.8849968910217285e-06,3.3779069781303406e-06,7.822876796126366e-06,1.7695827409625053e-05,5.989987403154373e-05,0.00016487506218254566,0.00039862794801592827,0.0012787249870598316,0.0029056628700345755,0.006854115054011345,0.022181850858032703,0.0504222740419209,0.10669688507914543,0.23477714508771896,0.5650034809950739,1.1920020659454167]}},\"id\":\"afac7f41-6047-46b2-b6b1-30d600fd02f2\",\"type\":\"ColumnDataSource\"},{\"attributes\":{\"line_color\":\"#1f77b4\",\"line_dash\":[6],\"x\":{\"field\":\"x\"},\"y\":{\"field\":\"y\"}},\"id\":\"c38f85b5-5eb4-424c-8eb3-d5b110a5cb3a\",\"type\":\"Line\"},{\"attributes\":{\"data_source\":{\"id\":\"afac7f41-6047-46b2-b6b1-30d600fd02f2\",\"type\":\"ColumnDataSource\"},\"glyph\":{\"id\":\"ea6205d7-ad94-4c10-89de-8f284bfafe20\",\"type\":\"Circle\"},\"hover_glyph\":null,\"muted_glyph\":null,\"nonselection_glyph\":{\"id\":\"195b5ef7-02c8-41e0-a036-efecf17b3404\",\"type\":\"Circle\"},\"selection_glyph\":null,\"view\":{\"id\":\"96d7061c-d28d-406a-8cee-7144cd6cdf6f\",\"type\":\"CDSView\"}},\"id\":\"8aa7d331-3477-4001-a921-8f28e43aa77a\",\"type\":\"GlyphRenderer\"},{\"attributes\":{\"source\":{\"id\":\"e049e975-2082-42ad-9b0e-01e37903835d\",\"type\":\"ColumnDataSource\"}},\"id\":\"2d101c7c-e127-4bc8-b83f-5eda39bdd79b\",\"type\":\"CDSView\"},{\"attributes\":{\"line_color\":\"#7f7f7f\",\"line_dash\":[6],\"x\":{\"field\":\"x\"},\"y\":{\"field\":\"y\"}},\"id\":\"028efa3c-ce35-4095-9663-f74898b61c33\",\"type\":\"Line\"},{\"attributes\":{\"fill_color\":{\"value\":\"#8c564b\"},\"line_color\":{\"value\":\"#8c564b\"},\"x\":{\"field\":\"x\"},\"y\":{\"field\":\"y\"}},\"id\":\"e1171403-b8f7-4552-a5b2-c25775a1455c\",\"type\":\"Circle\"},{\"attributes\":{\"callback\":null,\"column_names\":[\"x\",\"y\"],\"data\":{\"x\":[1,2,5,10,20,50,100,200,500,1000,2000,5000,10000,20000,50000],\"y\":[1.3171229511499405e-06,2.8780195862054825e-06,6.7069195210933685e-06,1.4960067346692085e-05,5.4510077461600304e-05,0.00012037507258355618,0.0003023201134055853,0.0007400668691843748,0.002520353067666292,0.00632662489078939,0.01610450493171811,0.05177717702463269,0.1080278200097382,0.29799197404645383,1.25529725686647]}},\"id\":\"2e146c6b-6cf0-4785-92a1-fb027f47e3df\",\"type\":\"ColumnDataSource\"},{\"attributes\":{\"label\":{\"value\":\"sieve\"},\"renderers\":[{\"id\":\"3827ff18-955b-4306-b2d7-5b8f72a5fce4\",\"type\":\"GlyphRenderer\"},{\"id\":\"e9ea51cd-5808-4726-9b92-d9b7e51fc6c0\",\"type\":\"GlyphRenderer\"}]},\"id\":\"6d860806-6ee0-44b1-994f-a62e90c47bd5\",\"type\":\"LegendItem\"},{\"attributes\":{\"fill_alpha\":{\"value\":0.1},\"fill_color\":{\"value\":\"#1f77b4\"},\"line_alpha\":{\"value\":0.1},\"line_color\":{\"value\":\"#1f77b4\"},\"x\":{\"field\":\"x\"},\"y\":{\"field\":\"y\"}},\"id\":\"31a66cb4-954c-4087-af84-a27ff41e240e\",\"type\":\"Circle\"},{\"attributes\":{\"data_source\":{\"id\":\"593179be-5f6c-44f9-a5cd-bb954e616b06\",\"type\":\"ColumnDataSource\"},\"glyph\":{\"id\":\"55cb2676-8f57-4c11-98ee-b4d071e944f5\",\"type\":\"Circle\"},\"hover_glyph\":null,\"muted_glyph\":null,\"nonselection_glyph\":{\"id\":\"fd373713-589b-456d-b7a4-711c9aa017cd\",\"type\":\"Circle\"},\"selection_glyph\":null,\"view\":{\"id\":\"badc6890-065f-4e11-a558-75f7e413e827\",\"type\":\"CDSView\"}},\"id\":\"bad94d35-adb4-497e-bd35-ffb2c07b17de\",\"type\":\"GlyphRenderer\"},{\"attributes\":{\"data_source\":{\"id\":\"2f62623f-ff73-4875-b477-f3a328206248\",\"type\":\"ColumnDataSource\"},\"glyph\":{\"id\":\"a69c62b3-e1a8-4e93-b03d-4f3b1dc8dbfc\",\"type\":\"Line\"},\"hover_glyph\":null,\"muted_glyph\":null,\"nonselection_glyph\":{\"id\":\"59c5655d-89d2-4965-81af-f890c893f569\",\"type\":\"Line\"},\"selection_glyph\":null,\"view\":{\"id\":\"bebf4397-ec70-4bea-85ba-50079c6b2755\",\"type\":\"CDSView\"}},\"id\":\"3827ff18-955b-4306-b2d7-5b8f72a5fce4\",\"type\":\"GlyphRenderer\"},{\"attributes\":{\"line_color\":\"#9467bd\",\"line_dash\":[6],\"x\":{\"field\":\"x\"},\"y\":{\"field\":\"y\"}},\"id\":\"6eb4274a-1b27-4506-9fce-9eec57f5e394\",\"type\":\"Line\"},{\"attributes\":{\"fill_alpha\":{\"value\":0.1},\"fill_color\":{\"value\":\"#1f77b4\"},\"line_alpha\":{\"value\":0.1},\"line_color\":{\"value\":\"#1f77b4\"},\"x\":{\"field\":\"x\"},\"y\":{\"field\":\"y\"}},\"id\":\"7e601bf8-f265-46ad-9396-d60881f086e2\",\"type\":\"Circle\"},{\"attributes\":{\"line_alpha\":0.1,\"line_color\":\"#1f77b4\",\"line_dash\":[6],\"x\":{\"field\":\"x\"},\"y\":{\"field\":\"y\"}},\"id\":\"0b5a315d-f0ae-4e52-a335-60b1fcbc37f7\",\"type\":\"Line\"},{\"attributes\":{\"callback\":null,\"column_names\":[\"x\",\"y\"],\"data\":{\"x\":[1,2,5,10,20,50,100,200,500,1000,2000,5000,10000,20000,50000,100000,200000,500000],\"y\":[1.7101410776376724e-06,2.234010025858879e-06,3.5860575735569e-06,6.612855941057205e-06,1.219194382429123e-05,3.108987584710121e-05,7.33579508960247e-05,0.00016477005556225777,0.0004884249065071344,0.0011219209991395473,0.0026673900429159403,0.0077997660264372826,0.018545425962656736,0.04026325396262109,0.08585646585561335,0.23042701720260084,0.4798019640147686,1.3214226090349257]}},\"id\":\"2f62623f-ff73-4875-b477-f3a328206248\",\"type\":\"ColumnDataSource\"},{\"attributes\":{\"source\":{\"id\":\"3bae76d3-0b7a-4089-bba7-2f11f04feecb\",\"type\":\"ColumnDataSource\"}},\"id\":\"9af08966-e40a-49dd-b6ae-d2fab381eb0c\",\"type\":\"CDSView\"},{\"attributes\":{\"data_source\":{\"id\":\"e049e975-2082-42ad-9b0e-01e37903835d\",\"type\":\"ColumnDataSource\"},\"glyph\":{\"id\":\"6eb4274a-1b27-4506-9fce-9eec57f5e394\",\"type\":\"Line\"},\"hover_glyph\":null,\"muted_glyph\":null,\"nonselection_glyph\":{\"id\":\"dccfa13a-bb95-474f-8370-3c195ac4be45\",\"type\":\"Line\"},\"selection_glyph\":null,\"view\":{\"id\":\"2d101c7c-e127-4bc8-b83f-5eda39bdd79b\",\"type\":\"CDSView\"}},\"id\":\"5f6de324-e54b-4cb6-ae7d-10d9d4e08456\",\"type\":\"GlyphRenderer\"},{\"attributes\":{\"line_color\":\"#d62728\",\"line_dash\":[6],\"x\":{\"field\":\"x\"},\"y\":{\"field\":\"y\"}},\"id\":\"a141aead-8396-4c8d-919f-de05b4aa05a7\",\"type\":\"Line\"},{\"attributes\":{\"line_color\":\"#8c564b\",\"line_dash\":[6],\"x\":{\"field\":\"x\"},\"y\":{\"field\":\"y\"}},\"id\":\"a69c62b3-e1a8-4e93-b03d-4f3b1dc8dbfc\",\"type\":\"Line\"},{\"attributes\":{\"data_source\":{\"id\":\"ce07f0fa-9289-4144-9e85-79f3c84afae4\",\"type\":\"ColumnDataSource\"},\"glyph\":{\"id\":\"3762358e-c9da-4741-a13f-b82d881796c5\",\"type\":\"Circle\"},\"hover_glyph\":null,\"muted_glyph\":null,\"nonselection_glyph\":{\"id\":\"7e601bf8-f265-46ad-9396-d60881f086e2\",\"type\":\"Circle\"},\"selection_glyph\":null,\"view\":{\"id\":\"e4f4f569-c596-4ede-979b-95f5e9dd7f77\",\"type\":\"CDSView\"}},\"id\":\"688d27a5-cea2-4432-b7c1-37d0bd9abfd5\",\"type\":\"GlyphRenderer\"},{\"attributes\":{\"fill_color\":{\"value\":\"#1f77b4\"},\"line_color\":{\"value\":\"#1f77b4\"},\"x\":{\"field\":\"x\"},\"y\":{\"field\":\"y\"}},\"id\":\"3762358e-c9da-4741-a13f-b82d881796c5\",\"type\":\"Circle\"},{\"attributes\":{\"callback\":null,\"column_names\":[\"x\",\"y\"],\"data\":{\"x\":[1,2,5,10,20,50,100,200,500,1000,2000,5000,10000,20000,50000,100000,200000,500000],\"y\":[1.7101410776376724e-06,2.234010025858879e-06,3.5860575735569e-06,6.612855941057205e-06,1.219194382429123e-05,3.108987584710121e-05,7.33579508960247e-05,0.00016477005556225777,0.0004884249065071344,0.0011219209991395473,0.0026673900429159403,0.0077997660264372826,0.018545425962656736,0.04026325396262109,0.08585646585561335,0.23042701720260084,0.4798019640147686,1.3214226090349257]}},\"id\":\"d6302518-d174-484b-98de-d0d6c709ac87\",\"type\":\"ColumnDataSource\"},{\"attributes\":{\"source\":{\"id\":\"ce07f0fa-9289-4144-9e85-79f3c84afae4\",\"type\":\"ColumnDataSource\"}},\"id\":\"e4f4f569-c596-4ede-979b-95f5e9dd7f77\",\"type\":\"CDSView\"},{\"attributes\":{\"line_alpha\":0.1,\"line_color\":\"#1f77b4\",\"line_dash\":[6],\"x\":{\"field\":\"x\"},\"y\":{\"field\":\"y\"}},\"id\":\"59c5655d-89d2-4965-81af-f890c893f569\",\"type\":\"Line\"},{\"attributes\":{\"callback\":null,\"column_names\":[\"x\",\"y\"],\"data\":{\"x\":[1,2,5,10,20,50,100,200,500,1000,2000,5000,10000,20000,50000,100000,200000],\"y\":[1.2458767741918564e-06,1.8849968910217285e-06,3.3779069781303406e-06,7.822876796126366e-06,1.7695827409625053e-05,5.989987403154373e-05,0.00016487506218254566,0.00039862794801592827,0.0012787249870598316,0.0029056628700345755,0.006854115054011345,0.022181850858032703,0.0504222740419209,0.10669688507914543,0.23477714508771896,0.5650034809950739,1.1920020659454167]}},\"id\":\"8cfbcfd2-ec0e-43ea-9549-c4128646faf3\",\"type\":\"ColumnDataSource\"},{\"attributes\":{\"source\":{\"id\":\"2f62623f-ff73-4875-b477-f3a328206248\",\"type\":\"ColumnDataSource\"}},\"id\":\"bebf4397-ec70-4bea-85ba-50079c6b2755\",\"type\":\"CDSView\"},{\"attributes\":{\"callback\":null,\"start\":1},\"id\":\"77f21e85-83dc-4e7f-80a6-ccd4918fa8aa\",\"type\":\"DataRange1d\"},{\"attributes\":{\"callback\":null,\"column_names\":[\"x\",\"y\"],\"data\":{\"x\":[1,2,5,10,20,50,100,200,500,1000,2000,5000],\"y\":[1.4319084584712982e-06,2.3900065571069717e-06,5.2889809012413025e-06,1.3441778719425201e-05,4.3275998905301094e-05,0.00022354512475430965,0.0009551611728966236,0.005093520972877741,0.0360875460319221,0.16740669403225183,0.6574779360089451,4.291011564899236]}},\"id\":\"2ac500ba-6a37-486f-92a7-48d64e953caf\",\"type\":\"ColumnDataSource\"},{\"attributes\":{\"data_source\":{\"id\":\"e806a449-d872-4e29-bd2d-310ab85d338e\",\"type\":\"ColumnDataSource\"},\"glyph\":{\"id\":\"36169041-08a3-4b53-8194-c96a42fe783d\",\"type\":\"Circle\"},\"hover_glyph\":null,\"muted_glyph\":null,\"nonselection_glyph\":{\"id\":\"ad562f6e-194d-4b77-adc2-f5a39d281919\",\"type\":\"Circle\"},\"selection_glyph\":null,\"view\":{\"id\":\"c4abbfd7-5a12-4047-bd4a-84d8ed2f3fc1\",\"type\":\"CDSView\"}},\"id\":\"46f14ae9-bebe-4f07-838f-20bdd2afd3f6\",\"type\":\"GlyphRenderer\"},{\"attributes\":{\"fill_color\":{\"value\":\"#7f7f7f\"},\"line_color\":{\"value\":\"#7f7f7f\"},\"x\":{\"field\":\"x\"},\"y\":{\"field\":\"y\"}},\"id\":\"ea6205d7-ad94-4c10-89de-8f284bfafe20\",\"type\":\"Circle\"},{\"attributes\":{\"below\":[{\"id\":\"61094543-94bf-4cc9-8e61-9c0a840d7fbe\",\"type\":\"LogAxis\"}],\"left\":[{\"id\":\"cd2a779c-414f-4502-945e-846d475984ea\",\"type\":\"LogAxis\"}],\"plot_height\":400,\"plot_width\":800,\"renderers\":[{\"id\":\"61094543-94bf-4cc9-8e61-9c0a840d7fbe\",\"type\":\"LogAxis\"},{\"id\":\"c5dd186a-da2b-46dd-b090-d06d3799aff9\",\"type\":\"Grid\"},{\"id\":\"cd2a779c-414f-4502-945e-846d475984ea\",\"type\":\"LogAxis\"},{\"id\":\"4c7d3e43-53c3-4c78-b270-97a7941986ea\",\"type\":\"Grid\"},{\"id\":\"18830e72-9948-48d7-8454-4d3e64738bec\",\"type\":\"BoxAnnotation\"},{\"id\":\"35605e1b-f529-452a-ba7d-d348fcf97b5f\",\"type\":\"Legend\"},{\"id\":\"c05df885-eeb8-4085-8d67-eaec780ece59\",\"type\":\"GlyphRenderer\"},{\"id\":\"688d27a5-cea2-4432-b7c1-37d0bd9abfd5\",\"type\":\"GlyphRenderer\"},{\"id\":\"0ee060f4-84d9-408e-ace9-f90170861001\",\"type\":\"GlyphRenderer\"},{\"id\":\"f7852c74-c269-41ba-ac76-0eb8a0a0bb35\",\"type\":\"GlyphRenderer\"},{\"id\":\"8efeb23b-da02-4b26-9349-bf7f956f273d\",\"type\":\"GlyphRenderer\"},{\"id\":\"da3f7327-3067-4510-b00f-097e84f3cff3\",\"type\":\"GlyphRenderer\"},{\"id\":\"9e3c80a0-eed7-4473-b17c-3ee9fec0b49b\",\"type\":\"GlyphRenderer\"},{\"id\":\"bad94d35-adb4-497e-bd35-ffb2c07b17de\",\"type\":\"GlyphRenderer\"},{\"id\":\"5f6de324-e54b-4cb6-ae7d-10d9d4e08456\",\"type\":\"GlyphRenderer\"},{\"id\":\"902676e4-2c19-484c-ad42-043ef2d86601\",\"type\":\"GlyphRenderer\"},{\"id\":\"3827ff18-955b-4306-b2d7-5b8f72a5fce4\",\"type\":\"GlyphRenderer\"},{\"id\":\"e9ea51cd-5808-4726-9b92-d9b7e51fc6c0\",\"type\":\"GlyphRenderer\"},{\"id\":\"3696aabf-e9c5-4f1c-a190-7acf77ea1862\",\"type\":\"GlyphRenderer\"},{\"id\":\"46f14ae9-bebe-4f07-838f-20bdd2afd3f6\",\"type\":\"GlyphRenderer\"},{\"id\":\"c9c5c454-c985-414b-8f97-4cf14d167689\",\"type\":\"GlyphRenderer\"},{\"id\":\"8aa7d331-3477-4001-a921-8f28e43aa77a\",\"type\":\"GlyphRenderer\"},{\"id\":\"34d0d895-afad-432e-bb77-f1e657eb2f10\",\"type\":\"GlyphRenderer\"},{\"id\":\"d4355b86-c52a-480d-af2d-78b6623eed5d\",\"type\":\"GlyphRenderer\"}],\"title\":{\"id\":\"ade7127c-0c54-40e0-85c2-a615b695d38f\",\"type\":\"Title\"},\"toolbar\":{\"id\":\"9390f38e-152c-443b-badd-01aff00d32ad\",\"type\":\"Toolbar\"},\"toolbar_location\":\"above\",\"x_range\":{\"id\":\"77f21e85-83dc-4e7f-80a6-ccd4918fa8aa\",\"type\":\"DataRange1d\"},\"x_scale\":{\"id\":\"e54d6df2-936b-4309-8603-2c91cb6b10d7\",\"type\":\"LogScale\"},\"y_range\":{\"id\":\"494b6bcc-f87d-433a-89a8-eb77fcb96833\",\"type\":\"Range1d\"},\"y_scale\":{\"id\":\"e67af837-bfa9-4bf2-ac25-ab14680ca8ae\",\"type\":\"LogScale\"}},\"id\":\"4c5d4959-4f1d-4038-ab03-6a7f8449ae88\",\"subtype\":\"Figure\",\"type\":\"Plot\"},{\"attributes\":{\"callback\":null,\"column_names\":[\"x\",\"y\"],\"data\":{\"x\":[1,2,5,10,20,50,100,200,500,1000,2000],\"y\":[3.0079390853643417e-06,2.980930730700493e-06,8.170027285814285e-06,2.24430114030838e-05,6.925896741449833e-05,0.00035684509202837944,0.0015316121280193329,0.007375265937298536,0.05917246709577739,0.27406985498964787,1.2293089928571135]}},\"id\":\"ce07f0fa-9289-4144-9e85-79f3c84afae4\",\"type\":\"ColumnDataSource\"},{\"attributes\":{\"plot\":null,\"text\":\"Timing\"},\"id\":\"ade7127c-0c54-40e0-85c2-a615b695d38f\",\"type\":\"Title\"},{\"attributes\":{\"callback\":null,\"start\":1e-06},\"id\":\"494b6bcc-f87d-433a-89a8-eb77fcb96833\",\"type\":\"Range1d\"},{\"attributes\":{\"label\":{\"value\":\"first_try\"},\"renderers\":[{\"id\":\"c05df885-eeb8-4085-8d67-eaec780ece59\",\"type\":\"GlyphRenderer\"},{\"id\":\"688d27a5-cea2-4432-b7c1-37d0bd9abfd5\",\"type\":\"GlyphRenderer\"}]},\"id\":\"f26e328a-45e7-449e-86b3-1a49dc982f40\",\"type\":\"LegendItem\"},{\"attributes\":{\"active_drag\":\"auto\",\"active_inspect\":\"auto\",\"active_scroll\":\"auto\",\"active_tap\":\"auto\",\"tools\":[{\"id\":\"fb911c0b-0c0f-463d-b9b6-2ef4b7a35b64\",\"type\":\"PanTool\"},{\"id\":\"ca3e2d1d-01d4-4cdb-ae2b-b4db84593dae\",\"type\":\"WheelZoomTool\"},{\"id\":\"a28ab287-4f39-41ce-afdf-738c3d4c04a3\",\"type\":\"BoxZoomTool\"},{\"id\":\"edc865ce-07fc-44d3-850b-7a30ef2f6faf\",\"type\":\"SaveTool\"},{\"id\":\"ca99a6c8-de9b-46b3-9177-ea186e1d54b4\",\"type\":\"ResetTool\"},{\"id\":\"3d1ce73c-d6e7-4717-abf0-d437075261e8\",\"type\":\"HelpTool\"}]},\"id\":\"9390f38e-152c-443b-badd-01aff00d32ad\",\"type\":\"Toolbar\"},{\"attributes\":{\"line_alpha\":0.1,\"line_color\":\"#1f77b4\",\"line_dash\":[6],\"x\":{\"field\":\"x\"},\"y\":{\"field\":\"y\"}},\"id\":\"dccfa13a-bb95-474f-8370-3c195ac4be45\",\"type\":\"Line\"},{\"attributes\":{\"num_minor_ticks\":10},\"id\":\"4108a31a-1eae-4a9c-a065-9ed9d2cc83e3\",\"type\":\"LogTicker\"},{\"attributes\":{\"data_source\":{\"id\":\"c51fab54-d6b0-4f76-afec-1c1cc304366e\",\"type\":\"ColumnDataSource\"},\"glyph\":{\"id\":\"a141aead-8396-4c8d-919f-de05b4aa05a7\",\"type\":\"Line\"},\"hover_glyph\":null,\"muted_glyph\":null,\"nonselection_glyph\":{\"id\":\"0b5a315d-f0ae-4e52-a335-60b1fcbc37f7\",\"type\":\"Line\"},\"selection_glyph\":null,\"view\":{\"id\":\"acac683e-6182-44d8-8ef4-d1476e459c44\",\"type\":\"CDSView\"}},\"id\":\"9e3c80a0-eed7-4473-b17c-3ee9fec0b49b\",\"type\":\"GlyphRenderer\"},{\"attributes\":{\"fill_alpha\":{\"value\":0.1},\"fill_color\":{\"value\":\"#1f77b4\"},\"line_alpha\":{\"value\":0.1},\"line_color\":{\"value\":\"#1f77b4\"},\"x\":{\"field\":\"x\"},\"y\":{\"field\":\"y\"}},\"id\":\"e3d15f56-7676-4f3b-9f40-8c336bdf4d5f\",\"type\":\"Circle\"},{\"attributes\":{\"fill_color\":{\"value\":\"#d62728\"},\"line_color\":{\"value\":\"#d62728\"},\"x\":{\"field\":\"x\"},\"y\":{\"field\":\"y\"}},\"id\":\"55cb2676-8f57-4c11-98ee-b4d071e944f5\",\"type\":\"Circle\"},{\"attributes\":{\"num_minor_ticks\":10},\"id\":\"03eafd85-b05d-44ab-8f0c-83acd10b4d8a\",\"type\":\"LogTicker\"},{\"attributes\":{\"source\":{\"id\":\"c51fab54-d6b0-4f76-afec-1c1cc304366e\",\"type\":\"ColumnDataSource\"}},\"id\":\"acac683e-6182-44d8-8ef4-d1476e459c44\",\"type\":\"CDSView\"},{\"attributes\":{\"plot\":{\"id\":\"4c5d4959-4f1d-4038-ab03-6a7f8449ae88\",\"subtype\":\"Figure\",\"type\":\"Plot\"},\"ticker\":{\"id\":\"4108a31a-1eae-4a9c-a065-9ed9d2cc83e3\",\"type\":\"LogTicker\"}},\"id\":\"c5dd186a-da2b-46dd-b090-d06d3799aff9\",\"type\":\"Grid\"},{\"attributes\":{\"fill_alpha\":{\"value\":0.1},\"fill_color\":{\"value\":\"#1f77b4\"},\"line_alpha\":{\"value\":0.1},\"line_color\":{\"value\":\"#1f77b4\"},\"x\":{\"field\":\"x\"},\"y\":{\"field\":\"y\"}},\"id\":\"ad562f6e-194d-4b77-adc2-f5a39d281919\",\"type\":\"Circle\"},{\"attributes\":{},\"id\":\"e54d6df2-936b-4309-8603-2c91cb6b10d7\",\"type\":\"LogScale\"},{\"attributes\":{\"data_source\":{\"id\":\"3bae76d3-0b7a-4089-bba7-2f11f04feecb\",\"type\":\"ColumnDataSource\"},\"glyph\":{\"id\":\"c38f85b5-5eb4-424c-8eb3-d5b110a5cb3a\",\"type\":\"Line\"},\"hover_glyph\":null,\"muted_glyph\":null,\"nonselection_glyph\":{\"id\":\"aba08826-78b2-4e7e-a48d-84a9dfa88be5\",\"type\":\"Line\"},\"selection_glyph\":null,\"view\":{\"id\":\"9af08966-e40a-49dd-b6ae-d2fab381eb0c\",\"type\":\"CDSView\"}},\"id\":\"c05df885-eeb8-4085-8d67-eaec780ece59\",\"type\":\"GlyphRenderer\"},{\"attributes\":{\"axis_label\":\"Primes\",\"formatter\":{\"id\":\"f010a7a6-7c67-4e4a-b51d-fa8891f2ba68\",\"type\":\"NumeralTickFormatter\"},\"plot\":{\"id\":\"4c5d4959-4f1d-4038-ab03-6a7f8449ae88\",\"subtype\":\"Figure\",\"type\":\"Plot\"},\"ticker\":{\"id\":\"4108a31a-1eae-4a9c-a065-9ed9d2cc83e3\",\"type\":\"LogTicker\"}},\"id\":\"61094543-94bf-4cc9-8e61-9c0a840d7fbe\",\"type\":\"LogAxis\"},{\"attributes\":{\"line_alpha\":0.1,\"line_color\":\"#1f77b4\",\"line_dash\":[6],\"x\":{\"field\":\"x\"},\"y\":{\"field\":\"y\"}},\"id\":\"aba08826-78b2-4e7e-a48d-84a9dfa88be5\",\"type\":\"Line\"},{\"attributes\":{},\"id\":\"e67af837-bfa9-4bf2-ac25-ab14680ca8ae\",\"type\":\"LogScale\"},{\"attributes\":{\"source\":{\"id\":\"593179be-5f6c-44f9-a5cd-bb954e616b06\",\"type\":\"ColumnDataSource\"}},\"id\":\"badc6890-065f-4e11-a558-75f7e413e827\",\"type\":\"CDSView\"},{\"attributes\":{\"axis_label\":\"Seconds\",\"formatter\":{\"id\":\"0c8867b7-4647-49d7-bd54-6cdb1f78d9a0\",\"type\":\"LogTickFormatter\"},\"plot\":{\"id\":\"4c5d4959-4f1d-4038-ab03-6a7f8449ae88\",\"subtype\":\"Figure\",\"type\":\"Plot\"},\"ticker\":{\"id\":\"03eafd85-b05d-44ab-8f0c-83acd10b4d8a\",\"type\":\"LogTicker\"}},\"id\":\"cd2a779c-414f-4502-945e-846d475984ea\",\"type\":\"LogAxis\"},{\"attributes\":{\"callback\":null,\"column_names\":[\"x\",\"y\"],\"data\":{\"x\":[1,2,5,10,20,50,100,200,500,1000,2000,5000,10000,20000,50000,100000],\"y\":[1.317821443080902e-06,1.5390105545520782e-06,4.13600355386734e-06,1.0979129001498222e-05,2.85319983959198e-05,9.939400479197502e-05,0.0003173309378325939,0.0008481529075652361,0.003156777936965227,0.007404649863019586,0.019058345817029476,0.0697223290335387,0.09744404093362391,0.21326777595095336,0.7449905530083925,1.7664531648624688]}},\"id\":\"e806a449-d872-4e29-bd2d-310ab85d338e\",\"type\":\"ColumnDataSource\"},{\"attributes\":{\"dimension\":1,\"plot\":{\"id\":\"4c5d4959-4f1d-4038-ab03-6a7f8449ae88\",\"subtype\":\"Figure\",\"type\":\"Plot\"},\"ticker\":{\"id\":\"03eafd85-b05d-44ab-8f0c-83acd10b4d8a\",\"type\":\"LogTicker\"}},\"id\":\"4c7d3e43-53c3-4c78-b270-97a7941986ea\",\"type\":\"Grid\"},{\"attributes\":{\"background_fill_alpha\":{\"value\":0.5},\"click_policy\":\"hide\",\"items\":[{\"id\":\"f26e328a-45e7-449e-86b3-1a49dc982f40\",\"type\":\"LegendItem\"},{\"id\":\"8ac059bd-5e90-40f9-a991-42c293367da2\",\"type\":\"LegendItem\"},{\"id\":\"6abbdc4b-c7c4-484c-8b37-b7a4ba9efe6b\",\"type\":\"LegendItem\"},{\"id\":\"97c1eddc-005f-4545-af4a-fed73ec6847d\",\"type\":\"LegendItem\"},{\"id\":\"d0f41b87-da3a-4632-9bd1-d0baf447ac39\",\"type\":\"LegendItem\"},{\"id\":\"6d860806-6ee0-44b1-994f-a62e90c47bd5\",\"type\":\"LegendItem\"},{\"id\":\"8af922dd-2d11-4c6a-bf2e-eba82566ffb9\",\"type\":\"LegendItem\"},{\"id\":\"9b98307b-fc1c-4927-b537-a1b2d4fff04a\",\"type\":\"LegendItem\"},{\"id\":\"43ae205e-d575-4f9f-a4cd-f7bd55249ab1\",\"type\":\"LegendItem\"}],\"location\":\"top_left\",\"plot\":{\"id\":\"4c5d4959-4f1d-4038-ab03-6a7f8449ae88\",\"subtype\":\"Figure\",\"type\":\"Plot\"}},\"id\":\"35605e1b-f529-452a-ba7d-d348fcf97b5f\",\"type\":\"Legend\"},{\"attributes\":{\"data_source\":{\"id\":\"d6302518-d174-484b-98de-d0d6c709ac87\",\"type\":\"ColumnDataSource\"},\"glyph\":{\"id\":\"e1171403-b8f7-4552-a5b2-c25775a1455c\",\"type\":\"Circle\"},\"hover_glyph\":null,\"muted_glyph\":null,\"nonselection_glyph\":{\"id\":\"e3d15f56-7676-4f3b-9f40-8c336bdf4d5f\",\"type\":\"Circle\"},\"selection_glyph\":null,\"view\":{\"id\":\"c7f03630-6b8e-407b-9385-675a4c05676b\",\"type\":\"CDSView\"}},\"id\":\"e9ea51cd-5808-4726-9b92-d9b7e51fc6c0\",\"type\":\"GlyphRenderer\"},{\"attributes\":{\"fill_alpha\":{\"value\":0.1},\"fill_color\":{\"value\":\"#1f77b4\"},\"line_alpha\":{\"value\":0.1},\"line_color\":{\"value\":\"#1f77b4\"},\"x\":{\"field\":\"x\"},\"y\":{\"field\":\"y\"}},\"id\":\"fd373713-589b-456d-b7a4-711c9aa017cd\",\"type\":\"Circle\"},{\"attributes\":{\"label\":{\"value\":\"improved_sieve\"},\"renderers\":[{\"id\":\"c9c5c454-c985-414b-8f97-4cf14d167689\",\"type\":\"GlyphRenderer\"},{\"id\":\"8aa7d331-3477-4001-a921-8f28e43aa77a\",\"type\":\"GlyphRenderer\"}]},\"id\":\"9b98307b-fc1c-4927-b537-a1b2d4fff04a\",\"type\":\"LegendItem\"},{\"attributes\":{\"callback\":null,\"column_names\":[\"x\",\"y\"],\"data\":{\"x\":[1,2,5,10,20,50,100,200,500,1000,2000,5000,10000,20000,50000,100000],\"y\":[1.2891832739114761e-06,1.8130522221326828e-06,3.261025995016098e-06,6.554881110787392e-06,1.7058104276657104e-05,5.391007289290428e-05,0.00014810916036367416,0.0004937269259244204,0.001433278899639845,0.003815744072198868,0.010338949039578438,0.03980604512616992,0.10124637698754668,0.20987048209644854,0.7688391590490937,2.1385415359400213]}},\"id\":\"e049e975-2082-42ad-9b0e-01e37903835d\",\"type\":\"ColumnDataSource\"},{\"attributes\":{\"data_source\":{\"id\":\"f36465e2-f0cc-4821-8240-aca5d1f22ef1\",\"type\":\"ColumnDataSource\"},\"glyph\":{\"id\":\"46fd5415-2a0b-4dbf-a93c-9d1b657f6b1b\",\"type\":\"Circle\"},\"hover_glyph\":null,\"muted_glyph\":null,\"nonselection_glyph\":{\"id\":\"31a66cb4-954c-4087-af84-a27ff41e240e\",\"type\":\"Circle\"},\"selection_glyph\":null,\"view\":{\"id\":\"d9c22f1e-2af6-4105-904b-6a30e8589d9e\",\"type\":\"CDSView\"}},\"id\":\"902676e4-2c19-484c-ad42-043ef2d86601\",\"type\":\"GlyphRenderer\"},{\"attributes\":{\"callback\":null,\"column_names\":[\"x\",\"y\"],\"data\":{\"x\":[1,2,5,10,20,50,100,200,500,1000,2000],\"y\":[3.0079390853643417e-06,2.980930730700493e-06,8.170027285814285e-06,2.24430114030838e-05,6.925896741449833e-05,0.00035684509202837944,0.0015316121280193329,0.007375265937298536,0.05917246709577739,0.27406985498964787,1.2293089928571135]}},\"id\":\"3bae76d3-0b7a-4089-bba7-2f11f04feecb\",\"type\":\"ColumnDataSource\"},{\"attributes\":{\"label\":{\"value\":\"check_primes_sqrt\"},\"renderers\":[{\"id\":\"5f6de324-e54b-4cb6-ae7d-10d9d4e08456\",\"type\":\"GlyphRenderer\"},{\"id\":\"902676e4-2c19-484c-ad42-043ef2d86601\",\"type\":\"GlyphRenderer\"}]},\"id\":\"d0f41b87-da3a-4632-9bd1-d0baf447ac39\",\"type\":\"LegendItem\"},{\"attributes\":{\"bottom_units\":\"screen\",\"fill_alpha\":{\"value\":0.5},\"fill_color\":{\"value\":\"lightgrey\"},\"left_units\":\"screen\",\"level\":\"overlay\",\"line_alpha\":{\"value\":1.0},\"line_color\":{\"value\":\"black\"},\"line_dash\":[4,4],\"line_width\":{\"value\":2},\"plot\":null,\"render_mode\":\"css\",\"right_units\":\"screen\",\"top_units\":\"screen\"},\"id\":\"18830e72-9948-48d7-8454-4d3e64738bec\",\"type\":\"BoxAnnotation\"},{\"attributes\":{\"callback\":null,\"column_names\":[\"x\",\"y\"],\"data\":{\"x\":[1,2,5,10,20,50,100,200,500,1000,2000,5000,10000],\"y\":[1.0139774531126022e-06,1.3730023056268692e-06,2.58604995906353e-06,5.44707290828228e-06,1.5757977962493896e-05,7.756706327199936e-05,0.00028013112023472786,0.001088918186724186,0.00725925387814641,0.031019693007692695,0.13349225302226841,0.7455389390233904,3.107478972990066]}},\"id\":\"593179be-5f6c-44f9-a5cd-bb954e616b06\",\"type\":\"ColumnDataSource\"},{\"attributes\":{},\"id\":\"fb911c0b-0c0f-463d-b9b6-2ef4b7a35b64\",\"type\":\"PanTool\"},{\"attributes\":{\"data_source\":{\"id\":\"762c4f5a-1e7a-4a0a-830f-b9c28cd772e5\",\"type\":\"ColumnDataSource\"},\"glyph\":{\"id\":\"a010b8c6-083b-4311-b88e-e3093434ef0a\",\"type\":\"Circle\"},\"hover_glyph\":null,\"muted_glyph\":null,\"nonselection_glyph\":{\"id\":\"985e8e8a-5ba5-430a-9b7b-04ae9e76e5fb\",\"type\":\"Circle\"},\"selection_glyph\":null,\"view\":{\"id\":\"cbd88c0f-986b-4db5-bb1e-edd1077af667\",\"type\":\"CDSView\"}},\"id\":\"f7852c74-c269-41ba-ac76-0eb8a0a0bb35\",\"type\":\"GlyphRenderer\"},{\"attributes\":{\"callback\":null,\"column_names\":[\"x\",\"y\"],\"data\":{\"x\":[],\"y\":[]}},\"id\":\"7fabdbe2-34cd-45a7-912d-9375a8d362e7\",\"type\":\"ColumnDataSource\"},{\"attributes\":{\"fill_color\":{\"value\":\"#2ca02c\"},\"line_color\":{\"value\":\"#2ca02c\"},\"x\":{\"field\":\"x\"},\"y\":{\"field\":\"y\"}},\"id\":\"654c8ba2-e394-4da2-a935-b80346252bec\",\"type\":\"Circle\"},{\"attributes\":{},\"id\":\"ca3e2d1d-01d4-4cdb-ae2b-b4db84593dae\",\"type\":\"WheelZoomTool\"},{\"attributes\":{\"callback\":null,\"column_names\":[\"x\",\"y\"],\"data\":{\"x\":[1,2,5,10,20,50,100,200,500,1000,2000,5000,10000],\"y\":[1.0139774531126022e-06,1.3730023056268692e-06,2.58604995906353e-06,5.44707290828228e-06,1.5757977962493896e-05,7.756706327199936e-05,0.00028013112023472786,0.001088918186724186,0.00725925387814641,0.031019693007692695,0.13349225302226841,0.7455389390233904,3.107478972990066]}},\"id\":\"c51fab54-d6b0-4f76-afec-1c1cc304366e\",\"type\":\"ColumnDataSource\"},{\"attributes\":{\"overlay\":{\"id\":\"18830e72-9948-48d7-8454-4d3e64738bec\",\"type\":\"BoxAnnotation\"}},\"id\":\"a28ab287-4f39-41ce-afdf-738c3d4c04a3\",\"type\":\"BoxZoomTool\"},{\"attributes\":{\"fill_alpha\":{\"value\":0.1},\"fill_color\":{\"value\":\"#1f77b4\"},\"line_alpha\":{\"value\":0.1},\"line_color\":{\"value\":\"#1f77b4\"},\"x\":{\"field\":\"x\"},\"y\":{\"field\":\"y\"}},\"id\":\"65ad56c9-9b02-419a-9f81-d9a2384e5ada\",\"type\":\"Circle\"},{\"attributes\":{},\"id\":\"edc865ce-07fc-44d3-850b-7a30ef2f6faf\",\"type\":\"SaveTool\"},{\"attributes\":{\"callback\":null,\"column_names\":[\"x\",\"y\"],\"data\":{\"x\":[1,2,5,10,20,50,100,200,500,1000,2000,5000,10000,20000,50000],\"y\":[1.3171229511499405e-06,2.8780195862054825e-06,6.7069195210933685e-06,1.4960067346692085e-05,5.4510077461600304e-05,0.00012037507258355618,0.0003023201134055853,0.0007400668691843748,0.002520353067666292,0.00632662489078939,0.01610450493171811,0.05177717702463269,0.1080278200097382,0.29799197404645383,1.25529725686647]}},\"id\":\"2646bef1-0193-41cf-ba61-87038e63c1d0\",\"type\":\"ColumnDataSource\"},{\"attributes\":{},\"id\":\"ca99a6c8-de9b-46b3-9177-ea186e1d54b4\",\"type\":\"ResetTool\"},{\"attributes\":{\"source\":{\"id\":\"2646bef1-0193-41cf-ba61-87038e63c1d0\",\"type\":\"ColumnDataSource\"}},\"id\":\"6bb0cd03-bbe6-41c4-afff-323ff361768d\",\"type\":\"CDSView\"},{\"attributes\":{},\"id\":\"3d1ce73c-d6e7-4717-abf0-d437075261e8\",\"type\":\"HelpTool\"},{\"attributes\":{\"line_color\":\"#2ca02c\",\"line_dash\":[6],\"x\":{\"field\":\"x\"},\"y\":{\"field\":\"y\"}},\"id\":\"ae9a296a-8653-4442-ac0d-edf08c03ea9c\",\"type\":\"Line\"},{\"attributes\":{\"source\":{\"id\":\"7fabdbe2-34cd-45a7-912d-9375a8d362e7\",\"type\":\"ColumnDataSource\"}},\"id\":\"84f556ad-87fe-4e8d-9bca-de6e44ef959c\",\"type\":\"CDSView\"},{\"attributes\":{\"label\":{\"value\":\"only_odd\"},\"renderers\":[{\"id\":\"0ee060f4-84d9-408e-ace9-f90170861001\",\"type\":\"GlyphRenderer\"},{\"id\":\"f7852c74-c269-41ba-ac76-0eb8a0a0bb35\",\"type\":\"GlyphRenderer\"}]},\"id\":\"8ac059bd-5e90-40f9-a991-42c293367da2\",\"type\":\"LegendItem\"},{\"attributes\":{\"source\":{\"id\":\"e806a449-d872-4e29-bd2d-310ab85d338e\",\"type\":\"ColumnDataSource\"}},\"id\":\"c4abbfd7-5a12-4047-bd4a-84d8ed2f3fc1\",\"type\":\"CDSView\"},{\"attributes\":{\"source\":{\"id\":\"afac7f41-6047-46b2-b6b1-30d600fd02f2\",\"type\":\"ColumnDataSource\"}},\"id\":\"96d7061c-d28d-406a-8cee-7144cd6cdf6f\",\"type\":\"CDSView\"},{\"attributes\":{\"source\":{\"id\":\"2ac500ba-6a37-486f-92a7-48d64e953caf\",\"type\":\"ColumnDataSource\"}},\"id\":\"7cd10c3d-34b4-4ec3-8341-3394fd898509\",\"type\":\"CDSView\"},{\"attributes\":{\"label\":{\"value\":\"priority_queue\"},\"renderers\":[{\"id\":\"34d0d895-afad-432e-bb77-f1e657eb2f10\",\"type\":\"GlyphRenderer\"},{\"id\":\"d4355b86-c52a-480d-af2d-78b6623eed5d\",\"type\":\"GlyphRenderer\"}]},\"id\":\"43ae205e-d575-4f9f-a4cd-f7bd55249ab1\",\"type\":\"LegendItem\"},{\"attributes\":{\"callback\":null,\"column_names\":[\"x\",\"y\"],\"data\":{\"x\":[1,2,5,10,20,50,100,200,500,1000,2000,5000,10000,20000,50000,100000],\"y\":[1.2891832739114761e-06,1.8130522221326828e-06,3.261025995016098e-06,6.554881110787392e-06,1.7058104276657104e-05,5.391007289290428e-05,0.00014810916036367416,0.0004937269259244204,0.001433278899639845,0.003815744072198868,0.010338949039578438,0.03980604512616992,0.10124637698754668,0.20987048209644854,0.7688391590490937,2.1385415359400213]}},\"id\":\"f36465e2-f0cc-4821-8240-aca5d1f22ef1\",\"type\":\"ColumnDataSource\"},{\"attributes\":{\"line_alpha\":0.1,\"line_color\":\"#1f77b4\",\"x\":{\"field\":\"x\"},\"y\":{\"field\":\"y\"}},\"id\":\"ce82f17f-a840-4204-bd73-e9d3bd7e3596\",\"type\":\"Line\"},{\"attributes\":{\"label\":{\"value\":\"check_primes\"},\"renderers\":[{\"id\":\"9e3c80a0-eed7-4473-b17c-3ee9fec0b49b\",\"type\":\"GlyphRenderer\"},{\"id\":\"bad94d35-adb4-497e-bd35-ffb2c07b17de\",\"type\":\"GlyphRenderer\"}]},\"id\":\"97c1eddc-005f-4545-af4a-fed73ec6847d\",\"type\":\"LegendItem\"},{\"attributes\":{\"source\":{\"id\":\"7fabdbe2-34cd-45a7-912d-9375a8d362e7\",\"type\":\"ColumnDataSource\"}},\"id\":\"21214d0c-fc2b-48f8-82af-99671c550540\",\"type\":\"CDSView\"},{\"attributes\":{\"callback\":null,\"column_names\":[\"x\",\"y\"],\"data\":{\"x\":[1,2,5,10,20,50,100,200,500,1000,2000,5000],\"y\":[1.4319084584712982e-06,2.3900065571069717e-06,5.2889809012413025e-06,1.3441778719425201e-05,4.3275998905301094e-05,0.00022354512475430965,0.0009551611728966236,0.005093520972877741,0.0360875460319221,0.16740669403225183,0.6574779360089451,4.291011564899236]}},\"id\":\"762c4f5a-1e7a-4a0a-830f-b9c28cd772e5\",\"type\":\"ColumnDataSource\"},{\"attributes\":{\"line_color\":\"#bcbd22\",\"x\":{\"field\":\"x\"},\"y\":{\"field\":\"y\"}},\"id\":\"fc58f8d2-9529-46ad-a712-025413845d06\",\"type\":\"Line\"},{\"attributes\":{\"data_source\":{\"id\":\"2646bef1-0193-41cf-ba61-87038e63c1d0\",\"type\":\"ColumnDataSource\"},\"glyph\":{\"id\":\"654c8ba2-e394-4da2-a935-b80346252bec\",\"type\":\"Circle\"},\"hover_glyph\":null,\"muted_glyph\":null,\"nonselection_glyph\":{\"id\":\"65ad56c9-9b02-419a-9f81-d9a2384e5ada\",\"type\":\"Circle\"},\"selection_glyph\":null,\"view\":{\"id\":\"6bb0cd03-bbe6-41c4-afff-323ff361768d\",\"type\":\"CDSView\"}},\"id\":\"da3f7327-3067-4510-b00f-097e84f3cff3\",\"type\":\"GlyphRenderer\"},{\"attributes\":{\"data_source\":{\"id\":\"7fabdbe2-34cd-45a7-912d-9375a8d362e7\",\"type\":\"ColumnDataSource\"},\"glyph\":{\"id\":\"fc58f8d2-9529-46ad-a712-025413845d06\",\"type\":\"Line\"},\"hover_glyph\":null,\"muted_glyph\":null,\"nonselection_glyph\":{\"id\":\"ce82f17f-a840-4204-bd73-e9d3bd7e3596\",\"type\":\"Line\"},\"selection_glyph\":null,\"view\":{\"id\":\"84f556ad-87fe-4e8d-9bca-de6e44ef959c\",\"type\":\"CDSView\"}},\"id\":\"34d0d895-afad-432e-bb77-f1e657eb2f10\",\"type\":\"GlyphRenderer\"},{\"attributes\":{\"fill_alpha\":{\"value\":0.1},\"fill_color\":{\"value\":\"#1f77b4\"},\"line_alpha\":{\"value\":0.1},\"line_color\":{\"value\":\"#1f77b4\"},\"x\":{\"field\":\"x\"},\"y\":{\"field\":\"y\"}},\"id\":\"985e8e8a-5ba5-430a-9b7b-04ae9e76e5fb\",\"type\":\"Circle\"},{\"attributes\":{\"fill_color\":{\"value\":\"#bcbd22\"},\"line_color\":{\"value\":\"#bcbd22\"},\"x\":{\"field\":\"x\"},\"y\":{\"field\":\"y\"}},\"id\":\"701efccb-9da4-4e61-8f49-8b496fd5395b\",\"type\":\"Circle\"},{\"attributes\":{\"line_alpha\":0.1,\"line_color\":\"#1f77b4\",\"line_dash\":[6],\"x\":{\"field\":\"x\"},\"y\":{\"field\":\"y\"}},\"id\":\"26d178c7-3a33-433c-b976-ea8d2e32521d\",\"type\":\"Line\"},{\"attributes\":{\"line_alpha\":0.1,\"line_color\":\"#1f77b4\",\"line_dash\":[6],\"x\":{\"field\":\"x\"},\"y\":{\"field\":\"y\"}},\"id\":\"b8742d27-752e-46b7-8dcf-6409261c53d4\",\"type\":\"Line\"},{\"attributes\":{\"data_source\":{\"id\":\"7fabdbe2-34cd-45a7-912d-9375a8d362e7\",\"type\":\"ColumnDataSource\"},\"glyph\":{\"id\":\"701efccb-9da4-4e61-8f49-8b496fd5395b\",\"type\":\"Circle\"},\"hover_glyph\":null,\"muted_glyph\":null,\"nonselection_glyph\":{\"id\":\"8c9d402d-e4d4-439a-9e85-e347fb6babb1\",\"type\":\"Circle\"},\"selection_glyph\":null,\"view\":{\"id\":\"21214d0c-fc2b-48f8-82af-99671c550540\",\"type\":\"CDSView\"}},\"id\":\"d4355b86-c52a-480d-af2d-78b6623eed5d\",\"type\":\"GlyphRenderer\"},{\"attributes\":{\"source\":{\"id\":\"f36465e2-f0cc-4821-8240-aca5d1f22ef1\",\"type\":\"ColumnDataSource\"}},\"id\":\"d9c22f1e-2af6-4105-904b-6a30e8589d9e\",\"type\":\"CDSView\"},{\"attributes\":{\"data_source\":{\"id\":\"2ac500ba-6a37-486f-92a7-48d64e953caf\",\"type\":\"ColumnDataSource\"},\"glyph\":{\"id\":\"8e2ef7f0-4c91-4d38-8d9e-ec9d6697fc3c\",\"type\":\"Line\"},\"hover_glyph\":null,\"muted_glyph\":null,\"nonselection_glyph\":{\"id\":\"b8742d27-752e-46b7-8dcf-6409261c53d4\",\"type\":\"Line\"},\"selection_glyph\":null,\"view\":{\"id\":\"7cd10c3d-34b4-4ec3-8341-3394fd898509\",\"type\":\"CDSView\"}},\"id\":\"0ee060f4-84d9-408e-ace9-f90170861001\",\"type\":\"GlyphRenderer\"},{\"attributes\":{\"format\":\"0[.]0 a\"},\"id\":\"f010a7a6-7c67-4e4a-b51d-fa8891f2ba68\",\"type\":\"NumeralTickFormatter\"},{\"attributes\":{\"fill_color\":{\"value\":\"#ff7f0e\"},\"line_color\":{\"value\":\"#ff7f0e\"},\"x\":{\"field\":\"x\"},\"y\":{\"field\":\"y\"}},\"id\":\"a010b8c6-083b-4311-b88e-e3093434ef0a\",\"type\":\"Circle\"},{\"attributes\":{\"fill_alpha\":{\"value\":0.1},\"fill_color\":{\"value\":\"#1f77b4\"},\"line_alpha\":{\"value\":0.1},\"line_color\":{\"value\":\"#1f77b4\"},\"x\":{\"field\":\"x\"},\"y\":{\"field\":\"y\"}},\"id\":\"8c9d402d-e4d4-439a-9e85-e347fb6babb1\",\"type\":\"Circle\"},{\"attributes\":{\"line_color\":\"#ff7f0e\",\"line_dash\":[6],\"x\":{\"field\":\"x\"},\"y\":{\"field\":\"y\"}},\"id\":\"8e2ef7f0-4c91-4d38-8d9e-ec9d6697fc3c\",\"type\":\"Line\"},{\"attributes\":{\"fill_color\":{\"value\":\"#e377c2\"},\"line_color\":{\"value\":\"#e377c2\"},\"x\":{\"field\":\"x\"},\"y\":{\"field\":\"y\"}},\"id\":\"36169041-08a3-4b53-8194-c96a42fe783d\",\"type\":\"Circle\"}],\"root_ids\":[\"4c5d4959-4f1d-4038-ab03-6a7f8449ae88\"]},\"title\":\"Bokeh Application\",\"version\":\"0.12.14\"}};\n",
       "  var render_items = [{\"docid\":\"f7ad82f2-02a7-40eb-9472-02a414358cc8\",\"elementid\":\"fec036f8-2a60-4851-9d28-2ad4b37d1a2b\",\"modelid\":\"4c5d4959-4f1d-4038-ab03-6a7f8449ae88\",\"notebook_comms_target\":\"f6defd04-b560-4d98-ad9e-7f223f804044\"}];\n",
       "  root.Bokeh.embed.embed_items_notebook(docs_json, render_items);\n",
       "\n",
       "  }\n",
       "  if (root.Bokeh !== undefined) {\n",
       "    embed_document(root);\n",
       "  } else {\n",
       "    var attempts = 0;\n",
       "    var timer = setInterval(function(root) {\n",
       "      if (root.Bokeh !== undefined) {\n",
       "        embed_document(root);\n",
       "        clearInterval(timer);\n",
       "      }\n",
       "      attempts++;\n",
       "      if (attempts > 100) {\n",
       "        console.log(\"Bokeh: ERROR: Unable to run BokehJS code because BokehJS library is missing\")\n",
       "        clearInterval(timer);\n",
       "      }\n",
       "    }, 10, root)\n",
       "  }\n",
       "})(window);"
      ],
      "application/vnd.bokehjs_exec.v0+json": ""
     },
     "metadata": {
      "application/vnd.bokehjs_exec.v0+json": {
       "id": "4c5d4959-4f1d-4038-ab03-6a7f8449ae88"
      }
     },
     "output_type": "display_data"
    }
   ],
   "source": [
    "timing_plot(priority_queue)"
   ]
  },
  {
   "cell_type": "code",
   "execution_count": 23,
   "metadata": {
    "slideshow": {
     "slide_type": "slide"
    }
   },
   "outputs": [
    {
     "data": {
      "text/html": [
       "\n",
       "<div class=\"bk-root\">\n",
       "    <div class=\"bk-plotdiv\" id=\"9a2fb69b-1256-4d59-b0ef-8d2eeeb5f8fc\"></div>\n",
       "</div>"
      ]
     },
     "metadata": {},
     "output_type": "display_data"
    },
    {
     "data": {
      "application/javascript": [
       "(function(root) {\n",
       "  function embed_document(root) {\n",
       "    \n",
       "  var docs_json = {\"f52557c8-9d2f-464f-b48b-08b8981ee523\":{\"roots\":{\"references\":[{\"attributes\":{\"data_source\":{\"id\":\"442a70ce-c299-4671-885d-1bf2f262e3f5\",\"type\":\"ColumnDataSource\"},\"glyph\":{\"id\":\"ab86c2cf-bf00-4e6d-a5d8-e43471630a1f\",\"type\":\"Line\"},\"hover_glyph\":null,\"muted_glyph\":null,\"nonselection_glyph\":{\"id\":\"db779cd4-dd3e-4109-82b0-d4f2715b2035\",\"type\":\"Line\"},\"selection_glyph\":null,\"view\":{\"id\":\"5037aef6-1658-4e19-9e66-285de0b0084f\",\"type\":\"CDSView\"}},\"id\":\"a1bebd24-ee76-4dc9-8bd0-f89d99e64cb2\",\"type\":\"GlyphRenderer\"},{\"attributes\":{\"data_source\":{\"id\":\"712f2af2-b305-4e8d-ad47-360550dde6ac\",\"type\":\"ColumnDataSource\"},\"glyph\":{\"id\":\"0875b1d1-995c-4ea6-aa0b-6803bc7ff566\",\"type\":\"Circle\"},\"hover_glyph\":null,\"muted_glyph\":null,\"nonselection_glyph\":{\"id\":\"5dd3cee8-972b-4f1d-b57f-229c428a376d\",\"type\":\"Circle\"},\"selection_glyph\":null,\"view\":{\"id\":\"91ce03e6-8ee5-4b13-932f-dba45196fc31\",\"type\":\"CDSView\"}},\"id\":\"c293081f-9521-45bc-9040-df1bea4a3e0b\",\"type\":\"GlyphRenderer\"},{\"attributes\":{\"data_source\":{\"id\":\"6d59b8f1-5b35-4f79-b508-c4d90626b255\",\"type\":\"ColumnDataSource\"},\"glyph\":{\"id\":\"e5b59fc3-bb25-4b80-ad5c-5eab8f1d6629\",\"type\":\"Line\"},\"hover_glyph\":null,\"muted_glyph\":null,\"nonselection_glyph\":{\"id\":\"40275005-136c-4b06-a946-9d34fb8a8c9f\",\"type\":\"Line\"},\"selection_glyph\":null,\"view\":{\"id\":\"d2edd343-fbe5-4f55-9ade-655ba9b359d3\",\"type\":\"CDSView\"}},\"id\":\"80396efd-e560-4d54-9831-0c0315a84536\",\"type\":\"GlyphRenderer\"},{\"attributes\":{\"source\":{\"id\":\"712f2af2-b305-4e8d-ad47-360550dde6ac\",\"type\":\"ColumnDataSource\"}},\"id\":\"91ce03e6-8ee5-4b13-932f-dba45196fc31\",\"type\":\"CDSView\"},{\"attributes\":{\"callback\":null,\"column_names\":[\"x\",\"y\"],\"data\":{\"x\":[1,2,5,10,20,50,100,200,500,1000,2000,5000],\"y\":[1.4319084584712982e-06,2.3900065571069717e-06,5.2889809012413025e-06,1.3441778719425201e-05,4.3275998905301094e-05,0.00022354512475430965,0.0009551611728966236,0.005093520972877741,0.0360875460319221,0.16740669403225183,0.6574779360089451,4.291011564899236]}},\"id\":\"712f2af2-b305-4e8d-ad47-360550dde6ac\",\"type\":\"ColumnDataSource\"},{\"attributes\":{\"label\":{\"value\":\"only_odd\"},\"renderers\":[{\"id\":\"80396efd-e560-4d54-9831-0c0315a84536\",\"type\":\"GlyphRenderer\"},{\"id\":\"c293081f-9521-45bc-9040-df1bea4a3e0b\",\"type\":\"GlyphRenderer\"}]},\"id\":\"45a2fa1f-a379-4f96-87d7-0710110d5f7b\",\"type\":\"LegendItem\"},{\"attributes\":{\"source\":{\"id\":\"6d59b8f1-5b35-4f79-b508-c4d90626b255\",\"type\":\"ColumnDataSource\"}},\"id\":\"d2edd343-fbe5-4f55-9ade-655ba9b359d3\",\"type\":\"CDSView\"},{\"attributes\":{\"source\":{\"id\":\"442a70ce-c299-4671-885d-1bf2f262e3f5\",\"type\":\"ColumnDataSource\"}},\"id\":\"5037aef6-1658-4e19-9e66-285de0b0084f\",\"type\":\"CDSView\"},{\"attributes\":{\"fill_color\":{\"value\":\"#1f77b4\"},\"line_color\":{\"value\":\"#1f77b4\"},\"x\":{\"field\":\"x\"},\"y\":{\"field\":\"y\"}},\"id\":\"e640626f-a0e7-4a50-be41-b3e7b08f4763\",\"type\":\"Circle\"},{\"attributes\":{\"label\":{\"value\":\"check_primes\"},\"renderers\":[{\"id\":\"a1bebd24-ee76-4dc9-8bd0-f89d99e64cb2\",\"type\":\"GlyphRenderer\"},{\"id\":\"ce3f1ea6-f93a-4c8f-b719-c5047d1fe00e\",\"type\":\"GlyphRenderer\"}]},\"id\":\"584dc201-8a95-4bec-a795-6a69e18f71d6\",\"type\":\"LegendItem\"},{\"attributes\":{\"callback\":null,\"column_names\":[\"x\",\"y\"],\"data\":{\"x\":[1,2,5,10,20,50,100,200,500,1000,2000,5000,10000],\"y\":[1.0139774531126022e-06,1.3730023056268692e-06,2.58604995906353e-06,5.44707290828228e-06,1.5757977962493896e-05,7.756706327199936e-05,0.00028013112023472786,0.001088918186724186,0.00725925387814641,0.031019693007692695,0.13349225302226841,0.7455389390233904,3.107478972990066]}},\"id\":\"442a70ce-c299-4671-885d-1bf2f262e3f5\",\"type\":\"ColumnDataSource\"},{\"attributes\":{\"source\":{\"id\":\"c3829efd-4ae3-4a9f-a548-f21d00d6bca9\",\"type\":\"ColumnDataSource\"}},\"id\":\"94c2393b-4fbb-4094-8a79-7c2d4ccbd208\",\"type\":\"CDSView\"},{\"attributes\":{\"callback\":null,\"column_names\":[\"x\",\"y\"],\"data\":{\"x\":[1,2,5,10,20,50,100,200,500,1000,2000,5000,10000,20000,50000,100000],\"y\":[1.2891832739114761e-06,1.8130522221326828e-06,3.261025995016098e-06,6.554881110787392e-06,1.7058104276657104e-05,5.391007289290428e-05,0.00014810916036367416,0.0004937269259244204,0.001433278899639845,0.003815744072198868,0.010338949039578438,0.03980604512616992,0.10124637698754668,0.20987048209644854,0.7688391590490937,2.1385415359400213]}},\"id\":\"38a8fa3d-7762-4ca5-9f01-bb6260a2f7b7\",\"type\":\"ColumnDataSource\"},{\"attributes\":{\"callback\":null,\"column_names\":[\"x\",\"y\"],\"data\":{\"x\":[1,2,5,10,20,50,100,200,500,1000,2000,5000,10000],\"y\":[1.0139774531126022e-06,1.3730023056268692e-06,2.58604995906353e-06,5.44707290828228e-06,1.5757977962493896e-05,7.756706327199936e-05,0.00028013112023472786,0.001088918186724186,0.00725925387814641,0.031019693007692695,0.13349225302226841,0.7455389390233904,3.107478972990066]}},\"id\":\"426d7e0f-272d-4cb3-af24-42f712cf4a3a\",\"type\":\"ColumnDataSource\"},{\"attributes\":{\"fill_alpha\":{\"value\":0.1},\"fill_color\":{\"value\":\"#1f77b4\"},\"line_alpha\":{\"value\":0.1},\"line_color\":{\"value\":\"#1f77b4\"},\"x\":{\"field\":\"x\"},\"y\":{\"field\":\"y\"}},\"id\":\"3c610951-ba98-41f4-b142-9f6f2ddc6b2c\",\"type\":\"Circle\"},{\"attributes\":{\"callback\":null,\"column_names\":[\"x\",\"y\"],\"data\":{\"x\":[1,2,5,10,20,50,100,200,500,1000,2000,5000,10000,20000,50000,100000],\"y\":[1.317821443080902e-06,1.5390105545520782e-06,4.13600355386734e-06,1.0979129001498222e-05,2.85319983959198e-05,9.939400479197502e-05,0.0003173309378325939,0.0008481529075652361,0.003156777936965227,0.007404649863019586,0.019058345817029476,0.0697223290335387,0.09744404093362391,0.21326777595095336,0.7449905530083925,1.7664531648624688]}},\"id\":\"424ae71e-b6bc-4a4d-b126-47b33153f8e1\",\"type\":\"ColumnDataSource\"},{\"attributes\":{\"fill_color\":{\"value\":\"#d62728\"},\"line_color\":{\"value\":\"#d62728\"},\"x\":{\"field\":\"x\"},\"y\":{\"field\":\"y\"}},\"id\":\"1ab1783f-5131-4a11-b7d5-bff30b0bfc16\",\"type\":\"Circle\"},{\"attributes\":{\"callback\":null,\"column_names\":[\"x\",\"y\"],\"data\":{\"x\":[1,2,5,10,20,50,100,200,500,1000,2000,5000,10000,20000,50000,100000],\"y\":[1.2891832739114761e-06,1.8130522221326828e-06,3.261025995016098e-06,6.554881110787392e-06,1.7058104276657104e-05,5.391007289290428e-05,0.00014810916036367416,0.0004937269259244204,0.001433278899639845,0.003815744072198868,0.010338949039578438,0.03980604512616992,0.10124637698754668,0.20987048209644854,0.7688391590490937,2.1385415359400213]}},\"id\":\"7ebdffdb-fd18-4331-8ce4-a21fadaaba71\",\"type\":\"ColumnDataSource\"},{\"attributes\":{\"source\":{\"id\":\"86be56d8-4b04-400b-9de9-78b799ee669b\",\"type\":\"ColumnDataSource\"}},\"id\":\"651d1141-26fc-40b9-9663-84e3a3d2eda3\",\"type\":\"CDSView\"},{\"attributes\":{\"data_source\":{\"id\":\"426d7e0f-272d-4cb3-af24-42f712cf4a3a\",\"type\":\"ColumnDataSource\"},\"glyph\":{\"id\":\"1ab1783f-5131-4a11-b7d5-bff30b0bfc16\",\"type\":\"Circle\"},\"hover_glyph\":null,\"muted_glyph\":null,\"nonselection_glyph\":{\"id\":\"3c610951-ba98-41f4-b142-9f6f2ddc6b2c\",\"type\":\"Circle\"},\"selection_glyph\":null,\"view\":{\"id\":\"d3bb5d24-e852-42f5-9779-8077bc5a37dd\",\"type\":\"CDSView\"}},\"id\":\"ce3f1ea6-f93a-4c8f-b719-c5047d1fe00e\",\"type\":\"GlyphRenderer\"},{\"attributes\":{\"source\":{\"id\":\"426d7e0f-272d-4cb3-af24-42f712cf4a3a\",\"type\":\"ColumnDataSource\"}},\"id\":\"d3bb5d24-e852-42f5-9779-8077bc5a37dd\",\"type\":\"CDSView\"},{\"attributes\":{\"label\":{\"value\":\"check_primes_sqrt\"},\"renderers\":[{\"id\":\"99ea61be-81bf-449d-9272-e07f9af92702\",\"type\":\"GlyphRenderer\"},{\"id\":\"d42c455e-8426-4fe2-ad56-17dca68e6ca1\",\"type\":\"GlyphRenderer\"}]},\"id\":\"ac85e61c-f6db-4b31-8e18-1cf35084ea99\",\"type\":\"LegendItem\"},{\"attributes\":{\"source\":{\"id\":\"7ebdffdb-fd18-4331-8ce4-a21fadaaba71\",\"type\":\"ColumnDataSource\"}},\"id\":\"a2727a7c-3239-4136-a2b4-9f287b6dcb5e\",\"type\":\"CDSView\"},{\"attributes\":{\"line_alpha\":0.1,\"line_color\":\"#1f77b4\",\"line_dash\":[6],\"x\":{\"field\":\"x\"},\"y\":{\"field\":\"y\"}},\"id\":\"66cedefe-f277-46c0-93d9-df873fbed125\",\"type\":\"Line\"},{\"attributes\":{\"data_source\":{\"id\":\"7ebdffdb-fd18-4331-8ce4-a21fadaaba71\",\"type\":\"ColumnDataSource\"},\"glyph\":{\"id\":\"0c7c31c1-4879-4648-b3eb-79ffa8350fdc\",\"type\":\"Line\"},\"hover_glyph\":null,\"muted_glyph\":null,\"nonselection_glyph\":{\"id\":\"66cedefe-f277-46c0-93d9-df873fbed125\",\"type\":\"Line\"},\"selection_glyph\":null,\"view\":{\"id\":\"a2727a7c-3239-4136-a2b4-9f287b6dcb5e\",\"type\":\"CDSView\"}},\"id\":\"99ea61be-81bf-449d-9272-e07f9af92702\",\"type\":\"GlyphRenderer\"},{\"attributes\":{\"line_color\":\"#9467bd\",\"line_dash\":[6],\"x\":{\"field\":\"x\"},\"y\":{\"field\":\"y\"}},\"id\":\"0c7c31c1-4879-4648-b3eb-79ffa8350fdc\",\"type\":\"Line\"},{\"attributes\":{\"source\":{\"id\":\"d6fe1a79-a4f6-4c62-94e3-757fa9a0dbab\",\"type\":\"ColumnDataSource\"}},\"id\":\"be564905-f8fc-4bd9-af02-a8837b1e794a\",\"type\":\"CDSView\"},{\"attributes\":{\"data_source\":{\"id\":\"38a8fa3d-7762-4ca5-9f01-bb6260a2f7b7\",\"type\":\"ColumnDataSource\"},\"glyph\":{\"id\":\"53789454-35a1-4ea5-9542-15e075bac6fc\",\"type\":\"Circle\"},\"hover_glyph\":null,\"muted_glyph\":null,\"nonselection_glyph\":{\"id\":\"d97e589d-ced0-46ca-abe2-291bf6cdc114\",\"type\":\"Circle\"},\"selection_glyph\":null,\"view\":{\"id\":\"7f7d4b8d-3038-482d-8f30-ee47020788e8\",\"type\":\"CDSView\"}},\"id\":\"d42c455e-8426-4fe2-ad56-17dca68e6ca1\",\"type\":\"GlyphRenderer\"},{\"attributes\":{\"line_alpha\":0.1,\"line_color\":\"#1f77b4\",\"line_dash\":[6],\"x\":{\"field\":\"x\"},\"y\":{\"field\":\"y\"}},\"id\":\"e03dcf5d-1ab6-44c5-b77a-3b1aec6bcaee\",\"type\":\"Line\"},{\"attributes\":{\"callback\":null,\"column_names\":[\"x\",\"y\"],\"data\":{\"x\":[1,2,5,10,20,50,100,200,500,1000,2000,5000,10000,20000,50000],\"y\":[1.3171229511499405e-06,2.8780195862054825e-06,6.7069195210933685e-06,1.4960067346692085e-05,5.4510077461600304e-05,0.00012037507258355618,0.0003023201134055853,0.0007400668691843748,0.002520353067666292,0.00632662489078939,0.01610450493171811,0.05177717702463269,0.1080278200097382,0.29799197404645383,1.25529725686647]}},\"id\":\"ad4c3a1a-36a7-4e88-8df2-732c60f9f1f8\",\"type\":\"ColumnDataSource\"},{\"attributes\":{\"fill_alpha\":{\"value\":0.1},\"fill_color\":{\"value\":\"#1f77b4\"},\"line_alpha\":{\"value\":0.1},\"line_color\":{\"value\":\"#1f77b4\"},\"x\":{\"field\":\"x\"},\"y\":{\"field\":\"y\"}},\"id\":\"d97e589d-ced0-46ca-abe2-291bf6cdc114\",\"type\":\"Circle\"},{\"attributes\":{\"fill_alpha\":{\"value\":0.1},\"fill_color\":{\"value\":\"#1f77b4\"},\"line_alpha\":{\"value\":0.1},\"line_color\":{\"value\":\"#1f77b4\"},\"x\":{\"field\":\"x\"},\"y\":{\"field\":\"y\"}},\"id\":\"238c8cef-a592-4a64-89da-9beee9286405\",\"type\":\"Circle\"},{\"attributes\":{\"line_alpha\":0.1,\"line_color\":\"#1f77b4\",\"line_dash\":[6],\"x\":{\"field\":\"x\"},\"y\":{\"field\":\"y\"}},\"id\":\"db779cd4-dd3e-4109-82b0-d4f2715b2035\",\"type\":\"Line\"},{\"attributes\":{\"fill_color\":{\"value\":\"#9467bd\"},\"line_color\":{\"value\":\"#9467bd\"},\"x\":{\"field\":\"x\"},\"y\":{\"field\":\"y\"}},\"id\":\"53789454-35a1-4ea5-9542-15e075bac6fc\",\"type\":\"Circle\"},{\"attributes\":{\"callback\":null,\"column_names\":[\"x\",\"y\"],\"data\":{\"x\":[1,2,5,10,20,50,100,200,500,1000,2000,5000,10000,20000,50000,100000,200000,500000],\"y\":[1.7101410776376724e-06,2.234010025858879e-06,3.5860575735569e-06,6.612855941057205e-06,1.219194382429123e-05,3.108987584710121e-05,7.33579508960247e-05,0.00016477005556225777,0.0004884249065071344,0.0011219209991395473,0.0026673900429159403,0.0077997660264372826,0.018545425962656736,0.04026325396262109,0.08585646585561335,0.23042701720260084,0.4798019640147686,1.3214226090349257]}},\"id\":\"e38cc83a-db2a-4503-b4b3-aa0b79d3ddcd\",\"type\":\"ColumnDataSource\"},{\"attributes\":{\"callback\":null,\"column_names\":[\"x\",\"y\"],\"data\":{\"x\":[],\"y\":[]}},\"id\":\"86be56d8-4b04-400b-9de9-78b799ee669b\",\"type\":\"ColumnDataSource\"},{\"attributes\":{\"data_source\":{\"id\":\"ad4c3a1a-36a7-4e88-8df2-732c60f9f1f8\",\"type\":\"ColumnDataSource\"},\"glyph\":{\"id\":\"c2f05a80-b59c-4cc7-bfe7-bda263933019\",\"type\":\"Line\"},\"hover_glyph\":null,\"muted_glyph\":null,\"nonselection_glyph\":{\"id\":\"e03dcf5d-1ab6-44c5-b77a-3b1aec6bcaee\",\"type\":\"Line\"},\"selection_glyph\":null,\"view\":{\"id\":\"bdf41a28-8de6-4464-9b78-8d6e91b8ba0f\",\"type\":\"CDSView\"}},\"id\":\"e7dfb269-6220-4d5a-938e-934581280242\",\"type\":\"GlyphRenderer\"},{\"attributes\":{\"source\":{\"id\":\"38a8fa3d-7762-4ca5-9f01-bb6260a2f7b7\",\"type\":\"ColumnDataSource\"}},\"id\":\"7f7d4b8d-3038-482d-8f30-ee47020788e8\",\"type\":\"CDSView\"},{\"attributes\":{\"data_source\":{\"id\":\"d6fe1a79-a4f6-4c62-94e3-757fa9a0dbab\",\"type\":\"ColumnDataSource\"},\"glyph\":{\"id\":\"b23d6de8-d079-43e4-b904-d5f7177e890c\",\"type\":\"Circle\"},\"hover_glyph\":null,\"muted_glyph\":null,\"nonselection_glyph\":{\"id\":\"238c8cef-a592-4a64-89da-9beee9286405\",\"type\":\"Circle\"},\"selection_glyph\":null,\"view\":{\"id\":\"be564905-f8fc-4bd9-af02-a8837b1e794a\",\"type\":\"CDSView\"}},\"id\":\"f458e3d7-b243-4af7-a9fd-7c1551da9dfd\",\"type\":\"GlyphRenderer\"},{\"attributes\":{\"label\":{\"value\":\"to_sqrt\"},\"renderers\":[{\"id\":\"e7dfb269-6220-4d5a-938e-934581280242\",\"type\":\"GlyphRenderer\"},{\"id\":\"111c207b-9886-4ebb-b799-4bfd8ed8819c\",\"type\":\"GlyphRenderer\"}]},\"id\":\"81877a3d-6678-47bd-bac3-49bbcbf465b7\",\"type\":\"LegendItem\"},{\"attributes\":{\"source\":{\"id\":\"e38cc83a-db2a-4503-b4b3-aa0b79d3ddcd\",\"type\":\"ColumnDataSource\"}},\"id\":\"545d55b4-e234-4620-a980-d94789e9c6d8\",\"type\":\"CDSView\"},{\"attributes\":{\"line_color\":\"#2ca02c\",\"line_dash\":[6],\"x\":{\"field\":\"x\"},\"y\":{\"field\":\"y\"}},\"id\":\"c2f05a80-b59c-4cc7-bfe7-bda263933019\",\"type\":\"Line\"},{\"attributes\":{\"line_alpha\":0.1,\"line_color\":\"#1f77b4\",\"line_dash\":[6],\"x\":{\"field\":\"x\"},\"y\":{\"field\":\"y\"}},\"id\":\"58157a91-750a-4581-aa0b-aff65740eb1c\",\"type\":\"Line\"},{\"attributes\":{\"data_source\":{\"id\":\"e38cc83a-db2a-4503-b4b3-aa0b79d3ddcd\",\"type\":\"ColumnDataSource\"},\"glyph\":{\"id\":\"e9bc4ec7-940a-42e7-8151-ff872ff90cc3\",\"type\":\"Line\"},\"hover_glyph\":null,\"muted_glyph\":null,\"nonselection_glyph\":{\"id\":\"58157a91-750a-4581-aa0b-aff65740eb1c\",\"type\":\"Line\"},\"selection_glyph\":null,\"view\":{\"id\":\"545d55b4-e234-4620-a980-d94789e9c6d8\",\"type\":\"CDSView\"}},\"id\":\"80610937-ea9b-4cda-9239-f5a9e6e603a5\",\"type\":\"GlyphRenderer\"},{\"attributes\":{\"source\":{\"id\":\"ad4c3a1a-36a7-4e88-8df2-732c60f9f1f8\",\"type\":\"ColumnDataSource\"}},\"id\":\"bdf41a28-8de6-4464-9b78-8d6e91b8ba0f\",\"type\":\"CDSView\"},{\"attributes\":{\"callback\":null,\"column_names\":[\"x\",\"y\"],\"data\":{\"x\":[1,2,5,10,20,50,100,200,500,1000,2000,5000,10000,20000,50000],\"y\":[1.3171229511499405e-06,2.8780195862054825e-06,6.7069195210933685e-06,1.4960067346692085e-05,5.4510077461600304e-05,0.00012037507258355618,0.0003023201134055853,0.0007400668691843748,0.002520353067666292,0.00632662489078939,0.01610450493171811,0.05177717702463269,0.1080278200097382,0.29799197404645383,1.25529725686647]}},\"id\":\"c3829efd-4ae3-4a9f-a548-f21d00d6bca9\",\"type\":\"ColumnDataSource\"},{\"attributes\":{\"line_color\":\"#8c564b\",\"line_dash\":[6],\"x\":{\"field\":\"x\"},\"y\":{\"field\":\"y\"}},\"id\":\"e9bc4ec7-940a-42e7-8151-ff872ff90cc3\",\"type\":\"Line\"},{\"attributes\":{\"data_source\":{\"id\":\"c3829efd-4ae3-4a9f-a548-f21d00d6bca9\",\"type\":\"ColumnDataSource\"},\"glyph\":{\"id\":\"0e87236a-18fc-4c9c-ad85-12b86176d7aa\",\"type\":\"Circle\"},\"hover_glyph\":null,\"muted_glyph\":null,\"nonselection_glyph\":{\"id\":\"f2c101c2-ac2f-4fd5-9dc7-ca6b0fc748f6\",\"type\":\"Circle\"},\"selection_glyph\":null,\"view\":{\"id\":\"94c2393b-4fbb-4094-8a79-7c2d4ccbd208\",\"type\":\"CDSView\"}},\"id\":\"111c207b-9886-4ebb-b799-4bfd8ed8819c\",\"type\":\"GlyphRenderer\"},{\"attributes\":{\"label\":{\"value\":\"unbounded_sieve\"},\"renderers\":[{\"id\":\"68d24a2c-5434-4894-8324-433f38f7c9a9\",\"type\":\"GlyphRenderer\"},{\"id\":\"59c11368-6b1e-4ef0-8350-b8cc1845d918\",\"type\":\"GlyphRenderer\"}]},\"id\":\"2699db61-b5a0-42f8-bee3-be3c462d66b1\",\"type\":\"LegendItem\"},{\"attributes\":{\"fill_color\":{\"value\":\"#8c564b\"},\"line_color\":{\"value\":\"#8c564b\"},\"x\":{\"field\":\"x\"},\"y\":{\"field\":\"y\"}},\"id\":\"b23d6de8-d079-43e4-b904-d5f7177e890c\",\"type\":\"Circle\"},{\"attributes\":{\"source\":{\"id\":\"424ae71e-b6bc-4a4d-b126-47b33153f8e1\",\"type\":\"ColumnDataSource\"}},\"id\":\"7e71b91a-0721-4df0-8245-c9ec18ad6d8e\",\"type\":\"CDSView\"},{\"attributes\":{\"label\":{\"value\":\"sieve\"},\"renderers\":[{\"id\":\"80610937-ea9b-4cda-9239-f5a9e6e603a5\",\"type\":\"GlyphRenderer\"},{\"id\":\"f458e3d7-b243-4af7-a9fd-7c1551da9dfd\",\"type\":\"GlyphRenderer\"}]},\"id\":\"865f20ad-691d-4bfc-a996-238d9d193b00\",\"type\":\"LegendItem\"},{\"attributes\":{\"line_alpha\":0.1,\"line_color\":\"#1f77b4\",\"line_dash\":[6],\"x\":{\"field\":\"x\"},\"y\":{\"field\":\"y\"}},\"id\":\"db0d7915-3d2c-411a-9f71-1b79418764e4\",\"type\":\"Line\"},{\"attributes\":{\"data_source\":{\"id\":\"424ae71e-b6bc-4a4d-b126-47b33153f8e1\",\"type\":\"ColumnDataSource\"},\"glyph\":{\"id\":\"c64fed98-18e4-44c4-8044-a48e6a726b27\",\"type\":\"Line\"},\"hover_glyph\":null,\"muted_glyph\":null,\"nonselection_glyph\":{\"id\":\"db0d7915-3d2c-411a-9f71-1b79418764e4\",\"type\":\"Line\"},\"selection_glyph\":null,\"view\":{\"id\":\"7e71b91a-0721-4df0-8245-c9ec18ad6d8e\",\"type\":\"CDSView\"}},\"id\":\"68d24a2c-5434-4894-8324-433f38f7c9a9\",\"type\":\"GlyphRenderer\"},{\"attributes\":{\"callback\":null,\"start\":1e-06},\"id\":\"e622b99f-2955-4cbb-8334-93aaab03ab56\",\"type\":\"Range1d\"},{\"attributes\":{\"fill_alpha\":{\"value\":0.1},\"fill_color\":{\"value\":\"#1f77b4\"},\"line_alpha\":{\"value\":0.1},\"line_color\":{\"value\":\"#1f77b4\"},\"x\":{\"field\":\"x\"},\"y\":{\"field\":\"y\"}},\"id\":\"f2c101c2-ac2f-4fd5-9dc7-ca6b0fc748f6\",\"type\":\"Circle\"},{\"attributes\":{\"callback\":null,\"start\":1},\"id\":\"c4d3f2b3-26c4-48b9-9ad5-838a4b607280\",\"type\":\"DataRange1d\"},{\"attributes\":{\"line_color\":\"#e377c2\",\"line_dash\":[6],\"x\":{\"field\":\"x\"},\"y\":{\"field\":\"y\"}},\"id\":\"c64fed98-18e4-44c4-8044-a48e6a726b27\",\"type\":\"Line\"},{\"attributes\":{\"fill_color\":{\"value\":\"#ff7f0e\"},\"line_color\":{\"value\":\"#ff7f0e\"},\"x\":{\"field\":\"x\"},\"y\":{\"field\":\"y\"}},\"id\":\"0875b1d1-995c-4ea6-aa0b-6803bc7ff566\",\"type\":\"Circle\"},{\"attributes\":{\"callback\":null,\"column_names\":[\"x\",\"y\"],\"data\":{\"x\":[1,2,5,10,20,50,100,200,500,1000,2000,5000,10000,20000,50000,100000],\"y\":[1.317821443080902e-06,1.5390105545520782e-06,4.13600355386734e-06,1.0979129001498222e-05,2.85319983959198e-05,9.939400479197502e-05,0.0003173309378325939,0.0008481529075652361,0.003156777936965227,0.007404649863019586,0.019058345817029476,0.0697223290335387,0.09744404093362391,0.21326777595095336,0.7449905530083925,1.7664531648624688]}},\"id\":\"44033178-17d6-4538-b1f4-0d04f4b43492\",\"type\":\"ColumnDataSource\"},{\"attributes\":{\"below\":[{\"id\":\"f35f5fbd-abd9-46b0-b86d-2309a92cd635\",\"type\":\"LogAxis\"}],\"left\":[{\"id\":\"a024a784-fbef-4614-b773-9d67ab70f2f8\",\"type\":\"LogAxis\"}],\"plot_height\":400,\"plot_width\":800,\"renderers\":[{\"id\":\"f35f5fbd-abd9-46b0-b86d-2309a92cd635\",\"type\":\"LogAxis\"},{\"id\":\"a1f7d3e9-0971-491d-ad6f-0ec05dce23ed\",\"type\":\"Grid\"},{\"id\":\"a024a784-fbef-4614-b773-9d67ab70f2f8\",\"type\":\"LogAxis\"},{\"id\":\"2be7ce5d-a0c0-4ad8-92c0-7179dd6158a5\",\"type\":\"Grid\"},{\"id\":\"8bd417a2-f62c-4d85-9ee0-e3efc58bf2a1\",\"type\":\"BoxAnnotation\"},{\"id\":\"041def32-ecfb-4e33-a060-4abb2ea3841c\",\"type\":\"Legend\"},{\"id\":\"4a6c321b-87b8-4f28-89ab-135dfe72e318\",\"type\":\"GlyphRenderer\"},{\"id\":\"5fa53ed5-f238-4902-a28f-94fd855433d4\",\"type\":\"GlyphRenderer\"},{\"id\":\"80396efd-e560-4d54-9831-0c0315a84536\",\"type\":\"GlyphRenderer\"},{\"id\":\"c293081f-9521-45bc-9040-df1bea4a3e0b\",\"type\":\"GlyphRenderer\"},{\"id\":\"e7dfb269-6220-4d5a-938e-934581280242\",\"type\":\"GlyphRenderer\"},{\"id\":\"111c207b-9886-4ebb-b799-4bfd8ed8819c\",\"type\":\"GlyphRenderer\"},{\"id\":\"a1bebd24-ee76-4dc9-8bd0-f89d99e64cb2\",\"type\":\"GlyphRenderer\"},{\"id\":\"ce3f1ea6-f93a-4c8f-b719-c5047d1fe00e\",\"type\":\"GlyphRenderer\"},{\"id\":\"99ea61be-81bf-449d-9272-e07f9af92702\",\"type\":\"GlyphRenderer\"},{\"id\":\"d42c455e-8426-4fe2-ad56-17dca68e6ca1\",\"type\":\"GlyphRenderer\"},{\"id\":\"80610937-ea9b-4cda-9239-f5a9e6e603a5\",\"type\":\"GlyphRenderer\"},{\"id\":\"f458e3d7-b243-4af7-a9fd-7c1551da9dfd\",\"type\":\"GlyphRenderer\"},{\"id\":\"68d24a2c-5434-4894-8324-433f38f7c9a9\",\"type\":\"GlyphRenderer\"},{\"id\":\"59c11368-6b1e-4ef0-8350-b8cc1845d918\",\"type\":\"GlyphRenderer\"},{\"id\":\"a23e7332-61bf-4841-94cd-49748a9ce40d\",\"type\":\"GlyphRenderer\"},{\"id\":\"f027bfab-383b-4a5d-ba81-22f95d7bd4bb\",\"type\":\"GlyphRenderer\"},{\"id\":\"525e8ed6-9c1b-4d64-b549-f4afc0f777fc\",\"type\":\"GlyphRenderer\"},{\"id\":\"47a9868b-e8d6-47d3-bd73-c32383d95c6f\",\"type\":\"GlyphRenderer\"},{\"id\":\"1a0ddd23-9b97-4726-846b-8ce86aaa8d61\",\"type\":\"GlyphRenderer\"},{\"id\":\"99366281-0338-4850-9c6c-b93f13e4166c\",\"type\":\"GlyphRenderer\"}],\"title\":{\"id\":\"1c355f93-1a2b-4978-8522-2209b2e6b99b\",\"type\":\"Title\"},\"toolbar\":{\"id\":\"ddac417c-cdd4-4414-a21b-474863957dd0\",\"type\":\"Toolbar\"},\"toolbar_location\":\"above\",\"x_range\":{\"id\":\"c4d3f2b3-26c4-48b9-9ad5-838a4b607280\",\"type\":\"DataRange1d\"},\"x_scale\":{\"id\":\"3b41bc5d-0c6d-4ebb-897a-1e230ba622cf\",\"type\":\"LogScale\"},\"y_range\":{\"id\":\"e622b99f-2955-4cbb-8334-93aaab03ab56\",\"type\":\"Range1d\"},\"y_scale\":{\"id\":\"846d06c8-0809-4b1c-a282-689fb7be7db2\",\"type\":\"LogScale\"}},\"id\":\"8ef492f9-c8b5-4c85-a054-5c722e685fe7\",\"subtype\":\"Figure\",\"type\":\"Plot\"},{\"attributes\":{\"line_color\":\"#17becf\",\"x\":{\"field\":\"x\"},\"y\":{\"field\":\"y\"}},\"id\":\"325483dc-7f76-4b94-ba72-f9cc0b1a08cb\",\"type\":\"Line\"},{\"attributes\":{\"line_alpha\":0.1,\"line_color\":\"#1f77b4\",\"line_dash\":[6],\"x\":{\"field\":\"x\"},\"y\":{\"field\":\"y\"}},\"id\":\"6371d939-5ffc-4e68-9612-ad1aad7ff985\",\"type\":\"Line\"},{\"attributes\":{\"data_source\":{\"id\":\"44033178-17d6-4538-b1f4-0d04f4b43492\",\"type\":\"ColumnDataSource\"},\"glyph\":{\"id\":\"9f5cb46d-150a-49bd-a8a4-52f4700324f4\",\"type\":\"Circle\"},\"hover_glyph\":null,\"muted_glyph\":null,\"nonselection_glyph\":{\"id\":\"cc9dbd97-4550-4ed0-9f2f-b1572381fcf1\",\"type\":\"Circle\"},\"selection_glyph\":null,\"view\":{\"id\":\"5cd51849-c69a-41b3-a280-f80c35925ccc\",\"type\":\"CDSView\"}},\"id\":\"59c11368-6b1e-4ef0-8350-b8cc1845d918\",\"type\":\"GlyphRenderer\"},{\"attributes\":{\"plot\":null,\"text\":\"Timing\"},\"id\":\"1c355f93-1a2b-4978-8522-2209b2e6b99b\",\"type\":\"Title\"},{\"attributes\":{\"fill_alpha\":{\"value\":0.1},\"fill_color\":{\"value\":\"#1f77b4\"},\"line_alpha\":{\"value\":0.1},\"line_color\":{\"value\":\"#1f77b4\"},\"x\":{\"field\":\"x\"},\"y\":{\"field\":\"y\"}},\"id\":\"cc9dbd97-4550-4ed0-9f2f-b1572381fcf1\",\"type\":\"Circle\"},{\"attributes\":{\"active_drag\":\"auto\",\"active_inspect\":\"auto\",\"active_scroll\":\"auto\",\"active_tap\":\"auto\",\"tools\":[{\"id\":\"0af20ba9-589d-4025-9065-52cdcc9d3f9a\",\"type\":\"PanTool\"},{\"id\":\"65f8d50f-0008-49a4-9870-10e2adb6de5f\",\"type\":\"WheelZoomTool\"},{\"id\":\"5dba53de-608f-4cc9-8daa-b133d28ccec6\",\"type\":\"BoxZoomTool\"},{\"id\":\"f95b282e-b3d3-4b8e-ae9b-630fe869aef1\",\"type\":\"SaveTool\"},{\"id\":\"fd9e206a-ca0a-406e-ae23-d5b2824181d1\",\"type\":\"ResetTool\"},{\"id\":\"4e75b0d2-5f8d-40bd-908c-d018a50bde22\",\"type\":\"HelpTool\"}]},\"id\":\"ddac417c-cdd4-4414-a21b-474863957dd0\",\"type\":\"Toolbar\"},{\"attributes\":{\"source\":{\"id\":\"86be56d8-4b04-400b-9de9-78b799ee669b\",\"type\":\"ColumnDataSource\"}},\"id\":\"03c1d247-3253-448d-8fb9-b894c6849a1c\",\"type\":\"CDSView\"},{\"attributes\":{\"fill_color\":{\"value\":\"#e377c2\"},\"line_color\":{\"value\":\"#e377c2\"},\"x\":{\"field\":\"x\"},\"y\":{\"field\":\"y\"}},\"id\":\"9f5cb46d-150a-49bd-a8a4-52f4700324f4\",\"type\":\"Circle\"},{\"attributes\":{\"plot\":{\"id\":\"8ef492f9-c8b5-4c85-a054-5c722e685fe7\",\"subtype\":\"Figure\",\"type\":\"Plot\"},\"ticker\":{\"id\":\"8e90a219-4188-49d2-8fb5-685fb3301e17\",\"type\":\"LogTicker\"}},\"id\":\"a1f7d3e9-0971-491d-ad6f-0ec05dce23ed\",\"type\":\"Grid\"},{\"attributes\":{\"callback\":null,\"column_names\":[\"x\",\"y\"],\"data\":{\"x\":[1,2,5,10,20,50,100,200,500,1000,2000,5000,10000,20000,50000,100000,200000],\"y\":[1.2458767741918564e-06,1.8849968910217285e-06,3.3779069781303406e-06,7.822876796126366e-06,1.7695827409625053e-05,5.989987403154373e-05,0.00016487506218254566,0.00039862794801592827,0.0012787249870598316,0.0029056628700345755,0.006854115054011345,0.022181850858032703,0.0504222740419209,0.10669688507914543,0.23477714508771896,0.5650034809950739,1.1920020659454167]}},\"id\":\"0ec91cf0-ee37-4818-8f20-7d50ad149fcf\",\"type\":\"ColumnDataSource\"},{\"attributes\":{\"num_minor_ticks\":10},\"id\":\"dc692307-0a35-407a-87d6-a59c9e7be652\",\"type\":\"LogTicker\"},{\"attributes\":{\"source\":{\"id\":\"44033178-17d6-4538-b1f4-0d04f4b43492\",\"type\":\"ColumnDataSource\"}},\"id\":\"5cd51849-c69a-41b3-a280-f80c35925ccc\",\"type\":\"CDSView\"},{\"attributes\":{\"num_minor_ticks\":10},\"id\":\"8e90a219-4188-49d2-8fb5-685fb3301e17\",\"type\":\"LogTicker\"},{\"attributes\":{\"label\":{\"value\":\"improved_sieve\"},\"renderers\":[{\"id\":\"a23e7332-61bf-4841-94cd-49748a9ce40d\",\"type\":\"GlyphRenderer\"},{\"id\":\"f027bfab-383b-4a5d-ba81-22f95d7bd4bb\",\"type\":\"GlyphRenderer\"}]},\"id\":\"3dbb458e-b3bd-4f56-a43f-57cd1aa473b9\",\"type\":\"LegendItem\"},{\"attributes\":{},\"id\":\"3b41bc5d-0c6d-4ebb-897a-1e230ba622cf\",\"type\":\"LogScale\"},{\"attributes\":{\"source\":{\"id\":\"0ec91cf0-ee37-4818-8f20-7d50ad149fcf\",\"type\":\"ColumnDataSource\"}},\"id\":\"0b6a3ad8-09f0-4f0d-acc9-4d81f3dd80dc\",\"type\":\"CDSView\"},{\"attributes\":{\"line_alpha\":0.1,\"line_color\":\"#1f77b4\",\"line_dash\":[6],\"x\":{\"field\":\"x\"},\"y\":{\"field\":\"y\"}},\"id\":\"244dbba2-06c8-45f1-8986-43695e014d59\",\"type\":\"Line\"},{\"attributes\":{\"data_source\":{\"id\":\"0ec91cf0-ee37-4818-8f20-7d50ad149fcf\",\"type\":\"ColumnDataSource\"},\"glyph\":{\"id\":\"f945254b-d0d2-496e-84ed-e54e5ce3456a\",\"type\":\"Line\"},\"hover_glyph\":null,\"muted_glyph\":null,\"nonselection_glyph\":{\"id\":\"244dbba2-06c8-45f1-8986-43695e014d59\",\"type\":\"Line\"},\"selection_glyph\":null,\"view\":{\"id\":\"0b6a3ad8-09f0-4f0d-acc9-4d81f3dd80dc\",\"type\":\"CDSView\"}},\"id\":\"a23e7332-61bf-4841-94cd-49748a9ce40d\",\"type\":\"GlyphRenderer\"},{\"attributes\":{},\"id\":\"65f8d50f-0008-49a4-9870-10e2adb6de5f\",\"type\":\"WheelZoomTool\"},{\"attributes\":{},\"id\":\"846d06c8-0809-4b1c-a282-689fb7be7db2\",\"type\":\"LogScale\"},{\"attributes\":{\"line_color\":\"#7f7f7f\",\"line_dash\":[6],\"x\":{\"field\":\"x\"},\"y\":{\"field\":\"y\"}},\"id\":\"f945254b-d0d2-496e-84ed-e54e5ce3456a\",\"type\":\"Line\"},{\"attributes\":{\"axis_label\":\"Primes\",\"formatter\":{\"id\":\"a24d2356-19f1-48e1-95ab-a8a72331cc5f\",\"type\":\"NumeralTickFormatter\"},\"plot\":{\"id\":\"8ef492f9-c8b5-4c85-a054-5c722e685fe7\",\"subtype\":\"Figure\",\"type\":\"Plot\"},\"ticker\":{\"id\":\"8e90a219-4188-49d2-8fb5-685fb3301e17\",\"type\":\"LogTicker\"}},\"id\":\"f35f5fbd-abd9-46b0-b86d-2309a92cd635\",\"type\":\"LogAxis\"},{\"attributes\":{\"callback\":null,\"column_names\":[\"x\",\"y\"],\"data\":{\"x\":[1,2,5,10,20,50,100,200,500,1000,2000,5000,10000,20000,50000,100000,200000],\"y\":[1.2458767741918564e-06,1.8849968910217285e-06,3.3779069781303406e-06,7.822876796126366e-06,1.7695827409625053e-05,5.989987403154373e-05,0.00016487506218254566,0.00039862794801592827,0.0012787249870598316,0.0029056628700345755,0.006854115054011345,0.022181850858032703,0.0504222740419209,0.10669688507914543,0.23477714508771896,0.5650034809950739,1.1920020659454167]}},\"id\":\"1b43efb4-f634-4abd-9a2c-1350bba3c711\",\"type\":\"ColumnDataSource\"},{\"attributes\":{\"axis_label\":\"Seconds\",\"formatter\":{\"id\":\"cf5b11be-63b9-40bc-aa97-2e58b0797b6d\",\"type\":\"LogTickFormatter\"},\"plot\":{\"id\":\"8ef492f9-c8b5-4c85-a054-5c722e685fe7\",\"subtype\":\"Figure\",\"type\":\"Plot\"},\"ticker\":{\"id\":\"dc692307-0a35-407a-87d6-a59c9e7be652\",\"type\":\"LogTicker\"}},\"id\":\"a024a784-fbef-4614-b773-9d67ab70f2f8\",\"type\":\"LogAxis\"},{\"attributes\":{\"data_source\":{\"id\":\"86be56d8-4b04-400b-9de9-78b799ee669b\",\"type\":\"ColumnDataSource\"},\"glyph\":{\"id\":\"325483dc-7f76-4b94-ba72-f9cc0b1a08cb\",\"type\":\"Line\"},\"hover_glyph\":null,\"muted_glyph\":null,\"nonselection_glyph\":{\"id\":\"3285794e-9c25-4366-9bf6-010f3f00ee0e\",\"type\":\"Line\"},\"selection_glyph\":null,\"view\":{\"id\":\"03c1d247-3253-448d-8fb9-b894c6849a1c\",\"type\":\"CDSView\"}},\"id\":\"1a0ddd23-9b97-4726-846b-8ce86aaa8d61\",\"type\":\"GlyphRenderer\"},{\"attributes\":{\"bottom_units\":\"screen\",\"fill_alpha\":{\"value\":0.5},\"fill_color\":{\"value\":\"lightgrey\"},\"left_units\":\"screen\",\"level\":\"overlay\",\"line_alpha\":{\"value\":1.0},\"line_color\":{\"value\":\"black\"},\"line_dash\":[4,4],\"line_width\":{\"value\":2},\"plot\":null,\"render_mode\":\"css\",\"right_units\":\"screen\",\"top_units\":\"screen\"},\"id\":\"8bd417a2-f62c-4d85-9ee0-e3efc58bf2a1\",\"type\":\"BoxAnnotation\"},{\"attributes\":{\"data_source\":{\"id\":\"1b43efb4-f634-4abd-9a2c-1350bba3c711\",\"type\":\"ColumnDataSource\"},\"glyph\":{\"id\":\"3f5bed01-88e7-4c3a-a85d-c51fb2d0443f\",\"type\":\"Circle\"},\"hover_glyph\":null,\"muted_glyph\":null,\"nonselection_glyph\":{\"id\":\"5b478163-f55d-4182-9976-bd34d55156b2\",\"type\":\"Circle\"},\"selection_glyph\":null,\"view\":{\"id\":\"fd39a592-cf3c-42c4-860b-cd27e785360e\",\"type\":\"CDSView\"}},\"id\":\"f027bfab-383b-4a5d-ba81-22f95d7bd4bb\",\"type\":\"GlyphRenderer\"},{\"attributes\":{\"background_fill_alpha\":{\"value\":0.5},\"click_policy\":\"hide\",\"items\":[{\"id\":\"50baedc9-3d2f-4a03-aaeb-48ceba3cd678\",\"type\":\"LegendItem\"},{\"id\":\"45a2fa1f-a379-4f96-87d7-0710110d5f7b\",\"type\":\"LegendItem\"},{\"id\":\"81877a3d-6678-47bd-bac3-49bbcbf465b7\",\"type\":\"LegendItem\"},{\"id\":\"584dc201-8a95-4bec-a795-6a69e18f71d6\",\"type\":\"LegendItem\"},{\"id\":\"ac85e61c-f6db-4b31-8e18-1cf35084ea99\",\"type\":\"LegendItem\"},{\"id\":\"865f20ad-691d-4bfc-a996-238d9d193b00\",\"type\":\"LegendItem\"},{\"id\":\"2699db61-b5a0-42f8-bee3-be3c462d66b1\",\"type\":\"LegendItem\"},{\"id\":\"3dbb458e-b3bd-4f56-a43f-57cd1aa473b9\",\"type\":\"LegendItem\"},{\"id\":\"78247172-d2a1-4712-9ac2-550286706aab\",\"type\":\"LegendItem\"},{\"id\":\"ae5001a2-5047-4b97-bf7c-d3a5573b17f6\",\"type\":\"LegendItem\"}],\"location\":\"top_left\",\"plot\":{\"id\":\"8ef492f9-c8b5-4c85-a054-5c722e685fe7\",\"subtype\":\"Figure\",\"type\":\"Plot\"}},\"id\":\"041def32-ecfb-4e33-a060-4abb2ea3841c\",\"type\":\"Legend\"},{\"attributes\":{\"fill_alpha\":{\"value\":0.1},\"fill_color\":{\"value\":\"#1f77b4\"},\"line_alpha\":{\"value\":0.1},\"line_color\":{\"value\":\"#1f77b4\"},\"x\":{\"field\":\"x\"},\"y\":{\"field\":\"y\"}},\"id\":\"5b478163-f55d-4182-9976-bd34d55156b2\",\"type\":\"Circle\"},{\"attributes\":{\"label\":{\"value\":\"primes\"},\"renderers\":[{\"id\":\"1a0ddd23-9b97-4726-846b-8ce86aaa8d61\",\"type\":\"GlyphRenderer\"},{\"id\":\"99366281-0338-4850-9c6c-b93f13e4166c\",\"type\":\"GlyphRenderer\"}]},\"id\":\"ae5001a2-5047-4b97-bf7c-d3a5573b17f6\",\"type\":\"LegendItem\"},{\"attributes\":{\"line_color\":\"#1f77b4\",\"line_dash\":[6],\"x\":{\"field\":\"x\"},\"y\":{\"field\":\"y\"}},\"id\":\"a98a49bc-9972-461b-b8d3-0014a93c490f\",\"type\":\"Line\"},{\"attributes\":{\"dimension\":1,\"plot\":{\"id\":\"8ef492f9-c8b5-4c85-a054-5c722e685fe7\",\"subtype\":\"Figure\",\"type\":\"Plot\"},\"ticker\":{\"id\":\"dc692307-0a35-407a-87d6-a59c9e7be652\",\"type\":\"LogTicker\"}},\"id\":\"2be7ce5d-a0c0-4ad8-92c0-7179dd6158a5\",\"type\":\"Grid\"},{\"attributes\":{\"fill_color\":{\"value\":\"#7f7f7f\"},\"line_color\":{\"value\":\"#7f7f7f\"},\"x\":{\"field\":\"x\"},\"y\":{\"field\":\"y\"}},\"id\":\"3f5bed01-88e7-4c3a-a85d-c51fb2d0443f\",\"type\":\"Circle\"},{\"attributes\":{\"callback\":null,\"column_names\":[\"x\",\"y\"],\"data\":{\"x\":[1,2,5,10,20,50,100,200,500,1000,2000],\"y\":[3.0079390853643417e-06,2.980930730700493e-06,8.170027285814285e-06,2.24430114030838e-05,6.925896741449833e-05,0.00035684509202837944,0.0015316121280193329,0.007375265937298536,0.05917246709577739,0.27406985498964787,1.2293089928571135]}},\"id\":\"68ceb9f6-cc58-4e72-ba6e-c2c2a4d853a4\",\"type\":\"ColumnDataSource\"},{\"attributes\":{\"callback\":null,\"column_names\":[\"x\",\"y\"],\"data\":{\"x\":[1,2,5,10,20,50,100,200,500,1000,2000,5000,10000,20000,50000,100000],\"y\":[1.3168901205062866e-06,1.2640375643968582e-06,3.768131136894226e-06,9.781913831830025e-06,2.5613000616431236e-05,9.570200927555561e-05,0.0002718560863286257,0.0007162278052419424,0.002488194964826107,0.006352093070745468,0.01626581815071404,0.05609685997478664,0.10278225713409483,0.24827131698839366,0.6959661280270666,1.726115541998297]}},\"id\":\"faf6afd6-0e21-47c3-9753-62e50e086948\",\"type\":\"ColumnDataSource\"},{\"attributes\":{\"data_source\":{\"id\":\"68ceb9f6-cc58-4e72-ba6e-c2c2a4d853a4\",\"type\":\"ColumnDataSource\"},\"glyph\":{\"id\":\"a98a49bc-9972-461b-b8d3-0014a93c490f\",\"type\":\"Line\"},\"hover_glyph\":null,\"muted_glyph\":null,\"nonselection_glyph\":{\"id\":\"6371d939-5ffc-4e68-9612-ad1aad7ff985\",\"type\":\"Line\"},\"selection_glyph\":null,\"view\":{\"id\":\"31226793-6caf-41c2-b7d7-65e5c27c916b\",\"type\":\"CDSView\"}},\"id\":\"4a6c321b-87b8-4f28-89ab-135dfe72e318\",\"type\":\"GlyphRenderer\"},{\"attributes\":{\"source\":{\"id\":\"1b43efb4-f634-4abd-9a2c-1350bba3c711\",\"type\":\"ColumnDataSource\"}},\"id\":\"fd39a592-cf3c-42c4-860b-cd27e785360e\",\"type\":\"CDSView\"},{\"attributes\":{\"label\":{\"value\":\"priority_queue\"},\"renderers\":[{\"id\":\"525e8ed6-9c1b-4d64-b549-f4afc0f777fc\",\"type\":\"GlyphRenderer\"},{\"id\":\"47a9868b-e8d6-47d3-bd73-c32383d95c6f\",\"type\":\"GlyphRenderer\"}]},\"id\":\"78247172-d2a1-4712-9ac2-550286706aab\",\"type\":\"LegendItem\"},{\"attributes\":{},\"id\":\"0af20ba9-589d-4025-9065-52cdcc9d3f9a\",\"type\":\"PanTool\"},{\"attributes\":{\"ticker\":null},\"id\":\"cf5b11be-63b9-40bc-aa97-2e58b0797b6d\",\"type\":\"LogTickFormatter\"},{\"attributes\":{\"source\":{\"id\":\"faf6afd6-0e21-47c3-9753-62e50e086948\",\"type\":\"ColumnDataSource\"}},\"id\":\"2ede141c-5be0-4f54-89bf-36d2001d3de6\",\"type\":\"CDSView\"},{\"attributes\":{\"line_alpha\":0.1,\"line_color\":\"#1f77b4\",\"line_dash\":[6],\"x\":{\"field\":\"x\"},\"y\":{\"field\":\"y\"}},\"id\":\"232c263a-0802-4f6e-991d-740b2e4f25e5\",\"type\":\"Line\"},{\"attributes\":{},\"id\":\"f95b282e-b3d3-4b8e-ae9b-630fe869aef1\",\"type\":\"SaveTool\"},{\"attributes\":{\"data_source\":{\"id\":\"faf6afd6-0e21-47c3-9753-62e50e086948\",\"type\":\"ColumnDataSource\"},\"glyph\":{\"id\":\"4f4f48ec-fbe9-4036-adf0-6af5bcd99837\",\"type\":\"Line\"},\"hover_glyph\":null,\"muted_glyph\":null,\"nonselection_glyph\":{\"id\":\"232c263a-0802-4f6e-991d-740b2e4f25e5\",\"type\":\"Line\"},\"selection_glyph\":null,\"view\":{\"id\":\"2ede141c-5be0-4f54-89bf-36d2001d3de6\",\"type\":\"CDSView\"}},\"id\":\"525e8ed6-9c1b-4d64-b549-f4afc0f777fc\",\"type\":\"GlyphRenderer\"},{\"attributes\":{\"overlay\":{\"id\":\"8bd417a2-f62c-4d85-9ee0-e3efc58bf2a1\",\"type\":\"BoxAnnotation\"}},\"id\":\"5dba53de-608f-4cc9-8daa-b133d28ccec6\",\"type\":\"BoxZoomTool\"},{\"attributes\":{\"source\":{\"id\":\"68ceb9f6-cc58-4e72-ba6e-c2c2a4d853a4\",\"type\":\"ColumnDataSource\"}},\"id\":\"31226793-6caf-41c2-b7d7-65e5c27c916b\",\"type\":\"CDSView\"},{\"attributes\":{\"line_color\":\"#bcbd22\",\"line_dash\":[6],\"x\":{\"field\":\"x\"},\"y\":{\"field\":\"y\"}},\"id\":\"4f4f48ec-fbe9-4036-adf0-6af5bcd99837\",\"type\":\"Line\"},{\"attributes\":{\"callback\":null,\"column_names\":[\"x\",\"y\"],\"data\":{\"x\":[1,2,5,10,20,50,100,200,500,1000,2000,5000,10000,20000,50000,100000],\"y\":[1.3168901205062866e-06,1.2640375643968582e-06,3.768131136894226e-06,9.781913831830025e-06,2.5613000616431236e-05,9.570200927555561e-05,0.0002718560863286257,0.0007162278052419424,0.002488194964826107,0.006352093070745468,0.01626581815071404,0.05609685997478664,0.10278225713409483,0.24827131698839366,0.6959661280270666,1.726115541998297]}},\"id\":\"5c8b9691-a52e-4a83-8407-933e27b7e285\",\"type\":\"ColumnDataSource\"},{\"attributes\":{},\"id\":\"4e75b0d2-5f8d-40bd-908c-d018a50bde22\",\"type\":\"HelpTool\"},{\"attributes\":{\"line_alpha\":0.1,\"line_color\":\"#1f77b4\",\"x\":{\"field\":\"x\"},\"y\":{\"field\":\"y\"}},\"id\":\"3285794e-9c25-4366-9bf6-010f3f00ee0e\",\"type\":\"Line\"},{\"attributes\":{},\"id\":\"fd9e206a-ca0a-406e-ae23-d5b2824181d1\",\"type\":\"ResetTool\"},{\"attributes\":{\"data_source\":{\"id\":\"5c8b9691-a52e-4a83-8407-933e27b7e285\",\"type\":\"ColumnDataSource\"},\"glyph\":{\"id\":\"16f16193-25e3-4787-a50e-4a2a9a05e0bc\",\"type\":\"Circle\"},\"hover_glyph\":null,\"muted_glyph\":null,\"nonselection_glyph\":{\"id\":\"1eac6162-52de-452d-8055-22cbf7b49d21\",\"type\":\"Circle\"},\"selection_glyph\":null,\"view\":{\"id\":\"d1d280a0-021c-4551-9fd0-cabeb31fe59c\",\"type\":\"CDSView\"}},\"id\":\"47a9868b-e8d6-47d3-bd73-c32383d95c6f\",\"type\":\"GlyphRenderer\"},{\"attributes\":{\"source\":{\"id\":\"3171c9b6-74fb-4352-ad9e-af84290d921f\",\"type\":\"ColumnDataSource\"}},\"id\":\"8228a54b-272f-4de2-8383-612d2e69ebc5\",\"type\":\"CDSView\"},{\"attributes\":{\"data_source\":{\"id\":\"3171c9b6-74fb-4352-ad9e-af84290d921f\",\"type\":\"ColumnDataSource\"},\"glyph\":{\"id\":\"e640626f-a0e7-4a50-be41-b3e7b08f4763\",\"type\":\"Circle\"},\"hover_glyph\":null,\"muted_glyph\":null,\"nonselection_glyph\":{\"id\":\"ed70c304-6f75-4a4c-a411-07883d982b52\",\"type\":\"Circle\"},\"selection_glyph\":null,\"view\":{\"id\":\"8228a54b-272f-4de2-8383-612d2e69ebc5\",\"type\":\"CDSView\"}},\"id\":\"5fa53ed5-f238-4902-a28f-94fd855433d4\",\"type\":\"GlyphRenderer\"},{\"attributes\":{\"fill_alpha\":{\"value\":0.1},\"fill_color\":{\"value\":\"#1f77b4\"},\"line_alpha\":{\"value\":0.1},\"line_color\":{\"value\":\"#1f77b4\"},\"x\":{\"field\":\"x\"},\"y\":{\"field\":\"y\"}},\"id\":\"1eac6162-52de-452d-8055-22cbf7b49d21\",\"type\":\"Circle\"},{\"attributes\":{\"line_alpha\":0.1,\"line_color\":\"#1f77b4\",\"line_dash\":[6],\"x\":{\"field\":\"x\"},\"y\":{\"field\":\"y\"}},\"id\":\"40275005-136c-4b06-a946-9d34fb8a8c9f\",\"type\":\"Line\"},{\"attributes\":{\"fill_color\":{\"value\":\"#17becf\"},\"line_color\":{\"value\":\"#17becf\"},\"x\":{\"field\":\"x\"},\"y\":{\"field\":\"y\"}},\"id\":\"6dc85dd7-c210-4e9f-a5e5-bc5547312fbb\",\"type\":\"Circle\"},{\"attributes\":{\"callback\":null,\"column_names\":[\"x\",\"y\"],\"data\":{\"x\":[1,2,5,10,20,50,100,200,500,1000,2000,5000],\"y\":[1.4319084584712982e-06,2.3900065571069717e-06,5.2889809012413025e-06,1.3441778719425201e-05,4.3275998905301094e-05,0.00022354512475430965,0.0009551611728966236,0.005093520972877741,0.0360875460319221,0.16740669403225183,0.6574779360089451,4.291011564899236]}},\"id\":\"6d59b8f1-5b35-4f79-b508-c4d90626b255\",\"type\":\"ColumnDataSource\"},{\"attributes\":{\"fill_color\":{\"value\":\"#bcbd22\"},\"line_color\":{\"value\":\"#bcbd22\"},\"x\":{\"field\":\"x\"},\"y\":{\"field\":\"y\"}},\"id\":\"16f16193-25e3-4787-a50e-4a2a9a05e0bc\",\"type\":\"Circle\"},{\"attributes\":{\"label\":{\"value\":\"first_try\"},\"renderers\":[{\"id\":\"4a6c321b-87b8-4f28-89ab-135dfe72e318\",\"type\":\"GlyphRenderer\"},{\"id\":\"5fa53ed5-f238-4902-a28f-94fd855433d4\",\"type\":\"GlyphRenderer\"}]},\"id\":\"50baedc9-3d2f-4a03-aaeb-48ceba3cd678\",\"type\":\"LegendItem\"},{\"attributes\":{\"fill_alpha\":{\"value\":0.1},\"fill_color\":{\"value\":\"#1f77b4\"},\"line_alpha\":{\"value\":0.1},\"line_color\":{\"value\":\"#1f77b4\"},\"x\":{\"field\":\"x\"},\"y\":{\"field\":\"y\"}},\"id\":\"ed70c304-6f75-4a4c-a411-07883d982b52\",\"type\":\"Circle\"},{\"attributes\":{\"fill_color\":{\"value\":\"#2ca02c\"},\"line_color\":{\"value\":\"#2ca02c\"},\"x\":{\"field\":\"x\"},\"y\":{\"field\":\"y\"}},\"id\":\"0e87236a-18fc-4c9c-ad85-12b86176d7aa\",\"type\":\"Circle\"},{\"attributes\":{\"source\":{\"id\":\"5c8b9691-a52e-4a83-8407-933e27b7e285\",\"type\":\"ColumnDataSource\"}},\"id\":\"d1d280a0-021c-4551-9fd0-cabeb31fe59c\",\"type\":\"CDSView\"},{\"attributes\":{\"data_source\":{\"id\":\"86be56d8-4b04-400b-9de9-78b799ee669b\",\"type\":\"ColumnDataSource\"},\"glyph\":{\"id\":\"6dc85dd7-c210-4e9f-a5e5-bc5547312fbb\",\"type\":\"Circle\"},\"hover_glyph\":null,\"muted_glyph\":null,\"nonselection_glyph\":{\"id\":\"e9367805-0096-4665-88e8-c131c66e01b5\",\"type\":\"Circle\"},\"selection_glyph\":null,\"view\":{\"id\":\"651d1141-26fc-40b9-9663-84e3a3d2eda3\",\"type\":\"CDSView\"}},\"id\":\"99366281-0338-4850-9c6c-b93f13e4166c\",\"type\":\"GlyphRenderer\"},{\"attributes\":{\"callback\":null,\"column_names\":[\"x\",\"y\"],\"data\":{\"x\":[1,2,5,10,20,50,100,200,500,1000,2000],\"y\":[3.0079390853643417e-06,2.980930730700493e-06,8.170027285814285e-06,2.24430114030838e-05,6.925896741449833e-05,0.00035684509202837944,0.0015316121280193329,0.007375265937298536,0.05917246709577739,0.27406985498964787,1.2293089928571135]}},\"id\":\"3171c9b6-74fb-4352-ad9e-af84290d921f\",\"type\":\"ColumnDataSource\"},{\"attributes\":{\"callback\":null,\"column_names\":[\"x\",\"y\"],\"data\":{\"x\":[1,2,5,10,20,50,100,200,500,1000,2000,5000,10000,20000,50000,100000,200000,500000],\"y\":[1.7101410776376724e-06,2.234010025858879e-06,3.5860575735569e-06,6.612855941057205e-06,1.219194382429123e-05,3.108987584710121e-05,7.33579508960247e-05,0.00016477005556225777,0.0004884249065071344,0.0011219209991395473,0.0026673900429159403,0.0077997660264372826,0.018545425962656736,0.04026325396262109,0.08585646585561335,0.23042701720260084,0.4798019640147686,1.3214226090349257]}},\"id\":\"d6fe1a79-a4f6-4c62-94e3-757fa9a0dbab\",\"type\":\"ColumnDataSource\"},{\"attributes\":{\"fill_alpha\":{\"value\":0.1},\"fill_color\":{\"value\":\"#1f77b4\"},\"line_alpha\":{\"value\":0.1},\"line_color\":{\"value\":\"#1f77b4\"},\"x\":{\"field\":\"x\"},\"y\":{\"field\":\"y\"}},\"id\":\"e9367805-0096-4665-88e8-c131c66e01b5\",\"type\":\"Circle\"},{\"attributes\":{\"format\":\"0[.]0 a\"},\"id\":\"a24d2356-19f1-48e1-95ab-a8a72331cc5f\",\"type\":\"NumeralTickFormatter\"},{\"attributes\":{\"line_color\":\"#ff7f0e\",\"line_dash\":[6],\"x\":{\"field\":\"x\"},\"y\":{\"field\":\"y\"}},\"id\":\"e5b59fc3-bb25-4b80-ad5c-5eab8f1d6629\",\"type\":\"Line\"},{\"attributes\":{\"line_color\":\"#d62728\",\"line_dash\":[6],\"x\":{\"field\":\"x\"},\"y\":{\"field\":\"y\"}},\"id\":\"ab86c2cf-bf00-4e6d-a5d8-e43471630a1f\",\"type\":\"Line\"},{\"attributes\":{\"fill_alpha\":{\"value\":0.1},\"fill_color\":{\"value\":\"#1f77b4\"},\"line_alpha\":{\"value\":0.1},\"line_color\":{\"value\":\"#1f77b4\"},\"x\":{\"field\":\"x\"},\"y\":{\"field\":\"y\"}},\"id\":\"5dd3cee8-972b-4f1d-b57f-229c428a376d\",\"type\":\"Circle\"}],\"root_ids\":[\"8ef492f9-c8b5-4c85-a054-5c722e685fe7\"]},\"title\":\"Bokeh Application\",\"version\":\"0.12.14\"}};\n",
       "  var render_items = [{\"docid\":\"f52557c8-9d2f-464f-b48b-08b8981ee523\",\"elementid\":\"9a2fb69b-1256-4d59-b0ef-8d2eeeb5f8fc\",\"modelid\":\"8ef492f9-c8b5-4c85-a054-5c722e685fe7\",\"notebook_comms_target\":\"61546bd1-7169-446f-8ddc-09e1eb5321a4\"}];\n",
       "  root.Bokeh.embed.embed_items_notebook(docs_json, render_items);\n",
       "\n",
       "  }\n",
       "  if (root.Bokeh !== undefined) {\n",
       "    embed_document(root);\n",
       "  } else {\n",
       "    var attempts = 0;\n",
       "    var timer = setInterval(function(root) {\n",
       "      if (root.Bokeh !== undefined) {\n",
       "        embed_document(root);\n",
       "        clearInterval(timer);\n",
       "      }\n",
       "      attempts++;\n",
       "      if (attempts > 100) {\n",
       "        console.log(\"Bokeh: ERROR: Unable to run BokehJS code because BokehJS library is missing\")\n",
       "        clearInterval(timer);\n",
       "      }\n",
       "    }, 10, root)\n",
       "  }\n",
       "})(window);"
      ],
      "application/vnd.bokehjs_exec.v0+json": ""
     },
     "metadata": {
      "application/vnd.bokehjs_exec.v0+json": {
       "id": "8ef492f9-c8b5-4c85-a054-5c722e685fe7"
      }
     },
     "output_type": "display_data"
    }
   ],
   "source": [
    "from pyprimesieve import primes\n",
    "\n",
    "timing_plot(primes, True)"
   ]
  },
  {
   "cell_type": "code",
   "execution_count": 24,
   "metadata": {
    "slideshow": {
     "slide_type": "skip"
    }
   },
   "outputs": [
    {
     "data": {
      "application/javascript": [
       "\n",
       "sieve.src = 'resources/sieve.png';\n"
      ],
      "text/plain": [
       "<IPython.core.display.Javascript object>"
      ]
     },
     "execution_count": 24,
     "metadata": {},
     "output_type": "execute_result"
    }
   ],
   "source": [
    "from IPython.display import Javascript\n",
    "\n",
    "Javascript('''\n",
    "sieve.src = 'resources/sieve.png';\n",
    "''')"
   ]
  }
 ],
 "metadata": {
  "celltoolbar": "Slideshow",
  "kernelspec": {
   "display_name": "Python 3",
   "language": "python",
   "name": "python3"
  },
  "language_info": {
   "codemirror_mode": {
    "name": "ipython",
    "version": 3
   },
   "file_extension": ".py",
   "mimetype": "text/x-python",
   "name": "python",
   "nbconvert_exporter": "python",
   "pygments_lexer": "ipython3",
   "version": "3.6.4"
  },
  "livereveal": {
   "scroll": "True",
   "start_slideshow_at": "selected",
   "theme": "serif",
   "transition": "convex"
  }
 },
 "nbformat": 4,
 "nbformat_minor": 2
}
