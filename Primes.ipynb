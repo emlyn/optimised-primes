{
 "cells": [
  {
   "cell_type": "code",
   "execution_count": 1,
   "metadata": {
    "slideshow": {
     "slide_type": "skip"
    }
   },
   "outputs": [
    {
     "data": {
      "text/html": [
       "\n",
       "    <div class=\"bk-root\">\n",
       "        <a href=\"https://bokeh.pydata.org\" target=\"_blank\" class=\"bk-logo bk-logo-small bk-logo-notebook\"></a>\n",
       "        <span id=\"9a42f5a1-6196-4662-880f-c52802787a7d\">Loading BokehJS ...</span>\n",
       "    </div>"
      ]
     },
     "metadata": {},
     "output_type": "display_data"
    },
    {
     "data": {
      "application/javascript": [
       "\n",
       "(function(root) {\n",
       "  function now() {\n",
       "    return new Date();\n",
       "  }\n",
       "\n",
       "  var force = true;\n",
       "\n",
       "  if (typeof (root._bokeh_onload_callbacks) === \"undefined\" || force === true) {\n",
       "    root._bokeh_onload_callbacks = [];\n",
       "    root._bokeh_is_loading = undefined;\n",
       "  }\n",
       "\n",
       "  var JS_MIME_TYPE = 'application/javascript';\n",
       "  var HTML_MIME_TYPE = 'text/html';\n",
       "  var EXEC_MIME_TYPE = 'application/vnd.bokehjs_exec.v0+json';\n",
       "  var CLASS_NAME = 'output_bokeh rendered_html';\n",
       "\n",
       "  /**\n",
       "   * Render data to the DOM node\n",
       "   */\n",
       "  function render(props, node) {\n",
       "    var script = document.createElement(\"script\");\n",
       "    node.appendChild(script);\n",
       "  }\n",
       "\n",
       "  /**\n",
       "   * Handle when an output is cleared or removed\n",
       "   */\n",
       "  function handleClearOutput(event, handle) {\n",
       "    var cell = handle.cell;\n",
       "\n",
       "    var id = cell.output_area._bokeh_element_id;\n",
       "    var server_id = cell.output_area._bokeh_server_id;\n",
       "    // Clean up Bokeh references\n",
       "    if (id !== undefined) {\n",
       "      Bokeh.index[id].model.document.clear();\n",
       "      delete Bokeh.index[id];\n",
       "    }\n",
       "\n",
       "    if (server_id !== undefined) {\n",
       "      // Clean up Bokeh references\n",
       "      var cmd = \"from bokeh.io.state import curstate; print(curstate().uuid_to_server['\" + server_id + \"'].get_sessions()[0].document.roots[0]._id)\";\n",
       "      cell.notebook.kernel.execute(cmd, {\n",
       "        iopub: {\n",
       "          output: function(msg) {\n",
       "            var element_id = msg.content.text.trim();\n",
       "            Bokeh.index[element_id].model.document.clear();\n",
       "            delete Bokeh.index[element_id];\n",
       "          }\n",
       "        }\n",
       "      });\n",
       "      // Destroy server and session\n",
       "      var cmd = \"import bokeh.io.notebook as ion; ion.destroy_server('\" + server_id + \"')\";\n",
       "      cell.notebook.kernel.execute(cmd);\n",
       "    }\n",
       "  }\n",
       "\n",
       "  /**\n",
       "   * Handle when a new output is added\n",
       "   */\n",
       "  function handleAddOutput(event, handle) {\n",
       "    var output_area = handle.output_area;\n",
       "    var output = handle.output;\n",
       "\n",
       "    // limit handleAddOutput to display_data with EXEC_MIME_TYPE content only\n",
       "    if ((output.output_type != \"display_data\") || (!output.data.hasOwnProperty(EXEC_MIME_TYPE))) {\n",
       "      return\n",
       "    }\n",
       "\n",
       "    var toinsert = output_area.element.find(\".\" + CLASS_NAME.split(' ')[0]);\n",
       "\n",
       "    if (output.metadata[EXEC_MIME_TYPE][\"id\"] !== undefined) {\n",
       "      toinsert[0].firstChild.textContent = output.data[JS_MIME_TYPE];\n",
       "      // store reference to embed id on output_area\n",
       "      output_area._bokeh_element_id = output.metadata[EXEC_MIME_TYPE][\"id\"];\n",
       "    }\n",
       "    if (output.metadata[EXEC_MIME_TYPE][\"server_id\"] !== undefined) {\n",
       "      var bk_div = document.createElement(\"div\");\n",
       "      bk_div.innerHTML = output.data[HTML_MIME_TYPE];\n",
       "      var script_attrs = bk_div.children[0].attributes;\n",
       "      for (var i = 0; i < script_attrs.length; i++) {\n",
       "        toinsert[0].firstChild.setAttribute(script_attrs[i].name, script_attrs[i].value);\n",
       "      }\n",
       "      // store reference to server id on output_area\n",
       "      output_area._bokeh_server_id = output.metadata[EXEC_MIME_TYPE][\"server_id\"];\n",
       "    }\n",
       "  }\n",
       "\n",
       "  function register_renderer(events, OutputArea) {\n",
       "\n",
       "    function append_mime(data, metadata, element) {\n",
       "      // create a DOM node to render to\n",
       "      var toinsert = this.create_output_subarea(\n",
       "        metadata,\n",
       "        CLASS_NAME,\n",
       "        EXEC_MIME_TYPE\n",
       "      );\n",
       "      this.keyboard_manager.register_events(toinsert);\n",
       "      // Render to node\n",
       "      var props = {data: data, metadata: metadata[EXEC_MIME_TYPE]};\n",
       "      render(props, toinsert[0]);\n",
       "      element.append(toinsert);\n",
       "      return toinsert\n",
       "    }\n",
       "\n",
       "    /* Handle when an output is cleared or removed */\n",
       "    events.on('clear_output.CodeCell', handleClearOutput);\n",
       "    events.on('delete.Cell', handleClearOutput);\n",
       "\n",
       "    /* Handle when a new output is added */\n",
       "    events.on('output_added.OutputArea', handleAddOutput);\n",
       "\n",
       "    /**\n",
       "     * Register the mime type and append_mime function with output_area\n",
       "     */\n",
       "    OutputArea.prototype.register_mime_type(EXEC_MIME_TYPE, append_mime, {\n",
       "      /* Is output safe? */\n",
       "      safe: true,\n",
       "      /* Index of renderer in `output_area.display_order` */\n",
       "      index: 0\n",
       "    });\n",
       "  }\n",
       "\n",
       "  // register the mime type if in Jupyter Notebook environment and previously unregistered\n",
       "  if (root.Jupyter !== undefined) {\n",
       "    var events = require('base/js/events');\n",
       "    var OutputArea = require('notebook/js/outputarea').OutputArea;\n",
       "\n",
       "    if (OutputArea.prototype.mime_types().indexOf(EXEC_MIME_TYPE) == -1) {\n",
       "      register_renderer(events, OutputArea);\n",
       "    }\n",
       "  }\n",
       "\n",
       "  \n",
       "  if (typeof (root._bokeh_timeout) === \"undefined\" || force === true) {\n",
       "    root._bokeh_timeout = Date.now() + 5000;\n",
       "    root._bokeh_failed_load = false;\n",
       "  }\n",
       "\n",
       "  var NB_LOAD_WARNING = {'data': {'text/html':\n",
       "     \"<div style='background-color: #fdd'>\\n\"+\n",
       "     \"<p>\\n\"+\n",
       "     \"BokehJS does not appear to have successfully loaded. If loading BokehJS from CDN, this \\n\"+\n",
       "     \"may be due to a slow or bad network connection. Possible fixes:\\n\"+\n",
       "     \"</p>\\n\"+\n",
       "     \"<ul>\\n\"+\n",
       "     \"<li>re-rerun `output_notebook()` to attempt to load from CDN again, or</li>\\n\"+\n",
       "     \"<li>use INLINE resources instead, as so:</li>\\n\"+\n",
       "     \"</ul>\\n\"+\n",
       "     \"<code>\\n\"+\n",
       "     \"from bokeh.resources import INLINE\\n\"+\n",
       "     \"output_notebook(resources=INLINE)\\n\"+\n",
       "     \"</code>\\n\"+\n",
       "     \"</div>\"}};\n",
       "\n",
       "  function display_loaded() {\n",
       "    var el = document.getElementById(\"9a42f5a1-6196-4662-880f-c52802787a7d\");\n",
       "    if (el != null) {\n",
       "      el.textContent = \"BokehJS is loading...\";\n",
       "    }\n",
       "    if (root.Bokeh !== undefined) {\n",
       "      if (el != null) {\n",
       "        el.textContent = \"BokehJS \" + root.Bokeh.version + \" successfully loaded.\";\n",
       "      }\n",
       "    } else if (Date.now() < root._bokeh_timeout) {\n",
       "      setTimeout(display_loaded, 100)\n",
       "    }\n",
       "  }\n",
       "\n",
       "\n",
       "  function run_callbacks() {\n",
       "    try {\n",
       "      root._bokeh_onload_callbacks.forEach(function(callback) { callback() });\n",
       "    }\n",
       "    finally {\n",
       "      delete root._bokeh_onload_callbacks\n",
       "    }\n",
       "    console.info(\"Bokeh: all callbacks have finished\");\n",
       "  }\n",
       "\n",
       "  function load_libs(js_urls, callback) {\n",
       "    root._bokeh_onload_callbacks.push(callback);\n",
       "    if (root._bokeh_is_loading > 0) {\n",
       "      console.log(\"Bokeh: BokehJS is being loaded, scheduling callback at\", now());\n",
       "      return null;\n",
       "    }\n",
       "    if (js_urls == null || js_urls.length === 0) {\n",
       "      run_callbacks();\n",
       "      return null;\n",
       "    }\n",
       "    console.log(\"Bokeh: BokehJS not loaded, scheduling load and callback at\", now());\n",
       "    root._bokeh_is_loading = js_urls.length;\n",
       "    for (var i = 0; i < js_urls.length; i++) {\n",
       "      var url = js_urls[i];\n",
       "      var s = document.createElement('script');\n",
       "      s.src = url;\n",
       "      s.async = false;\n",
       "      s.onreadystatechange = s.onload = function() {\n",
       "        root._bokeh_is_loading--;\n",
       "        if (root._bokeh_is_loading === 0) {\n",
       "          console.log(\"Bokeh: all BokehJS libraries loaded\");\n",
       "          run_callbacks()\n",
       "        }\n",
       "      };\n",
       "      s.onerror = function() {\n",
       "        console.warn(\"failed to load library \" + url);\n",
       "      };\n",
       "      console.log(\"Bokeh: injecting script tag for BokehJS library: \", url);\n",
       "      document.getElementsByTagName(\"head\")[0].appendChild(s);\n",
       "    }\n",
       "  };var element = document.getElementById(\"9a42f5a1-6196-4662-880f-c52802787a7d\");\n",
       "  if (element == null) {\n",
       "    console.log(\"Bokeh: ERROR: autoload.js configured with elementid '9a42f5a1-6196-4662-880f-c52802787a7d' but no matching script tag was found. \")\n",
       "    return false;\n",
       "  }\n",
       "\n",
       "  var js_urls = [\"https://cdn.pydata.org/bokeh/release/bokeh-0.12.14.min.js\", \"https://cdn.pydata.org/bokeh/release/bokeh-widgets-0.12.14.min.js\", \"https://cdn.pydata.org/bokeh/release/bokeh-tables-0.12.14.min.js\", \"https://cdn.pydata.org/bokeh/release/bokeh-gl-0.12.14.min.js\"];\n",
       "\n",
       "  var inline_js = [\n",
       "    function(Bokeh) {\n",
       "      Bokeh.set_log_level(\"info\");\n",
       "    },\n",
       "    \n",
       "    function(Bokeh) {\n",
       "      \n",
       "    },\n",
       "    function(Bokeh) {\n",
       "      console.log(\"Bokeh: injecting CSS: https://cdn.pydata.org/bokeh/release/bokeh-0.12.14.min.css\");\n",
       "      Bokeh.embed.inject_css(\"https://cdn.pydata.org/bokeh/release/bokeh-0.12.14.min.css\");\n",
       "      console.log(\"Bokeh: injecting CSS: https://cdn.pydata.org/bokeh/release/bokeh-widgets-0.12.14.min.css\");\n",
       "      Bokeh.embed.inject_css(\"https://cdn.pydata.org/bokeh/release/bokeh-widgets-0.12.14.min.css\");\n",
       "      console.log(\"Bokeh: injecting CSS: https://cdn.pydata.org/bokeh/release/bokeh-tables-0.12.14.min.css\");\n",
       "      Bokeh.embed.inject_css(\"https://cdn.pydata.org/bokeh/release/bokeh-tables-0.12.14.min.css\");\n",
       "    }\n",
       "  ];\n",
       "\n",
       "  function run_inline_js() {\n",
       "    \n",
       "    if ((root.Bokeh !== undefined) || (force === true)) {\n",
       "      for (var i = 0; i < inline_js.length; i++) {\n",
       "        inline_js[i].call(root, root.Bokeh);\n",
       "      }if (force === true) {\n",
       "        display_loaded();\n",
       "      }} else if (Date.now() < root._bokeh_timeout) {\n",
       "      setTimeout(run_inline_js, 100);\n",
       "    } else if (!root._bokeh_failed_load) {\n",
       "      console.log(\"Bokeh: BokehJS failed to load within specified timeout.\");\n",
       "      root._bokeh_failed_load = true;\n",
       "    } else if (force !== true) {\n",
       "      var cell = $(document.getElementById(\"9a42f5a1-6196-4662-880f-c52802787a7d\")).parents('.cell').data().cell;\n",
       "      cell.output_area.append_execute_result(NB_LOAD_WARNING)\n",
       "    }\n",
       "\n",
       "  }\n",
       "\n",
       "  if (root._bokeh_is_loading === 0) {\n",
       "    console.log(\"Bokeh: BokehJS loaded, going straight to plotting\");\n",
       "    run_inline_js();\n",
       "  } else {\n",
       "    load_libs(js_urls, function() {\n",
       "      console.log(\"Bokeh: BokehJS plotting callback run at\", now());\n",
       "      run_inline_js();\n",
       "    });\n",
       "  }\n",
       "}(window));"
      ],
      "application/vnd.bokehjs_load.v0+json": "\n(function(root) {\n  function now() {\n    return new Date();\n  }\n\n  var force = true;\n\n  if (typeof (root._bokeh_onload_callbacks) === \"undefined\" || force === true) {\n    root._bokeh_onload_callbacks = [];\n    root._bokeh_is_loading = undefined;\n  }\n\n  \n\n  \n  if (typeof (root._bokeh_timeout) === \"undefined\" || force === true) {\n    root._bokeh_timeout = Date.now() + 5000;\n    root._bokeh_failed_load = false;\n  }\n\n  var NB_LOAD_WARNING = {'data': {'text/html':\n     \"<div style='background-color: #fdd'>\\n\"+\n     \"<p>\\n\"+\n     \"BokehJS does not appear to have successfully loaded. If loading BokehJS from CDN, this \\n\"+\n     \"may be due to a slow or bad network connection. Possible fixes:\\n\"+\n     \"</p>\\n\"+\n     \"<ul>\\n\"+\n     \"<li>re-rerun `output_notebook()` to attempt to load from CDN again, or</li>\\n\"+\n     \"<li>use INLINE resources instead, as so:</li>\\n\"+\n     \"</ul>\\n\"+\n     \"<code>\\n\"+\n     \"from bokeh.resources import INLINE\\n\"+\n     \"output_notebook(resources=INLINE)\\n\"+\n     \"</code>\\n\"+\n     \"</div>\"}};\n\n  function display_loaded() {\n    var el = document.getElementById(\"9a42f5a1-6196-4662-880f-c52802787a7d\");\n    if (el != null) {\n      el.textContent = \"BokehJS is loading...\";\n    }\n    if (root.Bokeh !== undefined) {\n      if (el != null) {\n        el.textContent = \"BokehJS \" + root.Bokeh.version + \" successfully loaded.\";\n      }\n    } else if (Date.now() < root._bokeh_timeout) {\n      setTimeout(display_loaded, 100)\n    }\n  }\n\n\n  function run_callbacks() {\n    try {\n      root._bokeh_onload_callbacks.forEach(function(callback) { callback() });\n    }\n    finally {\n      delete root._bokeh_onload_callbacks\n    }\n    console.info(\"Bokeh: all callbacks have finished\");\n  }\n\n  function load_libs(js_urls, callback) {\n    root._bokeh_onload_callbacks.push(callback);\n    if (root._bokeh_is_loading > 0) {\n      console.log(\"Bokeh: BokehJS is being loaded, scheduling callback at\", now());\n      return null;\n    }\n    if (js_urls == null || js_urls.length === 0) {\n      run_callbacks();\n      return null;\n    }\n    console.log(\"Bokeh: BokehJS not loaded, scheduling load and callback at\", now());\n    root._bokeh_is_loading = js_urls.length;\n    for (var i = 0; i < js_urls.length; i++) {\n      var url = js_urls[i];\n      var s = document.createElement('script');\n      s.src = url;\n      s.async = false;\n      s.onreadystatechange = s.onload = function() {\n        root._bokeh_is_loading--;\n        if (root._bokeh_is_loading === 0) {\n          console.log(\"Bokeh: all BokehJS libraries loaded\");\n          run_callbacks()\n        }\n      };\n      s.onerror = function() {\n        console.warn(\"failed to load library \" + url);\n      };\n      console.log(\"Bokeh: injecting script tag for BokehJS library: \", url);\n      document.getElementsByTagName(\"head\")[0].appendChild(s);\n    }\n  };var element = document.getElementById(\"9a42f5a1-6196-4662-880f-c52802787a7d\");\n  if (element == null) {\n    console.log(\"Bokeh: ERROR: autoload.js configured with elementid '9a42f5a1-6196-4662-880f-c52802787a7d' but no matching script tag was found. \")\n    return false;\n  }\n\n  var js_urls = [\"https://cdn.pydata.org/bokeh/release/bokeh-0.12.14.min.js\", \"https://cdn.pydata.org/bokeh/release/bokeh-widgets-0.12.14.min.js\", \"https://cdn.pydata.org/bokeh/release/bokeh-tables-0.12.14.min.js\", \"https://cdn.pydata.org/bokeh/release/bokeh-gl-0.12.14.min.js\"];\n\n  var inline_js = [\n    function(Bokeh) {\n      Bokeh.set_log_level(\"info\");\n    },\n    \n    function(Bokeh) {\n      \n    },\n    function(Bokeh) {\n      console.log(\"Bokeh: injecting CSS: https://cdn.pydata.org/bokeh/release/bokeh-0.12.14.min.css\");\n      Bokeh.embed.inject_css(\"https://cdn.pydata.org/bokeh/release/bokeh-0.12.14.min.css\");\n      console.log(\"Bokeh: injecting CSS: https://cdn.pydata.org/bokeh/release/bokeh-widgets-0.12.14.min.css\");\n      Bokeh.embed.inject_css(\"https://cdn.pydata.org/bokeh/release/bokeh-widgets-0.12.14.min.css\");\n      console.log(\"Bokeh: injecting CSS: https://cdn.pydata.org/bokeh/release/bokeh-tables-0.12.14.min.css\");\n      Bokeh.embed.inject_css(\"https://cdn.pydata.org/bokeh/release/bokeh-tables-0.12.14.min.css\");\n    }\n  ];\n\n  function run_inline_js() {\n    \n    if ((root.Bokeh !== undefined) || (force === true)) {\n      for (var i = 0; i < inline_js.length; i++) {\n        inline_js[i].call(root, root.Bokeh);\n      }if (force === true) {\n        display_loaded();\n      }} else if (Date.now() < root._bokeh_timeout) {\n      setTimeout(run_inline_js, 100);\n    } else if (!root._bokeh_failed_load) {\n      console.log(\"Bokeh: BokehJS failed to load within specified timeout.\");\n      root._bokeh_failed_load = true;\n    } else if (force !== true) {\n      var cell = $(document.getElementById(\"9a42f5a1-6196-4662-880f-c52802787a7d\")).parents('.cell').data().cell;\n      cell.output_area.append_execute_result(NB_LOAD_WARNING)\n    }\n\n  }\n\n  if (root._bokeh_is_loading === 0) {\n    console.log(\"Bokeh: BokehJS loaded, going straight to plotting\");\n    run_inline_js();\n  } else {\n    load_libs(js_urls, function() {\n      console.log(\"Bokeh: BokehJS plotting callback run at\", now());\n      run_inline_js();\n    });\n  }\n}(window));"
     },
     "metadata": {},
     "output_type": "display_data"
    },
    {
     "data": {
      "application/javascript": [
       "\n",
       "require(['base/js/namespace', 'base/js/events'],\n",
       "function (Jupyter, events) {\n",
       "    function swap_src(el, src, t) {\n",
       "        console.log(\"swap\", el, src, t);\n",
       "        var old = el.src;\n",
       "        el.src = src;\n",
       "        setTimeout(function() {el.src = old;}, t);\n",
       "    }\n",
       "\n",
       "    // save a reference to the cell we're currently executing inside of,\n",
       "    // to avoid clearing it later (which would remove this js)\n",
       "    var this_cell = $(element).closest('.cell').data('cell');\n",
       "    function init_presentation() {\n",
       "        // Clear (other) cell outputs\n",
       "        Jupyter.notebook.get_cells().forEach(function (cell) {\n",
       "            if (cell.cell_type === 'code' && cell !== this_cell) {\n",
       "                cell.clear_output();\n",
       "            }\n",
       "            Jupyter.notebook.set_dirty(true);\n",
       "        });\n",
       "        // Make sieve clickable to start gif\n",
       "        sieve.src = 'resources/sieve1.png';\n",
       "        sieve.onclick = function() {\n",
       "            swap(document.getElementById(\"sieve\"), 'resources/sieve.gif', 37000);\n",
       "        };\n",
       "    }\n",
       "\n",
       "    if (Jupyter.notebook._fully_loaded) {\n",
       "        // notebook has already been fully loaded, so init now\n",
       "        init_presentation();\n",
       "    }\n",
       "    // Also clear on any future load\n",
       "    // (e.g. when notebook finishes loading, or when a checkpoint is reloaded)\n",
       "    events.on('notebook_loaded.Notebook', init_presentation);\n",
       "});\n",
       "\n",
       "\n"
      ],
      "text/plain": [
       "<IPython.core.display.Javascript object>"
      ]
     },
     "execution_count": 1,
     "metadata": {},
     "output_type": "execute_result"
    }
   ],
   "source": [
    "########################################\n",
    "## Evaluate this cell before starting ##\n",
    "########################################\n",
    "\n",
    "from bokeh.io import output_notebook, push_notebook, show\n",
    "from bokeh.models.formatters import NumeralTickFormatter\n",
    "from bokeh.models.ranges import DataRange1d\n",
    "from bokeh.models.sources import ColumnDataSource\n",
    "from bokeh.palettes import Category10\n",
    "from bokeh.plotting import figure\n",
    "from collections import OrderedDict\n",
    "from itertools import count, islice\n",
    "from math import log\n",
    "from timeit import timeit\n",
    "\n",
    "output_notebook()\n",
    "\n",
    "REPEATS = 3\n",
    "\n",
    "timing_palette = Category10[10]\n",
    "timing_lines = OrderedDict()\n",
    "\n",
    "def iterations():\n",
    "    for x in count():\n",
    "        for i in (1, 2, 5):\n",
    "            yield i * 10 ** x\n",
    "\n",
    "def approx_nth(n):\n",
    "    return int(2.2 * n + 1) if n < 6 else int(n * (log(n) + log(log(n))))\n",
    "\n",
    "def null_func():\n",
    "    def null_gen():\n",
    "        yield 0\n",
    "    return list(islice(null_gen(), 0, 1))[0]\n",
    "\n",
    "NULL_TIME = timeit(null_func, number=1000, globals=globals()) / 1000.0\n",
    "\n",
    "def plot_line_separate(genfn, source, handle):\n",
    "    for r in range(REPEATS):\n",
    "        for n, i in enumerate(iterations()):\n",
    "            def timed():\n",
    "                return list(islice(genfn(approx_nth(i)), i - 1, i))[0]\n",
    "            t = timeit(timed, number=1, globals=globals()) - NULL_TIME\n",
    "            if r == 0:\n",
    "                source.stream(dict(x=[i], y=[t]))\n",
    "            else:\n",
    "                if t < source.data['y'][n]:\n",
    "                    source.patch(dict(x=[(n, i)], y=[(n, t)]))\n",
    "            push_notebook(handle=handle)\n",
    "            if r == 0:\n",
    "                if t >= 1.0: break\n",
    "            else:\n",
    "                if n >= len(source.data['x']) - 1: break\n",
    "\n",
    "def plot_line_combined(genfn, source, handle):\n",
    "    for r in range(REPEATS):\n",
    "        t = 0.0\n",
    "        last_i = 0\n",
    "        last_t = 0.0\n",
    "        gen = genfn()\n",
    "        for n, i in enumerate(iterations()):\n",
    "            def timed():\n",
    "                num = i - last_i\n",
    "                return list(islice(gen, num - 1, num))[0]\n",
    "            t = timeit(timed, number=1, globals=globals()) - NULL_TIME\n",
    "            last_t += t\n",
    "            if r == 0:\n",
    "                source.stream(dict(x=[i], y=[last_t]))\n",
    "            else:\n",
    "                if last_t < source.data['y'][n]:\n",
    "                    diff = source.data['y'][n] - last_t\n",
    "                    source.patch(dict(y=[(y, source.data['y'][y] - diff)\n",
    "                                         for y in range(n, len(source.data['y']))]))\n",
    "                else:\n",
    "                    last_t = source.data['y'][n]\n",
    "            push_notebook(handle=handle)\n",
    "            last_i = i\n",
    "            if r == 0:\n",
    "                if last_t > 1.0: break\n",
    "            else:\n",
    "                if n >= len(source.data['x']) - 1: break\n",
    "\n",
    "def timing_plot(genfn):\n",
    "    def plot(fig, name, vals, num, dash='solid'):\n",
    "        col = timing_palette[num % len(timing_palette)]\n",
    "        fig.line('x', 'y', legend=name, source=vals, line_dash=dash, color=col)\n",
    "        fig.scatter('x', 'y', legend=name, source=vals, marker='o', color=col)\n",
    "    name = genfn.__name__\n",
    "    exist = None\n",
    "    if True: # log-log\n",
    "        extra_args = dict(y_range=[1e-6, 1], x_range=DataRange1d(start=1),\n",
    "                          x_axis_type='log', y_axis_type='log')\n",
    "    else: # lin-lin\n",
    "        extra_args = dict(y_range=[0,1], x_range=DataRange1d(start=0))\n",
    "    fig = figure(plot_width=800, plot_height=400, toolbar_location='above', title=\"Timing\", **extra_args)\n",
    "    num = 0\n",
    "    # add previous lines\n",
    "    for k, v in timing_lines.items():\n",
    "        plot(fig, k, v, num, 'dashed')\n",
    "        if k == name:\n",
    "            exist = num\n",
    "        num += 1\n",
    "    source = ColumnDataSource(data=dict(x=[], y=[]))\n",
    "    plot(fig, name, source, exist or num)\n",
    "    fig.xaxis.axis_label = \"Primes\"\n",
    "    fig.xaxis.formatter = NumeralTickFormatter(format='0[.]0 a')\n",
    "    fig.yaxis.axis_label = \"Seconds\"\n",
    "    fig.legend.location = 'top_left'\n",
    "    fig.legend.click_policy='hide'\n",
    "    fig.legend.background_fill_alpha = 0.5\n",
    "    handle = show(fig, notebook_handle=True)\n",
    "    if genfn.__code__.co_argcount == 0:\n",
    "        plot_line_combined(genfn, source, handle)\n",
    "    else:\n",
    "        plot_line_separate(genfn, source, handle)\n",
    "    # save line data to show on next plot\n",
    "    timing_lines[genfn.__name__] = source.data\n",
    "\n",
    "from IPython.display import Javascript\n",
    "\n",
    "# Cell clearing code based on:\n",
    "# https://stackoverflow.com/questions/45638720/jupyter-programmatically-clear-output-from-all-cells-when-kernel-is-ready\n",
    "\n",
    "Javascript('''\n",
    "require(['base/js/namespace', 'base/js/events'],\n",
    "function (Jupyter, events) {\n",
    "    function swap_src(el, src, t) {\n",
    "        console.log(\"swap\", el, src, t);\n",
    "        var old = el.src;\n",
    "        el.src = src;\n",
    "        setTimeout(function() {el.src = old;}, t);\n",
    "    }\n",
    "\n",
    "    // save a reference to the cell we're currently executing inside of,\n",
    "    // to avoid clearing it later (which would remove this js)\n",
    "    var this_cell = $(element).closest('.cell').data('cell');\n",
    "    function init_presentation() {\n",
    "        // Clear (other) cell outputs\n",
    "        Jupyter.notebook.get_cells().forEach(function (cell) {\n",
    "            if (cell.cell_type === 'code' && cell !== this_cell) {\n",
    "                cell.clear_output();\n",
    "            }\n",
    "            Jupyter.notebook.set_dirty(true);\n",
    "        });\n",
    "        // Make sieve clickable to start gif\n",
    "        sieve.src = 'resources/sieve1.png';\n",
    "        sieve.onclick = function() {\n",
    "            swap(document.getElementById(\"sieve\"), 'resources/sieve.gif', 37000);\n",
    "        };\n",
    "    }\n",
    "\n",
    "    if (Jupyter.notebook._fully_loaded) {\n",
    "        // notebook has already been fully loaded, so init now\n",
    "        init_presentation();\n",
    "    }\n",
    "    // Also clear on any future load\n",
    "    // (e.g. when notebook finishes loading, or when a checkpoint is reloaded)\n",
    "    events.on('notebook_loaded.Notebook', init_presentation);\n",
    "});\n",
    "\n",
    "\n",
    "''')"
   ]
  },
  {
   "cell_type": "markdown",
   "metadata": {
    "slideshow": {
     "slide_type": "slide"
    }
   },
   "source": [
    "# Optimised Primes\n",
    "\n",
    "Emlyn Corrin\n",
    "\n",
    "<img data-gifffer=\"resources/sieve.gif\" />"
   ]
  },
  {
   "cell_type": "markdown",
   "metadata": {
    "slideshow": {
     "slide_type": "fragment"
    }
   },
   "source": [
    "![](resources/prime.png)\n",
    "<!--- Image (public domain) from:\n",
    "https://www.flickr.com/photos/114305749@N08/24438440681\n",
    "-->"
   ]
  },
  {
   "cell_type": "markdown",
   "metadata": {
    "slideshow": {
     "slide_type": "slide"
    }
   },
   "source": [
    "## Why?"
   ]
  },
  {
   "cell_type": "markdown",
   "metadata": {
    "slideshow": {
     "slide_type": "fragment"
    }
   },
   "source": [
    "- Online programming contests (Project Euler etc.)"
   ]
  },
  {
   "cell_type": "markdown",
   "metadata": {
    "slideshow": {
     "slide_type": "fragment"
    }
   },
   "source": [
    "- Mathematical or programming exercise"
   ]
  },
  {
   "cell_type": "markdown",
   "metadata": {
    "slideshow": {
     "slide_type": "fragment"
    }
   },
   "source": [
    "- Because it's fun!"
   ]
  },
  {
   "cell_type": "markdown",
   "metadata": {
    "slideshow": {
     "slide_type": "slide"
    }
   },
   "source": [
    "## What is a prime?"
   ]
  },
  {
   "cell_type": "markdown",
   "metadata": {
    "slideshow": {
     "slide_type": "fragment"
    }
   },
   "source": [
    "A prime number (or a prime) is a natural number greater than 1 that has no positive divisors other than 1 and itself.\n",
    "<div style=\"text-align: right\">&mdash; Wikipedia</div>"
   ]
  },
  {
   "cell_type": "code",
   "execution_count": 2,
   "metadata": {
    "collapsed": true,
    "slideshow": {
     "slide_type": "fragment"
    }
   },
   "outputs": [],
   "source": [
    "def is_prime(n):\n",
    "    # Greater than 1\n",
    "    if n <= 1:\n",
    "        return False\n",
    "    # Any positive divisors (> 1 and < n)?\n",
    "    for i in range(2, n):\n",
    "        if n % i == 0:\n",
    "            return False\n",
    "    # If not, it must be a prime\n",
    "    return True"
   ]
  },
  {
   "cell_type": "markdown",
   "metadata": {
    "slideshow": {
     "slide_type": "slide"
    }
   },
   "source": [
    "## Let's generate a few"
   ]
  },
  {
   "cell_type": "code",
   "execution_count": 3,
   "metadata": {},
   "outputs": [
    {
     "data": {
      "text/plain": [
       "[2, 3, 5, 7, 11, 13, 17, 19]"
      ]
     },
     "execution_count": 3,
     "metadata": {},
     "output_type": "execute_result"
    }
   ],
   "source": [
    "# All primes less than 20\n",
    "[i for i in range(20) if is_prime(i)]"
   ]
  },
  {
   "cell_type": "code",
   "execution_count": 4,
   "metadata": {
    "slideshow": {
     "slide_type": "fragment"
    }
   },
   "outputs": [
    {
     "name": "stdout",
     "output_type": "stream",
     "text": [
      "2, 3, 5, 7, 11, 13, 17, 19, 23, 29, 31, 37, 41, 43, 47, 53, 59, 61, 67, 71, 73, 79, 83, 89, 97, 101, 103, 107, 109, 113, 127, 131, 137, 139, 149, 151, 157, 163, 167, 173, 179, 181, 191, 193, 197, 199, 211, 223, 227, 229, 233, 239, 241, 251, 257, 263, 269, 271, 277, 281, 283, 293, 307, 311, 313, 317, 331, 337, 347, 349, 353, 359, 367, 373, 379, 383, 389, 397, 401, 409, 419, 421, 431, 433, 439, 443, 449, 457, 461, 463, 467, 479, 487, 491, 499, 503, 509, 521, 523, 541, 547, 557, 563, 569, 571, 577, 587, 593, 599, 601, 607, 613, 617, 619, 631, 641, 643, 647, 653, 659, 661, 673, 677, 683, 691, 701, 709, 719, 727, 733, 739, 743, 751, 757, 761, 769, 773, 787, 797, 809, 811, 821, 823, 827, 829, 839, 853, 857, 859, 863, 877, 881, 883, 887, 907, 911, 919, 929, 937, 941, 947, 953, 967, 971, 977, 983, 991, 997, 1009, 1013, 1019, 1021, 1031, 1033, 1039, 1049, 1051, 1061, 1063, 1069, 1087, 1091, 1093, 1097, 1103, 1109, 1117, 1123, 1129, 1151, 1153, 1163, 1171, 1181, 1187, 1193, 1201, 1213, 1217, 1223, 1229, 1231, 1237, 1249, 1259, 1277, 1279, 1283, 1289, 1291, 1297, 1301, 1303, 1307, 1319, 1321, 1327, 1361, 1367, 1373, 1381, 1399, 1409, 1423, 1427, 1429, 1433, 1439, 1447, 1451, 1453, 1459, 1471, 1481, 1483, 1487, 1489, 1493, 1499, 1511, 1523, 1531, 1543, 1549, 1553, 1559, 1567, 1571, 1579, 1583, 1597, 1601, 1607, 1609, 1613, 1619, 1621, 1627, 1637, 1657, 1663, 1667, 1669, 1693, 1697, 1699, 1709, 1721, 1723, 1733, 1741, 1747, 1753, 1759, 1777, 1783, 1787, 1789, 1801, 1811, 1823, 1831, 1847, 1861, 1867, 1871, 1873, 1877, 1879, 1889, 1901, 1907, 1913, 1931, 1933, 1949, 1951, 1973, 1979, 1987, 1993, 1997, 1999\n"
     ]
    }
   ],
   "source": [
    "# Primes less than 2000 (convert to string otherwise Jupyter only displays 1 per line)\n",
    "print(', '.join(str(i) for i in range(2000) if is_prime(i)))"
   ]
  },
  {
   "cell_type": "markdown",
   "metadata": {
    "slideshow": {
     "slide_type": "slide"
    }
   },
   "source": [
    "## What about generating them on demand"
   ]
  },
  {
   "cell_type": "code",
   "execution_count": 5,
   "metadata": {
    "scrolled": false,
    "slideshow": {
     "slide_type": "-"
    }
   },
   "outputs": [
    {
     "data": {
      "text/plain": [
       "[2, 3, 5, 7, 11, 13, 17, 19, 23, 29, 31, 37, 41, 43, 47, 53, 59, 61, 67, 71]"
      ]
     },
     "execution_count": 5,
     "metadata": {},
     "output_type": "execute_result"
    }
   ],
   "source": [
    "from itertools import count, islice\n",
    "\n",
    "def first_try():\n",
    "    for i in count():\n",
    "        if is_prime(i):\n",
    "            yield i\n",
    "\n",
    "# First 20 primes\n",
    "list(islice(first_try(), 20))"
   ]
  },
  {
   "cell_type": "markdown",
   "metadata": {
    "slideshow": {
     "slide_type": "slide"
    }
   },
   "source": [
    "## But how fast is it?"
   ]
  },
  {
   "cell_type": "code",
   "execution_count": 6,
   "metadata": {
    "scrolled": false,
    "slideshow": {
     "slide_type": "fragment"
    }
   },
   "outputs": [
    {
     "data": {
      "text/html": [
       "\n",
       "<div class=\"bk-root\">\n",
       "    <div class=\"bk-plotdiv\" id=\"c381126c-6120-40e5-828c-0d27b4c2ad4d\"></div>\n",
       "</div>"
      ]
     },
     "metadata": {},
     "output_type": "display_data"
    },
    {
     "data": {
      "application/javascript": [
       "(function(root) {\n",
       "  function embed_document(root) {\n",
       "    \n",
       "  var docs_json = {\"4185b686-0259-445e-8543-2a1ab98491db\":{\"roots\":{\"references\":[{\"attributes\":{},\"id\":\"92528145-12f9-4d01-9e25-fe7ae227278f\",\"type\":\"ResetTool\"},{\"attributes\":{},\"id\":\"52d74371-2aac-4b55-b0a5-220b855000d2\",\"type\":\"PanTool\"},{\"attributes\":{\"callback\":null,\"column_names\":[\"x\",\"y\"],\"data\":{\"x\":[],\"y\":[]}},\"id\":\"ca4f9eb4-bd1a-4cd1-a01b-c7a4bf2f4d9b\",\"type\":\"ColumnDataSource\"},{\"attributes\":{\"line_color\":\"#1f77b4\",\"x\":{\"field\":\"x\"},\"y\":{\"field\":\"y\"}},\"id\":\"ae439fca-81cf-4fe7-8594-ba1c61bb9238\",\"type\":\"Line\"},{\"attributes\":{},\"id\":\"27228d22-083a-431b-b50a-75eca4b30ffb\",\"type\":\"LogScale\"},{\"attributes\":{},\"id\":\"677b14d6-4f51-4364-8fde-a44b303df50c\",\"type\":\"HelpTool\"},{\"attributes\":{\"dimension\":1,\"plot\":{\"id\":\"68a7c840-badc-4e05-8720-cfc54631b37c\",\"subtype\":\"Figure\",\"type\":\"Plot\"},\"ticker\":{\"id\":\"d3c53d8d-9b27-4820-8f68-01dc1b50150e\",\"type\":\"LogTicker\"}},\"id\":\"35b3bc66-430c-476e-be0f-474be6a8616d\",\"type\":\"Grid\"},{\"attributes\":{\"plot\":{\"id\":\"68a7c840-badc-4e05-8720-cfc54631b37c\",\"subtype\":\"Figure\",\"type\":\"Plot\"},\"ticker\":{\"id\":\"21cf3fcd-48f3-46bc-b5a1-4263ff22ed21\",\"type\":\"LogTicker\"}},\"id\":\"867614bc-39b5-4e2b-bc84-1f9b873cc2c6\",\"type\":\"Grid\"},{\"attributes\":{\"format\":\"0[.]0 a\"},\"id\":\"bed21076-f097-429e-afbc-9c194e14eeb4\",\"type\":\"NumeralTickFormatter\"},{\"attributes\":{\"background_fill_alpha\":{\"value\":0.5},\"click_policy\":\"hide\",\"items\":[{\"id\":\"7dae66f1-f633-4299-b5fc-1257c296ad27\",\"type\":\"LegendItem\"}],\"location\":\"top_left\",\"plot\":{\"id\":\"68a7c840-badc-4e05-8720-cfc54631b37c\",\"subtype\":\"Figure\",\"type\":\"Plot\"}},\"id\":\"c76d89ed-9481-4122-8f55-6854dc00b8de\",\"type\":\"Legend\"},{\"attributes\":{\"label\":{\"value\":\"first_try\"},\"renderers\":[{\"id\":\"4b7f7498-8005-4333-a2bd-29f44cffcd96\",\"type\":\"GlyphRenderer\"},{\"id\":\"baba981c-46c8-426a-9268-01492ec793b5\",\"type\":\"GlyphRenderer\"}]},\"id\":\"7dae66f1-f633-4299-b5fc-1257c296ad27\",\"type\":\"LegendItem\"},{\"attributes\":{\"data_source\":{\"id\":\"ca4f9eb4-bd1a-4cd1-a01b-c7a4bf2f4d9b\",\"type\":\"ColumnDataSource\"},\"glyph\":{\"id\":\"09287d66-fc05-4277-949c-8de515079223\",\"type\":\"Circle\"},\"hover_glyph\":null,\"muted_glyph\":null,\"nonselection_glyph\":{\"id\":\"0a19ada1-f2bc-45ee-a160-9d7ba55df417\",\"type\":\"Circle\"},\"selection_glyph\":null,\"view\":{\"id\":\"b6b0ddc7-b091-432e-9511-f5c678576504\",\"type\":\"CDSView\"}},\"id\":\"baba981c-46c8-426a-9268-01492ec793b5\",\"type\":\"GlyphRenderer\"},{\"attributes\":{\"data_source\":{\"id\":\"ca4f9eb4-bd1a-4cd1-a01b-c7a4bf2f4d9b\",\"type\":\"ColumnDataSource\"},\"glyph\":{\"id\":\"ae439fca-81cf-4fe7-8594-ba1c61bb9238\",\"type\":\"Line\"},\"hover_glyph\":null,\"muted_glyph\":null,\"nonselection_glyph\":{\"id\":\"0a413a73-ac1b-4b4c-9930-411f244bf16d\",\"type\":\"Line\"},\"selection_glyph\":null,\"view\":{\"id\":\"7b76e9a7-7a8c-4f08-b202-83e7c7ba88a6\",\"type\":\"CDSView\"}},\"id\":\"4b7f7498-8005-4333-a2bd-29f44cffcd96\",\"type\":\"GlyphRenderer\"},{\"attributes\":{\"num_minor_ticks\":10},\"id\":\"d3c53d8d-9b27-4820-8f68-01dc1b50150e\",\"type\":\"LogTicker\"},{\"attributes\":{\"axis_label\":\"Seconds\",\"formatter\":{\"id\":\"ab94894b-1ba8-48f7-8c53-4aed9815f7c5\",\"type\":\"LogTickFormatter\"},\"plot\":{\"id\":\"68a7c840-badc-4e05-8720-cfc54631b37c\",\"subtype\":\"Figure\",\"type\":\"Plot\"},\"ticker\":{\"id\":\"d3c53d8d-9b27-4820-8f68-01dc1b50150e\",\"type\":\"LogTicker\"}},\"id\":\"57720201-ae47-4701-ad40-48364ac8c182\",\"type\":\"LogAxis\"},{\"attributes\":{\"ticker\":null},\"id\":\"ab94894b-1ba8-48f7-8c53-4aed9815f7c5\",\"type\":\"LogTickFormatter\"},{\"attributes\":{\"source\":{\"id\":\"ca4f9eb4-bd1a-4cd1-a01b-c7a4bf2f4d9b\",\"type\":\"ColumnDataSource\"}},\"id\":\"7b76e9a7-7a8c-4f08-b202-83e7c7ba88a6\",\"type\":\"CDSView\"},{\"attributes\":{\"line_alpha\":0.1,\"line_color\":\"#1f77b4\",\"x\":{\"field\":\"x\"},\"y\":{\"field\":\"y\"}},\"id\":\"0a413a73-ac1b-4b4c-9930-411f244bf16d\",\"type\":\"Line\"},{\"attributes\":{\"overlay\":{\"id\":\"e197e8e3-fab8-45bb-a721-20bac9fafa8a\",\"type\":\"BoxAnnotation\"}},\"id\":\"322117d2-133c-4d61-ad21-9e9625bde5bb\",\"type\":\"BoxZoomTool\"},{\"attributes\":{\"plot\":null,\"text\":\"Timing\"},\"id\":\"54f990b7-6423-49d5-be91-b751081c6530\",\"type\":\"Title\"},{\"attributes\":{\"callback\":null,\"start\":1e-06},\"id\":\"6ab0cc77-7faa-4e11-a53f-9bce0351e820\",\"type\":\"Range1d\"},{\"attributes\":{},\"id\":\"a197d001-acfe-4925-918d-e8754ba98cfb\",\"type\":\"LogScale\"},{\"attributes\":{\"callback\":null,\"start\":1},\"id\":\"8815d3ec-9982-4ab3-bf0e-14b57e15983e\",\"type\":\"DataRange1d\"},{\"attributes\":{\"fill_color\":{\"value\":\"#1f77b4\"},\"line_color\":{\"value\":\"#1f77b4\"},\"x\":{\"field\":\"x\"},\"y\":{\"field\":\"y\"}},\"id\":\"09287d66-fc05-4277-949c-8de515079223\",\"type\":\"Circle\"},{\"attributes\":{\"axis_label\":\"Primes\",\"formatter\":{\"id\":\"bed21076-f097-429e-afbc-9c194e14eeb4\",\"type\":\"NumeralTickFormatter\"},\"plot\":{\"id\":\"68a7c840-badc-4e05-8720-cfc54631b37c\",\"subtype\":\"Figure\",\"type\":\"Plot\"},\"ticker\":{\"id\":\"21cf3fcd-48f3-46bc-b5a1-4263ff22ed21\",\"type\":\"LogTicker\"}},\"id\":\"045b5136-7192-4a45-84f1-00f764c218e3\",\"type\":\"LogAxis\"},{\"attributes\":{\"fill_alpha\":{\"value\":0.1},\"fill_color\":{\"value\":\"#1f77b4\"},\"line_alpha\":{\"value\":0.1},\"line_color\":{\"value\":\"#1f77b4\"},\"x\":{\"field\":\"x\"},\"y\":{\"field\":\"y\"}},\"id\":\"0a19ada1-f2bc-45ee-a160-9d7ba55df417\",\"type\":\"Circle\"},{\"attributes\":{\"bottom_units\":\"screen\",\"fill_alpha\":{\"value\":0.5},\"fill_color\":{\"value\":\"lightgrey\"},\"left_units\":\"screen\",\"level\":\"overlay\",\"line_alpha\":{\"value\":1.0},\"line_color\":{\"value\":\"black\"},\"line_dash\":[4,4],\"line_width\":{\"value\":2},\"plot\":null,\"render_mode\":\"css\",\"right_units\":\"screen\",\"top_units\":\"screen\"},\"id\":\"e197e8e3-fab8-45bb-a721-20bac9fafa8a\",\"type\":\"BoxAnnotation\"},{\"attributes\":{},\"id\":\"bd1d297e-3fff-4487-a546-a7cd44e2219c\",\"type\":\"SaveTool\"},{\"attributes\":{\"active_drag\":\"auto\",\"active_inspect\":\"auto\",\"active_scroll\":\"auto\",\"active_tap\":\"auto\",\"tools\":[{\"id\":\"52d74371-2aac-4b55-b0a5-220b855000d2\",\"type\":\"PanTool\"},{\"id\":\"b58a1e29-3d42-4cb4-96f5-e21542b43ad9\",\"type\":\"WheelZoomTool\"},{\"id\":\"322117d2-133c-4d61-ad21-9e9625bde5bb\",\"type\":\"BoxZoomTool\"},{\"id\":\"bd1d297e-3fff-4487-a546-a7cd44e2219c\",\"type\":\"SaveTool\"},{\"id\":\"92528145-12f9-4d01-9e25-fe7ae227278f\",\"type\":\"ResetTool\"},{\"id\":\"677b14d6-4f51-4364-8fde-a44b303df50c\",\"type\":\"HelpTool\"}]},\"id\":\"9dd2a10e-a3d5-463a-8c32-3a6f3b0d2ecc\",\"type\":\"Toolbar\"},{\"attributes\":{\"source\":{\"id\":\"ca4f9eb4-bd1a-4cd1-a01b-c7a4bf2f4d9b\",\"type\":\"ColumnDataSource\"}},\"id\":\"b6b0ddc7-b091-432e-9511-f5c678576504\",\"type\":\"CDSView\"},{\"attributes\":{\"below\":[{\"id\":\"045b5136-7192-4a45-84f1-00f764c218e3\",\"type\":\"LogAxis\"}],\"left\":[{\"id\":\"57720201-ae47-4701-ad40-48364ac8c182\",\"type\":\"LogAxis\"}],\"plot_height\":400,\"plot_width\":800,\"renderers\":[{\"id\":\"045b5136-7192-4a45-84f1-00f764c218e3\",\"type\":\"LogAxis\"},{\"id\":\"867614bc-39b5-4e2b-bc84-1f9b873cc2c6\",\"type\":\"Grid\"},{\"id\":\"57720201-ae47-4701-ad40-48364ac8c182\",\"type\":\"LogAxis\"},{\"id\":\"35b3bc66-430c-476e-be0f-474be6a8616d\",\"type\":\"Grid\"},{\"id\":\"e197e8e3-fab8-45bb-a721-20bac9fafa8a\",\"type\":\"BoxAnnotation\"},{\"id\":\"c76d89ed-9481-4122-8f55-6854dc00b8de\",\"type\":\"Legend\"},{\"id\":\"4b7f7498-8005-4333-a2bd-29f44cffcd96\",\"type\":\"GlyphRenderer\"},{\"id\":\"baba981c-46c8-426a-9268-01492ec793b5\",\"type\":\"GlyphRenderer\"}],\"title\":{\"id\":\"54f990b7-6423-49d5-be91-b751081c6530\",\"type\":\"Title\"},\"toolbar\":{\"id\":\"9dd2a10e-a3d5-463a-8c32-3a6f3b0d2ecc\",\"type\":\"Toolbar\"},\"toolbar_location\":\"above\",\"x_range\":{\"id\":\"8815d3ec-9982-4ab3-bf0e-14b57e15983e\",\"type\":\"DataRange1d\"},\"x_scale\":{\"id\":\"27228d22-083a-431b-b50a-75eca4b30ffb\",\"type\":\"LogScale\"},\"y_range\":{\"id\":\"6ab0cc77-7faa-4e11-a53f-9bce0351e820\",\"type\":\"Range1d\"},\"y_scale\":{\"id\":\"a197d001-acfe-4925-918d-e8754ba98cfb\",\"type\":\"LogScale\"}},\"id\":\"68a7c840-badc-4e05-8720-cfc54631b37c\",\"subtype\":\"Figure\",\"type\":\"Plot\"},{\"attributes\":{\"num_minor_ticks\":10},\"id\":\"21cf3fcd-48f3-46bc-b5a1-4263ff22ed21\",\"type\":\"LogTicker\"},{\"attributes\":{},\"id\":\"b58a1e29-3d42-4cb4-96f5-e21542b43ad9\",\"type\":\"WheelZoomTool\"}],\"root_ids\":[\"68a7c840-badc-4e05-8720-cfc54631b37c\"]},\"title\":\"Bokeh Application\",\"version\":\"0.12.14\"}};\n",
       "  var render_items = [{\"docid\":\"4185b686-0259-445e-8543-2a1ab98491db\",\"elementid\":\"c381126c-6120-40e5-828c-0d27b4c2ad4d\",\"modelid\":\"68a7c840-badc-4e05-8720-cfc54631b37c\",\"notebook_comms_target\":\"85865d34-57e0-4a5a-a4b1-b1df0a2b4213\"}];\n",
       "  root.Bokeh.embed.embed_items_notebook(docs_json, render_items);\n",
       "\n",
       "  }\n",
       "  if (root.Bokeh !== undefined) {\n",
       "    embed_document(root);\n",
       "  } else {\n",
       "    var attempts = 0;\n",
       "    var timer = setInterval(function(root) {\n",
       "      if (root.Bokeh !== undefined) {\n",
       "        embed_document(root);\n",
       "        clearInterval(timer);\n",
       "      }\n",
       "      attempts++;\n",
       "      if (attempts > 100) {\n",
       "        console.log(\"Bokeh: ERROR: Unable to run BokehJS code because BokehJS library is missing\")\n",
       "        clearInterval(timer);\n",
       "      }\n",
       "    }, 10, root)\n",
       "  }\n",
       "})(window);"
      ],
      "application/vnd.bokehjs_exec.v0+json": ""
     },
     "metadata": {
      "application/vnd.bokehjs_exec.v0+json": {
       "id": "68a7c840-badc-4e05-8720-cfc54631b37c"
      }
     },
     "output_type": "display_data"
    }
   ],
   "source": [
    "timing_plot(first_try)"
   ]
  },
  {
   "cell_type": "markdown",
   "metadata": {
    "slideshow": {
     "slide_type": "slide"
    }
   },
   "source": [
    "## Can we make it faster?"
   ]
  },
  {
   "cell_type": "markdown",
   "metadata": {
    "slideshow": {
     "slide_type": "fragment"
    }
   },
   "source": [
    "### What about skipping all even numbers (apart from 2)?"
   ]
  },
  {
   "cell_type": "code",
   "execution_count": 7,
   "metadata": {
    "collapsed": true,
    "slideshow": {
     "slide_type": "fragment"
    }
   },
   "outputs": [],
   "source": [
    "from itertools import count\n",
    "\n",
    "def skip_even():\n",
    "    def is_prime(n):\n",
    "        for i in range(3, n, 2):\n",
    "            if n % i == 0:\n",
    "                return False\n",
    "        return True\n",
    "    yield 2\n",
    "    for i in count(3, 2):\n",
    "        if is_prime(i):\n",
    "            yield i"
   ]
  },
  {
   "cell_type": "markdown",
   "metadata": {
    "slideshow": {
     "slide_type": "slide"
    }
   },
   "source": [
    "### How much faster is it?"
   ]
  },
  {
   "cell_type": "code",
   "execution_count": 8,
   "metadata": {
    "slideshow": {
     "slide_type": "fragment"
    }
   },
   "outputs": [
    {
     "data": {
      "text/html": [
       "\n",
       "<div class=\"bk-root\">\n",
       "    <div class=\"bk-plotdiv\" id=\"077629fd-6d77-4d70-abc4-ab488c490592\"></div>\n",
       "</div>"
      ]
     },
     "metadata": {},
     "output_type": "display_data"
    },
    {
     "data": {
      "application/javascript": [
       "(function(root) {\n",
       "  function embed_document(root) {\n",
       "    \n",
       "  var docs_json = {\"3d427863-89af-43a5-a214-f3cf82a69109\":{\"roots\":{\"references\":[{\"attributes\":{\"callback\":null,\"start\":1},\"id\":\"070401d3-304e-468e-8dfb-8ab37b77c832\",\"type\":\"DataRange1d\"},{\"attributes\":{\"source\":{\"id\":\"0c7e8625-1d46-4212-86bf-5959dbe12862\",\"type\":\"ColumnDataSource\"}},\"id\":\"3c77f11b-1ce0-4773-871e-8b75a4505508\",\"type\":\"CDSView\"},{\"attributes\":{\"line_alpha\":0.1,\"line_color\":\"#1f77b4\",\"line_dash\":[6],\"x\":{\"field\":\"x\"},\"y\":{\"field\":\"y\"}},\"id\":\"7bc993d1-cb38-40fd-a333-7ed45edf7d64\",\"type\":\"Line\"},{\"attributes\":{\"label\":{\"value\":\"skip_even\"},\"renderers\":[{\"id\":\"854c0661-d5c2-44fe-a0e3-61adef5fa60f\",\"type\":\"GlyphRenderer\"},{\"id\":\"43f76697-bf64-4c8a-9868-6fce5fbcfc0c\",\"type\":\"GlyphRenderer\"}]},\"id\":\"021b56a3-08f4-4e81-9f92-e68691526a8b\",\"type\":\"LegendItem\"},{\"attributes\":{\"data_source\":{\"id\":\"0c7e8625-1d46-4212-86bf-5959dbe12862\",\"type\":\"ColumnDataSource\"},\"glyph\":{\"id\":\"aec83637-9b77-4594-abeb-5815ddaaf827\",\"type\":\"Circle\"},\"hover_glyph\":null,\"muted_glyph\":null,\"nonselection_glyph\":{\"id\":\"7b546902-46ea-43b4-a9e7-5f8e11f4b196\",\"type\":\"Circle\"},\"selection_glyph\":null,\"view\":{\"id\":\"34e36068-76b9-4a52-a90d-a47069767257\",\"type\":\"CDSView\"}},\"id\":\"43f76697-bf64-4c8a-9868-6fce5fbcfc0c\",\"type\":\"GlyphRenderer\"},{\"attributes\":{\"format\":\"0[.]0 a\"},\"id\":\"b1371999-28e3-454e-adc0-72dbdb620caa\",\"type\":\"NumeralTickFormatter\"},{\"attributes\":{\"below\":[{\"id\":\"580149ae-768b-4a99-b410-2104917e3790\",\"type\":\"LogAxis\"}],\"left\":[{\"id\":\"2fa63767-0705-4493-9b96-5076a0f2f0de\",\"type\":\"LogAxis\"}],\"plot_height\":400,\"plot_width\":800,\"renderers\":[{\"id\":\"580149ae-768b-4a99-b410-2104917e3790\",\"type\":\"LogAxis\"},{\"id\":\"be5bf445-325b-48c0-8ba6-eba5cb14d8ac\",\"type\":\"Grid\"},{\"id\":\"2fa63767-0705-4493-9b96-5076a0f2f0de\",\"type\":\"LogAxis\"},{\"id\":\"75904ab3-3968-48f3-b463-a01dcdda17f0\",\"type\":\"Grid\"},{\"id\":\"65006354-348b-4310-aeb6-712f9fd84e61\",\"type\":\"BoxAnnotation\"},{\"id\":\"73014b8b-23a3-4e07-b65b-b037ed03ade6\",\"type\":\"Legend\"},{\"id\":\"3aec6f1f-867b-4d90-aa7d-92c17573791a\",\"type\":\"GlyphRenderer\"},{\"id\":\"a163fd8b-7eb7-48e7-938a-a393b5d1e0cf\",\"type\":\"GlyphRenderer\"},{\"id\":\"854c0661-d5c2-44fe-a0e3-61adef5fa60f\",\"type\":\"GlyphRenderer\"},{\"id\":\"43f76697-bf64-4c8a-9868-6fce5fbcfc0c\",\"type\":\"GlyphRenderer\"}],\"title\":{\"id\":\"3f8d4439-512d-4656-899b-f3003ae7522f\",\"type\":\"Title\"},\"toolbar\":{\"id\":\"1ca9d7d6-4e04-4025-aed4-0d1a3b28b489\",\"type\":\"Toolbar\"},\"toolbar_location\":\"above\",\"x_range\":{\"id\":\"070401d3-304e-468e-8dfb-8ab37b77c832\",\"type\":\"DataRange1d\"},\"x_scale\":{\"id\":\"2a6cf709-85bb-4ddf-b86d-f958d3e7f141\",\"type\":\"LogScale\"},\"y_range\":{\"id\":\"ebfbb188-2aaf-4ebd-a38a-946837afe63b\",\"type\":\"Range1d\"},\"y_scale\":{\"id\":\"58eb189f-e323-4677-aba6-9e1886395296\",\"type\":\"LogScale\"}},\"id\":\"45de9f2d-98cc-460c-9997-3121daf3fed0\",\"subtype\":\"Figure\",\"type\":\"Plot\"},{\"attributes\":{\"plot\":null,\"text\":\"Timing\"},\"id\":\"3f8d4439-512d-4656-899b-f3003ae7522f\",\"type\":\"Title\"},{\"attributes\":{\"fill_alpha\":{\"value\":0.1},\"fill_color\":{\"value\":\"#1f77b4\"},\"line_alpha\":{\"value\":0.1},\"line_color\":{\"value\":\"#1f77b4\"},\"x\":{\"field\":\"x\"},\"y\":{\"field\":\"y\"}},\"id\":\"7b546902-46ea-43b4-a9e7-5f8e11f4b196\",\"type\":\"Circle\"},{\"attributes\":{\"callback\":null,\"start\":1e-06},\"id\":\"ebfbb188-2aaf-4ebd-a38a-946837afe63b\",\"type\":\"Range1d\"},{\"attributes\":{\"fill_color\":{\"value\":\"#ff7f0e\"},\"line_color\":{\"value\":\"#ff7f0e\"},\"x\":{\"field\":\"x\"},\"y\":{\"field\":\"y\"}},\"id\":\"aec83637-9b77-4594-abeb-5815ddaaf827\",\"type\":\"Circle\"},{\"attributes\":{\"active_drag\":\"auto\",\"active_inspect\":\"auto\",\"active_scroll\":\"auto\",\"active_tap\":\"auto\",\"tools\":[{\"id\":\"c48cf204-423a-4527-a567-28791c7661f3\",\"type\":\"PanTool\"},{\"id\":\"0b33cbca-4042-4d70-90e3-40e93483dd15\",\"type\":\"WheelZoomTool\"},{\"id\":\"ca18e5c5-8963-4aa0-ba45-b27119c985b4\",\"type\":\"BoxZoomTool\"},{\"id\":\"1e9981eb-3829-48a1-929f-2a31691f1c29\",\"type\":\"SaveTool\"},{\"id\":\"1cb329ee-7d55-4019-8503-de165928d6b3\",\"type\":\"ResetTool\"},{\"id\":\"bb9e5c69-3579-44f5-81e3-f3de40c268c0\",\"type\":\"HelpTool\"}]},\"id\":\"1ca9d7d6-4e04-4025-aed4-0d1a3b28b489\",\"type\":\"Toolbar\"},{\"attributes\":{\"source\":{\"id\":\"0c7e8625-1d46-4212-86bf-5959dbe12862\",\"type\":\"ColumnDataSource\"}},\"id\":\"34e36068-76b9-4a52-a90d-a47069767257\",\"type\":\"CDSView\"},{\"attributes\":{\"num_minor_ticks\":10},\"id\":\"e5aaff6d-62c7-4851-8230-718a85abf9cc\",\"type\":\"LogTicker\"},{\"attributes\":{\"num_minor_ticks\":10},\"id\":\"8cc1e21f-9c33-4272-ad3e-6686168fcc40\",\"type\":\"LogTicker\"},{\"attributes\":{\"plot\":{\"id\":\"45de9f2d-98cc-460c-9997-3121daf3fed0\",\"subtype\":\"Figure\",\"type\":\"Plot\"},\"ticker\":{\"id\":\"e5aaff6d-62c7-4851-8230-718a85abf9cc\",\"type\":\"LogTicker\"}},\"id\":\"be5bf445-325b-48c0-8ba6-eba5cb14d8ac\",\"type\":\"Grid\"},{\"attributes\":{},\"id\":\"2a6cf709-85bb-4ddf-b86d-f958d3e7f141\",\"type\":\"LogScale\"},{\"attributes\":{\"axis_label\":\"Primes\",\"formatter\":{\"id\":\"b1371999-28e3-454e-adc0-72dbdb620caa\",\"type\":\"NumeralTickFormatter\"},\"plot\":{\"id\":\"45de9f2d-98cc-460c-9997-3121daf3fed0\",\"subtype\":\"Figure\",\"type\":\"Plot\"},\"ticker\":{\"id\":\"e5aaff6d-62c7-4851-8230-718a85abf9cc\",\"type\":\"LogTicker\"}},\"id\":\"580149ae-768b-4a99-b410-2104917e3790\",\"type\":\"LogAxis\"},{\"attributes\":{},\"id\":\"58eb189f-e323-4677-aba6-9e1886395296\",\"type\":\"LogScale\"},{\"attributes\":{\"axis_label\":\"Seconds\",\"formatter\":{\"id\":\"f2345675-6fd4-4875-978c-a9e10c81da56\",\"type\":\"LogTickFormatter\"},\"plot\":{\"id\":\"45de9f2d-98cc-460c-9997-3121daf3fed0\",\"subtype\":\"Figure\",\"type\":\"Plot\"},\"ticker\":{\"id\":\"8cc1e21f-9c33-4272-ad3e-6686168fcc40\",\"type\":\"LogTicker\"}},\"id\":\"2fa63767-0705-4493-9b96-5076a0f2f0de\",\"type\":\"LogAxis\"},{\"attributes\":{\"dimension\":1,\"plot\":{\"id\":\"45de9f2d-98cc-460c-9997-3121daf3fed0\",\"subtype\":\"Figure\",\"type\":\"Plot\"},\"ticker\":{\"id\":\"8cc1e21f-9c33-4272-ad3e-6686168fcc40\",\"type\":\"LogTicker\"}},\"id\":\"75904ab3-3968-48f3-b463-a01dcdda17f0\",\"type\":\"Grid\"},{\"attributes\":{\"line_color\":\"#1f77b4\",\"line_dash\":[6],\"x\":{\"field\":\"x\"},\"y\":{\"field\":\"y\"}},\"id\":\"722e91a0-a3a3-45cb-bd63-9b83b99c0412\",\"type\":\"Line\"},{\"attributes\":{\"line_color\":\"#ff7f0e\",\"x\":{\"field\":\"x\"},\"y\":{\"field\":\"y\"}},\"id\":\"a027e891-46be-44ab-aef4-3821bb539017\",\"type\":\"Line\"},{\"attributes\":{\"data_source\":{\"id\":\"0c7e8625-1d46-4212-86bf-5959dbe12862\",\"type\":\"ColumnDataSource\"},\"glyph\":{\"id\":\"a027e891-46be-44ab-aef4-3821bb539017\",\"type\":\"Line\"},\"hover_glyph\":null,\"muted_glyph\":null,\"nonselection_glyph\":{\"id\":\"26a722f2-426d-453a-b841-c72a0f7a4e39\",\"type\":\"Line\"},\"selection_glyph\":null,\"view\":{\"id\":\"3c77f11b-1ce0-4773-871e-8b75a4505508\",\"type\":\"CDSView\"}},\"id\":\"854c0661-d5c2-44fe-a0e3-61adef5fa60f\",\"type\":\"GlyphRenderer\"},{\"attributes\":{\"background_fill_alpha\":{\"value\":0.5},\"click_policy\":\"hide\",\"items\":[{\"id\":\"67570d2d-d430-4ccf-aae4-eb83a7a9c991\",\"type\":\"LegendItem\"},{\"id\":\"021b56a3-08f4-4e81-9f92-e68691526a8b\",\"type\":\"LegendItem\"}],\"location\":\"top_left\",\"plot\":{\"id\":\"45de9f2d-98cc-460c-9997-3121daf3fed0\",\"subtype\":\"Figure\",\"type\":\"Plot\"}},\"id\":\"73014b8b-23a3-4e07-b65b-b037ed03ade6\",\"type\":\"Legend\"},{\"attributes\":{\"line_alpha\":0.1,\"line_color\":\"#1f77b4\",\"x\":{\"field\":\"x\"},\"y\":{\"field\":\"y\"}},\"id\":\"26a722f2-426d-453a-b841-c72a0f7a4e39\",\"type\":\"Line\"},{\"attributes\":{\"callback\":null,\"column_names\":[\"x\",\"y\"],\"data\":{\"x\":[1,2,5,10,20,50,100,200,500,1000,2000],\"y\":[3.91571840737015e-06,7.2433939203619956e-06,1.4987080940045414e-05,3.0398783273994922e-05,7.70214624935761e-05,0.0003747431433293968,0.0015680668415734545,0.00739021853893064,0.05986085925658699,0.29679561396478676,1.2218749636859867]}},\"id\":\"549619c2-5d21-4990-a0e3-77442a0cdcb5\",\"type\":\"ColumnDataSource\"},{\"attributes\":{\"fill_alpha\":{\"value\":0.1},\"fill_color\":{\"value\":\"#1f77b4\"},\"line_alpha\":{\"value\":0.1},\"line_color\":{\"value\":\"#1f77b4\"},\"x\":{\"field\":\"x\"},\"y\":{\"field\":\"y\"}},\"id\":\"becaf48b-7757-41a7-95ed-90ba80960a2e\",\"type\":\"Circle\"},{\"attributes\":{\"bottom_units\":\"screen\",\"fill_alpha\":{\"value\":0.5},\"fill_color\":{\"value\":\"lightgrey\"},\"left_units\":\"screen\",\"level\":\"overlay\",\"line_alpha\":{\"value\":1.0},\"line_color\":{\"value\":\"black\"},\"line_dash\":[4,4],\"line_width\":{\"value\":2},\"plot\":null,\"render_mode\":\"css\",\"right_units\":\"screen\",\"top_units\":\"screen\"},\"id\":\"65006354-348b-4310-aeb6-712f9fd84e61\",\"type\":\"BoxAnnotation\"},{\"attributes\":{\"callback\":null,\"column_names\":[\"x\",\"y\"],\"data\":{\"x\":[],\"y\":[]}},\"id\":\"0c7e8625-1d46-4212-86bf-5959dbe12862\",\"type\":\"ColumnDataSource\"},{\"attributes\":{},\"id\":\"c48cf204-423a-4527-a567-28791c7661f3\",\"type\":\"PanTool\"},{\"attributes\":{\"source\":{\"id\":\"90c1cbff-c89d-4753-bace-61752cd02483\",\"type\":\"ColumnDataSource\"}},\"id\":\"4309cd85-7702-431b-afb8-a89956cd5d04\",\"type\":\"CDSView\"},{\"attributes\":{\"data_source\":{\"id\":\"549619c2-5d21-4990-a0e3-77442a0cdcb5\",\"type\":\"ColumnDataSource\"},\"glyph\":{\"id\":\"722e91a0-a3a3-45cb-bd63-9b83b99c0412\",\"type\":\"Line\"},\"hover_glyph\":null,\"muted_glyph\":null,\"nonselection_glyph\":{\"id\":\"7bc993d1-cb38-40fd-a333-7ed45edf7d64\",\"type\":\"Line\"},\"selection_glyph\":null,\"view\":{\"id\":\"2145ae73-ec32-4634-8e5c-25b284886d63\",\"type\":\"CDSView\"}},\"id\":\"3aec6f1f-867b-4d90-aa7d-92c17573791a\",\"type\":\"GlyphRenderer\"},{\"attributes\":{\"data_source\":{\"id\":\"90c1cbff-c89d-4753-bace-61752cd02483\",\"type\":\"ColumnDataSource\"},\"glyph\":{\"id\":\"d9360e2a-fedb-4728-b521-a67ecc128d90\",\"type\":\"Circle\"},\"hover_glyph\":null,\"muted_glyph\":null,\"nonselection_glyph\":{\"id\":\"becaf48b-7757-41a7-95ed-90ba80960a2e\",\"type\":\"Circle\"},\"selection_glyph\":null,\"view\":{\"id\":\"4309cd85-7702-431b-afb8-a89956cd5d04\",\"type\":\"CDSView\"}},\"id\":\"a163fd8b-7eb7-48e7-938a-a393b5d1e0cf\",\"type\":\"GlyphRenderer\"},{\"attributes\":{},\"id\":\"0b33cbca-4042-4d70-90e3-40e93483dd15\",\"type\":\"WheelZoomTool\"},{\"attributes\":{\"overlay\":{\"id\":\"65006354-348b-4310-aeb6-712f9fd84e61\",\"type\":\"BoxAnnotation\"}},\"id\":\"ca18e5c5-8963-4aa0-ba45-b27119c985b4\",\"type\":\"BoxZoomTool\"},{\"attributes\":{},\"id\":\"1e9981eb-3829-48a1-929f-2a31691f1c29\",\"type\":\"SaveTool\"},{\"attributes\":{\"callback\":null,\"column_names\":[\"x\",\"y\"],\"data\":{\"x\":[1,2,5,10,20,50,100,200,500,1000,2000],\"y\":[3.91571840737015e-06,7.2433939203619956e-06,1.4987080940045414e-05,3.0398783273994922e-05,7.70214624935761e-05,0.0003747431433293968,0.0015680668415734545,0.00739021853893064,0.05986085925658699,0.29679561396478676,1.2218749636859867]}},\"id\":\"90c1cbff-c89d-4753-bace-61752cd02483\",\"type\":\"ColumnDataSource\"},{\"attributes\":{},\"id\":\"1cb329ee-7d55-4019-8503-de165928d6b3\",\"type\":\"ResetTool\"},{\"attributes\":{},\"id\":\"bb9e5c69-3579-44f5-81e3-f3de40c268c0\",\"type\":\"HelpTool\"},{\"attributes\":{\"fill_color\":{\"value\":\"#1f77b4\"},\"line_color\":{\"value\":\"#1f77b4\"},\"x\":{\"field\":\"x\"},\"y\":{\"field\":\"y\"}},\"id\":\"d9360e2a-fedb-4728-b521-a67ecc128d90\",\"type\":\"Circle\"},{\"attributes\":{\"source\":{\"id\":\"549619c2-5d21-4990-a0e3-77442a0cdcb5\",\"type\":\"ColumnDataSource\"}},\"id\":\"2145ae73-ec32-4634-8e5c-25b284886d63\",\"type\":\"CDSView\"},{\"attributes\":{\"ticker\":null},\"id\":\"f2345675-6fd4-4875-978c-a9e10c81da56\",\"type\":\"LogTickFormatter\"},{\"attributes\":{\"label\":{\"value\":\"first_try\"},\"renderers\":[{\"id\":\"3aec6f1f-867b-4d90-aa7d-92c17573791a\",\"type\":\"GlyphRenderer\"},{\"id\":\"a163fd8b-7eb7-48e7-938a-a393b5d1e0cf\",\"type\":\"GlyphRenderer\"}]},\"id\":\"67570d2d-d430-4ccf-aae4-eb83a7a9c991\",\"type\":\"LegendItem\"}],\"root_ids\":[\"45de9f2d-98cc-460c-9997-3121daf3fed0\"]},\"title\":\"Bokeh Application\",\"version\":\"0.12.14\"}};\n",
       "  var render_items = [{\"docid\":\"3d427863-89af-43a5-a214-f3cf82a69109\",\"elementid\":\"077629fd-6d77-4d70-abc4-ab488c490592\",\"modelid\":\"45de9f2d-98cc-460c-9997-3121daf3fed0\",\"notebook_comms_target\":\"2d86d540-0a72-4c87-9e18-98e291cc1d5d\"}];\n",
       "  root.Bokeh.embed.embed_items_notebook(docs_json, render_items);\n",
       "\n",
       "  }\n",
       "  if (root.Bokeh !== undefined) {\n",
       "    embed_document(root);\n",
       "  } else {\n",
       "    var attempts = 0;\n",
       "    var timer = setInterval(function(root) {\n",
       "      if (root.Bokeh !== undefined) {\n",
       "        embed_document(root);\n",
       "        clearInterval(timer);\n",
       "      }\n",
       "      attempts++;\n",
       "      if (attempts > 100) {\n",
       "        console.log(\"Bokeh: ERROR: Unable to run BokehJS code because BokehJS library is missing\")\n",
       "        clearInterval(timer);\n",
       "      }\n",
       "    }, 10, root)\n",
       "  }\n",
       "})(window);"
      ],
      "application/vnd.bokehjs_exec.v0+json": ""
     },
     "metadata": {
      "application/vnd.bokehjs_exec.v0+json": {
       "id": "45de9f2d-98cc-460c-9997-3121daf3fed0"
      }
     },
     "output_type": "display_data"
    }
   ],
   "source": [
    "timing_plot(skip_even)"
   ]
  },
  {
   "cell_type": "markdown",
   "metadata": {
    "slideshow": {
     "slide_type": "slide"
    }
   },
   "source": [
    "## Can we reduce the number of checks further?"
   ]
  },
  {
   "cell_type": "markdown",
   "metadata": {
    "slideshow": {
     "slide_type": "fragment"
    }
   },
   "source": [
    "### Yes!\n",
    "Factors always come in pairs: if $n$ has a factor $f$, then $g = n / f$ must also be a factor.  \n",
    "If $f \\leq \\sqrt n$ then $g \\geq \\sqrt n$, and vice versa (equal when $f = g = \\sqrt n$).  \n",
    "So if $n$ has any prime factors, at least one of them must always be $\\leq \\sqrt n$,  \n",
    "and therefore we can stop checking once we reach $\\sqrt n$."
   ]
  },
  {
   "cell_type": "code",
   "execution_count": 9,
   "metadata": {
    "collapsed": true,
    "slideshow": {
     "slide_type": "slide"
    }
   },
   "outputs": [],
   "source": [
    "from itertools import count\n",
    "from math import sqrt\n",
    "\n",
    "def to_sqrt():\n",
    "    def is_prime(n):\n",
    "        for i in range(3, int(sqrt(n)) + 1, 2):\n",
    "            if n % i == 0:\n",
    "                return False\n",
    "        return True\n",
    "    yield 2\n",
    "    for i in count(3, 2):\n",
    "        if is_prime(i):\n",
    "            yield i"
   ]
  },
  {
   "cell_type": "markdown",
   "metadata": {
    "slideshow": {
     "slide_type": "slide"
    }
   },
   "source": [
    "## How much faster is this?"
   ]
  },
  {
   "cell_type": "code",
   "execution_count": 10,
   "metadata": {
    "scrolled": false,
    "slideshow": {
     "slide_type": "fragment"
    }
   },
   "outputs": [
    {
     "data": {
      "text/html": [
       "\n",
       "<div class=\"bk-root\">\n",
       "    <div class=\"bk-plotdiv\" id=\"173c1d3e-6a96-4e26-b68e-22c4628d9917\"></div>\n",
       "</div>"
      ]
     },
     "metadata": {},
     "output_type": "display_data"
    },
    {
     "data": {
      "application/javascript": [
       "(function(root) {\n",
       "  function embed_document(root) {\n",
       "    \n",
       "  var docs_json = {\"ea59fc6c-507f-4c50-953f-02ff5c25a7f1\":{\"roots\":{\"references\":[{\"attributes\":{\"data_source\":{\"id\":\"5a46d6b1-c36f-4f56-9c62-3b2b9225688c\",\"type\":\"ColumnDataSource\"},\"glyph\":{\"id\":\"08a7d7ae-65bd-46f8-b593-e81eae8b7ab8\",\"type\":\"Circle\"},\"hover_glyph\":null,\"muted_glyph\":null,\"nonselection_glyph\":{\"id\":\"1ff97c45-4d16-400a-903c-445f73164907\",\"type\":\"Circle\"},\"selection_glyph\":null,\"view\":{\"id\":\"d0ac4dd8-810e-4789-bf9b-1ef7fad17e04\",\"type\":\"CDSView\"}},\"id\":\"48836d6b-a5e7-41e0-a916-07a5b4a5dcbe\",\"type\":\"GlyphRenderer\"},{\"attributes\":{\"num_minor_ticks\":10},\"id\":\"ebb4fa54-dbbb-431f-b479-89a4d6402148\",\"type\":\"LogTicker\"},{\"attributes\":{\"fill_alpha\":{\"value\":0.1},\"fill_color\":{\"value\":\"#1f77b4\"},\"line_alpha\":{\"value\":0.1},\"line_color\":{\"value\":\"#1f77b4\"},\"x\":{\"field\":\"x\"},\"y\":{\"field\":\"y\"}},\"id\":\"1b0620ea-0e3c-4e75-9445-40f683ca5df3\",\"type\":\"Circle\"},{\"attributes\":{\"fill_color\":{\"value\":\"#2ca02c\"},\"line_color\":{\"value\":\"#2ca02c\"},\"x\":{\"field\":\"x\"},\"y\":{\"field\":\"y\"}},\"id\":\"ef1f7d04-d368-4eb9-9ab9-07fe120d9c76\",\"type\":\"Circle\"},{\"attributes\":{\"callback\":null,\"column_names\":[\"x\",\"y\"],\"data\":{\"x\":[1,2,5,10,20,50,100,200,500,1000,2000,5000],\"y\":[1.928683486767113e-06,5.348356207832694e-06,1.0088062263093889e-05,1.932975254021585e-05,4.36724309111014e-05,0.00019079910591244696,0.0007820247969357296,0.0036099665006622673,0.029195572207099757,0.15714686589781196,0.6617195535992506,4.328593240285991]}},\"id\":\"5a46d6b1-c36f-4f56-9c62-3b2b9225688c\",\"type\":\"ColumnDataSource\"},{\"attributes\":{\"fill_alpha\":{\"value\":0.1},\"fill_color\":{\"value\":\"#1f77b4\"},\"line_alpha\":{\"value\":0.1},\"line_color\":{\"value\":\"#1f77b4\"},\"x\":{\"field\":\"x\"},\"y\":{\"field\":\"y\"}},\"id\":\"1ff97c45-4d16-400a-903c-445f73164907\",\"type\":\"Circle\"},{\"attributes\":{\"plot\":{\"id\":\"2eb391f5-4b62-4a08-b25c-3602c58fb96d\",\"subtype\":\"Figure\",\"type\":\"Plot\"},\"ticker\":{\"id\":\"ebb4fa54-dbbb-431f-b479-89a4d6402148\",\"type\":\"LogTicker\"}},\"id\":\"614e8f67-2e87-4c84-b43e-fa45a5afd98a\",\"type\":\"Grid\"},{\"attributes\":{\"data_source\":{\"id\":\"4243239c-87c7-4f36-b076-0f6bf7109235\",\"type\":\"ColumnDataSource\"},\"glyph\":{\"id\":\"c30082af-0a82-42a8-97dd-88efcfd4cc6c\",\"type\":\"Line\"},\"hover_glyph\":null,\"muted_glyph\":null,\"nonselection_glyph\":{\"id\":\"3e265059-c872-4354-be29-078c388bd10b\",\"type\":\"Line\"},\"selection_glyph\":null,\"view\":{\"id\":\"62624920-e956-4f7f-985c-5a0bf30d8e4d\",\"type\":\"CDSView\"}},\"id\":\"b49e97ce-4e54-4459-9349-15699ed84c68\",\"type\":\"GlyphRenderer\"},{\"attributes\":{\"fill_color\":{\"value\":\"#ff7f0e\"},\"line_color\":{\"value\":\"#ff7f0e\"},\"x\":{\"field\":\"x\"},\"y\":{\"field\":\"y\"}},\"id\":\"08a7d7ae-65bd-46f8-b593-e81eae8b7ab8\",\"type\":\"Circle\"},{\"attributes\":{},\"id\":\"2e3fe102-6a99-4e47-98cf-094f79912f72\",\"type\":\"LogScale\"},{\"attributes\":{\"axis_label\":\"Primes\",\"formatter\":{\"id\":\"6a57a42a-c50f-4155-b36b-ec6ee99615bc\",\"type\":\"NumeralTickFormatter\"},\"plot\":{\"id\":\"2eb391f5-4b62-4a08-b25c-3602c58fb96d\",\"subtype\":\"Figure\",\"type\":\"Plot\"},\"ticker\":{\"id\":\"ebb4fa54-dbbb-431f-b479-89a4d6402148\",\"type\":\"LogTicker\"}},\"id\":\"409890bb-e66a-4865-8341-8943ca79e1f4\",\"type\":\"LogAxis\"},{\"attributes\":{\"fill_color\":{\"value\":\"#1f77b4\"},\"line_color\":{\"value\":\"#1f77b4\"},\"x\":{\"field\":\"x\"},\"y\":{\"field\":\"y\"}},\"id\":\"38c03740-9672-40ea-a9bc-e358db26bbdc\",\"type\":\"Circle\"},{\"attributes\":{},\"id\":\"e40a8975-1b84-4fa0-a8e4-c836010d4167\",\"type\":\"LogScale\"},{\"attributes\":{\"num_minor_ticks\":10},\"id\":\"c5ff05d6-1a6b-4322-98a0-957369cc64fb\",\"type\":\"LogTicker\"},{\"attributes\":{\"axis_label\":\"Seconds\",\"formatter\":{\"id\":\"04dcc674-e004-4f32-9b53-fa48639ad3a0\",\"type\":\"LogTickFormatter\"},\"plot\":{\"id\":\"2eb391f5-4b62-4a08-b25c-3602c58fb96d\",\"subtype\":\"Figure\",\"type\":\"Plot\"},\"ticker\":{\"id\":\"c5ff05d6-1a6b-4322-98a0-957369cc64fb\",\"type\":\"LogTicker\"}},\"id\":\"d18b78c0-1187-4fa0-8430-fdb20b4a0835\",\"type\":\"LogAxis\"},{\"attributes\":{\"dimension\":1,\"plot\":{\"id\":\"2eb391f5-4b62-4a08-b25c-3602c58fb96d\",\"subtype\":\"Figure\",\"type\":\"Plot\"},\"ticker\":{\"id\":\"c5ff05d6-1a6b-4322-98a0-957369cc64fb\",\"type\":\"LogTicker\"}},\"id\":\"746b9597-6e3f-4ba1-87b0-e63683bf3e19\",\"type\":\"Grid\"},{\"attributes\":{\"background_fill_alpha\":{\"value\":0.5},\"click_policy\":\"hide\",\"items\":[{\"id\":\"8ebe743f-19d8-44cc-8dac-6ff39b16329f\",\"type\":\"LegendItem\"},{\"id\":\"d208ae61-3058-4133-a975-ff4e3bd5520c\",\"type\":\"LegendItem\"},{\"id\":\"8af60a0f-47ca-42ea-974e-0c15256695de\",\"type\":\"LegendItem\"}],\"location\":\"top_left\",\"plot\":{\"id\":\"2eb391f5-4b62-4a08-b25c-3602c58fb96d\",\"subtype\":\"Figure\",\"type\":\"Plot\"}},\"id\":\"4dc30141-ed10-4d8d-a024-a44d1986b63a\",\"type\":\"Legend\"},{\"attributes\":{\"callback\":null,\"column_names\":[\"x\",\"y\"],\"data\":{\"x\":[1,2,5,10,20,50,100,200,500,1000,2000,5000],\"y\":[1.928683486767113e-06,5.348356207832694e-06,1.0088062263093889e-05,1.932975254021585e-05,4.36724309111014e-05,0.00019079910591244696,0.0007820247969357296,0.0036099665006622673,0.029195572207099757,0.15714686589781196,0.6617195535992506,4.328593240285991]}},\"id\":\"ef900f1f-a453-4c2a-a934-a56d17345276\",\"type\":\"ColumnDataSource\"},{\"attributes\":{\"source\":{\"id\":\"f57652a7-8d01-4d81-b726-fbfd454a549b\",\"type\":\"ColumnDataSource\"}},\"id\":\"733b66a6-36df-41b6-812e-2788af2db339\",\"type\":\"CDSView\"},{\"attributes\":{\"data_source\":{\"id\":\"7a97e8a2-0c75-4e2a-9472-ca4ebd74c27f\",\"type\":\"ColumnDataSource\"},\"glyph\":{\"id\":\"38c03740-9672-40ea-a9bc-e358db26bbdc\",\"type\":\"Circle\"},\"hover_glyph\":null,\"muted_glyph\":null,\"nonselection_glyph\":{\"id\":\"f8a77983-ba98-42b4-aa0a-7351c2120e0e\",\"type\":\"Circle\"},\"selection_glyph\":null,\"view\":{\"id\":\"25f749c9-e6af-4476-95e8-70804279efde\",\"type\":\"CDSView\"}},\"id\":\"0d544985-832b-4d8a-a1f4-cec9025fe6f2\",\"type\":\"GlyphRenderer\"},{\"attributes\":{\"label\":{\"value\":\"first_try\"},\"renderers\":[{\"id\":\"b49e97ce-4e54-4459-9349-15699ed84c68\",\"type\":\"GlyphRenderer\"},{\"id\":\"0d544985-832b-4d8a-a1f4-cec9025fe6f2\",\"type\":\"GlyphRenderer\"}]},\"id\":\"8ebe743f-19d8-44cc-8dac-6ff39b16329f\",\"type\":\"LegendItem\"},{\"attributes\":{\"source\":{\"id\":\"4243239c-87c7-4f36-b076-0f6bf7109235\",\"type\":\"ColumnDataSource\"}},\"id\":\"62624920-e956-4f7f-985c-5a0bf30d8e4d\",\"type\":\"CDSView\"},{\"attributes\":{\"callback\":null,\"column_names\":[\"x\",\"y\"],\"data\":{\"x\":[1,2,5,10,20,50,100,200,500,1000,2000],\"y\":[3.91571840737015e-06,7.2433939203619956e-06,1.4987080940045414e-05,3.0398783273994922e-05,7.70214624935761e-05,0.0003747431433293968,0.0015680668415734545,0.00739021853893064,0.05986085925658699,0.29679561396478676,1.2218749636859867]}},\"id\":\"4243239c-87c7-4f36-b076-0f6bf7109235\",\"type\":\"ColumnDataSource\"},{\"attributes\":{\"data_source\":{\"id\":\"f57652a7-8d01-4d81-b726-fbfd454a549b\",\"type\":\"ColumnDataSource\"},\"glyph\":{\"id\":\"ef1f7d04-d368-4eb9-9ab9-07fe120d9c76\",\"type\":\"Circle\"},\"hover_glyph\":null,\"muted_glyph\":null,\"nonselection_glyph\":{\"id\":\"1b0620ea-0e3c-4e75-9445-40f683ca5df3\",\"type\":\"Circle\"},\"selection_glyph\":null,\"view\":{\"id\":\"733b66a6-36df-41b6-812e-2788af2db339\",\"type\":\"CDSView\"}},\"id\":\"d943f8ae-3884-432e-a799-8e300b4fb7bc\",\"type\":\"GlyphRenderer\"},{\"attributes\":{\"fill_alpha\":{\"value\":0.1},\"fill_color\":{\"value\":\"#1f77b4\"},\"line_alpha\":{\"value\":0.1},\"line_color\":{\"value\":\"#1f77b4\"},\"x\":{\"field\":\"x\"},\"y\":{\"field\":\"y\"}},\"id\":\"f8a77983-ba98-42b4-aa0a-7351c2120e0e\",\"type\":\"Circle\"},{\"attributes\":{\"bottom_units\":\"screen\",\"fill_alpha\":{\"value\":0.5},\"fill_color\":{\"value\":\"lightgrey\"},\"left_units\":\"screen\",\"level\":\"overlay\",\"line_alpha\":{\"value\":1.0},\"line_color\":{\"value\":\"black\"},\"line_dash\":[4,4],\"line_width\":{\"value\":2},\"plot\":null,\"render_mode\":\"css\",\"right_units\":\"screen\",\"top_units\":\"screen\"},\"id\":\"90585a50-b0bd-427c-9676-189cc070a80a\",\"type\":\"BoxAnnotation\"},{\"attributes\":{\"ticker\":null},\"id\":\"04dcc674-e004-4f32-9b53-fa48639ad3a0\",\"type\":\"LogTickFormatter\"},{\"attributes\":{},\"id\":\"f3038f87-d2f5-42d3-9d09-81c41c0054ce\",\"type\":\"PanTool\"},{\"attributes\":{\"line_alpha\":0.1,\"line_color\":\"#1f77b4\",\"line_dash\":[6],\"x\":{\"field\":\"x\"},\"y\":{\"field\":\"y\"}},\"id\":\"3e265059-c872-4354-be29-078c388bd10b\",\"type\":\"Line\"},{\"attributes\":{\"label\":{\"value\":\"skip_even\"},\"renderers\":[{\"id\":\"15009744-8517-470b-b30b-654837730a99\",\"type\":\"GlyphRenderer\"},{\"id\":\"48836d6b-a5e7-41e0-a916-07a5b4a5dcbe\",\"type\":\"GlyphRenderer\"}]},\"id\":\"d208ae61-3058-4133-a975-ff4e3bd5520c\",\"type\":\"LegendItem\"},{\"attributes\":{},\"id\":\"78090d2b-b240-49b5-8e66-139c68b2295c\",\"type\":\"WheelZoomTool\"},{\"attributes\":{\"source\":{\"id\":\"7a97e8a2-0c75-4e2a-9472-ca4ebd74c27f\",\"type\":\"ColumnDataSource\"}},\"id\":\"25f749c9-e6af-4476-95e8-70804279efde\",\"type\":\"CDSView\"},{\"attributes\":{\"overlay\":{\"id\":\"90585a50-b0bd-427c-9676-189cc070a80a\",\"type\":\"BoxAnnotation\"}},\"id\":\"6ffe6d4f-cbd5-4176-9937-c76d0e7e0462\",\"type\":\"BoxZoomTool\"},{\"attributes\":{\"line_color\":\"#ff7f0e\",\"line_dash\":[6],\"x\":{\"field\":\"x\"},\"y\":{\"field\":\"y\"}},\"id\":\"c8dd3139-a550-4006-a042-80e3eebc91d0\",\"type\":\"Line\"},{\"attributes\":{},\"id\":\"834c05e7-4c28-4ceb-8428-9d12b219202d\",\"type\":\"SaveTool\"},{\"attributes\":{\"line_alpha\":0.1,\"line_color\":\"#1f77b4\",\"line_dash\":[6],\"x\":{\"field\":\"x\"},\"y\":{\"field\":\"y\"}},\"id\":\"44a23212-c01e-44cf-a9e2-c53bb9fca5df\",\"type\":\"Line\"},{\"attributes\":{},\"id\":\"4996452c-83ba-41e7-a602-7c65418aa495\",\"type\":\"ResetTool\"},{\"attributes\":{\"source\":{\"id\":\"ef900f1f-a453-4c2a-a934-a56d17345276\",\"type\":\"ColumnDataSource\"}},\"id\":\"695ae7eb-d3d8-4a41-a319-e50dc09c7efc\",\"type\":\"CDSView\"},{\"attributes\":{},\"id\":\"b6f2a6d6-c1fb-4668-ab18-9fa5df3cddad\",\"type\":\"HelpTool\"},{\"attributes\":{\"callback\":null,\"column_names\":[\"x\",\"y\"],\"data\":{\"x\":[1,2,5,10,20,50,100,200,500,1000,2000],\"y\":[3.91571840737015e-06,7.2433939203619956e-06,1.4987080940045414e-05,3.0398783273994922e-05,7.70214624935761e-05,0.0003747431433293968,0.0015680668415734545,0.00739021853893064,0.05986085925658699,0.29679561396478676,1.2218749636859867]}},\"id\":\"7a97e8a2-0c75-4e2a-9472-ca4ebd74c27f\",\"type\":\"ColumnDataSource\"},{\"attributes\":{\"data_source\":{\"id\":\"f57652a7-8d01-4d81-b726-fbfd454a549b\",\"type\":\"ColumnDataSource\"},\"glyph\":{\"id\":\"3e168dc0-e465-4611-b4af-da9aca9f66b2\",\"type\":\"Line\"},\"hover_glyph\":null,\"muted_glyph\":null,\"nonselection_glyph\":{\"id\":\"9f326038-19b1-4a11-bead-a10d252a3df6\",\"type\":\"Line\"},\"selection_glyph\":null,\"view\":{\"id\":\"ff593c7f-a4fc-45d7-854b-54855ee70ba2\",\"type\":\"CDSView\"}},\"id\":\"767e4df3-5c4f-4fda-acb3-c29c33a54262\",\"type\":\"GlyphRenderer\"},{\"attributes\":{\"source\":{\"id\":\"5a46d6b1-c36f-4f56-9c62-3b2b9225688c\",\"type\":\"ColumnDataSource\"}},\"id\":\"d0ac4dd8-810e-4789-bf9b-1ef7fad17e04\",\"type\":\"CDSView\"},{\"attributes\":{\"source\":{\"id\":\"f57652a7-8d01-4d81-b726-fbfd454a549b\",\"type\":\"ColumnDataSource\"}},\"id\":\"ff593c7f-a4fc-45d7-854b-54855ee70ba2\",\"type\":\"CDSView\"},{\"attributes\":{\"callback\":null,\"column_names\":[\"x\",\"y\"],\"data\":{\"x\":[],\"y\":[]}},\"id\":\"f57652a7-8d01-4d81-b726-fbfd454a549b\",\"type\":\"ColumnDataSource\"},{\"attributes\":{\"data_source\":{\"id\":\"ef900f1f-a453-4c2a-a934-a56d17345276\",\"type\":\"ColumnDataSource\"},\"glyph\":{\"id\":\"c8dd3139-a550-4006-a042-80e3eebc91d0\",\"type\":\"Line\"},\"hover_glyph\":null,\"muted_glyph\":null,\"nonselection_glyph\":{\"id\":\"44a23212-c01e-44cf-a9e2-c53bb9fca5df\",\"type\":\"Line\"},\"selection_glyph\":null,\"view\":{\"id\":\"695ae7eb-d3d8-4a41-a319-e50dc09c7efc\",\"type\":\"CDSView\"}},\"id\":\"15009744-8517-470b-b30b-654837730a99\",\"type\":\"GlyphRenderer\"},{\"attributes\":{\"label\":{\"value\":\"to_sqrt\"},\"renderers\":[{\"id\":\"767e4df3-5c4f-4fda-acb3-c29c33a54262\",\"type\":\"GlyphRenderer\"},{\"id\":\"d943f8ae-3884-432e-a799-8e300b4fb7bc\",\"type\":\"GlyphRenderer\"}]},\"id\":\"8af60a0f-47ca-42ea-974e-0c15256695de\",\"type\":\"LegendItem\"},{\"attributes\":{\"line_color\":\"#1f77b4\",\"line_dash\":[6],\"x\":{\"field\":\"x\"},\"y\":{\"field\":\"y\"}},\"id\":\"c30082af-0a82-42a8-97dd-88efcfd4cc6c\",\"type\":\"Line\"},{\"attributes\":{\"callback\":null,\"start\":1},\"id\":\"4320f2e6-c6f7-4fee-84aa-18648f8dbe07\",\"type\":\"DataRange1d\"},{\"attributes\":{\"format\":\"0[.]0 a\"},\"id\":\"6a57a42a-c50f-4155-b36b-ec6ee99615bc\",\"type\":\"NumeralTickFormatter\"},{\"attributes\":{\"line_color\":\"#2ca02c\",\"x\":{\"field\":\"x\"},\"y\":{\"field\":\"y\"}},\"id\":\"3e168dc0-e465-4611-b4af-da9aca9f66b2\",\"type\":\"Line\"},{\"attributes\":{\"below\":[{\"id\":\"409890bb-e66a-4865-8341-8943ca79e1f4\",\"type\":\"LogAxis\"}],\"left\":[{\"id\":\"d18b78c0-1187-4fa0-8430-fdb20b4a0835\",\"type\":\"LogAxis\"}],\"plot_height\":400,\"plot_width\":800,\"renderers\":[{\"id\":\"409890bb-e66a-4865-8341-8943ca79e1f4\",\"type\":\"LogAxis\"},{\"id\":\"614e8f67-2e87-4c84-b43e-fa45a5afd98a\",\"type\":\"Grid\"},{\"id\":\"d18b78c0-1187-4fa0-8430-fdb20b4a0835\",\"type\":\"LogAxis\"},{\"id\":\"746b9597-6e3f-4ba1-87b0-e63683bf3e19\",\"type\":\"Grid\"},{\"id\":\"90585a50-b0bd-427c-9676-189cc070a80a\",\"type\":\"BoxAnnotation\"},{\"id\":\"4dc30141-ed10-4d8d-a024-a44d1986b63a\",\"type\":\"Legend\"},{\"id\":\"b49e97ce-4e54-4459-9349-15699ed84c68\",\"type\":\"GlyphRenderer\"},{\"id\":\"0d544985-832b-4d8a-a1f4-cec9025fe6f2\",\"type\":\"GlyphRenderer\"},{\"id\":\"15009744-8517-470b-b30b-654837730a99\",\"type\":\"GlyphRenderer\"},{\"id\":\"48836d6b-a5e7-41e0-a916-07a5b4a5dcbe\",\"type\":\"GlyphRenderer\"},{\"id\":\"767e4df3-5c4f-4fda-acb3-c29c33a54262\",\"type\":\"GlyphRenderer\"},{\"id\":\"d943f8ae-3884-432e-a799-8e300b4fb7bc\",\"type\":\"GlyphRenderer\"}],\"title\":{\"id\":\"88ef3b58-5cbe-4ccb-ad6a-814f96c05736\",\"type\":\"Title\"},\"toolbar\":{\"id\":\"442270f9-dd01-4673-bae0-6d9df2c479d1\",\"type\":\"Toolbar\"},\"toolbar_location\":\"above\",\"x_range\":{\"id\":\"4320f2e6-c6f7-4fee-84aa-18648f8dbe07\",\"type\":\"DataRange1d\"},\"x_scale\":{\"id\":\"2e3fe102-6a99-4e47-98cf-094f79912f72\",\"type\":\"LogScale\"},\"y_range\":{\"id\":\"bfdd47e4-8b7a-4c92-b813-7ad1bd12e0e6\",\"type\":\"Range1d\"},\"y_scale\":{\"id\":\"e40a8975-1b84-4fa0-a8e4-c836010d4167\",\"type\":\"LogScale\"}},\"id\":\"2eb391f5-4b62-4a08-b25c-3602c58fb96d\",\"subtype\":\"Figure\",\"type\":\"Plot\"},{\"attributes\":{\"line_alpha\":0.1,\"line_color\":\"#1f77b4\",\"x\":{\"field\":\"x\"},\"y\":{\"field\":\"y\"}},\"id\":\"9f326038-19b1-4a11-bead-a10d252a3df6\",\"type\":\"Line\"},{\"attributes\":{\"plot\":null,\"text\":\"Timing\"},\"id\":\"88ef3b58-5cbe-4ccb-ad6a-814f96c05736\",\"type\":\"Title\"},{\"attributes\":{\"callback\":null,\"start\":1e-06},\"id\":\"bfdd47e4-8b7a-4c92-b813-7ad1bd12e0e6\",\"type\":\"Range1d\"},{\"attributes\":{\"active_drag\":\"auto\",\"active_inspect\":\"auto\",\"active_scroll\":\"auto\",\"active_tap\":\"auto\",\"tools\":[{\"id\":\"f3038f87-d2f5-42d3-9d09-81c41c0054ce\",\"type\":\"PanTool\"},{\"id\":\"78090d2b-b240-49b5-8e66-139c68b2295c\",\"type\":\"WheelZoomTool\"},{\"id\":\"6ffe6d4f-cbd5-4176-9937-c76d0e7e0462\",\"type\":\"BoxZoomTool\"},{\"id\":\"834c05e7-4c28-4ceb-8428-9d12b219202d\",\"type\":\"SaveTool\"},{\"id\":\"4996452c-83ba-41e7-a602-7c65418aa495\",\"type\":\"ResetTool\"},{\"id\":\"b6f2a6d6-c1fb-4668-ab18-9fa5df3cddad\",\"type\":\"HelpTool\"}]},\"id\":\"442270f9-dd01-4673-bae0-6d9df2c479d1\",\"type\":\"Toolbar\"}],\"root_ids\":[\"2eb391f5-4b62-4a08-b25c-3602c58fb96d\"]},\"title\":\"Bokeh Application\",\"version\":\"0.12.14\"}};\n",
       "  var render_items = [{\"docid\":\"ea59fc6c-507f-4c50-953f-02ff5c25a7f1\",\"elementid\":\"173c1d3e-6a96-4e26-b68e-22c4628d9917\",\"modelid\":\"2eb391f5-4b62-4a08-b25c-3602c58fb96d\",\"notebook_comms_target\":\"8159b492-64fd-413f-a96a-b2dafc61176c\"}];\n",
       "  root.Bokeh.embed.embed_items_notebook(docs_json, render_items);\n",
       "\n",
       "  }\n",
       "  if (root.Bokeh !== undefined) {\n",
       "    embed_document(root);\n",
       "  } else {\n",
       "    var attempts = 0;\n",
       "    var timer = setInterval(function(root) {\n",
       "      if (root.Bokeh !== undefined) {\n",
       "        embed_document(root);\n",
       "        clearInterval(timer);\n",
       "      }\n",
       "      attempts++;\n",
       "      if (attempts > 100) {\n",
       "        console.log(\"Bokeh: ERROR: Unable to run BokehJS code because BokehJS library is missing\")\n",
       "        clearInterval(timer);\n",
       "      }\n",
       "    }, 10, root)\n",
       "  }\n",
       "})(window);"
      ],
      "application/vnd.bokehjs_exec.v0+json": ""
     },
     "metadata": {
      "application/vnd.bokehjs_exec.v0+json": {
       "id": "2eb391f5-4b62-4a08-b25c-3602c58fb96d"
      }
     },
     "output_type": "display_data"
    }
   ],
   "source": [
    "timing_plot(to_sqrt)"
   ]
  },
  {
   "cell_type": "markdown",
   "metadata": {
    "slideshow": {
     "slide_type": "slide"
    }
   },
   "source": [
    "## Is this the best we can do?"
   ]
  },
  {
   "cell_type": "markdown",
   "metadata": {
    "slideshow": {
     "slide_type": "fragment"
    }
   },
   "source": [
    "We are still checking more numbers than necessary:  \n",
    "e.g. once we've tested for divisibility by 3 and 5,  \n",
    "we shouldn't need to test their multiples (e.g. 9, 15, 25, 30, 45... etc)."
   ]
  },
  {
   "cell_type": "markdown",
   "metadata": {
    "slideshow": {
     "slide_type": "fragment"
    }
   },
   "source": [
    "i.e. we only need to check for divisibility by primes."
   ]
  },
  {
   "cell_type": "markdown",
   "metadata": {
    "slideshow": {
     "slide_type": "slide"
    }
   },
   "source": [
    "## What about storing a list of primes so far, and only test dividing by those?"
   ]
  },
  {
   "cell_type": "code",
   "execution_count": 11,
   "metadata": {
    "collapsed": true,
    "slideshow": {
     "slide_type": "fragment"
    }
   },
   "outputs": [],
   "source": [
    "from itertools import count\n",
    "\n",
    "def check_primes():\n",
    "    yield 2\n",
    "    primelist = []\n",
    "    for candidate in count(3, 2):\n",
    "        for p in primelist:\n",
    "            if candidate % p == 0:\n",
    "                break\n",
    "        else:\n",
    "            yield candidate\n",
    "            primelist.append(candidate)"
   ]
  },
  {
   "cell_type": "code",
   "execution_count": 12,
   "metadata": {
    "slideshow": {
     "slide_type": "slide"
    }
   },
   "outputs": [
    {
     "data": {
      "text/html": [
       "\n",
       "<div class=\"bk-root\">\n",
       "    <div class=\"bk-plotdiv\" id=\"e1f43c7d-394d-453b-9416-f7601692d510\"></div>\n",
       "</div>"
      ]
     },
     "metadata": {},
     "output_type": "display_data"
    },
    {
     "data": {
      "application/javascript": [
       "(function(root) {\n",
       "  function embed_document(root) {\n",
       "    \n",
       "  var docs_json = {\"86e2999d-12d2-4d55-bf12-32d1cc57aa79\":{\"roots\":{\"references\":[{\"attributes\":{\"line_alpha\":0.1,\"line_color\":\"#1f77b4\",\"line_dash\":[6],\"x\":{\"field\":\"x\"},\"y\":{\"field\":\"y\"}},\"id\":\"78ac188f-a8da-4193-8830-cbc15ba6f75a\",\"type\":\"Line\"},{\"attributes\":{\"fill_alpha\":{\"value\":0.1},\"fill_color\":{\"value\":\"#1f77b4\"},\"line_alpha\":{\"value\":0.1},\"line_color\":{\"value\":\"#1f77b4\"},\"x\":{\"field\":\"x\"},\"y\":{\"field\":\"y\"}},\"id\":\"4125e390-1d72-4617-8181-b780552e71f0\",\"type\":\"Circle\"},{\"attributes\":{\"line_alpha\":0.1,\"line_color\":\"#1f77b4\",\"line_dash\":[6],\"x\":{\"field\":\"x\"},\"y\":{\"field\":\"y\"}},\"id\":\"c5643da2-9b93-402c-8750-63266ecc2fe9\",\"type\":\"Line\"},{\"attributes\":{\"source\":{\"id\":\"b680d2ed-34ce-4d22-935b-60b0217c0e5c\",\"type\":\"ColumnDataSource\"}},\"id\":\"9d437463-158d-4d88-8d53-982418b9118d\",\"type\":\"CDSView\"},{\"attributes\":{\"format\":\"0[.]0 a\"},\"id\":\"53e71771-3522-4339-8bdd-af22f7333f3a\",\"type\":\"NumeralTickFormatter\"},{\"attributes\":{\"data_source\":{\"id\":\"b680d2ed-34ce-4d22-935b-60b0217c0e5c\",\"type\":\"ColumnDataSource\"},\"glyph\":{\"id\":\"3e39baac-a9e2-4e5d-81b7-14db17bebdf6\",\"type\":\"Circle\"},\"hover_glyph\":null,\"muted_glyph\":null,\"nonselection_glyph\":{\"id\":\"4125e390-1d72-4617-8181-b780552e71f0\",\"type\":\"Circle\"},\"selection_glyph\":null,\"view\":{\"id\":\"9d437463-158d-4d88-8d53-982418b9118d\",\"type\":\"CDSView\"}},\"id\":\"ef39dd3c-1cd2-4519-a296-b75c2364744b\",\"type\":\"GlyphRenderer\"},{\"attributes\":{\"source\":{\"id\":\"9b32506c-5518-4216-973e-f150775d948e\",\"type\":\"ColumnDataSource\"}},\"id\":\"a343d25e-fa5b-4436-a1f0-17e4f10ad710\",\"type\":\"CDSView\"},{\"attributes\":{\"source\":{\"id\":\"c71b69ae-0f41-40ff-b31d-9f03bc8794e9\",\"type\":\"ColumnDataSource\"}},\"id\":\"ec40b2d0-e73c-4a4b-8995-d89ed28029d0\",\"type\":\"CDSView\"},{\"attributes\":{\"source\":{\"id\":\"1c5d3fe5-dacd-46a3-820b-72ec1fd85cd5\",\"type\":\"ColumnDataSource\"}},\"id\":\"4b474a89-5b39-4804-9cc6-442613c6c081\",\"type\":\"CDSView\"},{\"attributes\":{\"label\":{\"value\":\"to_sqrt\"},\"renderers\":[{\"id\":\"bc8b85d2-b16b-4d7b-92e5-4345bc8ffb4c\",\"type\":\"GlyphRenderer\"},{\"id\":\"0e00ba61-e36f-46f1-9dae-d5d2e761bf9f\",\"type\":\"GlyphRenderer\"}]},\"id\":\"9a6f1134-c423-4f06-b152-69b25f08e0ac\",\"type\":\"LegendItem\"},{\"attributes\":{\"line_color\":\"#2ca02c\",\"line_dash\":[6],\"x\":{\"field\":\"x\"},\"y\":{\"field\":\"y\"}},\"id\":\"343de42e-cce2-4042-b964-5817c06e73f0\",\"type\":\"Line\"},{\"attributes\":{\"source\":{\"id\":\"b680d2ed-34ce-4d22-935b-60b0217c0e5c\",\"type\":\"ColumnDataSource\"}},\"id\":\"cd7d4d4d-7894-4d58-b75b-7bd3136d2700\",\"type\":\"CDSView\"},{\"attributes\":{\"data_source\":{\"id\":\"b680d2ed-34ce-4d22-935b-60b0217c0e5c\",\"type\":\"ColumnDataSource\"},\"glyph\":{\"id\":\"6f18497d-8c57-46a1-89b3-d80336904c26\",\"type\":\"Line\"},\"hover_glyph\":null,\"muted_glyph\":null,\"nonselection_glyph\":{\"id\":\"706304ab-54f6-4255-a0e4-5a2e0cd31bbe\",\"type\":\"Line\"},\"selection_glyph\":null,\"view\":{\"id\":\"cd7d4d4d-7894-4d58-b75b-7bd3136d2700\",\"type\":\"CDSView\"}},\"id\":\"ffc53630-b37c-4911-8c10-1f4c780f4958\",\"type\":\"GlyphRenderer\"},{\"attributes\":{\"callback\":null,\"start\":1},\"id\":\"b5a3fb2e-8951-415a-92fe-e6a98928c1a0\",\"type\":\"DataRange1d\"},{\"attributes\":{\"line_color\":\"#d62728\",\"x\":{\"field\":\"x\"},\"y\":{\"field\":\"y\"}},\"id\":\"6f18497d-8c57-46a1-89b3-d80336904c26\",\"type\":\"Line\"},{\"attributes\":{\"line_alpha\":0.1,\"line_color\":\"#1f77b4\",\"line_dash\":[6],\"x\":{\"field\":\"x\"},\"y\":{\"field\":\"y\"}},\"id\":\"98d309a4-c35f-4f15-af0f-5f5a3666fd25\",\"type\":\"Line\"},{\"attributes\":{\"callback\":null,\"column_names\":[\"x\",\"y\"],\"data\":{\"x\":[],\"y\":[]}},\"id\":\"b680d2ed-34ce-4d22-935b-60b0217c0e5c\",\"type\":\"ColumnDataSource\"},{\"attributes\":{\"below\":[{\"id\":\"c844a67c-4ca1-425c-95cb-f18395e5a4be\",\"type\":\"LogAxis\"}],\"left\":[{\"id\":\"cabb549f-0c52-498d-b281-2fa3a82e7066\",\"type\":\"LogAxis\"}],\"plot_height\":400,\"plot_width\":800,\"renderers\":[{\"id\":\"c844a67c-4ca1-425c-95cb-f18395e5a4be\",\"type\":\"LogAxis\"},{\"id\":\"29ec0743-5dcb-4639-9d99-a0f1d213cdb8\",\"type\":\"Grid\"},{\"id\":\"cabb549f-0c52-498d-b281-2fa3a82e7066\",\"type\":\"LogAxis\"},{\"id\":\"c8e8b798-01c9-44f2-b0c8-5c3635445af7\",\"type\":\"Grid\"},{\"id\":\"b001d73c-6f4c-4ebf-81b3-6b43395646b6\",\"type\":\"BoxAnnotation\"},{\"id\":\"12b66057-3fc6-4a5f-a0f6-4acec333112f\",\"type\":\"Legend\"},{\"id\":\"7e65f08f-9b03-47b8-8c49-b040bfe63759\",\"type\":\"GlyphRenderer\"},{\"id\":\"6b5baea2-f65c-4c54-84f1-deeb9d3e4a3e\",\"type\":\"GlyphRenderer\"},{\"id\":\"e4d016dc-3d29-4135-aa59-11f25c4fa7fd\",\"type\":\"GlyphRenderer\"},{\"id\":\"a9917a0c-b509-498b-b34d-89352e5f149b\",\"type\":\"GlyphRenderer\"},{\"id\":\"bc8b85d2-b16b-4d7b-92e5-4345bc8ffb4c\",\"type\":\"GlyphRenderer\"},{\"id\":\"0e00ba61-e36f-46f1-9dae-d5d2e761bf9f\",\"type\":\"GlyphRenderer\"},{\"id\":\"ffc53630-b37c-4911-8c10-1f4c780f4958\",\"type\":\"GlyphRenderer\"},{\"id\":\"ef39dd3c-1cd2-4519-a296-b75c2364744b\",\"type\":\"GlyphRenderer\"}],\"title\":{\"id\":\"4af7e22b-5af3-49c7-af05-9f552a5147ba\",\"type\":\"Title\"},\"toolbar\":{\"id\":\"a708f6b6-4fe6-4b43-be3e-04ae978eb740\",\"type\":\"Toolbar\"},\"toolbar_location\":\"above\",\"x_range\":{\"id\":\"b5a3fb2e-8951-415a-92fe-e6a98928c1a0\",\"type\":\"DataRange1d\"},\"x_scale\":{\"id\":\"ccd461a0-f373-4ebd-8fc3-61c670e541a1\",\"type\":\"LogScale\"},\"y_range\":{\"id\":\"73ea4a0e-91b2-4f1f-9210-a73205e3ab40\",\"type\":\"Range1d\"},\"y_scale\":{\"id\":\"8805b5d9-5c27-43c5-badf-21908ee1ec62\",\"type\":\"LogScale\"}},\"id\":\"d75210a8-c6cd-4d13-8762-4b4c2ad68c7d\",\"subtype\":\"Figure\",\"type\":\"Plot\"},{\"attributes\":{\"fill_alpha\":{\"value\":0.1},\"fill_color\":{\"value\":\"#1f77b4\"},\"line_alpha\":{\"value\":0.1},\"line_color\":{\"value\":\"#1f77b4\"},\"x\":{\"field\":\"x\"},\"y\":{\"field\":\"y\"}},\"id\":\"8ecb040a-f430-4efd-93d3-d63381414719\",\"type\":\"Circle\"},{\"attributes\":{\"plot\":null,\"text\":\"Timing\"},\"id\":\"4af7e22b-5af3-49c7-af05-9f552a5147ba\",\"type\":\"Title\"},{\"attributes\":{\"fill_alpha\":{\"value\":0.1},\"fill_color\":{\"value\":\"#1f77b4\"},\"line_alpha\":{\"value\":0.1},\"line_color\":{\"value\":\"#1f77b4\"},\"x\":{\"field\":\"x\"},\"y\":{\"field\":\"y\"}},\"id\":\"9b7ec328-2b37-484f-b78f-07adb3cc0b98\",\"type\":\"Circle\"},{\"attributes\":{\"callback\":null,\"start\":1e-06},\"id\":\"73ea4a0e-91b2-4f1f-9210-a73205e3ab40\",\"type\":\"Range1d\"},{\"attributes\":{\"callback\":null,\"column_names\":[\"x\",\"y\"],\"data\":{\"x\":[1,2,5,10,20,50,100,200,500,1000,2000,5000],\"y\":[1.928683486767113e-06,5.348356207832694e-06,1.0088062263093889e-05,1.932975254021585e-05,4.36724309111014e-05,0.00019079910591244696,0.0007820247969357296,0.0036099665006622673,0.029195572207099757,0.15714686589781196,0.6617195535992506,4.328593240285991]}},\"id\":\"1c5d3fe5-dacd-46a3-820b-72ec1fd85cd5\",\"type\":\"ColumnDataSource\"},{\"attributes\":{\"line_alpha\":0.1,\"line_color\":\"#1f77b4\",\"x\":{\"field\":\"x\"},\"y\":{\"field\":\"y\"}},\"id\":\"706304ab-54f6-4255-a0e4-5a2e0cd31bbe\",\"type\":\"Line\"},{\"attributes\":{\"active_drag\":\"auto\",\"active_inspect\":\"auto\",\"active_scroll\":\"auto\",\"active_tap\":\"auto\",\"tools\":[{\"id\":\"696a1566-9583-400a-ad6b-c2de089e0e61\",\"type\":\"PanTool\"},{\"id\":\"b14d42c4-6f1c-4334-af62-b96c6ccd26b9\",\"type\":\"WheelZoomTool\"},{\"id\":\"44df0643-473b-4da0-b02c-7f70e8193eab\",\"type\":\"BoxZoomTool\"},{\"id\":\"b00f48e8-d445-41b3-8f30-ca57e7deaeac\",\"type\":\"SaveTool\"},{\"id\":\"8a89b9a5-e794-4791-a0dc-ca17086ff78d\",\"type\":\"ResetTool\"},{\"id\":\"4db08b0a-a6f2-4e08-83dd-07ebb911dfef\",\"type\":\"HelpTool\"}]},\"id\":\"a708f6b6-4fe6-4b43-be3e-04ae978eb740\",\"type\":\"Toolbar\"},{\"attributes\":{\"label\":{\"value\":\"check_primes\"},\"renderers\":[{\"id\":\"ffc53630-b37c-4911-8c10-1f4c780f4958\",\"type\":\"GlyphRenderer\"},{\"id\":\"ef39dd3c-1cd2-4519-a296-b75c2364744b\",\"type\":\"GlyphRenderer\"}]},\"id\":\"f796e004-dcb2-4daa-8f3c-42480ee6a8d0\",\"type\":\"LegendItem\"},{\"attributes\":{\"line_color\":\"#1f77b4\",\"line_dash\":[6],\"x\":{\"field\":\"x\"},\"y\":{\"field\":\"y\"}},\"id\":\"da6c98b7-64d9-4793-a510-1e73acbe0d7e\",\"type\":\"Line\"},{\"attributes\":{\"fill_color\":{\"value\":\"#ff7f0e\"},\"line_color\":{\"value\":\"#ff7f0e\"},\"x\":{\"field\":\"x\"},\"y\":{\"field\":\"y\"}},\"id\":\"bb8a8fed-c58b-4965-b2ee-07eeafa731bf\",\"type\":\"Circle\"},{\"attributes\":{\"fill_color\":{\"value\":\"#d62728\"},\"line_color\":{\"value\":\"#d62728\"},\"x\":{\"field\":\"x\"},\"y\":{\"field\":\"y\"}},\"id\":\"3e39baac-a9e2-4e5d-81b7-14db17bebdf6\",\"type\":\"Circle\"},{\"attributes\":{\"data_source\":{\"id\":\"6f111820-799c-4fab-a44c-e2c110b5dc7e\",\"type\":\"ColumnDataSource\"},\"glyph\":{\"id\":\"bb8a8fed-c58b-4965-b2ee-07eeafa731bf\",\"type\":\"Circle\"},\"hover_glyph\":null,\"muted_glyph\":null,\"nonselection_glyph\":{\"id\":\"9b7ec328-2b37-484f-b78f-07adb3cc0b98\",\"type\":\"Circle\"},\"selection_glyph\":null,\"view\":{\"id\":\"7ee32f52-7ff7-4c7b-b20e-6871a048da93\",\"type\":\"CDSView\"}},\"id\":\"a9917a0c-b509-498b-b34d-89352e5f149b\",\"type\":\"GlyphRenderer\"},{\"attributes\":{\"num_minor_ticks\":10},\"id\":\"b2b68fa0-32f7-4c1e-9cdd-d78f2b662e62\",\"type\":\"LogTicker\"},{\"attributes\":{\"background_fill_alpha\":{\"value\":0.5},\"click_policy\":\"hide\",\"items\":[{\"id\":\"1e7c1257-b093-4a77-87af-24dfc7ac626e\",\"type\":\"LegendItem\"},{\"id\":\"6c5ead01-5451-4325-9409-4e23c22b1f55\",\"type\":\"LegendItem\"},{\"id\":\"9a6f1134-c423-4f06-b152-69b25f08e0ac\",\"type\":\"LegendItem\"},{\"id\":\"f796e004-dcb2-4daa-8f3c-42480ee6a8d0\",\"type\":\"LegendItem\"}],\"location\":\"top_left\",\"plot\":{\"id\":\"d75210a8-c6cd-4d13-8762-4b4c2ad68c7d\",\"subtype\":\"Figure\",\"type\":\"Plot\"}},\"id\":\"12b66057-3fc6-4a5f-a0f6-4acec333112f\",\"type\":\"Legend\"},{\"attributes\":{},\"id\":\"ccd461a0-f373-4ebd-8fc3-61c670e541a1\",\"type\":\"LogScale\"},{\"attributes\":{\"data_source\":{\"id\":\"9b32506c-5518-4216-973e-f150775d948e\",\"type\":\"ColumnDataSource\"},\"glyph\":{\"id\":\"b7a16dad-37a0-4c03-bafb-9ddf2766174b\",\"type\":\"Circle\"},\"hover_glyph\":null,\"muted_glyph\":null,\"nonselection_glyph\":{\"id\":\"8ecb040a-f430-4efd-93d3-d63381414719\",\"type\":\"Circle\"},\"selection_glyph\":null,\"view\":{\"id\":\"a343d25e-fa5b-4436-a1f0-17e4f10ad710\",\"type\":\"CDSView\"}},\"id\":\"6b5baea2-f65c-4c54-84f1-deeb9d3e4a3e\",\"type\":\"GlyphRenderer\"},{\"attributes\":{\"axis_label\":\"Primes\",\"formatter\":{\"id\":\"53e71771-3522-4339-8bdd-af22f7333f3a\",\"type\":\"NumeralTickFormatter\"},\"plot\":{\"id\":\"d75210a8-c6cd-4d13-8762-4b4c2ad68c7d\",\"subtype\":\"Figure\",\"type\":\"Plot\"},\"ticker\":{\"id\":\"69cb3975-4c4e-4c82-abfa-0354722702ce\",\"type\":\"LogTicker\"}},\"id\":\"c844a67c-4ca1-425c-95cb-f18395e5a4be\",\"type\":\"LogAxis\"},{\"attributes\":{\"callback\":null,\"column_names\":[\"x\",\"y\"],\"data\":{\"x\":[1,2,5,10,20,50,100,200,500,1000,2000,5000,10000,20000,50000],\"y\":[1.9457092275843024e-06,6.114398129284382e-06,1.1780100758187473e-05,2.2780797444283962e-05,4.293648235034198e-05,0.00011111817322671414,0.000251019851421006,0.0005885235581081361,0.0019095742475474255,0.004739756946219132,0.01221786662528757,0.046385250308085234,0.13627362401981372,0.3649428817105945,1.3061569034151035]}},\"id\":\"c71b69ae-0f41-40ff-b31d-9f03bc8794e9\",\"type\":\"ColumnDataSource\"},{\"attributes\":{\"num_minor_ticks\":10},\"id\":\"69cb3975-4c4e-4c82-abfa-0354722702ce\",\"type\":\"LogTicker\"},{\"attributes\":{\"plot\":{\"id\":\"d75210a8-c6cd-4d13-8762-4b4c2ad68c7d\",\"subtype\":\"Figure\",\"type\":\"Plot\"},\"ticker\":{\"id\":\"69cb3975-4c4e-4c82-abfa-0354722702ce\",\"type\":\"LogTicker\"}},\"id\":\"29ec0743-5dcb-4639-9d99-a0f1d213cdb8\",\"type\":\"Grid\"},{\"attributes\":{},\"id\":\"8805b5d9-5c27-43c5-badf-21908ee1ec62\",\"type\":\"LogScale\"},{\"attributes\":{\"axis_label\":\"Seconds\",\"formatter\":{\"id\":\"4757da61-ba0f-4e2c-a2df-82f1563aad7d\",\"type\":\"LogTickFormatter\"},\"plot\":{\"id\":\"d75210a8-c6cd-4d13-8762-4b4c2ad68c7d\",\"subtype\":\"Figure\",\"type\":\"Plot\"},\"ticker\":{\"id\":\"b2b68fa0-32f7-4c1e-9cdd-d78f2b662e62\",\"type\":\"LogTicker\"}},\"id\":\"cabb549f-0c52-498d-b281-2fa3a82e7066\",\"type\":\"LogAxis\"},{\"attributes\":{\"dimension\":1,\"plot\":{\"id\":\"d75210a8-c6cd-4d13-8762-4b4c2ad68c7d\",\"subtype\":\"Figure\",\"type\":\"Plot\"},\"ticker\":{\"id\":\"b2b68fa0-32f7-4c1e-9cdd-d78f2b662e62\",\"type\":\"LogTicker\"}},\"id\":\"c8e8b798-01c9-44f2-b0c8-5c3635445af7\",\"type\":\"Grid\"},{\"attributes\":{\"callback\":null,\"column_names\":[\"x\",\"y\"],\"data\":{\"x\":[1,2,5,10,20,50,100,200,500,1000,2000],\"y\":[3.91571840737015e-06,7.2433939203619956e-06,1.4987080940045414e-05,3.0398783273994922e-05,7.70214624935761e-05,0.0003747431433293968,0.0015680668415734545,0.00739021853893064,0.05986085925658699,0.29679561396478676,1.2218749636859867]}},\"id\":\"c1735938-7c2f-4fe8-a275-24332d7b596c\",\"type\":\"ColumnDataSource\"},{\"attributes\":{\"fill_alpha\":{\"value\":0.1},\"fill_color\":{\"value\":\"#1f77b4\"},\"line_alpha\":{\"value\":0.1},\"line_color\":{\"value\":\"#1f77b4\"},\"x\":{\"field\":\"x\"},\"y\":{\"field\":\"y\"}},\"id\":\"4b6c68a7-d67a-405a-b86c-8e8a15df59da\",\"type\":\"Circle\"},{\"attributes\":{\"bottom_units\":\"screen\",\"fill_alpha\":{\"value\":0.5},\"fill_color\":{\"value\":\"lightgrey\"},\"left_units\":\"screen\",\"level\":\"overlay\",\"line_alpha\":{\"value\":1.0},\"line_color\":{\"value\":\"black\"},\"line_dash\":[4,4],\"line_width\":{\"value\":2},\"plot\":null,\"render_mode\":\"css\",\"right_units\":\"screen\",\"top_units\":\"screen\"},\"id\":\"b001d73c-6f4c-4ebf-81b3-6b43395646b6\",\"type\":\"BoxAnnotation\"},{\"attributes\":{},\"id\":\"696a1566-9583-400a-ad6b-c2de089e0e61\",\"type\":\"PanTool\"},{\"attributes\":{\"fill_color\":{\"value\":\"#1f77b4\"},\"line_color\":{\"value\":\"#1f77b4\"},\"x\":{\"field\":\"x\"},\"y\":{\"field\":\"y\"}},\"id\":\"b7a16dad-37a0-4c03-bafb-9ddf2766174b\",\"type\":\"Circle\"},{\"attributes\":{\"data_source\":{\"id\":\"c1735938-7c2f-4fe8-a275-24332d7b596c\",\"type\":\"ColumnDataSource\"},\"glyph\":{\"id\":\"da6c98b7-64d9-4793-a510-1e73acbe0d7e\",\"type\":\"Line\"},\"hover_glyph\":null,\"muted_glyph\":null,\"nonselection_glyph\":{\"id\":\"98d309a4-c35f-4f15-af0f-5f5a3666fd25\",\"type\":\"Line\"},\"selection_glyph\":null,\"view\":{\"id\":\"ce7bfda7-dbfc-4d45-9bbf-e9c2c87e8842\",\"type\":\"CDSView\"}},\"id\":\"7e65f08f-9b03-47b8-8c49-b040bfe63759\",\"type\":\"GlyphRenderer\"},{\"attributes\":{},\"id\":\"b14d42c4-6f1c-4334-af62-b96c6ccd26b9\",\"type\":\"WheelZoomTool\"},{\"attributes\":{\"overlay\":{\"id\":\"b001d73c-6f4c-4ebf-81b3-6b43395646b6\",\"type\":\"BoxAnnotation\"}},\"id\":\"44df0643-473b-4da0-b02c-7f70e8193eab\",\"type\":\"BoxZoomTool\"},{\"attributes\":{},\"id\":\"b00f48e8-d445-41b3-8f30-ca57e7deaeac\",\"type\":\"SaveTool\"},{\"attributes\":{},\"id\":\"8a89b9a5-e794-4791-a0dc-ca17086ff78d\",\"type\":\"ResetTool\"},{\"attributes\":{},\"id\":\"4db08b0a-a6f2-4e08-83dd-07ebb911dfef\",\"type\":\"HelpTool\"},{\"attributes\":{\"source\":{\"id\":\"6f111820-799c-4fab-a44c-e2c110b5dc7e\",\"type\":\"ColumnDataSource\"}},\"id\":\"7ee32f52-7ff7-4c7b-b20e-6871a048da93\",\"type\":\"CDSView\"},{\"attributes\":{\"source\":{\"id\":\"c1735938-7c2f-4fe8-a275-24332d7b596c\",\"type\":\"ColumnDataSource\"}},\"id\":\"ce7bfda7-dbfc-4d45-9bbf-e9c2c87e8842\",\"type\":\"CDSView\"},{\"attributes\":{\"source\":{\"id\":\"60c049ca-fd14-4344-a98f-ea095f017533\",\"type\":\"ColumnDataSource\"}},\"id\":\"992f2988-0ae9-4813-b4ee-c0ac12015fcb\",\"type\":\"CDSView\"},{\"attributes\":{\"ticker\":null},\"id\":\"4757da61-ba0f-4e2c-a2df-82f1563aad7d\",\"type\":\"LogTickFormatter\"},{\"attributes\":{\"label\":{\"value\":\"skip_even\"},\"renderers\":[{\"id\":\"e4d016dc-3d29-4135-aa59-11f25c4fa7fd\",\"type\":\"GlyphRenderer\"},{\"id\":\"a9917a0c-b509-498b-b34d-89352e5f149b\",\"type\":\"GlyphRenderer\"}]},\"id\":\"6c5ead01-5451-4325-9409-4e23c22b1f55\",\"type\":\"LegendItem\"},{\"attributes\":{\"label\":{\"value\":\"first_try\"},\"renderers\":[{\"id\":\"7e65f08f-9b03-47b8-8c49-b040bfe63759\",\"type\":\"GlyphRenderer\"},{\"id\":\"6b5baea2-f65c-4c54-84f1-deeb9d3e4a3e\",\"type\":\"GlyphRenderer\"}]},\"id\":\"1e7c1257-b093-4a77-87af-24dfc7ac626e\",\"type\":\"LegendItem\"},{\"attributes\":{\"callback\":null,\"column_names\":[\"x\",\"y\"],\"data\":{\"x\":[1,2,5,10,20,50,100,200,500,1000,2000],\"y\":[3.91571840737015e-06,7.2433939203619956e-06,1.4987080940045414e-05,3.0398783273994922e-05,7.70214624935761e-05,0.0003747431433293968,0.0015680668415734545,0.00739021853893064,0.05986085925658699,0.29679561396478676,1.2218749636859867]}},\"id\":\"9b32506c-5518-4216-973e-f150775d948e\",\"type\":\"ColumnDataSource\"},{\"attributes\":{\"fill_color\":{\"value\":\"#2ca02c\"},\"line_color\":{\"value\":\"#2ca02c\"},\"x\":{\"field\":\"x\"},\"y\":{\"field\":\"y\"}},\"id\":\"c0d0603b-f458-4cad-9ae8-2455b1db2c88\",\"type\":\"Circle\"},{\"attributes\":{\"data_source\":{\"id\":\"1c5d3fe5-dacd-46a3-820b-72ec1fd85cd5\",\"type\":\"ColumnDataSource\"},\"glyph\":{\"id\":\"d1bdb1c8-6d0c-4e01-b8f6-7dcd8838eafb\",\"type\":\"Line\"},\"hover_glyph\":null,\"muted_glyph\":null,\"nonselection_glyph\":{\"id\":\"c5643da2-9b93-402c-8750-63266ecc2fe9\",\"type\":\"Line\"},\"selection_glyph\":null,\"view\":{\"id\":\"4b474a89-5b39-4804-9cc6-442613c6c081\",\"type\":\"CDSView\"}},\"id\":\"e4d016dc-3d29-4135-aa59-11f25c4fa7fd\",\"type\":\"GlyphRenderer\"},{\"attributes\":{\"callback\":null,\"column_names\":[\"x\",\"y\"],\"data\":{\"x\":[1,2,5,10,20,50,100,200,500,1000,2000,5000],\"y\":[1.928683486767113e-06,5.348356207832694e-06,1.0088062263093889e-05,1.932975254021585e-05,4.36724309111014e-05,0.00019079910591244696,0.0007820247969357296,0.0036099665006622673,0.029195572207099757,0.15714686589781196,0.6617195535992506,4.328593240285991]}},\"id\":\"6f111820-799c-4fab-a44c-e2c110b5dc7e\",\"type\":\"ColumnDataSource\"},{\"attributes\":{\"callback\":null,\"column_names\":[\"x\",\"y\"],\"data\":{\"x\":[1,2,5,10,20,50,100,200,500,1000,2000,5000,10000,20000,50000],\"y\":[1.9457092275843024e-06,6.114398129284382e-06,1.1780100758187473e-05,2.2780797444283962e-05,4.293648235034198e-05,0.00011111817322671414,0.000251019851421006,0.0005885235581081361,0.0019095742475474255,0.004739756946219132,0.01221786662528757,0.046385250308085234,0.13627362401981372,0.3649428817105945,1.3061569034151035]}},\"id\":\"60c049ca-fd14-4344-a98f-ea095f017533\",\"type\":\"ColumnDataSource\"},{\"attributes\":{\"data_source\":{\"id\":\"c71b69ae-0f41-40ff-b31d-9f03bc8794e9\",\"type\":\"ColumnDataSource\"},\"glyph\":{\"id\":\"343de42e-cce2-4042-b964-5817c06e73f0\",\"type\":\"Line\"},\"hover_glyph\":null,\"muted_glyph\":null,\"nonselection_glyph\":{\"id\":\"78ac188f-a8da-4193-8830-cbc15ba6f75a\",\"type\":\"Line\"},\"selection_glyph\":null,\"view\":{\"id\":\"ec40b2d0-e73c-4a4b-8995-d89ed28029d0\",\"type\":\"CDSView\"}},\"id\":\"bc8b85d2-b16b-4d7b-92e5-4345bc8ffb4c\",\"type\":\"GlyphRenderer\"},{\"attributes\":{\"line_color\":\"#ff7f0e\",\"line_dash\":[6],\"x\":{\"field\":\"x\"},\"y\":{\"field\":\"y\"}},\"id\":\"d1bdb1c8-6d0c-4e01-b8f6-7dcd8838eafb\",\"type\":\"Line\"},{\"attributes\":{\"data_source\":{\"id\":\"60c049ca-fd14-4344-a98f-ea095f017533\",\"type\":\"ColumnDataSource\"},\"glyph\":{\"id\":\"c0d0603b-f458-4cad-9ae8-2455b1db2c88\",\"type\":\"Circle\"},\"hover_glyph\":null,\"muted_glyph\":null,\"nonselection_glyph\":{\"id\":\"4b6c68a7-d67a-405a-b86c-8e8a15df59da\",\"type\":\"Circle\"},\"selection_glyph\":null,\"view\":{\"id\":\"992f2988-0ae9-4813-b4ee-c0ac12015fcb\",\"type\":\"CDSView\"}},\"id\":\"0e00ba61-e36f-46f1-9dae-d5d2e761bf9f\",\"type\":\"GlyphRenderer\"}],\"root_ids\":[\"d75210a8-c6cd-4d13-8762-4b4c2ad68c7d\"]},\"title\":\"Bokeh Application\",\"version\":\"0.12.14\"}};\n",
       "  var render_items = [{\"docid\":\"86e2999d-12d2-4d55-bf12-32d1cc57aa79\",\"elementid\":\"e1f43c7d-394d-453b-9416-f7601692d510\",\"modelid\":\"d75210a8-c6cd-4d13-8762-4b4c2ad68c7d\",\"notebook_comms_target\":\"53e15df9-4424-4678-b420-c08dfc3ca36a\"}];\n",
       "  root.Bokeh.embed.embed_items_notebook(docs_json, render_items);\n",
       "\n",
       "  }\n",
       "  if (root.Bokeh !== undefined) {\n",
       "    embed_document(root);\n",
       "  } else {\n",
       "    var attempts = 0;\n",
       "    var timer = setInterval(function(root) {\n",
       "      if (root.Bokeh !== undefined) {\n",
       "        embed_document(root);\n",
       "        clearInterval(timer);\n",
       "      }\n",
       "      attempts++;\n",
       "      if (attempts > 100) {\n",
       "        console.log(\"Bokeh: ERROR: Unable to run BokehJS code because BokehJS library is missing\")\n",
       "        clearInterval(timer);\n",
       "      }\n",
       "    }, 10, root)\n",
       "  }\n",
       "})(window);"
      ],
      "application/vnd.bokehjs_exec.v0+json": ""
     },
     "metadata": {
      "application/vnd.bokehjs_exec.v0+json": {
       "id": "d75210a8-c6cd-4d13-8762-4b4c2ad68c7d"
      }
     },
     "output_type": "display_data"
    }
   ],
   "source": [
    "timing_plot(check_primes)"
   ]
  },
  {
   "cell_type": "markdown",
   "metadata": {
    "slideshow": {
     "slide_type": "slide"
    }
   },
   "source": [
    "### Why is this slower?"
   ]
  },
  {
   "cell_type": "markdown",
   "metadata": {
    "slideshow": {
     "slide_type": "fragment"
    }
   },
   "source": [
    "We forgot to stop testing primes $> \\sqrt n$.  \n",
    "Let's fix that."
   ]
  },
  {
   "cell_type": "code",
   "execution_count": 13,
   "metadata": {
    "collapsed": true,
    "slideshow": {
     "slide_type": "slide"
    }
   },
   "outputs": [],
   "source": [
    "from itertools import count\n",
    "\n",
    "def check_primes_sqrt():\n",
    "    yield 2\n",
    "    primelist = []\n",
    "    for candidate in count(3, 2):\n",
    "        prime = True\n",
    "        for p in primelist:\n",
    "            if p * p > candidate:\n",
    "                break\n",
    "            if candidate % p == 0:\n",
    "                prime = False\n",
    "                break\n",
    "        if prime:\n",
    "            yield candidate\n",
    "            primelist.append(candidate)"
   ]
  },
  {
   "cell_type": "code",
   "execution_count": 14,
   "metadata": {
    "slideshow": {
     "slide_type": "slide"
    }
   },
   "outputs": [
    {
     "data": {
      "text/html": [
       "\n",
       "<div class=\"bk-root\">\n",
       "    <div class=\"bk-plotdiv\" id=\"2fb7c665-8760-4470-8143-a1dacda5d7d2\"></div>\n",
       "</div>"
      ]
     },
     "metadata": {},
     "output_type": "display_data"
    },
    {
     "data": {
      "application/javascript": [
       "(function(root) {\n",
       "  function embed_document(root) {\n",
       "    \n",
       "  var docs_json = {\"fc7141d9-77b2-4b02-a528-d4d9404528c8\":{\"roots\":{\"references\":[{\"attributes\":{\"data_source\":{\"id\":\"e9820ec1-dc1e-4626-902b-75ae05b0db06\",\"type\":\"ColumnDataSource\"},\"glyph\":{\"id\":\"7341323f-1aee-41f7-9f6a-c85ac7ccd501\",\"type\":\"Line\"},\"hover_glyph\":null,\"muted_glyph\":null,\"nonselection_glyph\":{\"id\":\"b497b743-2dab-463a-ab65-313f6bf7b850\",\"type\":\"Line\"},\"selection_glyph\":null,\"view\":{\"id\":\"4af5ef0c-7478-47d6-9fab-2ca5c9270242\",\"type\":\"CDSView\"}},\"id\":\"f4543411-35d8-477b-a7ba-39c4fcccabac\",\"type\":\"GlyphRenderer\"},{\"attributes\":{\"fill_color\":{\"value\":\"#1f77b4\"},\"line_color\":{\"value\":\"#1f77b4\"},\"x\":{\"field\":\"x\"},\"y\":{\"field\":\"y\"}},\"id\":\"3af6ff53-8ef1-47c7-9e03-f298632450c1\",\"type\":\"Circle\"},{\"attributes\":{\"data_source\":{\"id\":\"0c299936-9299-4e58-b62f-c31e6328e3d0\",\"type\":\"ColumnDataSource\"},\"glyph\":{\"id\":\"a750bfa1-d2c6-4a25-a62c-fd161a31f1e5\",\"type\":\"Circle\"},\"hover_glyph\":null,\"muted_glyph\":null,\"nonselection_glyph\":{\"id\":\"06d861f7-e0de-4665-bfcc-4e97bfad18fe\",\"type\":\"Circle\"},\"selection_glyph\":null,\"view\":{\"id\":\"e755d1ec-3fec-4d7d-944e-c287c802971b\",\"type\":\"CDSView\"}},\"id\":\"690711f2-449e-4983-aa23-e3b83ea0c7a2\",\"type\":\"GlyphRenderer\"},{\"attributes\":{\"source\":{\"id\":\"e9820ec1-dc1e-4626-902b-75ae05b0db06\",\"type\":\"ColumnDataSource\"}},\"id\":\"4af5ef0c-7478-47d6-9fab-2ca5c9270242\",\"type\":\"CDSView\"},{\"attributes\":{\"callback\":null,\"column_names\":[\"x\",\"y\"],\"data\":{\"x\":[1,2,5,10,20,50,100,200,500,1000,2000,5000],\"y\":[1.928683486767113e-06,5.348356207832694e-06,1.0088062263093889e-05,1.932975254021585e-05,4.36724309111014e-05,0.00019079910591244696,0.0007820247969357296,0.0036099665006622673,0.029195572207099757,0.15714686589781196,0.6617195535992506,4.328593240285991]}},\"id\":\"7d4f092c-470f-4ae5-9f91-a91f4295a922\",\"type\":\"ColumnDataSource\"},{\"attributes\":{\"data_source\":{\"id\":\"7d4f092c-470f-4ae5-9f91-a91f4295a922\",\"type\":\"ColumnDataSource\"},\"glyph\":{\"id\":\"9be05602-8a6c-426a-9e16-b3c6dd9237af\",\"type\":\"Line\"},\"hover_glyph\":null,\"muted_glyph\":null,\"nonselection_glyph\":{\"id\":\"682029a9-91a4-4c03-9fc0-42b4f0537a18\",\"type\":\"Line\"},\"selection_glyph\":null,\"view\":{\"id\":\"a3ebe276-86bf-44e4-975b-6bbca21fb6ae\",\"type\":\"CDSView\"}},\"id\":\"e45bb6c7-3279-4e7b-84e7-ca235ec88035\",\"type\":\"GlyphRenderer\"},{\"attributes\":{\"line_alpha\":0.1,\"line_color\":\"#1f77b4\",\"line_dash\":[6],\"x\":{\"field\":\"x\"},\"y\":{\"field\":\"y\"}},\"id\":\"682029a9-91a4-4c03-9fc0-42b4f0537a18\",\"type\":\"Line\"},{\"attributes\":{\"line_color\":\"#d62728\",\"line_dash\":[6],\"x\":{\"field\":\"x\"},\"y\":{\"field\":\"y\"}},\"id\":\"115956fd-d4ee-4a59-9140-7219a5709ea8\",\"type\":\"Line\"},{\"attributes\":{\"line_color\":\"#ff7f0e\",\"line_dash\":[6],\"x\":{\"field\":\"x\"},\"y\":{\"field\":\"y\"}},\"id\":\"9be05602-8a6c-426a-9e16-b3c6dd9237af\",\"type\":\"Line\"},{\"attributes\":{\"label\":{\"value\":\"skip_even\"},\"renderers\":[{\"id\":\"e45bb6c7-3279-4e7b-84e7-ca235ec88035\",\"type\":\"GlyphRenderer\"},{\"id\":\"605722d7-63e8-4f47-8e57-28d512055b10\",\"type\":\"GlyphRenderer\"}]},\"id\":\"3385eb2d-ba5a-4078-ac93-e3accd2208a5\",\"type\":\"LegendItem\"},{\"attributes\":{\"fill_color\":{\"value\":\"#d62728\"},\"line_color\":{\"value\":\"#d62728\"},\"x\":{\"field\":\"x\"},\"y\":{\"field\":\"y\"}},\"id\":\"5938c903-1598-42e3-a2f1-277a96af27fb\",\"type\":\"Circle\"},{\"attributes\":{\"source\":{\"id\":\"7d4f092c-470f-4ae5-9f91-a91f4295a922\",\"type\":\"ColumnDataSource\"}},\"id\":\"a3ebe276-86bf-44e4-975b-6bbca21fb6ae\",\"type\":\"CDSView\"},{\"attributes\":{\"fill_alpha\":{\"value\":0.1},\"fill_color\":{\"value\":\"#1f77b4\"},\"line_alpha\":{\"value\":0.1},\"line_color\":{\"value\":\"#1f77b4\"},\"x\":{\"field\":\"x\"},\"y\":{\"field\":\"y\"}},\"id\":\"878a1cb6-1fa7-4cf8-8645-1971ff38d8d3\",\"type\":\"Circle\"},{\"attributes\":{\"source\":{\"id\":\"8db95945-16f6-46ef-a726-80d939517b7d\",\"type\":\"ColumnDataSource\"}},\"id\":\"c2a1bbe0-5ea3-4091-84fd-186871caab04\",\"type\":\"CDSView\"},{\"attributes\":{\"label\":{\"value\":\"check_primes\"},\"renderers\":[{\"id\":\"be282b23-bf1c-4f62-b8a9-973a7550a710\",\"type\":\"GlyphRenderer\"},{\"id\":\"96101190-7fc4-499d-8ff3-77a1ecaf5193\",\"type\":\"GlyphRenderer\"}]},\"id\":\"23c5b1a9-1e30-40f1-bd1a-013e7563dc5b\",\"type\":\"LegendItem\"},{\"attributes\":{\"source\":{\"id\":\"f4a31f00-3314-411d-bf3f-3659890acecc\",\"type\":\"ColumnDataSource\"}},\"id\":\"10fecae8-76f3-4168-97d6-4e35f447c484\",\"type\":\"CDSView\"},{\"attributes\":{\"data_source\":{\"id\":\"f4a31f00-3314-411d-bf3f-3659890acecc\",\"type\":\"ColumnDataSource\"},\"glyph\":{\"id\":\"3af6ff53-8ef1-47c7-9e03-f298632450c1\",\"type\":\"Circle\"},\"hover_glyph\":null,\"muted_glyph\":null,\"nonselection_glyph\":{\"id\":\"878a1cb6-1fa7-4cf8-8645-1971ff38d8d3\",\"type\":\"Circle\"},\"selection_glyph\":null,\"view\":{\"id\":\"10fecae8-76f3-4168-97d6-4e35f447c484\",\"type\":\"CDSView\"}},\"id\":\"14ad02b0-0191-4eba-ba28-c81428d22fb2\",\"type\":\"GlyphRenderer\"},{\"attributes\":{\"callback\":null,\"column_names\":[\"x\",\"y\"],\"data\":{\"x\":[1,2,5,10,20,50,100,200,500,1000,2000,5000],\"y\":[1.928683486767113e-06,5.348356207832694e-06,1.0088062263093889e-05,1.932975254021585e-05,4.36724309111014e-05,0.00019079910591244696,0.0007820247969357296,0.0036099665006622673,0.029195572207099757,0.15714686589781196,0.6617195535992506,4.328593240285991]}},\"id\":\"bba6df87-f28b-4177-b12e-a19ac9de76f5\",\"type\":\"ColumnDataSource\"},{\"attributes\":{\"line_alpha\":0.1,\"line_color\":\"#1f77b4\",\"x\":{\"field\":\"x\"},\"y\":{\"field\":\"y\"}},\"id\":\"b497b743-2dab-463a-ab65-313f6bf7b850\",\"type\":\"Line\"},{\"attributes\":{\"source\":{\"id\":\"44245337-6baf-4ab8-be6e-ebed3cf7e513\",\"type\":\"ColumnDataSource\"}},\"id\":\"c661e365-5abe-4bc5-96b2-96cb191e7463\",\"type\":\"CDSView\"},{\"attributes\":{\"fill_color\":{\"value\":\"#ff7f0e\"},\"line_color\":{\"value\":\"#ff7f0e\"},\"x\":{\"field\":\"x\"},\"y\":{\"field\":\"y\"}},\"id\":\"68096c9e-3cb6-4460-a794-d7bc9e519515\",\"type\":\"Circle\"},{\"attributes\":{\"source\":{\"id\":\"e9820ec1-dc1e-4626-902b-75ae05b0db06\",\"type\":\"ColumnDataSource\"}},\"id\":\"2bda5717-bc10-4eb8-bf63-a7e2743238fb\",\"type\":\"CDSView\"},{\"attributes\":{\"data_source\":{\"id\":\"bba6df87-f28b-4177-b12e-a19ac9de76f5\",\"type\":\"ColumnDataSource\"},\"glyph\":{\"id\":\"68096c9e-3cb6-4460-a794-d7bc9e519515\",\"type\":\"Circle\"},\"hover_glyph\":null,\"muted_glyph\":null,\"nonselection_glyph\":{\"id\":\"cfa22529-b46a-4741-aafe-d102ef77d085\",\"type\":\"Circle\"},\"selection_glyph\":null,\"view\":{\"id\":\"b87be64c-c420-4887-a2cb-082203f9a965\",\"type\":\"CDSView\"}},\"id\":\"605722d7-63e8-4f47-8e57-28d512055b10\",\"type\":\"GlyphRenderer\"},{\"attributes\":{\"data_source\":{\"id\":\"e9820ec1-dc1e-4626-902b-75ae05b0db06\",\"type\":\"ColumnDataSource\"},\"glyph\":{\"id\":\"a90d6e45-aa0e-48d1-9b42-b333e5507430\",\"type\":\"Circle\"},\"hover_glyph\":null,\"muted_glyph\":null,\"nonselection_glyph\":{\"id\":\"1339545f-0e5a-45aa-8fb7-a611d868e0d2\",\"type\":\"Circle\"},\"selection_glyph\":null,\"view\":{\"id\":\"2bda5717-bc10-4eb8-bf63-a7e2743238fb\",\"type\":\"CDSView\"}},\"id\":\"6d2a5488-6ed9-47d2-8c96-924a5ba313b4\",\"type\":\"GlyphRenderer\"},{\"attributes\":{\"fill_alpha\":{\"value\":0.1},\"fill_color\":{\"value\":\"#1f77b4\"},\"line_alpha\":{\"value\":0.1},\"line_color\":{\"value\":\"#1f77b4\"},\"x\":{\"field\":\"x\"},\"y\":{\"field\":\"y\"}},\"id\":\"cfa22529-b46a-4741-aafe-d102ef77d085\",\"type\":\"Circle\"},{\"attributes\":{\"callback\":null,\"column_names\":[\"x\",\"y\"],\"data\":{\"x\":[1,2,5,10,20,50,100,200,500,1000,2000,5000,10000,20000,50000],\"y\":[1.9457092275843024e-06,6.114398129284382e-06,1.1780100758187473e-05,2.2780797444283962e-05,4.293648235034198e-05,0.00011111817322671414,0.000251019851421006,0.0005885235581081361,0.0019095742475474255,0.004739756946219132,0.01221786662528757,0.046385250308085234,0.13627362401981372,0.3649428817105945,1.3061569034151035]}},\"id\":\"44245337-6baf-4ab8-be6e-ebed3cf7e513\",\"type\":\"ColumnDataSource\"},{\"attributes\":{\"source\":{\"id\":\"41ec8d14-aab7-4554-9971-cdbfa623e821\",\"type\":\"ColumnDataSource\"}},\"id\":\"34f6732d-aaba-4841-8b25-a8f938aa2e9b\",\"type\":\"CDSView\"},{\"attributes\":{\"line_color\":\"#2ca02c\",\"line_dash\":[6],\"x\":{\"field\":\"x\"},\"y\":{\"field\":\"y\"}},\"id\":\"dd9088ea-df41-475c-b829-91a52cfbd604\",\"type\":\"Line\"},{\"attributes\":{\"line_alpha\":0.1,\"line_color\":\"#1f77b4\",\"line_dash\":[6],\"x\":{\"field\":\"x\"},\"y\":{\"field\":\"y\"}},\"id\":\"df8dd93a-36c5-4e65-adb1-3382b8fe4922\",\"type\":\"Line\"},{\"attributes\":{\"line_alpha\":0.1,\"line_color\":\"#1f77b4\",\"line_dash\":[6],\"x\":{\"field\":\"x\"},\"y\":{\"field\":\"y\"}},\"id\":\"2e1e3209-edc7-43eb-8b21-92dca430469d\",\"type\":\"Line\"},{\"attributes\":{\"data_source\":{\"id\":\"44245337-6baf-4ab8-be6e-ebed3cf7e513\",\"type\":\"ColumnDataSource\"},\"glyph\":{\"id\":\"dd9088ea-df41-475c-b829-91a52cfbd604\",\"type\":\"Line\"},\"hover_glyph\":null,\"muted_glyph\":null,\"nonselection_glyph\":{\"id\":\"2e1e3209-edc7-43eb-8b21-92dca430469d\",\"type\":\"Line\"},\"selection_glyph\":null,\"view\":{\"id\":\"c661e365-5abe-4bc5-96b2-96cb191e7463\",\"type\":\"CDSView\"}},\"id\":\"c0cedde7-1793-4167-90cd-62c7f2506826\",\"type\":\"GlyphRenderer\"},{\"attributes\":{\"source\":{\"id\":\"bba6df87-f28b-4177-b12e-a19ac9de76f5\",\"type\":\"ColumnDataSource\"}},\"id\":\"b87be64c-c420-4887-a2cb-082203f9a965\",\"type\":\"CDSView\"},{\"attributes\":{\"callback\":null,\"start\":1},\"id\":\"b6e1a263-5841-4152-aa1c-223707133bfb\",\"type\":\"DataRange1d\"},{\"attributes\":{\"label\":{\"value\":\"to_sqrt\"},\"renderers\":[{\"id\":\"c0cedde7-1793-4167-90cd-62c7f2506826\",\"type\":\"GlyphRenderer\"},{\"id\":\"690711f2-449e-4983-aa23-e3b83ea0c7a2\",\"type\":\"GlyphRenderer\"}]},\"id\":\"ccba332c-3f36-4454-857d-c32e6ccfa0d1\",\"type\":\"LegendItem\"},{\"attributes\":{\"below\":[{\"id\":\"0e650f9d-a30b-4b7d-ad22-d710b41e12b6\",\"type\":\"LogAxis\"}],\"left\":[{\"id\":\"8aec59af-f7a6-4930-8f58-7e556e4fa1fd\",\"type\":\"LogAxis\"}],\"plot_height\":400,\"plot_width\":800,\"renderers\":[{\"id\":\"0e650f9d-a30b-4b7d-ad22-d710b41e12b6\",\"type\":\"LogAxis\"},{\"id\":\"6395212e-6869-41d3-b517-ab24c41c7ede\",\"type\":\"Grid\"},{\"id\":\"8aec59af-f7a6-4930-8f58-7e556e4fa1fd\",\"type\":\"LogAxis\"},{\"id\":\"1207f0fa-be98-468f-9d0b-e50f4d765767\",\"type\":\"Grid\"},{\"id\":\"62bf97b5-09cd-4c5c-ae2d-a3d45831df23\",\"type\":\"BoxAnnotation\"},{\"id\":\"2028560b-4b07-4aa2-9708-2216d1d6310c\",\"type\":\"Legend\"},{\"id\":\"914ecdfc-b259-4db8-bbd4-bcc4d858387a\",\"type\":\"GlyphRenderer\"},{\"id\":\"14ad02b0-0191-4eba-ba28-c81428d22fb2\",\"type\":\"GlyphRenderer\"},{\"id\":\"e45bb6c7-3279-4e7b-84e7-ca235ec88035\",\"type\":\"GlyphRenderer\"},{\"id\":\"605722d7-63e8-4f47-8e57-28d512055b10\",\"type\":\"GlyphRenderer\"},{\"id\":\"c0cedde7-1793-4167-90cd-62c7f2506826\",\"type\":\"GlyphRenderer\"},{\"id\":\"690711f2-449e-4983-aa23-e3b83ea0c7a2\",\"type\":\"GlyphRenderer\"},{\"id\":\"be282b23-bf1c-4f62-b8a9-973a7550a710\",\"type\":\"GlyphRenderer\"},{\"id\":\"96101190-7fc4-499d-8ff3-77a1ecaf5193\",\"type\":\"GlyphRenderer\"},{\"id\":\"f4543411-35d8-477b-a7ba-39c4fcccabac\",\"type\":\"GlyphRenderer\"},{\"id\":\"6d2a5488-6ed9-47d2-8c96-924a5ba313b4\",\"type\":\"GlyphRenderer\"}],\"title\":{\"id\":\"c732ca52-0161-47ab-816d-dbe897b5dcb1\",\"type\":\"Title\"},\"toolbar\":{\"id\":\"594084e2-0c2d-4aa0-acd1-83133019a528\",\"type\":\"Toolbar\"},\"toolbar_location\":\"above\",\"x_range\":{\"id\":\"b6e1a263-5841-4152-aa1c-223707133bfb\",\"type\":\"DataRange1d\"},\"x_scale\":{\"id\":\"7934c0a3-7c8a-4d00-a31c-9c3b86bd65ce\",\"type\":\"LogScale\"},\"y_range\":{\"id\":\"e1c1beb0-1085-4671-aed0-0a3f3fb2bac6\",\"type\":\"Range1d\"},\"y_scale\":{\"id\":\"6bc05b9f-2573-43d9-ba03-f95d436792eb\",\"type\":\"LogScale\"}},\"id\":\"d90d717e-775d-4155-819d-22ef34bfc901\",\"subtype\":\"Figure\",\"type\":\"Plot\"},{\"attributes\":{\"plot\":null,\"text\":\"Timing\"},\"id\":\"c732ca52-0161-47ab-816d-dbe897b5dcb1\",\"type\":\"Title\"},{\"attributes\":{\"callback\":null,\"start\":1e-06},\"id\":\"e1c1beb0-1085-4671-aed0-0a3f3fb2bac6\",\"type\":\"Range1d\"},{\"attributes\":{\"active_drag\":\"auto\",\"active_inspect\":\"auto\",\"active_scroll\":\"auto\",\"active_tap\":\"auto\",\"tools\":[{\"id\":\"3c8f40d1-ae7f-4d7a-8cd8-018ae690159e\",\"type\":\"PanTool\"},{\"id\":\"b6dc3e42-edc6-40a3-bb37-5cbb84829627\",\"type\":\"WheelZoomTool\"},{\"id\":\"3d5732ae-09d4-439f-a4af-40ba6c248c36\",\"type\":\"BoxZoomTool\"},{\"id\":\"3a9b9c1c-adbc-4d53-85bf-8f0e77a6f330\",\"type\":\"SaveTool\"},{\"id\":\"47c3ad2b-d6a4-454b-b627-e5cade3f2f31\",\"type\":\"ResetTool\"},{\"id\":\"e8980250-b813-4e08-b2e4-682e3d7aa03f\",\"type\":\"HelpTool\"}]},\"id\":\"594084e2-0c2d-4aa0-acd1-83133019a528\",\"type\":\"Toolbar\"},{\"attributes\":{\"num_minor_ticks\":10},\"id\":\"57d1b8f9-0ade-4a5f-9257-0999ae04cc37\",\"type\":\"LogTicker\"},{\"attributes\":{\"fill_color\":{\"value\":\"#2ca02c\"},\"line_color\":{\"value\":\"#2ca02c\"},\"x\":{\"field\":\"x\"},\"y\":{\"field\":\"y\"}},\"id\":\"a750bfa1-d2c6-4a25-a62c-fd161a31f1e5\",\"type\":\"Circle\"},{\"attributes\":{\"num_minor_ticks\":10},\"id\":\"5b73ff2b-a04c-494d-9f3e-458fa83547e0\",\"type\":\"LogTicker\"},{\"attributes\":{\"plot\":{\"id\":\"d90d717e-775d-4155-819d-22ef34bfc901\",\"subtype\":\"Figure\",\"type\":\"Plot\"},\"ticker\":{\"id\":\"57d1b8f9-0ade-4a5f-9257-0999ae04cc37\",\"type\":\"LogTicker\"}},\"id\":\"6395212e-6869-41d3-b517-ab24c41c7ede\",\"type\":\"Grid\"},{\"attributes\":{},\"id\":\"7934c0a3-7c8a-4d00-a31c-9c3b86bd65ce\",\"type\":\"LogScale\"},{\"attributes\":{\"axis_label\":\"Primes\",\"formatter\":{\"id\":\"87089a3f-46c8-4ad2-ae3e-7b0afb33cc57\",\"type\":\"NumeralTickFormatter\"},\"plot\":{\"id\":\"d90d717e-775d-4155-819d-22ef34bfc901\",\"subtype\":\"Figure\",\"type\":\"Plot\"},\"ticker\":{\"id\":\"57d1b8f9-0ade-4a5f-9257-0999ae04cc37\",\"type\":\"LogTicker\"}},\"id\":\"0e650f9d-a30b-4b7d-ad22-d710b41e12b6\",\"type\":\"LogAxis\"},{\"attributes\":{},\"id\":\"6bc05b9f-2573-43d9-ba03-f95d436792eb\",\"type\":\"LogScale\"},{\"attributes\":{\"axis_label\":\"Seconds\",\"formatter\":{\"id\":\"7127236c-13fb-411a-9f29-74eccfe9bcfe\",\"type\":\"LogTickFormatter\"},\"plot\":{\"id\":\"d90d717e-775d-4155-819d-22ef34bfc901\",\"subtype\":\"Figure\",\"type\":\"Plot\"},\"ticker\":{\"id\":\"5b73ff2b-a04c-494d-9f3e-458fa83547e0\",\"type\":\"LogTicker\"}},\"id\":\"8aec59af-f7a6-4930-8f58-7e556e4fa1fd\",\"type\":\"LogAxis\"},{\"attributes\":{\"dimension\":1,\"plot\":{\"id\":\"d90d717e-775d-4155-819d-22ef34bfc901\",\"subtype\":\"Figure\",\"type\":\"Plot\"},\"ticker\":{\"id\":\"5b73ff2b-a04c-494d-9f3e-458fa83547e0\",\"type\":\"LogTicker\"}},\"id\":\"1207f0fa-be98-468f-9d0b-e50f4d765767\",\"type\":\"Grid\"},{\"attributes\":{\"fill_alpha\":{\"value\":0.1},\"fill_color\":{\"value\":\"#1f77b4\"},\"line_alpha\":{\"value\":0.1},\"line_color\":{\"value\":\"#1f77b4\"},\"x\":{\"field\":\"x\"},\"y\":{\"field\":\"y\"}},\"id\":\"46229f4e-5a75-4768-a1af-8d6cfa930420\",\"type\":\"Circle\"},{\"attributes\":{\"line_color\":\"#9467bd\",\"x\":{\"field\":\"x\"},\"y\":{\"field\":\"y\"}},\"id\":\"7341323f-1aee-41f7-9f6a-c85ac7ccd501\",\"type\":\"Line\"},{\"attributes\":{\"background_fill_alpha\":{\"value\":0.5},\"click_policy\":\"hide\",\"items\":[{\"id\":\"f1ed9925-c51d-499b-8996-92a7f947cc42\",\"type\":\"LegendItem\"},{\"id\":\"3385eb2d-ba5a-4078-ac93-e3accd2208a5\",\"type\":\"LegendItem\"},{\"id\":\"ccba332c-3f36-4454-857d-c32e6ccfa0d1\",\"type\":\"LegendItem\"},{\"id\":\"23c5b1a9-1e30-40f1-bd1a-013e7563dc5b\",\"type\":\"LegendItem\"},{\"id\":\"dae168bb-04a9-4150-8346-a477a0999c17\",\"type\":\"LegendItem\"}],\"location\":\"top_left\",\"plot\":{\"id\":\"d90d717e-775d-4155-819d-22ef34bfc901\",\"subtype\":\"Figure\",\"type\":\"Plot\"}},\"id\":\"2028560b-4b07-4aa2-9708-2216d1d6310c\",\"type\":\"Legend\"},{\"attributes\":{\"callback\":null,\"column_names\":[\"x\",\"y\"],\"data\":{\"x\":[1,2,5,10,20,50,100,200,500,1000,2000],\"y\":[3.91571840737015e-06,7.2433939203619956e-06,1.4987080940045414e-05,3.0398783273994922e-05,7.70214624935761e-05,0.0003747431433293968,0.0015680668415734545,0.00739021853893064,0.05986085925658699,0.29679561396478676,1.2218749636859867]}},\"id\":\"510141d3-a510-48dd-b237-3ea5a144a7c8\",\"type\":\"ColumnDataSource\"},{\"attributes\":{\"bottom_units\":\"screen\",\"fill_alpha\":{\"value\":0.5},\"fill_color\":{\"value\":\"lightgrey\"},\"left_units\":\"screen\",\"level\":\"overlay\",\"line_alpha\":{\"value\":1.0},\"line_color\":{\"value\":\"black\"},\"line_dash\":[4,4],\"line_width\":{\"value\":2},\"plot\":null,\"render_mode\":\"css\",\"right_units\":\"screen\",\"top_units\":\"screen\"},\"id\":\"62bf97b5-09cd-4c5c-ae2d-a3d45831df23\",\"type\":\"BoxAnnotation\"},{\"attributes\":{},\"id\":\"3c8f40d1-ae7f-4d7a-8cd8-018ae690159e\",\"type\":\"PanTool\"},{\"attributes\":{\"line_color\":\"#1f77b4\",\"line_dash\":[6],\"x\":{\"field\":\"x\"},\"y\":{\"field\":\"y\"}},\"id\":\"57ca6f26-5038-4d46-9990-fb1a34e8ffcc\",\"type\":\"Line\"},{\"attributes\":{},\"id\":\"b6dc3e42-edc6-40a3-bb37-5cbb84829627\",\"type\":\"WheelZoomTool\"},{\"attributes\":{\"source\":{\"id\":\"0c299936-9299-4e58-b62f-c31e6328e3d0\",\"type\":\"ColumnDataSource\"}},\"id\":\"e755d1ec-3fec-4d7d-944e-c287c802971b\",\"type\":\"CDSView\"},{\"attributes\":{\"callback\":null,\"column_names\":[\"x\",\"y\"],\"data\":{\"x\":[1,2,5,10,20,50,100,200,500,1000,2000],\"y\":[3.91571840737015e-06,7.2433939203619956e-06,1.4987080940045414e-05,3.0398783273994922e-05,7.70214624935761e-05,0.0003747431433293968,0.0015680668415734545,0.00739021853893064,0.05986085925658699,0.29679561396478676,1.2218749636859867]}},\"id\":\"f4a31f00-3314-411d-bf3f-3659890acecc\",\"type\":\"ColumnDataSource\"},{\"attributes\":{\"format\":\"0[.]0 a\"},\"id\":\"87089a3f-46c8-4ad2-ae3e-7b0afb33cc57\",\"type\":\"NumeralTickFormatter\"},{\"attributes\":{\"overlay\":{\"id\":\"62bf97b5-09cd-4c5c-ae2d-a3d45831df23\",\"type\":\"BoxAnnotation\"}},\"id\":\"3d5732ae-09d4-439f-a4af-40ba6c248c36\",\"type\":\"BoxZoomTool\"},{\"attributes\":{},\"id\":\"3a9b9c1c-adbc-4d53-85bf-8f0e77a6f330\",\"type\":\"SaveTool\"},{\"attributes\":{},\"id\":\"47c3ad2b-d6a4-454b-b627-e5cade3f2f31\",\"type\":\"ResetTool\"},{\"attributes\":{\"callback\":null,\"column_names\":[\"x\",\"y\"],\"data\":{\"x\":[1,2,5,10,20,50,100,200,500,1000,2000,5000,10000],\"y\":[1.6776920529082417e-06,3.437398700043559e-06,6.455089314840734e-06,1.2009789934381842e-05,2.3841459187678994e-05,8.453016518615187e-05,0.00027960187930148095,0.0010557575873099267,0.006852055275230668,0.029649630992207673,0.13802742869767826,0.7851034203986638,3.083855590078165]}},\"id\":\"41ec8d14-aab7-4554-9971-cdbfa623e821\",\"type\":\"ColumnDataSource\"},{\"attributes\":{},\"id\":\"e8980250-b813-4e08-b2e4-682e3d7aa03f\",\"type\":\"HelpTool\"},{\"attributes\":{\"callback\":null,\"column_names\":[\"x\",\"y\"],\"data\":{\"x\":[],\"y\":[]}},\"id\":\"e9820ec1-dc1e-4626-902b-75ae05b0db06\",\"type\":\"ColumnDataSource\"},{\"attributes\":{\"source\":{\"id\":\"510141d3-a510-48dd-b237-3ea5a144a7c8\",\"type\":\"ColumnDataSource\"}},\"id\":\"a5d29d4f-b7d5-400c-b8c9-babc2070c128\",\"type\":\"CDSView\"},{\"attributes\":{\"fill_alpha\":{\"value\":0.1},\"fill_color\":{\"value\":\"#1f77b4\"},\"line_alpha\":{\"value\":0.1},\"line_color\":{\"value\":\"#1f77b4\"},\"x\":{\"field\":\"x\"},\"y\":{\"field\":\"y\"}},\"id\":\"06d861f7-e0de-4665-bfcc-4e97bfad18fe\",\"type\":\"Circle\"},{\"attributes\":{\"callback\":null,\"column_names\":[\"x\",\"y\"],\"data\":{\"x\":[1,2,5,10,20,50,100,200,500,1000,2000,5000,10000,20000,50000],\"y\":[1.9457092275843024e-06,6.114398129284382e-06,1.1780100758187473e-05,2.2780797444283962e-05,4.293648235034198e-05,0.00011111817322671414,0.000251019851421006,0.0005885235581081361,0.0019095742475474255,0.004739756946219132,0.01221786662528757,0.046385250308085234,0.13627362401981372,0.3649428817105945,1.3061569034151035]}},\"id\":\"0c299936-9299-4e58-b62f-c31e6328e3d0\",\"type\":\"ColumnDataSource\"},{\"attributes\":{\"data_source\":{\"id\":\"8db95945-16f6-46ef-a726-80d939517b7d\",\"type\":\"ColumnDataSource\"},\"glyph\":{\"id\":\"5938c903-1598-42e3-a2f1-277a96af27fb\",\"type\":\"Circle\"},\"hover_glyph\":null,\"muted_glyph\":null,\"nonselection_glyph\":{\"id\":\"46229f4e-5a75-4768-a1af-8d6cfa930420\",\"type\":\"Circle\"},\"selection_glyph\":null,\"view\":{\"id\":\"c2a1bbe0-5ea3-4091-84fd-186871caab04\",\"type\":\"CDSView\"}},\"id\":\"96101190-7fc4-499d-8ff3-77a1ecaf5193\",\"type\":\"GlyphRenderer\"},{\"attributes\":{\"label\":{\"value\":\"check_primes_sqrt\"},\"renderers\":[{\"id\":\"f4543411-35d8-477b-a7ba-39c4fcccabac\",\"type\":\"GlyphRenderer\"},{\"id\":\"6d2a5488-6ed9-47d2-8c96-924a5ba313b4\",\"type\":\"GlyphRenderer\"}]},\"id\":\"dae168bb-04a9-4150-8346-a477a0999c17\",\"type\":\"LegendItem\"},{\"attributes\":{\"line_alpha\":0.1,\"line_color\":\"#1f77b4\",\"line_dash\":[6],\"x\":{\"field\":\"x\"},\"y\":{\"field\":\"y\"}},\"id\":\"f90e22c8-8a28-46ac-9c57-273b76d5c3e3\",\"type\":\"Line\"},{\"attributes\":{\"fill_color\":{\"value\":\"#9467bd\"},\"line_color\":{\"value\":\"#9467bd\"},\"x\":{\"field\":\"x\"},\"y\":{\"field\":\"y\"}},\"id\":\"a90d6e45-aa0e-48d1-9b42-b333e5507430\",\"type\":\"Circle\"},{\"attributes\":{\"data_source\":{\"id\":\"510141d3-a510-48dd-b237-3ea5a144a7c8\",\"type\":\"ColumnDataSource\"},\"glyph\":{\"id\":\"57ca6f26-5038-4d46-9990-fb1a34e8ffcc\",\"type\":\"Line\"},\"hover_glyph\":null,\"muted_glyph\":null,\"nonselection_glyph\":{\"id\":\"f90e22c8-8a28-46ac-9c57-273b76d5c3e3\",\"type\":\"Line\"},\"selection_glyph\":null,\"view\":{\"id\":\"a5d29d4f-b7d5-400c-b8c9-babc2070c128\",\"type\":\"CDSView\"}},\"id\":\"914ecdfc-b259-4db8-bbd4-bcc4d858387a\",\"type\":\"GlyphRenderer\"},{\"attributes\":{\"ticker\":null},\"id\":\"7127236c-13fb-411a-9f29-74eccfe9bcfe\",\"type\":\"LogTickFormatter\"},{\"attributes\":{\"fill_alpha\":{\"value\":0.1},\"fill_color\":{\"value\":\"#1f77b4\"},\"line_alpha\":{\"value\":0.1},\"line_color\":{\"value\":\"#1f77b4\"},\"x\":{\"field\":\"x\"},\"y\":{\"field\":\"y\"}},\"id\":\"1339545f-0e5a-45aa-8fb7-a611d868e0d2\",\"type\":\"Circle\"},{\"attributes\":{\"data_source\":{\"id\":\"41ec8d14-aab7-4554-9971-cdbfa623e821\",\"type\":\"ColumnDataSource\"},\"glyph\":{\"id\":\"115956fd-d4ee-4a59-9140-7219a5709ea8\",\"type\":\"Line\"},\"hover_glyph\":null,\"muted_glyph\":null,\"nonselection_glyph\":{\"id\":\"df8dd93a-36c5-4e65-adb1-3382b8fe4922\",\"type\":\"Line\"},\"selection_glyph\":null,\"view\":{\"id\":\"34f6732d-aaba-4841-8b25-a8f938aa2e9b\",\"type\":\"CDSView\"}},\"id\":\"be282b23-bf1c-4f62-b8a9-973a7550a710\",\"type\":\"GlyphRenderer\"},{\"attributes\":{\"label\":{\"value\":\"first_try\"},\"renderers\":[{\"id\":\"914ecdfc-b259-4db8-bbd4-bcc4d858387a\",\"type\":\"GlyphRenderer\"},{\"id\":\"14ad02b0-0191-4eba-ba28-c81428d22fb2\",\"type\":\"GlyphRenderer\"}]},\"id\":\"f1ed9925-c51d-499b-8996-92a7f947cc42\",\"type\":\"LegendItem\"},{\"attributes\":{\"callback\":null,\"column_names\":[\"x\",\"y\"],\"data\":{\"x\":[1,2,5,10,20,50,100,200,500,1000,2000,5000,10000],\"y\":[1.6776920529082417e-06,3.437398700043559e-06,6.455089314840734e-06,1.2009789934381842e-05,2.3841459187678994e-05,8.453016518615187e-05,0.00027960187930148095,0.0010557575873099267,0.006852055275230668,0.029649630992207673,0.13802742869767826,0.7851034203986638,3.083855590078165]}},\"id\":\"8db95945-16f6-46ef-a726-80d939517b7d\",\"type\":\"ColumnDataSource\"}],\"root_ids\":[\"d90d717e-775d-4155-819d-22ef34bfc901\"]},\"title\":\"Bokeh Application\",\"version\":\"0.12.14\"}};\n",
       "  var render_items = [{\"docid\":\"fc7141d9-77b2-4b02-a528-d4d9404528c8\",\"elementid\":\"2fb7c665-8760-4470-8143-a1dacda5d7d2\",\"modelid\":\"d90d717e-775d-4155-819d-22ef34bfc901\",\"notebook_comms_target\":\"b08f0986-d81a-461c-9bd3-dbf254720ce3\"}];\n",
       "  root.Bokeh.embed.embed_items_notebook(docs_json, render_items);\n",
       "\n",
       "  }\n",
       "  if (root.Bokeh !== undefined) {\n",
       "    embed_document(root);\n",
       "  } else {\n",
       "    var attempts = 0;\n",
       "    var timer = setInterval(function(root) {\n",
       "      if (root.Bokeh !== undefined) {\n",
       "        embed_document(root);\n",
       "        clearInterval(timer);\n",
       "      }\n",
       "      attempts++;\n",
       "      if (attempts > 100) {\n",
       "        console.log(\"Bokeh: ERROR: Unable to run BokehJS code because BokehJS library is missing\")\n",
       "        clearInterval(timer);\n",
       "      }\n",
       "    }, 10, root)\n",
       "  }\n",
       "})(window);"
      ],
      "application/vnd.bokehjs_exec.v0+json": ""
     },
     "metadata": {
      "application/vnd.bokehjs_exec.v0+json": {
       "id": "d90d717e-775d-4155-819d-22ef34bfc901"
      }
     },
     "output_type": "display_data"
    }
   ],
   "source": [
    "timing_plot(check_primes_sqrt)"
   ]
  },
  {
   "cell_type": "markdown",
   "metadata": {
    "slideshow": {
     "slide_type": "slide"
    }
   },
   "source": [
    "## The sieve of Eratosthenes"
   ]
  },
  {
   "cell_type": "markdown",
   "metadata": {
    "slideshow": {
     "slide_type": "fragment"
    }
   },
   "source": [
    "1. start with a grid of numbers, from 2 to max_prime\n",
    "2. find first (next) unmarked number, return that as a prime\n",
    "3. mark all multiples of it (actually just from n² onwards)\n",
    "4. go back to 2.\n",
    "<img src=\"resources/sieve.png\" id=\"sieve\" />"
   ]
  },
  {
   "cell_type": "code",
   "execution_count": 15,
   "metadata": {
    "collapsed": true,
    "slideshow": {
     "slide_type": "slide"
    }
   },
   "outputs": [],
   "source": [
    "def sieve(max_prime):\n",
    "    sieve = [True] * (max_prime // 2)\n",
    "    yield 2\n",
    "    for i in range(3, max_prime, 2):\n",
    "        if sieve[i//2]:\n",
    "            yield i\n",
    "            for j in range(i*i, max_prime, i*2):\n",
    "                sieve[j//2] = False"
   ]
  },
  {
   "cell_type": "code",
   "execution_count": 16,
   "metadata": {
    "slideshow": {
     "slide_type": "slide"
    }
   },
   "outputs": [
    {
     "data": {
      "text/html": [
       "\n",
       "<div class=\"bk-root\">\n",
       "    <div class=\"bk-plotdiv\" id=\"8dcec053-51e4-4afa-8fd6-991246d87980\"></div>\n",
       "</div>"
      ]
     },
     "metadata": {},
     "output_type": "display_data"
    },
    {
     "data": {
      "application/javascript": [
       "(function(root) {\n",
       "  function embed_document(root) {\n",
       "    \n",
       "  var docs_json = {\"148f4e09-2621-4809-83e6-b195ff00852e\":{\"roots\":{\"references\":[{\"attributes\":{\"bottom_units\":\"screen\",\"fill_alpha\":{\"value\":0.5},\"fill_color\":{\"value\":\"lightgrey\"},\"left_units\":\"screen\",\"level\":\"overlay\",\"line_alpha\":{\"value\":1.0},\"line_color\":{\"value\":\"black\"},\"line_dash\":[4,4],\"line_width\":{\"value\":2},\"plot\":null,\"render_mode\":\"css\",\"right_units\":\"screen\",\"top_units\":\"screen\"},\"id\":\"d979ae1f-7ea3-4e29-9c87-9922f4af5260\",\"type\":\"BoxAnnotation\"},{\"attributes\":{\"line_alpha\":0.1,\"line_color\":\"#1f77b4\",\"line_dash\":[6],\"x\":{\"field\":\"x\"},\"y\":{\"field\":\"y\"}},\"id\":\"0dd5e25c-bf3e-4980-a221-0c84c5c8a5e4\",\"type\":\"Line\"},{\"attributes\":{},\"id\":\"406a752c-5002-417d-92c7-94e2d5b38a17\",\"type\":\"PanTool\"},{\"attributes\":{\"label\":{\"value\":\"first_try\"},\"renderers\":[{\"id\":\"dfb83dde-834c-4d92-94e6-d387d2b4fb98\",\"type\":\"GlyphRenderer\"},{\"id\":\"993c859b-e371-417d-a8d4-b7a7f9ee6f7e\",\"type\":\"GlyphRenderer\"}]},\"id\":\"f29956c9-e742-4bb3-917e-78728be15a29\",\"type\":\"LegendItem\"},{\"attributes\":{\"line_color\":\"#d62728\",\"line_dash\":[6],\"x\":{\"field\":\"x\"},\"y\":{\"field\":\"y\"}},\"id\":\"5e765f91-29d7-415c-ab4d-df0220aea72b\",\"type\":\"Line\"},{\"attributes\":{\"data_source\":{\"id\":\"c67d0ee2-0912-44b7-92f7-f3dd12bfaf72\",\"type\":\"ColumnDataSource\"},\"glyph\":{\"id\":\"0851ef86-5fc9-40ee-a29c-c59686feac76\",\"type\":\"Circle\"},\"hover_glyph\":null,\"muted_glyph\":null,\"nonselection_glyph\":{\"id\":\"e7e5e337-0404-4bab-bcaa-8d0b9037e2fb\",\"type\":\"Circle\"},\"selection_glyph\":null,\"view\":{\"id\":\"49be5f6e-150c-4d5a-9eb2-5f83560b8ddf\",\"type\":\"CDSView\"}},\"id\":\"c5ee18ab-1b62-4d8a-ab4d-d9c0d91781db\",\"type\":\"GlyphRenderer\"},{\"attributes\":{},\"id\":\"f56ec871-a45b-41a8-8837-a29b762e8f1c\",\"type\":\"WheelZoomTool\"},{\"attributes\":{\"overlay\":{\"id\":\"d979ae1f-7ea3-4e29-9c87-9922f4af5260\",\"type\":\"BoxAnnotation\"}},\"id\":\"c5c063cd-1e4f-4ef6-97ae-52d3620ff973\",\"type\":\"BoxZoomTool\"},{\"attributes\":{\"source\":{\"id\":\"c67d0ee2-0912-44b7-92f7-f3dd12bfaf72\",\"type\":\"ColumnDataSource\"}},\"id\":\"49be5f6e-150c-4d5a-9eb2-5f83560b8ddf\",\"type\":\"CDSView\"},{\"attributes\":{},\"id\":\"fc64e563-0f88-469b-9134-4e4c549a992c\",\"type\":\"SaveTool\"},{\"attributes\":{\"fill_alpha\":{\"value\":0.1},\"fill_color\":{\"value\":\"#1f77b4\"},\"line_alpha\":{\"value\":0.1},\"line_color\":{\"value\":\"#1f77b4\"},\"x\":{\"field\":\"x\"},\"y\":{\"field\":\"y\"}},\"id\":\"e7e5e337-0404-4bab-bcaa-8d0b9037e2fb\",\"type\":\"Circle\"},{\"attributes\":{},\"id\":\"7cacf1cf-9a39-4aa5-acca-0ed0e2e2efee\",\"type\":\"ResetTool\"},{\"attributes\":{\"callback\":null,\"column_names\":[\"x\",\"y\"],\"data\":{\"x\":[1,2,5,10,20,50,100,200,500,1000,2000,5000,10000],\"y\":[1.6776920529082417e-06,3.437398700043559e-06,6.455089314840734e-06,1.2009789934381842e-05,2.3841459187678994e-05,8.453016518615187e-05,0.00027960187930148095,0.0010557575873099267,0.006852055275230668,0.029649630992207673,0.13802742869767826,0.7851034203986638,3.083855590078165]}},\"id\":\"12ef2402-49ae-40e3-b8af-f512901f289e\",\"type\":\"ColumnDataSource\"},{\"attributes\":{},\"id\":\"b3941f94-4037-4a63-9f39-666301de94a7\",\"type\":\"HelpTool\"},{\"attributes\":{\"callback\":null,\"column_names\":[\"x\",\"y\"],\"data\":{\"x\":[1,2,5,10,20,50,100,200,500,1000,2000,5000,10000,20000,50000],\"y\":[2.0776950987055897e-06,4.807374207302928e-06,9.304063278250396e-06,1.4982775319367647e-05,2.604048640932888e-05,6.168118445202709e-05,0.00014151587442029267,0.000367499552667141,0.0011843392433365807,0.0030475399282295255,0.00832839964015875,0.03472050534677691,0.09592763604538049,0.25508131872164086,0.8234529124136316]}},\"id\":\"fc15f45a-d1c1-4a02-8bdc-5c26fcb2a659\",\"type\":\"ColumnDataSource\"},{\"attributes\":{\"data_source\":{\"id\":\"2585400d-7a1c-4634-8ac4-a9e77a2afa16\",\"type\":\"ColumnDataSource\"},\"glyph\":{\"id\":\"ceab989e-4019-4f0d-9601-7d4f115df551\",\"type\":\"Circle\"},\"hover_glyph\":null,\"muted_glyph\":null,\"nonselection_glyph\":{\"id\":\"3b95208e-7aa3-4972-8b94-dcd839f69f79\",\"type\":\"Circle\"},\"selection_glyph\":null,\"view\":{\"id\":\"ae529c3c-d421-4806-a5d9-2eade3b538e2\",\"type\":\"CDSView\"}},\"id\":\"1e2b49bd-1e5d-4244-9c91-21e06ead3cca\",\"type\":\"GlyphRenderer\"},{\"attributes\":{\"callback\":null,\"column_names\":[\"x\",\"y\"],\"data\":{\"x\":[1,2,5,10,20,50,100,200,500,1000,2000],\"y\":[3.91571840737015e-06,7.2433939203619956e-06,1.4987080940045414e-05,3.0398783273994922e-05,7.70214624935761e-05,0.0003747431433293968,0.0015680668415734545,0.00739021853893064,0.05986085925658699,0.29679561396478676,1.2218749636859867]}},\"id\":\"0f1bc59d-3f66-4fc6-ab0c-852569739fc0\",\"type\":\"ColumnDataSource\"},{\"attributes\":{\"source\":{\"id\":\"2585400d-7a1c-4634-8ac4-a9e77a2afa16\",\"type\":\"ColumnDataSource\"}},\"id\":\"0665726f-3019-4f4e-835d-30d2a1db00a4\",\"type\":\"CDSView\"},{\"attributes\":{\"source\":{\"id\":\"99eb2211-d8d5-4e1e-916f-befe14d7fef9\",\"type\":\"ColumnDataSource\"}},\"id\":\"ff969c58-d636-4013-8e3f-fbe52478448d\",\"type\":\"CDSView\"},{\"attributes\":{\"source\":{\"id\":\"1d93fcd2-541e-4f0f-9f03-34b9b0d2f8d3\",\"type\":\"ColumnDataSource\"}},\"id\":\"92dc70f5-b5ea-457e-92ca-b875bdabed30\",\"type\":\"CDSView\"},{\"attributes\":{\"ticker\":null},\"id\":\"5b35e35b-4f08-4320-90a8-0c927fbb5e76\",\"type\":\"LogTickFormatter\"},{\"attributes\":{\"fill_color\":{\"value\":\"#2ca02c\"},\"line_color\":{\"value\":\"#2ca02c\"},\"x\":{\"field\":\"x\"},\"y\":{\"field\":\"y\"}},\"id\":\"0851ef86-5fc9-40ee-a29c-c59686feac76\",\"type\":\"Circle\"},{\"attributes\":{\"line_alpha\":0.1,\"line_color\":\"#1f77b4\",\"line_dash\":[6],\"x\":{\"field\":\"x\"},\"y\":{\"field\":\"y\"}},\"id\":\"957c7496-abd1-4196-b3ab-f9bb0c550cf7\",\"type\":\"Line\"},{\"attributes\":{\"label\":{\"value\":\"to_sqrt\"},\"renderers\":[{\"id\":\"4531e8ec-eb13-4d02-9521-5eadb9e5e359\",\"type\":\"GlyphRenderer\"},{\"id\":\"c5ee18ab-1b62-4d8a-ab4d-d9c0d91781db\",\"type\":\"GlyphRenderer\"}]},\"id\":\"319e63a9-569d-4749-bd4d-645d6aff4aea\",\"type\":\"LegendItem\"},{\"attributes\":{\"data_source\":{\"id\":\"2585400d-7a1c-4634-8ac4-a9e77a2afa16\",\"type\":\"ColumnDataSource\"},\"glyph\":{\"id\":\"66c5dbe0-0bb4-4181-b3d4-2188e6537999\",\"type\":\"Line\"},\"hover_glyph\":null,\"muted_glyph\":null,\"nonselection_glyph\":{\"id\":\"3e90b3d8-e882-477e-a734-fae56be2b304\",\"type\":\"Line\"},\"selection_glyph\":null,\"view\":{\"id\":\"0665726f-3019-4f4e-835d-30d2a1db00a4\",\"type\":\"CDSView\"}},\"id\":\"33459940-da24-4576-a50f-0ac7b13a89f2\",\"type\":\"GlyphRenderer\"},{\"attributes\":{\"line_color\":\"#2ca02c\",\"line_dash\":[6],\"x\":{\"field\":\"x\"},\"y\":{\"field\":\"y\"}},\"id\":\"f8cc59c1-5d1c-45aa-9af4-02d3a09e5f05\",\"type\":\"Line\"},{\"attributes\":{\"fill_alpha\":{\"value\":0.1},\"fill_color\":{\"value\":\"#1f77b4\"},\"line_alpha\":{\"value\":0.1},\"line_color\":{\"value\":\"#1f77b4\"},\"x\":{\"field\":\"x\"},\"y\":{\"field\":\"y\"}},\"id\":\"6ce54766-53fe-4b09-96eb-cb5a8d7a14a5\",\"type\":\"Circle\"},{\"attributes\":{\"data_source\":{\"id\":\"fc15f45a-d1c1-4a02-8bdc-5c26fcb2a659\",\"type\":\"ColumnDataSource\"},\"glyph\":{\"id\":\"09360341-eebc-4ef9-8ae6-8f6e74f1afdb\",\"type\":\"Line\"},\"hover_glyph\":null,\"muted_glyph\":null,\"nonselection_glyph\":{\"id\":\"6ed13d0e-e661-455a-a39a-b1766fa7352a\",\"type\":\"Line\"},\"selection_glyph\":null,\"view\":{\"id\":\"71a5c217-b15a-4746-b659-c58175bcb6d6\",\"type\":\"CDSView\"}},\"id\":\"f0700af1-9cd7-42b2-a087-3a831a9a2936\",\"type\":\"GlyphRenderer\"},{\"attributes\":{\"data_source\":{\"id\":\"a842dc61-afad-45a7-b6d3-813f718864e7\",\"type\":\"ColumnDataSource\"},\"glyph\":{\"id\":\"8fe70969-5899-4477-9420-bc8d540562b2\",\"type\":\"Circle\"},\"hover_glyph\":null,\"muted_glyph\":null,\"nonselection_glyph\":{\"id\":\"d5de7fac-d623-41dd-8638-e90427231e90\",\"type\":\"Circle\"},\"selection_glyph\":null,\"view\":{\"id\":\"e450183e-71cb-4304-9b81-55afe9325da6\",\"type\":\"CDSView\"}},\"id\":\"20ed27b0-92af-4103-b2a4-8a5622c7c20c\",\"type\":\"GlyphRenderer\"},{\"attributes\":{\"callback\":null,\"column_names\":[\"x\",\"y\"],\"data\":{\"x\":[1,2,5,10,20,50,100,200,500,1000,2000,5000],\"y\":[1.928683486767113e-06,5.348356207832694e-06,1.0088062263093889e-05,1.932975254021585e-05,4.36724309111014e-05,0.00019079910591244696,0.0007820247969357296,0.0036099665006622673,0.029195572207099757,0.15714686589781196,0.6617195535992506,4.328593240285991]}},\"id\":\"e078155e-4bc7-4fa3-93b8-ed1aaa48db15\",\"type\":\"ColumnDataSource\"},{\"attributes\":{\"line_color\":\"#9467bd\",\"line_dash\":[6],\"x\":{\"field\":\"x\"},\"y\":{\"field\":\"y\"}},\"id\":\"09360341-eebc-4ef9-8ae6-8f6e74f1afdb\",\"type\":\"Line\"},{\"attributes\":{\"data_source\":{\"id\":\"1d93fcd2-541e-4f0f-9f03-34b9b0d2f8d3\",\"type\":\"ColumnDataSource\"},\"glyph\":{\"id\":\"f8cc59c1-5d1c-45aa-9af4-02d3a09e5f05\",\"type\":\"Line\"},\"hover_glyph\":null,\"muted_glyph\":null,\"nonselection_glyph\":{\"id\":\"957c7496-abd1-4196-b3ab-f9bb0c550cf7\",\"type\":\"Line\"},\"selection_glyph\":null,\"view\":{\"id\":\"92dc70f5-b5ea-457e-92ca-b875bdabed30\",\"type\":\"CDSView\"}},\"id\":\"4531e8ec-eb13-4d02-9521-5eadb9e5e359\",\"type\":\"GlyphRenderer\"},{\"attributes\":{\"line_color\":\"#ff7f0e\",\"line_dash\":[6],\"x\":{\"field\":\"x\"},\"y\":{\"field\":\"y\"}},\"id\":\"d6154158-f1eb-4ae9-84a8-9f473b1a0c30\",\"type\":\"Line\"},{\"attributes\":{\"source\":{\"id\":\"dcccd985-5e80-4aaf-b622-c032d7dea4b8\",\"type\":\"ColumnDataSource\"}},\"id\":\"1620c275-ec04-467e-ba9f-f22514e17b29\",\"type\":\"CDSView\"},{\"attributes\":{\"line_alpha\":0.1,\"line_color\":\"#1f77b4\",\"line_dash\":[6],\"x\":{\"field\":\"x\"},\"y\":{\"field\":\"y\"}},\"id\":\"6ed13d0e-e661-455a-a39a-b1766fa7352a\",\"type\":\"Line\"},{\"attributes\":{\"fill_color\":{\"value\":\"#8c564b\"},\"line_color\":{\"value\":\"#8c564b\"},\"x\":{\"field\":\"x\"},\"y\":{\"field\":\"y\"}},\"id\":\"ceab989e-4019-4f0d-9601-7d4f115df551\",\"type\":\"Circle\"},{\"attributes\":{\"callback\":null,\"column_names\":[\"x\",\"y\"],\"data\":{\"x\":[1,2,5,10,20,50,100,200,500,1000,2000,5000,10000,20000,50000],\"y\":[1.9457092275843024e-06,6.114398129284382e-06,1.1780100758187473e-05,2.2780797444283962e-05,4.293648235034198e-05,0.00011111817322671414,0.000251019851421006,0.0005885235581081361,0.0019095742475474255,0.004739756946219132,0.01221786662528757,0.046385250308085234,0.13627362401981372,0.3649428817105945,1.3061569034151035]}},\"id\":\"c67d0ee2-0912-44b7-92f7-f3dd12bfaf72\",\"type\":\"ColumnDataSource\"},{\"attributes\":{\"source\":{\"id\":\"12ef2402-49ae-40e3-b8af-f512901f289e\",\"type\":\"ColumnDataSource\"}},\"id\":\"f3a24edb-9cc7-40cd-b795-3ad2866f2b3f\",\"type\":\"CDSView\"},{\"attributes\":{\"source\":{\"id\":\"fc15f45a-d1c1-4a02-8bdc-5c26fcb2a659\",\"type\":\"ColumnDataSource\"}},\"id\":\"71a5c217-b15a-4746-b659-c58175bcb6d6\",\"type\":\"CDSView\"},{\"attributes\":{\"fill_color\":{\"value\":\"#9467bd\"},\"line_color\":{\"value\":\"#9467bd\"},\"x\":{\"field\":\"x\"},\"y\":{\"field\":\"y\"}},\"id\":\"8fe70969-5899-4477-9420-bc8d540562b2\",\"type\":\"Circle\"},{\"attributes\":{\"fill_color\":{\"value\":\"#ff7f0e\"},\"line_color\":{\"value\":\"#ff7f0e\"},\"x\":{\"field\":\"x\"},\"y\":{\"field\":\"y\"}},\"id\":\"7a2dc37a-cd3e-45ce-b814-5381629a007f\",\"type\":\"Circle\"},{\"attributes\":{\"label\":{\"value\":\"check_primes\"},\"renderers\":[{\"id\":\"f2e30686-cdba-41ac-b14b-fbe14d5854c5\",\"type\":\"GlyphRenderer\"},{\"id\":\"6c4abdeb-1c43-4ec3-afb7-fce18ceb71e6\",\"type\":\"GlyphRenderer\"}]},\"id\":\"b73d5fbd-9931-433c-99d5-368f13d81c10\",\"type\":\"LegendItem\"},{\"attributes\":{\"fill_alpha\":{\"value\":0.1},\"fill_color\":{\"value\":\"#1f77b4\"},\"line_alpha\":{\"value\":0.1},\"line_color\":{\"value\":\"#1f77b4\"},\"x\":{\"field\":\"x\"},\"y\":{\"field\":\"y\"}},\"id\":\"e7134e4a-b3ca-47b3-b302-77c33bce6236\",\"type\":\"Circle\"},{\"attributes\":{\"source\":{\"id\":\"2585400d-7a1c-4634-8ac4-a9e77a2afa16\",\"type\":\"ColumnDataSource\"}},\"id\":\"ae529c3c-d421-4806-a5d9-2eade3b538e2\",\"type\":\"CDSView\"},{\"attributes\":{\"callback\":null,\"column_names\":[\"x\",\"y\"],\"data\":{\"x\":[1,2,5,10,20,50,100,200,500,1000,2000,5000,10000],\"y\":[1.6776920529082417e-06,3.437398700043559e-06,6.455089314840734e-06,1.2009789934381842e-05,2.3841459187678994e-05,8.453016518615187e-05,0.00027960187930148095,0.0010557575873099267,0.006852055275230668,0.029649630992207673,0.13802742869767826,0.7851034203986638,3.083855590078165]}},\"id\":\"7b50a31c-0662-4858-9289-d92f5a549593\",\"type\":\"ColumnDataSource\"},{\"attributes\":{\"callback\":null,\"column_names\":[\"x\",\"y\"],\"data\":{\"x\":[1,2,5,10,20,50,100,200,500,1000,2000,5000,10000,20000,50000],\"y\":[1.9457092275843024e-06,6.114398129284382e-06,1.1780100758187473e-05,2.2780797444283962e-05,4.293648235034198e-05,0.00011111817322671414,0.000251019851421006,0.0005885235581081361,0.0019095742475474255,0.004739756946219132,0.01221786662528757,0.046385250308085234,0.13627362401981372,0.3649428817105945,1.3061569034151035]}},\"id\":\"1d93fcd2-541e-4f0f-9f03-34b9b0d2f8d3\",\"type\":\"ColumnDataSource\"},{\"attributes\":{\"fill_alpha\":{\"value\":0.1},\"fill_color\":{\"value\":\"#1f77b4\"},\"line_alpha\":{\"value\":0.1},\"line_color\":{\"value\":\"#1f77b4\"},\"x\":{\"field\":\"x\"},\"y\":{\"field\":\"y\"}},\"id\":\"d5de7fac-d623-41dd-8638-e90427231e90\",\"type\":\"Circle\"},{\"attributes\":{\"data_source\":{\"id\":\"dcccd985-5e80-4aaf-b622-c032d7dea4b8\",\"type\":\"ColumnDataSource\"},\"glyph\":{\"id\":\"7a2dc37a-cd3e-45ce-b814-5381629a007f\",\"type\":\"Circle\"},\"hover_glyph\":null,\"muted_glyph\":null,\"nonselection_glyph\":{\"id\":\"e7134e4a-b3ca-47b3-b302-77c33bce6236\",\"type\":\"Circle\"},\"selection_glyph\":null,\"view\":{\"id\":\"1620c275-ec04-467e-ba9f-f22514e17b29\",\"type\":\"CDSView\"}},\"id\":\"a89f47f0-7b9a-4f61-86c1-e3f832899455\",\"type\":\"GlyphRenderer\"},{\"attributes\":{\"fill_color\":{\"value\":\"#d62728\"},\"line_color\":{\"value\":\"#d62728\"},\"x\":{\"field\":\"x\"},\"y\":{\"field\":\"y\"}},\"id\":\"f460f84a-d06c-4e47-aaa1-2b6b68a9a8a6\",\"type\":\"Circle\"},{\"attributes\":{\"format\":\"0[.]0 a\"},\"id\":\"2cced5ae-a206-4b47-9860-893a3fa9dc98\",\"type\":\"NumeralTickFormatter\"},{\"attributes\":{\"fill_color\":{\"value\":\"#1f77b4\"},\"line_color\":{\"value\":\"#1f77b4\"},\"x\":{\"field\":\"x\"},\"y\":{\"field\":\"y\"}},\"id\":\"0034ff59-2c3c-42a4-a934-14506e43fd7d\",\"type\":\"Circle\"},{\"attributes\":{\"source\":{\"id\":\"0f1bc59d-3f66-4fc6-ab0c-852569739fc0\",\"type\":\"ColumnDataSource\"}},\"id\":\"f1164fad-509b-4428-b31e-2587fbf9ba07\",\"type\":\"CDSView\"},{\"attributes\":{\"source\":{\"id\":\"a842dc61-afad-45a7-b6d3-813f718864e7\",\"type\":\"ColumnDataSource\"}},\"id\":\"e450183e-71cb-4304-9b81-55afe9325da6\",\"type\":\"CDSView\"},{\"attributes\":{\"label\":{\"value\":\"skip_even\"},\"renderers\":[{\"id\":\"6b64be12-675f-4f88-a3aa-5113ac9ca47e\",\"type\":\"GlyphRenderer\"},{\"id\":\"a89f47f0-7b9a-4f61-86c1-e3f832899455\",\"type\":\"GlyphRenderer\"}]},\"id\":\"79b7e65f-e540-40e3-9755-7d536c107adf\",\"type\":\"LegendItem\"},{\"attributes\":{\"data_source\":{\"id\":\"12ef2402-49ae-40e3-b8af-f512901f289e\",\"type\":\"ColumnDataSource\"},\"glyph\":{\"id\":\"5e765f91-29d7-415c-ab4d-df0220aea72b\",\"type\":\"Line\"},\"hover_glyph\":null,\"muted_glyph\":null,\"nonselection_glyph\":{\"id\":\"0dd5e25c-bf3e-4980-a221-0c84c5c8a5e4\",\"type\":\"Line\"},\"selection_glyph\":null,\"view\":{\"id\":\"f3a24edb-9cc7-40cd-b795-3ad2866f2b3f\",\"type\":\"CDSView\"}},\"id\":\"f2e30686-cdba-41ac-b14b-fbe14d5854c5\",\"type\":\"GlyphRenderer\"},{\"attributes\":{\"callback\":null,\"column_names\":[\"x\",\"y\"],\"data\":{\"x\":[1,2,5,10,20,50,100,200,500,1000,2000,5000],\"y\":[1.928683486767113e-06,5.348356207832694e-06,1.0088062263093889e-05,1.932975254021585e-05,4.36724309111014e-05,0.00019079910591244696,0.0007820247969357296,0.0036099665006622673,0.029195572207099757,0.15714686589781196,0.6617195535992506,4.328593240285991]}},\"id\":\"dcccd985-5e80-4aaf-b622-c032d7dea4b8\",\"type\":\"ColumnDataSource\"},{\"attributes\":{\"fill_alpha\":{\"value\":0.1},\"fill_color\":{\"value\":\"#1f77b4\"},\"line_alpha\":{\"value\":0.1},\"line_color\":{\"value\":\"#1f77b4\"},\"x\":{\"field\":\"x\"},\"y\":{\"field\":\"y\"}},\"id\":\"cc86387a-8f0e-4524-863a-71d9899ae665\",\"type\":\"Circle\"},{\"attributes\":{\"data_source\":{\"id\":\"e078155e-4bc7-4fa3-93b8-ed1aaa48db15\",\"type\":\"ColumnDataSource\"},\"glyph\":{\"id\":\"d6154158-f1eb-4ae9-84a8-9f473b1a0c30\",\"type\":\"Line\"},\"hover_glyph\":null,\"muted_glyph\":null,\"nonselection_glyph\":{\"id\":\"c7822b64-7c48-4c13-a331-d12b3649d179\",\"type\":\"Line\"},\"selection_glyph\":null,\"view\":{\"id\":\"feed76f3-a83f-4825-bfa5-4e982bf5d90b\",\"type\":\"CDSView\"}},\"id\":\"6b64be12-675f-4f88-a3aa-5113ac9ca47e\",\"type\":\"GlyphRenderer\"},{\"attributes\":{\"callback\":null,\"column_names\":[\"x\",\"y\"],\"data\":{\"x\":[1,2,5,10,20,50,100,200,500,1000,2000,5000,10000,20000,50000],\"y\":[2.0776950987055897e-06,4.807374207302928e-06,9.304063278250396e-06,1.4982775319367647e-05,2.604048640932888e-05,6.168118445202709e-05,0.00014151587442029267,0.000367499552667141,0.0011843392433365807,0.0030475399282295255,0.00832839964015875,0.03472050534677691,0.09592763604538049,0.25508131872164086,0.8234529124136316]}},\"id\":\"a842dc61-afad-45a7-b6d3-813f718864e7\",\"type\":\"ColumnDataSource\"},{\"attributes\":{\"line_alpha\":0.1,\"line_color\":\"#1f77b4\",\"line_dash\":[6],\"x\":{\"field\":\"x\"},\"y\":{\"field\":\"y\"}},\"id\":\"c7822b64-7c48-4c13-a331-d12b3649d179\",\"type\":\"Line\"},{\"attributes\":{\"source\":{\"id\":\"7b50a31c-0662-4858-9289-d92f5a549593\",\"type\":\"ColumnDataSource\"}},\"id\":\"79a4b8b4-1890-4b6e-83a8-9c06139414c6\",\"type\":\"CDSView\"},{\"attributes\":{\"source\":{\"id\":\"e078155e-4bc7-4fa3-93b8-ed1aaa48db15\",\"type\":\"ColumnDataSource\"}},\"id\":\"feed76f3-a83f-4825-bfa5-4e982bf5d90b\",\"type\":\"CDSView\"},{\"attributes\":{\"data_source\":{\"id\":\"7b50a31c-0662-4858-9289-d92f5a549593\",\"type\":\"ColumnDataSource\"},\"glyph\":{\"id\":\"f460f84a-d06c-4e47-aaa1-2b6b68a9a8a6\",\"type\":\"Circle\"},\"hover_glyph\":null,\"muted_glyph\":null,\"nonselection_glyph\":{\"id\":\"cc86387a-8f0e-4524-863a-71d9899ae665\",\"type\":\"Circle\"},\"selection_glyph\":null,\"view\":{\"id\":\"79a4b8b4-1890-4b6e-83a8-9c06139414c6\",\"type\":\"CDSView\"}},\"id\":\"6c4abdeb-1c43-4ec3-afb7-fce18ceb71e6\",\"type\":\"GlyphRenderer\"},{\"attributes\":{\"data_source\":{\"id\":\"0f1bc59d-3f66-4fc6-ab0c-852569739fc0\",\"type\":\"ColumnDataSource\"},\"glyph\":{\"id\":\"0034ff59-2c3c-42a4-a934-14506e43fd7d\",\"type\":\"Circle\"},\"hover_glyph\":null,\"muted_glyph\":null,\"nonselection_glyph\":{\"id\":\"6ce54766-53fe-4b09-96eb-cb5a8d7a14a5\",\"type\":\"Circle\"},\"selection_glyph\":null,\"view\":{\"id\":\"f1164fad-509b-4428-b31e-2587fbf9ba07\",\"type\":\"CDSView\"}},\"id\":\"993c859b-e371-417d-a8d4-b7a7f9ee6f7e\",\"type\":\"GlyphRenderer\"},{\"attributes\":{\"label\":{\"value\":\"check_primes_sqrt\"},\"renderers\":[{\"id\":\"f0700af1-9cd7-42b2-a087-3a831a9a2936\",\"type\":\"GlyphRenderer\"},{\"id\":\"20ed27b0-92af-4103-b2a4-8a5622c7c20c\",\"type\":\"GlyphRenderer\"}]},\"id\":\"355f909c-6608-4e56-9e1f-e06107cde4b6\",\"type\":\"LegendItem\"},{\"attributes\":{\"line_color\":\"#8c564b\",\"x\":{\"field\":\"x\"},\"y\":{\"field\":\"y\"}},\"id\":\"66c5dbe0-0bb4-4181-b3d4-2188e6537999\",\"type\":\"Line\"},{\"attributes\":{\"callback\":null,\"start\":1},\"id\":\"eab73dd2-d988-4a68-b363-d1851104e837\",\"type\":\"DataRange1d\"},{\"attributes\":{\"line_alpha\":0.1,\"line_color\":\"#1f77b4\",\"line_dash\":[6],\"x\":{\"field\":\"x\"},\"y\":{\"field\":\"y\"}},\"id\":\"1e6ac445-9e79-4c12-8410-8d981eb3eeeb\",\"type\":\"Line\"},{\"attributes\":{\"line_alpha\":0.1,\"line_color\":\"#1f77b4\",\"x\":{\"field\":\"x\"},\"y\":{\"field\":\"y\"}},\"id\":\"3e90b3d8-e882-477e-a734-fae56be2b304\",\"type\":\"Line\"},{\"attributes\":{\"below\":[{\"id\":\"40e4f177-a2cb-4475-9708-db5eb84616f0\",\"type\":\"LogAxis\"}],\"left\":[{\"id\":\"f5cb12a5-aadc-47e6-8400-060908533896\",\"type\":\"LogAxis\"}],\"plot_height\":400,\"plot_width\":800,\"renderers\":[{\"id\":\"40e4f177-a2cb-4475-9708-db5eb84616f0\",\"type\":\"LogAxis\"},{\"id\":\"226dcd8e-d159-4cb1-8d71-022d9eb52624\",\"type\":\"Grid\"},{\"id\":\"f5cb12a5-aadc-47e6-8400-060908533896\",\"type\":\"LogAxis\"},{\"id\":\"789d714c-6c0d-47b3-8263-9d9e191ed64c\",\"type\":\"Grid\"},{\"id\":\"d979ae1f-7ea3-4e29-9c87-9922f4af5260\",\"type\":\"BoxAnnotation\"},{\"id\":\"187c3aaa-e43b-440b-92f0-1e48045f14cb\",\"type\":\"Legend\"},{\"id\":\"dfb83dde-834c-4d92-94e6-d387d2b4fb98\",\"type\":\"GlyphRenderer\"},{\"id\":\"993c859b-e371-417d-a8d4-b7a7f9ee6f7e\",\"type\":\"GlyphRenderer\"},{\"id\":\"6b64be12-675f-4f88-a3aa-5113ac9ca47e\",\"type\":\"GlyphRenderer\"},{\"id\":\"a89f47f0-7b9a-4f61-86c1-e3f832899455\",\"type\":\"GlyphRenderer\"},{\"id\":\"4531e8ec-eb13-4d02-9521-5eadb9e5e359\",\"type\":\"GlyphRenderer\"},{\"id\":\"c5ee18ab-1b62-4d8a-ab4d-d9c0d91781db\",\"type\":\"GlyphRenderer\"},{\"id\":\"f2e30686-cdba-41ac-b14b-fbe14d5854c5\",\"type\":\"GlyphRenderer\"},{\"id\":\"6c4abdeb-1c43-4ec3-afb7-fce18ceb71e6\",\"type\":\"GlyphRenderer\"},{\"id\":\"f0700af1-9cd7-42b2-a087-3a831a9a2936\",\"type\":\"GlyphRenderer\"},{\"id\":\"20ed27b0-92af-4103-b2a4-8a5622c7c20c\",\"type\":\"GlyphRenderer\"},{\"id\":\"33459940-da24-4576-a50f-0ac7b13a89f2\",\"type\":\"GlyphRenderer\"},{\"id\":\"1e2b49bd-1e5d-4244-9c91-21e06ead3cca\",\"type\":\"GlyphRenderer\"}],\"title\":{\"id\":\"2a025399-a18b-40b4-9d0a-0dee587fd523\",\"type\":\"Title\"},\"toolbar\":{\"id\":\"98f9a712-0e2d-43fe-b8ba-844ba4517015\",\"type\":\"Toolbar\"},\"toolbar_location\":\"above\",\"x_range\":{\"id\":\"eab73dd2-d988-4a68-b363-d1851104e837\",\"type\":\"DataRange1d\"},\"x_scale\":{\"id\":\"8141db1c-adb7-4748-89c0-233624013366\",\"type\":\"LogScale\"},\"y_range\":{\"id\":\"6ebe6fb6-dbc9-4df0-9630-d46ac4f941d5\",\"type\":\"Range1d\"},\"y_scale\":{\"id\":\"4e473b52-dcfa-4927-b106-d7089dace369\",\"type\":\"LogScale\"}},\"id\":\"7ff93b4f-64b8-4d8b-8509-87dd009142cb\",\"subtype\":\"Figure\",\"type\":\"Plot\"},{\"attributes\":{\"plot\":null,\"text\":\"Timing\"},\"id\":\"2a025399-a18b-40b4-9d0a-0dee587fd523\",\"type\":\"Title\"},{\"attributes\":{\"callback\":null,\"column_names\":[\"x\",\"y\"],\"data\":{\"x\":[],\"y\":[]}},\"id\":\"2585400d-7a1c-4634-8ac4-a9e77a2afa16\",\"type\":\"ColumnDataSource\"},{\"attributes\":{\"callback\":null,\"start\":1e-06},\"id\":\"6ebe6fb6-dbc9-4df0-9630-d46ac4f941d5\",\"type\":\"Range1d\"},{\"attributes\":{\"active_drag\":\"auto\",\"active_inspect\":\"auto\",\"active_scroll\":\"auto\",\"active_tap\":\"auto\",\"tools\":[{\"id\":\"406a752c-5002-417d-92c7-94e2d5b38a17\",\"type\":\"PanTool\"},{\"id\":\"f56ec871-a45b-41a8-8837-a29b762e8f1c\",\"type\":\"WheelZoomTool\"},{\"id\":\"c5c063cd-1e4f-4ef6-97ae-52d3620ff973\",\"type\":\"BoxZoomTool\"},{\"id\":\"fc64e563-0f88-469b-9134-4e4c549a992c\",\"type\":\"SaveTool\"},{\"id\":\"7cacf1cf-9a39-4aa5-acca-0ed0e2e2efee\",\"type\":\"ResetTool\"},{\"id\":\"b3941f94-4037-4a63-9f39-666301de94a7\",\"type\":\"HelpTool\"}]},\"id\":\"98f9a712-0e2d-43fe-b8ba-844ba4517015\",\"type\":\"Toolbar\"},{\"attributes\":{\"num_minor_ticks\":10},\"id\":\"6b01da88-44c7-47d4-960a-87b249257601\",\"type\":\"LogTicker\"},{\"attributes\":{\"background_fill_alpha\":{\"value\":0.5},\"click_policy\":\"hide\",\"items\":[{\"id\":\"f29956c9-e742-4bb3-917e-78728be15a29\",\"type\":\"LegendItem\"},{\"id\":\"79b7e65f-e540-40e3-9755-7d536c107adf\",\"type\":\"LegendItem\"},{\"id\":\"319e63a9-569d-4749-bd4d-645d6aff4aea\",\"type\":\"LegendItem\"},{\"id\":\"b73d5fbd-9931-433c-99d5-368f13d81c10\",\"type\":\"LegendItem\"},{\"id\":\"355f909c-6608-4e56-9e1f-e06107cde4b6\",\"type\":\"LegendItem\"},{\"id\":\"62d6122d-3c46-412e-9254-32f744c736e9\",\"type\":\"LegendItem\"}],\"location\":\"top_left\",\"plot\":{\"id\":\"7ff93b4f-64b8-4d8b-8509-87dd009142cb\",\"subtype\":\"Figure\",\"type\":\"Plot\"}},\"id\":\"187c3aaa-e43b-440b-92f0-1e48045f14cb\",\"type\":\"Legend\"},{\"attributes\":{\"num_minor_ticks\":10},\"id\":\"ba958b49-cc77-41d1-913b-9ea98b3ffc2e\",\"type\":\"LogTicker\"},{\"attributes\":{\"plot\":{\"id\":\"7ff93b4f-64b8-4d8b-8509-87dd009142cb\",\"subtype\":\"Figure\",\"type\":\"Plot\"},\"ticker\":{\"id\":\"6b01da88-44c7-47d4-960a-87b249257601\",\"type\":\"LogTicker\"}},\"id\":\"226dcd8e-d159-4cb1-8d71-022d9eb52624\",\"type\":\"Grid\"},{\"attributes\":{\"fill_alpha\":{\"value\":0.1},\"fill_color\":{\"value\":\"#1f77b4\"},\"line_alpha\":{\"value\":0.1},\"line_color\":{\"value\":\"#1f77b4\"},\"x\":{\"field\":\"x\"},\"y\":{\"field\":\"y\"}},\"id\":\"3b95208e-7aa3-4972-8b94-dcd839f69f79\",\"type\":\"Circle\"},{\"attributes\":{},\"id\":\"8141db1c-adb7-4748-89c0-233624013366\",\"type\":\"LogScale\"},{\"attributes\":{\"axis_label\":\"Primes\",\"formatter\":{\"id\":\"2cced5ae-a206-4b47-9860-893a3fa9dc98\",\"type\":\"NumeralTickFormatter\"},\"plot\":{\"id\":\"7ff93b4f-64b8-4d8b-8509-87dd009142cb\",\"subtype\":\"Figure\",\"type\":\"Plot\"},\"ticker\":{\"id\":\"6b01da88-44c7-47d4-960a-87b249257601\",\"type\":\"LogTicker\"}},\"id\":\"40e4f177-a2cb-4475-9708-db5eb84616f0\",\"type\":\"LogAxis\"},{\"attributes\":{},\"id\":\"4e473b52-dcfa-4927-b106-d7089dace369\",\"type\":\"LogScale\"},{\"attributes\":{\"axis_label\":\"Seconds\",\"formatter\":{\"id\":\"5b35e35b-4f08-4320-90a8-0c927fbb5e76\",\"type\":\"LogTickFormatter\"},\"plot\":{\"id\":\"7ff93b4f-64b8-4d8b-8509-87dd009142cb\",\"subtype\":\"Figure\",\"type\":\"Plot\"},\"ticker\":{\"id\":\"ba958b49-cc77-41d1-913b-9ea98b3ffc2e\",\"type\":\"LogTicker\"}},\"id\":\"f5cb12a5-aadc-47e6-8400-060908533896\",\"type\":\"LogAxis\"},{\"attributes\":{\"dimension\":1,\"plot\":{\"id\":\"7ff93b4f-64b8-4d8b-8509-87dd009142cb\",\"subtype\":\"Figure\",\"type\":\"Plot\"},\"ticker\":{\"id\":\"ba958b49-cc77-41d1-913b-9ea98b3ffc2e\",\"type\":\"LogTicker\"}},\"id\":\"789d714c-6c0d-47b3-8263-9d9e191ed64c\",\"type\":\"Grid\"},{\"attributes\":{\"label\":{\"value\":\"sieve\"},\"renderers\":[{\"id\":\"33459940-da24-4576-a50f-0ac7b13a89f2\",\"type\":\"GlyphRenderer\"},{\"id\":\"1e2b49bd-1e5d-4244-9c91-21e06ead3cca\",\"type\":\"GlyphRenderer\"}]},\"id\":\"62d6122d-3c46-412e-9254-32f744c736e9\",\"type\":\"LegendItem\"},{\"attributes\":{\"line_color\":\"#1f77b4\",\"line_dash\":[6],\"x\":{\"field\":\"x\"},\"y\":{\"field\":\"y\"}},\"id\":\"0e801f92-42c5-4ff7-ad38-9532c65bd76c\",\"type\":\"Line\"},{\"attributes\":{\"data_source\":{\"id\":\"99eb2211-d8d5-4e1e-916f-befe14d7fef9\",\"type\":\"ColumnDataSource\"},\"glyph\":{\"id\":\"0e801f92-42c5-4ff7-ad38-9532c65bd76c\",\"type\":\"Line\"},\"hover_glyph\":null,\"muted_glyph\":null,\"nonselection_glyph\":{\"id\":\"1e6ac445-9e79-4c12-8410-8d981eb3eeeb\",\"type\":\"Line\"},\"selection_glyph\":null,\"view\":{\"id\":\"ff969c58-d636-4013-8e3f-fbe52478448d\",\"type\":\"CDSView\"}},\"id\":\"dfb83dde-834c-4d92-94e6-d387d2b4fb98\",\"type\":\"GlyphRenderer\"},{\"attributes\":{\"callback\":null,\"column_names\":[\"x\",\"y\"],\"data\":{\"x\":[1,2,5,10,20,50,100,200,500,1000,2000],\"y\":[3.91571840737015e-06,7.2433939203619956e-06,1.4987080940045414e-05,3.0398783273994922e-05,7.70214624935761e-05,0.0003747431433293968,0.0015680668415734545,0.00739021853893064,0.05986085925658699,0.29679561396478676,1.2218749636859867]}},\"id\":\"99eb2211-d8d5-4e1e-916f-befe14d7fef9\",\"type\":\"ColumnDataSource\"}],\"root_ids\":[\"7ff93b4f-64b8-4d8b-8509-87dd009142cb\"]},\"title\":\"Bokeh Application\",\"version\":\"0.12.14\"}};\n",
       "  var render_items = [{\"docid\":\"148f4e09-2621-4809-83e6-b195ff00852e\",\"elementid\":\"8dcec053-51e4-4afa-8fd6-991246d87980\",\"modelid\":\"7ff93b4f-64b8-4d8b-8509-87dd009142cb\",\"notebook_comms_target\":\"2bf6279b-9c89-4134-b121-eee6af903ab3\"}];\n",
       "  root.Bokeh.embed.embed_items_notebook(docs_json, render_items);\n",
       "\n",
       "  }\n",
       "  if (root.Bokeh !== undefined) {\n",
       "    embed_document(root);\n",
       "  } else {\n",
       "    var attempts = 0;\n",
       "    var timer = setInterval(function(root) {\n",
       "      if (root.Bokeh !== undefined) {\n",
       "        embed_document(root);\n",
       "        clearInterval(timer);\n",
       "      }\n",
       "      attempts++;\n",
       "      if (attempts > 100) {\n",
       "        console.log(\"Bokeh: ERROR: Unable to run BokehJS code because BokehJS library is missing\")\n",
       "        clearInterval(timer);\n",
       "      }\n",
       "    }, 10, root)\n",
       "  }\n",
       "})(window);"
      ],
      "application/vnd.bokehjs_exec.v0+json": ""
     },
     "metadata": {
      "application/vnd.bokehjs_exec.v0+json": {
       "id": "7ff93b4f-64b8-4d8b-8509-87dd009142cb"
      }
     },
     "output_type": "display_data"
    }
   ],
   "source": [
    "timing_plot(sieve)"
   ]
  },
  {
   "cell_type": "markdown",
   "metadata": {
    "slideshow": {
     "slide_type": "slide"
    }
   },
   "source": [
    "## Problems?"
   ]
  },
  {
   "cell_type": "markdown",
   "metadata": {
    "slideshow": {
     "slide_type": "fragment"
    }
   },
   "source": [
    "### Memory use\n",
    "- Use packed data structure (e.g. struct module), encode 8 cells/byte\n",
    "- Also skip multiples of 3 (only check numbers of form $6n \\pm 1$)"
   ]
  },
  {
   "cell_type": "markdown",
   "metadata": {
    "slideshow": {
     "slide_type": "fragment"
    }
   },
   "source": [
    "### Need to allocate storage upfront\n",
    "Often don't know in advance how much to allocate\n",
    "(e.g. first 100k primes)"
   ]
  },
  {
   "cell_type": "markdown",
   "metadata": {
    "slideshow": {
     "slide_type": "slide"
    }
   },
   "source": [
    "## Better?\n",
    "Now don’t have to decide upper limit in advance, but slower\n",
    "\n",
    "What about switching things around… for each prime store the next multiple higher than candidate, then we just just have to check if candidate is in the list, not multiple test divisions per candidate.\n",
    "For each multiple in the list, we store the original prime, so that when we reach it, we we can add it to generate the next multiple. But it could be a multiple of more than one prime, so we have to store a list of source primes:"
   ]
  },
  {
   "cell_type": "code",
   "execution_count": 17,
   "metadata": {
    "collapsed": true,
    "slideshow": {
     "slide_type": "fragment"
    }
   },
   "outputs": [],
   "source": [
    "from itertools import count\n",
    "\n",
    "def unbounded_sieve():\n",
    "    state = {}\n",
    "    for candidate in count(2):\n",
    "        if candidate in state:\n",
    "            for factor in state[candidate]:\n",
    "                if candidate + factor in state:\n",
    "                    state[candidate + factor].append(factor)\n",
    "                else:\n",
    "                    state[candidate + factor] = [factor]\n",
    "            del state[candidate]\n",
    "        else:\n",
    "            yield candidate\n",
    "            state[2 * candidate] = [candidate]"
   ]
  },
  {
   "cell_type": "code",
   "execution_count": 18,
   "metadata": {
    "slideshow": {
     "slide_type": "slide"
    }
   },
   "outputs": [
    {
     "data": {
      "text/html": [
       "\n",
       "<div class=\"bk-root\">\n",
       "    <div class=\"bk-plotdiv\" id=\"65b9a9d2-edd5-425c-a935-2d4ed0fbf009\"></div>\n",
       "</div>"
      ]
     },
     "metadata": {},
     "output_type": "display_data"
    },
    {
     "data": {
      "application/javascript": [
       "(function(root) {\n",
       "  function embed_document(root) {\n",
       "    \n",
       "  var docs_json = {\"fcd6c371-d970-41eb-a93e-e46f290d53c8\":{\"roots\":{\"references\":[{\"attributes\":{\"line_alpha\":0.1,\"line_color\":\"#1f77b4\",\"line_dash\":[6],\"x\":{\"field\":\"x\"},\"y\":{\"field\":\"y\"}},\"id\":\"6e1af02a-502a-40d9-8068-600fc6a91b5f\",\"type\":\"Line\"},{\"attributes\":{\"line_color\":\"#ff7f0e\",\"line_dash\":[6],\"x\":{\"field\":\"x\"},\"y\":{\"field\":\"y\"}},\"id\":\"7853db39-bd93-4e2a-adff-aff11f04609a\",\"type\":\"Line\"},{\"attributes\":{\"line_alpha\":0.1,\"line_color\":\"#1f77b4\",\"line_dash\":[6],\"x\":{\"field\":\"x\"},\"y\":{\"field\":\"y\"}},\"id\":\"7f4db085-0b11-49ab-8e3f-f4678aa4f906\",\"type\":\"Line\"},{\"attributes\":{\"line_color\":\"#d62728\",\"line_dash\":[6],\"x\":{\"field\":\"x\"},\"y\":{\"field\":\"y\"}},\"id\":\"903af31f-a13c-4b93-959e-e4b665749a75\",\"type\":\"Line\"},{\"attributes\":{\"callback\":null,\"column_names\":[\"x\",\"y\"],\"data\":{\"x\":[1,2,5,10,20,50,100,200,500,1000,2000,5000,10000,20000,50000,100000,200000,500000],\"y\":[5.6007137754932045e-06,5.7226879289373755e-06,7.333701360039413e-06,1.1411700979806483e-05,1.7947693704627456e-05,3.9022708660922946e-05,9.826669876929373e-05,0.0001914446783484891,0.0005650467082159593,0.0012503447086783127,0.0027368506725179032,0.007767140692449175,0.017164162682020104,0.04116779769712593,0.11953361571242567,0.2658971406944329,0.501684551681974,1.3743776777136372]}},\"id\":\"20d3e1a5-bddd-441e-a3cc-e36942819a83\",\"type\":\"ColumnDataSource\"},{\"attributes\":{\"callback\":null,\"start\":1},\"id\":\"0229a15c-730c-477f-ab57-28a0cfdeeb8d\",\"type\":\"DataRange1d\"},{\"attributes\":{\"label\":{\"value\":\"skip_even\"},\"renderers\":[{\"id\":\"eb5c6143-472e-459e-928f-8f81d285e008\",\"type\":\"GlyphRenderer\"},{\"id\":\"a4b60a5f-177e-429d-939e-7337ef61a3f7\",\"type\":\"GlyphRenderer\"}]},\"id\":\"e78f66b1-7b9f-4ef4-9b7d-aea70e22826e\",\"type\":\"LegendItem\"},{\"attributes\":{\"line_alpha\":0.1,\"line_color\":\"#1f77b4\",\"line_dash\":[6],\"x\":{\"field\":\"x\"},\"y\":{\"field\":\"y\"}},\"id\":\"7b0b67fc-2030-4e65-8aaa-f19b855571f9\",\"type\":\"Line\"},{\"attributes\":{\"source\":{\"id\":\"02ae91df-cf97-43ca-8ee4-fd55aec56dd6\",\"type\":\"ColumnDataSource\"}},\"id\":\"1cfb9d48-f09e-44eb-ab42-c412de16d8a1\",\"type\":\"CDSView\"},{\"attributes\":{\"below\":[{\"id\":\"e83c807f-faf2-4fdc-83ce-f48b01d69d84\",\"type\":\"LogAxis\"}],\"left\":[{\"id\":\"b299830e-ec52-4a54-9253-24b18049a873\",\"type\":\"LogAxis\"}],\"plot_height\":400,\"plot_width\":800,\"renderers\":[{\"id\":\"e83c807f-faf2-4fdc-83ce-f48b01d69d84\",\"type\":\"LogAxis\"},{\"id\":\"1912193f-d562-448d-b35b-bcd7d5e5edb9\",\"type\":\"Grid\"},{\"id\":\"b299830e-ec52-4a54-9253-24b18049a873\",\"type\":\"LogAxis\"},{\"id\":\"5a030eda-f534-4dc3-ae43-a4043c53ddf1\",\"type\":\"Grid\"},{\"id\":\"c3ef7385-77ac-468f-b555-2b75e8e6f822\",\"type\":\"BoxAnnotation\"},{\"id\":\"e99793b3-1245-4535-b648-92b1db465b6c\",\"type\":\"Legend\"},{\"id\":\"aed2ec1a-c386-498c-96c0-b38be0cfe1fe\",\"type\":\"GlyphRenderer\"},{\"id\":\"d661bca4-080f-4088-8aa8-2325d0d9986f\",\"type\":\"GlyphRenderer\"},{\"id\":\"eb5c6143-472e-459e-928f-8f81d285e008\",\"type\":\"GlyphRenderer\"},{\"id\":\"a4b60a5f-177e-429d-939e-7337ef61a3f7\",\"type\":\"GlyphRenderer\"},{\"id\":\"115b5d30-c5b5-462f-bc43-b8f2064d6af1\",\"type\":\"GlyphRenderer\"},{\"id\":\"0a85eb7c-209e-4e93-b777-1a923f13bc4c\",\"type\":\"GlyphRenderer\"},{\"id\":\"411bc3ed-455a-47ac-b997-1814508e7f86\",\"type\":\"GlyphRenderer\"},{\"id\":\"4f51ac43-89af-49ff-a111-17e36a5892da\",\"type\":\"GlyphRenderer\"},{\"id\":\"1868f850-4628-4ef3-aea0-69c817255d34\",\"type\":\"GlyphRenderer\"},{\"id\":\"7b61e739-7e9a-4959-af13-ca5273ed659f\",\"type\":\"GlyphRenderer\"},{\"id\":\"f0f0a4c1-bfb5-4d5d-9852-af43374b6662\",\"type\":\"GlyphRenderer\"},{\"id\":\"f2e280b6-72aa-41c0-b7b8-d3ac39252f21\",\"type\":\"GlyphRenderer\"},{\"id\":\"3c009854-a2bf-4a03-9093-d3043f11205a\",\"type\":\"GlyphRenderer\"},{\"id\":\"e84baaf4-6dc8-43a6-bd4b-8ceb53b51cee\",\"type\":\"GlyphRenderer\"}],\"title\":{\"id\":\"7c0c7311-b238-4487-9e68-97363fef0afe\",\"type\":\"Title\"},\"toolbar\":{\"id\":\"bc3ff2c4-c1c9-40c3-9cd9-59b1c36393a0\",\"type\":\"Toolbar\"},\"toolbar_location\":\"above\",\"x_range\":{\"id\":\"0229a15c-730c-477f-ab57-28a0cfdeeb8d\",\"type\":\"DataRange1d\"},\"x_scale\":{\"id\":\"b138ac17-1054-4818-b6cf-9faee63b47fc\",\"type\":\"LogScale\"},\"y_range\":{\"id\":\"b81c1c3a-1970-47d9-90ea-b4fd75e1d546\",\"type\":\"Range1d\"},\"y_scale\":{\"id\":\"4cd2e0bc-a83c-4ad2-a118-afb9e94ae1bc\",\"type\":\"LogScale\"}},\"id\":\"9cc3f99b-1d78-4059-aa78-ba79b1904c11\",\"subtype\":\"Figure\",\"type\":\"Plot\"},{\"attributes\":{\"source\":{\"id\":\"c1af32e9-f0ab-4552-904c-f57b28b80780\",\"type\":\"ColumnDataSource\"}},\"id\":\"5c4d82ee-872c-43bb-93dc-7d5e3bfc58ad\",\"type\":\"CDSView\"},{\"attributes\":{\"plot\":null,\"text\":\"Timing\"},\"id\":\"7c0c7311-b238-4487-9e68-97363fef0afe\",\"type\":\"Title\"},{\"attributes\":{\"line_color\":\"#2ca02c\",\"line_dash\":[6],\"x\":{\"field\":\"x\"},\"y\":{\"field\":\"y\"}},\"id\":\"07ea4350-ff70-4680-969a-a0b439babce4\",\"type\":\"Line\"},{\"attributes\":{\"data_source\":{\"id\":\"02ae91df-cf97-43ca-8ee4-fd55aec56dd6\",\"type\":\"ColumnDataSource\"},\"glyph\":{\"id\":\"903af31f-a13c-4b93-959e-e4b665749a75\",\"type\":\"Line\"},\"hover_glyph\":null,\"muted_glyph\":null,\"nonselection_glyph\":{\"id\":\"6e1af02a-502a-40d9-8068-600fc6a91b5f\",\"type\":\"Line\"},\"selection_glyph\":null,\"view\":{\"id\":\"1cfb9d48-f09e-44eb-ab42-c412de16d8a1\",\"type\":\"CDSView\"}},\"id\":\"411bc3ed-455a-47ac-b997-1814508e7f86\",\"type\":\"GlyphRenderer\"},{\"attributes\":{\"callback\":null,\"start\":1e-06},\"id\":\"b81c1c3a-1970-47d9-90ea-b4fd75e1d546\",\"type\":\"Range1d\"},{\"attributes\":{\"active_drag\":\"auto\",\"active_inspect\":\"auto\",\"active_scroll\":\"auto\",\"active_tap\":\"auto\",\"tools\":[{\"id\":\"f153cd0a-c6a8-42e7-9f14-51a2424ec194\",\"type\":\"PanTool\"},{\"id\":\"ed12ddc6-0f55-4f80-89a8-8bf157fadb1b\",\"type\":\"WheelZoomTool\"},{\"id\":\"cc3517e0-1913-4c38-b1e5-473e5d058408\",\"type\":\"BoxZoomTool\"},{\"id\":\"2cd7e061-5301-402d-b944-7c52ec2a2856\",\"type\":\"SaveTool\"},{\"id\":\"46361392-bd7a-45c4-b729-23f2fd71960f\",\"type\":\"ResetTool\"},{\"id\":\"5d35e10c-5ceb-44dc-a087-8094342c60ec\",\"type\":\"HelpTool\"}]},\"id\":\"bc3ff2c4-c1c9-40c3-9cd9-59b1c36393a0\",\"type\":\"Toolbar\"},{\"attributes\":{\"fill_alpha\":{\"value\":0.1},\"fill_color\":{\"value\":\"#1f77b4\"},\"line_alpha\":{\"value\":0.1},\"line_color\":{\"value\":\"#1f77b4\"},\"x\":{\"field\":\"x\"},\"y\":{\"field\":\"y\"}},\"id\":\"29a15568-9a90-4ca2-8ecc-19ccee6a96b8\",\"type\":\"Circle\"},{\"attributes\":{\"num_minor_ticks\":10},\"id\":\"13c2a428-adbd-4d15-bee3-45089909d6a3\",\"type\":\"LogTicker\"},{\"attributes\":{\"source\":{\"id\":\"e3d07cc3-bbc9-4c11-a4cf-bc7509335fb7\",\"type\":\"ColumnDataSource\"}},\"id\":\"01c2def9-a57d-4aba-bcc6-d640afae9b66\",\"type\":\"CDSView\"},{\"attributes\":{\"data_source\":{\"id\":\"cc3138e0-cc20-4d40-a9fe-97e4a38d92a0\",\"type\":\"ColumnDataSource\"},\"glyph\":{\"id\":\"dd086b9b-fedb-4760-becf-16a1b2c7bc8c\",\"type\":\"Circle\"},\"hover_glyph\":null,\"muted_glyph\":null,\"nonselection_glyph\":{\"id\":\"500bc2ad-ffee-4363-9843-209bdc1824c4\",\"type\":\"Circle\"},\"selection_glyph\":null,\"view\":{\"id\":\"bcc897be-718d-4be2-8749-2903170c7eac\",\"type\":\"CDSView\"}},\"id\":\"e84baaf4-6dc8-43a6-bd4b-8ceb53b51cee\",\"type\":\"GlyphRenderer\"},{\"attributes\":{\"fill_color\":{\"value\":\"#2ca02c\"},\"line_color\":{\"value\":\"#2ca02c\"},\"x\":{\"field\":\"x\"},\"y\":{\"field\":\"y\"}},\"id\":\"8b5f5aa1-d8d4-46c6-8187-a1546029a014\",\"type\":\"Circle\"},{\"attributes\":{\"num_minor_ticks\":10},\"id\":\"6ab43fac-ca00-4329-ba3f-b493a5ef1394\",\"type\":\"LogTicker\"},{\"attributes\":{\"callback\":null,\"column_names\":[\"x\",\"y\"],\"data\":{\"x\":[1,2,5,10,20,50,100,200,500,1000,2000,5000,10000],\"y\":[1.6776920529082417e-06,3.437398700043559e-06,6.455089314840734e-06,1.2009789934381842e-05,2.3841459187678994e-05,8.453016518615187e-05,0.00027960187930148095,0.0010557575873099267,0.006852055275230668,0.029649630992207673,0.13802742869767826,0.7851034203986638,3.083855590078165]}},\"id\":\"bfa9c373-a80b-41a0-be4e-113b40202363\",\"type\":\"ColumnDataSource\"},{\"attributes\":{\"fill_color\":{\"value\":\"#e377c2\"},\"line_color\":{\"value\":\"#e377c2\"},\"x\":{\"field\":\"x\"},\"y\":{\"field\":\"y\"}},\"id\":\"dd086b9b-fedb-4760-becf-16a1b2c7bc8c\",\"type\":\"Circle\"},{\"attributes\":{\"data_source\":{\"id\":\"4802afca-4ea9-4ab4-b34d-a4f95f6b7c67\",\"type\":\"ColumnDataSource\"},\"glyph\":{\"id\":\"8b5f5aa1-d8d4-46c6-8187-a1546029a014\",\"type\":\"Circle\"},\"hover_glyph\":null,\"muted_glyph\":null,\"nonselection_glyph\":{\"id\":\"f2823dac-0d6b-4e5f-b9ff-c22f1c0358d5\",\"type\":\"Circle\"},\"selection_glyph\":null,\"view\":{\"id\":\"381e00e8-b71a-483b-a998-d82305207fb2\",\"type\":\"CDSView\"}},\"id\":\"0a85eb7c-209e-4e93-b777-1a923f13bc4c\",\"type\":\"GlyphRenderer\"},{\"attributes\":{},\"id\":\"b138ac17-1054-4818-b6cf-9faee63b47fc\",\"type\":\"LogScale\"},{\"attributes\":{\"label\":{\"value\":\"check_primes\"},\"renderers\":[{\"id\":\"411bc3ed-455a-47ac-b997-1814508e7f86\",\"type\":\"GlyphRenderer\"},{\"id\":\"4f51ac43-89af-49ff-a111-17e36a5892da\",\"type\":\"GlyphRenderer\"}]},\"id\":\"a65ad9a6-b322-4a40-8178-a08341e03451\",\"type\":\"LegendItem\"},{\"attributes\":{\"plot\":{\"id\":\"9cc3f99b-1d78-4059-aa78-ba79b1904c11\",\"subtype\":\"Figure\",\"type\":\"Plot\"},\"ticker\":{\"id\":\"13c2a428-adbd-4d15-bee3-45089909d6a3\",\"type\":\"LogTicker\"}},\"id\":\"1912193f-d562-448d-b35b-bcd7d5e5edb9\",\"type\":\"Grid\"},{\"attributes\":{\"source\":{\"id\":\"20d3e1a5-bddd-441e-a3cc-e36942819a83\",\"type\":\"ColumnDataSource\"}},\"id\":\"e5ca8011-74fc-4298-866c-c760c6362605\",\"type\":\"CDSView\"},{\"attributes\":{\"axis_label\":\"Primes\",\"formatter\":{\"id\":\"76136b7e-499f-4e41-83ee-c2b4b0983936\",\"type\":\"NumeralTickFormatter\"},\"plot\":{\"id\":\"9cc3f99b-1d78-4059-aa78-ba79b1904c11\",\"subtype\":\"Figure\",\"type\":\"Plot\"},\"ticker\":{\"id\":\"13c2a428-adbd-4d15-bee3-45089909d6a3\",\"type\":\"LogTicker\"}},\"id\":\"e83c807f-faf2-4fdc-83ce-f48b01d69d84\",\"type\":\"LogAxis\"},{\"attributes\":{\"data_source\":{\"id\":\"95fdbed8-77ba-4a5c-bd44-77bda9d5e9e2\",\"type\":\"ColumnDataSource\"},\"glyph\":{\"id\":\"ec3cd6fb-1a19-4698-bb2f-f26458671a4b\",\"type\":\"Line\"},\"hover_glyph\":null,\"muted_glyph\":null,\"nonselection_glyph\":{\"id\":\"56b365f9-78cc-46f0-a434-c2ce0f824b58\",\"type\":\"Line\"},\"selection_glyph\":null,\"view\":{\"id\":\"5d13858b-f6f9-4102-8f03-9f4f215a8000\",\"type\":\"CDSView\"}},\"id\":\"1868f850-4628-4ef3-aea0-69c817255d34\",\"type\":\"GlyphRenderer\"},{\"attributes\":{},\"id\":\"4cd2e0bc-a83c-4ad2-a118-afb9e94ae1bc\",\"type\":\"LogScale\"},{\"attributes\":{\"fill_color\":{\"value\":\"#ff7f0e\"},\"line_color\":{\"value\":\"#ff7f0e\"},\"x\":{\"field\":\"x\"},\"y\":{\"field\":\"y\"}},\"id\":\"dca9e1a7-aaaf-4fa5-ab9b-8fa9df2103d2\",\"type\":\"Circle\"},{\"attributes\":{\"axis_label\":\"Seconds\",\"formatter\":{\"id\":\"218cfb35-c02b-41ad-97d3-6a006e539b12\",\"type\":\"LogTickFormatter\"},\"plot\":{\"id\":\"9cc3f99b-1d78-4059-aa78-ba79b1904c11\",\"subtype\":\"Figure\",\"type\":\"Plot\"},\"ticker\":{\"id\":\"6ab43fac-ca00-4329-ba3f-b493a5ef1394\",\"type\":\"LogTicker\"}},\"id\":\"b299830e-ec52-4a54-9253-24b18049a873\",\"type\":\"LogAxis\"},{\"attributes\":{\"label\":{\"value\":\"to_sqrt\"},\"renderers\":[{\"id\":\"115b5d30-c5b5-462f-bc43-b8f2064d6af1\",\"type\":\"GlyphRenderer\"},{\"id\":\"0a85eb7c-209e-4e93-b777-1a923f13bc4c\",\"type\":\"GlyphRenderer\"}]},\"id\":\"604c367f-a9ee-40cc-ad05-2759db97a146\",\"type\":\"LegendItem\"},{\"attributes\":{\"fill_alpha\":{\"value\":0.1},\"fill_color\":{\"value\":\"#1f77b4\"},\"line_alpha\":{\"value\":0.1},\"line_color\":{\"value\":\"#1f77b4\"},\"x\":{\"field\":\"x\"},\"y\":{\"field\":\"y\"}},\"id\":\"500bc2ad-ffee-4363-9843-209bdc1824c4\",\"type\":\"Circle\"},{\"attributes\":{\"data_source\":{\"id\":\"e3d07cc3-bbc9-4c11-a4cf-bc7509335fb7\",\"type\":\"ColumnDataSource\"},\"glyph\":{\"id\":\"4bca3e69-4cfc-4bc5-bcad-8ea178f675d3\",\"type\":\"Circle\"},\"hover_glyph\":null,\"muted_glyph\":null,\"nonselection_glyph\":{\"id\":\"fbe534f6-25b3-4311-966f-663f680eb1ae\",\"type\":\"Circle\"},\"selection_glyph\":null,\"view\":{\"id\":\"01c2def9-a57d-4aba-bcc6-d640afae9b66\",\"type\":\"CDSView\"}},\"id\":\"7b61e739-7e9a-4959-af13-ca5273ed659f\",\"type\":\"GlyphRenderer\"},{\"attributes\":{\"source\":{\"id\":\"cc3138e0-cc20-4d40-a9fe-97e4a38d92a0\",\"type\":\"ColumnDataSource\"}},\"id\":\"bcc897be-718d-4be2-8749-2903170c7eac\",\"type\":\"CDSView\"},{\"attributes\":{\"dimension\":1,\"plot\":{\"id\":\"9cc3f99b-1d78-4059-aa78-ba79b1904c11\",\"subtype\":\"Figure\",\"type\":\"Plot\"},\"ticker\":{\"id\":\"6ab43fac-ca00-4329-ba3f-b493a5ef1394\",\"type\":\"LogTicker\"}},\"id\":\"5a030eda-f534-4dc3-ae43-a4043c53ddf1\",\"type\":\"Grid\"},{\"attributes\":{\"line_color\":\"#1f77b4\",\"line_dash\":[6],\"x\":{\"field\":\"x\"},\"y\":{\"field\":\"y\"}},\"id\":\"e7ce646c-4f6c-495a-8a98-12c39feea089\",\"type\":\"Line\"},{\"attributes\":{\"data_source\":{\"id\":\"bfa9c373-a80b-41a0-be4e-113b40202363\",\"type\":\"ColumnDataSource\"},\"glyph\":{\"id\":\"af0084f1-feda-49b7-924b-69aaba262f42\",\"type\":\"Circle\"},\"hover_glyph\":null,\"muted_glyph\":null,\"nonselection_glyph\":{\"id\":\"29a15568-9a90-4ca2-8ecc-19ccee6a96b8\",\"type\":\"Circle\"},\"selection_glyph\":null,\"view\":{\"id\":\"4a1cc1f4-abe3-42dd-8434-f70173128c2e\",\"type\":\"CDSView\"}},\"id\":\"4f51ac43-89af-49ff-a111-17e36a5892da\",\"type\":\"GlyphRenderer\"},{\"attributes\":{\"background_fill_alpha\":{\"value\":0.5},\"click_policy\":\"hide\",\"items\":[{\"id\":\"47074cbb-8e61-4636-adea-09a120efde56\",\"type\":\"LegendItem\"},{\"id\":\"e78f66b1-7b9f-4ef4-9b7d-aea70e22826e\",\"type\":\"LegendItem\"},{\"id\":\"604c367f-a9ee-40cc-ad05-2759db97a146\",\"type\":\"LegendItem\"},{\"id\":\"a65ad9a6-b322-4a40-8178-a08341e03451\",\"type\":\"LegendItem\"},{\"id\":\"6306daa5-7e38-40c6-abd6-be38139aedf9\",\"type\":\"LegendItem\"},{\"id\":\"cf7fdc23-4d91-405b-a00e-4feedc0dd129\",\"type\":\"LegendItem\"},{\"id\":\"7e41f50b-5db4-4998-a321-f182067fee96\",\"type\":\"LegendItem\"}],\"location\":\"top_left\",\"plot\":{\"id\":\"9cc3f99b-1d78-4059-aa78-ba79b1904c11\",\"subtype\":\"Figure\",\"type\":\"Plot\"}},\"id\":\"e99793b3-1245-4535-b648-92b1db465b6c\",\"type\":\"Legend\"},{\"attributes\":{\"callback\":null,\"column_names\":[\"x\",\"y\"],\"data\":{\"x\":[1,2,5,10,20,50,100,200,500,1000,2000],\"y\":[3.91571840737015e-06,7.2433939203619956e-06,1.4987080940045414e-05,3.0398783273994922e-05,7.70214624935761e-05,0.0003747431433293968,0.0015680668415734545,0.00739021853893064,0.05986085925658699,0.29679561396478676,1.2218749636859867]}},\"id\":\"5e515b16-c721-4e34-8504-31b0066e2cfe\",\"type\":\"ColumnDataSource\"},{\"attributes\":{\"fill_color\":{\"value\":\"#d62728\"},\"line_color\":{\"value\":\"#d62728\"},\"x\":{\"field\":\"x\"},\"y\":{\"field\":\"y\"}},\"id\":\"af0084f1-feda-49b7-924b-69aaba262f42\",\"type\":\"Circle\"},{\"attributes\":{\"bottom_units\":\"screen\",\"fill_alpha\":{\"value\":0.5},\"fill_color\":{\"value\":\"lightgrey\"},\"left_units\":\"screen\",\"level\":\"overlay\",\"line_alpha\":{\"value\":1.0},\"line_color\":{\"value\":\"black\"},\"line_dash\":[4,4],\"line_width\":{\"value\":2},\"plot\":null,\"render_mode\":\"css\",\"right_units\":\"screen\",\"top_units\":\"screen\"},\"id\":\"c3ef7385-77ac-468f-b555-2b75e8e6f822\",\"type\":\"BoxAnnotation\"},{\"attributes\":{\"callback\":null,\"column_names\":[\"x\",\"y\"],\"data\":{\"x\":[],\"y\":[]}},\"id\":\"cc3138e0-cc20-4d40-a9fe-97e4a38d92a0\",\"type\":\"ColumnDataSource\"},{\"attributes\":{\"data_source\":{\"id\":\"cc3138e0-cc20-4d40-a9fe-97e4a38d92a0\",\"type\":\"ColumnDataSource\"},\"glyph\":{\"id\":\"6a16878e-1ba8-4208-9cb0-cae68068630e\",\"type\":\"Line\"},\"hover_glyph\":null,\"muted_glyph\":null,\"nonselection_glyph\":{\"id\":\"89add729-4c1b-4695-bf30-21c4ab48b4ca\",\"type\":\"Line\"},\"selection_glyph\":null,\"view\":{\"id\":\"91a5be0d-5e45-48e2-b485-4469fa6347d4\",\"type\":\"CDSView\"}},\"id\":\"3c009854-a2bf-4a03-9093-d3043f11205a\",\"type\":\"GlyphRenderer\"},{\"attributes\":{},\"id\":\"f153cd0a-c6a8-42e7-9f14-51a2424ec194\",\"type\":\"PanTool\"},{\"attributes\":{\"fill_color\":{\"value\":\"#9467bd\"},\"line_color\":{\"value\":\"#9467bd\"},\"x\":{\"field\":\"x\"},\"y\":{\"field\":\"y\"}},\"id\":\"4bca3e69-4cfc-4bc5-bcad-8ea178f675d3\",\"type\":\"Circle\"},{\"attributes\":{\"data_source\":{\"id\":\"5e515b16-c721-4e34-8504-31b0066e2cfe\",\"type\":\"ColumnDataSource\"},\"glyph\":{\"id\":\"e7ce646c-4f6c-495a-8a98-12c39feea089\",\"type\":\"Line\"},\"hover_glyph\":null,\"muted_glyph\":null,\"nonselection_glyph\":{\"id\":\"7b0b67fc-2030-4e65-8aaa-f19b855571f9\",\"type\":\"Line\"},\"selection_glyph\":null,\"view\":{\"id\":\"c056b519-aab2-4fcf-b2ce-1320d27b9b1a\",\"type\":\"CDSView\"}},\"id\":\"aed2ec1a-c386-498c-96c0-b38be0cfe1fe\",\"type\":\"GlyphRenderer\"},{\"attributes\":{\"data_source\":{\"id\":\"20d3e1a5-bddd-441e-a3cc-e36942819a83\",\"type\":\"ColumnDataSource\"},\"glyph\":{\"id\":\"7af4b293-20ea-4ce0-8d22-54ed594c992a\",\"type\":\"Line\"},\"hover_glyph\":null,\"muted_glyph\":null,\"nonselection_glyph\":{\"id\":\"0615f4b1-14cc-4ec3-a449-83593f4ed3de\",\"type\":\"Line\"},\"selection_glyph\":null,\"view\":{\"id\":\"e5ca8011-74fc-4298-866c-c760c6362605\",\"type\":\"CDSView\"}},\"id\":\"f0f0a4c1-bfb5-4d5d-9852-af43374b6662\",\"type\":\"GlyphRenderer\"},{\"attributes\":{},\"id\":\"ed12ddc6-0f55-4f80-89a8-8bf157fadb1b\",\"type\":\"WheelZoomTool\"},{\"attributes\":{\"label\":{\"value\":\"sieve\"},\"renderers\":[{\"id\":\"f0f0a4c1-bfb5-4d5d-9852-af43374b6662\",\"type\":\"GlyphRenderer\"},{\"id\":\"f2e280b6-72aa-41c0-b7b8-d3ac39252f21\",\"type\":\"GlyphRenderer\"}]},\"id\":\"cf7fdc23-4d91-405b-a00e-4feedc0dd129\",\"type\":\"LegendItem\"},{\"attributes\":{\"fill_color\":{\"value\":\"#8c564b\"},\"line_color\":{\"value\":\"#8c564b\"},\"x\":{\"field\":\"x\"},\"y\":{\"field\":\"y\"}},\"id\":\"515e372b-8f57-49b0-ae76-516cecbf19e6\",\"type\":\"Circle\"},{\"attributes\":{\"overlay\":{\"id\":\"c3ef7385-77ac-468f-b555-2b75e8e6f822\",\"type\":\"BoxAnnotation\"}},\"id\":\"cc3517e0-1913-4c38-b1e5-473e5d058408\",\"type\":\"BoxZoomTool\"},{\"attributes\":{\"callback\":null,\"column_names\":[\"x\",\"y\"],\"data\":{\"x\":[1,2,5,10,20,50,100,200,500,1000,2000,5000,10000,20000,50000],\"y\":[2.0776950987055897e-06,4.807374207302928e-06,9.304063278250396e-06,1.4982775319367647e-05,2.604048640932888e-05,6.168118445202709e-05,0.00014151587442029267,0.000367499552667141,0.0011843392433365807,0.0030475399282295255,0.00832839964015875,0.03472050534677691,0.09592763604538049,0.25508131872164086,0.8234529124136316]}},\"id\":\"95fdbed8-77ba-4a5c-bd44-77bda9d5e9e2\",\"type\":\"ColumnDataSource\"},{\"attributes\":{\"data_source\":{\"id\":\"8ed12657-1d06-4c02-b428-dfb5dc7462f9\",\"type\":\"ColumnDataSource\"},\"glyph\":{\"id\":\"515e372b-8f57-49b0-ae76-516cecbf19e6\",\"type\":\"Circle\"},\"hover_glyph\":null,\"muted_glyph\":null,\"nonselection_glyph\":{\"id\":\"2256a11c-cb9e-41ad-b313-ddc9a3e687ae\",\"type\":\"Circle\"},\"selection_glyph\":null,\"view\":{\"id\":\"f118fabe-1381-411c-99ed-325b6ac4819c\",\"type\":\"CDSView\"}},\"id\":\"f2e280b6-72aa-41c0-b7b8-d3ac39252f21\",\"type\":\"GlyphRenderer\"},{\"attributes\":{},\"id\":\"2cd7e061-5301-402d-b944-7c52ec2a2856\",\"type\":\"SaveTool\"},{\"attributes\":{\"fill_alpha\":{\"value\":0.1},\"fill_color\":{\"value\":\"#1f77b4\"},\"line_alpha\":{\"value\":0.1},\"line_color\":{\"value\":\"#1f77b4\"},\"x\":{\"field\":\"x\"},\"y\":{\"field\":\"y\"}},\"id\":\"2e5f3269-e121-49d6-bc35-2d2443849058\",\"type\":\"Circle\"},{\"attributes\":{},\"id\":\"46361392-bd7a-45c4-b729-23f2fd71960f\",\"type\":\"ResetTool\"},{\"attributes\":{\"line_color\":\"#8c564b\",\"line_dash\":[6],\"x\":{\"field\":\"x\"},\"y\":{\"field\":\"y\"}},\"id\":\"7af4b293-20ea-4ce0-8d22-54ed594c992a\",\"type\":\"Line\"},{\"attributes\":{},\"id\":\"5d35e10c-5ceb-44dc-a087-8094342c60ec\",\"type\":\"HelpTool\"},{\"attributes\":{\"line_alpha\":0.1,\"line_color\":\"#1f77b4\",\"line_dash\":[6],\"x\":{\"field\":\"x\"},\"y\":{\"field\":\"y\"}},\"id\":\"0615f4b1-14cc-4ec3-a449-83593f4ed3de\",\"type\":\"Line\"},{\"attributes\":{\"data_source\":{\"id\":\"36d7506b-c527-4fab-9643-2e3d3efb2b7f\",\"type\":\"ColumnDataSource\"},\"glyph\":{\"id\":\"dca9e1a7-aaaf-4fa5-ab9b-8fa9df2103d2\",\"type\":\"Circle\"},\"hover_glyph\":null,\"muted_glyph\":null,\"nonselection_glyph\":{\"id\":\"cdbdee80-1e6e-487b-8ff6-3ad98f8b7d0c\",\"type\":\"Circle\"},\"selection_glyph\":null,\"view\":{\"id\":\"880b04b2-0c58-454a-a3b2-93ae583f56e1\",\"type\":\"CDSView\"}},\"id\":\"a4b60a5f-177e-429d-939e-7337ef61a3f7\",\"type\":\"GlyphRenderer\"},{\"attributes\":{\"fill_alpha\":{\"value\":0.1},\"fill_color\":{\"value\":\"#1f77b4\"},\"line_alpha\":{\"value\":0.1},\"line_color\":{\"value\":\"#1f77b4\"},\"x\":{\"field\":\"x\"},\"y\":{\"field\":\"y\"}},\"id\":\"2256a11c-cb9e-41ad-b313-ddc9a3e687ae\",\"type\":\"Circle\"},{\"attributes\":{\"source\":{\"id\":\"5e515b16-c721-4e34-8504-31b0066e2cfe\",\"type\":\"ColumnDataSource\"}},\"id\":\"c056b519-aab2-4fcf-b2ce-1320d27b9b1a\",\"type\":\"CDSView\"},{\"attributes\":{\"callback\":null,\"column_names\":[\"x\",\"y\"],\"data\":{\"x\":[1,2,5,10,20,50,100,200,500,1000,2000],\"y\":[3.91571840737015e-06,7.2433939203619956e-06,1.4987080940045414e-05,3.0398783273994922e-05,7.70214624935761e-05,0.0003747431433293968,0.0015680668415734545,0.00739021853893064,0.05986085925658699,0.29679561396478676,1.2218749636859867]}},\"id\":\"c1af32e9-f0ab-4552-904c-f57b28b80780\",\"type\":\"ColumnDataSource\"},{\"attributes\":{\"ticker\":null},\"id\":\"218cfb35-c02b-41ad-97d3-6a006e539b12\",\"type\":\"LogTickFormatter\"},{\"attributes\":{\"line_alpha\":0.1,\"line_color\":\"#1f77b4\",\"line_dash\":[6],\"x\":{\"field\":\"x\"},\"y\":{\"field\":\"y\"}},\"id\":\"56b365f9-78cc-46f0-a434-c2ce0f824b58\",\"type\":\"Line\"},{\"attributes\":{\"source\":{\"id\":\"4802afca-4ea9-4ab4-b34d-a4f95f6b7c67\",\"type\":\"ColumnDataSource\"}},\"id\":\"381e00e8-b71a-483b-a998-d82305207fb2\",\"type\":\"CDSView\"},{\"attributes\":{\"line_color\":\"#e377c2\",\"x\":{\"field\":\"x\"},\"y\":{\"field\":\"y\"}},\"id\":\"6a16878e-1ba8-4208-9cb0-cae68068630e\",\"type\":\"Line\"},{\"attributes\":{\"callback\":null,\"column_names\":[\"x\",\"y\"],\"data\":{\"x\":[1,2,5,10,20,50,100,200,500,1000,2000,5000,10000],\"y\":[1.6776920529082417e-06,3.437398700043559e-06,6.455089314840734e-06,1.2009789934381842e-05,2.3841459187678994e-05,8.453016518615187e-05,0.00027960187930148095,0.0010557575873099267,0.006852055275230668,0.029649630992207673,0.13802742869767826,0.7851034203986638,3.083855590078165]}},\"id\":\"02ae91df-cf97-43ca-8ee4-fd55aec56dd6\",\"type\":\"ColumnDataSource\"},{\"attributes\":{\"source\":{\"id\":\"cc3138e0-cc20-4d40-a9fe-97e4a38d92a0\",\"type\":\"ColumnDataSource\"}},\"id\":\"91a5be0d-5e45-48e2-b485-4469fa6347d4\",\"type\":\"CDSView\"},{\"attributes\":{\"fill_alpha\":{\"value\":0.1},\"fill_color\":{\"value\":\"#1f77b4\"},\"line_alpha\":{\"value\":0.1},\"line_color\":{\"value\":\"#1f77b4\"},\"x\":{\"field\":\"x\"},\"y\":{\"field\":\"y\"}},\"id\":\"f2823dac-0d6b-4e5f-b9ff-c22f1c0358d5\",\"type\":\"Circle\"},{\"attributes\":{\"callback\":null,\"column_names\":[\"x\",\"y\"],\"data\":{\"x\":[1,2,5,10,20,50,100,200,500,1000,2000,5000,10000,20000,50000],\"y\":[2.0776950987055897e-06,4.807374207302928e-06,9.304063278250396e-06,1.4982775319367647e-05,2.604048640932888e-05,6.168118445202709e-05,0.00014151587442029267,0.000367499552667141,0.0011843392433365807,0.0030475399282295255,0.00832839964015875,0.03472050534677691,0.09592763604538049,0.25508131872164086,0.8234529124136316]}},\"id\":\"e3d07cc3-bbc9-4c11-a4cf-bc7509335fb7\",\"type\":\"ColumnDataSource\"},{\"attributes\":{\"source\":{\"id\":\"8ed12657-1d06-4c02-b428-dfb5dc7462f9\",\"type\":\"ColumnDataSource\"}},\"id\":\"f118fabe-1381-411c-99ed-325b6ac4819c\",\"type\":\"CDSView\"},{\"attributes\":{\"line_color\":\"#9467bd\",\"line_dash\":[6],\"x\":{\"field\":\"x\"},\"y\":{\"field\":\"y\"}},\"id\":\"ec3cd6fb-1a19-4698-bb2f-f26458671a4b\",\"type\":\"Line\"},{\"attributes\":{\"format\":\"0[.]0 a\"},\"id\":\"76136b7e-499f-4e41-83ee-c2b4b0983936\",\"type\":\"NumeralTickFormatter\"},{\"attributes\":{\"line_alpha\":0.1,\"line_color\":\"#1f77b4\",\"x\":{\"field\":\"x\"},\"y\":{\"field\":\"y\"}},\"id\":\"89add729-4c1b-4695-bf30-21c4ab48b4ca\",\"type\":\"Line\"},{\"attributes\":{\"label\":{\"value\":\"check_primes_sqrt\"},\"renderers\":[{\"id\":\"1868f850-4628-4ef3-aea0-69c817255d34\",\"type\":\"GlyphRenderer\"},{\"id\":\"7b61e739-7e9a-4959-af13-ca5273ed659f\",\"type\":\"GlyphRenderer\"}]},\"id\":\"6306daa5-7e38-40c6-abd6-be38139aedf9\",\"type\":\"LegendItem\"},{\"attributes\":{\"label\":{\"value\":\"unbounded_sieve\"},\"renderers\":[{\"id\":\"3c009854-a2bf-4a03-9093-d3043f11205a\",\"type\":\"GlyphRenderer\"},{\"id\":\"e84baaf4-6dc8-43a6-bd4b-8ceb53b51cee\",\"type\":\"GlyphRenderer\"}]},\"id\":\"7e41f50b-5db4-4998-a321-f182067fee96\",\"type\":\"LegendItem\"},{\"attributes\":{\"callback\":null,\"column_names\":[\"x\",\"y\"],\"data\":{\"x\":[1,2,5,10,20,50,100,200,500,1000,2000,5000,10000,20000,50000],\"y\":[1.9457092275843024e-06,6.114398129284382e-06,1.1780100758187473e-05,2.2780797444283962e-05,4.293648235034198e-05,0.00011111817322671414,0.000251019851421006,0.0005885235581081361,0.0019095742475474255,0.004739756946219132,0.01221786662528757,0.046385250308085234,0.13627362401981372,0.3649428817105945,1.3061569034151035]}},\"id\":\"4802afca-4ea9-4ab4-b34d-a4f95f6b7c67\",\"type\":\"ColumnDataSource\"},{\"attributes\":{\"source\":{\"id\":\"36d7506b-c527-4fab-9643-2e3d3efb2b7f\",\"type\":\"ColumnDataSource\"}},\"id\":\"880b04b2-0c58-454a-a3b2-93ae583f56e1\",\"type\":\"CDSView\"},{\"attributes\":{\"source\":{\"id\":\"22ebdc50-0dcc-48b0-8669-cf8f5581f42f\",\"type\":\"ColumnDataSource\"}},\"id\":\"588bdced-f1d7-4327-91f0-24d3b614b65b\",\"type\":\"CDSView\"},{\"attributes\":{\"line_alpha\":0.1,\"line_color\":\"#1f77b4\",\"line_dash\":[6],\"x\":{\"field\":\"x\"},\"y\":{\"field\":\"y\"}},\"id\":\"ff423e6e-8c65-4265-98e4-febf14dea632\",\"type\":\"Line\"},{\"attributes\":{\"data_source\":{\"id\":\"22ebdc50-0dcc-48b0-8669-cf8f5581f42f\",\"type\":\"ColumnDataSource\"},\"glyph\":{\"id\":\"07ea4350-ff70-4680-969a-a0b439babce4\",\"type\":\"Line\"},\"hover_glyph\":null,\"muted_glyph\":null,\"nonselection_glyph\":{\"id\":\"ff423e6e-8c65-4265-98e4-febf14dea632\",\"type\":\"Line\"},\"selection_glyph\":null,\"view\":{\"id\":\"588bdced-f1d7-4327-91f0-24d3b614b65b\",\"type\":\"CDSView\"}},\"id\":\"115b5d30-c5b5-462f-bc43-b8f2064d6af1\",\"type\":\"GlyphRenderer\"},{\"attributes\":{\"callback\":null,\"column_names\":[\"x\",\"y\"],\"data\":{\"x\":[1,2,5,10,20,50,100,200,500,1000,2000,5000,10000,20000,50000],\"y\":[1.9457092275843024e-06,6.114398129284382e-06,1.1780100758187473e-05,2.2780797444283962e-05,4.293648235034198e-05,0.00011111817322671414,0.000251019851421006,0.0005885235581081361,0.0019095742475474255,0.004739756946219132,0.01221786662528757,0.046385250308085234,0.13627362401981372,0.3649428817105945,1.3061569034151035]}},\"id\":\"22ebdc50-0dcc-48b0-8669-cf8f5581f42f\",\"type\":\"ColumnDataSource\"},{\"attributes\":{\"fill_alpha\":{\"value\":0.1},\"fill_color\":{\"value\":\"#1f77b4\"},\"line_alpha\":{\"value\":0.1},\"line_color\":{\"value\":\"#1f77b4\"},\"x\":{\"field\":\"x\"},\"y\":{\"field\":\"y\"}},\"id\":\"cdbdee80-1e6e-487b-8ff6-3ad98f8b7d0c\",\"type\":\"Circle\"},{\"attributes\":{\"source\":{\"id\":\"bfa9c373-a80b-41a0-be4e-113b40202363\",\"type\":\"ColumnDataSource\"}},\"id\":\"4a1cc1f4-abe3-42dd-8434-f70173128c2e\",\"type\":\"CDSView\"},{\"attributes\":{\"callback\":null,\"column_names\":[\"x\",\"y\"],\"data\":{\"x\":[1,2,5,10,20,50,100,200,500,1000,2000,5000,10000,20000,50000,100000,200000,500000],\"y\":[5.6007137754932045e-06,5.7226879289373755e-06,7.333701360039413e-06,1.1411700979806483e-05,1.7947693704627456e-05,3.9022708660922946e-05,9.826669876929373e-05,0.0001914446783484891,0.0005650467082159593,0.0012503447086783127,0.0027368506725179032,0.007767140692449175,0.017164162682020104,0.04116779769712593,0.11953361571242567,0.2658971406944329,0.501684551681974,1.3743776777136372]}},\"id\":\"8ed12657-1d06-4c02-b428-dfb5dc7462f9\",\"type\":\"ColumnDataSource\"},{\"attributes\":{\"data_source\":{\"id\":\"0c0e8644-cc02-466a-b825-af07143aeb52\",\"type\":\"ColumnDataSource\"},\"glyph\":{\"id\":\"7853db39-bd93-4e2a-adff-aff11f04609a\",\"type\":\"Line\"},\"hover_glyph\":null,\"muted_glyph\":null,\"nonselection_glyph\":{\"id\":\"7f4db085-0b11-49ab-8e3f-f4678aa4f906\",\"type\":\"Line\"},\"selection_glyph\":null,\"view\":{\"id\":\"517ef48a-7253-4b23-b227-fc8d4ffc049f\",\"type\":\"CDSView\"}},\"id\":\"eb5c6143-472e-459e-928f-8f81d285e008\",\"type\":\"GlyphRenderer\"},{\"attributes\":{\"source\":{\"id\":\"0c0e8644-cc02-466a-b825-af07143aeb52\",\"type\":\"ColumnDataSource\"}},\"id\":\"517ef48a-7253-4b23-b227-fc8d4ffc049f\",\"type\":\"CDSView\"},{\"attributes\":{\"callback\":null,\"column_names\":[\"x\",\"y\"],\"data\":{\"x\":[1,2,5,10,20,50,100,200,500,1000,2000,5000],\"y\":[1.928683486767113e-06,5.348356207832694e-06,1.0088062263093889e-05,1.932975254021585e-05,4.36724309111014e-05,0.00019079910591244696,0.0007820247969357296,0.0036099665006622673,0.029195572207099757,0.15714686589781196,0.6617195535992506,4.328593240285991]}},\"id\":\"0c0e8644-cc02-466a-b825-af07143aeb52\",\"type\":\"ColumnDataSource\"},{\"attributes\":{\"label\":{\"value\":\"first_try\"},\"renderers\":[{\"id\":\"aed2ec1a-c386-498c-96c0-b38be0cfe1fe\",\"type\":\"GlyphRenderer\"},{\"id\":\"d661bca4-080f-4088-8aa8-2325d0d9986f\",\"type\":\"GlyphRenderer\"}]},\"id\":\"47074cbb-8e61-4636-adea-09a120efde56\",\"type\":\"LegendItem\"},{\"attributes\":{\"source\":{\"id\":\"95fdbed8-77ba-4a5c-bd44-77bda9d5e9e2\",\"type\":\"ColumnDataSource\"}},\"id\":\"5d13858b-f6f9-4102-8f03-9f4f215a8000\",\"type\":\"CDSView\"},{\"attributes\":{\"fill_color\":{\"value\":\"#1f77b4\"},\"line_color\":{\"value\":\"#1f77b4\"},\"x\":{\"field\":\"x\"},\"y\":{\"field\":\"y\"}},\"id\":\"0155675a-3077-4139-8dc8-5733aef738e2\",\"type\":\"Circle\"},{\"attributes\":{\"fill_alpha\":{\"value\":0.1},\"fill_color\":{\"value\":\"#1f77b4\"},\"line_alpha\":{\"value\":0.1},\"line_color\":{\"value\":\"#1f77b4\"},\"x\":{\"field\":\"x\"},\"y\":{\"field\":\"y\"}},\"id\":\"fbe534f6-25b3-4311-966f-663f680eb1ae\",\"type\":\"Circle\"},{\"attributes\":{\"callback\":null,\"column_names\":[\"x\",\"y\"],\"data\":{\"x\":[1,2,5,10,20,50,100,200,500,1000,2000,5000],\"y\":[1.928683486767113e-06,5.348356207832694e-06,1.0088062263093889e-05,1.932975254021585e-05,4.36724309111014e-05,0.00019079910591244696,0.0007820247969357296,0.0036099665006622673,0.029195572207099757,0.15714686589781196,0.6617195535992506,4.328593240285991]}},\"id\":\"36d7506b-c527-4fab-9643-2e3d3efb2b7f\",\"type\":\"ColumnDataSource\"},{\"attributes\":{\"data_source\":{\"id\":\"c1af32e9-f0ab-4552-904c-f57b28b80780\",\"type\":\"ColumnDataSource\"},\"glyph\":{\"id\":\"0155675a-3077-4139-8dc8-5733aef738e2\",\"type\":\"Circle\"},\"hover_glyph\":null,\"muted_glyph\":null,\"nonselection_glyph\":{\"id\":\"2e5f3269-e121-49d6-bc35-2d2443849058\",\"type\":\"Circle\"},\"selection_glyph\":null,\"view\":{\"id\":\"5c4d82ee-872c-43bb-93dc-7d5e3bfc58ad\",\"type\":\"CDSView\"}},\"id\":\"d661bca4-080f-4088-8aa8-2325d0d9986f\",\"type\":\"GlyphRenderer\"}],\"root_ids\":[\"9cc3f99b-1d78-4059-aa78-ba79b1904c11\"]},\"title\":\"Bokeh Application\",\"version\":\"0.12.14\"}};\n",
       "  var render_items = [{\"docid\":\"fcd6c371-d970-41eb-a93e-e46f290d53c8\",\"elementid\":\"65b9a9d2-edd5-425c-a935-2d4ed0fbf009\",\"modelid\":\"9cc3f99b-1d78-4059-aa78-ba79b1904c11\",\"notebook_comms_target\":\"8a4731fa-1458-4d11-aa32-a01ce5f5f10e\"}];\n",
       "  root.Bokeh.embed.embed_items_notebook(docs_json, render_items);\n",
       "\n",
       "  }\n",
       "  if (root.Bokeh !== undefined) {\n",
       "    embed_document(root);\n",
       "  } else {\n",
       "    var attempts = 0;\n",
       "    var timer = setInterval(function(root) {\n",
       "      if (root.Bokeh !== undefined) {\n",
       "        embed_document(root);\n",
       "        clearInterval(timer);\n",
       "      }\n",
       "      attempts++;\n",
       "      if (attempts > 100) {\n",
       "        console.log(\"Bokeh: ERROR: Unable to run BokehJS code because BokehJS library is missing\")\n",
       "        clearInterval(timer);\n",
       "      }\n",
       "    }, 10, root)\n",
       "  }\n",
       "})(window);"
      ],
      "application/vnd.bokehjs_exec.v0+json": ""
     },
     "metadata": {
      "application/vnd.bokehjs_exec.v0+json": {
       "id": "9cc3f99b-1d78-4059-aa78-ba79b1904c11"
      }
     },
     "output_type": "display_data"
    }
   ],
   "source": [
    "timing_plot(unbounded_sieve)"
   ]
  },
  {
   "cell_type": "markdown",
   "metadata": {
    "slideshow": {
     "slide_type": "slide"
    }
   },
   "source": [
    "We can make a few optimisations:\n",
    "Defaultdict so we don’t have to check if a number is present\n",
    "We skip even numbers, and therefore even multiples of primes\n",
    "When we find a prime, p, the first multiple we have to add to the state is p^2, because smaller multiples will have another factor less than p  (p*q, where q < p).\n"
   ]
  },
  {
   "cell_type": "code",
   "execution_count": 19,
   "metadata": {
    "collapsed": true,
    "slideshow": {
     "slide_type": "fragment"
    }
   },
   "outputs": [],
   "source": [
    "from collections import defaultdict\n",
    "from itertools import count\n",
    "\n",
    "def improved_sieve():\n",
    "    yield 2\n",
    "    state = defaultdict(list)\n",
    "    for candidate in count(3, 2):\n",
    "        if candidate in state:\n",
    "            for inc in state[candidate]:\n",
    "                state[candidate + inc].append(inc)\n",
    "            del state[candidate]\n",
    "        else:\n",
    "            yield candidate\n",
    "            state[candidate * candidate] = [2 * candidate]"
   ]
  },
  {
   "cell_type": "code",
   "execution_count": 20,
   "metadata": {
    "slideshow": {
     "slide_type": "slide"
    }
   },
   "outputs": [
    {
     "data": {
      "text/html": [
       "\n",
       "<div class=\"bk-root\">\n",
       "    <div class=\"bk-plotdiv\" id=\"68093af5-f26c-42b0-9873-29f6b00224d2\"></div>\n",
       "</div>"
      ]
     },
     "metadata": {},
     "output_type": "display_data"
    },
    {
     "data": {
      "application/javascript": [
       "(function(root) {\n",
       "  function embed_document(root) {\n",
       "    \n",
       "  var docs_json = {\"b0698bd7-c1f0-4f23-909c-238536a10360\":{\"roots\":{\"references\":[{\"attributes\":{\"background_fill_alpha\":{\"value\":0.5},\"click_policy\":\"hide\",\"items\":[{\"id\":\"d1a8dda0-0ebf-48cc-a333-4f06cc909b0e\",\"type\":\"LegendItem\"},{\"id\":\"cb36ee0a-af88-4d2a-b0ea-de444722441b\",\"type\":\"LegendItem\"},{\"id\":\"35ebfe58-57d3-47a9-864f-65eba7e7b3ab\",\"type\":\"LegendItem\"},{\"id\":\"81d05302-7076-4fde-99e3-15b0f8160a7c\",\"type\":\"LegendItem\"},{\"id\":\"2a24b0d9-b40c-4fae-ad29-5c84b8923346\",\"type\":\"LegendItem\"},{\"id\":\"61bfb53c-828c-42bb-af8b-e521f27c23c0\",\"type\":\"LegendItem\"},{\"id\":\"80f09682-98cf-4e63-a778-5b7ad27f2dce\",\"type\":\"LegendItem\"},{\"id\":\"90e4a39e-94ab-4cd7-b464-182e8f909978\",\"type\":\"LegendItem\"}],\"location\":\"top_left\",\"plot\":{\"id\":\"c39087ec-767b-40d4-95ec-2a83162e6b92\",\"subtype\":\"Figure\",\"type\":\"Plot\"}},\"id\":\"aee469f9-e295-4803-949b-b10843cc83fb\",\"type\":\"Legend\"},{\"attributes\":{\"fill_color\":{\"value\":\"#ff7f0e\"},\"line_color\":{\"value\":\"#ff7f0e\"},\"x\":{\"field\":\"x\"},\"y\":{\"field\":\"y\"}},\"id\":\"363b5303-81c0-4bd1-8a5c-d5645e26327f\",\"type\":\"Circle\"},{\"attributes\":{\"data_source\":{\"id\":\"30ed5b97-adb7-4467-b788-d5a847b26daf\",\"type\":\"ColumnDataSource\"},\"glyph\":{\"id\":\"35109781-daf4-44c4-bf89-e32baa8b3f78\",\"type\":\"Circle\"},\"hover_glyph\":null,\"muted_glyph\":null,\"nonselection_glyph\":{\"id\":\"e3dffd24-d42a-4669-806d-71fa4328cae5\",\"type\":\"Circle\"},\"selection_glyph\":null,\"view\":{\"id\":\"dc1e3859-2ece-42d7-b2f4-6f904185561a\",\"type\":\"CDSView\"}},\"id\":\"5299f9e2-29ca-4cc0-8f48-7c09eed4cba8\",\"type\":\"GlyphRenderer\"},{\"attributes\":{\"data_source\":{\"id\":\"7ce41eca-2be4-4601-bf49-7f0cf28d5710\",\"type\":\"ColumnDataSource\"},\"glyph\":{\"id\":\"363b5303-81c0-4bd1-8a5c-d5645e26327f\",\"type\":\"Circle\"},\"hover_glyph\":null,\"muted_glyph\":null,\"nonselection_glyph\":{\"id\":\"b705a402-a560-4580-8954-ce55771082db\",\"type\":\"Circle\"},\"selection_glyph\":null,\"view\":{\"id\":\"431234b9-10f2-472f-b17b-2ae44c6cc50d\",\"type\":\"CDSView\"}},\"id\":\"b9fc60d8-3bc0-4d1e-8fb0-bf06e2499587\",\"type\":\"GlyphRenderer\"},{\"attributes\":{\"source\":{\"id\":\"30ed5b97-adb7-4467-b788-d5a847b26daf\",\"type\":\"ColumnDataSource\"}},\"id\":\"dc1e3859-2ece-42d7-b2f4-6f904185561a\",\"type\":\"CDSView\"},{\"attributes\":{\"label\":{\"value\":\"first_try\"},\"renderers\":[{\"id\":\"4167a737-6fa8-47a0-a572-d6e8cf596f29\",\"type\":\"GlyphRenderer\"},{\"id\":\"86ff109e-075d-4f10-8945-c3c741f5df12\",\"type\":\"GlyphRenderer\"}]},\"id\":\"d1a8dda0-0ebf-48cc-a333-4f06cc909b0e\",\"type\":\"LegendItem\"},{\"attributes\":{\"callback\":null,\"column_names\":[\"x\",\"y\"],\"data\":{\"x\":[1,2,5,10,20,50,100,200,500,1000,2000,5000,10000,20000,50000],\"y\":[1.9457092275843024e-06,6.114398129284382e-06,1.1780100758187473e-05,2.2780797444283962e-05,4.293648235034198e-05,0.00011111817322671414,0.000251019851421006,0.0005885235581081361,0.0019095742475474255,0.004739756946219132,0.01221786662528757,0.046385250308085234,0.13627362401981372,0.3649428817105945,1.3061569034151035]}},\"id\":\"774d379a-9193-4ba2-998b-a7e630d6b49c\",\"type\":\"ColumnDataSource\"},{\"attributes\":{\"source\":{\"id\":\"bd6bd7f5-257d-4015-8926-a2d4d5557bad\",\"type\":\"ColumnDataSource\"}},\"id\":\"bf980bfc-fea3-4827-a8ce-4aa14f644a18\",\"type\":\"CDSView\"},{\"attributes\":{\"line_color\":\"#9467bd\",\"line_dash\":[6],\"x\":{\"field\":\"x\"},\"y\":{\"field\":\"y\"}},\"id\":\"6a3d25a1-9f34-49f3-bc9f-dd902d499770\",\"type\":\"Line\"},{\"attributes\":{\"source\":{\"id\":\"08cbf653-5745-4b84-aa00-0085df897107\",\"type\":\"ColumnDataSource\"}},\"id\":\"e33173c9-a645-445a-8d79-8acc5f65add7\",\"type\":\"CDSView\"},{\"attributes\":{\"line_alpha\":0.1,\"line_color\":\"#1f77b4\",\"line_dash\":[6],\"x\":{\"field\":\"x\"},\"y\":{\"field\":\"y\"}},\"id\":\"6162215e-fb30-4ea8-ab60-24b75e336070\",\"type\":\"Line\"},{\"attributes\":{\"line_alpha\":0.1,\"line_color\":\"#1f77b4\",\"line_dash\":[6],\"x\":{\"field\":\"x\"},\"y\":{\"field\":\"y\"}},\"id\":\"84aa9431-3bb2-478c-b217-712c56c24582\",\"type\":\"Line\"},{\"attributes\":{\"callback\":null,\"column_names\":[\"x\",\"y\"],\"data\":{\"x\":[1,2,5,10,20,50,100,200,500,1000,2000,5000,10000,20000,50000,100000],\"y\":[2.836693893186748e-06,5.21340174600482e-06,1.323508855421096e-05,2.4005777668207884e-05,4.719748685602099e-05,0.0001269451854750514,0.0003609428653726354,0.0009481885784771292,0.0031190182938007635,0.00745443599880673,0.018347232709056697,0.05661203039111569,0.13098114608961622,0.2943975747865625,0.8007890704873717,1.8081262511829845]}},\"id\":\"fc07716f-bd96-42e5-a3f4-b69fa477203b\",\"type\":\"ColumnDataSource\"},{\"attributes\":{\"data_source\":{\"id\":\"bd6bd7f5-257d-4015-8926-a2d4d5557bad\",\"type\":\"ColumnDataSource\"},\"glyph\":{\"id\":\"07981200-d808-4369-b466-230208306765\",\"type\":\"Line\"},\"hover_glyph\":null,\"muted_glyph\":null,\"nonselection_glyph\":{\"id\":\"6162215e-fb30-4ea8-ab60-24b75e336070\",\"type\":\"Line\"},\"selection_glyph\":null,\"view\":{\"id\":\"bf980bfc-fea3-4827-a8ce-4aa14f644a18\",\"type\":\"CDSView\"}},\"id\":\"362ea823-8067-4f81-a5fb-0c28e96417d2\",\"type\":\"GlyphRenderer\"},{\"attributes\":{\"label\":{\"value\":\"unbounded_sieve\"},\"renderers\":[{\"id\":\"c173d0d9-14ff-4da8-9dc8-e363ba46c986\",\"type\":\"GlyphRenderer\"},{\"id\":\"bd63a3d1-9729-4568-b03c-e182d8bbbc6e\",\"type\":\"GlyphRenderer\"}]},\"id\":\"80f09682-98cf-4e63-a778-5b7ad27f2dce\",\"type\":\"LegendItem\"},{\"attributes\":{\"source\":{\"id\":\"7ce41eca-2be4-4601-bf49-7f0cf28d5710\",\"type\":\"ColumnDataSource\"}},\"id\":\"431234b9-10f2-472f-b17b-2ae44c6cc50d\",\"type\":\"CDSView\"},{\"attributes\":{\"fill_color\":{\"value\":\"#2ca02c\"},\"line_color\":{\"value\":\"#2ca02c\"},\"x\":{\"field\":\"x\"},\"y\":{\"field\":\"y\"}},\"id\":\"e31a8cf6-02c5-45f3-a57b-6584e4786f5b\",\"type\":\"Circle\"},{\"attributes\":{\"data_source\":{\"id\":\"fc07716f-bd96-42e5-a3f4-b69fa477203b\",\"type\":\"ColumnDataSource\"},\"glyph\":{\"id\":\"6834f4bf-7478-4457-b6a4-6108277ba121\",\"type\":\"Circle\"},\"hover_glyph\":null,\"muted_glyph\":null,\"nonselection_glyph\":{\"id\":\"71b74b0f-bf86-46bd-be0c-70e0a21c042e\",\"type\":\"Circle\"},\"selection_glyph\":null,\"view\":{\"id\":\"7fb53704-8218-4dbd-bf5f-f0308056e653\",\"type\":\"CDSView\"}},\"id\":\"bd63a3d1-9729-4568-b03c-e182d8bbbc6e\",\"type\":\"GlyphRenderer\"},{\"attributes\":{\"source\":{\"id\":\"774d379a-9193-4ba2-998b-a7e630d6b49c\",\"type\":\"ColumnDataSource\"}},\"id\":\"a3d4030f-4ac6-4b1a-93e9-67de32e860f6\",\"type\":\"CDSView\"},{\"attributes\":{\"fill_color\":{\"value\":\"#8c564b\"},\"line_color\":{\"value\":\"#8c564b\"},\"x\":{\"field\":\"x\"},\"y\":{\"field\":\"y\"}},\"id\":\"35109781-daf4-44c4-bf89-e32baa8b3f78\",\"type\":\"Circle\"},{\"attributes\":{\"data_source\":{\"id\":\"774d379a-9193-4ba2-998b-a7e630d6b49c\",\"type\":\"ColumnDataSource\"},\"glyph\":{\"id\":\"807ad6cf-71f0-4cfb-8433-e93115ebb4c4\",\"type\":\"Line\"},\"hover_glyph\":null,\"muted_glyph\":null,\"nonselection_glyph\":{\"id\":\"84aa9431-3bb2-478c-b217-712c56c24582\",\"type\":\"Line\"},\"selection_glyph\":null,\"view\":{\"id\":\"a3d4030f-4ac6-4b1a-93e9-67de32e860f6\",\"type\":\"CDSView\"}},\"id\":\"3ded61f8-c9f1-456f-85ce-d627a0a823e0\",\"type\":\"GlyphRenderer\"},{\"attributes\":{\"fill_color\":{\"value\":\"#e377c2\"},\"line_color\":{\"value\":\"#e377c2\"},\"x\":{\"field\":\"x\"},\"y\":{\"field\":\"y\"}},\"id\":\"6834f4bf-7478-4457-b6a4-6108277ba121\",\"type\":\"Circle\"},{\"attributes\":{\"source\":{\"id\":\"a3bcb44a-6f58-4e53-b0b8-c30fc31e01d6\",\"type\":\"ColumnDataSource\"}},\"id\":\"ec4ebe42-5ee9-4d84-9810-f0d3c1692089\",\"type\":\"CDSView\"},{\"attributes\":{\"fill_alpha\":{\"value\":0.1},\"fill_color\":{\"value\":\"#1f77b4\"},\"line_alpha\":{\"value\":0.1},\"line_color\":{\"value\":\"#1f77b4\"},\"x\":{\"field\":\"x\"},\"y\":{\"field\":\"y\"}},\"id\":\"b705a402-a560-4580-8954-ce55771082db\",\"type\":\"Circle\"},{\"attributes\":{\"fill_alpha\":{\"value\":0.1},\"fill_color\":{\"value\":\"#1f77b4\"},\"line_alpha\":{\"value\":0.1},\"line_color\":{\"value\":\"#1f77b4\"},\"x\":{\"field\":\"x\"},\"y\":{\"field\":\"y\"}},\"id\":\"71b74b0f-bf86-46bd-be0c-70e0a21c042e\",\"type\":\"Circle\"},{\"attributes\":{\"line_color\":\"#8c564b\",\"line_dash\":[6],\"x\":{\"field\":\"x\"},\"y\":{\"field\":\"y\"}},\"id\":\"07981200-d808-4369-b466-230208306765\",\"type\":\"Line\"},{\"attributes\":{\"callback\":null,\"column_names\":[\"x\",\"y\"],\"data\":{\"x\":[1,2,5,10,20,50,100,200,500,1000,2000,5000,10000,20000,50000],\"y\":[1.9457092275843024e-06,6.114398129284382e-06,1.1780100758187473e-05,2.2780797444283962e-05,4.293648235034198e-05,0.00011111817322671414,0.000251019851421006,0.0005885235581081361,0.0019095742475474255,0.004739756946219132,0.01221786662528757,0.046385250308085234,0.13627362401981372,0.3649428817105945,1.3061569034151035]}},\"id\":\"056dde2b-4a63-47e3-ad3e-6652289eb89e\",\"type\":\"ColumnDataSource\"},{\"attributes\":{\"callback\":null,\"column_names\":[\"x\",\"y\"],\"data\":{\"x\":[],\"y\":[]}},\"id\":\"e8b6115c-99ca-4a96-938e-6a3fd478fb04\",\"type\":\"ColumnDataSource\"},{\"attributes\":{\"line_color\":\"#2ca02c\",\"line_dash\":[6],\"x\":{\"field\":\"x\"},\"y\":{\"field\":\"y\"}},\"id\":\"807ad6cf-71f0-4cfb-8433-e93115ebb4c4\",\"type\":\"Line\"},{\"attributes\":{\"label\":{\"value\":\"sieve\"},\"renderers\":[{\"id\":\"362ea823-8067-4f81-a5fb-0c28e96417d2\",\"type\":\"GlyphRenderer\"},{\"id\":\"5299f9e2-29ca-4cc0-8f48-7c09eed4cba8\",\"type\":\"GlyphRenderer\"}]},\"id\":\"61bfb53c-828c-42bb-af8b-e521f27c23c0\",\"type\":\"LegendItem\"},{\"attributes\":{\"fill_alpha\":{\"value\":0.1},\"fill_color\":{\"value\":\"#1f77b4\"},\"line_alpha\":{\"value\":0.1},\"line_color\":{\"value\":\"#1f77b4\"},\"x\":{\"field\":\"x\"},\"y\":{\"field\":\"y\"}},\"id\":\"6f25e571-164a-4a0b-8991-a02979d3381f\",\"type\":\"Circle\"},{\"attributes\":{\"source\":{\"id\":\"fc07716f-bd96-42e5-a3f4-b69fa477203b\",\"type\":\"ColumnDataSource\"}},\"id\":\"7fb53704-8218-4dbd-bf5f-f0308056e653\",\"type\":\"CDSView\"},{\"attributes\":{\"callback\":null,\"column_names\":[\"x\",\"y\"],\"data\":{\"x\":[1,2,5,10,20,50,100,200,500,1000,2000,5000,10000,20000,50000,100000],\"y\":[2.836693893186748e-06,5.21340174600482e-06,1.323508855421096e-05,2.4005777668207884e-05,4.719748685602099e-05,0.0001269451854750514,0.0003609428653726354,0.0009481885784771292,0.0031190182938007635,0.00745443599880673,0.018347232709056697,0.05661203039111569,0.13098114608961622,0.2943975747865625,0.8007890704873717,1.8081262511829845]}},\"id\":\"08cbf653-5745-4b84-aa00-0085df897107\",\"type\":\"ColumnDataSource\"},{\"attributes\":{\"label\":{\"value\":\"check_primes_sqrt\"},\"renderers\":[{\"id\":\"08876abe-dfd6-425c-a19a-03132fa3cb59\",\"type\":\"GlyphRenderer\"},{\"id\":\"afdf1bea-31ee-4480-ab65-a7f1f2700e45\",\"type\":\"GlyphRenderer\"}]},\"id\":\"2a24b0d9-b40c-4fae-ad29-5c84b8923346\",\"type\":\"LegendItem\"},{\"attributes\":{\"data_source\":{\"id\":\"a3bcb44a-6f58-4e53-b0b8-c30fc31e01d6\",\"type\":\"ColumnDataSource\"},\"glyph\":{\"id\":\"3e853927-45bc-4c32-969c-0c98f2e508b0\",\"type\":\"Circle\"},\"hover_glyph\":null,\"muted_glyph\":null,\"nonselection_glyph\":{\"id\":\"b2c68473-ad39-4f89-99f3-e7d114c85667\",\"type\":\"Circle\"},\"selection_glyph\":null,\"view\":{\"id\":\"ec4ebe42-5ee9-4d84-9810-f0d3c1692089\",\"type\":\"CDSView\"}},\"id\":\"ce4b5dcc-3a0b-4972-ae3e-c8b72f0c8941\",\"type\":\"GlyphRenderer\"},{\"attributes\":{\"data_source\":{\"id\":\"056dde2b-4a63-47e3-ad3e-6652289eb89e\",\"type\":\"ColumnDataSource\"},\"glyph\":{\"id\":\"e31a8cf6-02c5-45f3-a57b-6584e4786f5b\",\"type\":\"Circle\"},\"hover_glyph\":null,\"muted_glyph\":null,\"nonselection_glyph\":{\"id\":\"6f25e571-164a-4a0b-8991-a02979d3381f\",\"type\":\"Circle\"},\"selection_glyph\":null,\"view\":{\"id\":\"5f9d0686-c95d-4835-a664-b568695b43cc\",\"type\":\"CDSView\"}},\"id\":\"3b22838c-3d25-454a-a290-5f071f7b87ee\",\"type\":\"GlyphRenderer\"},{\"attributes\":{\"data_source\":{\"id\":\"e8b6115c-99ca-4a96-938e-6a3fd478fb04\",\"type\":\"ColumnDataSource\"},\"glyph\":{\"id\":\"7d8a7d65-41a5-4e52-8cdb-1b4ff564838e\",\"type\":\"Line\"},\"hover_glyph\":null,\"muted_glyph\":null,\"nonselection_glyph\":{\"id\":\"480f436e-7403-4480-b667-816e40f7821d\",\"type\":\"Line\"},\"selection_glyph\":null,\"view\":{\"id\":\"3a3938b5-37b2-4e12-ad13-67fec946cd1e\",\"type\":\"CDSView\"}},\"id\":\"b4dfb998-e143-4330-af6c-3d44ddc0a2c2\",\"type\":\"GlyphRenderer\"},{\"attributes\":{\"source\":{\"id\":\"a29272fc-5343-4a20-9c99-50fa6df33535\",\"type\":\"ColumnDataSource\"}},\"id\":\"c121724e-a0d8-47d6-be67-416b7e74cf74\",\"type\":\"CDSView\"},{\"attributes\":{\"source\":{\"id\":\"e8b6115c-99ca-4a96-938e-6a3fd478fb04\",\"type\":\"ColumnDataSource\"}},\"id\":\"3a3938b5-37b2-4e12-ad13-67fec946cd1e\",\"type\":\"CDSView\"},{\"attributes\":{\"fill_alpha\":{\"value\":0.1},\"fill_color\":{\"value\":\"#1f77b4\"},\"line_alpha\":{\"value\":0.1},\"line_color\":{\"value\":\"#1f77b4\"},\"x\":{\"field\":\"x\"},\"y\":{\"field\":\"y\"}},\"id\":\"99628c8d-5d43-4b69-ba19-c359ee4e408b\",\"type\":\"Circle\"},{\"attributes\":{\"line_alpha\":0.1,\"line_color\":\"#1f77b4\",\"x\":{\"field\":\"x\"},\"y\":{\"field\":\"y\"}},\"id\":\"480f436e-7403-4480-b667-816e40f7821d\",\"type\":\"Line\"},{\"attributes\":{\"label\":{\"value\":\"improved_sieve\"},\"renderers\":[{\"id\":\"b4dfb998-e143-4330-af6c-3d44ddc0a2c2\",\"type\":\"GlyphRenderer\"},{\"id\":\"a7c789d8-9fb7-47fc-a5a5-d403ded7f7ab\",\"type\":\"GlyphRenderer\"}]},\"id\":\"90e4a39e-94ab-4cd7-b464-182e8f909978\",\"type\":\"LegendItem\"},{\"attributes\":{\"callback\":null,\"column_names\":[\"x\",\"y\"],\"data\":{\"x\":[1,2,5,10,20,50,100,200,500,1000,2000,5000],\"y\":[1.928683486767113e-06,5.348356207832694e-06,1.0088062263093889e-05,1.932975254021585e-05,4.36724309111014e-05,0.00019079910591244696,0.0007820247969357296,0.0036099665006622673,0.029195572207099757,0.15714686589781196,0.6617195535992506,4.328593240285991]}},\"id\":\"9be7c7c5-4a5a-4d95-ba21-bbeb90029350\",\"type\":\"ColumnDataSource\"},{\"attributes\":{\"fill_color\":{\"value\":\"#1f77b4\"},\"line_color\":{\"value\":\"#1f77b4\"},\"x\":{\"field\":\"x\"},\"y\":{\"field\":\"y\"}},\"id\":\"b43b2f90-8596-436b-b483-5d18a4b46079\",\"type\":\"Circle\"},{\"attributes\":{\"line_color\":\"#7f7f7f\",\"x\":{\"field\":\"x\"},\"y\":{\"field\":\"y\"}},\"id\":\"7d8a7d65-41a5-4e52-8cdb-1b4ff564838e\",\"type\":\"Line\"},{\"attributes\":{\"data_source\":{\"id\":\"9be7c7c5-4a5a-4d95-ba21-bbeb90029350\",\"type\":\"ColumnDataSource\"},\"glyph\":{\"id\":\"56d197a3-22dc-4040-92ea-8df9ca55e688\",\"type\":\"Line\"},\"hover_glyph\":null,\"muted_glyph\":null,\"nonselection_glyph\":{\"id\":\"b37629da-60af-49f9-bd5c-fadfaafa87ef\",\"type\":\"Line\"},\"selection_glyph\":null,\"view\":{\"id\":\"e60b47cf-3205-4c54-8996-e83be7098961\",\"type\":\"CDSView\"}},\"id\":\"d58014f8-fef4-45c0-ae26-2be95343fc8e\",\"type\":\"GlyphRenderer\"},{\"attributes\":{\"fill_color\":{\"value\":\"#7f7f7f\"},\"line_color\":{\"value\":\"#7f7f7f\"},\"x\":{\"field\":\"x\"},\"y\":{\"field\":\"y\"}},\"id\":\"92de15ad-cd89-4fa0-9954-2f65984af674\",\"type\":\"Circle\"},{\"attributes\":{\"line_alpha\":0.1,\"line_color\":\"#1f77b4\",\"line_dash\":[6],\"x\":{\"field\":\"x\"},\"y\":{\"field\":\"y\"}},\"id\":\"6c962d59-262e-46a2-adf1-84bfe2dd155e\",\"type\":\"Line\"},{\"attributes\":{\"fill_alpha\":{\"value\":0.1},\"fill_color\":{\"value\":\"#1f77b4\"},\"line_alpha\":{\"value\":0.1},\"line_color\":{\"value\":\"#1f77b4\"},\"x\":{\"field\":\"x\"},\"y\":{\"field\":\"y\"}},\"id\":\"54cd1ce6-d510-4c29-88d3-7b15c723fb1f\",\"type\":\"Circle\"},{\"attributes\":{},\"id\":\"9ddc7533-5693-49b3-bba1-7bdb844bd205\",\"type\":\"ResetTool\"},{\"attributes\":{\"source\":{\"id\":\"9be7c7c5-4a5a-4d95-ba21-bbeb90029350\",\"type\":\"ColumnDataSource\"}},\"id\":\"e60b47cf-3205-4c54-8996-e83be7098961\",\"type\":\"CDSView\"},{\"attributes\":{\"data_source\":{\"id\":\"e8b6115c-99ca-4a96-938e-6a3fd478fb04\",\"type\":\"ColumnDataSource\"},\"glyph\":{\"id\":\"92de15ad-cd89-4fa0-9954-2f65984af674\",\"type\":\"Circle\"},\"hover_glyph\":null,\"muted_glyph\":null,\"nonselection_glyph\":{\"id\":\"54cd1ce6-d510-4c29-88d3-7b15c723fb1f\",\"type\":\"Circle\"},\"selection_glyph\":null,\"view\":{\"id\":\"f8c4172d-db99-488c-b280-7a43553ae210\",\"type\":\"CDSView\"}},\"id\":\"a7c789d8-9fb7-47fc-a5a5-d403ded7f7ab\",\"type\":\"GlyphRenderer\"},{\"attributes\":{\"line_alpha\":0.1,\"line_color\":\"#1f77b4\",\"line_dash\":[6],\"x\":{\"field\":\"x\"},\"y\":{\"field\":\"y\"}},\"id\":\"b37629da-60af-49f9-bd5c-fadfaafa87ef\",\"type\":\"Line\"},{\"attributes\":{\"line_color\":\"#ff7f0e\",\"line_dash\":[6],\"x\":{\"field\":\"x\"},\"y\":{\"field\":\"y\"}},\"id\":\"56d197a3-22dc-4040-92ea-8df9ca55e688\",\"type\":\"Line\"},{\"attributes\":{\"label\":{\"value\":\"skip_even\"},\"renderers\":[{\"id\":\"d58014f8-fef4-45c0-ae26-2be95343fc8e\",\"type\":\"GlyphRenderer\"},{\"id\":\"b9fc60d8-3bc0-4d1e-8fb0-bf06e2499587\",\"type\":\"GlyphRenderer\"}]},\"id\":\"cb36ee0a-af88-4d2a-b0ea-de444722441b\",\"type\":\"LegendItem\"},{\"attributes\":{\"data_source\":{\"id\":\"a29272fc-5343-4a20-9c99-50fa6df33535\",\"type\":\"ColumnDataSource\"},\"glyph\":{\"id\":\"6a3d25a1-9f34-49f3-bc9f-dd902d499770\",\"type\":\"Line\"},\"hover_glyph\":null,\"muted_glyph\":null,\"nonselection_glyph\":{\"id\":\"6c962d59-262e-46a2-adf1-84bfe2dd155e\",\"type\":\"Line\"},\"selection_glyph\":null,\"view\":{\"id\":\"c121724e-a0d8-47d6-be67-416b7e74cf74\",\"type\":\"CDSView\"}},\"id\":\"08876abe-dfd6-425c-a19a-03132fa3cb59\",\"type\":\"GlyphRenderer\"},{\"attributes\":{\"data_source\":{\"id\":\"df88a290-661d-4ae6-ad25-7ced84d670a6\",\"type\":\"ColumnDataSource\"},\"glyph\":{\"id\":\"b43b2f90-8596-436b-b483-5d18a4b46079\",\"type\":\"Circle\"},\"hover_glyph\":null,\"muted_glyph\":null,\"nonselection_glyph\":{\"id\":\"99628c8d-5d43-4b69-ba19-c359ee4e408b\",\"type\":\"Circle\"},\"selection_glyph\":null,\"view\":{\"id\":\"9d4921b6-5bf0-47a0-adb1-e8f9ad3ee7e9\",\"type\":\"CDSView\"}},\"id\":\"86ff109e-075d-4f10-8945-c3c741f5df12\",\"type\":\"GlyphRenderer\"},{\"attributes\":{},\"id\":\"82a60d9a-0058-419a-b71f-49631b239ae8\",\"type\":\"HelpTool\"},{\"attributes\":{\"callback\":null,\"column_names\":[\"x\",\"y\"],\"data\":{\"x\":[1,2,5,10,20,50,100,200,500,1000,2000,5000],\"y\":[1.928683486767113e-06,5.348356207832694e-06,1.0088062263093889e-05,1.932975254021585e-05,4.36724309111014e-05,0.00019079910591244696,0.0007820247969357296,0.0036099665006622673,0.029195572207099757,0.15714686589781196,0.6617195535992506,4.328593240285991]}},\"id\":\"7ce41eca-2be4-4601-bf49-7f0cf28d5710\",\"type\":\"ColumnDataSource\"},{\"attributes\":{\"source\":{\"id\":\"df88a290-661d-4ae6-ad25-7ced84d670a6\",\"type\":\"ColumnDataSource\"}},\"id\":\"9d4921b6-5bf0-47a0-adb1-e8f9ad3ee7e9\",\"type\":\"CDSView\"},{\"attributes\":{\"callback\":null,\"column_names\":[\"x\",\"y\"],\"data\":{\"x\":[1,2,5,10,20,50,100,200,500,1000,2000],\"y\":[3.91571840737015e-06,7.2433939203619956e-06,1.4987080940045414e-05,3.0398783273994922e-05,7.70214624935761e-05,0.0003747431433293968,0.0015680668415734545,0.00739021853893064,0.05986085925658699,0.29679561396478676,1.2218749636859867]}},\"id\":\"df88a290-661d-4ae6-ad25-7ced84d670a6\",\"type\":\"ColumnDataSource\"},{\"attributes\":{\"line_alpha\":0.1,\"line_color\":\"#1f77b4\",\"line_dash\":[6],\"x\":{\"field\":\"x\"},\"y\":{\"field\":\"y\"}},\"id\":\"66e9b4d9-bfee-4e3e-8685-97af744582a7\",\"type\":\"Line\"},{\"attributes\":{\"source\":{\"id\":\"e8b6115c-99ca-4a96-938e-6a3fd478fb04\",\"type\":\"ColumnDataSource\"}},\"id\":\"f8c4172d-db99-488c-b280-7a43553ae210\",\"type\":\"CDSView\"},{\"attributes\":{\"callback\":null,\"start\":1},\"id\":\"de9f2089-2b1a-4a38-a14b-9ee6ce2f09d7\",\"type\":\"DataRange1d\"},{\"attributes\":{\"fill_color\":{\"value\":\"#9467bd\"},\"line_color\":{\"value\":\"#9467bd\"},\"x\":{\"field\":\"x\"},\"y\":{\"field\":\"y\"}},\"id\":\"df6b6d16-3d5d-4827-aba8-b2e2195bf437\",\"type\":\"Circle\"},{\"attributes\":{\"source\":{\"id\":\"1c036537-59a5-4583-9a48-96e15b360eed\",\"type\":\"ColumnDataSource\"}},\"id\":\"9ae55e38-d77f-4113-893f-c7926080925e\",\"type\":\"CDSView\"},{\"attributes\":{\"line_color\":\"#e377c2\",\"line_dash\":[6],\"x\":{\"field\":\"x\"},\"y\":{\"field\":\"y\"}},\"id\":\"60525efe-fb7f-471f-9800-73db12f03fe8\",\"type\":\"Line\"},{\"attributes\":{\"below\":[{\"id\":\"777f6e2e-b903-45b7-82a3-bbfce56cfcf2\",\"type\":\"LogAxis\"}],\"left\":[{\"id\":\"c702f942-eddd-4a82-8590-2c9c09a80752\",\"type\":\"LogAxis\"}],\"plot_height\":400,\"plot_width\":800,\"renderers\":[{\"id\":\"777f6e2e-b903-45b7-82a3-bbfce56cfcf2\",\"type\":\"LogAxis\"},{\"id\":\"80009434-517a-46de-84fe-c8ee48b2b183\",\"type\":\"Grid\"},{\"id\":\"c702f942-eddd-4a82-8590-2c9c09a80752\",\"type\":\"LogAxis\"},{\"id\":\"6f382439-dc4d-43e1-ae0a-a03731a9fb88\",\"type\":\"Grid\"},{\"id\":\"2d1c9c44-944a-4018-88d1-01c37091d0e1\",\"type\":\"BoxAnnotation\"},{\"id\":\"aee469f9-e295-4803-949b-b10843cc83fb\",\"type\":\"Legend\"},{\"id\":\"4167a737-6fa8-47a0-a572-d6e8cf596f29\",\"type\":\"GlyphRenderer\"},{\"id\":\"86ff109e-075d-4f10-8945-c3c741f5df12\",\"type\":\"GlyphRenderer\"},{\"id\":\"d58014f8-fef4-45c0-ae26-2be95343fc8e\",\"type\":\"GlyphRenderer\"},{\"id\":\"b9fc60d8-3bc0-4d1e-8fb0-bf06e2499587\",\"type\":\"GlyphRenderer\"},{\"id\":\"3ded61f8-c9f1-456f-85ce-d627a0a823e0\",\"type\":\"GlyphRenderer\"},{\"id\":\"3b22838c-3d25-454a-a290-5f071f7b87ee\",\"type\":\"GlyphRenderer\"},{\"id\":\"49169156-f8b1-4b38-8827-038c3bd8b252\",\"type\":\"GlyphRenderer\"},{\"id\":\"ce4b5dcc-3a0b-4972-ae3e-c8b72f0c8941\",\"type\":\"GlyphRenderer\"},{\"id\":\"08876abe-dfd6-425c-a19a-03132fa3cb59\",\"type\":\"GlyphRenderer\"},{\"id\":\"afdf1bea-31ee-4480-ab65-a7f1f2700e45\",\"type\":\"GlyphRenderer\"},{\"id\":\"362ea823-8067-4f81-a5fb-0c28e96417d2\",\"type\":\"GlyphRenderer\"},{\"id\":\"5299f9e2-29ca-4cc0-8f48-7c09eed4cba8\",\"type\":\"GlyphRenderer\"},{\"id\":\"c173d0d9-14ff-4da8-9dc8-e363ba46c986\",\"type\":\"GlyphRenderer\"},{\"id\":\"bd63a3d1-9729-4568-b03c-e182d8bbbc6e\",\"type\":\"GlyphRenderer\"},{\"id\":\"b4dfb998-e143-4330-af6c-3d44ddc0a2c2\",\"type\":\"GlyphRenderer\"},{\"id\":\"a7c789d8-9fb7-47fc-a5a5-d403ded7f7ab\",\"type\":\"GlyphRenderer\"}],\"title\":{\"id\":\"c265ca20-ae5f-4222-9c8d-99bdf3560dae\",\"type\":\"Title\"},\"toolbar\":{\"id\":\"87ad8988-4c7d-411f-a9d8-fdd9f35553fe\",\"type\":\"Toolbar\"},\"toolbar_location\":\"above\",\"x_range\":{\"id\":\"de9f2089-2b1a-4a38-a14b-9ee6ce2f09d7\",\"type\":\"DataRange1d\"},\"x_scale\":{\"id\":\"546cdac5-07c6-47f2-b48c-d81e1e41f522\",\"type\":\"LogScale\"},\"y_range\":{\"id\":\"913527fd-e737-4e6c-8701-801306f63ecd\",\"type\":\"Range1d\"},\"y_scale\":{\"id\":\"ed13da5f-a8ff-4836-80c1-6420fe31cee6\",\"type\":\"LogScale\"}},\"id\":\"c39087ec-767b-40d4-95ec-2a83162e6b92\",\"subtype\":\"Figure\",\"type\":\"Plot\"},{\"attributes\":{\"data_source\":{\"id\":\"08cbf653-5745-4b84-aa00-0085df897107\",\"type\":\"ColumnDataSource\"},\"glyph\":{\"id\":\"60525efe-fb7f-471f-9800-73db12f03fe8\",\"type\":\"Line\"},\"hover_glyph\":null,\"muted_glyph\":null,\"nonselection_glyph\":{\"id\":\"66e9b4d9-bfee-4e3e-8685-97af744582a7\",\"type\":\"Line\"},\"selection_glyph\":null,\"view\":{\"id\":\"e33173c9-a645-445a-8d79-8acc5f65add7\",\"type\":\"CDSView\"}},\"id\":\"c173d0d9-14ff-4da8-9dc8-e363ba46c986\",\"type\":\"GlyphRenderer\"},{\"attributes\":{\"plot\":null,\"text\":\"Timing\"},\"id\":\"c265ca20-ae5f-4222-9c8d-99bdf3560dae\",\"type\":\"Title\"},{\"attributes\":{\"callback\":null,\"start\":1e-06},\"id\":\"913527fd-e737-4e6c-8701-801306f63ecd\",\"type\":\"Range1d\"},{\"attributes\":{\"active_drag\":\"auto\",\"active_inspect\":\"auto\",\"active_scroll\":\"auto\",\"active_tap\":\"auto\",\"tools\":[{\"id\":\"0078480f-7dfa-46a3-80c0-bca2ba14f31a\",\"type\":\"PanTool\"},{\"id\":\"1824e2b9-8662-401f-9280-f57fcb176ca7\",\"type\":\"WheelZoomTool\"},{\"id\":\"6fdd3188-5a59-422c-baac-8ab3e814fe4b\",\"type\":\"BoxZoomTool\"},{\"id\":\"222213fc-a5ec-4643-9801-ae847883b0cd\",\"type\":\"SaveTool\"},{\"id\":\"9ddc7533-5693-49b3-bba1-7bdb844bd205\",\"type\":\"ResetTool\"},{\"id\":\"82a60d9a-0058-419a-b71f-49631b239ae8\",\"type\":\"HelpTool\"}]},\"id\":\"87ad8988-4c7d-411f-a9d8-fdd9f35553fe\",\"type\":\"Toolbar\"},{\"attributes\":{\"callback\":null,\"column_names\":[\"x\",\"y\"],\"data\":{\"x\":[1,2,5,10,20,50,100,200,500,1000,2000,5000,10000,20000,50000],\"y\":[2.0776950987055897e-06,4.807374207302928e-06,9.304063278250396e-06,1.4982775319367647e-05,2.604048640932888e-05,6.168118445202709e-05,0.00014151587442029267,0.000367499552667141,0.0011843392433365807,0.0030475399282295255,0.00832839964015875,0.03472050534677691,0.09592763604538049,0.25508131872164086,0.8234529124136316]}},\"id\":\"ba97bf97-22ec-4904-893b-cf9c86329b27\",\"type\":\"ColumnDataSource\"},{\"attributes\":{\"num_minor_ticks\":10},\"id\":\"b222617d-6f4d-41c8-b03a-e5cc7c73e6f3\",\"type\":\"LogTicker\"},{\"attributes\":{\"fill_alpha\":{\"value\":0.1},\"fill_color\":{\"value\":\"#1f77b4\"},\"line_alpha\":{\"value\":0.1},\"line_color\":{\"value\":\"#1f77b4\"},\"x\":{\"field\":\"x\"},\"y\":{\"field\":\"y\"}},\"id\":\"b2c68473-ad39-4f89-99f3-e7d114c85667\",\"type\":\"Circle\"},{\"attributes\":{\"line_alpha\":0.1,\"line_color\":\"#1f77b4\",\"line_dash\":[6],\"x\":{\"field\":\"x\"},\"y\":{\"field\":\"y\"}},\"id\":\"991a365d-9435-4e2d-8993-d711df2cfceb\",\"type\":\"Line\"},{\"attributes\":{\"num_minor_ticks\":10},\"id\":\"6c7a49b1-350e-4222-9d30-ed70a2d6d05e\",\"type\":\"LogTicker\"},{\"attributes\":{\"fill_alpha\":{\"value\":0.1},\"fill_color\":{\"value\":\"#1f77b4\"},\"line_alpha\":{\"value\":0.1},\"line_color\":{\"value\":\"#1f77b4\"},\"x\":{\"field\":\"x\"},\"y\":{\"field\":\"y\"}},\"id\":\"e3dffd24-d42a-4669-806d-71fa4328cae5\",\"type\":\"Circle\"},{\"attributes\":{\"plot\":{\"id\":\"c39087ec-767b-40d4-95ec-2a83162e6b92\",\"subtype\":\"Figure\",\"type\":\"Plot\"},\"ticker\":{\"id\":\"b222617d-6f4d-41c8-b03a-e5cc7c73e6f3\",\"type\":\"LogTicker\"}},\"id\":\"80009434-517a-46de-84fe-c8ee48b2b183\",\"type\":\"Grid\"},{\"attributes\":{\"callback\":null,\"column_names\":[\"x\",\"y\"],\"data\":{\"x\":[1,2,5,10,20,50,100,200,500,1000,2000,5000,10000,20000,50000],\"y\":[2.0776950987055897e-06,4.807374207302928e-06,9.304063278250396e-06,1.4982775319367647e-05,2.604048640932888e-05,6.168118445202709e-05,0.00014151587442029267,0.000367499552667141,0.0011843392433365807,0.0030475399282295255,0.00832839964015875,0.03472050534677691,0.09592763604538049,0.25508131872164086,0.8234529124136316]}},\"id\":\"a29272fc-5343-4a20-9c99-50fa6df33535\",\"type\":\"ColumnDataSource\"},{\"attributes\":{},\"id\":\"546cdac5-07c6-47f2-b48c-d81e1e41f522\",\"type\":\"LogScale\"},{\"attributes\":{\"axis_label\":\"Primes\",\"formatter\":{\"id\":\"68394291-b031-4488-81b6-5392538e3d54\",\"type\":\"NumeralTickFormatter\"},\"plot\":{\"id\":\"c39087ec-767b-40d4-95ec-2a83162e6b92\",\"subtype\":\"Figure\",\"type\":\"Plot\"},\"ticker\":{\"id\":\"b222617d-6f4d-41c8-b03a-e5cc7c73e6f3\",\"type\":\"LogTicker\"}},\"id\":\"777f6e2e-b903-45b7-82a3-bbfce56cfcf2\",\"type\":\"LogAxis\"},{\"attributes\":{},\"id\":\"ed13da5f-a8ff-4836-80c1-6420fe31cee6\",\"type\":\"LogScale\"},{\"attributes\":{\"axis_label\":\"Seconds\",\"formatter\":{\"id\":\"b5214d45-4a12-4e63-a424-355c6275c28b\",\"type\":\"LogTickFormatter\"},\"plot\":{\"id\":\"c39087ec-767b-40d4-95ec-2a83162e6b92\",\"subtype\":\"Figure\",\"type\":\"Plot\"},\"ticker\":{\"id\":\"6c7a49b1-350e-4222-9d30-ed70a2d6d05e\",\"type\":\"LogTicker\"}},\"id\":\"c702f942-eddd-4a82-8590-2c9c09a80752\",\"type\":\"LogAxis\"},{\"attributes\":{\"source\":{\"id\":\"ba97bf97-22ec-4904-893b-cf9c86329b27\",\"type\":\"ColumnDataSource\"}},\"id\":\"fbe26f5d-674c-4e75-9c22-5f19fbfbadb3\",\"type\":\"CDSView\"},{\"attributes\":{\"dimension\":1,\"plot\":{\"id\":\"c39087ec-767b-40d4-95ec-2a83162e6b92\",\"subtype\":\"Figure\",\"type\":\"Plot\"},\"ticker\":{\"id\":\"6c7a49b1-350e-4222-9d30-ed70a2d6d05e\",\"type\":\"LogTicker\"}},\"id\":\"6f382439-dc4d-43e1-ae0a-a03731a9fb88\",\"type\":\"Grid\"},{\"attributes\":{\"line_color\":\"#d62728\",\"line_dash\":[6],\"x\":{\"field\":\"x\"},\"y\":{\"field\":\"y\"}},\"id\":\"720e76e8-92c3-472d-88e7-51e39a15a0ab\",\"type\":\"Line\"},{\"attributes\":{\"data_source\":{\"id\":\"1c036537-59a5-4583-9a48-96e15b360eed\",\"type\":\"ColumnDataSource\"},\"glyph\":{\"id\":\"140141cb-fac7-4f8e-95cf-f660ae9e095a\",\"type\":\"Line\"},\"hover_glyph\":null,\"muted_glyph\":null,\"nonselection_glyph\":{\"id\":\"991a365d-9435-4e2d-8993-d711df2cfceb\",\"type\":\"Line\"},\"selection_glyph\":null,\"view\":{\"id\":\"9ae55e38-d77f-4113-893f-c7926080925e\",\"type\":\"CDSView\"}},\"id\":\"4167a737-6fa8-47a0-a572-d6e8cf596f29\",\"type\":\"GlyphRenderer\"},{\"attributes\":{\"fill_alpha\":{\"value\":0.1},\"fill_color\":{\"value\":\"#1f77b4\"},\"line_alpha\":{\"value\":0.1},\"line_color\":{\"value\":\"#1f77b4\"},\"x\":{\"field\":\"x\"},\"y\":{\"field\":\"y\"}},\"id\":\"18d0576b-8356-42b5-8bb3-c72143ddac2f\",\"type\":\"Circle\"},{\"attributes\":{\"ticker\":null},\"id\":\"b5214d45-4a12-4e63-a424-355c6275c28b\",\"type\":\"LogTickFormatter\"},{\"attributes\":{\"source\":{\"id\":\"5ada47ab-5095-43a6-9581-6ab185a2a4ca\",\"type\":\"ColumnDataSource\"}},\"id\":\"0d0e099f-0f87-4107-8f7b-2d9f06764c91\",\"type\":\"CDSView\"},{\"attributes\":{\"callback\":null,\"column_names\":[\"x\",\"y\"],\"data\":{\"x\":[1,2,5,10,20,50,100,200,500,1000,2000],\"y\":[3.91571840737015e-06,7.2433939203619956e-06,1.4987080940045414e-05,3.0398783273994922e-05,7.70214624935761e-05,0.0003747431433293968,0.0015680668415734545,0.00739021853893064,0.05986085925658699,0.29679561396478676,1.2218749636859867]}},\"id\":\"1c036537-59a5-4583-9a48-96e15b360eed\",\"type\":\"ColumnDataSource\"},{\"attributes\":{\"data_source\":{\"id\":\"5ada47ab-5095-43a6-9581-6ab185a2a4ca\",\"type\":\"ColumnDataSource\"},\"glyph\":{\"id\":\"720e76e8-92c3-472d-88e7-51e39a15a0ab\",\"type\":\"Line\"},\"hover_glyph\":null,\"muted_glyph\":null,\"nonselection_glyph\":{\"id\":\"58ae8b8f-6542-42f2-a7c1-2f60b1e468ba\",\"type\":\"Line\"},\"selection_glyph\":null,\"view\":{\"id\":\"0d0e099f-0f87-4107-8f7b-2d9f06764c91\",\"type\":\"CDSView\"}},\"id\":\"49169156-f8b1-4b38-8827-038c3bd8b252\",\"type\":\"GlyphRenderer\"},{\"attributes\":{},\"id\":\"0078480f-7dfa-46a3-80c0-bca2ba14f31a\",\"type\":\"PanTool\"},{\"attributes\":{\"data_source\":{\"id\":\"ba97bf97-22ec-4904-893b-cf9c86329b27\",\"type\":\"ColumnDataSource\"},\"glyph\":{\"id\":\"df6b6d16-3d5d-4827-aba8-b2e2195bf437\",\"type\":\"Circle\"},\"hover_glyph\":null,\"muted_glyph\":null,\"nonselection_glyph\":{\"id\":\"18d0576b-8356-42b5-8bb3-c72143ddac2f\",\"type\":\"Circle\"},\"selection_glyph\":null,\"view\":{\"id\":\"fbe26f5d-674c-4e75-9c22-5f19fbfbadb3\",\"type\":\"CDSView\"}},\"id\":\"afdf1bea-31ee-4480-ab65-a7f1f2700e45\",\"type\":\"GlyphRenderer\"},{\"attributes\":{\"bottom_units\":\"screen\",\"fill_alpha\":{\"value\":0.5},\"fill_color\":{\"value\":\"lightgrey\"},\"left_units\":\"screen\",\"level\":\"overlay\",\"line_alpha\":{\"value\":1.0},\"line_color\":{\"value\":\"black\"},\"line_dash\":[4,4],\"line_width\":{\"value\":2},\"plot\":null,\"render_mode\":\"css\",\"right_units\":\"screen\",\"top_units\":\"screen\"},\"id\":\"2d1c9c44-944a-4018-88d1-01c37091d0e1\",\"type\":\"BoxAnnotation\"},{\"attributes\":{\"callback\":null,\"column_names\":[\"x\",\"y\"],\"data\":{\"x\":[1,2,5,10,20,50,100,200,500,1000,2000,5000,10000,20000,50000,100000,200000,500000],\"y\":[5.6007137754932045e-06,5.7226879289373755e-06,7.333701360039413e-06,1.1411700979806483e-05,1.7947693704627456e-05,3.9022708660922946e-05,9.826669876929373e-05,0.0001914446783484891,0.0005650467082159593,0.0012503447086783127,0.0027368506725179032,0.007767140692449175,0.017164162682020104,0.04116779769712593,0.11953361571242567,0.2658971406944329,0.501684551681974,1.3743776777136372]}},\"id\":\"bd6bd7f5-257d-4015-8926-a2d4d5557bad\",\"type\":\"ColumnDataSource\"},{\"attributes\":{\"overlay\":{\"id\":\"2d1c9c44-944a-4018-88d1-01c37091d0e1\",\"type\":\"BoxAnnotation\"}},\"id\":\"6fdd3188-5a59-422c-baac-8ab3e814fe4b\",\"type\":\"BoxZoomTool\"},{\"attributes\":{\"label\":{\"value\":\"to_sqrt\"},\"renderers\":[{\"id\":\"3ded61f8-c9f1-456f-85ce-d627a0a823e0\",\"type\":\"GlyphRenderer\"},{\"id\":\"3b22838c-3d25-454a-a290-5f071f7b87ee\",\"type\":\"GlyphRenderer\"}]},\"id\":\"35ebfe58-57d3-47a9-864f-65eba7e7b3ab\",\"type\":\"LegendItem\"},{\"attributes\":{\"line_alpha\":0.1,\"line_color\":\"#1f77b4\",\"line_dash\":[6],\"x\":{\"field\":\"x\"},\"y\":{\"field\":\"y\"}},\"id\":\"58ae8b8f-6542-42f2-a7c1-2f60b1e468ba\",\"type\":\"Line\"},{\"attributes\":{},\"id\":\"222213fc-a5ec-4643-9801-ae847883b0cd\",\"type\":\"SaveTool\"},{\"attributes\":{\"format\":\"0[.]0 a\"},\"id\":\"68394291-b031-4488-81b6-5392538e3d54\",\"type\":\"NumeralTickFormatter\"},{\"attributes\":{},\"id\":\"1824e2b9-8662-401f-9280-f57fcb176ca7\",\"type\":\"WheelZoomTool\"},{\"attributes\":{\"fill_color\":{\"value\":\"#d62728\"},\"line_color\":{\"value\":\"#d62728\"},\"x\":{\"field\":\"x\"},\"y\":{\"field\":\"y\"}},\"id\":\"3e853927-45bc-4c32-969c-0c98f2e508b0\",\"type\":\"Circle\"},{\"attributes\":{\"source\":{\"id\":\"056dde2b-4a63-47e3-ad3e-6652289eb89e\",\"type\":\"ColumnDataSource\"}},\"id\":\"5f9d0686-c95d-4835-a664-b568695b43cc\",\"type\":\"CDSView\"},{\"attributes\":{\"label\":{\"value\":\"check_primes\"},\"renderers\":[{\"id\":\"49169156-f8b1-4b38-8827-038c3bd8b252\",\"type\":\"GlyphRenderer\"},{\"id\":\"ce4b5dcc-3a0b-4972-ae3e-c8b72f0c8941\",\"type\":\"GlyphRenderer\"}]},\"id\":\"81d05302-7076-4fde-99e3-15b0f8160a7c\",\"type\":\"LegendItem\"},{\"attributes\":{\"line_color\":\"#1f77b4\",\"line_dash\":[6],\"x\":{\"field\":\"x\"},\"y\":{\"field\":\"y\"}},\"id\":\"140141cb-fac7-4f8e-95cf-f660ae9e095a\",\"type\":\"Line\"},{\"attributes\":{\"callback\":null,\"column_names\":[\"x\",\"y\"],\"data\":{\"x\":[1,2,5,10,20,50,100,200,500,1000,2000,5000,10000],\"y\":[1.6776920529082417e-06,3.437398700043559e-06,6.455089314840734e-06,1.2009789934381842e-05,2.3841459187678994e-05,8.453016518615187e-05,0.00027960187930148095,0.0010557575873099267,0.006852055275230668,0.029649630992207673,0.13802742869767826,0.7851034203986638,3.083855590078165]}},\"id\":\"5ada47ab-5095-43a6-9581-6ab185a2a4ca\",\"type\":\"ColumnDataSource\"},{\"attributes\":{\"callback\":null,\"column_names\":[\"x\",\"y\"],\"data\":{\"x\":[1,2,5,10,20,50,100,200,500,1000,2000,5000,10000],\"y\":[1.6776920529082417e-06,3.437398700043559e-06,6.455089314840734e-06,1.2009789934381842e-05,2.3841459187678994e-05,8.453016518615187e-05,0.00027960187930148095,0.0010557575873099267,0.006852055275230668,0.029649630992207673,0.13802742869767826,0.7851034203986638,3.083855590078165]}},\"id\":\"a3bcb44a-6f58-4e53-b0b8-c30fc31e01d6\",\"type\":\"ColumnDataSource\"},{\"attributes\":{\"callback\":null,\"column_names\":[\"x\",\"y\"],\"data\":{\"x\":[1,2,5,10,20,50,100,200,500,1000,2000,5000,10000,20000,50000,100000,200000,500000],\"y\":[5.6007137754932045e-06,5.7226879289373755e-06,7.333701360039413e-06,1.1411700979806483e-05,1.7947693704627456e-05,3.9022708660922946e-05,9.826669876929373e-05,0.0001914446783484891,0.0005650467082159593,0.0012503447086783127,0.0027368506725179032,0.007767140692449175,0.017164162682020104,0.04116779769712593,0.11953361571242567,0.2658971406944329,0.501684551681974,1.3743776777136372]}},\"id\":\"30ed5b97-adb7-4467-b788-d5a847b26daf\",\"type\":\"ColumnDataSource\"}],\"root_ids\":[\"c39087ec-767b-40d4-95ec-2a83162e6b92\"]},\"title\":\"Bokeh Application\",\"version\":\"0.12.14\"}};\n",
       "  var render_items = [{\"docid\":\"b0698bd7-c1f0-4f23-909c-238536a10360\",\"elementid\":\"68093af5-f26c-42b0-9873-29f6b00224d2\",\"modelid\":\"c39087ec-767b-40d4-95ec-2a83162e6b92\",\"notebook_comms_target\":\"5018bf58-109b-4ffe-a936-f8301604445f\"}];\n",
       "  root.Bokeh.embed.embed_items_notebook(docs_json, render_items);\n",
       "\n",
       "  }\n",
       "  if (root.Bokeh !== undefined) {\n",
       "    embed_document(root);\n",
       "  } else {\n",
       "    var attempts = 0;\n",
       "    var timer = setInterval(function(root) {\n",
       "      if (root.Bokeh !== undefined) {\n",
       "        embed_document(root);\n",
       "        clearInterval(timer);\n",
       "      }\n",
       "      attempts++;\n",
       "      if (attempts > 100) {\n",
       "        console.log(\"Bokeh: ERROR: Unable to run BokehJS code because BokehJS library is missing\")\n",
       "        clearInterval(timer);\n",
       "      }\n",
       "    }, 10, root)\n",
       "  }\n",
       "})(window);"
      ],
      "application/vnd.bokehjs_exec.v0+json": ""
     },
     "metadata": {
      "application/vnd.bokehjs_exec.v0+json": {
       "id": "c39087ec-767b-40d4-95ec-2a83162e6b92"
      }
     },
     "output_type": "display_data"
    }
   ],
   "source": [
    "timing_plot(improved_sieve)"
   ]
  },
  {
   "cell_type": "code",
   "execution_count": 21,
   "metadata": {
    "collapsed": true,
    "slideshow": {
     "slide_type": "skip"
    }
   },
   "outputs": [],
   "source": [
    "import heapq\n",
    "from itertools import count\n",
    "\n",
    "def priority_queue():\n",
    "    yield 2\n",
    "    yield 3\n",
    "    state = [(9, 2 * 3)]\n",
    "    for candidate in count(5, 2):\n",
    "        #print('dbg', candidate, state[0])\n",
    "        if candidate == state[0][0]:\n",
    "            while candidate == state[0][0]:\n",
    "                mult, inc = state[0]\n",
    "                heapq.heapreplace(state, (mult + inc, inc))\n",
    "        else:\n",
    "            yield candidate\n",
    "            heapq.heappush(state, (candidate * candidate, 2 * candidate))"
   ]
  },
  {
   "cell_type": "code",
   "execution_count": 22,
   "metadata": {
    "slideshow": {
     "slide_type": "skip"
    }
   },
   "outputs": [
    {
     "data": {
      "text/html": [
       "\n",
       "<div class=\"bk-root\">\n",
       "    <div class=\"bk-plotdiv\" id=\"0775b62d-87d9-4088-93c7-13e85dd6629c\"></div>\n",
       "</div>"
      ]
     },
     "metadata": {},
     "output_type": "display_data"
    },
    {
     "data": {
      "application/javascript": [
       "(function(root) {\n",
       "  function embed_document(root) {\n",
       "    \n",
       "  var docs_json = {\"ff7fe002-4cfb-4b2c-8664-8d1d2d26fe74\":{\"roots\":{\"references\":[{\"attributes\":{\"source\":{\"id\":\"156c822e-5729-4a6e-8842-eb4d30718c28\",\"type\":\"ColumnDataSource\"}},\"id\":\"6a1a5dfe-f417-41bb-b9cb-56653a4d38d9\",\"type\":\"CDSView\"},{\"attributes\":{\"data_source\":{\"id\":\"b9341ead-45ce-4342-948e-daec3b85b345\",\"type\":\"ColumnDataSource\"},\"glyph\":{\"id\":\"4ee6263b-9d59-4eba-99c6-717fc6be7fed\",\"type\":\"Circle\"},\"hover_glyph\":null,\"muted_glyph\":null,\"nonselection_glyph\":{\"id\":\"8d8c54fe-3351-4793-84e6-8db43555643c\",\"type\":\"Circle\"},\"selection_glyph\":null,\"view\":{\"id\":\"84a9c7ab-49fa-47b2-9165-ba0292e95791\",\"type\":\"CDSView\"}},\"id\":\"7b1ff9f7-1c55-4115-9ac8-5bda842d953c\",\"type\":\"GlyphRenderer\"},{\"attributes\":{\"data_source\":{\"id\":\"156c822e-5729-4a6e-8842-eb4d30718c28\",\"type\":\"ColumnDataSource\"},\"glyph\":{\"id\":\"b508ec5f-7321-4ae4-82b2-c0a3651226e4\",\"type\":\"Circle\"},\"hover_glyph\":null,\"muted_glyph\":null,\"nonselection_glyph\":{\"id\":\"6e0ac0e8-585e-436a-a425-0a71cb1748e6\",\"type\":\"Circle\"},\"selection_glyph\":null,\"view\":{\"id\":\"6a1a5dfe-f417-41bb-b9cb-56653a4d38d9\",\"type\":\"CDSView\"}},\"id\":\"24919d9b-c309-423c-9c43-f8b8e0217994\",\"type\":\"GlyphRenderer\"},{\"attributes\":{\"line_alpha\":0.1,\"line_color\":\"#1f77b4\",\"line_dash\":[6],\"x\":{\"field\":\"x\"},\"y\":{\"field\":\"y\"}},\"id\":\"6b42c121-e420-497d-a3a8-10b7336c227f\",\"type\":\"Line\"},{\"attributes\":{\"source\":{\"id\":\"b9341ead-45ce-4342-948e-daec3b85b345\",\"type\":\"ColumnDataSource\"}},\"id\":\"84a9c7ab-49fa-47b2-9165-ba0292e95791\",\"type\":\"CDSView\"},{\"attributes\":{\"label\":{\"value\":\"to_sqrt\"},\"renderers\":[{\"id\":\"48e0a454-f327-4fee-9090-11fc3a350f8d\",\"type\":\"GlyphRenderer\"},{\"id\":\"24919d9b-c309-423c-9c43-f8b8e0217994\",\"type\":\"GlyphRenderer\"}]},\"id\":\"def11948-18d5-4cf3-a418-728261f4005b\",\"type\":\"LegendItem\"},{\"attributes\":{\"line_color\":\"#2ca02c\",\"line_dash\":[6],\"x\":{\"field\":\"x\"},\"y\":{\"field\":\"y\"}},\"id\":\"007a94ae-4f97-45e9-8aa6-80231ce646c2\",\"type\":\"Line\"},{\"attributes\":{\"format\":\"0[.]0 a\"},\"id\":\"10b07010-825c-4ad6-983f-7e9c44fdf28c\",\"type\":\"NumeralTickFormatter\"},{\"attributes\":{\"fill_alpha\":{\"value\":0.1},\"fill_color\":{\"value\":\"#1f77b4\"},\"line_alpha\":{\"value\":0.1},\"line_color\":{\"value\":\"#1f77b4\"},\"x\":{\"field\":\"x\"},\"y\":{\"field\":\"y\"}},\"id\":\"dd310c8f-58f7-447a-b602-8b18d6270cbb\",\"type\":\"Circle\"},{\"attributes\":{\"callback\":null,\"column_names\":[\"x\",\"y\"],\"data\":{\"x\":[1,2,5,10,20,50,100,200,500,1000,2000,5000,10000],\"y\":[1.6776920529082417e-06,3.437398700043559e-06,6.455089314840734e-06,1.2009789934381842e-05,2.3841459187678994e-05,8.453016518615187e-05,0.00027960187930148095,0.0010557575873099267,0.006852055275230668,0.029649630992207673,0.13802742869767826,0.7851034203986638,3.083855590078165]}},\"id\":\"02e56bfb-e5e9-44d1-925f-540559e0139b\",\"type\":\"ColumnDataSource\"},{\"attributes\":{\"label\":{\"value\":\"sieve\"},\"renderers\":[{\"id\":\"ce2327de-316c-4ebb-85ae-7d936a5216e6\",\"type\":\"GlyphRenderer\"},{\"id\":\"88def0f5-8ba8-4247-9a61-fc0cec3e577b\",\"type\":\"GlyphRenderer\"}]},\"id\":\"986b26ad-90eb-4bc6-b085-9edfbf112116\",\"type\":\"LegendItem\"},{\"attributes\":{\"fill_color\":{\"value\":\"#2ca02c\"},\"line_color\":{\"value\":\"#2ca02c\"},\"x\":{\"field\":\"x\"},\"y\":{\"field\":\"y\"}},\"id\":\"b508ec5f-7321-4ae4-82b2-c0a3651226e4\",\"type\":\"Circle\"},{\"attributes\":{\"label\":{\"value\":\"first_try\"},\"renderers\":[{\"id\":\"e42bcf69-675d-4a92-847f-8df76a1fa07c\",\"type\":\"GlyphRenderer\"},{\"id\":\"1d19630c-f483-4684-ace6-c0caf26460e2\",\"type\":\"GlyphRenderer\"}]},\"id\":\"0d7ecd2a-33bf-4c29-889d-a96533853ff7\",\"type\":\"LegendItem\"},{\"attributes\":{\"fill_alpha\":{\"value\":0.1},\"fill_color\":{\"value\":\"#1f77b4\"},\"line_alpha\":{\"value\":0.1},\"line_color\":{\"value\":\"#1f77b4\"},\"x\":{\"field\":\"x\"},\"y\":{\"field\":\"y\"}},\"id\":\"6e0ac0e8-585e-436a-a425-0a71cb1748e6\",\"type\":\"Circle\"},{\"attributes\":{\"data_source\":{\"id\":\"2cf69756-40d1-4515-966d-2c09ee5fdd4b\",\"type\":\"ColumnDataSource\"},\"glyph\":{\"id\":\"cb98c208-02f4-4066-b373-cacfb389ad58\",\"type\":\"Circle\"},\"hover_glyph\":null,\"muted_glyph\":null,\"nonselection_glyph\":{\"id\":\"046902d6-a69e-4a52-a519-6da3b265929b\",\"type\":\"Circle\"},\"selection_glyph\":null,\"view\":{\"id\":\"65678740-5f8d-462d-a9b4-83093c74e51a\",\"type\":\"CDSView\"}},\"id\":\"1d19630c-f483-4684-ace6-c0caf26460e2\",\"type\":\"GlyphRenderer\"},{\"attributes\":{\"source\":{\"id\":\"2cf69756-40d1-4515-966d-2c09ee5fdd4b\",\"type\":\"ColumnDataSource\"}},\"id\":\"65678740-5f8d-462d-a9b4-83093c74e51a\",\"type\":\"CDSView\"},{\"attributes\":{\"callback\":null,\"column_names\":[\"x\",\"y\"],\"data\":{\"x\":[1,2,5,10,20,50,100,200,500,1000,2000,5000],\"y\":[1.928683486767113e-06,5.348356207832694e-06,1.0088062263093889e-05,1.932975254021585e-05,4.36724309111014e-05,0.00019079910591244696,0.0007820247969357296,0.0036099665006622673,0.029195572207099757,0.15714686589781196,0.6617195535992506,4.328593240285991]}},\"id\":\"421229f2-52b8-4502-95d7-5e0e5877ab75\",\"type\":\"ColumnDataSource\"},{\"attributes\":{\"callback\":null,\"column_names\":[\"x\",\"y\"],\"data\":{\"x\":[1,2,5,10,20,50,100,200,500,1000,2000,5000,10000,20000,50000],\"y\":[2.0776950987055897e-06,4.807374207302928e-06,9.304063278250396e-06,1.4982775319367647e-05,2.604048640932888e-05,6.168118445202709e-05,0.00014151587442029267,0.000367499552667141,0.0011843392433365807,0.0030475399282295255,0.00832839964015875,0.03472050534677691,0.09592763604538049,0.25508131872164086,0.8234529124136316]}},\"id\":\"ab4f028f-332f-482c-b1e7-509ceb1cf880\",\"type\":\"ColumnDataSource\"},{\"attributes\":{\"data_source\":{\"id\":\"a8345ccd-606f-4cc5-877b-dae366cc323e\",\"type\":\"ColumnDataSource\"},\"glyph\":{\"id\":\"504fa9f0-ddf5-461d-8956-9035b98faf36\",\"type\":\"Line\"},\"hover_glyph\":null,\"muted_glyph\":null,\"nonselection_glyph\":{\"id\":\"8b444ca5-0d7c-41cb-8c9d-5fb8e099a094\",\"type\":\"Line\"},\"selection_glyph\":null,\"view\":{\"id\":\"3cc04426-97f9-43c8-9d8d-f438c03d1a78\",\"type\":\"CDSView\"}},\"id\":\"c3626081-42bb-478e-96e8-721b08675548\",\"type\":\"GlyphRenderer\"},{\"attributes\":{\"source\":{\"id\":\"a8345ccd-606f-4cc5-877b-dae366cc323e\",\"type\":\"ColumnDataSource\"}},\"id\":\"3cc04426-97f9-43c8-9d8d-f438c03d1a78\",\"type\":\"CDSView\"},{\"attributes\":{\"label\":{\"value\":\"check_primes\"},\"renderers\":[{\"id\":\"537770e5-f125-4030-97a2-baded75b551c\",\"type\":\"GlyphRenderer\"},{\"id\":\"178c7200-173c-48aa-a832-66e7ebc97c97\",\"type\":\"GlyphRenderer\"}]},\"id\":\"82de14e9-ef84-4e97-8d82-7f6ec5edf06c\",\"type\":\"LegendItem\"},{\"attributes\":{\"source\":{\"id\":\"3d12309d-9604-45f3-bbc3-8c354e3562bc\",\"type\":\"ColumnDataSource\"}},\"id\":\"226756c5-2998-4ace-843a-62ba8ac5cb10\",\"type\":\"CDSView\"},{\"attributes\":{\"data_source\":{\"id\":\"3d12309d-9604-45f3-bbc3-8c354e3562bc\",\"type\":\"ColumnDataSource\"},\"glyph\":{\"id\":\"007a94ae-4f97-45e9-8aa6-80231ce646c2\",\"type\":\"Line\"},\"hover_glyph\":null,\"muted_glyph\":null,\"nonselection_glyph\":{\"id\":\"e0339a8a-5d4b-40df-bf72-ce780a7015f3\",\"type\":\"Line\"},\"selection_glyph\":null,\"view\":{\"id\":\"226756c5-2998-4ace-843a-62ba8ac5cb10\",\"type\":\"CDSView\"}},\"id\":\"48e0a454-f327-4fee-9090-11fc3a350f8d\",\"type\":\"GlyphRenderer\"},{\"attributes\":{\"line_alpha\":0.1,\"line_color\":\"#1f77b4\",\"line_dash\":[6],\"x\":{\"field\":\"x\"},\"y\":{\"field\":\"y\"}},\"id\":\"8b444ca5-0d7c-41cb-8c9d-5fb8e099a094\",\"type\":\"Line\"},{\"attributes\":{\"label\":{\"value\":\"skip_even\"},\"renderers\":[{\"id\":\"c3626081-42bb-478e-96e8-721b08675548\",\"type\":\"GlyphRenderer\"},{\"id\":\"1cf659e3-51df-4ae2-9d9c-a471b4cfb619\",\"type\":\"GlyphRenderer\"}]},\"id\":\"53900ae0-1ee6-4e0f-8e5f-78ea1e03588e\",\"type\":\"LegendItem\"},{\"attributes\":{\"line_color\":\"#ff7f0e\",\"line_dash\":[6],\"x\":{\"field\":\"x\"},\"y\":{\"field\":\"y\"}},\"id\":\"504fa9f0-ddf5-461d-8956-9035b98faf36\",\"type\":\"Line\"},{\"attributes\":{\"line_color\":\"#9467bd\",\"line_dash\":[6],\"x\":{\"field\":\"x\"},\"y\":{\"field\":\"y\"}},\"id\":\"de11508d-2618-4f14-82ca-50e5b30f3889\",\"type\":\"Line\"},{\"attributes\":{\"line_alpha\":0.1,\"line_color\":\"#1f77b4\",\"line_dash\":[6],\"x\":{\"field\":\"x\"},\"y\":{\"field\":\"y\"}},\"id\":\"895ca527-410a-4341-ae09-c6788fbbe434\",\"type\":\"Line\"},{\"attributes\":{\"callback\":null,\"column_names\":[\"x\",\"y\"],\"data\":{\"x\":[1,2,5,10,20,50,100,200,500,1000,2000,5000,10000,20000,50000],\"y\":[1.9457092275843024e-06,6.114398129284382e-06,1.1780100758187473e-05,2.2780797444283962e-05,4.293648235034198e-05,0.00011111817322671414,0.000251019851421006,0.0005885235581081361,0.0019095742475474255,0.004739756946219132,0.01221786662528757,0.046385250308085234,0.13627362401981372,0.3649428817105945,1.3061569034151035]}},\"id\":\"156c822e-5729-4a6e-8842-eb4d30718c28\",\"type\":\"ColumnDataSource\"},{\"attributes\":{\"data_source\":{\"id\":\"d47348eb-11bf-477e-bf7c-830df058d84e\",\"type\":\"ColumnDataSource\"},\"glyph\":{\"id\":\"221773a3-2cb0-42e1-ba1a-b7920191fb85\",\"type\":\"Circle\"},\"hover_glyph\":null,\"muted_glyph\":null,\"nonselection_glyph\":{\"id\":\"1c909f3e-d58a-4260-8729-75f5abcc6f8b\",\"type\":\"Circle\"},\"selection_glyph\":null,\"view\":{\"id\":\"2e3ec73b-af70-4315-b956-7120bd590427\",\"type\":\"CDSView\"}},\"id\":\"88def0f5-8ba8-4247-9a61-fc0cec3e577b\",\"type\":\"GlyphRenderer\"},{\"attributes\":{\"line_alpha\":0.1,\"line_color\":\"#1f77b4\",\"line_dash\":[6],\"x\":{\"field\":\"x\"},\"y\":{\"field\":\"y\"}},\"id\":\"e0339a8a-5d4b-40df-bf72-ce780a7015f3\",\"type\":\"Line\"},{\"attributes\":{\"callback\":null,\"column_names\":[\"x\",\"y\"],\"data\":{\"x\":[1,2,5,10,20,50,100,200,500,1000,2000,5000,10000,20000,50000],\"y\":[1.9457092275843024e-06,6.114398129284382e-06,1.1780100758187473e-05,2.2780797444283962e-05,4.293648235034198e-05,0.00011111817322671414,0.000251019851421006,0.0005885235581081361,0.0019095742475474255,0.004739756946219132,0.01221786662528757,0.046385250308085234,0.13627362401981372,0.3649428817105945,1.3061569034151035]}},\"id\":\"3d12309d-9604-45f3-bbc3-8c354e3562bc\",\"type\":\"ColumnDataSource\"},{\"attributes\":{\"line_color\":\"#e377c2\",\"line_dash\":[6],\"x\":{\"field\":\"x\"},\"y\":{\"field\":\"y\"}},\"id\":\"a1fb4381-f85a-4ea0-8e54-0f640f37be85\",\"type\":\"Line\"},{\"attributes\":{\"data_source\":{\"id\":\"b2c3a01d-6f0f-44d4-9069-a31abe449a83\",\"type\":\"ColumnDataSource\"},\"glyph\":{\"id\":\"21a21c02-5530-4c7c-aa3e-0f59522cb2b3\",\"type\":\"Circle\"},\"hover_glyph\":null,\"muted_glyph\":null,\"nonselection_glyph\":{\"id\":\"dd310c8f-58f7-447a-b602-8b18d6270cbb\",\"type\":\"Circle\"},\"selection_glyph\":null,\"view\":{\"id\":\"f81351b7-261d-49ad-a93d-1939d9771889\",\"type\":\"CDSView\"}},\"id\":\"246a63e0-f1af-475a-ac47-d872695e348f\",\"type\":\"GlyphRenderer\"},{\"attributes\":{\"callback\":null,\"column_names\":[\"x\",\"y\"],\"data\":{\"x\":[1,2,5,10,20,50,100,200,500,1000,2000,5000,10000,20000,50000,100000,200000,500000],\"y\":[5.6007137754932045e-06,5.7226879289373755e-06,7.333701360039413e-06,1.1411700979806483e-05,1.7947693704627456e-05,3.9022708660922946e-05,9.826669876929373e-05,0.0001914446783484891,0.0005650467082159593,0.0012503447086783127,0.0027368506725179032,0.007767140692449175,0.017164162682020104,0.04116779769712593,0.11953361571242567,0.2658971406944329,0.501684551681974,1.3743776777136372]}},\"id\":\"22545537-7637-476f-a56f-992c33099593\",\"type\":\"ColumnDataSource\"},{\"attributes\":{\"source\":{\"id\":\"421229f2-52b8-4502-95d7-5e0e5877ab75\",\"type\":\"ColumnDataSource\"}},\"id\":\"1515ab51-a8f1-45e0-86df-492bf937340e\",\"type\":\"CDSView\"},{\"attributes\":{\"callback\":null,\"column_names\":[\"x\",\"y\"],\"data\":{\"x\":[1,2,5,10,20,50,100,200,500,1000,2000,5000,10000,20000,50000],\"y\":[2.0776950987055897e-06,4.807374207302928e-06,9.304063278250396e-06,1.4982775319367647e-05,2.604048640932888e-05,6.168118445202709e-05,0.00014151587442029267,0.000367499552667141,0.0011843392433365807,0.0030475399282295255,0.00832839964015875,0.03472050534677691,0.09592763604538049,0.25508131872164086,0.8234529124136316]}},\"id\":\"ab12567c-670d-4f5c-8ec3-a1417d391906\",\"type\":\"ColumnDataSource\"},{\"attributes\":{\"source\":{\"id\":\"a8cd37e3-9e72-4fc2-9d0d-14333a3556be\",\"type\":\"ColumnDataSource\"}},\"id\":\"2d150837-e1c5-409b-8834-5ae9986b50f4\",\"type\":\"CDSView\"},{\"attributes\":{\"background_fill_alpha\":{\"value\":0.5},\"click_policy\":\"hide\",\"items\":[{\"id\":\"0d7ecd2a-33bf-4c29-889d-a96533853ff7\",\"type\":\"LegendItem\"},{\"id\":\"53900ae0-1ee6-4e0f-8e5f-78ea1e03588e\",\"type\":\"LegendItem\"},{\"id\":\"def11948-18d5-4cf3-a418-728261f4005b\",\"type\":\"LegendItem\"},{\"id\":\"82de14e9-ef84-4e97-8d82-7f6ec5edf06c\",\"type\":\"LegendItem\"},{\"id\":\"11f9810c-e756-46ee-b9d2-6a0c9b044999\",\"type\":\"LegendItem\"},{\"id\":\"986b26ad-90eb-4bc6-b085-9edfbf112116\",\"type\":\"LegendItem\"},{\"id\":\"7cd115db-b08d-45a2-9579-8eadfa3f9ced\",\"type\":\"LegendItem\"},{\"id\":\"263a90de-7f19-41a4-aa47-3a022a2552bb\",\"type\":\"LegendItem\"},{\"id\":\"a191120c-e2d9-465a-875a-a9c299b855b3\",\"type\":\"LegendItem\"}],\"location\":\"top_left\",\"plot\":{\"id\":\"974440a5-6fc2-4bb9-a285-ce37865ddbe3\",\"subtype\":\"Figure\",\"type\":\"Plot\"}},\"id\":\"6fdc17a5-9030-4a81-a7b3-0084c4d2cd38\",\"type\":\"Legend\"},{\"attributes\":{\"source\":{\"id\":\"b733041e-5395-4ee8-9830-bcd9d0f6052e\",\"type\":\"ColumnDataSource\"}},\"id\":\"35ccbb1c-fb9e-4392-80b5-51bb1886058f\",\"type\":\"CDSView\"},{\"attributes\":{\"fill_color\":{\"value\":\"#d62728\"},\"line_color\":{\"value\":\"#d62728\"},\"x\":{\"field\":\"x\"},\"y\":{\"field\":\"y\"}},\"id\":\"c33b0969-60d5-4d7f-95c8-261e66545969\",\"type\":\"Circle\"},{\"attributes\":{\"source\":{\"id\":\"02e56bfb-e5e9-44d1-925f-540559e0139b\",\"type\":\"ColumnDataSource\"}},\"id\":\"fc4fce15-1b9b-48fb-8ae2-95cee068eedf\",\"type\":\"CDSView\"},{\"attributes\":{\"data_source\":{\"id\":\"ab12567c-670d-4f5c-8ec3-a1417d391906\",\"type\":\"ColumnDataSource\"},\"glyph\":{\"id\":\"42d15f95-dbc4-4250-89d0-3f839af5fb73\",\"type\":\"Circle\"},\"hover_glyph\":null,\"muted_glyph\":null,\"nonselection_glyph\":{\"id\":\"c70bd4aa-36d9-4458-8bdf-2d0d0566bac2\",\"type\":\"Circle\"},\"selection_glyph\":null,\"view\":{\"id\":\"0d1b3bf9-a48d-49d5-8662-d4a2f61dd90e\",\"type\":\"CDSView\"}},\"id\":\"bf0b6662-cff4-49a9-aa6b-c8a0b7c6fe58\",\"type\":\"GlyphRenderer\"},{\"attributes\":{\"callback\":null,\"column_names\":[\"x\",\"y\"],\"data\":{\"x\":[1,2,5,10,20,50,100,200,500,1000,2000,5000,10000],\"y\":[1.6776920529082417e-06,3.437398700043559e-06,6.455089314840734e-06,1.2009789934381842e-05,2.3841459187678994e-05,8.453016518615187e-05,0.00027960187930148095,0.0010557575873099267,0.006852055275230668,0.029649630992207673,0.13802742869767826,0.7851034203986638,3.083855590078165]}},\"id\":\"78fc22ce-38ea-4c20-ae6d-359f098cb7cb\",\"type\":\"ColumnDataSource\"},{\"attributes\":{\"fill_alpha\":{\"value\":0.1},\"fill_color\":{\"value\":\"#1f77b4\"},\"line_alpha\":{\"value\":0.1},\"line_color\":{\"value\":\"#1f77b4\"},\"x\":{\"field\":\"x\"},\"y\":{\"field\":\"y\"}},\"id\":\"8d8c54fe-3351-4793-84e6-8db43555643c\",\"type\":\"Circle\"},{\"attributes\":{\"source\":{\"id\":\"b9341ead-45ce-4342-948e-daec3b85b345\",\"type\":\"ColumnDataSource\"}},\"id\":\"f8a75a96-f53f-4065-87b3-2aa4bf8830e2\",\"type\":\"CDSView\"},{\"attributes\":{\"callback\":null,\"column_names\":[\"x\",\"y\"],\"data\":{\"x\":[],\"y\":[]}},\"id\":\"b9341ead-45ce-4342-948e-daec3b85b345\",\"type\":\"ColumnDataSource\"},{\"attributes\":{\"callback\":null,\"start\":1},\"id\":\"f4e91d78-f4f7-4be9-b622-e64166040b37\",\"type\":\"DataRange1d\"},{\"attributes\":{\"fill_alpha\":{\"value\":0.1},\"fill_color\":{\"value\":\"#1f77b4\"},\"line_alpha\":{\"value\":0.1},\"line_color\":{\"value\":\"#1f77b4\"},\"x\":{\"field\":\"x\"},\"y\":{\"field\":\"y\"}},\"id\":\"c70bd4aa-36d9-4458-8bdf-2d0d0566bac2\",\"type\":\"Circle\"},{\"attributes\":{\"data_source\":{\"id\":\"02e56bfb-e5e9-44d1-925f-540559e0139b\",\"type\":\"ColumnDataSource\"},\"glyph\":{\"id\":\"06aa0fb5-6d3f-4872-8291-2211607f9bae\",\"type\":\"Line\"},\"hover_glyph\":null,\"muted_glyph\":null,\"nonselection_glyph\":{\"id\":\"01f51077-05dc-47c6-b5cd-3a8f4e25ac6c\",\"type\":\"Line\"},\"selection_glyph\":null,\"view\":{\"id\":\"fc4fce15-1b9b-48fb-8ae2-95cee068eedf\",\"type\":\"CDSView\"}},\"id\":\"537770e5-f125-4030-97a2-baded75b551c\",\"type\":\"GlyphRenderer\"},{\"attributes\":{\"line_alpha\":0.1,\"line_color\":\"#1f77b4\",\"line_dash\":[6],\"x\":{\"field\":\"x\"},\"y\":{\"field\":\"y\"}},\"id\":\"266d44c6-8912-4fb6-8781-b3d4b4f05a62\",\"type\":\"Line\"},{\"attributes\":{\"line_alpha\":0.1,\"line_color\":\"#1f77b4\",\"x\":{\"field\":\"x\"},\"y\":{\"field\":\"y\"}},\"id\":\"28d96b9f-9e18-413d-9a0e-d10dcf0a73c8\",\"type\":\"Line\"},{\"attributes\":{\"below\":[{\"id\":\"17feab12-7cba-48af-83a1-8a74e7aaf46a\",\"type\":\"LogAxis\"}],\"left\":[{\"id\":\"9e8f9d94-9a1c-475c-9565-39196b88d8a8\",\"type\":\"LogAxis\"}],\"plot_height\":400,\"plot_width\":800,\"renderers\":[{\"id\":\"17feab12-7cba-48af-83a1-8a74e7aaf46a\",\"type\":\"LogAxis\"},{\"id\":\"35620aca-3bfd-4fd5-835f-84de77f456ff\",\"type\":\"Grid\"},{\"id\":\"9e8f9d94-9a1c-475c-9565-39196b88d8a8\",\"type\":\"LogAxis\"},{\"id\":\"8cc9b16e-58fa-4755-9353-b213f248d107\",\"type\":\"Grid\"},{\"id\":\"51c4ee44-3e7d-4b78-ae3f-00ee3d44f243\",\"type\":\"BoxAnnotation\"},{\"id\":\"6fdc17a5-9030-4a81-a7b3-0084c4d2cd38\",\"type\":\"Legend\"},{\"id\":\"e42bcf69-675d-4a92-847f-8df76a1fa07c\",\"type\":\"GlyphRenderer\"},{\"id\":\"1d19630c-f483-4684-ace6-c0caf26460e2\",\"type\":\"GlyphRenderer\"},{\"id\":\"c3626081-42bb-478e-96e8-721b08675548\",\"type\":\"GlyphRenderer\"},{\"id\":\"1cf659e3-51df-4ae2-9d9c-a471b4cfb619\",\"type\":\"GlyphRenderer\"},{\"id\":\"48e0a454-f327-4fee-9090-11fc3a350f8d\",\"type\":\"GlyphRenderer\"},{\"id\":\"24919d9b-c309-423c-9c43-f8b8e0217994\",\"type\":\"GlyphRenderer\"},{\"id\":\"537770e5-f125-4030-97a2-baded75b551c\",\"type\":\"GlyphRenderer\"},{\"id\":\"178c7200-173c-48aa-a832-66e7ebc97c97\",\"type\":\"GlyphRenderer\"},{\"id\":\"b139f20a-464a-47d6-b300-ce4388210d13\",\"type\":\"GlyphRenderer\"},{\"id\":\"bf0b6662-cff4-49a9-aa6b-c8a0b7c6fe58\",\"type\":\"GlyphRenderer\"},{\"id\":\"ce2327de-316c-4ebb-85ae-7d936a5216e6\",\"type\":\"GlyphRenderer\"},{\"id\":\"88def0f5-8ba8-4247-9a61-fc0cec3e577b\",\"type\":\"GlyphRenderer\"},{\"id\":\"5b6ceb28-16ce-459b-9da7-535f383fab38\",\"type\":\"GlyphRenderer\"},{\"id\":\"f45aef47-023b-4284-a286-397d9c5edb64\",\"type\":\"GlyphRenderer\"},{\"id\":\"0acdd375-c477-45b9-b039-de6f48288119\",\"type\":\"GlyphRenderer\"},{\"id\":\"246a63e0-f1af-475a-ac47-d872695e348f\",\"type\":\"GlyphRenderer\"},{\"id\":\"dc0355cd-d1c3-44d3-a331-0967bc6f8f37\",\"type\":\"GlyphRenderer\"},{\"id\":\"7b1ff9f7-1c55-4115-9ac8-5bda842d953c\",\"type\":\"GlyphRenderer\"}],\"title\":{\"id\":\"2f4f0ebf-33d4-4eee-b473-a8d52dc70449\",\"type\":\"Title\"},\"toolbar\":{\"id\":\"f17a28b5-7306-452a-a9f8-77c0e84e6a1a\",\"type\":\"Toolbar\"},\"toolbar_location\":\"above\",\"x_range\":{\"id\":\"f4e91d78-f4f7-4be9-b622-e64166040b37\",\"type\":\"DataRange1d\"},\"x_scale\":{\"id\":\"1d95f5d2-942d-4562-90d7-0ccea0fc41e6\",\"type\":\"LogScale\"},\"y_range\":{\"id\":\"3a9fb36d-36ca-4a2b-931a-bffecb48c12b\",\"type\":\"Range1d\"},\"y_scale\":{\"id\":\"7e63d729-874f-4aa5-b2eb-a891e49c8e0a\",\"type\":\"LogScale\"}},\"id\":\"974440a5-6fc2-4bb9-a285-ce37865ddbe3\",\"subtype\":\"Figure\",\"type\":\"Plot\"},{\"attributes\":{\"data_source\":{\"id\":\"b9341ead-45ce-4342-948e-daec3b85b345\",\"type\":\"ColumnDataSource\"},\"glyph\":{\"id\":\"cd75142d-9162-4cac-ab4c-d19d8db4397a\",\"type\":\"Line\"},\"hover_glyph\":null,\"muted_glyph\":null,\"nonselection_glyph\":{\"id\":\"28d96b9f-9e18-413d-9a0e-d10dcf0a73c8\",\"type\":\"Line\"},\"selection_glyph\":null,\"view\":{\"id\":\"f8a75a96-f53f-4065-87b3-2aa4bf8830e2\",\"type\":\"CDSView\"}},\"id\":\"dc0355cd-d1c3-44d3-a331-0967bc6f8f37\",\"type\":\"GlyphRenderer\"},{\"attributes\":{\"source\":{\"id\":\"af6e4c7f-0a2d-48f0-a4a7-52acee48552f\",\"type\":\"ColumnDataSource\"}},\"id\":\"c98de3bd-99f7-4e24-8510-d104c39e6f7b\",\"type\":\"CDSView\"},{\"attributes\":{\"plot\":null,\"text\":\"Timing\"},\"id\":\"2f4f0ebf-33d4-4eee-b473-a8d52dc70449\",\"type\":\"Title\"},{\"attributes\":{\"label\":{\"value\":\"improved_sieve\"},\"renderers\":[{\"id\":\"0acdd375-c477-45b9-b039-de6f48288119\",\"type\":\"GlyphRenderer\"},{\"id\":\"246a63e0-f1af-475a-ac47-d872695e348f\",\"type\":\"GlyphRenderer\"}]},\"id\":\"263a90de-7f19-41a4-aa47-3a022a2552bb\",\"type\":\"LegendItem\"},{\"attributes\":{\"fill_color\":{\"value\":\"#bcbd22\"},\"line_color\":{\"value\":\"#bcbd22\"},\"x\":{\"field\":\"x\"},\"y\":{\"field\":\"y\"}},\"id\":\"4ee6263b-9d59-4eba-99c6-717fc6be7fed\",\"type\":\"Circle\"},{\"attributes\":{\"callback\":null,\"start\":1e-06},\"id\":\"3a9fb36d-36ca-4a2b-931a-bffecb48c12b\",\"type\":\"Range1d\"},{\"attributes\":{\"callback\":null,\"column_names\":[\"x\",\"y\"],\"data\":{\"x\":[1,2,5,10,20,50,100,200,500,1000,2000,5000,10000,20000,50000,100000,200000],\"y\":[1.9326998153701424e-06,5.767393158748746e-06,1.0987079585902393e-05,1.8920785514637828e-05,3.2147488673217596e-05,7.130916812457145e-05,0.0001840808376437053,0.0004482235375326127,0.001225129222148098,0.0028561389073729513,0.006891081594512798,0.020594023305457086,0.045094661990297026,0.10346681269118563,0.3079074513778324,0.6424003540584817,1.3712305737432327]}},\"id\":\"b2c3a01d-6f0f-44d4-9069-a31abe449a83\",\"type\":\"ColumnDataSource\"},{\"attributes\":{\"active_drag\":\"auto\",\"active_inspect\":\"auto\",\"active_scroll\":\"auto\",\"active_tap\":\"auto\",\"tools\":[{\"id\":\"a6d8e411-4fee-4158-b0e0-bc58938f2727\",\"type\":\"PanTool\"},{\"id\":\"7035ea15-806c-4c0e-b8e2-51d5385ef783\",\"type\":\"WheelZoomTool\"},{\"id\":\"50f869e1-7cf8-4fbf-ba50-d89512f51fc0\",\"type\":\"BoxZoomTool\"},{\"id\":\"f6985122-eecd-4df9-8116-46bb883d5a14\",\"type\":\"SaveTool\"},{\"id\":\"36308f9b-eac9-41c1-848a-e3749f4bf5f0\",\"type\":\"ResetTool\"},{\"id\":\"9b9a7461-2812-40f9-990f-8da67f01b372\",\"type\":\"HelpTool\"}]},\"id\":\"f17a28b5-7306-452a-a9f8-77c0e84e6a1a\",\"type\":\"Toolbar\"},{\"attributes\":{\"fill_color\":{\"value\":\"#9467bd\"},\"line_color\":{\"value\":\"#9467bd\"},\"x\":{\"field\":\"x\"},\"y\":{\"field\":\"y\"}},\"id\":\"42d15f95-dbc4-4250-89d0-3f839af5fb73\",\"type\":\"Circle\"},{\"attributes\":{\"line_color\":\"#bcbd22\",\"x\":{\"field\":\"x\"},\"y\":{\"field\":\"y\"}},\"id\":\"cd75142d-9162-4cac-ab4c-d19d8db4397a\",\"type\":\"Line\"},{\"attributes\":{\"num_minor_ticks\":10},\"id\":\"360bcddc-d615-4742-8c49-62a5598d8f4f\",\"type\":\"LogTicker\"},{\"attributes\":{\"fill_alpha\":{\"value\":0.1},\"fill_color\":{\"value\":\"#1f77b4\"},\"line_alpha\":{\"value\":0.1},\"line_color\":{\"value\":\"#1f77b4\"},\"x\":{\"field\":\"x\"},\"y\":{\"field\":\"y\"}},\"id\":\"2b81f85c-e371-4bc8-91ec-a840ae149b55\",\"type\":\"Circle\"},{\"attributes\":{\"callback\":null,\"column_names\":[\"x\",\"y\"],\"data\":{\"x\":[1,2,5,10,20,50,100,200,500,1000,2000,5000],\"y\":[1.928683486767113e-06,5.348356207832694e-06,1.0088062263093889e-05,1.932975254021585e-05,4.36724309111014e-05,0.00019079910591244696,0.0007820247969357296,0.0036099665006622673,0.029195572207099757,0.15714686589781196,0.6617195535992506,4.328593240285991]}},\"id\":\"a8345ccd-606f-4cc5-877b-dae366cc323e\",\"type\":\"ColumnDataSource\"},{\"attributes\":{\"source\":{\"id\":\"78fc22ce-38ea-4c20-ae6d-359f098cb7cb\",\"type\":\"ColumnDataSource\"}},\"id\":\"3f5b135f-8e42-4e42-8ad1-1ac8557ab757\",\"type\":\"CDSView\"},{\"attributes\":{\"num_minor_ticks\":10},\"id\":\"74f3d3a3-989b-4d16-8c81-53d78462de22\",\"type\":\"LogTicker\"},{\"attributes\":{\"line_alpha\":0.1,\"line_color\":\"#1f77b4\",\"line_dash\":[6],\"x\":{\"field\":\"x\"},\"y\":{\"field\":\"y\"}},\"id\":\"01f51077-05dc-47c6-b5cd-3a8f4e25ac6c\",\"type\":\"Line\"},{\"attributes\":{\"plot\":{\"id\":\"974440a5-6fc2-4bb9-a285-ce37865ddbe3\",\"subtype\":\"Figure\",\"type\":\"Plot\"},\"ticker\":{\"id\":\"360bcddc-d615-4742-8c49-62a5598d8f4f\",\"type\":\"LogTicker\"}},\"id\":\"35620aca-3bfd-4fd5-835f-84de77f456ff\",\"type\":\"Grid\"},{\"attributes\":{\"data_source\":{\"id\":\"b733041e-5395-4ee8-9830-bcd9d0f6052e\",\"type\":\"ColumnDataSource\"},\"glyph\":{\"id\":\"50617d9a-b03f-4c5e-b5cb-a73ca46eb295\",\"type\":\"Line\"},\"hover_glyph\":null,\"muted_glyph\":null,\"nonselection_glyph\":{\"id\":\"ad96701b-0c3f-493e-b139-5b09b59e51e9\",\"type\":\"Line\"},\"selection_glyph\":null,\"view\":{\"id\":\"35ccbb1c-fb9e-4392-80b5-51bb1886058f\",\"type\":\"CDSView\"}},\"id\":\"0acdd375-c477-45b9-b039-de6f48288119\",\"type\":\"GlyphRenderer\"},{\"attributes\":{},\"id\":\"1d95f5d2-942d-4562-90d7-0ccea0fc41e6\",\"type\":\"LogScale\"},{\"attributes\":{\"data_source\":{\"id\":\"af6e4c7f-0a2d-48f0-a4a7-52acee48552f\",\"type\":\"ColumnDataSource\"},\"glyph\":{\"id\":\"a1fb4381-f85a-4ea0-8e54-0f640f37be85\",\"type\":\"Line\"},\"hover_glyph\":null,\"muted_glyph\":null,\"nonselection_glyph\":{\"id\":\"96364d6a-4853-4405-8803-2c836d3d8fe3\",\"type\":\"Line\"},\"selection_glyph\":null,\"view\":{\"id\":\"c98de3bd-99f7-4e24-8510-d104c39e6f7b\",\"type\":\"CDSView\"}},\"id\":\"5b6ceb28-16ce-459b-9da7-535f383fab38\",\"type\":\"GlyphRenderer\"},{\"attributes\":{\"axis_label\":\"Primes\",\"formatter\":{\"id\":\"10b07010-825c-4ad6-983f-7e9c44fdf28c\",\"type\":\"NumeralTickFormatter\"},\"plot\":{\"id\":\"974440a5-6fc2-4bb9-a285-ce37865ddbe3\",\"subtype\":\"Figure\",\"type\":\"Plot\"},\"ticker\":{\"id\":\"360bcddc-d615-4742-8c49-62a5598d8f4f\",\"type\":\"LogTicker\"}},\"id\":\"17feab12-7cba-48af-83a1-8a74e7aaf46a\",\"type\":\"LogAxis\"},{\"attributes\":{\"source\":{\"id\":\"b2c3a01d-6f0f-44d4-9069-a31abe449a83\",\"type\":\"ColumnDataSource\"}},\"id\":\"f81351b7-261d-49ad-a93d-1939d9771889\",\"type\":\"CDSView\"},{\"attributes\":{},\"id\":\"7e63d729-874f-4aa5-b2eb-a891e49c8e0a\",\"type\":\"LogScale\"},{\"attributes\":{\"source\":{\"id\":\"ab12567c-670d-4f5c-8ec3-a1417d391906\",\"type\":\"ColumnDataSource\"}},\"id\":\"0d1b3bf9-a48d-49d5-8662-d4a2f61dd90e\",\"type\":\"CDSView\"},{\"attributes\":{\"axis_label\":\"Seconds\",\"formatter\":{\"id\":\"2d084cbe-11e1-46cf-9b0f-9dc43bb0ce84\",\"type\":\"LogTickFormatter\"},\"plot\":{\"id\":\"974440a5-6fc2-4bb9-a285-ce37865ddbe3\",\"subtype\":\"Figure\",\"type\":\"Plot\"},\"ticker\":{\"id\":\"74f3d3a3-989b-4d16-8c81-53d78462de22\",\"type\":\"LogTicker\"}},\"id\":\"9e8f9d94-9a1c-475c-9565-39196b88d8a8\",\"type\":\"LogAxis\"},{\"attributes\":{\"label\":{\"value\":\"check_primes_sqrt\"},\"renderers\":[{\"id\":\"b139f20a-464a-47d6-b300-ce4388210d13\",\"type\":\"GlyphRenderer\"},{\"id\":\"bf0b6662-cff4-49a9-aa6b-c8a0b7c6fe58\",\"type\":\"GlyphRenderer\"}]},\"id\":\"11f9810c-e756-46ee-b9d2-6a0c9b044999\",\"type\":\"LegendItem\"},{\"attributes\":{\"dimension\":1,\"plot\":{\"id\":\"974440a5-6fc2-4bb9-a285-ce37865ddbe3\",\"subtype\":\"Figure\",\"type\":\"Plot\"},\"ticker\":{\"id\":\"74f3d3a3-989b-4d16-8c81-53d78462de22\",\"type\":\"LogTicker\"}},\"id\":\"8cc9b16e-58fa-4755-9353-b213f248d107\",\"type\":\"Grid\"},{\"attributes\":{\"line_alpha\":0.1,\"line_color\":\"#1f77b4\",\"line_dash\":[6],\"x\":{\"field\":\"x\"},\"y\":{\"field\":\"y\"}},\"id\":\"ad96701b-0c3f-493e-b139-5b09b59e51e9\",\"type\":\"Line\"},{\"attributes\":{\"data_source\":{\"id\":\"78fc22ce-38ea-4c20-ae6d-359f098cb7cb\",\"type\":\"ColumnDataSource\"},\"glyph\":{\"id\":\"c33b0969-60d5-4d7f-95c8-261e66545969\",\"type\":\"Circle\"},\"hover_glyph\":null,\"muted_glyph\":null,\"nonselection_glyph\":{\"id\":\"2b81f85c-e371-4bc8-91ec-a840ae149b55\",\"type\":\"Circle\"},\"selection_glyph\":null,\"view\":{\"id\":\"3f5b135f-8e42-4e42-8ad1-1ac8557ab757\",\"type\":\"CDSView\"}},\"id\":\"178c7200-173c-48aa-a832-66e7ebc97c97\",\"type\":\"GlyphRenderer\"},{\"attributes\":{\"fill_color\":{\"value\":\"#ff7f0e\"},\"line_color\":{\"value\":\"#ff7f0e\"},\"x\":{\"field\":\"x\"},\"y\":{\"field\":\"y\"}},\"id\":\"f2e09015-8d82-4360-bc58-634dd1016664\",\"type\":\"Circle\"},{\"attributes\":{\"fill_alpha\":{\"value\":0.1},\"fill_color\":{\"value\":\"#1f77b4\"},\"line_alpha\":{\"value\":0.1},\"line_color\":{\"value\":\"#1f77b4\"},\"x\":{\"field\":\"x\"},\"y\":{\"field\":\"y\"}},\"id\":\"b86c67eb-7d6a-4225-8e85-a109f65d0f33\",\"type\":\"Circle\"},{\"attributes\":{\"line_color\":\"#7f7f7f\",\"line_dash\":[6],\"x\":{\"field\":\"x\"},\"y\":{\"field\":\"y\"}},\"id\":\"50617d9a-b03f-4c5e-b5cb-a73ca46eb295\",\"type\":\"Line\"},{\"attributes\":{\"fill_alpha\":{\"value\":0.1},\"fill_color\":{\"value\":\"#1f77b4\"},\"line_alpha\":{\"value\":0.1},\"line_color\":{\"value\":\"#1f77b4\"},\"x\":{\"field\":\"x\"},\"y\":{\"field\":\"y\"}},\"id\":\"046902d6-a69e-4a52-a519-6da3b265929b\",\"type\":\"Circle\"},{\"attributes\":{\"data_source\":{\"id\":\"421229f2-52b8-4502-95d7-5e0e5877ab75\",\"type\":\"ColumnDataSource\"},\"glyph\":{\"id\":\"f2e09015-8d82-4360-bc58-634dd1016664\",\"type\":\"Circle\"},\"hover_glyph\":null,\"muted_glyph\":null,\"nonselection_glyph\":{\"id\":\"b86c67eb-7d6a-4225-8e85-a109f65d0f33\",\"type\":\"Circle\"},\"selection_glyph\":null,\"view\":{\"id\":\"1515ab51-a8f1-45e0-86df-492bf937340e\",\"type\":\"CDSView\"}},\"id\":\"1cf659e3-51df-4ae2-9d9c-a471b4cfb619\",\"type\":\"GlyphRenderer\"},{\"attributes\":{\"fill_alpha\":{\"value\":0.1},\"fill_color\":{\"value\":\"#1f77b4\"},\"line_alpha\":{\"value\":0.1},\"line_color\":{\"value\":\"#1f77b4\"},\"x\":{\"field\":\"x\"},\"y\":{\"field\":\"y\"}},\"id\":\"c0eef783-5f5c-46de-985e-346edc247f82\",\"type\":\"Circle\"},{\"attributes\":{\"fill_color\":{\"value\":\"#1f77b4\"},\"line_color\":{\"value\":\"#1f77b4\"},\"x\":{\"field\":\"x\"},\"y\":{\"field\":\"y\"}},\"id\":\"cb98c208-02f4-4066-b373-cacfb389ad58\",\"type\":\"Circle\"},{\"attributes\":{\"data_source\":{\"id\":\"a8cd37e3-9e72-4fc2-9d0d-14333a3556be\",\"type\":\"ColumnDataSource\"},\"glyph\":{\"id\":\"15bd3560-1b83-4386-93bf-f1a49ff37a82\",\"type\":\"Circle\"},\"hover_glyph\":null,\"muted_glyph\":null,\"nonselection_glyph\":{\"id\":\"c0eef783-5f5c-46de-985e-346edc247f82\",\"type\":\"Circle\"},\"selection_glyph\":null,\"view\":{\"id\":\"2d150837-e1c5-409b-8834-5ae9986b50f4\",\"type\":\"CDSView\"}},\"id\":\"f45aef47-023b-4284-a286-397d9c5edb64\",\"type\":\"GlyphRenderer\"},{\"attributes\":{\"line_color\":\"#1f77b4\",\"line_dash\":[6],\"x\":{\"field\":\"x\"},\"y\":{\"field\":\"y\"}},\"id\":\"96ace25b-d530-47f6-95d5-3500e129118e\",\"type\":\"Line\"},{\"attributes\":{\"data_source\":{\"id\":\"ab4f028f-332f-482c-b1e7-509ceb1cf880\",\"type\":\"ColumnDataSource\"},\"glyph\":{\"id\":\"de11508d-2618-4f14-82ca-50e5b30f3889\",\"type\":\"Line\"},\"hover_glyph\":null,\"muted_glyph\":null,\"nonselection_glyph\":{\"id\":\"895ca527-410a-4341-ae09-c6788fbbe434\",\"type\":\"Line\"},\"selection_glyph\":null,\"view\":{\"id\":\"da951bfc-2fda-4ef9-803a-67c9f0f1ca98\",\"type\":\"CDSView\"}},\"id\":\"b139f20a-464a-47d6-b300-ce4388210d13\",\"type\":\"GlyphRenderer\"},{\"attributes\":{\"line_color\":\"#d62728\",\"line_dash\":[6],\"x\":{\"field\":\"x\"},\"y\":{\"field\":\"y\"}},\"id\":\"06aa0fb5-6d3f-4872-8291-2211607f9bae\",\"type\":\"Line\"},{\"attributes\":{\"callback\":null,\"column_names\":[\"x\",\"y\"],\"data\":{\"x\":[1,2,5,10,20,50,100,200,500,1000,2000],\"y\":[3.91571840737015e-06,7.2433939203619956e-06,1.4987080940045414e-05,3.0398783273994922e-05,7.70214624935761e-05,0.0003747431433293968,0.0015680668415734545,0.00739021853893064,0.05986085925658699,0.29679561396478676,1.2218749636859867]}},\"id\":\"547682b3-544e-4ca4-908c-ea084e6f9e04\",\"type\":\"ColumnDataSource\"},{\"attributes\":{\"fill_color\":{\"value\":\"#e377c2\"},\"line_color\":{\"value\":\"#e377c2\"},\"x\":{\"field\":\"x\"},\"y\":{\"field\":\"y\"}},\"id\":\"15bd3560-1b83-4386-93bf-f1a49ff37a82\",\"type\":\"Circle\"},{\"attributes\":{\"bottom_units\":\"screen\",\"fill_alpha\":{\"value\":0.5},\"fill_color\":{\"value\":\"lightgrey\"},\"left_units\":\"screen\",\"level\":\"overlay\",\"line_alpha\":{\"value\":1.0},\"line_color\":{\"value\":\"black\"},\"line_dash\":[4,4],\"line_width\":{\"value\":2},\"plot\":null,\"render_mode\":\"css\",\"right_units\":\"screen\",\"top_units\":\"screen\"},\"id\":\"51c4ee44-3e7d-4b78-ae3f-00ee3d44f243\",\"type\":\"BoxAnnotation\"},{\"attributes\":{\"source\":{\"id\":\"22545537-7637-476f-a56f-992c33099593\",\"type\":\"ColumnDataSource\"}},\"id\":\"6c23db9c-8fb9-4ce5-8e68-65c9d84fc6a6\",\"type\":\"CDSView\"},{\"attributes\":{},\"id\":\"a6d8e411-4fee-4158-b0e0-bc58938f2727\",\"type\":\"PanTool\"},{\"attributes\":{\"callback\":null,\"column_names\":[\"x\",\"y\"],\"data\":{\"x\":[1,2,5,10,20,50,100,200,500,1000,2000,5000,10000,20000,50000,100000],\"y\":[2.836693893186748e-06,5.21340174600482e-06,1.323508855421096e-05,2.4005777668207884e-05,4.719748685602099e-05,0.0001269451854750514,0.0003609428653726354,0.0009481885784771292,0.0031190182938007635,0.00745443599880673,0.018347232709056697,0.05661203039111569,0.13098114608961622,0.2943975747865625,0.8007890704873717,1.8081262511829845]}},\"id\":\"af6e4c7f-0a2d-48f0-a4a7-52acee48552f\",\"type\":\"ColumnDataSource\"},{\"attributes\":{\"data_source\":{\"id\":\"547682b3-544e-4ca4-908c-ea084e6f9e04\",\"type\":\"ColumnDataSource\"},\"glyph\":{\"id\":\"96ace25b-d530-47f6-95d5-3500e129118e\",\"type\":\"Line\"},\"hover_glyph\":null,\"muted_glyph\":null,\"nonselection_glyph\":{\"id\":\"266d44c6-8912-4fb6-8781-b3d4b4f05a62\",\"type\":\"Line\"},\"selection_glyph\":null,\"view\":{\"id\":\"e4c072d6-08db-4fa1-a4f4-096d479e0ea3\",\"type\":\"CDSView\"}},\"id\":\"e42bcf69-675d-4a92-847f-8df76a1fa07c\",\"type\":\"GlyphRenderer\"},{\"attributes\":{\"callback\":null,\"column_names\":[\"x\",\"y\"],\"data\":{\"x\":[1,2,5,10,20,50,100,200,500,1000,2000,5000,10000,20000,50000,100000,200000,500000],\"y\":[5.6007137754932045e-06,5.7226879289373755e-06,7.333701360039413e-06,1.1411700979806483e-05,1.7947693704627456e-05,3.9022708660922946e-05,9.826669876929373e-05,0.0001914446783484891,0.0005650467082159593,0.0012503447086783127,0.0027368506725179032,0.007767140692449175,0.017164162682020104,0.04116779769712593,0.11953361571242567,0.2658971406944329,0.501684551681974,1.3743776777136372]}},\"id\":\"d47348eb-11bf-477e-bf7c-830df058d84e\",\"type\":\"ColumnDataSource\"},{\"attributes\":{\"callback\":null,\"column_names\":[\"x\",\"y\"],\"data\":{\"x\":[1,2,5,10,20,50,100,200,500,1000,2000],\"y\":[3.91571840737015e-06,7.2433939203619956e-06,1.4987080940045414e-05,3.0398783273994922e-05,7.70214624935761e-05,0.0003747431433293968,0.0015680668415734545,0.00739021853893064,0.05986085925658699,0.29679561396478676,1.2218749636859867]}},\"id\":\"2cf69756-40d1-4515-966d-2c09ee5fdd4b\",\"type\":\"ColumnDataSource\"},{\"attributes\":{},\"id\":\"7035ea15-806c-4c0e-b8e2-51d5385ef783\",\"type\":\"WheelZoomTool\"},{\"attributes\":{\"label\":{\"value\":\"priority_queue\"},\"renderers\":[{\"id\":\"dc0355cd-d1c3-44d3-a331-0967bc6f8f37\",\"type\":\"GlyphRenderer\"},{\"id\":\"7b1ff9f7-1c55-4115-9ac8-5bda842d953c\",\"type\":\"GlyphRenderer\"}]},\"id\":\"a191120c-e2d9-465a-875a-a9c299b855b3\",\"type\":\"LegendItem\"},{\"attributes\":{\"line_alpha\":0.1,\"line_color\":\"#1f77b4\",\"line_dash\":[6],\"x\":{\"field\":\"x\"},\"y\":{\"field\":\"y\"}},\"id\":\"96364d6a-4853-4405-8803-2c836d3d8fe3\",\"type\":\"Line\"},{\"attributes\":{\"overlay\":{\"id\":\"51c4ee44-3e7d-4b78-ae3f-00ee3d44f243\",\"type\":\"BoxAnnotation\"}},\"id\":\"50f869e1-7cf8-4fbf-ba50-d89512f51fc0\",\"type\":\"BoxZoomTool\"},{\"attributes\":{\"line_color\":\"#8c564b\",\"line_dash\":[6],\"x\":{\"field\":\"x\"},\"y\":{\"field\":\"y\"}},\"id\":\"8616e7fa-364f-4f10-8cca-1e98d3f59d8c\",\"type\":\"Line\"},{\"attributes\":{},\"id\":\"f6985122-eecd-4df9-8116-46bb883d5a14\",\"type\":\"SaveTool\"},{\"attributes\":{\"source\":{\"id\":\"d47348eb-11bf-477e-bf7c-830df058d84e\",\"type\":\"ColumnDataSource\"}},\"id\":\"2e3ec73b-af70-4315-b956-7120bd590427\",\"type\":\"CDSView\"},{\"attributes\":{},\"id\":\"36308f9b-eac9-41c1-848a-e3749f4bf5f0\",\"type\":\"ResetTool\"},{\"attributes\":{\"label\":{\"value\":\"unbounded_sieve\"},\"renderers\":[{\"id\":\"5b6ceb28-16ce-459b-9da7-535f383fab38\",\"type\":\"GlyphRenderer\"},{\"id\":\"f45aef47-023b-4284-a286-397d9c5edb64\",\"type\":\"GlyphRenderer\"}]},\"id\":\"7cd115db-b08d-45a2-9579-8eadfa3f9ced\",\"type\":\"LegendItem\"},{\"attributes\":{},\"id\":\"9b9a7461-2812-40f9-990f-8da67f01b372\",\"type\":\"HelpTool\"},{\"attributes\":{\"fill_alpha\":{\"value\":0.1},\"fill_color\":{\"value\":\"#1f77b4\"},\"line_alpha\":{\"value\":0.1},\"line_color\":{\"value\":\"#1f77b4\"},\"x\":{\"field\":\"x\"},\"y\":{\"field\":\"y\"}},\"id\":\"1c909f3e-d58a-4260-8729-75f5abcc6f8b\",\"type\":\"Circle\"},{\"attributes\":{\"callback\":null,\"column_names\":[\"x\",\"y\"],\"data\":{\"x\":[1,2,5,10,20,50,100,200,500,1000,2000,5000,10000,20000,50000,100000,200000],\"y\":[1.9326998153701424e-06,5.767393158748746e-06,1.0987079585902393e-05,1.8920785514637828e-05,3.2147488673217596e-05,7.130916812457145e-05,0.0001840808376437053,0.0004482235375326127,0.001225129222148098,0.0028561389073729513,0.006891081594512798,0.020594023305457086,0.045094661990297026,0.10346681269118563,0.3079074513778324,0.6424003540584817,1.3712305737432327]}},\"id\":\"b733041e-5395-4ee8-9830-bcd9d0f6052e\",\"type\":\"ColumnDataSource\"},{\"attributes\":{\"fill_color\":{\"value\":\"#7f7f7f\"},\"line_color\":{\"value\":\"#7f7f7f\"},\"x\":{\"field\":\"x\"},\"y\":{\"field\":\"y\"}},\"id\":\"21a21c02-5530-4c7c-aa3e-0f59522cb2b3\",\"type\":\"Circle\"},{\"attributes\":{\"source\":{\"id\":\"547682b3-544e-4ca4-908c-ea084e6f9e04\",\"type\":\"ColumnDataSource\"}},\"id\":\"e4c072d6-08db-4fa1-a4f4-096d479e0ea3\",\"type\":\"CDSView\"},{\"attributes\":{\"callback\":null,\"column_names\":[\"x\",\"y\"],\"data\":{\"x\":[1,2,5,10,20,50,100,200,500,1000,2000,5000,10000,20000,50000,100000],\"y\":[2.836693893186748e-06,5.21340174600482e-06,1.323508855421096e-05,2.4005777668207884e-05,4.719748685602099e-05,0.0001269451854750514,0.0003609428653726354,0.0009481885784771292,0.0031190182938007635,0.00745443599880673,0.018347232709056697,0.05661203039111569,0.13098114608961622,0.2943975747865625,0.8007890704873717,1.8081262511829845]}},\"id\":\"a8cd37e3-9e72-4fc2-9d0d-14333a3556be\",\"type\":\"ColumnDataSource\"},{\"attributes\":{\"data_source\":{\"id\":\"22545537-7637-476f-a56f-992c33099593\",\"type\":\"ColumnDataSource\"},\"glyph\":{\"id\":\"8616e7fa-364f-4f10-8cca-1e98d3f59d8c\",\"type\":\"Line\"},\"hover_glyph\":null,\"muted_glyph\":null,\"nonselection_glyph\":{\"id\":\"6b42c121-e420-497d-a3a8-10b7336c227f\",\"type\":\"Line\"},\"selection_glyph\":null,\"view\":{\"id\":\"6c23db9c-8fb9-4ce5-8e68-65c9d84fc6a6\",\"type\":\"CDSView\"}},\"id\":\"ce2327de-316c-4ebb-85ae-7d936a5216e6\",\"type\":\"GlyphRenderer\"},{\"attributes\":{\"ticker\":null},\"id\":\"2d084cbe-11e1-46cf-9b0f-9dc43bb0ce84\",\"type\":\"LogTickFormatter\"},{\"attributes\":{\"fill_color\":{\"value\":\"#8c564b\"},\"line_color\":{\"value\":\"#8c564b\"},\"x\":{\"field\":\"x\"},\"y\":{\"field\":\"y\"}},\"id\":\"221773a3-2cb0-42e1-ba1a-b7920191fb85\",\"type\":\"Circle\"},{\"attributes\":{\"source\":{\"id\":\"ab4f028f-332f-482c-b1e7-509ceb1cf880\",\"type\":\"ColumnDataSource\"}},\"id\":\"da951bfc-2fda-4ef9-803a-67c9f0f1ca98\",\"type\":\"CDSView\"}],\"root_ids\":[\"974440a5-6fc2-4bb9-a285-ce37865ddbe3\"]},\"title\":\"Bokeh Application\",\"version\":\"0.12.14\"}};\n",
       "  var render_items = [{\"docid\":\"ff7fe002-4cfb-4b2c-8664-8d1d2d26fe74\",\"elementid\":\"0775b62d-87d9-4088-93c7-13e85dd6629c\",\"modelid\":\"974440a5-6fc2-4bb9-a285-ce37865ddbe3\",\"notebook_comms_target\":\"64abaf9b-4521-46e0-879a-dceac0f1a2c4\"}];\n",
       "  root.Bokeh.embed.embed_items_notebook(docs_json, render_items);\n",
       "\n",
       "  }\n",
       "  if (root.Bokeh !== undefined) {\n",
       "    embed_document(root);\n",
       "  } else {\n",
       "    var attempts = 0;\n",
       "    var timer = setInterval(function(root) {\n",
       "      if (root.Bokeh !== undefined) {\n",
       "        embed_document(root);\n",
       "        clearInterval(timer);\n",
       "      }\n",
       "      attempts++;\n",
       "      if (attempts > 100) {\n",
       "        console.log(\"Bokeh: ERROR: Unable to run BokehJS code because BokehJS library is missing\")\n",
       "        clearInterval(timer);\n",
       "      }\n",
       "    }, 10, root)\n",
       "  }\n",
       "})(window);"
      ],
      "application/vnd.bokehjs_exec.v0+json": ""
     },
     "metadata": {
      "application/vnd.bokehjs_exec.v0+json": {
       "id": "974440a5-6fc2-4bb9-a285-ce37865ddbe3"
      }
     },
     "output_type": "display_data"
    }
   ],
   "source": [
    "timing_plot(priority_queue)"
   ]
  },
  {
   "cell_type": "code",
   "execution_count": 23,
   "metadata": {
    "slideshow": {
     "slide_type": "slide"
    }
   },
   "outputs": [
    {
     "data": {
      "text/html": [
       "\n",
       "<div class=\"bk-root\">\n",
       "    <div class=\"bk-plotdiv\" id=\"5edd910c-aafe-43e7-bde3-36f971ac4305\"></div>\n",
       "</div>"
      ]
     },
     "metadata": {},
     "output_type": "display_data"
    },
    {
     "data": {
      "application/javascript": [
       "(function(root) {\n",
       "  function embed_document(root) {\n",
       "    \n",
       "  var docs_json = {\"c932481f-43d5-44ec-9f1b-ea78e54cfba1\":{\"roots\":{\"references\":[{\"attributes\":{\"line_color\":\"#8c564b\",\"line_dash\":[6],\"x\":{\"field\":\"x\"},\"y\":{\"field\":\"y\"}},\"id\":\"d8ec9d28-d6ca-4e99-b54a-ef720c04790c\",\"type\":\"Line\"},{\"attributes\":{\"callback\":null,\"column_names\":[\"x\",\"y\"],\"data\":{\"x\":[1,2,5,10,20,50,100,200,500,1000,2000,5000,10000,20000,50000],\"y\":[2.0776950987055897e-06,4.807374207302928e-06,9.304063278250396e-06,1.4982775319367647e-05,2.604048640932888e-05,6.168118445202709e-05,0.00014151587442029267,0.000367499552667141,0.0011843392433365807,0.0030475399282295255,0.00832839964015875,0.03472050534677691,0.09592763604538049,0.25508131872164086,0.8234529124136316]}},\"id\":\"b93195f6-4ff9-4fbe-8483-b287a96f1bf6\",\"type\":\"ColumnDataSource\"},{\"attributes\":{\"line_alpha\":0.1,\"line_color\":\"#1f77b4\",\"x\":{\"field\":\"x\"},\"y\":{\"field\":\"y\"}},\"id\":\"cc209dcd-c46e-4c64-98f2-d50bab101a28\",\"type\":\"Line\"},{\"attributes\":{\"data_source\":{\"id\":\"ce4380df-bb67-4dea-b380-8249809d45be\",\"type\":\"ColumnDataSource\"},\"glyph\":{\"id\":\"2523d368-be66-4f18-8f2a-3c24b2656e04\",\"type\":\"Line\"},\"hover_glyph\":null,\"muted_glyph\":null,\"nonselection_glyph\":{\"id\":\"cc209dcd-c46e-4c64-98f2-d50bab101a28\",\"type\":\"Line\"},\"selection_glyph\":null,\"view\":{\"id\":\"7db9a7bc-f069-440e-8e9f-27c23b0e8c7a\",\"type\":\"CDSView\"}},\"id\":\"9b4ebb1d-6045-45f1-b0f7-f399b99ce707\",\"type\":\"GlyphRenderer\"},{\"attributes\":{\"fill_color\":{\"value\":\"#2ca02c\"},\"line_color\":{\"value\":\"#2ca02c\"},\"x\":{\"field\":\"x\"},\"y\":{\"field\":\"y\"}},\"id\":\"1448d79a-94c8-46e5-8c43-5dc385e7d8d8\",\"type\":\"Circle\"},{\"attributes\":{\"fill_alpha\":{\"value\":0.1},\"fill_color\":{\"value\":\"#1f77b4\"},\"line_alpha\":{\"value\":0.1},\"line_color\":{\"value\":\"#1f77b4\"},\"x\":{\"field\":\"x\"},\"y\":{\"field\":\"y\"}},\"id\":\"5617ffdc-1f31-410d-97df-3109406ee05b\",\"type\":\"Circle\"},{\"attributes\":{\"source\":{\"id\":\"ce4380df-bb67-4dea-b380-8249809d45be\",\"type\":\"ColumnDataSource\"}},\"id\":\"7db9a7bc-f069-440e-8e9f-27c23b0e8c7a\",\"type\":\"CDSView\"},{\"attributes\":{\"data_source\":{\"id\":\"2d50c8b8-7af4-42d6-8a13-5bf9b3620417\",\"type\":\"ColumnDataSource\"},\"glyph\":{\"id\":\"1448d79a-94c8-46e5-8c43-5dc385e7d8d8\",\"type\":\"Circle\"},\"hover_glyph\":null,\"muted_glyph\":null,\"nonselection_glyph\":{\"id\":\"5617ffdc-1f31-410d-97df-3109406ee05b\",\"type\":\"Circle\"},\"selection_glyph\":null,\"view\":{\"id\":\"d3795195-df51-425b-8bba-160a9ebaa77e\",\"type\":\"CDSView\"}},\"id\":\"9509fc47-18c9-45b2-8f9e-8492a168fd19\",\"type\":\"GlyphRenderer\"},{\"attributes\":{\"label\":{\"value\":\"library\"},\"renderers\":[{\"id\":\"9b4ebb1d-6045-45f1-b0f7-f399b99ce707\",\"type\":\"GlyphRenderer\"},{\"id\":\"3318e4a9-2d3b-4768-a8a7-14ffb0ed33ba\",\"type\":\"GlyphRenderer\"}]},\"id\":\"c40570e5-19b4-4b4b-bf37-ff43b5260241\",\"type\":\"LegendItem\"},{\"attributes\":{\"callback\":null,\"column_names\":[\"x\",\"y\"],\"data\":{\"x\":[1,2,5,10,20,50,100,200,500,1000,2000],\"y\":[3.91571840737015e-06,7.2433939203619956e-06,1.4987080940045414e-05,3.0398783273994922e-05,7.70214624935761e-05,0.0003747431433293968,0.0015680668415734545,0.00739021853893064,0.05986085925658699,0.29679561396478676,1.2218749636859867]}},\"id\":\"3e3121a2-c9f9-4dbc-94bb-ae301ffede6d\",\"type\":\"ColumnDataSource\"},{\"attributes\":{\"source\":{\"id\":\"2d50c8b8-7af4-42d6-8a13-5bf9b3620417\",\"type\":\"ColumnDataSource\"}},\"id\":\"d3795195-df51-425b-8bba-160a9ebaa77e\",\"type\":\"CDSView\"},{\"attributes\":{\"label\":{\"value\":\"to_sqrt\"},\"renderers\":[{\"id\":\"75c9a99e-8b06-41e9-8fd8-046046264068\",\"type\":\"GlyphRenderer\"},{\"id\":\"9509fc47-18c9-45b2-8f9e-8492a168fd19\",\"type\":\"GlyphRenderer\"}]},\"id\":\"592a1c41-64c7-4f61-9a35-6ee80240ef65\",\"type\":\"LegendItem\"},{\"attributes\":{\"label\":{\"value\":\"sieve\"},\"renderers\":[{\"id\":\"59cdfd39-0e3d-42cf-a07f-24056aa568a8\",\"type\":\"GlyphRenderer\"},{\"id\":\"dc2c39e2-e243-46a3-b9c2-1566fef78d4b\",\"type\":\"GlyphRenderer\"}]},\"id\":\"66293132-8c4d-4507-a0c5-85f0957d37e5\",\"type\":\"LegendItem\"},{\"attributes\":{\"fill_color\":{\"value\":\"#17becf\"},\"line_color\":{\"value\":\"#17becf\"},\"x\":{\"field\":\"x\"},\"y\":{\"field\":\"y\"}},\"id\":\"9979b97f-9598-4b26-9c9d-6058a6b7c36e\",\"type\":\"Circle\"},{\"attributes\":{\"callback\":null,\"column_names\":[\"x\",\"y\"],\"data\":{\"x\":[1,2,5,10,20,50,100,200,500,1000,2000,5000,10000],\"y\":[1.6776920529082417e-06,3.437398700043559e-06,6.455089314840734e-06,1.2009789934381842e-05,2.3841459187678994e-05,8.453016518615187e-05,0.00027960187930148095,0.0010557575873099267,0.006852055275230668,0.029649630992207673,0.13802742869767826,0.7851034203986638,3.083855590078165]}},\"id\":\"3d9a92f0-9b66-4044-95d3-856b62d367c7\",\"type\":\"ColumnDataSource\"},{\"attributes\":{\"fill_alpha\":{\"value\":0.1},\"fill_color\":{\"value\":\"#1f77b4\"},\"line_alpha\":{\"value\":0.1},\"line_color\":{\"value\":\"#1f77b4\"},\"x\":{\"field\":\"x\"},\"y\":{\"field\":\"y\"}},\"id\":\"1f304b2e-8d82-4cfd-b948-123d16aaf3b5\",\"type\":\"Circle\"},{\"attributes\":{\"data_source\":{\"id\":\"b0bd6923-4b1b-49fe-b303-c68eda6203ec\",\"type\":\"ColumnDataSource\"},\"glyph\":{\"id\":\"80349a1f-f686-4569-bceb-06b8b9d4f7a2\",\"type\":\"Line\"},\"hover_glyph\":null,\"muted_glyph\":null,\"nonselection_glyph\":{\"id\":\"e838ceeb-fda1-49d8-b7f3-01175c5c43b2\",\"type\":\"Line\"},\"selection_glyph\":null,\"view\":{\"id\":\"8dcbf97d-4b09-4df3-884f-91e7977edd67\",\"type\":\"CDSView\"}},\"id\":\"75c9a99e-8b06-41e9-8fd8-046046264068\",\"type\":\"GlyphRenderer\"},{\"attributes\":{\"callback\":null,\"column_names\":[\"x\",\"y\"],\"data\":{\"x\":[1,2,5,10,20,50,100,200,500,1000,2000,5000,10000],\"y\":[1.6776920529082417e-06,3.437398700043559e-06,6.455089314840734e-06,1.2009789934381842e-05,2.3841459187678994e-05,8.453016518615187e-05,0.00027960187930148095,0.0010557575873099267,0.006852055275230668,0.029649630992207673,0.13802742869767826,0.7851034203986638,3.083855590078165]}},\"id\":\"6fb7252d-c5f2-4108-89bc-4a68651a0612\",\"type\":\"ColumnDataSource\"},{\"attributes\":{\"source\":{\"id\":\"ce4380df-bb67-4dea-b380-8249809d45be\",\"type\":\"ColumnDataSource\"}},\"id\":\"f915a611-b596-44c3-b004-25f7e9fd42c1\",\"type\":\"CDSView\"},{\"attributes\":{\"data_source\":{\"id\":\"3d9a92f0-9b66-4044-95d3-856b62d367c7\",\"type\":\"ColumnDataSource\"},\"glyph\":{\"id\":\"828339e5-2729-4fd6-8063-76eaf615926e\",\"type\":\"Line\"},\"hover_glyph\":null,\"muted_glyph\":null,\"nonselection_glyph\":{\"id\":\"d3b892f0-f50e-4028-ba4d-b1a4af106165\",\"type\":\"Line\"},\"selection_glyph\":null,\"view\":{\"id\":\"0b384bed-a9aa-445d-a099-4cd9ebabedcd\",\"type\":\"CDSView\"}},\"id\":\"c1494a27-57f8-4e7f-8eb3-51041d1b1c07\",\"type\":\"GlyphRenderer\"},{\"attributes\":{\"data_source\":{\"id\":\"ce4380df-bb67-4dea-b380-8249809d45be\",\"type\":\"ColumnDataSource\"},\"glyph\":{\"id\":\"9979b97f-9598-4b26-9c9d-6058a6b7c36e\",\"type\":\"Circle\"},\"hover_glyph\":null,\"muted_glyph\":null,\"nonselection_glyph\":{\"id\":\"1f304b2e-8d82-4cfd-b948-123d16aaf3b5\",\"type\":\"Circle\"},\"selection_glyph\":null,\"view\":{\"id\":\"f915a611-b596-44c3-b004-25f7e9fd42c1\",\"type\":\"CDSView\"}},\"id\":\"3318e4a9-2d3b-4768-a8a7-14ffb0ed33ba\",\"type\":\"GlyphRenderer\"},{\"attributes\":{\"data_source\":{\"id\":\"dddb4d3d-564b-43da-816e-9c13f0614392\",\"type\":\"ColumnDataSource\"},\"glyph\":{\"id\":\"57b795bc-02c4-43cd-9787-6ad27df33242\",\"type\":\"Circle\"},\"hover_glyph\":null,\"muted_glyph\":null,\"nonselection_glyph\":{\"id\":\"a8bd4103-7206-4270-a04e-d956b3a11cd9\",\"type\":\"Circle\"},\"selection_glyph\":null,\"view\":{\"id\":\"63b0055a-a78d-4b0f-90f7-f16304f1a2d6\",\"type\":\"CDSView\"}},\"id\":\"ed43ce7a-7644-43e4-9d1f-5250c6ae2540\",\"type\":\"GlyphRenderer\"},{\"attributes\":{\"source\":{\"id\":\"3d9a92f0-9b66-4044-95d3-856b62d367c7\",\"type\":\"ColumnDataSource\"}},\"id\":\"0b384bed-a9aa-445d-a099-4cd9ebabedcd\",\"type\":\"CDSView\"},{\"attributes\":{\"format\":\"0[.]0 a\"},\"id\":\"4db044ea-64b6-4690-a009-04e7f09e8eda\",\"type\":\"NumeralTickFormatter\"},{\"attributes\":{\"line_alpha\":0.1,\"line_color\":\"#1f77b4\",\"line_dash\":[6],\"x\":{\"field\":\"x\"},\"y\":{\"field\":\"y\"}},\"id\":\"e838ceeb-fda1-49d8-b7f3-01175c5c43b2\",\"type\":\"Line\"},{\"attributes\":{\"line_alpha\":0.1,\"line_color\":\"#1f77b4\",\"line_dash\":[6],\"x\":{\"field\":\"x\"},\"y\":{\"field\":\"y\"}},\"id\":\"d3b892f0-f50e-4028-ba4d-b1a4af106165\",\"type\":\"Line\"},{\"attributes\":{\"label\":{\"value\":\"check_primes\"},\"renderers\":[{\"id\":\"c1494a27-57f8-4e7f-8eb3-51041d1b1c07\",\"type\":\"GlyphRenderer\"},{\"id\":\"3859b5ff-49a6-475f-88ea-47414f77cb71\",\"type\":\"GlyphRenderer\"}]},\"id\":\"f9898086-577d-4edb-8ede-eea1d7de239e\",\"type\":\"LegendItem\"},{\"attributes\":{\"line_color\":\"#2ca02c\",\"line_dash\":[6],\"x\":{\"field\":\"x\"},\"y\":{\"field\":\"y\"}},\"id\":\"80349a1f-f686-4569-bceb-06b8b9d4f7a2\",\"type\":\"Line\"},{\"attributes\":{\"line_color\":\"#d62728\",\"line_dash\":[6],\"x\":{\"field\":\"x\"},\"y\":{\"field\":\"y\"}},\"id\":\"828339e5-2729-4fd6-8063-76eaf615926e\",\"type\":\"Line\"},{\"attributes\":{\"source\":{\"id\":\"913e4c36-af73-4577-b402-aea15c313918\",\"type\":\"ColumnDataSource\"}},\"id\":\"45f21b0f-50ee-4204-94e0-f98547c41e6e\",\"type\":\"CDSView\"},{\"attributes\":{\"fill_color\":{\"value\":\"#d62728\"},\"line_color\":{\"value\":\"#d62728\"},\"x\":{\"field\":\"x\"},\"y\":{\"field\":\"y\"}},\"id\":\"bc3ee131-bc5d-4679-b320-b01ce12bfa20\",\"type\":\"Circle\"},{\"attributes\":{\"data_source\":{\"id\":\"6fb7252d-c5f2-4108-89bc-4a68651a0612\",\"type\":\"ColumnDataSource\"},\"glyph\":{\"id\":\"bc3ee131-bc5d-4679-b320-b01ce12bfa20\",\"type\":\"Circle\"},\"hover_glyph\":null,\"muted_glyph\":null,\"nonselection_glyph\":{\"id\":\"36f307c7-2b8c-4ff3-9f5c-14593adb0135\",\"type\":\"Circle\"},\"selection_glyph\":null,\"view\":{\"id\":\"795643b2-ce25-4cfd-ac9b-e3443d0cd30d\",\"type\":\"CDSView\"}},\"id\":\"3859b5ff-49a6-475f-88ea-47414f77cb71\",\"type\":\"GlyphRenderer\"},{\"attributes\":{\"fill_alpha\":{\"value\":0.1},\"fill_color\":{\"value\":\"#1f77b4\"},\"line_alpha\":{\"value\":0.1},\"line_color\":{\"value\":\"#1f77b4\"},\"x\":{\"field\":\"x\"},\"y\":{\"field\":\"y\"}},\"id\":\"36f307c7-2b8c-4ff3-9f5c-14593adb0135\",\"type\":\"Circle\"},{\"attributes\":{\"callback\":null,\"column_names\":[\"x\",\"y\"],\"data\":{\"x\":[1,2,5,10,20,50,100,200,500,1000,2000,5000,10000,20000,50000],\"y\":[2.0776950987055897e-06,4.807374207302928e-06,9.304063278250396e-06,1.4982775319367647e-05,2.604048640932888e-05,6.168118445202709e-05,0.00014151587442029267,0.000367499552667141,0.0011843392433365807,0.0030475399282295255,0.00832839964015875,0.03472050534677691,0.09592763604538049,0.25508131872164086,0.8234529124136316]}},\"id\":\"b4fbee8a-04ee-4274-a1ac-165fd3a148c1\",\"type\":\"ColumnDataSource\"},{\"attributes\":{\"data_source\":{\"id\":\"913e4c36-af73-4577-b402-aea15c313918\",\"type\":\"ColumnDataSource\"},\"glyph\":{\"id\":\"d8ec9d28-d6ca-4e99-b54a-ef720c04790c\",\"type\":\"Line\"},\"hover_glyph\":null,\"muted_glyph\":null,\"nonselection_glyph\":{\"id\":\"88d90f7e-9cdc-4e6f-ad8d-73718a0485fb\",\"type\":\"Line\"},\"selection_glyph\":null,\"view\":{\"id\":\"45f21b0f-50ee-4204-94e0-f98547c41e6e\",\"type\":\"CDSView\"}},\"id\":\"59cdfd39-0e3d-42cf-a07f-24056aa568a8\",\"type\":\"GlyphRenderer\"},{\"attributes\":{\"num_minor_ticks\":10},\"id\":\"199c4ac7-b1a5-4b49-bb73-aabd5ddb0afb\",\"type\":\"LogTicker\"},{\"attributes\":{\"source\":{\"id\":\"6fb7252d-c5f2-4108-89bc-4a68651a0612\",\"type\":\"ColumnDataSource\"}},\"id\":\"795643b2-ce25-4cfd-ac9b-e3443d0cd30d\",\"type\":\"CDSView\"},{\"attributes\":{\"line_alpha\":0.1,\"line_color\":\"#1f77b4\",\"line_dash\":[6],\"x\":{\"field\":\"x\"},\"y\":{\"field\":\"y\"}},\"id\":\"88d90f7e-9cdc-4e6f-ad8d-73718a0485fb\",\"type\":\"Line\"},{\"attributes\":{},\"id\":\"6ae32ad2-dc67-4c8a-accb-fe801cae7465\",\"type\":\"LogScale\"},{\"attributes\":{\"data_source\":{\"id\":\"b4fbee8a-04ee-4274-a1ac-165fd3a148c1\",\"type\":\"ColumnDataSource\"},\"glyph\":{\"id\":\"edc93317-cb2c-41ad-b37f-10791e597151\",\"type\":\"Line\"},\"hover_glyph\":null,\"muted_glyph\":null,\"nonselection_glyph\":{\"id\":\"dd951271-c667-493a-92ba-9f8ef98e6645\",\"type\":\"Line\"},\"selection_glyph\":null,\"view\":{\"id\":\"25840141-b97d-4598-83e5-877903eb042e\",\"type\":\"CDSView\"}},\"id\":\"00f236a6-eff8-4ded-b992-308ebe79c306\",\"type\":\"GlyphRenderer\"},{\"attributes\":{\"background_fill_alpha\":{\"value\":0.5},\"click_policy\":\"hide\",\"items\":[{\"id\":\"160d2780-2876-48a0-9525-2a651b6d3859\",\"type\":\"LegendItem\"},{\"id\":\"a7029d68-d314-4e10-a172-2ee448a8d71e\",\"type\":\"LegendItem\"},{\"id\":\"592a1c41-64c7-4f61-9a35-6ee80240ef65\",\"type\":\"LegendItem\"},{\"id\":\"f9898086-577d-4edb-8ede-eea1d7de239e\",\"type\":\"LegendItem\"},{\"id\":\"129ab0f4-f6ac-4d8e-9d76-9b04fada8f2e\",\"type\":\"LegendItem\"},{\"id\":\"66293132-8c4d-4507-a0c5-85f0957d37e5\",\"type\":\"LegendItem\"},{\"id\":\"9d8ff2e1-b390-40a7-94b9-390fbdc10cf2\",\"type\":\"LegendItem\"},{\"id\":\"9cba40de-f264-4be3-8aca-c07955a62eae\",\"type\":\"LegendItem\"},{\"id\":\"eb948f39-10e1-4604-b45f-54875d35174b\",\"type\":\"LegendItem\"},{\"id\":\"c40570e5-19b4-4b4b-bf37-ff43b5260241\",\"type\":\"LegendItem\"}],\"location\":\"top_left\",\"plot\":{\"id\":\"bf30f4f9-9714-4835-95f2-28adadfa4051\",\"subtype\":\"Figure\",\"type\":\"Plot\"}},\"id\":\"41fbf8e1-5c87-4641-b817-14f9414d6140\",\"type\":\"Legend\"},{\"attributes\":{\"source\":{\"id\":\"b4fbee8a-04ee-4274-a1ac-165fd3a148c1\",\"type\":\"ColumnDataSource\"}},\"id\":\"25840141-b97d-4598-83e5-877903eb042e\",\"type\":\"CDSView\"},{\"attributes\":{\"num_minor_ticks\":10},\"id\":\"792700c4-a700-49b1-9e3a-ff6469d7d486\",\"type\":\"LogTicker\"},{\"attributes\":{\"line_alpha\":0.1,\"line_color\":\"#1f77b4\",\"line_dash\":[6],\"x\":{\"field\":\"x\"},\"y\":{\"field\":\"y\"}},\"id\":\"dd951271-c667-493a-92ba-9f8ef98e6645\",\"type\":\"Line\"},{\"attributes\":{\"axis_label\":\"Primes\",\"formatter\":{\"id\":\"4db044ea-64b6-4690-a009-04e7f09e8eda\",\"type\":\"NumeralTickFormatter\"},\"plot\":{\"id\":\"bf30f4f9-9714-4835-95f2-28adadfa4051\",\"subtype\":\"Figure\",\"type\":\"Plot\"},\"ticker\":{\"id\":\"199c4ac7-b1a5-4b49-bb73-aabd5ddb0afb\",\"type\":\"LogTicker\"}},\"id\":\"c3940222-ed42-4c1f-a17f-e9fdfbfe376a\",\"type\":\"LogAxis\"},{\"attributes\":{\"label\":{\"value\":\"check_primes_sqrt\"},\"renderers\":[{\"id\":\"00f236a6-eff8-4ded-b992-308ebe79c306\",\"type\":\"GlyphRenderer\"},{\"id\":\"ab1b0223-697e-4469-a75a-8e0966cbf25a\",\"type\":\"GlyphRenderer\"}]},\"id\":\"129ab0f4-f6ac-4d8e-9d76-9b04fada8f2e\",\"type\":\"LegendItem\"},{\"attributes\":{\"below\":[{\"id\":\"c3940222-ed42-4c1f-a17f-e9fdfbfe376a\",\"type\":\"LogAxis\"}],\"left\":[{\"id\":\"e6825da3-f8cf-4520-9653-fe0a02537eb8\",\"type\":\"LogAxis\"}],\"plot_height\":400,\"plot_width\":800,\"renderers\":[{\"id\":\"c3940222-ed42-4c1f-a17f-e9fdfbfe376a\",\"type\":\"LogAxis\"},{\"id\":\"3ba27585-6d30-43d3-af8b-d5906ab0faa6\",\"type\":\"Grid\"},{\"id\":\"e6825da3-f8cf-4520-9653-fe0a02537eb8\",\"type\":\"LogAxis\"},{\"id\":\"eb657631-47c7-45bc-8c0f-dca27c8cb35a\",\"type\":\"Grid\"},{\"id\":\"c6a2e01f-360d-4478-99c7-2eb0e9172f4a\",\"type\":\"BoxAnnotation\"},{\"id\":\"41fbf8e1-5c87-4641-b817-14f9414d6140\",\"type\":\"Legend\"},{\"id\":\"d28836de-058b-4d1a-b26d-cb9d37255389\",\"type\":\"GlyphRenderer\"},{\"id\":\"a8ce9d58-c5bf-4d00-885a-755eb3d77cc6\",\"type\":\"GlyphRenderer\"},{\"id\":\"ea53dd35-aaee-49dc-b654-42746ca7861b\",\"type\":\"GlyphRenderer\"},{\"id\":\"ed43ce7a-7644-43e4-9d1f-5250c6ae2540\",\"type\":\"GlyphRenderer\"},{\"id\":\"75c9a99e-8b06-41e9-8fd8-046046264068\",\"type\":\"GlyphRenderer\"},{\"id\":\"9509fc47-18c9-45b2-8f9e-8492a168fd19\",\"type\":\"GlyphRenderer\"},{\"id\":\"c1494a27-57f8-4e7f-8eb3-51041d1b1c07\",\"type\":\"GlyphRenderer\"},{\"id\":\"3859b5ff-49a6-475f-88ea-47414f77cb71\",\"type\":\"GlyphRenderer\"},{\"id\":\"00f236a6-eff8-4ded-b992-308ebe79c306\",\"type\":\"GlyphRenderer\"},{\"id\":\"ab1b0223-697e-4469-a75a-8e0966cbf25a\",\"type\":\"GlyphRenderer\"},{\"id\":\"59cdfd39-0e3d-42cf-a07f-24056aa568a8\",\"type\":\"GlyphRenderer\"},{\"id\":\"dc2c39e2-e243-46a3-b9c2-1566fef78d4b\",\"type\":\"GlyphRenderer\"},{\"id\":\"3edbf1c1-2499-4362-b576-3b49a15fc437\",\"type\":\"GlyphRenderer\"},{\"id\":\"f67e45d0-7119-4ca2-a5b1-5a955664f54f\",\"type\":\"GlyphRenderer\"},{\"id\":\"312f87d5-ebd0-4447-8db6-8bc4091589b8\",\"type\":\"GlyphRenderer\"},{\"id\":\"1b28c8e0-e781-4360-96f6-6beb495015c8\",\"type\":\"GlyphRenderer\"},{\"id\":\"539b0a10-b832-42e5-903f-f11ad813bf1d\",\"type\":\"GlyphRenderer\"},{\"id\":\"2ae9c53c-bd99-4805-bb38-27b54071b344\",\"type\":\"GlyphRenderer\"},{\"id\":\"9b4ebb1d-6045-45f1-b0f7-f399b99ce707\",\"type\":\"GlyphRenderer\"},{\"id\":\"3318e4a9-2d3b-4768-a8a7-14ffb0ed33ba\",\"type\":\"GlyphRenderer\"}],\"title\":{\"id\":\"173ba6e5-78e7-4b41-bd02-1d1f6fb1bf3a\",\"type\":\"Title\"},\"toolbar\":{\"id\":\"55f6a30c-37ee-46c1-b3fc-b07a362fde8d\",\"type\":\"Toolbar\"},\"toolbar_location\":\"above\",\"x_range\":{\"id\":\"6e2d7d73-4d62-498f-bcef-f5022298a625\",\"type\":\"DataRange1d\"},\"x_scale\":{\"id\":\"6a022da8-990f-4aab-befa-946974500ad5\",\"type\":\"LogScale\"},\"y_range\":{\"id\":\"61499632-93e6-4876-ab4e-5cecca21a16c\",\"type\":\"Range1d\"},\"y_scale\":{\"id\":\"6ae32ad2-dc67-4c8a-accb-fe801cae7465\",\"type\":\"LogScale\"}},\"id\":\"bf30f4f9-9714-4835-95f2-28adadfa4051\",\"subtype\":\"Figure\",\"type\":\"Plot\"},{\"attributes\":{\"line_color\":\"#9467bd\",\"line_dash\":[6],\"x\":{\"field\":\"x\"},\"y\":{\"field\":\"y\"}},\"id\":\"edc93317-cb2c-41ad-b37f-10791e597151\",\"type\":\"Line\"},{\"attributes\":{\"callback\":null,\"column_names\":[\"x\",\"y\"],\"data\":{\"x\":[1,2,5,10,20,50,100,200,500,1000,2000,5000,10000,20000,50000,100000,200000,500000],\"y\":[5.6007137754932045e-06,5.7226879289373755e-06,7.333701360039413e-06,1.1411700979806483e-05,1.7947693704627456e-05,3.9022708660922946e-05,9.826669876929373e-05,0.0001914446783484891,0.0005650467082159593,0.0012503447086783127,0.0027368506725179032,0.007767140692449175,0.017164162682020104,0.04116779769712593,0.11953361571242567,0.2658971406944329,0.501684551681974,1.3743776777136372]}},\"id\":\"f0228d2e-b098-4dac-a8bd-3c4d84a3433d\",\"type\":\"ColumnDataSource\"},{\"attributes\":{\"line_alpha\":0.1,\"line_color\":\"#1f77b4\",\"line_dash\":[6],\"x\":{\"field\":\"x\"},\"y\":{\"field\":\"y\"}},\"id\":\"415db443-c44c-4de7-bfef-395d2334739b\",\"type\":\"Line\"},{\"attributes\":{\"fill_color\":{\"value\":\"#9467bd\"},\"line_color\":{\"value\":\"#9467bd\"},\"x\":{\"field\":\"x\"},\"y\":{\"field\":\"y\"}},\"id\":\"227d40b7-a00a-41bf-a472-bde5c9798378\",\"type\":\"Circle\"},{\"attributes\":{\"data_source\":{\"id\":\"b93195f6-4ff9-4fbe-8483-b287a96f1bf6\",\"type\":\"ColumnDataSource\"},\"glyph\":{\"id\":\"227d40b7-a00a-41bf-a472-bde5c9798378\",\"type\":\"Circle\"},\"hover_glyph\":null,\"muted_glyph\":null,\"nonselection_glyph\":{\"id\":\"62e512f2-cd29-47eb-9cfe-5fd143c5cd30\",\"type\":\"Circle\"},\"selection_glyph\":null,\"view\":{\"id\":\"a730ec17-25f4-4997-81b6-3b89750c2f17\",\"type\":\"CDSView\"}},\"id\":\"ab1b0223-697e-4469-a75a-8e0966cbf25a\",\"type\":\"GlyphRenderer\"},{\"attributes\":{\"callback\":null,\"start\":1e-06},\"id\":\"61499632-93e6-4876-ab4e-5cecca21a16c\",\"type\":\"Range1d\"},{\"attributes\":{\"fill_alpha\":{\"value\":0.1},\"fill_color\":{\"value\":\"#1f77b4\"},\"line_alpha\":{\"value\":0.1},\"line_color\":{\"value\":\"#1f77b4\"},\"x\":{\"field\":\"x\"},\"y\":{\"field\":\"y\"}},\"id\":\"62e512f2-cd29-47eb-9cfe-5fd143c5cd30\",\"type\":\"Circle\"},{\"attributes\":{\"callback\":null,\"column_names\":[\"x\",\"y\"],\"data\":{\"x\":[1,2,5,10,20,50,100,200,500,1000,2000,5000,10000,20000,50000,100000],\"y\":[2.0866881823167204e-06,3.79237812012434e-06,1.138807216193527e-05,2.068875590339303e-05,3.8286446942947806e-05,0.00010056713246740402,0.000245667802519165,0.0006002235016785562,0.0021307142026489602,0.005559856904437766,0.014105296596535482,0.04965847430052236,0.12094846399209927,0.2623382096597925,0.8168046993348981,1.8533415710250847]}},\"id\":\"095318e6-bac8-4030-822a-5573fe71192b\",\"type\":\"ColumnDataSource\"},{\"attributes\":{\"callback\":null,\"column_names\":[\"x\",\"y\"],\"data\":{\"x\":[],\"y\":[]}},\"id\":\"ce4380df-bb67-4dea-b380-8249809d45be\",\"type\":\"ColumnDataSource\"},{\"attributes\":{\"active_drag\":\"auto\",\"active_inspect\":\"auto\",\"active_scroll\":\"auto\",\"active_tap\":\"auto\",\"tools\":[{\"id\":\"1f827033-5358-47f5-a646-e247789b39d6\",\"type\":\"PanTool\"},{\"id\":\"e235335c-6864-4f45-af1e-ff9353b3f336\",\"type\":\"WheelZoomTool\"},{\"id\":\"f425bdf0-17c5-4bea-8502-239ccea4f791\",\"type\":\"BoxZoomTool\"},{\"id\":\"d95807be-0dd3-413e-8573-a8df3cd84cca\",\"type\":\"SaveTool\"},{\"id\":\"55061408-97db-4e73-93fe-d8664aa1bfa9\",\"type\":\"ResetTool\"},{\"id\":\"914d4417-ced5-4028-89e6-a440ada5dfa3\",\"type\":\"HelpTool\"}]},\"id\":\"55f6a30c-37ee-46c1-b3fc-b07a362fde8d\",\"type\":\"Toolbar\"},{\"attributes\":{\"source\":{\"id\":\"095318e6-bac8-4030-822a-5573fe71192b\",\"type\":\"ColumnDataSource\"}},\"id\":\"ea6e7d71-173e-4122-aa88-1975b948fdda\",\"type\":\"CDSView\"},{\"attributes\":{\"axis_label\":\"Seconds\",\"formatter\":{\"id\":\"8241ba74-729a-4207-b036-0665e6162dea\",\"type\":\"LogTickFormatter\"},\"plot\":{\"id\":\"bf30f4f9-9714-4835-95f2-28adadfa4051\",\"subtype\":\"Figure\",\"type\":\"Plot\"},\"ticker\":{\"id\":\"792700c4-a700-49b1-9e3a-ff6469d7d486\",\"type\":\"LogTicker\"}},\"id\":\"e6825da3-f8cf-4520-9653-fe0a02537eb8\",\"type\":\"LogAxis\"},{\"attributes\":{\"source\":{\"id\":\"b93195f6-4ff9-4fbe-8483-b287a96f1bf6\",\"type\":\"ColumnDataSource\"}},\"id\":\"a730ec17-25f4-4997-81b6-3b89750c2f17\",\"type\":\"CDSView\"},{\"attributes\":{\"data_source\":{\"id\":\"f0228d2e-b098-4dac-a8bd-3c4d84a3433d\",\"type\":\"ColumnDataSource\"},\"glyph\":{\"id\":\"882dd5f8-c3ce-446e-a051-4b77652fe0c7\",\"type\":\"Circle\"},\"hover_glyph\":null,\"muted_glyph\":null,\"nonselection_glyph\":{\"id\":\"4ed185d2-339e-498c-85e8-2c4fe3f34679\",\"type\":\"Circle\"},\"selection_glyph\":null,\"view\":{\"id\":\"a03bc640-d2c5-4a3e-a6c9-dadb5eb19bf0\",\"type\":\"CDSView\"}},\"id\":\"dc2c39e2-e243-46a3-b9c2-1566fef78d4b\",\"type\":\"GlyphRenderer\"},{\"attributes\":{\"dimension\":1,\"plot\":{\"id\":\"bf30f4f9-9714-4835-95f2-28adadfa4051\",\"subtype\":\"Figure\",\"type\":\"Plot\"},\"ticker\":{\"id\":\"792700c4-a700-49b1-9e3a-ff6469d7d486\",\"type\":\"LogTicker\"}},\"id\":\"eb657631-47c7-45bc-8c0f-dca27c8cb35a\",\"type\":\"Grid\"},{\"attributes\":{\"fill_alpha\":{\"value\":0.1},\"fill_color\":{\"value\":\"#1f77b4\"},\"line_alpha\":{\"value\":0.1},\"line_color\":{\"value\":\"#1f77b4\"},\"x\":{\"field\":\"x\"},\"y\":{\"field\":\"y\"}},\"id\":\"4ed185d2-339e-498c-85e8-2c4fe3f34679\",\"type\":\"Circle\"},{\"attributes\":{\"callback\":null,\"start\":1},\"id\":\"6e2d7d73-4d62-498f-bcef-f5022298a625\",\"type\":\"DataRange1d\"},{\"attributes\":{\"callback\":null,\"column_names\":[\"x\",\"y\"],\"data\":{\"x\":[1,2,5,10,20,50,100,200,500,1000,2000,5000,10000,20000,50000,100000],\"y\":[2.836693893186748e-06,5.21340174600482e-06,1.323508855421096e-05,2.4005777668207884e-05,4.719748685602099e-05,0.0001269451854750514,0.0003609428653726354,0.0009481885784771292,0.0031190182938007635,0.00745443599880673,0.018347232709056697,0.05661203039111569,0.13098114608961622,0.2943975747865625,0.8007890704873717,1.8081262511829845]}},\"id\":\"6442da47-cb94-4657-a9b9-dee69ec9afac\",\"type\":\"ColumnDataSource\"},{\"attributes\":{},\"id\":\"55061408-97db-4e73-93fe-d8664aa1bfa9\",\"type\":\"ResetTool\"},{\"attributes\":{\"fill_color\":{\"value\":\"#8c564b\"},\"line_color\":{\"value\":\"#8c564b\"},\"x\":{\"field\":\"x\"},\"y\":{\"field\":\"y\"}},\"id\":\"882dd5f8-c3ce-446e-a051-4b77652fe0c7\",\"type\":\"Circle\"},{\"attributes\":{\"data_source\":{\"id\":\"095318e6-bac8-4030-822a-5573fe71192b\",\"type\":\"ColumnDataSource\"},\"glyph\":{\"id\":\"188e86f4-1f9e-4b54-84f9-b328f3b654ab\",\"type\":\"Circle\"},\"hover_glyph\":null,\"muted_glyph\":null,\"nonselection_glyph\":{\"id\":\"107de1b3-e0ba-40b6-b746-159b5d29f045\",\"type\":\"Circle\"},\"selection_glyph\":null,\"view\":{\"id\":\"ea6e7d71-173e-4122-aa88-1975b948fdda\",\"type\":\"CDSView\"}},\"id\":\"2ae9c53c-bd99-4805-bb38-27b54071b344\",\"type\":\"GlyphRenderer\"},{\"attributes\":{\"line_color\":\"#1f77b4\",\"line_dash\":[6],\"x\":{\"field\":\"x\"},\"y\":{\"field\":\"y\"}},\"id\":\"d009982a-ad79-47cb-9d47-5d1b179f6d0b\",\"type\":\"Line\"},{\"attributes\":{\"plot\":null,\"text\":\"Timing\"},\"id\":\"173ba6e5-78e7-4b41-bd02-1d1f6fb1bf3a\",\"type\":\"Title\"},{\"attributes\":{\"source\":{\"id\":\"f0228d2e-b098-4dac-a8bd-3c4d84a3433d\",\"type\":\"ColumnDataSource\"}},\"id\":\"a03bc640-d2c5-4a3e-a6c9-dadb5eb19bf0\",\"type\":\"CDSView\"},{\"attributes\":{},\"id\":\"6a022da8-990f-4aab-befa-946974500ad5\",\"type\":\"LogScale\"},{\"attributes\":{\"callback\":null,\"column_names\":[\"x\",\"y\"],\"data\":{\"x\":[1,2,5,10,20,50,100,200,500,1000,2000,5000,10000,20000,50000,100000],\"y\":[2.836693893186748e-06,5.21340174600482e-06,1.323508855421096e-05,2.4005777668207884e-05,4.719748685602099e-05,0.0001269451854750514,0.0003609428653726354,0.0009481885784771292,0.0031190182938007635,0.00745443599880673,0.018347232709056697,0.05661203039111569,0.13098114608961622,0.2943975747865625,0.8007890704873717,1.8081262511829845]}},\"id\":\"5ee1d85c-08a9-4e99-abfe-0d4ea27e86d4\",\"type\":\"ColumnDataSource\"},{\"attributes\":{\"plot\":{\"id\":\"bf30f4f9-9714-4835-95f2-28adadfa4051\",\"subtype\":\"Figure\",\"type\":\"Plot\"},\"ticker\":{\"id\":\"199c4ac7-b1a5-4b49-bb73-aabd5ddb0afb\",\"type\":\"LogTicker\"}},\"id\":\"3ba27585-6d30-43d3-af8b-d5906ab0faa6\",\"type\":\"Grid\"},{\"attributes\":{\"data_source\":{\"id\":\"6442da47-cb94-4657-a9b9-dee69ec9afac\",\"type\":\"ColumnDataSource\"},\"glyph\":{\"id\":\"be80c363-3f9a-4299-8d06-5acfcc509ab8\",\"type\":\"Line\"},\"hover_glyph\":null,\"muted_glyph\":null,\"nonselection_glyph\":{\"id\":\"b0dc9baa-ec6f-4294-9577-50a244ad2756\",\"type\":\"Line\"},\"selection_glyph\":null,\"view\":{\"id\":\"d536ac9c-5f21-442e-90bb-7ac819c078b7\",\"type\":\"CDSView\"}},\"id\":\"3edbf1c1-2499-4362-b576-3b49a15fc437\",\"type\":\"GlyphRenderer\"},{\"attributes\":{\"data_source\":{\"id\":\"3e3121a2-c9f9-4dbc-94bb-ae301ffede6d\",\"type\":\"ColumnDataSource\"},\"glyph\":{\"id\":\"d009982a-ad79-47cb-9d47-5d1b179f6d0b\",\"type\":\"Line\"},\"hover_glyph\":null,\"muted_glyph\":null,\"nonselection_glyph\":{\"id\":\"415db443-c44c-4de7-bfef-395d2334739b\",\"type\":\"Line\"},\"selection_glyph\":null,\"view\":{\"id\":\"b3978a9b-33de-4bce-a8b4-3e4eab33e0ab\",\"type\":\"CDSView\"}},\"id\":\"d28836de-058b-4d1a-b26d-cb9d37255389\",\"type\":\"GlyphRenderer\"},{\"attributes\":{\"source\":{\"id\":\"6442da47-cb94-4657-a9b9-dee69ec9afac\",\"type\":\"ColumnDataSource\"}},\"id\":\"d536ac9c-5f21-442e-90bb-7ac819c078b7\",\"type\":\"CDSView\"},{\"attributes\":{},\"id\":\"d95807be-0dd3-413e-8573-a8df3cd84cca\",\"type\":\"SaveTool\"},{\"attributes\":{\"line_alpha\":0.1,\"line_color\":\"#1f77b4\",\"line_dash\":[6],\"x\":{\"field\":\"x\"},\"y\":{\"field\":\"y\"}},\"id\":\"b0dc9baa-ec6f-4294-9577-50a244ad2756\",\"type\":\"Line\"},{\"attributes\":{},\"id\":\"1f827033-5358-47f5-a646-e247789b39d6\",\"type\":\"PanTool\"},{\"attributes\":{\"label\":{\"value\":\"unbounded_sieve\"},\"renderers\":[{\"id\":\"3edbf1c1-2499-4362-b576-3b49a15fc437\",\"type\":\"GlyphRenderer\"},{\"id\":\"f67e45d0-7119-4ca2-a5b1-5a955664f54f\",\"type\":\"GlyphRenderer\"}]},\"id\":\"9d8ff2e1-b390-40a7-94b9-390fbdc10cf2\",\"type\":\"LegendItem\"},{\"attributes\":{\"bottom_units\":\"screen\",\"fill_alpha\":{\"value\":0.5},\"fill_color\":{\"value\":\"lightgrey\"},\"left_units\":\"screen\",\"level\":\"overlay\",\"line_alpha\":{\"value\":1.0},\"line_color\":{\"value\":\"black\"},\"line_dash\":[4,4],\"line_width\":{\"value\":2},\"plot\":null,\"render_mode\":\"css\",\"right_units\":\"screen\",\"top_units\":\"screen\"},\"id\":\"c6a2e01f-360d-4478-99c7-2eb0e9172f4a\",\"type\":\"BoxAnnotation\"},{\"attributes\":{\"line_color\":\"#e377c2\",\"line_dash\":[6],\"x\":{\"field\":\"x\"},\"y\":{\"field\":\"y\"}},\"id\":\"be80c363-3f9a-4299-8d06-5acfcc509ab8\",\"type\":\"Line\"},{\"attributes\":{\"source\":{\"id\":\"3e3121a2-c9f9-4dbc-94bb-ae301ffede6d\",\"type\":\"ColumnDataSource\"}},\"id\":\"b3978a9b-33de-4bce-a8b4-3e4eab33e0ab\",\"type\":\"CDSView\"},{\"attributes\":{\"fill_alpha\":{\"value\":0.1},\"fill_color\":{\"value\":\"#1f77b4\"},\"line_alpha\":{\"value\":0.1},\"line_color\":{\"value\":\"#1f77b4\"},\"x\":{\"field\":\"x\"},\"y\":{\"field\":\"y\"}},\"id\":\"107de1b3-e0ba-40b6-b746-159b5d29f045\",\"type\":\"Circle\"},{\"attributes\":{\"overlay\":{\"id\":\"c6a2e01f-360d-4478-99c7-2eb0e9172f4a\",\"type\":\"BoxAnnotation\"}},\"id\":\"f425bdf0-17c5-4bea-8502-239ccea4f791\",\"type\":\"BoxZoomTool\"},{\"attributes\":{\"fill_color\":{\"value\":\"#e377c2\"},\"line_color\":{\"value\":\"#e377c2\"},\"x\":{\"field\":\"x\"},\"y\":{\"field\":\"y\"}},\"id\":\"35ed1d2e-0093-44ca-9bef-532d86ded2cc\",\"type\":\"Circle\"},{\"attributes\":{\"data_source\":{\"id\":\"5ee1d85c-08a9-4e99-abfe-0d4ea27e86d4\",\"type\":\"ColumnDataSource\"},\"glyph\":{\"id\":\"35ed1d2e-0093-44ca-9bef-532d86ded2cc\",\"type\":\"Circle\"},\"hover_glyph\":null,\"muted_glyph\":null,\"nonselection_glyph\":{\"id\":\"965de458-5cf3-4ee4-b772-a1c7aa6a50a7\",\"type\":\"Circle\"},\"selection_glyph\":null,\"view\":{\"id\":\"289adc2d-4be5-4418-add4-36db6007fc5d\",\"type\":\"CDSView\"}},\"id\":\"f67e45d0-7119-4ca2-a5b1-5a955664f54f\",\"type\":\"GlyphRenderer\"},{\"attributes\":{},\"id\":\"e235335c-6864-4f45-af1e-ff9353b3f336\",\"type\":\"WheelZoomTool\"},{\"attributes\":{\"fill_alpha\":{\"value\":0.1},\"fill_color\":{\"value\":\"#1f77b4\"},\"line_alpha\":{\"value\":0.1},\"line_color\":{\"value\":\"#1f77b4\"},\"x\":{\"field\":\"x\"},\"y\":{\"field\":\"y\"}},\"id\":\"965de458-5cf3-4ee4-b772-a1c7aa6a50a7\",\"type\":\"Circle\"},{\"attributes\":{\"callback\":null,\"column_names\":[\"x\",\"y\"],\"data\":{\"x\":[1,2,5,10,20,50,100,200,500,1000,2000],\"y\":[3.91571840737015e-06,7.2433939203619956e-06,1.4987080940045414e-05,3.0398783273994922e-05,7.70214624935761e-05,0.0003747431433293968,0.0015680668415734545,0.00739021853893064,0.05986085925658699,0.29679561396478676,1.2218749636859867]}},\"id\":\"96a6908f-320a-4cbf-83c3-7f2bf12e3e2d\",\"type\":\"ColumnDataSource\"},{\"attributes\":{\"callback\":null,\"column_names\":[\"x\",\"y\"],\"data\":{\"x\":[1,2,5,10,20,50,100,200,500,1000,2000,5000,10000,20000,50000,100000,200000],\"y\":[1.9326998153701424e-06,5.767393158748746e-06,1.0987079585902393e-05,1.8920785514637828e-05,3.2147488673217596e-05,7.130916812457145e-05,0.0001840808376437053,0.0004482235375326127,0.001225129222148098,0.0028561389073729513,0.006891081594512798,0.020594023305457086,0.045094661990297026,0.10346681269118563,0.3079074513778324,0.6424003540584817,1.3712305737432327]}},\"id\":\"0a957cab-7deb-4e0d-af81-d0c9bf5f24e1\",\"type\":\"ColumnDataSource\"},{\"attributes\":{\"callback\":null,\"column_names\":[\"x\",\"y\"],\"data\":{\"x\":[1,2,5,10,20,50,100,200,500,1000,2000,5000],\"y\":[1.928683486767113e-06,5.348356207832694e-06,1.0088062263093889e-05,1.932975254021585e-05,4.36724309111014e-05,0.00019079910591244696,0.0007820247969357296,0.0036099665006622673,0.029195572207099757,0.15714686589781196,0.6617195535992506,4.328593240285991]}},\"id\":\"dddb4d3d-564b-43da-816e-9c13f0614392\",\"type\":\"ColumnDataSource\"},{\"attributes\":{\"fill_color\":{\"value\":\"#bcbd22\"},\"line_color\":{\"value\":\"#bcbd22\"},\"x\":{\"field\":\"x\"},\"y\":{\"field\":\"y\"}},\"id\":\"188e86f4-1f9e-4b54-84f9-b328f3b654ab\",\"type\":\"Circle\"},{\"attributes\":{},\"id\":\"914d4417-ced5-4028-89e6-a440ada5dfa3\",\"type\":\"HelpTool\"},{\"attributes\":{\"source\":{\"id\":\"5ee1d85c-08a9-4e99-abfe-0d4ea27e86d4\",\"type\":\"ColumnDataSource\"}},\"id\":\"289adc2d-4be5-4418-add4-36db6007fc5d\",\"type\":\"CDSView\"},{\"attributes\":{\"ticker\":null},\"id\":\"8241ba74-729a-4207-b036-0665e6162dea\",\"type\":\"LogTickFormatter\"},{\"attributes\":{\"callback\":null,\"column_names\":[\"x\",\"y\"],\"data\":{\"x\":[1,2,5,10,20,50,100,200,500,1000,2000,5000,10000,20000,50000,100000,200000],\"y\":[1.9326998153701424e-06,5.767393158748746e-06,1.0987079585902393e-05,1.8920785514637828e-05,3.2147488673217596e-05,7.130916812457145e-05,0.0001840808376437053,0.0004482235375326127,0.001225129222148098,0.0028561389073729513,0.006891081594512798,0.020594023305457086,0.045094661990297026,0.10346681269118563,0.3079074513778324,0.6424003540584817,1.3712305737432327]}},\"id\":\"db9c59e0-6b96-4f97-9523-779face849df\",\"type\":\"ColumnDataSource\"},{\"attributes\":{\"data_source\":{\"id\":\"0a957cab-7deb-4e0d-af81-d0c9bf5f24e1\",\"type\":\"ColumnDataSource\"},\"glyph\":{\"id\":\"644a267a-05df-4230-b156-adecc469cd6d\",\"type\":\"Line\"},\"hover_glyph\":null,\"muted_glyph\":null,\"nonselection_glyph\":{\"id\":\"5631ed2f-f8e1-43d6-8bb2-0af189aad9a3\",\"type\":\"Line\"},\"selection_glyph\":null,\"view\":{\"id\":\"2ba17d7b-c0cb-482f-87fd-c2aa91abdc6a\",\"type\":\"CDSView\"}},\"id\":\"312f87d5-ebd0-4447-8db6-8bc4091589b8\",\"type\":\"GlyphRenderer\"},{\"attributes\":{\"source\":{\"id\":\"96a6908f-320a-4cbf-83c3-7f2bf12e3e2d\",\"type\":\"ColumnDataSource\"}},\"id\":\"861c5a4e-16bb-4374-b4b1-61db6e7df36a\",\"type\":\"CDSView\"},{\"attributes\":{\"label\":{\"value\":\"first_try\"},\"renderers\":[{\"id\":\"d28836de-058b-4d1a-b26d-cb9d37255389\",\"type\":\"GlyphRenderer\"},{\"id\":\"a8ce9d58-c5bf-4d00-885a-755eb3d77cc6\",\"type\":\"GlyphRenderer\"}]},\"id\":\"160d2780-2876-48a0-9525-2a651b6d3859\",\"type\":\"LegendItem\"},{\"attributes\":{\"source\":{\"id\":\"0a957cab-7deb-4e0d-af81-d0c9bf5f24e1\",\"type\":\"ColumnDataSource\"}},\"id\":\"2ba17d7b-c0cb-482f-87fd-c2aa91abdc6a\",\"type\":\"CDSView\"},{\"attributes\":{\"data_source\":{\"id\":\"96a6908f-320a-4cbf-83c3-7f2bf12e3e2d\",\"type\":\"ColumnDataSource\"},\"glyph\":{\"id\":\"6b4e6050-138d-45f9-8e96-9c6f6d03f4ad\",\"type\":\"Circle\"},\"hover_glyph\":null,\"muted_glyph\":null,\"nonselection_glyph\":{\"id\":\"dc6f477f-26e4-4b2c-bd40-129efdce699c\",\"type\":\"Circle\"},\"selection_glyph\":null,\"view\":{\"id\":\"861c5a4e-16bb-4374-b4b1-61db6e7df36a\",\"type\":\"CDSView\"}},\"id\":\"a8ce9d58-c5bf-4d00-885a-755eb3d77cc6\",\"type\":\"GlyphRenderer\"},{\"attributes\":{\"line_alpha\":0.1,\"line_color\":\"#1f77b4\",\"line_dash\":[6],\"x\":{\"field\":\"x\"},\"y\":{\"field\":\"y\"}},\"id\":\"5631ed2f-f8e1-43d6-8bb2-0af189aad9a3\",\"type\":\"Line\"},{\"attributes\":{\"label\":{\"value\":\"improved_sieve\"},\"renderers\":[{\"id\":\"312f87d5-ebd0-4447-8db6-8bc4091589b8\",\"type\":\"GlyphRenderer\"},{\"id\":\"1b28c8e0-e781-4360-96f6-6beb495015c8\",\"type\":\"GlyphRenderer\"}]},\"id\":\"9cba40de-f264-4be3-8aca-c07955a62eae\",\"type\":\"LegendItem\"},{\"attributes\":{\"fill_alpha\":{\"value\":0.1},\"fill_color\":{\"value\":\"#1f77b4\"},\"line_alpha\":{\"value\":0.1},\"line_color\":{\"value\":\"#1f77b4\"},\"x\":{\"field\":\"x\"},\"y\":{\"field\":\"y\"}},\"id\":\"dc6f477f-26e4-4b2c-bd40-129efdce699c\",\"type\":\"Circle\"},{\"attributes\":{\"fill_color\":{\"value\":\"#1f77b4\"},\"line_color\":{\"value\":\"#1f77b4\"},\"x\":{\"field\":\"x\"},\"y\":{\"field\":\"y\"}},\"id\":\"6b4e6050-138d-45f9-8e96-9c6f6d03f4ad\",\"type\":\"Circle\"},{\"attributes\":{\"line_color\":\"#7f7f7f\",\"line_dash\":[6],\"x\":{\"field\":\"x\"},\"y\":{\"field\":\"y\"}},\"id\":\"644a267a-05df-4230-b156-adecc469cd6d\",\"type\":\"Line\"},{\"attributes\":{\"callback\":null,\"column_names\":[\"x\",\"y\"],\"data\":{\"x\":[1,2,5,10,20,50,100,200,500,1000,2000,5000,10000,20000,50000],\"y\":[1.9457092275843024e-06,6.114398129284382e-06,1.1780100758187473e-05,2.2780797444283962e-05,4.293648235034198e-05,0.00011111817322671414,0.000251019851421006,0.0005885235581081361,0.0019095742475474255,0.004739756946219132,0.01221786662528757,0.046385250308085234,0.13627362401981372,0.3649428817105945,1.3061569034151035]}},\"id\":\"2d50c8b8-7af4-42d6-8a13-5bf9b3620417\",\"type\":\"ColumnDataSource\"},{\"attributes\":{\"callback\":null,\"column_names\":[\"x\",\"y\"],\"data\":{\"x\":[1,2,5,10,20,50,100,200,500,1000,2000,5000],\"y\":[1.928683486767113e-06,5.348356207832694e-06,1.0088062263093889e-05,1.932975254021585e-05,4.36724309111014e-05,0.00019079910591244696,0.0007820247969357296,0.0036099665006622673,0.029195572207099757,0.15714686589781196,0.6617195535992506,4.328593240285991]}},\"id\":\"526f7f9a-b34f-4456-89f2-6213cfb9d455\",\"type\":\"ColumnDataSource\"},{\"attributes\":{\"fill_color\":{\"value\":\"#7f7f7f\"},\"line_color\":{\"value\":\"#7f7f7f\"},\"x\":{\"field\":\"x\"},\"y\":{\"field\":\"y\"}},\"id\":\"8851cf7d-5ee1-4fe1-aa27-7f954312c8ef\",\"type\":\"Circle\"},{\"attributes\":{\"data_source\":{\"id\":\"db9c59e0-6b96-4f97-9523-779face849df\",\"type\":\"ColumnDataSource\"},\"glyph\":{\"id\":\"8851cf7d-5ee1-4fe1-aa27-7f954312c8ef\",\"type\":\"Circle\"},\"hover_glyph\":null,\"muted_glyph\":null,\"nonselection_glyph\":{\"id\":\"db4da4d2-d122-4c39-b49e-65c40d818676\",\"type\":\"Circle\"},\"selection_glyph\":null,\"view\":{\"id\":\"e2e34478-5312-40da-8d8e-a7830dd709fa\",\"type\":\"CDSView\"}},\"id\":\"1b28c8e0-e781-4360-96f6-6beb495015c8\",\"type\":\"GlyphRenderer\"},{\"attributes\":{\"fill_alpha\":{\"value\":0.1},\"fill_color\":{\"value\":\"#1f77b4\"},\"line_alpha\":{\"value\":0.1},\"line_color\":{\"value\":\"#1f77b4\"},\"x\":{\"field\":\"x\"},\"y\":{\"field\":\"y\"}},\"id\":\"a8bd4103-7206-4270-a04e-d956b3a11cd9\",\"type\":\"Circle\"},{\"attributes\":{\"source\":{\"id\":\"dddb4d3d-564b-43da-816e-9c13f0614392\",\"type\":\"ColumnDataSource\"}},\"id\":\"63b0055a-a78d-4b0f-90f7-f16304f1a2d6\",\"type\":\"CDSView\"},{\"attributes\":{\"fill_alpha\":{\"value\":0.1},\"fill_color\":{\"value\":\"#1f77b4\"},\"line_alpha\":{\"value\":0.1},\"line_color\":{\"value\":\"#1f77b4\"},\"x\":{\"field\":\"x\"},\"y\":{\"field\":\"y\"}},\"id\":\"db4da4d2-d122-4c39-b49e-65c40d818676\",\"type\":\"Circle\"},{\"attributes\":{\"data_source\":{\"id\":\"526f7f9a-b34f-4456-89f2-6213cfb9d455\",\"type\":\"ColumnDataSource\"},\"glyph\":{\"id\":\"8882aea0-51f5-4b86-b806-7e420b1e2126\",\"type\":\"Line\"},\"hover_glyph\":null,\"muted_glyph\":null,\"nonselection_glyph\":{\"id\":\"f92e5233-92b2-4ed4-a4b8-93486da5641d\",\"type\":\"Line\"},\"selection_glyph\":null,\"view\":{\"id\":\"9db0b1a9-9aa9-48fd-adea-090aff2ad044\",\"type\":\"CDSView\"}},\"id\":\"ea53dd35-aaee-49dc-b654-42746ca7861b\",\"type\":\"GlyphRenderer\"},{\"attributes\":{\"callback\":null,\"column_names\":[\"x\",\"y\"],\"data\":{\"x\":[1,2,5,10,20,50,100,200,500,1000,2000,5000,10000,20000,50000,100000],\"y\":[2.0866881823167204e-06,3.79237812012434e-06,1.138807216193527e-05,2.068875590339303e-05,3.8286446942947806e-05,0.00010056713246740402,0.000245667802519165,0.0006002235016785562,0.0021307142026489602,0.005559856904437766,0.014105296596535482,0.04965847430052236,0.12094846399209927,0.2623382096597925,0.8168046993348981,1.8533415710250847]}},\"id\":\"7c413296-b99b-421f-bcfb-294986f01370\",\"type\":\"ColumnDataSource\"},{\"attributes\":{\"fill_color\":{\"value\":\"#ff7f0e\"},\"line_color\":{\"value\":\"#ff7f0e\"},\"x\":{\"field\":\"x\"},\"y\":{\"field\":\"y\"}},\"id\":\"57b795bc-02c4-43cd-9787-6ad27df33242\",\"type\":\"Circle\"},{\"attributes\":{\"line_color\":\"#17becf\",\"x\":{\"field\":\"x\"},\"y\":{\"field\":\"y\"}},\"id\":\"2523d368-be66-4f18-8f2a-3c24b2656e04\",\"type\":\"Line\"},{\"attributes\":{\"source\":{\"id\":\"526f7f9a-b34f-4456-89f2-6213cfb9d455\",\"type\":\"ColumnDataSource\"}},\"id\":\"9db0b1a9-9aa9-48fd-adea-090aff2ad044\",\"type\":\"CDSView\"},{\"attributes\":{\"source\":{\"id\":\"db9c59e0-6b96-4f97-9523-779face849df\",\"type\":\"ColumnDataSource\"}},\"id\":\"e2e34478-5312-40da-8d8e-a7830dd709fa\",\"type\":\"CDSView\"},{\"attributes\":{\"label\":{\"value\":\"skip_even\"},\"renderers\":[{\"id\":\"ea53dd35-aaee-49dc-b654-42746ca7861b\",\"type\":\"GlyphRenderer\"},{\"id\":\"ed43ce7a-7644-43e4-9d1f-5250c6ae2540\",\"type\":\"GlyphRenderer\"}]},\"id\":\"a7029d68-d314-4e10-a172-2ee448a8d71e\",\"type\":\"LegendItem\"},{\"attributes\":{\"data_source\":{\"id\":\"7c413296-b99b-421f-bcfb-294986f01370\",\"type\":\"ColumnDataSource\"},\"glyph\":{\"id\":\"903739f3-e852-4676-88de-8e31fec6706b\",\"type\":\"Line\"},\"hover_glyph\":null,\"muted_glyph\":null,\"nonselection_glyph\":{\"id\":\"5e350334-a575-4aa2-975b-134b6affbd7c\",\"type\":\"Line\"},\"selection_glyph\":null,\"view\":{\"id\":\"10f158e2-5827-4adf-b355-7305062814c8\",\"type\":\"CDSView\"}},\"id\":\"539b0a10-b832-42e5-903f-f11ad813bf1d\",\"type\":\"GlyphRenderer\"},{\"attributes\":{\"line_alpha\":0.1,\"line_color\":\"#1f77b4\",\"line_dash\":[6],\"x\":{\"field\":\"x\"},\"y\":{\"field\":\"y\"}},\"id\":\"f92e5233-92b2-4ed4-a4b8-93486da5641d\",\"type\":\"Line\"},{\"attributes\":{\"callback\":null,\"column_names\":[\"x\",\"y\"],\"data\":{\"x\":[1,2,5,10,20,50,100,200,500,1000,2000,5000,10000,20000,50000,100000,200000,500000],\"y\":[5.6007137754932045e-06,5.7226879289373755e-06,7.333701360039413e-06,1.1411700979806483e-05,1.7947693704627456e-05,3.9022708660922946e-05,9.826669876929373e-05,0.0001914446783484891,0.0005650467082159593,0.0012503447086783127,0.0027368506725179032,0.007767140692449175,0.017164162682020104,0.04116779769712593,0.11953361571242567,0.2658971406944329,0.501684551681974,1.3743776777136372]}},\"id\":\"913e4c36-af73-4577-b402-aea15c313918\",\"type\":\"ColumnDataSource\"},{\"attributes\":{\"source\":{\"id\":\"7c413296-b99b-421f-bcfb-294986f01370\",\"type\":\"ColumnDataSource\"}},\"id\":\"10f158e2-5827-4adf-b355-7305062814c8\",\"type\":\"CDSView\"},{\"attributes\":{\"callback\":null,\"column_names\":[\"x\",\"y\"],\"data\":{\"x\":[1,2,5,10,20,50,100,200,500,1000,2000,5000,10000,20000,50000],\"y\":[1.9457092275843024e-06,6.114398129284382e-06,1.1780100758187473e-05,2.2780797444283962e-05,4.293648235034198e-05,0.00011111817322671414,0.000251019851421006,0.0005885235581081361,0.0019095742475474255,0.004739756946219132,0.01221786662528757,0.046385250308085234,0.13627362401981372,0.3649428817105945,1.3061569034151035]}},\"id\":\"b0bd6923-4b1b-49fe-b303-c68eda6203ec\",\"type\":\"ColumnDataSource\"},{\"attributes\":{\"line_alpha\":0.1,\"line_color\":\"#1f77b4\",\"line_dash\":[6],\"x\":{\"field\":\"x\"},\"y\":{\"field\":\"y\"}},\"id\":\"5e350334-a575-4aa2-975b-134b6affbd7c\",\"type\":\"Line\"},{\"attributes\":{\"line_color\":\"#ff7f0e\",\"line_dash\":[6],\"x\":{\"field\":\"x\"},\"y\":{\"field\":\"y\"}},\"id\":\"8882aea0-51f5-4b86-b806-7e420b1e2126\",\"type\":\"Line\"},{\"attributes\":{\"label\":{\"value\":\"priority_queue\"},\"renderers\":[{\"id\":\"539b0a10-b832-42e5-903f-f11ad813bf1d\",\"type\":\"GlyphRenderer\"},{\"id\":\"2ae9c53c-bd99-4805-bb38-27b54071b344\",\"type\":\"GlyphRenderer\"}]},\"id\":\"eb948f39-10e1-4604-b45f-54875d35174b\",\"type\":\"LegendItem\"},{\"attributes\":{\"source\":{\"id\":\"b0bd6923-4b1b-49fe-b303-c68eda6203ec\",\"type\":\"ColumnDataSource\"}},\"id\":\"8dcbf97d-4b09-4df3-884f-91e7977edd67\",\"type\":\"CDSView\"},{\"attributes\":{\"line_color\":\"#bcbd22\",\"line_dash\":[6],\"x\":{\"field\":\"x\"},\"y\":{\"field\":\"y\"}},\"id\":\"903739f3-e852-4676-88de-8e31fec6706b\",\"type\":\"Line\"}],\"root_ids\":[\"bf30f4f9-9714-4835-95f2-28adadfa4051\"]},\"title\":\"Bokeh Application\",\"version\":\"0.12.14\"}};\n",
       "  var render_items = [{\"docid\":\"c932481f-43d5-44ec-9f1b-ea78e54cfba1\",\"elementid\":\"5edd910c-aafe-43e7-bde3-36f971ac4305\",\"modelid\":\"bf30f4f9-9714-4835-95f2-28adadfa4051\",\"notebook_comms_target\":\"30d272b3-9129-40b0-9827-3315dac70bda\"}];\n",
       "  root.Bokeh.embed.embed_items_notebook(docs_json, render_items);\n",
       "\n",
       "  }\n",
       "  if (root.Bokeh !== undefined) {\n",
       "    embed_document(root);\n",
       "  } else {\n",
       "    var attempts = 0;\n",
       "    var timer = setInterval(function(root) {\n",
       "      if (root.Bokeh !== undefined) {\n",
       "        embed_document(root);\n",
       "        clearInterval(timer);\n",
       "      }\n",
       "      attempts++;\n",
       "      if (attempts > 100) {\n",
       "        console.log(\"Bokeh: ERROR: Unable to run BokehJS code because BokehJS library is missing\")\n",
       "        clearInterval(timer);\n",
       "      }\n",
       "    }, 10, root)\n",
       "  }\n",
       "})(window);"
      ],
      "application/vnd.bokehjs_exec.v0+json": ""
     },
     "metadata": {
      "application/vnd.bokehjs_exec.v0+json": {
       "id": "bf30f4f9-9714-4835-95f2-28adadfa4051"
      }
     },
     "output_type": "display_data"
    }
   ],
   "source": [
    "from pyprimesieve import primes\n",
    "\n",
    "def library(n):\n",
    "    return primes(n)\n",
    "\n",
    "timing_plot(library)"
   ]
  },
  {
   "cell_type": "code",
   "execution_count": 24,
   "metadata": {
    "slideshow": {
     "slide_type": "skip"
    }
   },
   "outputs": [
    {
     "data": {
      "application/javascript": [
       "\n",
       "sieve.src = 'resources/sieve.png';\n"
      ],
      "text/plain": [
       "<IPython.core.display.Javascript object>"
      ]
     },
     "execution_count": 24,
     "metadata": {},
     "output_type": "execute_result"
    }
   ],
   "source": [
    "from IPython.display import Javascript\n",
    "\n",
    "Javascript('''\n",
    "sieve.src = 'resources/sieve.png';\n",
    "''')"
   ]
  }
 ],
 "metadata": {
  "celltoolbar": "Slideshow",
  "kernelspec": {
   "display_name": "Python 3",
   "language": "python",
   "name": "python3"
  },
  "language_info": {
   "codemirror_mode": {
    "name": "ipython",
    "version": 3
   },
   "file_extension": ".py",
   "mimetype": "text/x-python",
   "name": "python",
   "nbconvert_exporter": "python",
   "pygments_lexer": "ipython3",
   "version": "3.6.4"
  },
  "livereveal": {
   "scroll": "True",
   "start_slideshow_at": "selected",
   "theme": "serif",
   "transition": "convex"
  }
 },
 "nbformat": 4,
 "nbformat_minor": 2
}
