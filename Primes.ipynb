{
 "cells": [
  {
   "cell_type": "code",
   "execution_count": 1,
   "metadata": {
    "slideshow": {
     "slide_type": "skip"
    }
   },
   "outputs": [
    {
     "data": {
      "text/html": [
       "\n",
       "    <div class=\"bk-root\">\n",
       "        <a href=\"https://bokeh.pydata.org\" target=\"_blank\" class=\"bk-logo bk-logo-small bk-logo-notebook\"></a>\n",
       "        <span id=\"5a1faa90-c5aa-4964-b60b-934fb6b6ce9b\">Loading BokehJS ...</span>\n",
       "    </div>"
      ]
     },
     "metadata": {},
     "output_type": "display_data"
    },
    {
     "data": {
      "application/javascript": [
       "\n",
       "(function(root) {\n",
       "  function now() {\n",
       "    return new Date();\n",
       "  }\n",
       "\n",
       "  var force = true;\n",
       "\n",
       "  if (typeof (root._bokeh_onload_callbacks) === \"undefined\" || force === true) {\n",
       "    root._bokeh_onload_callbacks = [];\n",
       "    root._bokeh_is_loading = undefined;\n",
       "  }\n",
       "\n",
       "  var JS_MIME_TYPE = 'application/javascript';\n",
       "  var HTML_MIME_TYPE = 'text/html';\n",
       "  var EXEC_MIME_TYPE = 'application/vnd.bokehjs_exec.v0+json';\n",
       "  var CLASS_NAME = 'output_bokeh rendered_html';\n",
       "\n",
       "  /**\n",
       "   * Render data to the DOM node\n",
       "   */\n",
       "  function render(props, node) {\n",
       "    var script = document.createElement(\"script\");\n",
       "    node.appendChild(script);\n",
       "  }\n",
       "\n",
       "  /**\n",
       "   * Handle when an output is cleared or removed\n",
       "   */\n",
       "  function handleClearOutput(event, handle) {\n",
       "    var cell = handle.cell;\n",
       "\n",
       "    var id = cell.output_area._bokeh_element_id;\n",
       "    var server_id = cell.output_area._bokeh_server_id;\n",
       "    // Clean up Bokeh references\n",
       "    if (id !== undefined) {\n",
       "      Bokeh.index[id].model.document.clear();\n",
       "      delete Bokeh.index[id];\n",
       "    }\n",
       "\n",
       "    if (server_id !== undefined) {\n",
       "      // Clean up Bokeh references\n",
       "      var cmd = \"from bokeh.io.state import curstate; print(curstate().uuid_to_server['\" + server_id + \"'].get_sessions()[0].document.roots[0]._id)\";\n",
       "      cell.notebook.kernel.execute(cmd, {\n",
       "        iopub: {\n",
       "          output: function(msg) {\n",
       "            var element_id = msg.content.text.trim();\n",
       "            Bokeh.index[element_id].model.document.clear();\n",
       "            delete Bokeh.index[element_id];\n",
       "          }\n",
       "        }\n",
       "      });\n",
       "      // Destroy server and session\n",
       "      var cmd = \"import bokeh.io.notebook as ion; ion.destroy_server('\" + server_id + \"')\";\n",
       "      cell.notebook.kernel.execute(cmd);\n",
       "    }\n",
       "  }\n",
       "\n",
       "  /**\n",
       "   * Handle when a new output is added\n",
       "   */\n",
       "  function handleAddOutput(event, handle) {\n",
       "    var output_area = handle.output_area;\n",
       "    var output = handle.output;\n",
       "\n",
       "    // limit handleAddOutput to display_data with EXEC_MIME_TYPE content only\n",
       "    if ((output.output_type != \"display_data\") || (!output.data.hasOwnProperty(EXEC_MIME_TYPE))) {\n",
       "      return\n",
       "    }\n",
       "\n",
       "    var toinsert = output_area.element.find(\".\" + CLASS_NAME.split(' ')[0]);\n",
       "\n",
       "    if (output.metadata[EXEC_MIME_TYPE][\"id\"] !== undefined) {\n",
       "      toinsert[0].firstChild.textContent = output.data[JS_MIME_TYPE];\n",
       "      // store reference to embed id on output_area\n",
       "      output_area._bokeh_element_id = output.metadata[EXEC_MIME_TYPE][\"id\"];\n",
       "    }\n",
       "    if (output.metadata[EXEC_MIME_TYPE][\"server_id\"] !== undefined) {\n",
       "      var bk_div = document.createElement(\"div\");\n",
       "      bk_div.innerHTML = output.data[HTML_MIME_TYPE];\n",
       "      var script_attrs = bk_div.children[0].attributes;\n",
       "      for (var i = 0; i < script_attrs.length; i++) {\n",
       "        toinsert[0].firstChild.setAttribute(script_attrs[i].name, script_attrs[i].value);\n",
       "      }\n",
       "      // store reference to server id on output_area\n",
       "      output_area._bokeh_server_id = output.metadata[EXEC_MIME_TYPE][\"server_id\"];\n",
       "    }\n",
       "  }\n",
       "\n",
       "  function register_renderer(events, OutputArea) {\n",
       "\n",
       "    function append_mime(data, metadata, element) {\n",
       "      // create a DOM node to render to\n",
       "      var toinsert = this.create_output_subarea(\n",
       "        metadata,\n",
       "        CLASS_NAME,\n",
       "        EXEC_MIME_TYPE\n",
       "      );\n",
       "      this.keyboard_manager.register_events(toinsert);\n",
       "      // Render to node\n",
       "      var props = {data: data, metadata: metadata[EXEC_MIME_TYPE]};\n",
       "      render(props, toinsert[0]);\n",
       "      element.append(toinsert);\n",
       "      return toinsert\n",
       "    }\n",
       "\n",
       "    /* Handle when an output is cleared or removed */\n",
       "    events.on('clear_output.CodeCell', handleClearOutput);\n",
       "    events.on('delete.Cell', handleClearOutput);\n",
       "\n",
       "    /* Handle when a new output is added */\n",
       "    events.on('output_added.OutputArea', handleAddOutput);\n",
       "\n",
       "    /**\n",
       "     * Register the mime type and append_mime function with output_area\n",
       "     */\n",
       "    OutputArea.prototype.register_mime_type(EXEC_MIME_TYPE, append_mime, {\n",
       "      /* Is output safe? */\n",
       "      safe: true,\n",
       "      /* Index of renderer in `output_area.display_order` */\n",
       "      index: 0\n",
       "    });\n",
       "  }\n",
       "\n",
       "  // register the mime type if in Jupyter Notebook environment and previously unregistered\n",
       "  if (root.Jupyter !== undefined) {\n",
       "    var events = require('base/js/events');\n",
       "    var OutputArea = require('notebook/js/outputarea').OutputArea;\n",
       "\n",
       "    if (OutputArea.prototype.mime_types().indexOf(EXEC_MIME_TYPE) == -1) {\n",
       "      register_renderer(events, OutputArea);\n",
       "    }\n",
       "  }\n",
       "\n",
       "  \n",
       "  if (typeof (root._bokeh_timeout) === \"undefined\" || force === true) {\n",
       "    root._bokeh_timeout = Date.now() + 5000;\n",
       "    root._bokeh_failed_load = false;\n",
       "  }\n",
       "\n",
       "  var NB_LOAD_WARNING = {'data': {'text/html':\n",
       "     \"<div style='background-color: #fdd'>\\n\"+\n",
       "     \"<p>\\n\"+\n",
       "     \"BokehJS does not appear to have successfully loaded. If loading BokehJS from CDN, this \\n\"+\n",
       "     \"may be due to a slow or bad network connection. Possible fixes:\\n\"+\n",
       "     \"</p>\\n\"+\n",
       "     \"<ul>\\n\"+\n",
       "     \"<li>re-rerun `output_notebook()` to attempt to load from CDN again, or</li>\\n\"+\n",
       "     \"<li>use INLINE resources instead, as so:</li>\\n\"+\n",
       "     \"</ul>\\n\"+\n",
       "     \"<code>\\n\"+\n",
       "     \"from bokeh.resources import INLINE\\n\"+\n",
       "     \"output_notebook(resources=INLINE)\\n\"+\n",
       "     \"</code>\\n\"+\n",
       "     \"</div>\"}};\n",
       "\n",
       "  function display_loaded() {\n",
       "    var el = document.getElementById(\"5a1faa90-c5aa-4964-b60b-934fb6b6ce9b\");\n",
       "    if (el != null) {\n",
       "      el.textContent = \"BokehJS is loading...\";\n",
       "    }\n",
       "    if (root.Bokeh !== undefined) {\n",
       "      if (el != null) {\n",
       "        el.textContent = \"BokehJS \" + root.Bokeh.version + \" successfully loaded.\";\n",
       "      }\n",
       "    } else if (Date.now() < root._bokeh_timeout) {\n",
       "      setTimeout(display_loaded, 100)\n",
       "    }\n",
       "  }\n",
       "\n",
       "\n",
       "  function run_callbacks() {\n",
       "    try {\n",
       "      root._bokeh_onload_callbacks.forEach(function(callback) { callback() });\n",
       "    }\n",
       "    finally {\n",
       "      delete root._bokeh_onload_callbacks\n",
       "    }\n",
       "    console.info(\"Bokeh: all callbacks have finished\");\n",
       "  }\n",
       "\n",
       "  function load_libs(js_urls, callback) {\n",
       "    root._bokeh_onload_callbacks.push(callback);\n",
       "    if (root._bokeh_is_loading > 0) {\n",
       "      console.log(\"Bokeh: BokehJS is being loaded, scheduling callback at\", now());\n",
       "      return null;\n",
       "    }\n",
       "    if (js_urls == null || js_urls.length === 0) {\n",
       "      run_callbacks();\n",
       "      return null;\n",
       "    }\n",
       "    console.log(\"Bokeh: BokehJS not loaded, scheduling load and callback at\", now());\n",
       "    root._bokeh_is_loading = js_urls.length;\n",
       "    for (var i = 0; i < js_urls.length; i++) {\n",
       "      var url = js_urls[i];\n",
       "      var s = document.createElement('script');\n",
       "      s.src = url;\n",
       "      s.async = false;\n",
       "      s.onreadystatechange = s.onload = function() {\n",
       "        root._bokeh_is_loading--;\n",
       "        if (root._bokeh_is_loading === 0) {\n",
       "          console.log(\"Bokeh: all BokehJS libraries loaded\");\n",
       "          run_callbacks()\n",
       "        }\n",
       "      };\n",
       "      s.onerror = function() {\n",
       "        console.warn(\"failed to load library \" + url);\n",
       "      };\n",
       "      console.log(\"Bokeh: injecting script tag for BokehJS library: \", url);\n",
       "      document.getElementsByTagName(\"head\")[0].appendChild(s);\n",
       "    }\n",
       "  };var element = document.getElementById(\"5a1faa90-c5aa-4964-b60b-934fb6b6ce9b\");\n",
       "  if (element == null) {\n",
       "    console.log(\"Bokeh: ERROR: autoload.js configured with elementid '5a1faa90-c5aa-4964-b60b-934fb6b6ce9b' but no matching script tag was found. \")\n",
       "    return false;\n",
       "  }\n",
       "\n",
       "  var js_urls = [\"https://cdn.pydata.org/bokeh/release/bokeh-0.12.14.min.js\", \"https://cdn.pydata.org/bokeh/release/bokeh-widgets-0.12.14.min.js\", \"https://cdn.pydata.org/bokeh/release/bokeh-tables-0.12.14.min.js\", \"https://cdn.pydata.org/bokeh/release/bokeh-gl-0.12.14.min.js\"];\n",
       "\n",
       "  var inline_js = [\n",
       "    function(Bokeh) {\n",
       "      Bokeh.set_log_level(\"info\");\n",
       "    },\n",
       "    \n",
       "    function(Bokeh) {\n",
       "      \n",
       "    },\n",
       "    function(Bokeh) {\n",
       "      console.log(\"Bokeh: injecting CSS: https://cdn.pydata.org/bokeh/release/bokeh-0.12.14.min.css\");\n",
       "      Bokeh.embed.inject_css(\"https://cdn.pydata.org/bokeh/release/bokeh-0.12.14.min.css\");\n",
       "      console.log(\"Bokeh: injecting CSS: https://cdn.pydata.org/bokeh/release/bokeh-widgets-0.12.14.min.css\");\n",
       "      Bokeh.embed.inject_css(\"https://cdn.pydata.org/bokeh/release/bokeh-widgets-0.12.14.min.css\");\n",
       "      console.log(\"Bokeh: injecting CSS: https://cdn.pydata.org/bokeh/release/bokeh-tables-0.12.14.min.css\");\n",
       "      Bokeh.embed.inject_css(\"https://cdn.pydata.org/bokeh/release/bokeh-tables-0.12.14.min.css\");\n",
       "    }\n",
       "  ];\n",
       "\n",
       "  function run_inline_js() {\n",
       "    \n",
       "    if ((root.Bokeh !== undefined) || (force === true)) {\n",
       "      for (var i = 0; i < inline_js.length; i++) {\n",
       "        inline_js[i].call(root, root.Bokeh);\n",
       "      }if (force === true) {\n",
       "        display_loaded();\n",
       "      }} else if (Date.now() < root._bokeh_timeout) {\n",
       "      setTimeout(run_inline_js, 100);\n",
       "    } else if (!root._bokeh_failed_load) {\n",
       "      console.log(\"Bokeh: BokehJS failed to load within specified timeout.\");\n",
       "      root._bokeh_failed_load = true;\n",
       "    } else if (force !== true) {\n",
       "      var cell = $(document.getElementById(\"5a1faa90-c5aa-4964-b60b-934fb6b6ce9b\")).parents('.cell').data().cell;\n",
       "      cell.output_area.append_execute_result(NB_LOAD_WARNING)\n",
       "    }\n",
       "\n",
       "  }\n",
       "\n",
       "  if (root._bokeh_is_loading === 0) {\n",
       "    console.log(\"Bokeh: BokehJS loaded, going straight to plotting\");\n",
       "    run_inline_js();\n",
       "  } else {\n",
       "    load_libs(js_urls, function() {\n",
       "      console.log(\"Bokeh: BokehJS plotting callback run at\", now());\n",
       "      run_inline_js();\n",
       "    });\n",
       "  }\n",
       "}(window));"
      ],
      "application/vnd.bokehjs_load.v0+json": "\n(function(root) {\n  function now() {\n    return new Date();\n  }\n\n  var force = true;\n\n  if (typeof (root._bokeh_onload_callbacks) === \"undefined\" || force === true) {\n    root._bokeh_onload_callbacks = [];\n    root._bokeh_is_loading = undefined;\n  }\n\n  \n\n  \n  if (typeof (root._bokeh_timeout) === \"undefined\" || force === true) {\n    root._bokeh_timeout = Date.now() + 5000;\n    root._bokeh_failed_load = false;\n  }\n\n  var NB_LOAD_WARNING = {'data': {'text/html':\n     \"<div style='background-color: #fdd'>\\n\"+\n     \"<p>\\n\"+\n     \"BokehJS does not appear to have successfully loaded. If loading BokehJS from CDN, this \\n\"+\n     \"may be due to a slow or bad network connection. Possible fixes:\\n\"+\n     \"</p>\\n\"+\n     \"<ul>\\n\"+\n     \"<li>re-rerun `output_notebook()` to attempt to load from CDN again, or</li>\\n\"+\n     \"<li>use INLINE resources instead, as so:</li>\\n\"+\n     \"</ul>\\n\"+\n     \"<code>\\n\"+\n     \"from bokeh.resources import INLINE\\n\"+\n     \"output_notebook(resources=INLINE)\\n\"+\n     \"</code>\\n\"+\n     \"</div>\"}};\n\n  function display_loaded() {\n    var el = document.getElementById(\"5a1faa90-c5aa-4964-b60b-934fb6b6ce9b\");\n    if (el != null) {\n      el.textContent = \"BokehJS is loading...\";\n    }\n    if (root.Bokeh !== undefined) {\n      if (el != null) {\n        el.textContent = \"BokehJS \" + root.Bokeh.version + \" successfully loaded.\";\n      }\n    } else if (Date.now() < root._bokeh_timeout) {\n      setTimeout(display_loaded, 100)\n    }\n  }\n\n\n  function run_callbacks() {\n    try {\n      root._bokeh_onload_callbacks.forEach(function(callback) { callback() });\n    }\n    finally {\n      delete root._bokeh_onload_callbacks\n    }\n    console.info(\"Bokeh: all callbacks have finished\");\n  }\n\n  function load_libs(js_urls, callback) {\n    root._bokeh_onload_callbacks.push(callback);\n    if (root._bokeh_is_loading > 0) {\n      console.log(\"Bokeh: BokehJS is being loaded, scheduling callback at\", now());\n      return null;\n    }\n    if (js_urls == null || js_urls.length === 0) {\n      run_callbacks();\n      return null;\n    }\n    console.log(\"Bokeh: BokehJS not loaded, scheduling load and callback at\", now());\n    root._bokeh_is_loading = js_urls.length;\n    for (var i = 0; i < js_urls.length; i++) {\n      var url = js_urls[i];\n      var s = document.createElement('script');\n      s.src = url;\n      s.async = false;\n      s.onreadystatechange = s.onload = function() {\n        root._bokeh_is_loading--;\n        if (root._bokeh_is_loading === 0) {\n          console.log(\"Bokeh: all BokehJS libraries loaded\");\n          run_callbacks()\n        }\n      };\n      s.onerror = function() {\n        console.warn(\"failed to load library \" + url);\n      };\n      console.log(\"Bokeh: injecting script tag for BokehJS library: \", url);\n      document.getElementsByTagName(\"head\")[0].appendChild(s);\n    }\n  };var element = document.getElementById(\"5a1faa90-c5aa-4964-b60b-934fb6b6ce9b\");\n  if (element == null) {\n    console.log(\"Bokeh: ERROR: autoload.js configured with elementid '5a1faa90-c5aa-4964-b60b-934fb6b6ce9b' but no matching script tag was found. \")\n    return false;\n  }\n\n  var js_urls = [\"https://cdn.pydata.org/bokeh/release/bokeh-0.12.14.min.js\", \"https://cdn.pydata.org/bokeh/release/bokeh-widgets-0.12.14.min.js\", \"https://cdn.pydata.org/bokeh/release/bokeh-tables-0.12.14.min.js\", \"https://cdn.pydata.org/bokeh/release/bokeh-gl-0.12.14.min.js\"];\n\n  var inline_js = [\n    function(Bokeh) {\n      Bokeh.set_log_level(\"info\");\n    },\n    \n    function(Bokeh) {\n      \n    },\n    function(Bokeh) {\n      console.log(\"Bokeh: injecting CSS: https://cdn.pydata.org/bokeh/release/bokeh-0.12.14.min.css\");\n      Bokeh.embed.inject_css(\"https://cdn.pydata.org/bokeh/release/bokeh-0.12.14.min.css\");\n      console.log(\"Bokeh: injecting CSS: https://cdn.pydata.org/bokeh/release/bokeh-widgets-0.12.14.min.css\");\n      Bokeh.embed.inject_css(\"https://cdn.pydata.org/bokeh/release/bokeh-widgets-0.12.14.min.css\");\n      console.log(\"Bokeh: injecting CSS: https://cdn.pydata.org/bokeh/release/bokeh-tables-0.12.14.min.css\");\n      Bokeh.embed.inject_css(\"https://cdn.pydata.org/bokeh/release/bokeh-tables-0.12.14.min.css\");\n    }\n  ];\n\n  function run_inline_js() {\n    \n    if ((root.Bokeh !== undefined) || (force === true)) {\n      for (var i = 0; i < inline_js.length; i++) {\n        inline_js[i].call(root, root.Bokeh);\n      }if (force === true) {\n        display_loaded();\n      }} else if (Date.now() < root._bokeh_timeout) {\n      setTimeout(run_inline_js, 100);\n    } else if (!root._bokeh_failed_load) {\n      console.log(\"Bokeh: BokehJS failed to load within specified timeout.\");\n      root._bokeh_failed_load = true;\n    } else if (force !== true) {\n      var cell = $(document.getElementById(\"5a1faa90-c5aa-4964-b60b-934fb6b6ce9b\")).parents('.cell').data().cell;\n      cell.output_area.append_execute_result(NB_LOAD_WARNING)\n    }\n\n  }\n\n  if (root._bokeh_is_loading === 0) {\n    console.log(\"Bokeh: BokehJS loaded, going straight to plotting\");\n    run_inline_js();\n  } else {\n    load_libs(js_urls, function() {\n      console.log(\"Bokeh: BokehJS plotting callback run at\", now());\n      run_inline_js();\n    });\n  }\n}(window));"
     },
     "metadata": {},
     "output_type": "display_data"
    },
    {
     "data": {
      "application/javascript": [
       "\n",
       "require(['base/js/namespace', 'base/js/events'],\n",
       "function (Jupyter, events) {\n",
       "    function swap_src(el, src, t) {\n",
       "        console.log(\"swap\", el, src, t);\n",
       "        var old = el.src;\n",
       "        el.src = src;\n",
       "        setTimeout(function() {el.src = old;}, t);\n",
       "    }\n",
       "\n",
       "    // save a reference to the cell we're currently executing inside of,\n",
       "    // to avoid clearing it later (which would remove this js)\n",
       "    var this_cell = $(element).closest('.cell').data('cell');\n",
       "    function init_presentation() {\n",
       "        // Clear (other) cell outputs\n",
       "        Jupyter.notebook.get_cells().forEach(function (cell) {\n",
       "            if (cell.cell_type === 'code' && cell !== this_cell) {\n",
       "                cell.clear_output();\n",
       "            }\n",
       "            Jupyter.notebook.set_dirty(true);\n",
       "        });\n",
       "        // Make sieve clickable to start gif\n",
       "        sieve.src = 'sieve1.png';\n",
       "        sieve.onclick = function() {\n",
       "            swap(document.getElementById(\"sieve\"), 'sieve.gif', 37000);\n",
       "        };\n",
       "    }\n",
       "\n",
       "    if (Jupyter.notebook._fully_loaded) {\n",
       "        // notebook has already been fully loaded, so init now\n",
       "        init_presentation();\n",
       "    }\n",
       "    // Also clear on any future load\n",
       "    // (e.g. when notebook finishes loading, or when a checkpoint is reloaded)\n",
       "    events.on('notebook_loaded.Notebook', init_presentation);\n",
       "});\n",
       "\n",
       "\n"
      ],
      "text/plain": [
       "<IPython.core.display.Javascript object>"
      ]
     },
     "execution_count": 1,
     "metadata": {},
     "output_type": "execute_result"
    }
   ],
   "source": [
    "########################################\n",
    "## Evaluate this cell before starting ##\n",
    "########################################\n",
    "\n",
    "import timeit\n",
    "from collections import OrderedDict\n",
    "from itertools import islice\n",
    "from math import log\n",
    "from bokeh.models.formatters import NumeralTickFormatter\n",
    "from bokeh.models.ranges import DataRange1d\n",
    "from bokeh.models.sources import ColumnDataSource\n",
    "from bokeh.palettes import Category10\n",
    "from bokeh.plotting import figure\n",
    "from bokeh.io import output_notebook, show, push_notebook\n",
    "\n",
    "output_notebook()\n",
    "\n",
    "timing_palette = Category10[10]\n",
    "timing_lines = OrderedDict()\n",
    "\n",
    "def iterations():\n",
    "    m = 1\n",
    "    while True:\n",
    "        for i in (1, 2, 5):\n",
    "            yield m * i\n",
    "        m *= 10\n",
    "\n",
    "def approx_nth(n):\n",
    "    if n < 6:\n",
    "        return int(2.2 * n + 1)\n",
    "    else:\n",
    "        return int(n * (log(n) + log(log(n))))\n",
    "\n",
    "def time_gen(genfn, num):\n",
    "    def timed():\n",
    "        return list(islice(genfn(), num - 1, num))[0]\n",
    "    return min(timeit.repeat(timed, number=1, repeat=3, globals=globals()))\n",
    "\n",
    "def timing_plot(genfn, need_nth=False):\n",
    "    def plot(fig, name, vals, num, dash='solid'):\n",
    "        col = timing_palette[num % len(timing_palette)]\n",
    "        fig.line('x', 'y', legend=name, source=vals, line_dash=dash, color=col)\n",
    "        fig.scatter('x', 'y', legend=name, source=vals, marker='o', color=col)\n",
    "    name = genfn.__name__\n",
    "    exist = None\n",
    "    if True: # log-log\n",
    "        extra_args = dict(y_range=[1e-6, 1], x_range=DataRange1d(start=1),\n",
    "                          x_axis_type='log', y_axis_type='log')\n",
    "    else: # lin-lin\n",
    "        extra_args = dict(y_range=[0,1], x_range=DataRange1d(start=0))\n",
    "    fig = figure(plot_width=800, plot_height=400, toolbar_location='above', title=\"Timing\", **extra_args)\n",
    "    num = 0\n",
    "    for k, v in timing_lines.items():\n",
    "        plot(fig, k, v, num, 'dashed')\n",
    "        if k == name:\n",
    "            exist = num\n",
    "        num += 1\n",
    "    source = ColumnDataSource(data=dict(x=[], y=[]))\n",
    "    plot(fig, name, source, exist or num)\n",
    "    fig.xaxis.axis_label = \"Primes\"\n",
    "    fig.xaxis.formatter = NumeralTickFormatter(format='0[.]0 a')\n",
    "    fig.yaxis.axis_label = \"Seconds\"\n",
    "    fig.legend.location = 'top_left'\n",
    "    fig.legend.click_policy='hide'\n",
    "    fig.legend.background_fill_alpha = 0.5\n",
    "    handle = show(fig, notebook_handle=True)\n",
    "    for i in iterations():\n",
    "        if need_nth:\n",
    "            def gen():\n",
    "                return genfn(approx_nth(i))\n",
    "            gen.__name__ = genfn.__name__\n",
    "        else:\n",
    "            gen = genfn\n",
    "        t = time_gen(gen, i)\n",
    "        source.stream(dict(x=[i], y=[t]))\n",
    "        push_notebook(handle=handle)\n",
    "        if t >= 1: break\n",
    "    timing_lines[gen.__name__] = source.data\n",
    "\n",
    "from IPython.display import Javascript\n",
    "\n",
    "Javascript('''\n",
    "require(['base/js/namespace', 'base/js/events'],\n",
    "function (Jupyter, events) {\n",
    "    function swap_src(el, src, t) {\n",
    "        console.log(\"swap\", el, src, t);\n",
    "        var old = el.src;\n",
    "        el.src = src;\n",
    "        setTimeout(function() {el.src = old;}, t);\n",
    "    }\n",
    "\n",
    "    // save a reference to the cell we're currently executing inside of,\n",
    "    // to avoid clearing it later (which would remove this js)\n",
    "    var this_cell = $(element).closest('.cell').data('cell');\n",
    "    function init_presentation() {\n",
    "        // Clear (other) cell outputs\n",
    "        Jupyter.notebook.get_cells().forEach(function (cell) {\n",
    "            if (cell.cell_type === 'code' && cell !== this_cell) {\n",
    "                cell.clear_output();\n",
    "            }\n",
    "            Jupyter.notebook.set_dirty(true);\n",
    "        });\n",
    "        // Make sieve clickable to start gif\n",
    "        sieve.src = 'sieve1.png';\n",
    "        sieve.onclick = function() {\n",
    "            swap(document.getElementById(\"sieve\"), 'sieve.gif', 37000);\n",
    "        };\n",
    "    }\n",
    "\n",
    "    if (Jupyter.notebook._fully_loaded) {\n",
    "        // notebook has already been fully loaded, so init now\n",
    "        init_presentation();\n",
    "    }\n",
    "    // Also clear on any future load\n",
    "    // (e.g. when notebook finishes loading, or when a checkpoint is reloaded)\n",
    "    events.on('notebook_loaded.Notebook', init_presentation);\n",
    "});\n",
    "\n",
    "\n",
    "''')"
   ]
  },
  {
   "cell_type": "markdown",
   "metadata": {
    "slideshow": {
     "slide_type": "slide"
    }
   },
   "source": [
    "# Optimised Primes\n",
    "\n",
    "Emlyn Corrin\n",
    "\n",
    "<img data-gifffer=\"sieve.gif\" />"
   ]
  },
  {
   "cell_type": "markdown",
   "metadata": {
    "slideshow": {
     "slide_type": "fragment"
    }
   },
   "source": [
    "![](prime.png)\n",
    "<!--- Image (public domain) from:\n",
    "https://www.flickr.com/photos/114305749@N08/24438440681\n",
    "-->"
   ]
  },
  {
   "cell_type": "markdown",
   "metadata": {
    "slideshow": {
     "slide_type": "slide"
    }
   },
   "source": [
    "## Why?"
   ]
  },
  {
   "cell_type": "markdown",
   "metadata": {
    "slideshow": {
     "slide_type": "fragment"
    }
   },
   "source": [
    "- Online programming contests (Project Euler etc.)"
   ]
  },
  {
   "cell_type": "markdown",
   "metadata": {
    "slideshow": {
     "slide_type": "fragment"
    }
   },
   "source": [
    "- Mathematical or programming exercise"
   ]
  },
  {
   "cell_type": "markdown",
   "metadata": {
    "slideshow": {
     "slide_type": "fragment"
    }
   },
   "source": [
    "- Because it's fun!"
   ]
  },
  {
   "cell_type": "markdown",
   "metadata": {
    "slideshow": {
     "slide_type": "slide"
    }
   },
   "source": [
    "## What is a prime?"
   ]
  },
  {
   "cell_type": "markdown",
   "metadata": {
    "slideshow": {
     "slide_type": "fragment"
    }
   },
   "source": [
    "A prime number (or a prime) is a natural number greater than 1 that has no positive divisors other than 1 and itself.\n",
    "<div style=\"text-align: right\">&mdash; Wikipedia</div>"
   ]
  },
  {
   "cell_type": "code",
   "execution_count": 2,
   "metadata": {
    "slideshow": {
     "slide_type": "fragment"
    }
   },
   "outputs": [],
   "source": [
    "def is_prime(n):\n",
    "    # Greater than 1\n",
    "    if n <= 1:\n",
    "        return False\n",
    "    # Any positive divisors (> 1 and < n)?\n",
    "    for i in range(2, n):\n",
    "        if n % i == 0:\n",
    "            return False\n",
    "    # If not, it must be a prime\n",
    "    return True"
   ]
  },
  {
   "cell_type": "markdown",
   "metadata": {
    "slideshow": {
     "slide_type": "slide"
    }
   },
   "source": [
    "## Let's generate a few"
   ]
  },
  {
   "cell_type": "code",
   "execution_count": 3,
   "metadata": {},
   "outputs": [
    {
     "data": {
      "text/plain": [
       "[2, 3, 5, 7, 11, 13, 17, 19]"
      ]
     },
     "execution_count": 3,
     "metadata": {},
     "output_type": "execute_result"
    }
   ],
   "source": [
    "[i for i in range(20) if is_prime(i)]"
   ]
  },
  {
   "cell_type": "code",
   "execution_count": 4,
   "metadata": {
    "slideshow": {
     "slide_type": "fragment"
    }
   },
   "outputs": [
    {
     "name": "stdout",
     "output_type": "stream",
     "text": [
      "2, 3, 5, 7, 11, 13, 17, 19, 23, 29, 31, 37, 41, 43, 47, 53, 59, 61, 67, 71, 73, 79, 83, 89, 97, 101, 103, 107, 109, 113, 127, 131, 137, 139, 149, 151, 157, 163, 167, 173, 179, 181, 191, 193, 197, 199, 211, 223, 227, 229, 233, 239, 241, 251, 257, 263, 269, 271, 277, 281, 283, 293, 307, 311, 313, 317, 331, 337, 347, 349, 353, 359, 367, 373, 379, 383, 389, 397, 401, 409, 419, 421, 431, 433, 439, 443, 449, 457, 461, 463, 467, 479, 487, 491, 499, 503, 509, 521, 523, 541, 547, 557, 563, 569, 571, 577, 587, 593, 599, 601, 607, 613, 617, 619, 631, 641, 643, 647, 653, 659, 661, 673, 677, 683, 691, 701, 709, 719, 727, 733, 739, 743, 751, 757, 761, 769, 773, 787, 797, 809, 811, 821, 823, 827, 829, 839, 853, 857, 859, 863, 877, 881, 883, 887, 907, 911, 919, 929, 937, 941, 947, 953, 967, 971, 977, 983, 991, 997, 1009, 1013, 1019, 1021, 1031, 1033, 1039, 1049, 1051, 1061, 1063, 1069, 1087, 1091, 1093, 1097, 1103, 1109, 1117, 1123, 1129, 1151, 1153, 1163, 1171, 1181, 1187, 1193, 1201, 1213, 1217, 1223, 1229, 1231, 1237, 1249, 1259, 1277, 1279, 1283, 1289, 1291, 1297, 1301, 1303, 1307, 1319, 1321, 1327, 1361, 1367, 1373, 1381, 1399, 1409, 1423, 1427, 1429, 1433, 1439, 1447, 1451, 1453, 1459, 1471, 1481, 1483, 1487, 1489, 1493, 1499, 1511, 1523, 1531, 1543, 1549, 1553, 1559, 1567, 1571, 1579, 1583, 1597, 1601, 1607, 1609, 1613, 1619, 1621, 1627, 1637, 1657, 1663, 1667, 1669, 1693, 1697, 1699, 1709, 1721, 1723, 1733, 1741, 1747, 1753, 1759, 1777, 1783, 1787, 1789, 1801, 1811, 1823, 1831, 1847, 1861, 1867, 1871, 1873, 1877, 1879, 1889, 1901, 1907, 1913, 1931, 1933, 1949, 1951, 1973, 1979, 1987, 1993, 1997, 1999\n"
     ]
    }
   ],
   "source": [
    "print(', '.join(str(i) for i in range(2000) if is_prime(i)))"
   ]
  },
  {
   "cell_type": "markdown",
   "metadata": {
    "slideshow": {
     "slide_type": "slide"
    }
   },
   "source": [
    "## What about generating them on demand"
   ]
  },
  {
   "cell_type": "code",
   "execution_count": 5,
   "metadata": {
    "scrolled": false,
    "slideshow": {
     "slide_type": "-"
    }
   },
   "outputs": [
    {
     "data": {
      "text/plain": [
       "[2, 3, 5, 7, 11, 13, 17, 19, 23, 29, 31, 37, 41, 43, 47, 53, 59, 61, 67, 71]"
      ]
     },
     "execution_count": 5,
     "metadata": {},
     "output_type": "execute_result"
    }
   ],
   "source": [
    "from itertools import count, islice\n",
    "\n",
    "def primes1():\n",
    "    for i in count():\n",
    "        if is_prime(i):\n",
    "            yield i\n",
    "    \n",
    "list(islice(primes1(), 20))"
   ]
  },
  {
   "cell_type": "markdown",
   "metadata": {
    "slideshow": {
     "slide_type": "slide"
    }
   },
   "source": [
    "## But how fast is it?"
   ]
  },
  {
   "cell_type": "code",
   "execution_count": 6,
   "metadata": {
    "scrolled": false,
    "slideshow": {
     "slide_type": "fragment"
    }
   },
   "outputs": [
    {
     "data": {
      "text/html": [
       "\n",
       "<div class=\"bk-root\">\n",
       "    <div class=\"bk-plotdiv\" id=\"9075503a-9003-4fbf-bdf9-500720583ada\"></div>\n",
       "</div>"
      ]
     },
     "metadata": {},
     "output_type": "display_data"
    },
    {
     "data": {
      "application/javascript": [
       "(function(root) {\n",
       "  function embed_document(root) {\n",
       "    \n",
       "  var docs_json = {\"45574864-44d9-491e-903f-700fb84afee2\":{\"roots\":{\"references\":[{\"attributes\":{\"callback\":null,\"start\":1e-06},\"id\":\"cd509eda-6bcc-457a-a03a-09dfd47bb642\",\"type\":\"Range1d\"},{\"attributes\":{\"plot\":null,\"text\":\"Timing\"},\"id\":\"f952b2b1-f18d-42f5-88e4-c899d7d27931\",\"type\":\"Title\"},{\"attributes\":{\"num_minor_ticks\":10},\"id\":\"1d28ba59-521d-4c04-aa51-0669339faa2b\",\"type\":\"LogTicker\"},{\"attributes\":{\"callback\":null,\"column_names\":[\"x\",\"y\"],\"data\":{\"x\":[],\"y\":[]}},\"id\":\"deb3d4fd-96ae-4a52-8209-5355c85ba0a0\",\"type\":\"ColumnDataSource\"},{\"attributes\":{\"background_fill_alpha\":{\"value\":0.5},\"click_policy\":\"hide\",\"items\":[{\"id\":\"a33f503f-f552-46ae-bbf1-ec7e0bd9f76f\",\"type\":\"LegendItem\"}],\"location\":\"top_left\",\"plot\":{\"id\":\"069be9bd-e692-41df-bd51-764c90c60302\",\"subtype\":\"Figure\",\"type\":\"Plot\"}},\"id\":\"122688e9-f414-460f-871f-738579f700ce\",\"type\":\"Legend\"},{\"attributes\":{\"callback\":null,\"start\":1},\"id\":\"6c1a41ee-fdbd-4d42-907e-67d621f2c027\",\"type\":\"DataRange1d\"},{\"attributes\":{\"below\":[{\"id\":\"952e402a-5999-41d1-a178-aae059072b70\",\"type\":\"LogAxis\"}],\"left\":[{\"id\":\"54b88de0-c421-4ba0-a446-524de145697d\",\"type\":\"LogAxis\"}],\"plot_height\":400,\"plot_width\":800,\"renderers\":[{\"id\":\"952e402a-5999-41d1-a178-aae059072b70\",\"type\":\"LogAxis\"},{\"id\":\"b2dc279c-f2d8-4ffa-b0f3-65e11f099d6a\",\"type\":\"Grid\"},{\"id\":\"54b88de0-c421-4ba0-a446-524de145697d\",\"type\":\"LogAxis\"},{\"id\":\"ffca3b73-5134-4f0e-82ec-14885389d7b3\",\"type\":\"Grid\"},{\"id\":\"1f13fcc2-0c3d-498e-9971-481a5a6b8c49\",\"type\":\"BoxAnnotation\"},{\"id\":\"122688e9-f414-460f-871f-738579f700ce\",\"type\":\"Legend\"},{\"id\":\"5234c1ac-6f3a-4ff2-b7de-77cc761a9b44\",\"type\":\"GlyphRenderer\"},{\"id\":\"2bb96008-e68e-43b3-874e-7f34d7c56bd8\",\"type\":\"GlyphRenderer\"}],\"title\":{\"id\":\"f952b2b1-f18d-42f5-88e4-c899d7d27931\",\"type\":\"Title\"},\"toolbar\":{\"id\":\"9ba0a42f-e5c6-4a7c-a3b6-764761941608\",\"type\":\"Toolbar\"},\"toolbar_location\":\"above\",\"x_range\":{\"id\":\"6c1a41ee-fdbd-4d42-907e-67d621f2c027\",\"type\":\"DataRange1d\"},\"x_scale\":{\"id\":\"927cddd2-c6db-41e5-ab65-72463d9f9e19\",\"type\":\"LogScale\"},\"y_range\":{\"id\":\"cd509eda-6bcc-457a-a03a-09dfd47bb642\",\"type\":\"Range1d\"},\"y_scale\":{\"id\":\"c9274093-a473-4f7d-ad15-255b98fb2fe8\",\"type\":\"LogScale\"}},\"id\":\"069be9bd-e692-41df-bd51-764c90c60302\",\"subtype\":\"Figure\",\"type\":\"Plot\"},{\"attributes\":{\"num_minor_ticks\":10},\"id\":\"ad0903e6-e0b3-4a97-9256-9af77a3f2188\",\"type\":\"LogTicker\"},{\"attributes\":{},\"id\":\"927cddd2-c6db-41e5-ab65-72463d9f9e19\",\"type\":\"LogScale\"},{\"attributes\":{\"axis_label\":\"Primes\",\"formatter\":{\"id\":\"01a07fe2-e063-4503-9893-cfcf7a5a4d75\",\"type\":\"NumeralTickFormatter\"},\"plot\":{\"id\":\"069be9bd-e692-41df-bd51-764c90c60302\",\"subtype\":\"Figure\",\"type\":\"Plot\"},\"ticker\":{\"id\":\"1d28ba59-521d-4c04-aa51-0669339faa2b\",\"type\":\"LogTicker\"}},\"id\":\"952e402a-5999-41d1-a178-aae059072b70\",\"type\":\"LogAxis\"},{\"attributes\":{\"plot\":{\"id\":\"069be9bd-e692-41df-bd51-764c90c60302\",\"subtype\":\"Figure\",\"type\":\"Plot\"},\"ticker\":{\"id\":\"1d28ba59-521d-4c04-aa51-0669339faa2b\",\"type\":\"LogTicker\"}},\"id\":\"b2dc279c-f2d8-4ffa-b0f3-65e11f099d6a\",\"type\":\"Grid\"},{\"attributes\":{},\"id\":\"c9274093-a473-4f7d-ad15-255b98fb2fe8\",\"type\":\"LogScale\"},{\"attributes\":{\"axis_label\":\"Seconds\",\"formatter\":{\"id\":\"c35818b0-c202-450f-90be-4d6ce76a7b7a\",\"type\":\"LogTickFormatter\"},\"plot\":{\"id\":\"069be9bd-e692-41df-bd51-764c90c60302\",\"subtype\":\"Figure\",\"type\":\"Plot\"},\"ticker\":{\"id\":\"ad0903e6-e0b3-4a97-9256-9af77a3f2188\",\"type\":\"LogTicker\"}},\"id\":\"54b88de0-c421-4ba0-a446-524de145697d\",\"type\":\"LogAxis\"},{\"attributes\":{\"dimension\":1,\"plot\":{\"id\":\"069be9bd-e692-41df-bd51-764c90c60302\",\"subtype\":\"Figure\",\"type\":\"Plot\"},\"ticker\":{\"id\":\"ad0903e6-e0b3-4a97-9256-9af77a3f2188\",\"type\":\"LogTicker\"}},\"id\":\"ffca3b73-5134-4f0e-82ec-14885389d7b3\",\"type\":\"Grid\"},{\"attributes\":{\"bottom_units\":\"screen\",\"fill_alpha\":{\"value\":0.5},\"fill_color\":{\"value\":\"lightgrey\"},\"left_units\":\"screen\",\"level\":\"overlay\",\"line_alpha\":{\"value\":1.0},\"line_color\":{\"value\":\"black\"},\"line_dash\":[4,4],\"line_width\":{\"value\":2},\"plot\":null,\"render_mode\":\"css\",\"right_units\":\"screen\",\"top_units\":\"screen\"},\"id\":\"1f13fcc2-0c3d-498e-9971-481a5a6b8c49\",\"type\":\"BoxAnnotation\"},{\"attributes\":{},\"id\":\"e40f790d-abf5-4f99-b223-f5a73b8b64b5\",\"type\":\"PanTool\"},{\"attributes\":{\"data_source\":{\"id\":\"deb3d4fd-96ae-4a52-8209-5355c85ba0a0\",\"type\":\"ColumnDataSource\"},\"glyph\":{\"id\":\"2a98a0ff-0765-4dfe-8a43-7007b615e4c0\",\"type\":\"Line\"},\"hover_glyph\":null,\"muted_glyph\":null,\"nonselection_glyph\":{\"id\":\"b853ce0d-9182-46c4-bcd1-8ff29b7eed24\",\"type\":\"Line\"},\"selection_glyph\":null,\"view\":{\"id\":\"5a4c3efc-2081-4641-9c95-5f2182448eda\",\"type\":\"CDSView\"}},\"id\":\"5234c1ac-6f3a-4ff2-b7de-77cc761a9b44\",\"type\":\"GlyphRenderer\"},{\"attributes\":{},\"id\":\"eb226696-14e8-47fa-a611-38a86bcb16dc\",\"type\":\"WheelZoomTool\"},{\"attributes\":{\"fill_alpha\":{\"value\":0.1},\"fill_color\":{\"value\":\"#1f77b4\"},\"line_alpha\":{\"value\":0.1},\"line_color\":{\"value\":\"#1f77b4\"},\"x\":{\"field\":\"x\"},\"y\":{\"field\":\"y\"}},\"id\":\"9f1b40ef-febd-4795-9160-3d0e869e534b\",\"type\":\"Circle\"},{\"attributes\":{\"overlay\":{\"id\":\"1f13fcc2-0c3d-498e-9971-481a5a6b8c49\",\"type\":\"BoxAnnotation\"}},\"id\":\"715b5175-4864-497c-b05a-7812c8313cc1\",\"type\":\"BoxZoomTool\"},{\"attributes\":{},\"id\":\"0f2aa0e4-f49f-46b6-a047-d5d910523620\",\"type\":\"SaveTool\"},{\"attributes\":{},\"id\":\"d9bcafd3-2a60-47e0-8eba-2f1ab1b40047\",\"type\":\"ResetTool\"},{\"attributes\":{\"fill_color\":{\"value\":\"#1f77b4\"},\"line_color\":{\"value\":\"#1f77b4\"},\"x\":{\"field\":\"x\"},\"y\":{\"field\":\"y\"}},\"id\":\"fcca8ee9-c5df-4d68-9c06-9bfe4b94a7cd\",\"type\":\"Circle\"},{\"attributes\":{},\"id\":\"60a9390c-6e47-49ec-9cd8-572678e0b22a\",\"type\":\"HelpTool\"},{\"attributes\":{\"active_drag\":\"auto\",\"active_inspect\":\"auto\",\"active_scroll\":\"auto\",\"active_tap\":\"auto\",\"tools\":[{\"id\":\"e40f790d-abf5-4f99-b223-f5a73b8b64b5\",\"type\":\"PanTool\"},{\"id\":\"eb226696-14e8-47fa-a611-38a86bcb16dc\",\"type\":\"WheelZoomTool\"},{\"id\":\"715b5175-4864-497c-b05a-7812c8313cc1\",\"type\":\"BoxZoomTool\"},{\"id\":\"0f2aa0e4-f49f-46b6-a047-d5d910523620\",\"type\":\"SaveTool\"},{\"id\":\"d9bcafd3-2a60-47e0-8eba-2f1ab1b40047\",\"type\":\"ResetTool\"},{\"id\":\"60a9390c-6e47-49ec-9cd8-572678e0b22a\",\"type\":\"HelpTool\"}]},\"id\":\"9ba0a42f-e5c6-4a7c-a3b6-764761941608\",\"type\":\"Toolbar\"},{\"attributes\":{\"line_color\":\"#1f77b4\",\"x\":{\"field\":\"x\"},\"y\":{\"field\":\"y\"}},\"id\":\"2a98a0ff-0765-4dfe-8a43-7007b615e4c0\",\"type\":\"Line\"},{\"attributes\":{\"source\":{\"id\":\"deb3d4fd-96ae-4a52-8209-5355c85ba0a0\",\"type\":\"ColumnDataSource\"}},\"id\":\"7438bdb8-4d3e-4db0-9bf2-b841f73715e1\",\"type\":\"CDSView\"},{\"attributes\":{\"source\":{\"id\":\"deb3d4fd-96ae-4a52-8209-5355c85ba0a0\",\"type\":\"ColumnDataSource\"}},\"id\":\"5a4c3efc-2081-4641-9c95-5f2182448eda\",\"type\":\"CDSView\"},{\"attributes\":{\"ticker\":null},\"id\":\"c35818b0-c202-450f-90be-4d6ce76a7b7a\",\"type\":\"LogTickFormatter\"},{\"attributes\":{\"data_source\":{\"id\":\"deb3d4fd-96ae-4a52-8209-5355c85ba0a0\",\"type\":\"ColumnDataSource\"},\"glyph\":{\"id\":\"fcca8ee9-c5df-4d68-9c06-9bfe4b94a7cd\",\"type\":\"Circle\"},\"hover_glyph\":null,\"muted_glyph\":null,\"nonselection_glyph\":{\"id\":\"9f1b40ef-febd-4795-9160-3d0e869e534b\",\"type\":\"Circle\"},\"selection_glyph\":null,\"view\":{\"id\":\"7438bdb8-4d3e-4db0-9bf2-b841f73715e1\",\"type\":\"CDSView\"}},\"id\":\"2bb96008-e68e-43b3-874e-7f34d7c56bd8\",\"type\":\"GlyphRenderer\"},{\"attributes\":{\"label\":{\"value\":\"primes1\"},\"renderers\":[{\"id\":\"5234c1ac-6f3a-4ff2-b7de-77cc761a9b44\",\"type\":\"GlyphRenderer\"},{\"id\":\"2bb96008-e68e-43b3-874e-7f34d7c56bd8\",\"type\":\"GlyphRenderer\"}]},\"id\":\"a33f503f-f552-46ae-bbf1-ec7e0bd9f76f\",\"type\":\"LegendItem\"},{\"attributes\":{\"line_alpha\":0.1,\"line_color\":\"#1f77b4\",\"x\":{\"field\":\"x\"},\"y\":{\"field\":\"y\"}},\"id\":\"b853ce0d-9182-46c4-bcd1-8ff29b7eed24\",\"type\":\"Line\"},{\"attributes\":{\"format\":\"0[.]0 a\"},\"id\":\"01a07fe2-e063-4503-9893-cfcf7a5a4d75\",\"type\":\"NumeralTickFormatter\"}],\"root_ids\":[\"069be9bd-e692-41df-bd51-764c90c60302\"]},\"title\":\"Bokeh Application\",\"version\":\"0.12.14\"}};\n",
       "  var render_items = [{\"docid\":\"45574864-44d9-491e-903f-700fb84afee2\",\"elementid\":\"9075503a-9003-4fbf-bdf9-500720583ada\",\"modelid\":\"069be9bd-e692-41df-bd51-764c90c60302\",\"notebook_comms_target\":\"fc4765ba-5d26-4e74-9871-88a214640e71\"}];\n",
       "  root.Bokeh.embed.embed_items_notebook(docs_json, render_items);\n",
       "\n",
       "  }\n",
       "  if (root.Bokeh !== undefined) {\n",
       "    embed_document(root);\n",
       "  } else {\n",
       "    var attempts = 0;\n",
       "    var timer = setInterval(function(root) {\n",
       "      if (root.Bokeh !== undefined) {\n",
       "        embed_document(root);\n",
       "        clearInterval(timer);\n",
       "      }\n",
       "      attempts++;\n",
       "      if (attempts > 100) {\n",
       "        console.log(\"Bokeh: ERROR: Unable to run BokehJS code because BokehJS library is missing\")\n",
       "        clearInterval(timer);\n",
       "      }\n",
       "    }, 10, root)\n",
       "  }\n",
       "})(window);"
      ],
      "application/vnd.bokehjs_exec.v0+json": ""
     },
     "metadata": {
      "application/vnd.bokehjs_exec.v0+json": {
       "id": "069be9bd-e692-41df-bd51-764c90c60302"
      }
     },
     "output_type": "display_data"
    }
   ],
   "source": [
    "timing_plot(primes1)"
   ]
  },
  {
   "cell_type": "markdown",
   "metadata": {
    "slideshow": {
     "slide_type": "slide"
    }
   },
   "source": [
    "## Can we make it faster?"
   ]
  },
  {
   "cell_type": "markdown",
   "metadata": {
    "slideshow": {
     "slide_type": "fragment"
    }
   },
   "source": [
    "### What about skipping all even numbers (apart from 2)?"
   ]
  },
  {
   "cell_type": "code",
   "execution_count": 7,
   "metadata": {
    "slideshow": {
     "slide_type": "fragment"
    }
   },
   "outputs": [],
   "source": [
    "from itertools import count\n",
    "\n",
    "def primes2():\n",
    "    def is_prime(n):\n",
    "        for i in range(3, n, 2):\n",
    "            if n % i == 0:\n",
    "                return False\n",
    "        return True\n",
    "    yield 2\n",
    "    for i in count(3, 2):\n",
    "        if is_prime(i):\n",
    "            yield i"
   ]
  },
  {
   "cell_type": "markdown",
   "metadata": {
    "slideshow": {
     "slide_type": "slide"
    }
   },
   "source": [
    "### How much faster is it?"
   ]
  },
  {
   "cell_type": "code",
   "execution_count": 8,
   "metadata": {
    "slideshow": {
     "slide_type": "fragment"
    }
   },
   "outputs": [
    {
     "data": {
      "text/html": [
       "\n",
       "<div class=\"bk-root\">\n",
       "    <div class=\"bk-plotdiv\" id=\"7cf97b81-13c7-4213-b13f-5d9d2daf51c6\"></div>\n",
       "</div>"
      ]
     },
     "metadata": {},
     "output_type": "display_data"
    },
    {
     "data": {
      "application/javascript": [
       "(function(root) {\n",
       "  function embed_document(root) {\n",
       "    \n",
       "  var docs_json = {\"a150f23b-6915-44c8-9428-3676fa9b5ef9\":{\"roots\":{\"references\":[{\"attributes\":{\"data_source\":{\"id\":\"1804a314-e349-4fef-8b9e-0fc61cb439a1\",\"type\":\"ColumnDataSource\"},\"glyph\":{\"id\":\"bb9154f0-9f27-483c-a0ee-e0183faa71a1\",\"type\":\"Line\"},\"hover_glyph\":null,\"muted_glyph\":null,\"nonselection_glyph\":{\"id\":\"5ce7d9d2-5e98-4962-ab2a-30ab6f118bd5\",\"type\":\"Line\"},\"selection_glyph\":null,\"view\":{\"id\":\"487402c2-baba-4dfe-89d7-8ab6fd0b62d3\",\"type\":\"CDSView\"}},\"id\":\"c8f3b1c9-8f10-4535-bb6c-9667947d053e\",\"type\":\"GlyphRenderer\"},{\"attributes\":{\"callback\":null,\"column_names\":[\"x\",\"y\"],\"data\":{\"x\":[1,2,5,10,20,50,100,200,500,1000,2000],\"y\":[2.2810418158769608e-06,2.5780173018574715e-06,7.209018804132938e-06,2.0492938347160816e-05,6.410805508494377e-05,0.00035123503766953945,0.0015158610185608268,0.007402612012811005,0.0685258429730311,0.26473734504543245,1.2196230669505894]}},\"id\":\"abc8541d-e9c4-47b3-83f8-09ddc5c135a3\",\"type\":\"ColumnDataSource\"},{\"attributes\":{\"fill_color\":{\"value\":\"#ff7f0e\"},\"line_color\":{\"value\":\"#ff7f0e\"},\"x\":{\"field\":\"x\"},\"y\":{\"field\":\"y\"}},\"id\":\"07b95cee-395f-4b18-8f3f-34a1373bb55d\",\"type\":\"Circle\"},{\"attributes\":{\"source\":{\"id\":\"1804a314-e349-4fef-8b9e-0fc61cb439a1\",\"type\":\"ColumnDataSource\"}},\"id\":\"4be78252-3ae8-4fd4-9246-168d7b969e1a\",\"type\":\"CDSView\"},{\"attributes\":{\"background_fill_alpha\":{\"value\":0.5},\"click_policy\":\"hide\",\"items\":[{\"id\":\"dff9a38b-68dd-40bc-a410-ca855c4ae5e9\",\"type\":\"LegendItem\"},{\"id\":\"f6d4de56-6698-4592-8bd9-51a48b3f739f\",\"type\":\"LegendItem\"}],\"location\":\"top_left\",\"plot\":{\"id\":\"a2efc8ce-768b-4c2e-9a53-8976fb417261\",\"subtype\":\"Figure\",\"type\":\"Plot\"}},\"id\":\"2b061904-82cf-4058-86ec-663c15d2f14a\",\"type\":\"Legend\"},{\"attributes\":{\"below\":[{\"id\":\"e9e62886-f767-4580-ae41-147f49cc7543\",\"type\":\"LogAxis\"}],\"left\":[{\"id\":\"6e1cbcc2-216b-4550-abb8-85f70e6c46f0\",\"type\":\"LogAxis\"}],\"plot_height\":400,\"plot_width\":800,\"renderers\":[{\"id\":\"e9e62886-f767-4580-ae41-147f49cc7543\",\"type\":\"LogAxis\"},{\"id\":\"0c183d76-861c-4904-86ef-f9d2753dc9b7\",\"type\":\"Grid\"},{\"id\":\"6e1cbcc2-216b-4550-abb8-85f70e6c46f0\",\"type\":\"LogAxis\"},{\"id\":\"de41c8a1-9ae2-4ee5-9a0f-9b2276fa1bc4\",\"type\":\"Grid\"},{\"id\":\"b2202ba8-8324-4a6d-8a25-f810dba4a862\",\"type\":\"BoxAnnotation\"},{\"id\":\"2b061904-82cf-4058-86ec-663c15d2f14a\",\"type\":\"Legend\"},{\"id\":\"efbc187d-e28a-47d5-b9ec-ee9f29f4bbb5\",\"type\":\"GlyphRenderer\"},{\"id\":\"1f6de5b9-91e6-4d62-ab59-1c46b9343276\",\"type\":\"GlyphRenderer\"},{\"id\":\"c8f3b1c9-8f10-4535-bb6c-9667947d053e\",\"type\":\"GlyphRenderer\"},{\"id\":\"b3c1f164-5631-4e27-96b8-4af5f9935476\",\"type\":\"GlyphRenderer\"}],\"title\":{\"id\":\"f9fe8372-457f-4909-8364-1d9d16e0f419\",\"type\":\"Title\"},\"toolbar\":{\"id\":\"6633c9e5-81de-4388-9aab-6d44fe320514\",\"type\":\"Toolbar\"},\"toolbar_location\":\"above\",\"x_range\":{\"id\":\"3cd75da3-e7d4-4e8f-94c3-e795b80337cf\",\"type\":\"DataRange1d\"},\"x_scale\":{\"id\":\"aab6bc24-a5d5-490a-af65-c2cce6482219\",\"type\":\"LogScale\"},\"y_range\":{\"id\":\"c65e5bec-78aa-4821-afba-6196d5e3b9d2\",\"type\":\"Range1d\"},\"y_scale\":{\"id\":\"216fc351-0af6-4faa-9b33-ee198d3f04cb\",\"type\":\"LogScale\"}},\"id\":\"a2efc8ce-768b-4c2e-9a53-8976fb417261\",\"subtype\":\"Figure\",\"type\":\"Plot\"},{\"attributes\":{\"data_source\":{\"id\":\"1804a314-e349-4fef-8b9e-0fc61cb439a1\",\"type\":\"ColumnDataSource\"},\"glyph\":{\"id\":\"07b95cee-395f-4b18-8f3f-34a1373bb55d\",\"type\":\"Circle\"},\"hover_glyph\":null,\"muted_glyph\":null,\"nonselection_glyph\":{\"id\":\"b123d0c0-3685-4315-9a0d-d6bee22444a6\",\"type\":\"Circle\"},\"selection_glyph\":null,\"view\":{\"id\":\"4be78252-3ae8-4fd4-9246-168d7b969e1a\",\"type\":\"CDSView\"}},\"id\":\"b3c1f164-5631-4e27-96b8-4af5f9935476\",\"type\":\"GlyphRenderer\"},{\"attributes\":{},\"id\":\"05743acc-e5d3-4cf5-b2b9-e041fa2f8a7e\",\"type\":\"HelpTool\"},{\"attributes\":{\"label\":{\"value\":\"primes1\"},\"renderers\":[{\"id\":\"efbc187d-e28a-47d5-b9ec-ee9f29f4bbb5\",\"type\":\"GlyphRenderer\"},{\"id\":\"1f6de5b9-91e6-4d62-ab59-1c46b9343276\",\"type\":\"GlyphRenderer\"}]},\"id\":\"dff9a38b-68dd-40bc-a410-ca855c4ae5e9\",\"type\":\"LegendItem\"},{\"attributes\":{\"ticker\":null},\"id\":\"e9b045c6-6a6f-4c76-b092-93e08e0e4495\",\"type\":\"LogTickFormatter\"},{\"attributes\":{\"label\":{\"value\":\"primes2\"},\"renderers\":[{\"id\":\"c8f3b1c9-8f10-4535-bb6c-9667947d053e\",\"type\":\"GlyphRenderer\"},{\"id\":\"b3c1f164-5631-4e27-96b8-4af5f9935476\",\"type\":\"GlyphRenderer\"}]},\"id\":\"f6d4de56-6698-4592-8bd9-51a48b3f739f\",\"type\":\"LegendItem\"},{\"attributes\":{\"line_alpha\":0.1,\"line_color\":\"#1f77b4\",\"line_dash\":[6],\"x\":{\"field\":\"x\"},\"y\":{\"field\":\"y\"}},\"id\":\"930862ec-54f9-4184-87bb-32b1af3e9f9a\",\"type\":\"Line\"},{\"attributes\":{\"fill_alpha\":{\"value\":0.1},\"fill_color\":{\"value\":\"#1f77b4\"},\"line_alpha\":{\"value\":0.1},\"line_color\":{\"value\":\"#1f77b4\"},\"x\":{\"field\":\"x\"},\"y\":{\"field\":\"y\"}},\"id\":\"b123d0c0-3685-4315-9a0d-d6bee22444a6\",\"type\":\"Circle\"},{\"attributes\":{\"data_source\":{\"id\":\"16803b8a-398e-4e72-b8ab-15da60ed0891\",\"type\":\"ColumnDataSource\"},\"glyph\":{\"id\":\"40d60ac7-c693-4c19-b8af-155ec25ee948\",\"type\":\"Line\"},\"hover_glyph\":null,\"muted_glyph\":null,\"nonselection_glyph\":{\"id\":\"930862ec-54f9-4184-87bb-32b1af3e9f9a\",\"type\":\"Line\"},\"selection_glyph\":null,\"view\":{\"id\":\"0181f67c-bbb0-45ed-9cc9-ba9a5ad4effd\",\"type\":\"CDSView\"}},\"id\":\"efbc187d-e28a-47d5-b9ec-ee9f29f4bbb5\",\"type\":\"GlyphRenderer\"},{\"attributes\":{\"callback\":null,\"column_names\":[\"x\",\"y\"],\"data\":{\"x\":[],\"y\":[]}},\"id\":\"1804a314-e349-4fef-8b9e-0fc61cb439a1\",\"type\":\"ColumnDataSource\"},{\"attributes\":{\"source\":{\"id\":\"1804a314-e349-4fef-8b9e-0fc61cb439a1\",\"type\":\"ColumnDataSource\"}},\"id\":\"487402c2-baba-4dfe-89d7-8ab6fd0b62d3\",\"type\":\"CDSView\"},{\"attributes\":{\"line_alpha\":0.1,\"line_color\":\"#1f77b4\",\"x\":{\"field\":\"x\"},\"y\":{\"field\":\"y\"}},\"id\":\"5ce7d9d2-5e98-4962-ab2a-30ab6f118bd5\",\"type\":\"Line\"},{\"attributes\":{\"format\":\"0[.]0 a\"},\"id\":\"5cb5ad86-5426-4ab2-a21b-f4c755c30565\",\"type\":\"NumeralTickFormatter\"},{\"attributes\":{\"source\":{\"id\":\"16803b8a-398e-4e72-b8ab-15da60ed0891\",\"type\":\"ColumnDataSource\"}},\"id\":\"0181f67c-bbb0-45ed-9cc9-ba9a5ad4effd\",\"type\":\"CDSView\"},{\"attributes\":{},\"id\":\"a12b9b9c-ce66-4ba0-9db3-4bf3c15f2f7a\",\"type\":\"PanTool\"},{\"attributes\":{\"plot\":{\"id\":\"a2efc8ce-768b-4c2e-9a53-8976fb417261\",\"subtype\":\"Figure\",\"type\":\"Plot\"},\"ticker\":{\"id\":\"27520e42-b284-4377-8d46-a59c6db16f40\",\"type\":\"LogTicker\"}},\"id\":\"0c183d76-861c-4904-86ef-f9d2753dc9b7\",\"type\":\"Grid\"},{\"attributes\":{\"callback\":null,\"column_names\":[\"x\",\"y\"],\"data\":{\"x\":[1,2,5,10,20,50,100,200,500,1000,2000],\"y\":[2.2810418158769608e-06,2.5780173018574715e-06,7.209018804132938e-06,2.0492938347160816e-05,6.410805508494377e-05,0.00035123503766953945,0.0015158610185608268,0.007402612012811005,0.0685258429730311,0.26473734504543245,1.2196230669505894]}},\"id\":\"16803b8a-398e-4e72-b8ab-15da60ed0891\",\"type\":\"ColumnDataSource\"},{\"attributes\":{\"num_minor_ticks\":10},\"id\":\"27520e42-b284-4377-8d46-a59c6db16f40\",\"type\":\"LogTicker\"},{\"attributes\":{\"fill_color\":{\"value\":\"#1f77b4\"},\"line_color\":{\"value\":\"#1f77b4\"},\"x\":{\"field\":\"x\"},\"y\":{\"field\":\"y\"}},\"id\":\"3249fa0b-db6e-406e-a3c1-5ab39d14a00b\",\"type\":\"Circle\"},{\"attributes\":{\"overlay\":{\"id\":\"b2202ba8-8324-4a6d-8a25-f810dba4a862\",\"type\":\"BoxAnnotation\"}},\"id\":\"08f7ae6b-8453-41d2-991b-6d061eed8781\",\"type\":\"BoxZoomTool\"},{\"attributes\":{\"axis_label\":\"Primes\",\"formatter\":{\"id\":\"5cb5ad86-5426-4ab2-a21b-f4c755c30565\",\"type\":\"NumeralTickFormatter\"},\"plot\":{\"id\":\"a2efc8ce-768b-4c2e-9a53-8976fb417261\",\"subtype\":\"Figure\",\"type\":\"Plot\"},\"ticker\":{\"id\":\"27520e42-b284-4377-8d46-a59c6db16f40\",\"type\":\"LogTicker\"}},\"id\":\"e9e62886-f767-4580-ae41-147f49cc7543\",\"type\":\"LogAxis\"},{\"attributes\":{\"bottom_units\":\"screen\",\"fill_alpha\":{\"value\":0.5},\"fill_color\":{\"value\":\"lightgrey\"},\"left_units\":\"screen\",\"level\":\"overlay\",\"line_alpha\":{\"value\":1.0},\"line_color\":{\"value\":\"black\"},\"line_dash\":[4,4],\"line_width\":{\"value\":2},\"plot\":null,\"render_mode\":\"css\",\"right_units\":\"screen\",\"top_units\":\"screen\"},\"id\":\"b2202ba8-8324-4a6d-8a25-f810dba4a862\",\"type\":\"BoxAnnotation\"},{\"attributes\":{\"plot\":null,\"text\":\"Timing\"},\"id\":\"f9fe8372-457f-4909-8364-1d9d16e0f419\",\"type\":\"Title\"},{\"attributes\":{},\"id\":\"aab6bc24-a5d5-490a-af65-c2cce6482219\",\"type\":\"LogScale\"},{\"attributes\":{},\"id\":\"216fc351-0af6-4faa-9b33-ee198d3f04cb\",\"type\":\"LogScale\"},{\"attributes\":{},\"id\":\"0b565663-e836-405a-9de2-5052826dee09\",\"type\":\"ResetTool\"},{\"attributes\":{\"axis_label\":\"Seconds\",\"formatter\":{\"id\":\"e9b045c6-6a6f-4c76-b092-93e08e0e4495\",\"type\":\"LogTickFormatter\"},\"plot\":{\"id\":\"a2efc8ce-768b-4c2e-9a53-8976fb417261\",\"subtype\":\"Figure\",\"type\":\"Plot\"},\"ticker\":{\"id\":\"5ca00950-d976-45af-87e3-7c5cbbc6cb09\",\"type\":\"LogTicker\"}},\"id\":\"6e1cbcc2-216b-4550-abb8-85f70e6c46f0\",\"type\":\"LogAxis\"},{\"attributes\":{\"source\":{\"id\":\"abc8541d-e9c4-47b3-83f8-09ddc5c135a3\",\"type\":\"ColumnDataSource\"}},\"id\":\"b85fc7d5-30a7-4d6f-9aa6-2089bbc3a86e\",\"type\":\"CDSView\"},{\"attributes\":{\"callback\":null,\"start\":1e-06},\"id\":\"c65e5bec-78aa-4821-afba-6196d5e3b9d2\",\"type\":\"Range1d\"},{\"attributes\":{\"line_color\":\"#1f77b4\",\"line_dash\":[6],\"x\":{\"field\":\"x\"},\"y\":{\"field\":\"y\"}},\"id\":\"40d60ac7-c693-4c19-b8af-155ec25ee948\",\"type\":\"Line\"},{\"attributes\":{\"active_drag\":\"auto\",\"active_inspect\":\"auto\",\"active_scroll\":\"auto\",\"active_tap\":\"auto\",\"tools\":[{\"id\":\"a12b9b9c-ce66-4ba0-9db3-4bf3c15f2f7a\",\"type\":\"PanTool\"},{\"id\":\"0dbe4b9f-2e26-4c5e-9927-27b0b165eddf\",\"type\":\"WheelZoomTool\"},{\"id\":\"08f7ae6b-8453-41d2-991b-6d061eed8781\",\"type\":\"BoxZoomTool\"},{\"id\":\"9339efd7-a411-4d51-8393-bf4ded9da03c\",\"type\":\"SaveTool\"},{\"id\":\"0b565663-e836-405a-9de2-5052826dee09\",\"type\":\"ResetTool\"},{\"id\":\"05743acc-e5d3-4cf5-b2b9-e041fa2f8a7e\",\"type\":\"HelpTool\"}]},\"id\":\"6633c9e5-81de-4388-9aab-6d44fe320514\",\"type\":\"Toolbar\"},{\"attributes\":{\"callback\":null,\"start\":1},\"id\":\"3cd75da3-e7d4-4e8f-94c3-e795b80337cf\",\"type\":\"DataRange1d\"},{\"attributes\":{},\"id\":\"9339efd7-a411-4d51-8393-bf4ded9da03c\",\"type\":\"SaveTool\"},{\"attributes\":{\"fill_alpha\":{\"value\":0.1},\"fill_color\":{\"value\":\"#1f77b4\"},\"line_alpha\":{\"value\":0.1},\"line_color\":{\"value\":\"#1f77b4\"},\"x\":{\"field\":\"x\"},\"y\":{\"field\":\"y\"}},\"id\":\"b6d3c35a-2a26-42a3-96ad-0f0f26d7513e\",\"type\":\"Circle\"},{\"attributes\":{},\"id\":\"0dbe4b9f-2e26-4c5e-9927-27b0b165eddf\",\"type\":\"WheelZoomTool\"},{\"attributes\":{\"line_color\":\"#ff7f0e\",\"x\":{\"field\":\"x\"},\"y\":{\"field\":\"y\"}},\"id\":\"bb9154f0-9f27-483c-a0ee-e0183faa71a1\",\"type\":\"Line\"},{\"attributes\":{\"num_minor_ticks\":10},\"id\":\"5ca00950-d976-45af-87e3-7c5cbbc6cb09\",\"type\":\"LogTicker\"},{\"attributes\":{\"dimension\":1,\"plot\":{\"id\":\"a2efc8ce-768b-4c2e-9a53-8976fb417261\",\"subtype\":\"Figure\",\"type\":\"Plot\"},\"ticker\":{\"id\":\"5ca00950-d976-45af-87e3-7c5cbbc6cb09\",\"type\":\"LogTicker\"}},\"id\":\"de41c8a1-9ae2-4ee5-9a0f-9b2276fa1bc4\",\"type\":\"Grid\"},{\"attributes\":{\"data_source\":{\"id\":\"abc8541d-e9c4-47b3-83f8-09ddc5c135a3\",\"type\":\"ColumnDataSource\"},\"glyph\":{\"id\":\"3249fa0b-db6e-406e-a3c1-5ab39d14a00b\",\"type\":\"Circle\"},\"hover_glyph\":null,\"muted_glyph\":null,\"nonselection_glyph\":{\"id\":\"b6d3c35a-2a26-42a3-96ad-0f0f26d7513e\",\"type\":\"Circle\"},\"selection_glyph\":null,\"view\":{\"id\":\"b85fc7d5-30a7-4d6f-9aa6-2089bbc3a86e\",\"type\":\"CDSView\"}},\"id\":\"1f6de5b9-91e6-4d62-ab59-1c46b9343276\",\"type\":\"GlyphRenderer\"}],\"root_ids\":[\"a2efc8ce-768b-4c2e-9a53-8976fb417261\"]},\"title\":\"Bokeh Application\",\"version\":\"0.12.14\"}};\n",
       "  var render_items = [{\"docid\":\"a150f23b-6915-44c8-9428-3676fa9b5ef9\",\"elementid\":\"7cf97b81-13c7-4213-b13f-5d9d2daf51c6\",\"modelid\":\"a2efc8ce-768b-4c2e-9a53-8976fb417261\",\"notebook_comms_target\":\"9508f99b-4dde-415d-976e-596986f8f0ee\"}];\n",
       "  root.Bokeh.embed.embed_items_notebook(docs_json, render_items);\n",
       "\n",
       "  }\n",
       "  if (root.Bokeh !== undefined) {\n",
       "    embed_document(root);\n",
       "  } else {\n",
       "    var attempts = 0;\n",
       "    var timer = setInterval(function(root) {\n",
       "      if (root.Bokeh !== undefined) {\n",
       "        embed_document(root);\n",
       "        clearInterval(timer);\n",
       "      }\n",
       "      attempts++;\n",
       "      if (attempts > 100) {\n",
       "        console.log(\"Bokeh: ERROR: Unable to run BokehJS code because BokehJS library is missing\")\n",
       "        clearInterval(timer);\n",
       "      }\n",
       "    }, 10, root)\n",
       "  }\n",
       "})(window);"
      ],
      "application/vnd.bokehjs_exec.v0+json": ""
     },
     "metadata": {
      "application/vnd.bokehjs_exec.v0+json": {
       "id": "a2efc8ce-768b-4c2e-9a53-8976fb417261"
      }
     },
     "output_type": "display_data"
    }
   ],
   "source": [
    "timing_plot(primes2)"
   ]
  },
  {
   "cell_type": "markdown",
   "metadata": {
    "slideshow": {
     "slide_type": "slide"
    }
   },
   "source": [
    "## Can we reduce the number of checks further?"
   ]
  },
  {
   "cell_type": "markdown",
   "metadata": {
    "slideshow": {
     "slide_type": "fragment"
    }
   },
   "source": [
    "### Yes!\n",
    "Factors always come in pairs: $n = f*g$ (except square numbers where you can have $f = g = \\sqrt n$).  \n",
    "If $f \\leq \\sqrt n$ then $g \\geq \\sqrt n$, and vice versa.  \n",
    "So if $n$ has any prime factors, at least one of them must always be $\\leq \\sqrt n$.  \n",
    "So we only have to check up to $\\sqrt n$, not to $n$."
   ]
  },
  {
   "cell_type": "code",
   "execution_count": 9,
   "metadata": {
    "slideshow": {
     "slide_type": "slide"
    }
   },
   "outputs": [],
   "source": [
    "from itertools import count\n",
    "from math import sqrt\n",
    "\n",
    "def primes3():\n",
    "    def is_prime(n):\n",
    "        for i in range(3, int(sqrt(n)) + 1, 2):\n",
    "            if n % i == 0:\n",
    "                return False\n",
    "        return True\n",
    "    yield 2\n",
    "    for i in count(3, 2):\n",
    "        if is_prime(i):\n",
    "            yield i"
   ]
  },
  {
   "cell_type": "markdown",
   "metadata": {
    "slideshow": {
     "slide_type": "slide"
    }
   },
   "source": [
    "## How much faster is this?"
   ]
  },
  {
   "cell_type": "code",
   "execution_count": 10,
   "metadata": {
    "scrolled": false,
    "slideshow": {
     "slide_type": "fragment"
    }
   },
   "outputs": [
    {
     "data": {
      "text/html": [
       "\n",
       "<div class=\"bk-root\">\n",
       "    <div class=\"bk-plotdiv\" id=\"82ea9571-7c87-4b0b-919b-af98c96fcdfa\"></div>\n",
       "</div>"
      ]
     },
     "metadata": {},
     "output_type": "display_data"
    },
    {
     "data": {
      "application/javascript": [
       "(function(root) {\n",
       "  function embed_document(root) {\n",
       "    \n",
       "  var docs_json = {\"9b0642ab-42fa-4674-8e71-76813aea6421\":{\"roots\":{\"references\":[{\"attributes\":{\"plot\":{\"id\":\"ae3a891a-c6d0-49fc-88e7-8a225af7540d\",\"subtype\":\"Figure\",\"type\":\"Plot\"},\"ticker\":{\"id\":\"a029fdf3-d2d8-46f9-98f8-749d677a1921\",\"type\":\"LogTicker\"}},\"id\":\"ec64b4f8-95cb-478a-a876-888329bcc6b1\",\"type\":\"Grid\"},{\"attributes\":{},\"id\":\"9359e6ab-a9a9-4892-9dc8-93fbb93afe47\",\"type\":\"LogScale\"},{\"attributes\":{\"axis_label\":\"Primes\",\"formatter\":{\"id\":\"949c043c-48a7-427e-934e-9455c85181fd\",\"type\":\"NumeralTickFormatter\"},\"plot\":{\"id\":\"ae3a891a-c6d0-49fc-88e7-8a225af7540d\",\"subtype\":\"Figure\",\"type\":\"Plot\"},\"ticker\":{\"id\":\"a029fdf3-d2d8-46f9-98f8-749d677a1921\",\"type\":\"LogTicker\"}},\"id\":\"b440b289-ac63-4bf8-a7ca-96b5f3812b09\",\"type\":\"LogAxis\"},{\"attributes\":{\"data_source\":{\"id\":\"1dabff7e-a20f-4d61-8345-d1d3cca2022e\",\"type\":\"ColumnDataSource\"},\"glyph\":{\"id\":\"9ab315a3-d484-4769-b5a7-8adf2c581b23\",\"type\":\"Circle\"},\"hover_glyph\":null,\"muted_glyph\":null,\"nonselection_glyph\":{\"id\":\"dc78b9f7-b407-40b7-bf70-3f5a32623519\",\"type\":\"Circle\"},\"selection_glyph\":null,\"view\":{\"id\":\"1eab7598-7ad7-4e63-9b2d-d7c84e35d091\",\"type\":\"CDSView\"}},\"id\":\"eaccf6c2-d644-4e38-baa0-380839dcb6d3\",\"type\":\"GlyphRenderer\"},{\"attributes\":{},\"id\":\"572e270e-3743-4993-9ba8-d713837be580\",\"type\":\"LogScale\"},{\"attributes\":{\"axis_label\":\"Seconds\",\"formatter\":{\"id\":\"620b0f59-0d23-4a35-91a6-8fa92aac9eb7\",\"type\":\"LogTickFormatter\"},\"plot\":{\"id\":\"ae3a891a-c6d0-49fc-88e7-8a225af7540d\",\"subtype\":\"Figure\",\"type\":\"Plot\"},\"ticker\":{\"id\":\"d53e4562-29a4-4db7-8fbe-56276f8fd0fb\",\"type\":\"LogTicker\"}},\"id\":\"1f953605-1f5b-4558-ac7e-ea0f9a7b5dae\",\"type\":\"LogAxis\"},{\"attributes\":{\"dimension\":1,\"plot\":{\"id\":\"ae3a891a-c6d0-49fc-88e7-8a225af7540d\",\"subtype\":\"Figure\",\"type\":\"Plot\"},\"ticker\":{\"id\":\"d53e4562-29a4-4db7-8fbe-56276f8fd0fb\",\"type\":\"LogTicker\"}},\"id\":\"7b6795cb-9462-4959-b6b7-7d2b5ed0a106\",\"type\":\"Grid\"},{\"attributes\":{\"source\":{\"id\":\"47cc3aea-4b05-471f-a5f9-a49b91469187\",\"type\":\"ColumnDataSource\"}},\"id\":\"77f72cd4-0971-417a-95c0-e15b8469799c\",\"type\":\"CDSView\"},{\"attributes\":{\"line_color\":\"#1f77b4\",\"line_dash\":[6],\"x\":{\"field\":\"x\"},\"y\":{\"field\":\"y\"}},\"id\":\"6a3683c8-13db-4ebc-be80-56d6e5ca4d2a\",\"type\":\"Line\"},{\"attributes\":{\"ticker\":null},\"id\":\"620b0f59-0d23-4a35-91a6-8fa92aac9eb7\",\"type\":\"LogTickFormatter\"},{\"attributes\":{\"callback\":null,\"column_names\":[\"x\",\"y\"],\"data\":{\"x\":[1,2,5,10,20,50,100,200,500,1000,2000],\"y\":[2.2810418158769608e-06,2.5780173018574715e-06,7.209018804132938e-06,2.0492938347160816e-05,6.410805508494377e-05,0.00035123503766953945,0.0015158610185608268,0.007402612012811005,0.0685258429730311,0.26473734504543245,1.2196230669505894]}},\"id\":\"7c20d734-71a9-4811-aea5-427a19b31ae9\",\"type\":\"ColumnDataSource\"},{\"attributes\":{\"bottom_units\":\"screen\",\"fill_alpha\":{\"value\":0.5},\"fill_color\":{\"value\":\"lightgrey\"},\"left_units\":\"screen\",\"level\":\"overlay\",\"line_alpha\":{\"value\":1.0},\"line_color\":{\"value\":\"black\"},\"line_dash\":[4,4],\"line_width\":{\"value\":2},\"plot\":null,\"render_mode\":\"css\",\"right_units\":\"screen\",\"top_units\":\"screen\"},\"id\":\"e4034c37-1636-4dde-b53d-edeff650cad4\",\"type\":\"BoxAnnotation\"},{\"attributes\":{},\"id\":\"7fb32200-4dd0-46fe-a2a2-21e7470f57d1\",\"type\":\"PanTool\"},{\"attributes\":{\"callback\":null,\"column_names\":[\"x\",\"y\"],\"data\":{\"x\":[1,2,5,10,20,50,100,200,500,1000,2000,5000],\"y\":[1.4139804989099503e-06,2.2620661184191704e-06,5.381996743381023e-06,1.3141077943146229e-05,3.996898885816336e-05,0.00021801097318530083,0.0009484479669481516,0.004649461014196277,0.033985527930781245,0.14049233100377023,0.6119923630030826,4.361634815926664]}},\"id\":\"47cc3aea-4b05-471f-a5f9-a49b91469187\",\"type\":\"ColumnDataSource\"},{\"attributes\":{\"data_source\":{\"id\":\"7c20d734-71a9-4811-aea5-427a19b31ae9\",\"type\":\"ColumnDataSource\"},\"glyph\":{\"id\":\"6a3683c8-13db-4ebc-be80-56d6e5ca4d2a\",\"type\":\"Line\"},\"hover_glyph\":null,\"muted_glyph\":null,\"nonselection_glyph\":{\"id\":\"996dd2f1-7cba-4e9d-b58c-3b9b2f22648a\",\"type\":\"Line\"},\"selection_glyph\":null,\"view\":{\"id\":\"763dc823-068d-4b1e-99e8-d324fb425914\",\"type\":\"CDSView\"}},\"id\":\"3933a43c-511d-41bd-8215-e4d8818907b9\",\"type\":\"GlyphRenderer\"},{\"attributes\":{},\"id\":\"a0508b92-940e-46a5-922e-faa091f1ac23\",\"type\":\"WheelZoomTool\"},{\"attributes\":{\"callback\":null,\"column_names\":[\"x\",\"y\"],\"data\":{\"x\":[],\"y\":[]}},\"id\":\"8b9331c2-bee6-4526-ad32-7b22208a1b22\",\"type\":\"ColumnDataSource\"},{\"attributes\":{\"overlay\":{\"id\":\"e4034c37-1636-4dde-b53d-edeff650cad4\",\"type\":\"BoxAnnotation\"}},\"id\":\"db1c6e24-6c6c-4f60-8dba-67d9960a31e2\",\"type\":\"BoxZoomTool\"},{\"attributes\":{\"fill_alpha\":{\"value\":0.1},\"fill_color\":{\"value\":\"#1f77b4\"},\"line_alpha\":{\"value\":0.1},\"line_color\":{\"value\":\"#1f77b4\"},\"x\":{\"field\":\"x\"},\"y\":{\"field\":\"y\"}},\"id\":\"0f8fe6cb-444d-4f99-a6b2-b696a825c05e\",\"type\":\"Circle\"},{\"attributes\":{},\"id\":\"d861cd02-e40f-45b9-b7aa-f3ba2208c273\",\"type\":\"SaveTool\"},{\"attributes\":{\"label\":{\"value\":\"primes2\"},\"renderers\":[{\"id\":\"cc016e0e-74dd-4a5f-97df-23fc3020942d\",\"type\":\"GlyphRenderer\"},{\"id\":\"46ac76e0-b276-4e47-a349-fa96d79bad12\",\"type\":\"GlyphRenderer\"}]},\"id\":\"a4a2c1d0-3038-441a-87f6-b91c9f71f288\",\"type\":\"LegendItem\"},{\"attributes\":{},\"id\":\"b90d6ed1-9d49-417e-8c0e-9d92de1ee5e8\",\"type\":\"ResetTool\"},{\"attributes\":{\"data_source\":{\"id\":\"8b9331c2-bee6-4526-ad32-7b22208a1b22\",\"type\":\"ColumnDataSource\"},\"glyph\":{\"id\":\"19b2a519-e0b1-4909-a511-d44a6e75c8ae\",\"type\":\"Circle\"},\"hover_glyph\":null,\"muted_glyph\":null,\"nonselection_glyph\":{\"id\":\"0f8fe6cb-444d-4f99-a6b2-b696a825c05e\",\"type\":\"Circle\"},\"selection_glyph\":null,\"view\":{\"id\":\"21a9f27b-0945-4652-afbb-1eaf6182b6b7\",\"type\":\"CDSView\"}},\"id\":\"1f3193e0-573b-43f2-a6ef-6179a94ffd1c\",\"type\":\"GlyphRenderer\"},{\"attributes\":{},\"id\":\"1e956064-f669-435c-9f25-83a84680c8a8\",\"type\":\"HelpTool\"},{\"attributes\":{\"line_alpha\":0.1,\"line_color\":\"#1f77b4\",\"x\":{\"field\":\"x\"},\"y\":{\"field\":\"y\"}},\"id\":\"0354ded2-b688-4489-a372-835e9f0b324d\",\"type\":\"Line\"},{\"attributes\":{\"source\":{\"id\":\"7c20d734-71a9-4811-aea5-427a19b31ae9\",\"type\":\"ColumnDataSource\"}},\"id\":\"763dc823-068d-4b1e-99e8-d324fb425914\",\"type\":\"CDSView\"},{\"attributes\":{\"line_color\":\"#ff7f0e\",\"line_dash\":[6],\"x\":{\"field\":\"x\"},\"y\":{\"field\":\"y\"}},\"id\":\"d7a3b33e-5cdb-4572-aac4-b2dc63721078\",\"type\":\"Line\"},{\"attributes\":{\"label\":{\"value\":\"primes1\"},\"renderers\":[{\"id\":\"3933a43c-511d-41bd-8215-e4d8818907b9\",\"type\":\"GlyphRenderer\"},{\"id\":\"eaccf6c2-d644-4e38-baa0-380839dcb6d3\",\"type\":\"GlyphRenderer\"}]},\"id\":\"56bf83e7-00ec-484d-9475-65d541e0cd59\",\"type\":\"LegendItem\"},{\"attributes\":{\"source\":{\"id\":\"1dabff7e-a20f-4d61-8345-d1d3cca2022e\",\"type\":\"ColumnDataSource\"}},\"id\":\"1eab7598-7ad7-4e63-9b2d-d7c84e35d091\",\"type\":\"CDSView\"},{\"attributes\":{\"data_source\":{\"id\":\"8ddd8fa8-fd78-4506-a391-df2703d1a24f\",\"type\":\"ColumnDataSource\"},\"glyph\":{\"id\":\"8d405469-f9f6-4b86-b53c-eb4027b2d4ef\",\"type\":\"Circle\"},\"hover_glyph\":null,\"muted_glyph\":null,\"nonselection_glyph\":{\"id\":\"54803f45-3acf-42e0-a87e-620b58fa649c\",\"type\":\"Circle\"},\"selection_glyph\":null,\"view\":{\"id\":\"55139e15-9707-4079-8599-3e57e21ea2d7\",\"type\":\"CDSView\"}},\"id\":\"46ac76e0-b276-4e47-a349-fa96d79bad12\",\"type\":\"GlyphRenderer\"},{\"attributes\":{\"background_fill_alpha\":{\"value\":0.5},\"click_policy\":\"hide\",\"items\":[{\"id\":\"56bf83e7-00ec-484d-9475-65d541e0cd59\",\"type\":\"LegendItem\"},{\"id\":\"a4a2c1d0-3038-441a-87f6-b91c9f71f288\",\"type\":\"LegendItem\"},{\"id\":\"6c910463-9aaf-4a04-adcb-fc6554ff7a2d\",\"type\":\"LegendItem\"}],\"location\":\"top_left\",\"plot\":{\"id\":\"ae3a891a-c6d0-49fc-88e7-8a225af7540d\",\"subtype\":\"Figure\",\"type\":\"Plot\"}},\"id\":\"c6696e49-5926-498a-8264-738a98f1b149\",\"type\":\"Legend\"},{\"attributes\":{\"source\":{\"id\":\"8b9331c2-bee6-4526-ad32-7b22208a1b22\",\"type\":\"ColumnDataSource\"}},\"id\":\"e5751f47-206b-4b05-b420-b5f234631b9c\",\"type\":\"CDSView\"},{\"attributes\":{\"data_source\":{\"id\":\"8b9331c2-bee6-4526-ad32-7b22208a1b22\",\"type\":\"ColumnDataSource\"},\"glyph\":{\"id\":\"bacd8147-4486-4672-9649-d9ff217b131f\",\"type\":\"Line\"},\"hover_glyph\":null,\"muted_glyph\":null,\"nonselection_glyph\":{\"id\":\"0354ded2-b688-4489-a372-835e9f0b324d\",\"type\":\"Line\"},\"selection_glyph\":null,\"view\":{\"id\":\"e5751f47-206b-4b05-b420-b5f234631b9c\",\"type\":\"CDSView\"}},\"id\":\"b12faac9-f706-4382-9a2c-4e974d29884c\",\"type\":\"GlyphRenderer\"},{\"attributes\":{\"format\":\"0[.]0 a\"},\"id\":\"949c043c-48a7-427e-934e-9455c85181fd\",\"type\":\"NumeralTickFormatter\"},{\"attributes\":{\"source\":{\"id\":\"8ddd8fa8-fd78-4506-a391-df2703d1a24f\",\"type\":\"ColumnDataSource\"}},\"id\":\"55139e15-9707-4079-8599-3e57e21ea2d7\",\"type\":\"CDSView\"},{\"attributes\":{\"line_alpha\":0.1,\"line_color\":\"#1f77b4\",\"line_dash\":[6],\"x\":{\"field\":\"x\"},\"y\":{\"field\":\"y\"}},\"id\":\"2472aae9-6147-4a14-86bb-ae89a7ae9fee\",\"type\":\"Line\"},{\"attributes\":{\"data_source\":{\"id\":\"47cc3aea-4b05-471f-a5f9-a49b91469187\",\"type\":\"ColumnDataSource\"},\"glyph\":{\"id\":\"d7a3b33e-5cdb-4572-aac4-b2dc63721078\",\"type\":\"Line\"},\"hover_glyph\":null,\"muted_glyph\":null,\"nonselection_glyph\":{\"id\":\"2472aae9-6147-4a14-86bb-ae89a7ae9fee\",\"type\":\"Line\"},\"selection_glyph\":null,\"view\":{\"id\":\"77f72cd4-0971-417a-95c0-e15b8469799c\",\"type\":\"CDSView\"}},\"id\":\"cc016e0e-74dd-4a5f-97df-23fc3020942d\",\"type\":\"GlyphRenderer\"},{\"attributes\":{\"callback\":null,\"start\":1},\"id\":\"d1f5659f-8c5b-4df6-8d74-0d35b5500164\",\"type\":\"DataRange1d\"},{\"attributes\":{\"callback\":null,\"column_names\":[\"x\",\"y\"],\"data\":{\"x\":[1,2,5,10,20,50,100,200,500,1000,2000,5000],\"y\":[1.4139804989099503e-06,2.2620661184191704e-06,5.381996743381023e-06,1.3141077943146229e-05,3.996898885816336e-05,0.00021801097318530083,0.0009484479669481516,0.004649461014196277,0.033985527930781245,0.14049233100377023,0.6119923630030826,4.361634815926664]}},\"id\":\"8ddd8fa8-fd78-4506-a391-df2703d1a24f\",\"type\":\"ColumnDataSource\"},{\"attributes\":{\"line_alpha\":0.1,\"line_color\":\"#1f77b4\",\"line_dash\":[6],\"x\":{\"field\":\"x\"},\"y\":{\"field\":\"y\"}},\"id\":\"996dd2f1-7cba-4e9d-b58c-3b9b2f22648a\",\"type\":\"Line\"},{\"attributes\":{\"fill_color\":{\"value\":\"#2ca02c\"},\"line_color\":{\"value\":\"#2ca02c\"},\"x\":{\"field\":\"x\"},\"y\":{\"field\":\"y\"}},\"id\":\"19b2a519-e0b1-4909-a511-d44a6e75c8ae\",\"type\":\"Circle\"},{\"attributes\":{\"line_color\":\"#2ca02c\",\"x\":{\"field\":\"x\"},\"y\":{\"field\":\"y\"}},\"id\":\"bacd8147-4486-4672-9649-d9ff217b131f\",\"type\":\"Line\"},{\"attributes\":{\"below\":[{\"id\":\"b440b289-ac63-4bf8-a7ca-96b5f3812b09\",\"type\":\"LogAxis\"}],\"left\":[{\"id\":\"1f953605-1f5b-4558-ac7e-ea0f9a7b5dae\",\"type\":\"LogAxis\"}],\"plot_height\":400,\"plot_width\":800,\"renderers\":[{\"id\":\"b440b289-ac63-4bf8-a7ca-96b5f3812b09\",\"type\":\"LogAxis\"},{\"id\":\"ec64b4f8-95cb-478a-a876-888329bcc6b1\",\"type\":\"Grid\"},{\"id\":\"1f953605-1f5b-4558-ac7e-ea0f9a7b5dae\",\"type\":\"LogAxis\"},{\"id\":\"7b6795cb-9462-4959-b6b7-7d2b5ed0a106\",\"type\":\"Grid\"},{\"id\":\"e4034c37-1636-4dde-b53d-edeff650cad4\",\"type\":\"BoxAnnotation\"},{\"id\":\"c6696e49-5926-498a-8264-738a98f1b149\",\"type\":\"Legend\"},{\"id\":\"3933a43c-511d-41bd-8215-e4d8818907b9\",\"type\":\"GlyphRenderer\"},{\"id\":\"eaccf6c2-d644-4e38-baa0-380839dcb6d3\",\"type\":\"GlyphRenderer\"},{\"id\":\"cc016e0e-74dd-4a5f-97df-23fc3020942d\",\"type\":\"GlyphRenderer\"},{\"id\":\"46ac76e0-b276-4e47-a349-fa96d79bad12\",\"type\":\"GlyphRenderer\"},{\"id\":\"b12faac9-f706-4382-9a2c-4e974d29884c\",\"type\":\"GlyphRenderer\"},{\"id\":\"1f3193e0-573b-43f2-a6ef-6179a94ffd1c\",\"type\":\"GlyphRenderer\"}],\"title\":{\"id\":\"583ebf3f-d4d4-4080-9f2f-237ed7e7554b\",\"type\":\"Title\"},\"toolbar\":{\"id\":\"0b55d1d8-07c5-4e2b-bf60-744ac73ab004\",\"type\":\"Toolbar\"},\"toolbar_location\":\"above\",\"x_range\":{\"id\":\"d1f5659f-8c5b-4df6-8d74-0d35b5500164\",\"type\":\"DataRange1d\"},\"x_scale\":{\"id\":\"9359e6ab-a9a9-4892-9dc8-93fbb93afe47\",\"type\":\"LogScale\"},\"y_range\":{\"id\":\"dd5a58ec-0a55-4735-b78d-2a844dda6535\",\"type\":\"Range1d\"},\"y_scale\":{\"id\":\"572e270e-3743-4993-9ba8-d713837be580\",\"type\":\"LogScale\"}},\"id\":\"ae3a891a-c6d0-49fc-88e7-8a225af7540d\",\"subtype\":\"Figure\",\"type\":\"Plot\"},{\"attributes\":{\"callback\":null,\"column_names\":[\"x\",\"y\"],\"data\":{\"x\":[1,2,5,10,20,50,100,200,500,1000,2000],\"y\":[2.2810418158769608e-06,2.5780173018574715e-06,7.209018804132938e-06,2.0492938347160816e-05,6.410805508494377e-05,0.00035123503766953945,0.0015158610185608268,0.007402612012811005,0.0685258429730311,0.26473734504543245,1.2196230669505894]}},\"id\":\"1dabff7e-a20f-4d61-8345-d1d3cca2022e\",\"type\":\"ColumnDataSource\"},{\"attributes\":{\"fill_alpha\":{\"value\":0.1},\"fill_color\":{\"value\":\"#1f77b4\"},\"line_alpha\":{\"value\":0.1},\"line_color\":{\"value\":\"#1f77b4\"},\"x\":{\"field\":\"x\"},\"y\":{\"field\":\"y\"}},\"id\":\"54803f45-3acf-42e0-a87e-620b58fa649c\",\"type\":\"Circle\"},{\"attributes\":{\"plot\":null,\"text\":\"Timing\"},\"id\":\"583ebf3f-d4d4-4080-9f2f-237ed7e7554b\",\"type\":\"Title\"},{\"attributes\":{\"callback\":null,\"start\":1e-06},\"id\":\"dd5a58ec-0a55-4735-b78d-2a844dda6535\",\"type\":\"Range1d\"},{\"attributes\":{\"fill_color\":{\"value\":\"#1f77b4\"},\"line_color\":{\"value\":\"#1f77b4\"},\"x\":{\"field\":\"x\"},\"y\":{\"field\":\"y\"}},\"id\":\"9ab315a3-d484-4769-b5a7-8adf2c581b23\",\"type\":\"Circle\"},{\"attributes\":{\"fill_alpha\":{\"value\":0.1},\"fill_color\":{\"value\":\"#1f77b4\"},\"line_alpha\":{\"value\":0.1},\"line_color\":{\"value\":\"#1f77b4\"},\"x\":{\"field\":\"x\"},\"y\":{\"field\":\"y\"}},\"id\":\"dc78b9f7-b407-40b7-bf70-3f5a32623519\",\"type\":\"Circle\"},{\"attributes\":{\"active_drag\":\"auto\",\"active_inspect\":\"auto\",\"active_scroll\":\"auto\",\"active_tap\":\"auto\",\"tools\":[{\"id\":\"7fb32200-4dd0-46fe-a2a2-21e7470f57d1\",\"type\":\"PanTool\"},{\"id\":\"a0508b92-940e-46a5-922e-faa091f1ac23\",\"type\":\"WheelZoomTool\"},{\"id\":\"db1c6e24-6c6c-4f60-8dba-67d9960a31e2\",\"type\":\"BoxZoomTool\"},{\"id\":\"d861cd02-e40f-45b9-b7aa-f3ba2208c273\",\"type\":\"SaveTool\"},{\"id\":\"b90d6ed1-9d49-417e-8c0e-9d92de1ee5e8\",\"type\":\"ResetTool\"},{\"id\":\"1e956064-f669-435c-9f25-83a84680c8a8\",\"type\":\"HelpTool\"}]},\"id\":\"0b55d1d8-07c5-4e2b-bf60-744ac73ab004\",\"type\":\"Toolbar\"},{\"attributes\":{\"label\":{\"value\":\"primes3\"},\"renderers\":[{\"id\":\"b12faac9-f706-4382-9a2c-4e974d29884c\",\"type\":\"GlyphRenderer\"},{\"id\":\"1f3193e0-573b-43f2-a6ef-6179a94ffd1c\",\"type\":\"GlyphRenderer\"}]},\"id\":\"6c910463-9aaf-4a04-adcb-fc6554ff7a2d\",\"type\":\"LegendItem\"},{\"attributes\":{\"num_minor_ticks\":10},\"id\":\"a029fdf3-d2d8-46f9-98f8-749d677a1921\",\"type\":\"LogTicker\"},{\"attributes\":{\"fill_color\":{\"value\":\"#ff7f0e\"},\"line_color\":{\"value\":\"#ff7f0e\"},\"x\":{\"field\":\"x\"},\"y\":{\"field\":\"y\"}},\"id\":\"8d405469-f9f6-4b86-b53c-eb4027b2d4ef\",\"type\":\"Circle\"},{\"attributes\":{\"source\":{\"id\":\"8b9331c2-bee6-4526-ad32-7b22208a1b22\",\"type\":\"ColumnDataSource\"}},\"id\":\"21a9f27b-0945-4652-afbb-1eaf6182b6b7\",\"type\":\"CDSView\"},{\"attributes\":{\"num_minor_ticks\":10},\"id\":\"d53e4562-29a4-4db7-8fbe-56276f8fd0fb\",\"type\":\"LogTicker\"}],\"root_ids\":[\"ae3a891a-c6d0-49fc-88e7-8a225af7540d\"]},\"title\":\"Bokeh Application\",\"version\":\"0.12.14\"}};\n",
       "  var render_items = [{\"docid\":\"9b0642ab-42fa-4674-8e71-76813aea6421\",\"elementid\":\"82ea9571-7c87-4b0b-919b-af98c96fcdfa\",\"modelid\":\"ae3a891a-c6d0-49fc-88e7-8a225af7540d\",\"notebook_comms_target\":\"176f223c-9c67-47b7-aef8-ebb9533493bb\"}];\n",
       "  root.Bokeh.embed.embed_items_notebook(docs_json, render_items);\n",
       "\n",
       "  }\n",
       "  if (root.Bokeh !== undefined) {\n",
       "    embed_document(root);\n",
       "  } else {\n",
       "    var attempts = 0;\n",
       "    var timer = setInterval(function(root) {\n",
       "      if (root.Bokeh !== undefined) {\n",
       "        embed_document(root);\n",
       "        clearInterval(timer);\n",
       "      }\n",
       "      attempts++;\n",
       "      if (attempts > 100) {\n",
       "        console.log(\"Bokeh: ERROR: Unable to run BokehJS code because BokehJS library is missing\")\n",
       "        clearInterval(timer);\n",
       "      }\n",
       "    }, 10, root)\n",
       "  }\n",
       "})(window);"
      ],
      "application/vnd.bokehjs_exec.v0+json": ""
     },
     "metadata": {
      "application/vnd.bokehjs_exec.v0+json": {
       "id": "ae3a891a-c6d0-49fc-88e7-8a225af7540d"
      }
     },
     "output_type": "display_data"
    }
   ],
   "source": [
    "timing_plot(primes3)"
   ]
  },
  {
   "cell_type": "markdown",
   "metadata": {
    "slideshow": {
     "slide_type": "slide"
    }
   },
   "source": [
    "## Is this the best we can do?"
   ]
  },
  {
   "cell_type": "markdown",
   "metadata": {
    "slideshow": {
     "slide_type": "fragment"
    }
   },
   "source": [
    "We are still checking more numbers than necessary:  \n",
    "e.g. once we've tested for divisibility by 3 and 5,  \n",
    "we shouldn't need to test 9, 15, 25, 30, 45... etc."
   ]
  },
  {
   "cell_type": "markdown",
   "metadata": {
    "slideshow": {
     "slide_type": "fragment"
    }
   },
   "source": [
    "i.e. we only need to check for divisibility by primes."
   ]
  },
  {
   "cell_type": "markdown",
   "metadata": {
    "slideshow": {
     "slide_type": "slide"
    }
   },
   "source": [
    "## The sieve of Eratosthenes"
   ]
  },
  {
   "cell_type": "markdown",
   "metadata": {
    "slideshow": {
     "slide_type": "fragment"
    }
   },
   "source": [
    "1. start with a grid of numbers, from 2 to max_prime\n",
    "2. find first (next) unmarked number, return that as a prime\n",
    "3. mark all multiples of it (actually just from n² onwards)\n",
    "4. go back to 2.\n",
    "<img src=\"sieve.png\" id=\"sieve\" />"
   ]
  },
  {
   "cell_type": "code",
   "execution_count": 11,
   "metadata": {
    "slideshow": {
     "slide_type": "slide"
    }
   },
   "outputs": [],
   "source": [
    "def primes4(max_prime):\n",
    "    sieve = [True] * max_prime\n",
    "    for i in range(2, max_prime):\n",
    "        if sieve[i]:\n",
    "            yield i\n",
    "            for j in range(i, max_prime, i):\n",
    "                sieve[j] = False"
   ]
  },
  {
   "cell_type": "code",
   "execution_count": 12,
   "metadata": {
    "slideshow": {
     "slide_type": "fragment"
    }
   },
   "outputs": [],
   "source": [
    "def primes5(max_prime):\n",
    "    sieve = [True] * (max_prime // 2)\n",
    "    yield 2\n",
    "    for i in range(3, max_prime, 2):\n",
    "        if sieve[i//2]:\n",
    "            yield i\n",
    "            for j in range(i*i, max_prime, i*2):\n",
    "                sieve[j//2] = False"
   ]
  },
  {
   "cell_type": "code",
   "execution_count": 13,
   "metadata": {
    "slideshow": {
     "slide_type": "slide"
    }
   },
   "outputs": [
    {
     "data": {
      "text/html": [
       "\n",
       "<div class=\"bk-root\">\n",
       "    <div class=\"bk-plotdiv\" id=\"f65b2ef4-df49-4935-acdf-a78ed4f5c915\"></div>\n",
       "</div>"
      ]
     },
     "metadata": {},
     "output_type": "display_data"
    },
    {
     "data": {
      "application/javascript": [
       "(function(root) {\n",
       "  function embed_document(root) {\n",
       "    \n",
       "  var docs_json = {\"e9299101-3bd8-4800-ace5-cb1a61b7d363\":{\"roots\":{\"references\":[{\"attributes\":{\"callback\":null,\"column_names\":[\"x\",\"y\"],\"data\":{\"x\":[1,2,5,10,20,50,100,200,500,1000,2000,5000],\"y\":[1.4139804989099503e-06,2.2620661184191704e-06,5.381996743381023e-06,1.3141077943146229e-05,3.996898885816336e-05,0.00021801097318530083,0.0009484479669481516,0.004649461014196277,0.033985527930781245,0.14049233100377023,0.6119923630030826,4.361634815926664]}},\"id\":\"787a8dbd-2dd3-4a3b-a17a-a23a11482650\",\"type\":\"ColumnDataSource\"},{\"attributes\":{\"source\":{\"id\":\"3b87bb60-003d-4a5c-84f6-fd0681fc49c5\",\"type\":\"ColumnDataSource\"}},\"id\":\"8e3f891a-70c0-4869-b22a-875c50f734f8\",\"type\":\"CDSView\"},{\"attributes\":{\"data_source\":{\"id\":\"3b87bb60-003d-4a5c-84f6-fd0681fc49c5\",\"type\":\"ColumnDataSource\"},\"glyph\":{\"id\":\"016dc292-7846-4905-be62-5805bb0726cf\",\"type\":\"Circle\"},\"hover_glyph\":null,\"muted_glyph\":null,\"nonselection_glyph\":{\"id\":\"29e9531c-8a8d-4021-a964-bf79de50d0a3\",\"type\":\"Circle\"},\"selection_glyph\":null,\"view\":{\"id\":\"8e3f891a-70c0-4869-b22a-875c50f734f8\",\"type\":\"CDSView\"}},\"id\":\"b68a71d4-c691-46ea-9716-5231e71a0a22\",\"type\":\"GlyphRenderer\"},{\"attributes\":{\"callback\":null,\"column_names\":[\"x\",\"y\"],\"data\":{\"x\":[1,2,5,10,20,50,100,200,500,1000,2000],\"y\":[2.2810418158769608e-06,2.5780173018574715e-06,7.209018804132938e-06,2.0492938347160816e-05,6.410805508494377e-05,0.00035123503766953945,0.0015158610185608268,0.007402612012811005,0.0685258429730311,0.26473734504543245,1.2196230669505894]}},\"id\":\"a7c1332d-fc6e-4965-ae5f-316cb4a21be9\",\"type\":\"ColumnDataSource\"},{\"attributes\":{\"callback\":null,\"column_names\":[\"x\",\"y\"],\"data\":{\"x\":[],\"y\":[]}},\"id\":\"b0860e80-5575-4a55-bea8-30a4dfc20da0\",\"type\":\"ColumnDataSource\"},{\"attributes\":{\"data_source\":{\"id\":\"a7c1332d-fc6e-4965-ae5f-316cb4a21be9\",\"type\":\"ColumnDataSource\"},\"glyph\":{\"id\":\"e2f76af2-d6f0-4963-a3ca-e9cb838acab2\",\"type\":\"Line\"},\"hover_glyph\":null,\"muted_glyph\":null,\"nonselection_glyph\":{\"id\":\"d8f97ca8-33aa-4070-8442-b3a27668684c\",\"type\":\"Line\"},\"selection_glyph\":null,\"view\":{\"id\":\"768106ec-3bab-4efb-945a-096e416dde16\",\"type\":\"CDSView\"}},\"id\":\"432e885b-680c-466c-83f1-08e94618c2bd\",\"type\":\"GlyphRenderer\"},{\"attributes\":{\"dimension\":1,\"plot\":{\"id\":\"ef80d4c2-c8da-460f-844d-648e1bab5b4a\",\"subtype\":\"Figure\",\"type\":\"Plot\"},\"ticker\":{\"id\":\"77c7809e-3aca-4802-9df3-098f01468f1a\",\"type\":\"LogTicker\"}},\"id\":\"2fa650b4-8ca2-4c5f-9cd1-21766627de46\",\"type\":\"Grid\"},{\"attributes\":{\"line_color\":\"#2ca02c\",\"line_dash\":[6],\"x\":{\"field\":\"x\"},\"y\":{\"field\":\"y\"}},\"id\":\"8a97cbf2-0979-4f93-b47b-ffe6621d3af6\",\"type\":\"Line\"},{\"attributes\":{\"data_source\":{\"id\":\"a36004e9-7a7d-4336-86de-ec8ab54a8517\",\"type\":\"ColumnDataSource\"},\"glyph\":{\"id\":\"8a97cbf2-0979-4f93-b47b-ffe6621d3af6\",\"type\":\"Line\"},\"hover_glyph\":null,\"muted_glyph\":null,\"nonselection_glyph\":{\"id\":\"6763ab10-48f4-4a9a-ae97-d70d5a1baaa9\",\"type\":\"Line\"},\"selection_glyph\":null,\"view\":{\"id\":\"bf26ff4f-ed56-45e5-a9a6-e6e02cabf841\",\"type\":\"CDSView\"}},\"id\":\"35680970-090c-49ab-b76b-bfc8c248c7ad\",\"type\":\"GlyphRenderer\"},{\"attributes\":{\"source\":{\"id\":\"a36004e9-7a7d-4336-86de-ec8ab54a8517\",\"type\":\"ColumnDataSource\"}},\"id\":\"bf26ff4f-ed56-45e5-a9a6-e6e02cabf841\",\"type\":\"CDSView\"},{\"attributes\":{\"active_drag\":\"auto\",\"active_inspect\":\"auto\",\"active_scroll\":\"auto\",\"active_tap\":\"auto\",\"tools\":[{\"id\":\"b4a07cfe-03b7-458f-ae94-5442d2efd8e5\",\"type\":\"PanTool\"},{\"id\":\"b1ebb696-63bd-4245-a8ef-a83a5cfb178e\",\"type\":\"WheelZoomTool\"},{\"id\":\"a6442e47-ce5f-483c-8a51-4e62a7ca5b16\",\"type\":\"BoxZoomTool\"},{\"id\":\"d980ff06-4ce1-4a3c-85cf-0e1141d85737\",\"type\":\"SaveTool\"},{\"id\":\"15bb58b0-a24d-4ea8-b9b8-5b2c8e51dbbc\",\"type\":\"ResetTool\"},{\"id\":\"4fc162f5-bcb1-46cc-8f3d-56a4c6d776ea\",\"type\":\"HelpTool\"}]},\"id\":\"04070409-db96-4abf-b08d-7466c0491e9a\",\"type\":\"Toolbar\"},{\"attributes\":{\"source\":{\"id\":\"787a8dbd-2dd3-4a3b-a17a-a23a11482650\",\"type\":\"ColumnDataSource\"}},\"id\":\"c475e70d-8706-402b-9565-bf7d9dbe3235\",\"type\":\"CDSView\"},{\"attributes\":{\"label\":{\"value\":\"primes2\"},\"renderers\":[{\"id\":\"67277fb4-22d8-48de-b480-671b3086273b\",\"type\":\"GlyphRenderer\"},{\"id\":\"d1c8da34-693a-4788-af7f-bef40593dac0\",\"type\":\"GlyphRenderer\"}]},\"id\":\"be24d3a7-c710-40a4-bd58-b2a66e7bf4e9\",\"type\":\"LegendItem\"},{\"attributes\":{\"data_source\":{\"id\":\"98bcaa29-0c25-4a95-a432-d7b8a57b3d0b\",\"type\":\"ColumnDataSource\"},\"glyph\":{\"id\":\"ed16991c-f238-4bb1-b1ea-83b97adbd16e\",\"type\":\"Circle\"},\"hover_glyph\":null,\"muted_glyph\":null,\"nonselection_glyph\":{\"id\":\"85062a22-5f29-4528-8ae7-919cb5f7854c\",\"type\":\"Circle\"},\"selection_glyph\":null,\"view\":{\"id\":\"7ae79962-148f-409f-849d-06a7799669a2\",\"type\":\"CDSView\"}},\"id\":\"d1c8da34-693a-4788-af7f-bef40593dac0\",\"type\":\"GlyphRenderer\"},{\"attributes\":{},\"id\":\"b1ebb696-63bd-4245-a8ef-a83a5cfb178e\",\"type\":\"WheelZoomTool\"},{\"attributes\":{\"callback\":null,\"column_names\":[\"x\",\"y\"],\"data\":{\"x\":[1,2,5,10,20,50,100,200,500,1000,2000],\"y\":[2.2810418158769608e-06,2.5780173018574715e-06,7.209018804132938e-06,2.0492938347160816e-05,6.410805508494377e-05,0.00035123503766953945,0.0015158610185608268,0.007402612012811005,0.0685258429730311,0.26473734504543245,1.2196230669505894]}},\"id\":\"3b87bb60-003d-4a5c-84f6-fd0681fc49c5\",\"type\":\"ColumnDataSource\"},{\"attributes\":{\"fill_alpha\":{\"value\":0.1},\"fill_color\":{\"value\":\"#1f77b4\"},\"line_alpha\":{\"value\":0.1},\"line_color\":{\"value\":\"#1f77b4\"},\"x\":{\"field\":\"x\"},\"y\":{\"field\":\"y\"}},\"id\":\"85062a22-5f29-4528-8ae7-919cb5f7854c\",\"type\":\"Circle\"},{\"attributes\":{\"line_alpha\":0.1,\"line_color\":\"#1f77b4\",\"line_dash\":[6],\"x\":{\"field\":\"x\"},\"y\":{\"field\":\"y\"}},\"id\":\"5eecfcf6-63a8-4d23-9895-18089540013b\",\"type\":\"Line\"},{\"attributes\":{\"fill_alpha\":{\"value\":0.1},\"fill_color\":{\"value\":\"#1f77b4\"},\"line_alpha\":{\"value\":0.1},\"line_color\":{\"value\":\"#1f77b4\"},\"x\":{\"field\":\"x\"},\"y\":{\"field\":\"y\"}},\"id\":\"29e9531c-8a8d-4021-a964-bf79de50d0a3\",\"type\":\"Circle\"},{\"attributes\":{\"callback\":null,\"column_names\":[\"x\",\"y\"],\"data\":{\"x\":[1,2,5,10,20,50,100,200,500,1000,2000,5000,10000,20000,50000],\"y\":[1.4400575309991837e-06,2.609100192785263e-06,1.1423020623624325e-05,1.527706626802683e-05,6.611598655581474e-05,0.00011964596342295408,0.0005128270713612437,0.0007289999630302191,0.0026792309945449233,0.006290751043707132,0.016653549042530358,0.056266322964802384,0.14411914395168424,0.30627229798119515,1.3236096629407257]}},\"id\":\"a36004e9-7a7d-4336-86de-ec8ab54a8517\",\"type\":\"ColumnDataSource\"},{\"attributes\":{\"label\":{\"value\":\"primes3\"},\"renderers\":[{\"id\":\"35680970-090c-49ab-b76b-bfc8c248c7ad\",\"type\":\"GlyphRenderer\"},{\"id\":\"a3be9283-8e6b-43c2-9e99-af91f2bc4711\",\"type\":\"GlyphRenderer\"}]},\"id\":\"58770f22-e80e-42e1-90a7-f57df33d1336\",\"type\":\"LegendItem\"},{\"attributes\":{\"fill_color\":{\"value\":\"#2ca02c\"},\"line_color\":{\"value\":\"#2ca02c\"},\"x\":{\"field\":\"x\"},\"y\":{\"field\":\"y\"}},\"id\":\"dbc908d9-acae-4453-b5ed-c2b073e64882\",\"type\":\"Circle\"},{\"attributes\":{\"data_source\":{\"id\":\"787a8dbd-2dd3-4a3b-a17a-a23a11482650\",\"type\":\"ColumnDataSource\"},\"glyph\":{\"id\":\"2a4cd743-a1b5-49a4-a997-8d2bf3e178cc\",\"type\":\"Line\"},\"hover_glyph\":null,\"muted_glyph\":null,\"nonselection_glyph\":{\"id\":\"5eecfcf6-63a8-4d23-9895-18089540013b\",\"type\":\"Line\"},\"selection_glyph\":null,\"view\":{\"id\":\"c475e70d-8706-402b-9565-bf7d9dbe3235\",\"type\":\"CDSView\"}},\"id\":\"67277fb4-22d8-48de-b480-671b3086273b\",\"type\":\"GlyphRenderer\"},{\"attributes\":{\"callback\":null,\"column_names\":[\"x\",\"y\"],\"data\":{\"x\":[1,2,5,10,20,50,100,200,500,1000,2000,5000,10000,20000,50000],\"y\":[1.4400575309991837e-06,2.609100192785263e-06,1.1423020623624325e-05,1.527706626802683e-05,6.611598655581474e-05,0.00011964596342295408,0.0005128270713612437,0.0007289999630302191,0.0026792309945449233,0.006290751043707132,0.016653549042530358,0.056266322964802384,0.14411914395168424,0.30627229798119515,1.3236096629407257]}},\"id\":\"8de32b5c-ed63-4e6d-a621-13dbc0a65445\",\"type\":\"ColumnDataSource\"},{\"attributes\":{\"line_color\":\"#1f77b4\",\"line_dash\":[6],\"x\":{\"field\":\"x\"},\"y\":{\"field\":\"y\"}},\"id\":\"e2f76af2-d6f0-4963-a3ca-e9cb838acab2\",\"type\":\"Line\"},{\"attributes\":{\"line_color\":\"#ff7f0e\",\"line_dash\":[6],\"x\":{\"field\":\"x\"},\"y\":{\"field\":\"y\"}},\"id\":\"2a4cd743-a1b5-49a4-a997-8d2bf3e178cc\",\"type\":\"Line\"},{\"attributes\":{\"bottom_units\":\"screen\",\"fill_alpha\":{\"value\":0.5},\"fill_color\":{\"value\":\"lightgrey\"},\"left_units\":\"screen\",\"level\":\"overlay\",\"line_alpha\":{\"value\":1.0},\"line_color\":{\"value\":\"black\"},\"line_dash\":[4,4],\"line_width\":{\"value\":2},\"plot\":null,\"render_mode\":\"css\",\"right_units\":\"screen\",\"top_units\":\"screen\"},\"id\":\"cf6ac6cd-be28-498f-9372-5f5e1b2a1818\",\"type\":\"BoxAnnotation\"},{\"attributes\":{\"callback\":null,\"column_names\":[\"x\",\"y\"],\"data\":{\"x\":[1,2,5,10,20,50,100,200,500,1000,2000,5000],\"y\":[1.4139804989099503e-06,2.2620661184191704e-06,5.381996743381023e-06,1.3141077943146229e-05,3.996898885816336e-05,0.00021801097318530083,0.0009484479669481516,0.004649461014196277,0.033985527930781245,0.14049233100377023,0.6119923630030826,4.361634815926664]}},\"id\":\"98bcaa29-0c25-4a95-a432-d7b8a57b3d0b\",\"type\":\"ColumnDataSource\"},{\"attributes\":{\"source\":{\"id\":\"a7c1332d-fc6e-4965-ae5f-316cb4a21be9\",\"type\":\"ColumnDataSource\"}},\"id\":\"768106ec-3bab-4efb-945a-096e416dde16\",\"type\":\"CDSView\"},{\"attributes\":{\"label\":{\"value\":\"primes1\"},\"renderers\":[{\"id\":\"432e885b-680c-466c-83f1-08e94618c2bd\",\"type\":\"GlyphRenderer\"},{\"id\":\"b68a71d4-c691-46ea-9716-5231e71a0a22\",\"type\":\"GlyphRenderer\"}]},\"id\":\"198fe8ca-55fe-4e50-a8ea-762788edbac6\",\"type\":\"LegendItem\"},{\"attributes\":{\"source\":{\"id\":\"98bcaa29-0c25-4a95-a432-d7b8a57b3d0b\",\"type\":\"ColumnDataSource\"}},\"id\":\"7ae79962-148f-409f-849d-06a7799669a2\",\"type\":\"CDSView\"},{\"attributes\":{},\"id\":\"4fc162f5-bcb1-46cc-8f3d-56a4c6d776ea\",\"type\":\"HelpTool\"},{\"attributes\":{},\"id\":\"4db36069-406f-4711-ac93-90bafeb75dca\",\"type\":\"LogScale\"},{\"attributes\":{\"line_alpha\":0.1,\"line_color\":\"#1f77b4\",\"line_dash\":[6],\"x\":{\"field\":\"x\"},\"y\":{\"field\":\"y\"}},\"id\":\"6763ab10-48f4-4a9a-ae97-d70d5a1baaa9\",\"type\":\"Line\"},{\"attributes\":{\"axis_label\":\"Primes\",\"formatter\":{\"id\":\"80f36b03-6eaa-433f-84e8-c5b403c42824\",\"type\":\"NumeralTickFormatter\"},\"plot\":{\"id\":\"ef80d4c2-c8da-460f-844d-648e1bab5b4a\",\"subtype\":\"Figure\",\"type\":\"Plot\"},\"ticker\":{\"id\":\"a138925a-85d7-4edb-9bd8-e8ba06fae97a\",\"type\":\"LogTicker\"}},\"id\":\"1ac66676-bad7-458d-94f3-5408671b57f1\",\"type\":\"LogAxis\"},{\"attributes\":{\"fill_color\":{\"value\":\"#ff7f0e\"},\"line_color\":{\"value\":\"#ff7f0e\"},\"x\":{\"field\":\"x\"},\"y\":{\"field\":\"y\"}},\"id\":\"ed16991c-f238-4bb1-b1ea-83b97adbd16e\",\"type\":\"Circle\"},{\"attributes\":{\"background_fill_alpha\":{\"value\":0.5},\"click_policy\":\"hide\",\"items\":[{\"id\":\"198fe8ca-55fe-4e50-a8ea-762788edbac6\",\"type\":\"LegendItem\"},{\"id\":\"be24d3a7-c710-40a4-bd58-b2a66e7bf4e9\",\"type\":\"LegendItem\"},{\"id\":\"58770f22-e80e-42e1-90a7-f57df33d1336\",\"type\":\"LegendItem\"},{\"id\":\"d5cb1bff-50e6-4883-b288-57283cdbc452\",\"type\":\"LegendItem\"}],\"location\":\"top_left\",\"plot\":{\"id\":\"ef80d4c2-c8da-460f-844d-648e1bab5b4a\",\"subtype\":\"Figure\",\"type\":\"Plot\"}},\"id\":\"827f6fa9-822d-4f3e-812e-38e1b1d5fa41\",\"type\":\"Legend\"},{\"attributes\":{\"data_source\":{\"id\":\"8de32b5c-ed63-4e6d-a621-13dbc0a65445\",\"type\":\"ColumnDataSource\"},\"glyph\":{\"id\":\"dbc908d9-acae-4453-b5ed-c2b073e64882\",\"type\":\"Circle\"},\"hover_glyph\":null,\"muted_glyph\":null,\"nonselection_glyph\":{\"id\":\"ff3f7285-1a93-49cb-a6a9-40deb32f0589\",\"type\":\"Circle\"},\"selection_glyph\":null,\"view\":{\"id\":\"e08b5cc2-ac97-440e-95d1-602d60c007b5\",\"type\":\"CDSView\"}},\"id\":\"a3be9283-8e6b-43c2-9e99-af91f2bc4711\",\"type\":\"GlyphRenderer\"},{\"attributes\":{},\"id\":\"d980ff06-4ce1-4a3c-85cf-0e1141d85737\",\"type\":\"SaveTool\"},{\"attributes\":{\"fill_alpha\":{\"value\":0.1},\"fill_color\":{\"value\":\"#1f77b4\"},\"line_alpha\":{\"value\":0.1},\"line_color\":{\"value\":\"#1f77b4\"},\"x\":{\"field\":\"x\"},\"y\":{\"field\":\"y\"}},\"id\":\"da8dfde0-85eb-4d3f-8599-b493a5c26a70\",\"type\":\"Circle\"},{\"attributes\":{\"source\":{\"id\":\"b0860e80-5575-4a55-bea8-30a4dfc20da0\",\"type\":\"ColumnDataSource\"}},\"id\":\"d99204d4-4a32-4e5c-a0a5-906bb0710f98\",\"type\":\"CDSView\"},{\"attributes\":{\"fill_color\":{\"value\":\"#d62728\"},\"line_color\":{\"value\":\"#d62728\"},\"x\":{\"field\":\"x\"},\"y\":{\"field\":\"y\"}},\"id\":\"47538d5b-2fb8-46fa-a2e6-713704042e04\",\"type\":\"Circle\"},{\"attributes\":{\"data_source\":{\"id\":\"b0860e80-5575-4a55-bea8-30a4dfc20da0\",\"type\":\"ColumnDataSource\"},\"glyph\":{\"id\":\"47538d5b-2fb8-46fa-a2e6-713704042e04\",\"type\":\"Circle\"},\"hover_glyph\":null,\"muted_glyph\":null,\"nonselection_glyph\":{\"id\":\"da8dfde0-85eb-4d3f-8599-b493a5c26a70\",\"type\":\"Circle\"},\"selection_glyph\":null,\"view\":{\"id\":\"d99204d4-4a32-4e5c-a0a5-906bb0710f98\",\"type\":\"CDSView\"}},\"id\":\"19add309-aeaa-4ade-b5dc-0a17b5215a67\",\"type\":\"GlyphRenderer\"},{\"attributes\":{\"format\":\"0[.]0 a\"},\"id\":\"80f36b03-6eaa-433f-84e8-c5b403c42824\",\"type\":\"NumeralTickFormatter\"},{\"attributes\":{\"ticker\":null},\"id\":\"ab6be248-d2d7-4b77-adc0-662c50d7ae62\",\"type\":\"LogTickFormatter\"},{\"attributes\":{\"fill_alpha\":{\"value\":0.1},\"fill_color\":{\"value\":\"#1f77b4\"},\"line_alpha\":{\"value\":0.1},\"line_color\":{\"value\":\"#1f77b4\"},\"x\":{\"field\":\"x\"},\"y\":{\"field\":\"y\"}},\"id\":\"ff3f7285-1a93-49cb-a6a9-40deb32f0589\",\"type\":\"Circle\"},{\"attributes\":{\"line_color\":\"#d62728\",\"x\":{\"field\":\"x\"},\"y\":{\"field\":\"y\"}},\"id\":\"1fbd777d-d44c-4cb5-bbd7-f1bd698e0333\",\"type\":\"Line\"},{\"attributes\":{\"label\":{\"value\":\"primes4\"},\"renderers\":[{\"id\":\"72ea4ebd-0ef8-48ce-84e1-3158eaad896d\",\"type\":\"GlyphRenderer\"},{\"id\":\"19add309-aeaa-4ade-b5dc-0a17b5215a67\",\"type\":\"GlyphRenderer\"}]},\"id\":\"d5cb1bff-50e6-4883-b288-57283cdbc452\",\"type\":\"LegendItem\"},{\"attributes\":{\"data_source\":{\"id\":\"b0860e80-5575-4a55-bea8-30a4dfc20da0\",\"type\":\"ColumnDataSource\"},\"glyph\":{\"id\":\"1fbd777d-d44c-4cb5-bbd7-f1bd698e0333\",\"type\":\"Line\"},\"hover_glyph\":null,\"muted_glyph\":null,\"nonselection_glyph\":{\"id\":\"606faaf4-8af5-4d91-9b99-a5ae23433877\",\"type\":\"Line\"},\"selection_glyph\":null,\"view\":{\"id\":\"a8460c1c-7fcb-4675-a4f6-9427f68b8f56\",\"type\":\"CDSView\"}},\"id\":\"72ea4ebd-0ef8-48ce-84e1-3158eaad896d\",\"type\":\"GlyphRenderer\"},{\"attributes\":{\"line_alpha\":0.1,\"line_color\":\"#1f77b4\",\"x\":{\"field\":\"x\"},\"y\":{\"field\":\"y\"}},\"id\":\"606faaf4-8af5-4d91-9b99-a5ae23433877\",\"type\":\"Line\"},{\"attributes\":{\"source\":{\"id\":\"b0860e80-5575-4a55-bea8-30a4dfc20da0\",\"type\":\"ColumnDataSource\"}},\"id\":\"a8460c1c-7fcb-4675-a4f6-9427f68b8f56\",\"type\":\"CDSView\"},{\"attributes\":{},\"id\":\"b4a07cfe-03b7-458f-ae94-5442d2efd8e5\",\"type\":\"PanTool\"},{\"attributes\":{\"source\":{\"id\":\"8de32b5c-ed63-4e6d-a621-13dbc0a65445\",\"type\":\"ColumnDataSource\"}},\"id\":\"e08b5cc2-ac97-440e-95d1-602d60c007b5\",\"type\":\"CDSView\"},{\"attributes\":{\"callback\":null,\"start\":1e-06},\"id\":\"d1a04655-4be5-4747-a38e-8d9444f47eac\",\"type\":\"Range1d\"},{\"attributes\":{\"plot\":null,\"text\":\"Timing\"},\"id\":\"9091d6d5-04b5-4425-a2f5-53c6ae91c233\",\"type\":\"Title\"},{\"attributes\":{\"axis_label\":\"Seconds\",\"formatter\":{\"id\":\"ab6be248-d2d7-4b77-adc0-662c50d7ae62\",\"type\":\"LogTickFormatter\"},\"plot\":{\"id\":\"ef80d4c2-c8da-460f-844d-648e1bab5b4a\",\"subtype\":\"Figure\",\"type\":\"Plot\"},\"ticker\":{\"id\":\"77c7809e-3aca-4802-9df3-098f01468f1a\",\"type\":\"LogTicker\"}},\"id\":\"760b579e-a1cf-4a32-b940-c884fd75e603\",\"type\":\"LogAxis\"},{\"attributes\":{},\"id\":\"419da682-c477-4a10-bc06-f09e8dc9befe\",\"type\":\"LogScale\"},{\"attributes\":{\"line_alpha\":0.1,\"line_color\":\"#1f77b4\",\"line_dash\":[6],\"x\":{\"field\":\"x\"},\"y\":{\"field\":\"y\"}},\"id\":\"d8f97ca8-33aa-4070-8442-b3a27668684c\",\"type\":\"Line\"},{\"attributes\":{\"overlay\":{\"id\":\"cf6ac6cd-be28-498f-9372-5f5e1b2a1818\",\"type\":\"BoxAnnotation\"}},\"id\":\"a6442e47-ce5f-483c-8a51-4e62a7ca5b16\",\"type\":\"BoxZoomTool\"},{\"attributes\":{\"num_minor_ticks\":10},\"id\":\"a138925a-85d7-4edb-9bd8-e8ba06fae97a\",\"type\":\"LogTicker\"},{\"attributes\":{\"plot\":{\"id\":\"ef80d4c2-c8da-460f-844d-648e1bab5b4a\",\"subtype\":\"Figure\",\"type\":\"Plot\"},\"ticker\":{\"id\":\"a138925a-85d7-4edb-9bd8-e8ba06fae97a\",\"type\":\"LogTicker\"}},\"id\":\"bf883715-3f5f-4b1d-a925-083d89760556\",\"type\":\"Grid\"},{\"attributes\":{\"num_minor_ticks\":10},\"id\":\"77c7809e-3aca-4802-9df3-098f01468f1a\",\"type\":\"LogTicker\"},{\"attributes\":{\"callback\":null,\"start\":1},\"id\":\"ddfdd807-ba31-45f0-a642-0a3fcbe528cf\",\"type\":\"DataRange1d\"},{\"attributes\":{\"fill_color\":{\"value\":\"#1f77b4\"},\"line_color\":{\"value\":\"#1f77b4\"},\"x\":{\"field\":\"x\"},\"y\":{\"field\":\"y\"}},\"id\":\"016dc292-7846-4905-be62-5805bb0726cf\",\"type\":\"Circle\"},{\"attributes\":{\"below\":[{\"id\":\"1ac66676-bad7-458d-94f3-5408671b57f1\",\"type\":\"LogAxis\"}],\"left\":[{\"id\":\"760b579e-a1cf-4a32-b940-c884fd75e603\",\"type\":\"LogAxis\"}],\"plot_height\":400,\"plot_width\":800,\"renderers\":[{\"id\":\"1ac66676-bad7-458d-94f3-5408671b57f1\",\"type\":\"LogAxis\"},{\"id\":\"bf883715-3f5f-4b1d-a925-083d89760556\",\"type\":\"Grid\"},{\"id\":\"760b579e-a1cf-4a32-b940-c884fd75e603\",\"type\":\"LogAxis\"},{\"id\":\"2fa650b4-8ca2-4c5f-9cd1-21766627de46\",\"type\":\"Grid\"},{\"id\":\"cf6ac6cd-be28-498f-9372-5f5e1b2a1818\",\"type\":\"BoxAnnotation\"},{\"id\":\"827f6fa9-822d-4f3e-812e-38e1b1d5fa41\",\"type\":\"Legend\"},{\"id\":\"432e885b-680c-466c-83f1-08e94618c2bd\",\"type\":\"GlyphRenderer\"},{\"id\":\"b68a71d4-c691-46ea-9716-5231e71a0a22\",\"type\":\"GlyphRenderer\"},{\"id\":\"67277fb4-22d8-48de-b480-671b3086273b\",\"type\":\"GlyphRenderer\"},{\"id\":\"d1c8da34-693a-4788-af7f-bef40593dac0\",\"type\":\"GlyphRenderer\"},{\"id\":\"35680970-090c-49ab-b76b-bfc8c248c7ad\",\"type\":\"GlyphRenderer\"},{\"id\":\"a3be9283-8e6b-43c2-9e99-af91f2bc4711\",\"type\":\"GlyphRenderer\"},{\"id\":\"72ea4ebd-0ef8-48ce-84e1-3158eaad896d\",\"type\":\"GlyphRenderer\"},{\"id\":\"19add309-aeaa-4ade-b5dc-0a17b5215a67\",\"type\":\"GlyphRenderer\"}],\"title\":{\"id\":\"9091d6d5-04b5-4425-a2f5-53c6ae91c233\",\"type\":\"Title\"},\"toolbar\":{\"id\":\"04070409-db96-4abf-b08d-7466c0491e9a\",\"type\":\"Toolbar\"},\"toolbar_location\":\"above\",\"x_range\":{\"id\":\"ddfdd807-ba31-45f0-a642-0a3fcbe528cf\",\"type\":\"DataRange1d\"},\"x_scale\":{\"id\":\"419da682-c477-4a10-bc06-f09e8dc9befe\",\"type\":\"LogScale\"},\"y_range\":{\"id\":\"d1a04655-4be5-4747-a38e-8d9444f47eac\",\"type\":\"Range1d\"},\"y_scale\":{\"id\":\"4db36069-406f-4711-ac93-90bafeb75dca\",\"type\":\"LogScale\"}},\"id\":\"ef80d4c2-c8da-460f-844d-648e1bab5b4a\",\"subtype\":\"Figure\",\"type\":\"Plot\"},{\"attributes\":{},\"id\":\"15bb58b0-a24d-4ea8-b9b8-5b2c8e51dbbc\",\"type\":\"ResetTool\"}],\"root_ids\":[\"ef80d4c2-c8da-460f-844d-648e1bab5b4a\"]},\"title\":\"Bokeh Application\",\"version\":\"0.12.14\"}};\n",
       "  var render_items = [{\"docid\":\"e9299101-3bd8-4800-ace5-cb1a61b7d363\",\"elementid\":\"f65b2ef4-df49-4935-acdf-a78ed4f5c915\",\"modelid\":\"ef80d4c2-c8da-460f-844d-648e1bab5b4a\",\"notebook_comms_target\":\"86e40fbd-961d-4931-8982-eb333a308237\"}];\n",
       "  root.Bokeh.embed.embed_items_notebook(docs_json, render_items);\n",
       "\n",
       "  }\n",
       "  if (root.Bokeh !== undefined) {\n",
       "    embed_document(root);\n",
       "  } else {\n",
       "    var attempts = 0;\n",
       "    var timer = setInterval(function(root) {\n",
       "      if (root.Bokeh !== undefined) {\n",
       "        embed_document(root);\n",
       "        clearInterval(timer);\n",
       "      }\n",
       "      attempts++;\n",
       "      if (attempts > 100) {\n",
       "        console.log(\"Bokeh: ERROR: Unable to run BokehJS code because BokehJS library is missing\")\n",
       "        clearInterval(timer);\n",
       "      }\n",
       "    }, 10, root)\n",
       "  }\n",
       "})(window);"
      ],
      "application/vnd.bokehjs_exec.v0+json": ""
     },
     "metadata": {
      "application/vnd.bokehjs_exec.v0+json": {
       "id": "ef80d4c2-c8da-460f-844d-648e1bab5b4a"
      }
     },
     "output_type": "display_data"
    }
   ],
   "source": [
    "timing_plot(primes4, True)"
   ]
  },
  {
   "cell_type": "code",
   "execution_count": 14,
   "metadata": {
    "slideshow": {
     "slide_type": "slide"
    }
   },
   "outputs": [
    {
     "data": {
      "text/html": [
       "\n",
       "<div class=\"bk-root\">\n",
       "    <div class=\"bk-plotdiv\" id=\"318dc767-21fb-4319-99e0-0df2d3bf9521\"></div>\n",
       "</div>"
      ]
     },
     "metadata": {},
     "output_type": "display_data"
    },
    {
     "data": {
      "application/javascript": [
       "(function(root) {\n",
       "  function embed_document(root) {\n",
       "    \n",
       "  var docs_json = {\"8cf28e91-5e91-43ee-8149-7f69ca671c4e\":{\"roots\":{\"references\":[{\"attributes\":{\"axis_label\":\"Seconds\",\"formatter\":{\"id\":\"1db934a6-0dcc-4209-abe8-9ddc2c31d58f\",\"type\":\"LogTickFormatter\"},\"plot\":{\"id\":\"0f873ad2-2be1-48e4-89b0-df842a37b27e\",\"subtype\":\"Figure\",\"type\":\"Plot\"},\"ticker\":{\"id\":\"0f5e33c9-edeb-4e9c-9bc7-58efff756632\",\"type\":\"LogTicker\"}},\"id\":\"ff3c6010-10ea-4aea-a0ed-b0144c73b03a\",\"type\":\"LogAxis\"},{\"attributes\":{\"bottom_units\":\"screen\",\"fill_alpha\":{\"value\":0.5},\"fill_color\":{\"value\":\"lightgrey\"},\"left_units\":\"screen\",\"level\":\"overlay\",\"line_alpha\":{\"value\":1.0},\"line_color\":{\"value\":\"black\"},\"line_dash\":[4,4],\"line_width\":{\"value\":2},\"plot\":null,\"render_mode\":\"css\",\"right_units\":\"screen\",\"top_units\":\"screen\"},\"id\":\"1155d637-2dba-4dd1-b06d-7efacc86c6b7\",\"type\":\"BoxAnnotation\"},{\"attributes\":{},\"id\":\"43bf8618-665d-4a8d-a11c-08541086619d\",\"type\":\"PanTool\"},{\"attributes\":{\"plot\":null,\"text\":\"Timing\"},\"id\":\"81cb60ac-7311-4e37-90e2-5847826b6f76\",\"type\":\"Title\"},{\"attributes\":{\"ticker\":null},\"id\":\"1db934a6-0dcc-4209-abe8-9ddc2c31d58f\",\"type\":\"LogTickFormatter\"},{\"attributes\":{},\"id\":\"cc00e32d-145f-4239-af42-80c764f16c39\",\"type\":\"WheelZoomTool\"},{\"attributes\":{\"overlay\":{\"id\":\"1155d637-2dba-4dd1-b06d-7efacc86c6b7\",\"type\":\"BoxAnnotation\"}},\"id\":\"b7ebcec6-ccdd-461b-ad09-54a2bd11b97f\",\"type\":\"BoxZoomTool\"},{\"attributes\":{},\"id\":\"87d5cef3-e36e-4ae2-a725-4bd7cb77264a\",\"type\":\"SaveTool\"},{\"attributes\":{\"source\":{\"id\":\"bf2837fd-f6c0-44e4-9e6c-f9174b4b3a73\",\"type\":\"ColumnDataSource\"}},\"id\":\"f55535b1-e037-49a5-a419-e406ec056519\",\"type\":\"CDSView\"},{\"attributes\":{\"label\":{\"value\":\"primes1\"},\"renderers\":[{\"id\":\"da977723-11b5-4fcd-957c-6eaf87a751db\",\"type\":\"GlyphRenderer\"},{\"id\":\"64a87722-7a63-4aa5-8c69-91f6eb6f7107\",\"type\":\"GlyphRenderer\"}]},\"id\":\"0cddbcd8-033c-4d2c-ae10-bb828762eb46\",\"type\":\"LegendItem\"},{\"attributes\":{\"background_fill_alpha\":{\"value\":0.5},\"click_policy\":\"hide\",\"items\":[{\"id\":\"0cddbcd8-033c-4d2c-ae10-bb828762eb46\",\"type\":\"LegendItem\"},{\"id\":\"ce64fec2-f4a9-4b11-9430-1666a14e4fac\",\"type\":\"LegendItem\"},{\"id\":\"fb9e5b9c-7272-4d69-bf71-b1e4703b7c8e\",\"type\":\"LegendItem\"},{\"id\":\"741e085c-5e37-4543-8545-056eb6503536\",\"type\":\"LegendItem\"},{\"id\":\"b58bdd5a-c742-4ec6-81c4-b5dc72eb2146\",\"type\":\"LegendItem\"}],\"location\":\"top_left\",\"plot\":{\"id\":\"0f873ad2-2be1-48e4-89b0-df842a37b27e\",\"subtype\":\"Figure\",\"type\":\"Plot\"}},\"id\":\"69c72737-779b-42d3-975b-2e6aff2f7924\",\"type\":\"Legend\"},{\"attributes\":{\"fill_color\":{\"value\":\"#1f77b4\"},\"line_color\":{\"value\":\"#1f77b4\"},\"x\":{\"field\":\"x\"},\"y\":{\"field\":\"y\"}},\"id\":\"7f944369-df80-44a5-9c78-031fd386cbee\",\"type\":\"Circle\"},{\"attributes\":{\"callback\":null,\"column_names\":[\"x\",\"y\"],\"data\":{\"x\":[1,2,5,10,20,50,100,200,500,1000,2000,5000],\"y\":[1.4139804989099503e-06,2.2620661184191704e-06,5.381996743381023e-06,1.3141077943146229e-05,3.996898885816336e-05,0.00021801097318530083,0.0009484479669481516,0.004649461014196277,0.033985527930781245,0.14049233100377023,0.6119923630030826,4.361634815926664]}},\"id\":\"8eff4f70-cf0c-4fce-b3a7-5abff9ba76c5\",\"type\":\"ColumnDataSource\"},{\"attributes\":{\"callback\":null,\"column_names\":[\"x\",\"y\"],\"data\":{\"x\":[1,2,5,10,20,50,100,200,500,1000,2000],\"y\":[2.2810418158769608e-06,2.5780173018574715e-06,7.209018804132938e-06,2.0492938347160816e-05,6.410805508494377e-05,0.00035123503766953945,0.0015158610185608268,0.007402612012811005,0.0685258429730311,0.26473734504543245,1.2196230669505894]}},\"id\":\"f293c868-62fc-4f2b-8b24-db82e8c95fcc\",\"type\":\"ColumnDataSource\"},{\"attributes\":{\"plot\":{\"id\":\"0f873ad2-2be1-48e4-89b0-df842a37b27e\",\"subtype\":\"Figure\",\"type\":\"Plot\"},\"ticker\":{\"id\":\"a1520443-b146-41b8-81f1-aa01596c2483\",\"type\":\"LogTicker\"}},\"id\":\"b467a692-5e51-49c0-90ef-0c8d0a832cf3\",\"type\":\"Grid\"},{\"attributes\":{\"fill_alpha\":{\"value\":0.1},\"fill_color\":{\"value\":\"#1f77b4\"},\"line_alpha\":{\"value\":0.1},\"line_color\":{\"value\":\"#1f77b4\"},\"x\":{\"field\":\"x\"},\"y\":{\"field\":\"y\"}},\"id\":\"a3f339b6-f885-46a4-ab94-59271b1f6922\",\"type\":\"Circle\"},{\"attributes\":{},\"id\":\"ad58ddae-0ac5-48f4-8fb2-025e3f30c830\",\"type\":\"LogScale\"},{\"attributes\":{\"source\":{\"id\":\"44e79b7b-005f-4ba8-b785-54608ac14c13\",\"type\":\"ColumnDataSource\"}},\"id\":\"8e704283-e749-4859-b3f2-9ce83a4a621b\",\"type\":\"CDSView\"},{\"attributes\":{\"data_source\":{\"id\":\"44e79b7b-005f-4ba8-b785-54608ac14c13\",\"type\":\"ColumnDataSource\"},\"glyph\":{\"id\":\"c3ed1dfb-c901-46c4-bea5-d732e8bc3632\",\"type\":\"Circle\"},\"hover_glyph\":null,\"muted_glyph\":null,\"nonselection_glyph\":{\"id\":\"a3f339b6-f885-46a4-ab94-59271b1f6922\",\"type\":\"Circle\"},\"selection_glyph\":null,\"view\":{\"id\":\"8e704283-e749-4859-b3f2-9ce83a4a621b\",\"type\":\"CDSView\"}},\"id\":\"709da254-652b-47e1-b037-059c0500e3bf\",\"type\":\"GlyphRenderer\"},{\"attributes\":{\"fill_alpha\":{\"value\":0.1},\"fill_color\":{\"value\":\"#1f77b4\"},\"line_alpha\":{\"value\":0.1},\"line_color\":{\"value\":\"#1f77b4\"},\"x\":{\"field\":\"x\"},\"y\":{\"field\":\"y\"}},\"id\":\"cce64988-4c53-456b-81be-aab53bb573e8\",\"type\":\"Circle\"},{\"attributes\":{\"data_source\":{\"id\":\"f293c868-62fc-4f2b-8b24-db82e8c95fcc\",\"type\":\"ColumnDataSource\"},\"glyph\":{\"id\":\"7f944369-df80-44a5-9c78-031fd386cbee\",\"type\":\"Circle\"},\"hover_glyph\":null,\"muted_glyph\":null,\"nonselection_glyph\":{\"id\":\"cce64988-4c53-456b-81be-aab53bb573e8\",\"type\":\"Circle\"},\"selection_glyph\":null,\"view\":{\"id\":\"42f1dc53-a642-4633-a7ae-e3f48aa3016b\",\"type\":\"CDSView\"}},\"id\":\"64a87722-7a63-4aa5-8c69-91f6eb6f7107\",\"type\":\"GlyphRenderer\"},{\"attributes\":{\"source\":{\"id\":\"f293c868-62fc-4f2b-8b24-db82e8c95fcc\",\"type\":\"ColumnDataSource\"}},\"id\":\"42f1dc53-a642-4633-a7ae-e3f48aa3016b\",\"type\":\"CDSView\"},{\"attributes\":{\"line_color\":\"#ff7f0e\",\"line_dash\":[6],\"x\":{\"field\":\"x\"},\"y\":{\"field\":\"y\"}},\"id\":\"d248768b-d0b7-499f-bf86-4e79faec4a38\",\"type\":\"Line\"},{\"attributes\":{\"data_source\":{\"id\":\"8eff4f70-cf0c-4fce-b3a7-5abff9ba76c5\",\"type\":\"ColumnDataSource\"},\"glyph\":{\"id\":\"d248768b-d0b7-499f-bf86-4e79faec4a38\",\"type\":\"Line\"},\"hover_glyph\":null,\"muted_glyph\":null,\"nonselection_glyph\":{\"id\":\"87d4376e-4b39-474a-bafe-68334d43c562\",\"type\":\"Line\"},\"selection_glyph\":null,\"view\":{\"id\":\"a79ccc3d-d74d-46a4-a0ea-21fc967fd7a8\",\"type\":\"CDSView\"}},\"id\":\"3085fa1f-d8f5-4b7c-a5fa-4070ee59ab97\",\"type\":\"GlyphRenderer\"},{\"attributes\":{\"callback\":null,\"column_names\":[\"x\",\"y\"],\"data\":{\"x\":[1,2,5,10,20,50,100,200,500,1000,2000,5000],\"y\":[1.4139804989099503e-06,2.2620661184191704e-06,5.381996743381023e-06,1.3141077943146229e-05,3.996898885816336e-05,0.00021801097318530083,0.0009484479669481516,0.004649461014196277,0.033985527930781245,0.14049233100377023,0.6119923630030826,4.361634815926664]}},\"id\":\"44e79b7b-005f-4ba8-b785-54608ac14c13\",\"type\":\"ColumnDataSource\"},{\"attributes\":{\"source\":{\"id\":\"8eff4f70-cf0c-4fce-b3a7-5abff9ba76c5\",\"type\":\"ColumnDataSource\"}},\"id\":\"a79ccc3d-d74d-46a4-a0ea-21fc967fd7a8\",\"type\":\"CDSView\"},{\"attributes\":{\"below\":[{\"id\":\"e5cc70b7-edb3-4a46-9e93-ef876e4e2385\",\"type\":\"LogAxis\"}],\"left\":[{\"id\":\"ff3c6010-10ea-4aea-a0ed-b0144c73b03a\",\"type\":\"LogAxis\"}],\"plot_height\":400,\"plot_width\":800,\"renderers\":[{\"id\":\"e5cc70b7-edb3-4a46-9e93-ef876e4e2385\",\"type\":\"LogAxis\"},{\"id\":\"b467a692-5e51-49c0-90ef-0c8d0a832cf3\",\"type\":\"Grid\"},{\"id\":\"ff3c6010-10ea-4aea-a0ed-b0144c73b03a\",\"type\":\"LogAxis\"},{\"id\":\"93fb97ff-4bd9-4555-81ab-060a897c42ff\",\"type\":\"Grid\"},{\"id\":\"1155d637-2dba-4dd1-b06d-7efacc86c6b7\",\"type\":\"BoxAnnotation\"},{\"id\":\"69c72737-779b-42d3-975b-2e6aff2f7924\",\"type\":\"Legend\"},{\"id\":\"da977723-11b5-4fcd-957c-6eaf87a751db\",\"type\":\"GlyphRenderer\"},{\"id\":\"64a87722-7a63-4aa5-8c69-91f6eb6f7107\",\"type\":\"GlyphRenderer\"},{\"id\":\"3085fa1f-d8f5-4b7c-a5fa-4070ee59ab97\",\"type\":\"GlyphRenderer\"},{\"id\":\"709da254-652b-47e1-b037-059c0500e3bf\",\"type\":\"GlyphRenderer\"},{\"id\":\"82a4a940-f1a2-455e-a6c5-a25ade07d3fc\",\"type\":\"GlyphRenderer\"},{\"id\":\"86b5ace1-e177-4bd0-8d48-8d159984fe42\",\"type\":\"GlyphRenderer\"},{\"id\":\"e8d47c0d-d34d-4826-9e5a-c7ca99a3407b\",\"type\":\"GlyphRenderer\"},{\"id\":\"7753d516-e945-42f8-a1b3-5b32e82e6f78\",\"type\":\"GlyphRenderer\"},{\"id\":\"37b94c4b-73ea-4848-baa1-dd44eeccd332\",\"type\":\"GlyphRenderer\"},{\"id\":\"e442bee4-f7cc-4eba-a4fe-9f996267ad98\",\"type\":\"GlyphRenderer\"}],\"title\":{\"id\":\"81cb60ac-7311-4e37-90e2-5847826b6f76\",\"type\":\"Title\"},\"toolbar\":{\"id\":\"78ad7b61-6a07-4c41-91fd-24ffd0e48018\",\"type\":\"Toolbar\"},\"toolbar_location\":\"above\",\"x_range\":{\"id\":\"2c7f9126-9f0b-4155-aec5-6f14aa60bb2c\",\"type\":\"DataRange1d\"},\"x_scale\":{\"id\":\"ad58ddae-0ac5-48f4-8fb2-025e3f30c830\",\"type\":\"LogScale\"},\"y_range\":{\"id\":\"b88d3c18-9b04-4a70-aaa3-a1efc26daa7d\",\"type\":\"Range1d\"},\"y_scale\":{\"id\":\"c16e0a4e-6dfd-4894-b2d2-13a07687012a\",\"type\":\"LogScale\"}},\"id\":\"0f873ad2-2be1-48e4-89b0-df842a37b27e\",\"subtype\":\"Figure\",\"type\":\"Plot\"},{\"attributes\":{\"line_alpha\":0.1,\"line_color\":\"#1f77b4\",\"line_dash\":[6],\"x\":{\"field\":\"x\"},\"y\":{\"field\":\"y\"}},\"id\":\"87d4376e-4b39-474a-bafe-68334d43c562\",\"type\":\"Line\"},{\"attributes\":{\"label\":{\"value\":\"primes2\"},\"renderers\":[{\"id\":\"3085fa1f-d8f5-4b7c-a5fa-4070ee59ab97\",\"type\":\"GlyphRenderer\"},{\"id\":\"709da254-652b-47e1-b037-059c0500e3bf\",\"type\":\"GlyphRenderer\"}]},\"id\":\"ce64fec2-f4a9-4b11-9430-1666a14e4fac\",\"type\":\"LegendItem\"},{\"attributes\":{\"callback\":null,\"start\":1},\"id\":\"2c7f9126-9f0b-4155-aec5-6f14aa60bb2c\",\"type\":\"DataRange1d\"},{\"attributes\":{\"callback\":null,\"column_names\":[\"x\",\"y\"],\"data\":{\"x\":[1,2,5,10,20,50,100,200,500,1000,2000,5000,10000,20000,50000],\"y\":[1.4400575309991837e-06,2.609100192785263e-06,1.1423020623624325e-05,1.527706626802683e-05,6.611598655581474e-05,0.00011964596342295408,0.0005128270713612437,0.0007289999630302191,0.0026792309945449233,0.006290751043707132,0.016653549042530358,0.056266322964802384,0.14411914395168424,0.30627229798119515,1.3236096629407257]}},\"id\":\"8f12fecf-6eed-44a5-b760-b443c1203e62\",\"type\":\"ColumnDataSource\"},{\"attributes\":{\"callback\":null,\"column_names\":[\"x\",\"y\"],\"data\":{\"x\":[1,2,5,10,20,50,100,200,500,1000,2000,5000,10000,20000,50000],\"y\":[1.4400575309991837e-06,2.609100192785263e-06,1.1423020623624325e-05,1.527706626802683e-05,6.611598655581474e-05,0.00011964596342295408,0.0005128270713612437,0.0007289999630302191,0.0026792309945449233,0.006290751043707132,0.016653549042530358,0.056266322964802384,0.14411914395168424,0.30627229798119515,1.3236096629407257]}},\"id\":\"264d64fa-014f-49f3-9f84-32f83e6f4e88\",\"type\":\"ColumnDataSource\"},{\"attributes\":{\"active_drag\":\"auto\",\"active_inspect\":\"auto\",\"active_scroll\":\"auto\",\"active_tap\":\"auto\",\"tools\":[{\"id\":\"43bf8618-665d-4a8d-a11c-08541086619d\",\"type\":\"PanTool\"},{\"id\":\"cc00e32d-145f-4239-af42-80c764f16c39\",\"type\":\"WheelZoomTool\"},{\"id\":\"b7ebcec6-ccdd-461b-ad09-54a2bd11b97f\",\"type\":\"BoxZoomTool\"},{\"id\":\"87d5cef3-e36e-4ae2-a725-4bd7cb77264a\",\"type\":\"SaveTool\"},{\"id\":\"953709fe-0fd1-45da-be4f-101bc40ce661\",\"type\":\"ResetTool\"},{\"id\":\"3a580929-240f-48c1-af5d-a7e825d19b55\",\"type\":\"HelpTool\"}]},\"id\":\"78ad7b61-6a07-4c41-91fd-24ffd0e48018\",\"type\":\"Toolbar\"},{\"attributes\":{\"data_source\":{\"id\":\"264d64fa-014f-49f3-9f84-32f83e6f4e88\",\"type\":\"ColumnDataSource\"},\"glyph\":{\"id\":\"a95bd416-598d-48cb-9212-364c8c878257\",\"type\":\"Line\"},\"hover_glyph\":null,\"muted_glyph\":null,\"nonselection_glyph\":{\"id\":\"4fb0bb12-7ffa-496b-83c4-3e2f4ae53347\",\"type\":\"Line\"},\"selection_glyph\":null,\"view\":{\"id\":\"3ad618de-8b17-429e-9fcc-6a62dfbec3b1\",\"type\":\"CDSView\"}},\"id\":\"82a4a940-f1a2-455e-a6c5-a25ade07d3fc\",\"type\":\"GlyphRenderer\"},{\"attributes\":{\"line_color\":\"#2ca02c\",\"line_dash\":[6],\"x\":{\"field\":\"x\"},\"y\":{\"field\":\"y\"}},\"id\":\"a95bd416-598d-48cb-9212-364c8c878257\",\"type\":\"Line\"},{\"attributes\":{\"source\":{\"id\":\"264d64fa-014f-49f3-9f84-32f83e6f4e88\",\"type\":\"ColumnDataSource\"}},\"id\":\"3ad618de-8b17-429e-9fcc-6a62dfbec3b1\",\"type\":\"CDSView\"},{\"attributes\":{\"line_alpha\":0.1,\"line_color\":\"#1f77b4\",\"line_dash\":[6],\"x\":{\"field\":\"x\"},\"y\":{\"field\":\"y\"}},\"id\":\"4fb0bb12-7ffa-496b-83c4-3e2f4ae53347\",\"type\":\"Line\"},{\"attributes\":{\"label\":{\"value\":\"primes3\"},\"renderers\":[{\"id\":\"82a4a940-f1a2-455e-a6c5-a25ade07d3fc\",\"type\":\"GlyphRenderer\"},{\"id\":\"86b5ace1-e177-4bd0-8d48-8d159984fe42\",\"type\":\"GlyphRenderer\"}]},\"id\":\"fb9e5b9c-7272-4d69-bf71-b1e4703b7c8e\",\"type\":\"LegendItem\"},{\"attributes\":{},\"id\":\"c16e0a4e-6dfd-4894-b2d2-13a07687012a\",\"type\":\"LogScale\"},{\"attributes\":{\"fill_color\":{\"value\":\"#2ca02c\"},\"line_color\":{\"value\":\"#2ca02c\"},\"x\":{\"field\":\"x\"},\"y\":{\"field\":\"y\"}},\"id\":\"54110960-be13-4bc7-be0d-9d8e7c1f0d3e\",\"type\":\"Circle\"},{\"attributes\":{\"callback\":null,\"column_names\":[\"x\",\"y\"],\"data\":{\"x\":[1,2,5,10,20,50,100,200,500,1000,2000],\"y\":[2.2810418158769608e-06,2.5780173018574715e-06,7.209018804132938e-06,2.0492938347160816e-05,6.410805508494377e-05,0.00035123503766953945,0.0015158610185608268,0.007402612012811005,0.0685258429730311,0.26473734504543245,1.2196230669505894]}},\"id\":\"bf2837fd-f6c0-44e4-9e6c-f9174b4b3a73\",\"type\":\"ColumnDataSource\"},{\"attributes\":{\"callback\":null,\"column_names\":[\"x\",\"y\"],\"data\":{\"x\":[1,2,5,10,20,50,100,200,500,1000,2000,5000,10000,20000,50000,100000,200000,500000],\"y\":[2.117943949997425e-06,2.710963599383831e-06,4.56592533737421e-06,8.409959264099598e-06,1.7025042325258255e-05,4.580290988087654e-05,0.00011415104381740093,0.00026345602236688137,0.0007764929905533791,0.0017927349545061588,0.004129466018639505,0.01259315200150013,0.02941844705492258,0.0757505769142881,0.14851688093040138,0.3747408129274845,0.8833944080397487,2.6799722670111805]}},\"id\":\"bb31fecf-c911-4133-9517-9a04ea7436d5\",\"type\":\"ColumnDataSource\"},{\"attributes\":{\"data_source\":{\"id\":\"8f12fecf-6eed-44a5-b760-b443c1203e62\",\"type\":\"ColumnDataSource\"},\"glyph\":{\"id\":\"54110960-be13-4bc7-be0d-9d8e7c1f0d3e\",\"type\":\"Circle\"},\"hover_glyph\":null,\"muted_glyph\":null,\"nonselection_glyph\":{\"id\":\"5dffeec5-bb9d-4663-bc78-4096f46ca6a2\",\"type\":\"Circle\"},\"selection_glyph\":null,\"view\":{\"id\":\"d0bb2c93-cf73-4e17-9cf0-3608f672550a\",\"type\":\"CDSView\"}},\"id\":\"86b5ace1-e177-4bd0-8d48-8d159984fe42\",\"type\":\"GlyphRenderer\"},{\"attributes\":{\"line_color\":\"#1f77b4\",\"line_dash\":[6],\"x\":{\"field\":\"x\"},\"y\":{\"field\":\"y\"}},\"id\":\"5eeb9732-bb12-457e-97cf-d6a0a11d07ac\",\"type\":\"Line\"},{\"attributes\":{\"fill_alpha\":{\"value\":0.1},\"fill_color\":{\"value\":\"#1f77b4\"},\"line_alpha\":{\"value\":0.1},\"line_color\":{\"value\":\"#1f77b4\"},\"x\":{\"field\":\"x\"},\"y\":{\"field\":\"y\"}},\"id\":\"5dffeec5-bb9d-4663-bc78-4096f46ca6a2\",\"type\":\"Circle\"},{\"attributes\":{\"source\":{\"id\":\"8f12fecf-6eed-44a5-b760-b443c1203e62\",\"type\":\"ColumnDataSource\"}},\"id\":\"d0bb2c93-cf73-4e17-9cf0-3608f672550a\",\"type\":\"CDSView\"},{\"attributes\":{\"num_minor_ticks\":10},\"id\":\"0f5e33c9-edeb-4e9c-9bc7-58efff756632\",\"type\":\"LogTicker\"},{\"attributes\":{\"line_color\":\"#d62728\",\"line_dash\":[6],\"x\":{\"field\":\"x\"},\"y\":{\"field\":\"y\"}},\"id\":\"e504f0d0-5192-4077-9c48-94b781d5e8db\",\"type\":\"Line\"},{\"attributes\":{\"data_source\":{\"id\":\"bb31fecf-c911-4133-9517-9a04ea7436d5\",\"type\":\"ColumnDataSource\"},\"glyph\":{\"id\":\"e504f0d0-5192-4077-9c48-94b781d5e8db\",\"type\":\"Line\"},\"hover_glyph\":null,\"muted_glyph\":null,\"nonselection_glyph\":{\"id\":\"2e357ad2-8ecd-42f7-8174-549ebb926aa7\",\"type\":\"Line\"},\"selection_glyph\":null,\"view\":{\"id\":\"abc168b5-0f51-40c2-a7e5-0d136644b8f1\",\"type\":\"CDSView\"}},\"id\":\"e8d47c0d-d34d-4826-9e5a-c7ca99a3407b\",\"type\":\"GlyphRenderer\"},{\"attributes\":{\"callback\":null,\"column_names\":[\"x\",\"y\"],\"data\":{\"x\":[1,2,5,10,20,50,100,200,500,1000,2000,5000,10000,20000,50000,100000,200000,500000],\"y\":[2.117943949997425e-06,2.710963599383831e-06,4.56592533737421e-06,8.409959264099598e-06,1.7025042325258255e-05,4.580290988087654e-05,0.00011415104381740093,0.00026345602236688137,0.0007764929905533791,0.0017927349545061588,0.004129466018639505,0.01259315200150013,0.02941844705492258,0.0757505769142881,0.14851688093040138,0.3747408129274845,0.8833944080397487,2.6799722670111805]}},\"id\":\"fe50d312-3ca1-4a8d-a95d-eb52b12dcad6\",\"type\":\"ColumnDataSource\"},{\"attributes\":{\"source\":{\"id\":\"bb31fecf-c911-4133-9517-9a04ea7436d5\",\"type\":\"ColumnDataSource\"}},\"id\":\"abc168b5-0f51-40c2-a7e5-0d136644b8f1\",\"type\":\"CDSView\"},{\"attributes\":{\"line_alpha\":0.1,\"line_color\":\"#1f77b4\",\"line_dash\":[6],\"x\":{\"field\":\"x\"},\"y\":{\"field\":\"y\"}},\"id\":\"2e357ad2-8ecd-42f7-8174-549ebb926aa7\",\"type\":\"Line\"},{\"attributes\":{\"label\":{\"value\":\"primes4\"},\"renderers\":[{\"id\":\"e8d47c0d-d34d-4826-9e5a-c7ca99a3407b\",\"type\":\"GlyphRenderer\"},{\"id\":\"7753d516-e945-42f8-a1b3-5b32e82e6f78\",\"type\":\"GlyphRenderer\"}]},\"id\":\"741e085c-5e37-4543-8545-056eb6503536\",\"type\":\"LegendItem\"},{\"attributes\":{\"fill_color\":{\"value\":\"#d62728\"},\"line_color\":{\"value\":\"#d62728\"},\"x\":{\"field\":\"x\"},\"y\":{\"field\":\"y\"}},\"id\":\"be33498c-3fe4-46ff-ba08-a4683f43f69e\",\"type\":\"Circle\"},{\"attributes\":{\"callback\":null,\"column_names\":[\"x\",\"y\"],\"data\":{\"x\":[],\"y\":[]}},\"id\":\"364ccc6b-0bf0-4411-8892-987b4a9c940b\",\"type\":\"ColumnDataSource\"},{\"attributes\":{\"data_source\":{\"id\":\"fe50d312-3ca1-4a8d-a95d-eb52b12dcad6\",\"type\":\"ColumnDataSource\"},\"glyph\":{\"id\":\"be33498c-3fe4-46ff-ba08-a4683f43f69e\",\"type\":\"Circle\"},\"hover_glyph\":null,\"muted_glyph\":null,\"nonselection_glyph\":{\"id\":\"8bed822d-362e-4ab2-97d8-bb6d83e3d9ee\",\"type\":\"Circle\"},\"selection_glyph\":null,\"view\":{\"id\":\"475c8283-745e-4636-ada4-a8e2242182dd\",\"type\":\"CDSView\"}},\"id\":\"7753d516-e945-42f8-a1b3-5b32e82e6f78\",\"type\":\"GlyphRenderer\"},{\"attributes\":{\"fill_alpha\":{\"value\":0.1},\"fill_color\":{\"value\":\"#1f77b4\"},\"line_alpha\":{\"value\":0.1},\"line_color\":{\"value\":\"#1f77b4\"},\"x\":{\"field\":\"x\"},\"y\":{\"field\":\"y\"}},\"id\":\"8bed822d-362e-4ab2-97d8-bb6d83e3d9ee\",\"type\":\"Circle\"},{\"attributes\":{\"source\":{\"id\":\"fe50d312-3ca1-4a8d-a95d-eb52b12dcad6\",\"type\":\"ColumnDataSource\"}},\"id\":\"475c8283-745e-4636-ada4-a8e2242182dd\",\"type\":\"CDSView\"},{\"attributes\":{\"line_color\":\"#9467bd\",\"x\":{\"field\":\"x\"},\"y\":{\"field\":\"y\"}},\"id\":\"d7ec8bb6-d9bb-4cdb-bed6-744fa70cb47a\",\"type\":\"Line\"},{\"attributes\":{\"data_source\":{\"id\":\"364ccc6b-0bf0-4411-8892-987b4a9c940b\",\"type\":\"ColumnDataSource\"},\"glyph\":{\"id\":\"d7ec8bb6-d9bb-4cdb-bed6-744fa70cb47a\",\"type\":\"Line\"},\"hover_glyph\":null,\"muted_glyph\":null,\"nonselection_glyph\":{\"id\":\"e479c7fe-dcde-45f7-b225-f7b172a86a42\",\"type\":\"Line\"},\"selection_glyph\":null,\"view\":{\"id\":\"19bc86ef-2217-4b9b-b7f1-2bb2f9b04405\",\"type\":\"CDSView\"}},\"id\":\"37b94c4b-73ea-4848-baa1-dd44eeccd332\",\"type\":\"GlyphRenderer\"},{\"attributes\":{\"num_minor_ticks\":10},\"id\":\"a1520443-b146-41b8-81f1-aa01596c2483\",\"type\":\"LogTicker\"},{\"attributes\":{\"source\":{\"id\":\"364ccc6b-0bf0-4411-8892-987b4a9c940b\",\"type\":\"ColumnDataSource\"}},\"id\":\"19bc86ef-2217-4b9b-b7f1-2bb2f9b04405\",\"type\":\"CDSView\"},{\"attributes\":{\"dimension\":1,\"plot\":{\"id\":\"0f873ad2-2be1-48e4-89b0-df842a37b27e\",\"subtype\":\"Figure\",\"type\":\"Plot\"},\"ticker\":{\"id\":\"0f5e33c9-edeb-4e9c-9bc7-58efff756632\",\"type\":\"LogTicker\"}},\"id\":\"93fb97ff-4bd9-4555-81ab-060a897c42ff\",\"type\":\"Grid\"},{\"attributes\":{\"line_alpha\":0.1,\"line_color\":\"#1f77b4\",\"x\":{\"field\":\"x\"},\"y\":{\"field\":\"y\"}},\"id\":\"e479c7fe-dcde-45f7-b225-f7b172a86a42\",\"type\":\"Line\"},{\"attributes\":{\"label\":{\"value\":\"primes5\"},\"renderers\":[{\"id\":\"37b94c4b-73ea-4848-baa1-dd44eeccd332\",\"type\":\"GlyphRenderer\"},{\"id\":\"e442bee4-f7cc-4eba-a4fe-9f996267ad98\",\"type\":\"GlyphRenderer\"}]},\"id\":\"b58bdd5a-c742-4ec6-81c4-b5dc72eb2146\",\"type\":\"LegendItem\"},{\"attributes\":{\"fill_alpha\":{\"value\":0.1},\"fill_color\":{\"value\":\"#1f77b4\"},\"line_alpha\":{\"value\":0.1},\"line_color\":{\"value\":\"#1f77b4\"},\"x\":{\"field\":\"x\"},\"y\":{\"field\":\"y\"}},\"id\":\"e51dc9d3-cc0a-4dc9-80eb-7fc2d5f6de36\",\"type\":\"Circle\"},{\"attributes\":{\"line_alpha\":0.1,\"line_color\":\"#1f77b4\",\"line_dash\":[6],\"x\":{\"field\":\"x\"},\"y\":{\"field\":\"y\"}},\"id\":\"aaa72563-9278-4d6b-b688-68e8caada0ed\",\"type\":\"Line\"},{\"attributes\":{\"fill_color\":{\"value\":\"#ff7f0e\"},\"line_color\":{\"value\":\"#ff7f0e\"},\"x\":{\"field\":\"x\"},\"y\":{\"field\":\"y\"}},\"id\":\"c3ed1dfb-c901-46c4-bea5-d732e8bc3632\",\"type\":\"Circle\"},{\"attributes\":{\"fill_color\":{\"value\":\"#9467bd\"},\"line_color\":{\"value\":\"#9467bd\"},\"x\":{\"field\":\"x\"},\"y\":{\"field\":\"y\"}},\"id\":\"72e85b9c-ee64-4575-8b69-e7f36b056b39\",\"type\":\"Circle\"},{\"attributes\":{},\"id\":\"3a580929-240f-48c1-af5d-a7e825d19b55\",\"type\":\"HelpTool\"},{\"attributes\":{\"source\":{\"id\":\"364ccc6b-0bf0-4411-8892-987b4a9c940b\",\"type\":\"ColumnDataSource\"}},\"id\":\"abbb0244-4e63-440f-ac75-4b218a9131d6\",\"type\":\"CDSView\"},{\"attributes\":{\"data_source\":{\"id\":\"364ccc6b-0bf0-4411-8892-987b4a9c940b\",\"type\":\"ColumnDataSource\"},\"glyph\":{\"id\":\"72e85b9c-ee64-4575-8b69-e7f36b056b39\",\"type\":\"Circle\"},\"hover_glyph\":null,\"muted_glyph\":null,\"nonselection_glyph\":{\"id\":\"e51dc9d3-cc0a-4dc9-80eb-7fc2d5f6de36\",\"type\":\"Circle\"},\"selection_glyph\":null,\"view\":{\"id\":\"abbb0244-4e63-440f-ac75-4b218a9131d6\",\"type\":\"CDSView\"}},\"id\":\"e442bee4-f7cc-4eba-a4fe-9f996267ad98\",\"type\":\"GlyphRenderer\"},{\"attributes\":{\"format\":\"0[.]0 a\"},\"id\":\"90277101-2243-4b2d-89d6-7fa05a9fe2ec\",\"type\":\"NumeralTickFormatter\"},{\"attributes\":{\"callback\":null,\"start\":1e-06},\"id\":\"b88d3c18-9b04-4a70-aaa3-a1efc26daa7d\",\"type\":\"Range1d\"},{\"attributes\":{},\"id\":\"953709fe-0fd1-45da-be4f-101bc40ce661\",\"type\":\"ResetTool\"},{\"attributes\":{\"axis_label\":\"Primes\",\"formatter\":{\"id\":\"90277101-2243-4b2d-89d6-7fa05a9fe2ec\",\"type\":\"NumeralTickFormatter\"},\"plot\":{\"id\":\"0f873ad2-2be1-48e4-89b0-df842a37b27e\",\"subtype\":\"Figure\",\"type\":\"Plot\"},\"ticker\":{\"id\":\"a1520443-b146-41b8-81f1-aa01596c2483\",\"type\":\"LogTicker\"}},\"id\":\"e5cc70b7-edb3-4a46-9e93-ef876e4e2385\",\"type\":\"LogAxis\"},{\"attributes\":{\"data_source\":{\"id\":\"bf2837fd-f6c0-44e4-9e6c-f9174b4b3a73\",\"type\":\"ColumnDataSource\"},\"glyph\":{\"id\":\"5eeb9732-bb12-457e-97cf-d6a0a11d07ac\",\"type\":\"Line\"},\"hover_glyph\":null,\"muted_glyph\":null,\"nonselection_glyph\":{\"id\":\"aaa72563-9278-4d6b-b688-68e8caada0ed\",\"type\":\"Line\"},\"selection_glyph\":null,\"view\":{\"id\":\"f55535b1-e037-49a5-a419-e406ec056519\",\"type\":\"CDSView\"}},\"id\":\"da977723-11b5-4fcd-957c-6eaf87a751db\",\"type\":\"GlyphRenderer\"}],\"root_ids\":[\"0f873ad2-2be1-48e4-89b0-df842a37b27e\"]},\"title\":\"Bokeh Application\",\"version\":\"0.12.14\"}};\n",
       "  var render_items = [{\"docid\":\"8cf28e91-5e91-43ee-8149-7f69ca671c4e\",\"elementid\":\"318dc767-21fb-4319-99e0-0df2d3bf9521\",\"modelid\":\"0f873ad2-2be1-48e4-89b0-df842a37b27e\",\"notebook_comms_target\":\"3760207a-e495-4861-86fd-38e4a74a5588\"}];\n",
       "  root.Bokeh.embed.embed_items_notebook(docs_json, render_items);\n",
       "\n",
       "  }\n",
       "  if (root.Bokeh !== undefined) {\n",
       "    embed_document(root);\n",
       "  } else {\n",
       "    var attempts = 0;\n",
       "    var timer = setInterval(function(root) {\n",
       "      if (root.Bokeh !== undefined) {\n",
       "        embed_document(root);\n",
       "        clearInterval(timer);\n",
       "      }\n",
       "      attempts++;\n",
       "      if (attempts > 100) {\n",
       "        console.log(\"Bokeh: ERROR: Unable to run BokehJS code because BokehJS library is missing\")\n",
       "        clearInterval(timer);\n",
       "      }\n",
       "    }, 10, root)\n",
       "  }\n",
       "})(window);"
      ],
      "application/vnd.bokehjs_exec.v0+json": ""
     },
     "metadata": {
      "application/vnd.bokehjs_exec.v0+json": {
       "id": "0f873ad2-2be1-48e4-89b0-df842a37b27e"
      }
     },
     "output_type": "display_data"
    }
   ],
   "source": [
    "timing_plot(primes5, True)"
   ]
  },
  {
   "cell_type": "markdown",
   "metadata": {
    "slideshow": {
     "slide_type": "slide"
    }
   },
   "source": [
    "## Problems?"
   ]
  },
  {
   "cell_type": "markdown",
   "metadata": {
    "slideshow": {
     "slide_type": "fragment"
    }
   },
   "source": [
    "### Memory use\n",
    "- Use packed data structure (e.g. struct module), encode 8 cells/byte\n",
    "- Also skip multiples of 3 (only check numbers of form $6n \\pm 1$)"
   ]
  },
  {
   "cell_type": "markdown",
   "metadata": {
    "slideshow": {
     "slide_type": "fragment"
    }
   },
   "source": [
    "### Need to allocate storage upfront\n",
    "Often don't know in advance how much to allocate\n",
    "(e.g. first 100k primes)"
   ]
  },
  {
   "cell_type": "markdown",
   "metadata": {
    "slideshow": {
     "slide_type": "slide"
    }
   },
   "source": [
    "## What about storing a list of primes so far, and only test dividing by those?"
   ]
  },
  {
   "cell_type": "code",
   "execution_count": 15,
   "metadata": {
    "slideshow": {
     "slide_type": "fragment"
    }
   },
   "outputs": [],
   "source": [
    "from itertools import count\n",
    "\n",
    "def primes6():\n",
    "    yield 2\n",
    "    primelist = []\n",
    "    for candidate in count(3, 2):\n",
    "        for p in primelist:\n",
    "            if candidate % p == 0:\n",
    "                break\n",
    "        else:\n",
    "            yield candidate\n",
    "            primelist.append(candidate)"
   ]
  },
  {
   "cell_type": "code",
   "execution_count": 16,
   "metadata": {
    "slideshow": {
     "slide_type": "slide"
    }
   },
   "outputs": [
    {
     "data": {
      "text/html": [
       "\n",
       "<div class=\"bk-root\">\n",
       "    <div class=\"bk-plotdiv\" id=\"b34b6ac2-3209-4d60-a3ea-546ab0d58d10\"></div>\n",
       "</div>"
      ]
     },
     "metadata": {},
     "output_type": "display_data"
    },
    {
     "data": {
      "application/javascript": [
       "(function(root) {\n",
       "  function embed_document(root) {\n",
       "    \n",
       "  var docs_json = {\"68bf3e91-c6d3-4038-acbc-54f89935074f\":{\"roots\":{\"references\":[{\"attributes\":{\"fill_color\":{\"value\":\"#9467bd\"},\"line_color\":{\"value\":\"#9467bd\"},\"x\":{\"field\":\"x\"},\"y\":{\"field\":\"y\"}},\"id\":\"efc5bdea-8fd8-442b-b8df-5d7ef0176972\",\"type\":\"Circle\"},{\"attributes\":{\"line_color\":\"#d62728\",\"line_dash\":[6],\"x\":{\"field\":\"x\"},\"y\":{\"field\":\"y\"}},\"id\":\"30533b64-1c20-4787-b5ba-a4f423b77f4b\",\"type\":\"Line\"},{\"attributes\":{\"fill_color\":{\"value\":\"#1f77b4\"},\"line_color\":{\"value\":\"#1f77b4\"},\"x\":{\"field\":\"x\"},\"y\":{\"field\":\"y\"}},\"id\":\"6ebb9137-c4a1-4fcc-93ff-36b8dfa63164\",\"type\":\"Circle\"},{\"attributes\":{\"label\":{\"value\":\"primes4\"},\"renderers\":[{\"id\":\"95bf6274-9c63-4fa1-960a-5c4adfabae4c\",\"type\":\"GlyphRenderer\"},{\"id\":\"52827988-400d-4f78-8351-617c5f3fb7cd\",\"type\":\"GlyphRenderer\"}]},\"id\":\"42dfc8e5-47c0-4140-a479-6175a41de79e\",\"type\":\"LegendItem\"},{\"attributes\":{\"line_color\":\"#9467bd\",\"line_dash\":[6],\"x\":{\"field\":\"x\"},\"y\":{\"field\":\"y\"}},\"id\":\"f4a25c29-b663-4633-b1b4-deaec0ae8e63\",\"type\":\"Line\"},{\"attributes\":{\"fill_color\":{\"value\":\"#2ca02c\"},\"line_color\":{\"value\":\"#2ca02c\"},\"x\":{\"field\":\"x\"},\"y\":{\"field\":\"y\"}},\"id\":\"ead66e24-1fc6-4661-ab37-773d04b99368\",\"type\":\"Circle\"},{\"attributes\":{\"line_alpha\":0.1,\"line_color\":\"#1f77b4\",\"line_dash\":[6],\"x\":{\"field\":\"x\"},\"y\":{\"field\":\"y\"}},\"id\":\"1faf4a32-677d-4719-a656-42d2586db211\",\"type\":\"Line\"},{\"attributes\":{\"source\":{\"id\":\"e6df4270-1dd0-4a9f-ba20-603c2fa38a55\",\"type\":\"ColumnDataSource\"}},\"id\":\"c13caab4-d1a7-45fe-bf15-759ea2a5cc27\",\"type\":\"CDSView\"},{\"attributes\":{\"data_source\":{\"id\":\"e9f5bb3a-81e8-4c65-b275-95be3036952e\",\"type\":\"ColumnDataSource\"},\"glyph\":{\"id\":\"8affa6b7-daf9-4009-92a1-62afaa886602\",\"type\":\"Circle\"},\"hover_glyph\":null,\"muted_glyph\":null,\"nonselection_glyph\":{\"id\":\"e1899462-24fa-4ab9-b6a3-4c38eec5e292\",\"type\":\"Circle\"},\"selection_glyph\":null,\"view\":{\"id\":\"9f1154eb-cb9b-4048-87f0-c449c7f3dfe7\",\"type\":\"CDSView\"}},\"id\":\"52827988-400d-4f78-8351-617c5f3fb7cd\",\"type\":\"GlyphRenderer\"},{\"attributes\":{\"data_source\":{\"id\":\"7b90d9b3-1ce1-4beb-ad3d-428a19d25355\",\"type\":\"ColumnDataSource\"},\"glyph\":{\"id\":\"f4a25c29-b663-4633-b1b4-deaec0ae8e63\",\"type\":\"Line\"},\"hover_glyph\":null,\"muted_glyph\":null,\"nonselection_glyph\":{\"id\":\"1faf4a32-677d-4719-a656-42d2586db211\",\"type\":\"Line\"},\"selection_glyph\":null,\"view\":{\"id\":\"45eb961a-414f-45fe-a481-8a94b7ea4ebb\",\"type\":\"CDSView\"}},\"id\":\"49cc2697-5d4b-49ec-ad81-058987e5c06e\",\"type\":\"GlyphRenderer\"},{\"attributes\":{\"callback\":null,\"column_names\":[\"x\",\"y\"],\"data\":{\"x\":[1,2,5,10,20,50,100,200,500,1000,2000,5000,10000,20000,50000],\"y\":[1.4400575309991837e-06,2.609100192785263e-06,1.1423020623624325e-05,1.527706626802683e-05,6.611598655581474e-05,0.00011964596342295408,0.0005128270713612437,0.0007289999630302191,0.0026792309945449233,0.006290751043707132,0.016653549042530358,0.056266322964802384,0.14411914395168424,0.30627229798119515,1.3236096629407257]}},\"id\":\"5b128b11-678a-4bb8-8574-2ee3b8f7d1cf\",\"type\":\"ColumnDataSource\"},{\"attributes\":{\"source\":{\"id\":\"7b90d9b3-1ce1-4beb-ad3d-428a19d25355\",\"type\":\"ColumnDataSource\"}},\"id\":\"45eb961a-414f-45fe-a481-8a94b7ea4ebb\",\"type\":\"CDSView\"},{\"attributes\":{\"data_source\":{\"id\":\"e6df4270-1dd0-4a9f-ba20-603c2fa38a55\",\"type\":\"ColumnDataSource\"},\"glyph\":{\"id\":\"db48338d-08f8-4754-b6e5-3b1f063d6fe5\",\"type\":\"Line\"},\"hover_glyph\":null,\"muted_glyph\":null,\"nonselection_glyph\":{\"id\":\"6924e473-b60f-44ea-9f7c-63b31e91bd3d\",\"type\":\"Line\"},\"selection_glyph\":null,\"view\":{\"id\":\"c13caab4-d1a7-45fe-bf15-759ea2a5cc27\",\"type\":\"CDSView\"}},\"id\":\"4a9f0783-6a53-4706-a85d-a4f7f1ed876a\",\"type\":\"GlyphRenderer\"},{\"attributes\":{\"callback\":null,\"column_names\":[\"x\",\"y\"],\"data\":{\"x\":[1,2,5,10,20,50,100,200,500,1000,2000,5000,10000,20000,50000,100000,200000,500000],\"y\":[2.117943949997425e-06,2.710963599383831e-06,4.56592533737421e-06,8.409959264099598e-06,1.7025042325258255e-05,4.580290988087654e-05,0.00011415104381740093,0.00026345602236688137,0.0007764929905533791,0.0017927349545061588,0.004129466018639505,0.01259315200150013,0.02941844705492258,0.0757505769142881,0.14851688093040138,0.3747408129274845,0.8833944080397487,2.6799722670111805]}},\"id\":\"e9f5bb3a-81e8-4c65-b275-95be3036952e\",\"type\":\"ColumnDataSource\"},{\"attributes\":{\"line_color\":\"#8c564b\",\"x\":{\"field\":\"x\"},\"y\":{\"field\":\"y\"}},\"id\":\"3262bf01-6c19-46f8-bf45-4a57639ca5ad\",\"type\":\"Line\"},{\"attributes\":{\"line_alpha\":0.1,\"line_color\":\"#1f77b4\",\"line_dash\":[6],\"x\":{\"field\":\"x\"},\"y\":{\"field\":\"y\"}},\"id\":\"6924e473-b60f-44ea-9f7c-63b31e91bd3d\",\"type\":\"Line\"},{\"attributes\":{\"fill_alpha\":{\"value\":0.1},\"fill_color\":{\"value\":\"#1f77b4\"},\"line_alpha\":{\"value\":0.1},\"line_color\":{\"value\":\"#1f77b4\"},\"x\":{\"field\":\"x\"},\"y\":{\"field\":\"y\"}},\"id\":\"231fc93f-c079-4342-b04e-a0b452de703d\",\"type\":\"Circle\"},{\"attributes\":{\"data_source\":{\"id\":\"484b7740-4bcc-4b73-9667-679dd5f14103\",\"type\":\"ColumnDataSource\"},\"glyph\":{\"id\":\"3262bf01-6c19-46f8-bf45-4a57639ca5ad\",\"type\":\"Line\"},\"hover_glyph\":null,\"muted_glyph\":null,\"nonselection_glyph\":{\"id\":\"fa524d17-552b-4024-b905-a81d59796f4f\",\"type\":\"Line\"},\"selection_glyph\":null,\"view\":{\"id\":\"bc1c7171-4e5e-494f-9dfa-1e0fc2e90652\",\"type\":\"CDSView\"}},\"id\":\"5ee50790-0172-4586-9442-b56090f1f411\",\"type\":\"GlyphRenderer\"},{\"attributes\":{\"line_color\":\"#2ca02c\",\"line_dash\":[6],\"x\":{\"field\":\"x\"},\"y\":{\"field\":\"y\"}},\"id\":\"db48338d-08f8-4754-b6e5-3b1f063d6fe5\",\"type\":\"Line\"},{\"attributes\":{\"callback\":null,\"column_names\":[\"x\",\"y\"],\"data\":{\"x\":[1,2,5,10,20,50,100,200,500,1000,2000,5000,10000,20000,50000,100000,200000,500000],\"y\":[2.2349413484334946e-06,2.8919894248247147e-06,4.932982847094536e-06,8.739996701478958e-06,1.6108970157802105e-05,4.211196210235357e-05,9.71650006249547e-05,0.00022170506417751312,0.0006455769762396812,0.0014229100197553635,0.00310503994114697,0.00859425903763622,0.021596965962089598,0.043651859974488616,0.11191033700015396,0.18856479902751744,0.48616820701863617,1.3338420169893652]}},\"id\":\"e82165b7-b29b-409c-a04d-163bdc152f56\",\"type\":\"ColumnDataSource\"},{\"attributes\":{\"source\":{\"id\":\"484b7740-4bcc-4b73-9667-679dd5f14103\",\"type\":\"ColumnDataSource\"}},\"id\":\"bc1c7171-4e5e-494f-9dfa-1e0fc2e90652\",\"type\":\"CDSView\"},{\"attributes\":{\"callback\":null,\"column_names\":[\"x\",\"y\"],\"data\":{\"x\":[1,2,5,10,20,50,100,200,500,1000,2000,5000,10000,20000,50000],\"y\":[1.4400575309991837e-06,2.609100192785263e-06,1.1423020623624325e-05,1.527706626802683e-05,6.611598655581474e-05,0.00011964596342295408,0.0005128270713612437,0.0007289999630302191,0.0026792309945449233,0.006290751043707132,0.016653549042530358,0.056266322964802384,0.14411914395168424,0.30627229798119515,1.3236096629407257]}},\"id\":\"e6df4270-1dd0-4a9f-ba20-603c2fa38a55\",\"type\":\"ColumnDataSource\"},{\"attributes\":{\"plot\":null,\"text\":\"Timing\"},\"id\":\"d11fb6a1-0d85-4f3a-b09d-d299a8006e57\",\"type\":\"Title\"},{\"attributes\":{\"line_alpha\":0.1,\"line_color\":\"#1f77b4\",\"line_dash\":[6],\"x\":{\"field\":\"x\"},\"y\":{\"field\":\"y\"}},\"id\":\"27e18a73-b784-4930-8446-0b985a42ceaa\",\"type\":\"Line\"},{\"attributes\":{\"line_alpha\":0.1,\"line_color\":\"#1f77b4\",\"x\":{\"field\":\"x\"},\"y\":{\"field\":\"y\"}},\"id\":\"fa524d17-552b-4024-b905-a81d59796f4f\",\"type\":\"Line\"},{\"attributes\":{\"data_source\":{\"id\":\"658ab4b6-f2b0-4a02-99ad-03378df42dd9\",\"type\":\"ColumnDataSource\"},\"glyph\":{\"id\":\"2e085f09-18a0-403a-a532-9c90f29bf2b5\",\"type\":\"Circle\"},\"hover_glyph\":null,\"muted_glyph\":null,\"nonselection_glyph\":{\"id\":\"339dd23b-6671-4930-b63e-87c1b646c67f\",\"type\":\"Circle\"},\"selection_glyph\":null,\"view\":{\"id\":\"290bae45-28f8-41ac-ba48-9ebc96eafce6\",\"type\":\"CDSView\"}},\"id\":\"dc74fb23-3fea-4af6-bbba-11deb062b9cc\",\"type\":\"GlyphRenderer\"},{\"attributes\":{\"label\":{\"value\":\"primes6\"},\"renderers\":[{\"id\":\"5ee50790-0172-4586-9442-b56090f1f411\",\"type\":\"GlyphRenderer\"},{\"id\":\"9449b340-a0bd-4a00-a61b-6a67f3ef1a1a\",\"type\":\"GlyphRenderer\"}]},\"id\":\"80bb7c9e-159d-452e-8df2-1a35d9808c85\",\"type\":\"LegendItem\"},{\"attributes\":{\"source\":{\"id\":\"e82165b7-b29b-409c-a04d-163bdc152f56\",\"type\":\"ColumnDataSource\"}},\"id\":\"d3f7839e-dbfc-4ca0-b664-953a0f6cde83\",\"type\":\"CDSView\"},{\"attributes\":{\"fill_alpha\":{\"value\":0.1},\"fill_color\":{\"value\":\"#1f77b4\"},\"line_alpha\":{\"value\":0.1},\"line_color\":{\"value\":\"#1f77b4\"},\"x\":{\"field\":\"x\"},\"y\":{\"field\":\"y\"}},\"id\":\"0e0d989d-c31b-4961-b998-3ec07c634873\",\"type\":\"Circle\"},{\"attributes\":{\"fill_alpha\":{\"value\":0.1},\"fill_color\":{\"value\":\"#1f77b4\"},\"line_alpha\":{\"value\":0.1},\"line_color\":{\"value\":\"#1f77b4\"},\"x\":{\"field\":\"x\"},\"y\":{\"field\":\"y\"}},\"id\":\"339dd23b-6671-4930-b63e-87c1b646c67f\",\"type\":\"Circle\"},{\"attributes\":{\"source\":{\"id\":\"658ab4b6-f2b0-4a02-99ad-03378df42dd9\",\"type\":\"ColumnDataSource\"}},\"id\":\"290bae45-28f8-41ac-ba48-9ebc96eafce6\",\"type\":\"CDSView\"},{\"attributes\":{\"fill_color\":{\"value\":\"#8c564b\"},\"line_color\":{\"value\":\"#8c564b\"},\"x\":{\"field\":\"x\"},\"y\":{\"field\":\"y\"}},\"id\":\"4c284d2c-9e87-4853-926d-cc08de0f7f03\",\"type\":\"Circle\"},{\"attributes\":{\"fill_alpha\":{\"value\":0.1},\"fill_color\":{\"value\":\"#1f77b4\"},\"line_alpha\":{\"value\":0.1},\"line_color\":{\"value\":\"#1f77b4\"},\"x\":{\"field\":\"x\"},\"y\":{\"field\":\"y\"}},\"id\":\"0a64b0c9-a57d-49c8-b531-e6381b16481c\",\"type\":\"Circle\"},{\"attributes\":{\"fill_alpha\":{\"value\":0.1},\"fill_color\":{\"value\":\"#1f77b4\"},\"line_alpha\":{\"value\":0.1},\"line_color\":{\"value\":\"#1f77b4\"},\"x\":{\"field\":\"x\"},\"y\":{\"field\":\"y\"}},\"id\":\"e1899462-24fa-4ab9-b6a3-4c38eec5e292\",\"type\":\"Circle\"},{\"attributes\":{\"source\":{\"id\":\"484b7740-4bcc-4b73-9667-679dd5f14103\",\"type\":\"ColumnDataSource\"}},\"id\":\"360411d9-292a-48c3-a233-3d55394e4862\",\"type\":\"CDSView\"},{\"attributes\":{\"label\":{\"value\":\"primes2\"},\"renderers\":[{\"id\":\"c8d3d2ea-a0fd-4e67-bcf6-2a760f7d5bcf\",\"type\":\"GlyphRenderer\"},{\"id\":\"dc74fb23-3fea-4af6-bbba-11deb062b9cc\",\"type\":\"GlyphRenderer\"}]},\"id\":\"38b25f2e-365d-4a9b-bf80-b684446043b1\",\"type\":\"LegendItem\"},{\"attributes\":{\"data_source\":{\"id\":\"484b7740-4bcc-4b73-9667-679dd5f14103\",\"type\":\"ColumnDataSource\"},\"glyph\":{\"id\":\"4c284d2c-9e87-4853-926d-cc08de0f7f03\",\"type\":\"Circle\"},\"hover_glyph\":null,\"muted_glyph\":null,\"nonselection_glyph\":{\"id\":\"0e0d989d-c31b-4961-b998-3ec07c634873\",\"type\":\"Circle\"},\"selection_glyph\":null,\"view\":{\"id\":\"360411d9-292a-48c3-a233-3d55394e4862\",\"type\":\"CDSView\"}},\"id\":\"9449b340-a0bd-4a00-a61b-6a67f3ef1a1a\",\"type\":\"GlyphRenderer\"},{\"attributes\":{\"source\":{\"id\":\"5b128b11-678a-4bb8-8574-2ee3b8f7d1cf\",\"type\":\"ColumnDataSource\"}},\"id\":\"52af6328-6747-481d-b3cf-8bff4b528237\",\"type\":\"CDSView\"},{\"attributes\":{\"data_source\":{\"id\":\"7de47cf9-ebb8-4b83-88c2-40aab132f0f2\",\"type\":\"ColumnDataSource\"},\"glyph\":{\"id\":\"6ebb9137-c4a1-4fcc-93ff-36b8dfa63164\",\"type\":\"Circle\"},\"hover_glyph\":null,\"muted_glyph\":null,\"nonselection_glyph\":{\"id\":\"231fc93f-c079-4342-b04e-a0b452de703d\",\"type\":\"Circle\"},\"selection_glyph\":null,\"view\":{\"id\":\"799e3379-ebac-48f9-bacd-e5ce2c9066b8\",\"type\":\"CDSView\"}},\"id\":\"034449e0-a9e5-46ca-bfe1-40eb03ac982b\",\"type\":\"GlyphRenderer\"},{\"attributes\":{\"label\":{\"value\":\"primes3\"},\"renderers\":[{\"id\":\"4a9f0783-6a53-4706-a85d-a4f7f1ed876a\",\"type\":\"GlyphRenderer\"},{\"id\":\"3c6005c4-5eba-40fb-be5e-47f77e1e9a30\",\"type\":\"GlyphRenderer\"}]},\"id\":\"199e6ad2-d4b3-45b1-b654-2fd04e5cc899\",\"type\":\"LegendItem\"},{\"attributes\":{\"format\":\"0[.]0 a\"},\"id\":\"ab719a3d-17f2-481e-9f87-f90b62d2ed36\",\"type\":\"NumeralTickFormatter\"},{\"attributes\":{\"source\":{\"id\":\"7de47cf9-ebb8-4b83-88c2-40aab132f0f2\",\"type\":\"ColumnDataSource\"}},\"id\":\"799e3379-ebac-48f9-bacd-e5ce2c9066b8\",\"type\":\"CDSView\"},{\"attributes\":{\"source\":{\"id\":\"14ec31cc-9a3d-4025-90e7-0ec8e687a05e\",\"type\":\"ColumnDataSource\"}},\"id\":\"35320c29-c241-44b1-a363-cb15b8b538b0\",\"type\":\"CDSView\"},{\"attributes\":{\"callback\":null,\"column_names\":[\"x\",\"y\"],\"data\":{\"x\":[],\"y\":[]}},\"id\":\"484b7740-4bcc-4b73-9667-679dd5f14103\",\"type\":\"ColumnDataSource\"},{\"attributes\":{\"callback\":null,\"column_names\":[\"x\",\"y\"],\"data\":{\"x\":[1,2,5,10,20,50,100,200,500,1000,2000,5000],\"y\":[1.4139804989099503e-06,2.2620661184191704e-06,5.381996743381023e-06,1.3141077943146229e-05,3.996898885816336e-05,0.00021801097318530083,0.0009484479669481516,0.004649461014196277,0.033985527930781245,0.14049233100377023,0.6119923630030826,4.361634815926664]}},\"id\":\"14205a58-8dc4-4d9f-b205-8d8127614033\",\"type\":\"ColumnDataSource\"},{\"attributes\":{\"line_color\":\"#ff7f0e\",\"line_dash\":[6],\"x\":{\"field\":\"x\"},\"y\":{\"field\":\"y\"}},\"id\":\"712f7aa4-075e-4666-a32a-f4457ab2f21e\",\"type\":\"Line\"},{\"attributes\":{\"fill_color\":{\"value\":\"#d62728\"},\"line_color\":{\"value\":\"#d62728\"},\"x\":{\"field\":\"x\"},\"y\":{\"field\":\"y\"}},\"id\":\"8affa6b7-daf9-4009-92a1-62afaa886602\",\"type\":\"Circle\"},{\"attributes\":{\"callback\":null,\"column_names\":[\"x\",\"y\"],\"data\":{\"x\":[1,2,5,10,20,50,100,200,500,1000,2000,5000],\"y\":[1.4139804989099503e-06,2.2620661184191704e-06,5.381996743381023e-06,1.3141077943146229e-05,3.996898885816336e-05,0.00021801097318530083,0.0009484479669481516,0.004649461014196277,0.033985527930781245,0.14049233100377023,0.6119923630030826,4.361634815926664]}},\"id\":\"658ab4b6-f2b0-4a02-99ad-03378df42dd9\",\"type\":\"ColumnDataSource\"},{\"attributes\":{\"source\":{\"id\":\"14205a58-8dc4-4d9f-b205-8d8127614033\",\"type\":\"ColumnDataSource\"}},\"id\":\"32aa2dbd-1f95-4d2a-9a10-63f72bea9017\",\"type\":\"CDSView\"},{\"attributes\":{\"data_source\":{\"id\":\"14205a58-8dc4-4d9f-b205-8d8127614033\",\"type\":\"ColumnDataSource\"},\"glyph\":{\"id\":\"712f7aa4-075e-4666-a32a-f4457ab2f21e\",\"type\":\"Line\"},\"hover_glyph\":null,\"muted_glyph\":null,\"nonselection_glyph\":{\"id\":\"27e18a73-b784-4930-8446-0b985a42ceaa\",\"type\":\"Line\"},\"selection_glyph\":null,\"view\":{\"id\":\"32aa2dbd-1f95-4d2a-9a10-63f72bea9017\",\"type\":\"CDSView\"}},\"id\":\"c8d3d2ea-a0fd-4e67-bcf6-2a760f7d5bcf\",\"type\":\"GlyphRenderer\"},{\"attributes\":{\"data_source\":{\"id\":\"14ec31cc-9a3d-4025-90e7-0ec8e687a05e\",\"type\":\"ColumnDataSource\"},\"glyph\":{\"id\":\"30533b64-1c20-4787-b5ba-a4f423b77f4b\",\"type\":\"Line\"},\"hover_glyph\":null,\"muted_glyph\":null,\"nonselection_glyph\":{\"id\":\"6688f9ef-3057-42ae-8180-891c337cdef3\",\"type\":\"Line\"},\"selection_glyph\":null,\"view\":{\"id\":\"35320c29-c241-44b1-a363-cb15b8b538b0\",\"type\":\"CDSView\"}},\"id\":\"95bf6274-9c63-4fa1-960a-5c4adfabae4c\",\"type\":\"GlyphRenderer\"},{\"attributes\":{\"callback\":null,\"column_names\":[\"x\",\"y\"],\"data\":{\"x\":[1,2,5,10,20,50,100,200,500,1000,2000,5000,10000,20000,50000,100000,200000,500000],\"y\":[2.2349413484334946e-06,2.8919894248247147e-06,4.932982847094536e-06,8.739996701478958e-06,1.6108970157802105e-05,4.211196210235357e-05,9.71650006249547e-05,0.00022170506417751312,0.0006455769762396812,0.0014229100197553635,0.00310503994114697,0.00859425903763622,0.021596965962089598,0.043651859974488616,0.11191033700015396,0.18856479902751744,0.48616820701863617,1.3338420169893652]}},\"id\":\"7b90d9b3-1ce1-4beb-ad3d-428a19d25355\",\"type\":\"ColumnDataSource\"},{\"attributes\":{\"callback\":null,\"start\":1},\"id\":\"5b632bb1-3b80-4ba2-a9c5-81f10fe55454\",\"type\":\"DataRange1d\"},{\"attributes\":{\"line_alpha\":0.1,\"line_color\":\"#1f77b4\",\"line_dash\":[6],\"x\":{\"field\":\"x\"},\"y\":{\"field\":\"y\"}},\"id\":\"30660118-9fc6-4dca-ad35-9ea2d202ea8e\",\"type\":\"Line\"},{\"attributes\":{\"source\":{\"id\":\"e9f5bb3a-81e8-4c65-b275-95be3036952e\",\"type\":\"ColumnDataSource\"}},\"id\":\"9f1154eb-cb9b-4048-87f0-c449c7f3dfe7\",\"type\":\"CDSView\"},{\"attributes\":{\"below\":[{\"id\":\"8d6b6d4a-09fc-4ece-baae-d1f53354a417\",\"type\":\"LogAxis\"}],\"left\":[{\"id\":\"e9f080be-4081-4b30-825c-c30236710a7c\",\"type\":\"LogAxis\"}],\"plot_height\":400,\"plot_width\":800,\"renderers\":[{\"id\":\"8d6b6d4a-09fc-4ece-baae-d1f53354a417\",\"type\":\"LogAxis\"},{\"id\":\"34de10f9-2c49-4ddf-bdf2-28081fe2f53c\",\"type\":\"Grid\"},{\"id\":\"e9f080be-4081-4b30-825c-c30236710a7c\",\"type\":\"LogAxis\"},{\"id\":\"a1816c33-969a-4503-9078-a57bca293eff\",\"type\":\"Grid\"},{\"id\":\"6a9869d0-5d72-43ba-825f-6afcf3eea3d6\",\"type\":\"BoxAnnotation\"},{\"id\":\"6d34db40-fe95-4458-bbdc-f4bf4a55998a\",\"type\":\"Legend\"},{\"id\":\"10b9ed68-3b34-449f-8881-76e65fd17bf7\",\"type\":\"GlyphRenderer\"},{\"id\":\"034449e0-a9e5-46ca-bfe1-40eb03ac982b\",\"type\":\"GlyphRenderer\"},{\"id\":\"c8d3d2ea-a0fd-4e67-bcf6-2a760f7d5bcf\",\"type\":\"GlyphRenderer\"},{\"id\":\"dc74fb23-3fea-4af6-bbba-11deb062b9cc\",\"type\":\"GlyphRenderer\"},{\"id\":\"4a9f0783-6a53-4706-a85d-a4f7f1ed876a\",\"type\":\"GlyphRenderer\"},{\"id\":\"3c6005c4-5eba-40fb-be5e-47f77e1e9a30\",\"type\":\"GlyphRenderer\"},{\"id\":\"95bf6274-9c63-4fa1-960a-5c4adfabae4c\",\"type\":\"GlyphRenderer\"},{\"id\":\"52827988-400d-4f78-8351-617c5f3fb7cd\",\"type\":\"GlyphRenderer\"},{\"id\":\"49cc2697-5d4b-49ec-ad81-058987e5c06e\",\"type\":\"GlyphRenderer\"},{\"id\":\"e661fd40-5505-4bec-b274-6fa316d4b133\",\"type\":\"GlyphRenderer\"},{\"id\":\"5ee50790-0172-4586-9442-b56090f1f411\",\"type\":\"GlyphRenderer\"},{\"id\":\"9449b340-a0bd-4a00-a61b-6a67f3ef1a1a\",\"type\":\"GlyphRenderer\"}],\"title\":{\"id\":\"d11fb6a1-0d85-4f3a-b09d-d299a8006e57\",\"type\":\"Title\"},\"toolbar\":{\"id\":\"efc71785-b937-4e97-9a83-616623d833af\",\"type\":\"Toolbar\"},\"toolbar_location\":\"above\",\"x_range\":{\"id\":\"5b632bb1-3b80-4ba2-a9c5-81f10fe55454\",\"type\":\"DataRange1d\"},\"x_scale\":{\"id\":\"59353b7f-a43f-4c41-a46a-3d9265682be1\",\"type\":\"LogScale\"},\"y_range\":{\"id\":\"463ae520-e277-44a1-964b-dccdecf4c123\",\"type\":\"Range1d\"},\"y_scale\":{\"id\":\"cf8ebbe7-1e81-4c17-b2f2-c5a19030048e\",\"type\":\"LogScale\"}},\"id\":\"a5e94161-3efa-4942-8dd2-f4ddee2a1b39\",\"subtype\":\"Figure\",\"type\":\"Plot\"},{\"attributes\":{\"callback\":null,\"start\":1e-06},\"id\":\"463ae520-e277-44a1-964b-dccdecf4c123\",\"type\":\"Range1d\"},{\"attributes\":{\"active_drag\":\"auto\",\"active_inspect\":\"auto\",\"active_scroll\":\"auto\",\"active_tap\":\"auto\",\"tools\":[{\"id\":\"4c886be9-4eff-4f13-a648-c779cd0ed9c6\",\"type\":\"PanTool\"},{\"id\":\"8c555a74-ec93-4368-a9e7-e4dc7c62d734\",\"type\":\"WheelZoomTool\"},{\"id\":\"ca6a2a8a-e3aa-4f76-80d8-ca7d3f767587\",\"type\":\"BoxZoomTool\"},{\"id\":\"781f78ed-65f2-41dc-b7f5-778de22855a1\",\"type\":\"SaveTool\"},{\"id\":\"b47379a8-6940-441c-97a2-a8fcbb97b0bc\",\"type\":\"ResetTool\"},{\"id\":\"f7cf26dd-7165-4878-af1d-2ca99c943894\",\"type\":\"HelpTool\"}]},\"id\":\"efc71785-b937-4e97-9a83-616623d833af\",\"type\":\"Toolbar\"},{\"attributes\":{\"num_minor_ticks\":10},\"id\":\"edb10dda-18b6-4a48-814a-72bca3f19354\",\"type\":\"LogTicker\"},{\"attributes\":{\"background_fill_alpha\":{\"value\":0.5},\"click_policy\":\"hide\",\"items\":[{\"id\":\"cdd29fda-5ddc-44b0-878b-f60011f95937\",\"type\":\"LegendItem\"},{\"id\":\"38b25f2e-365d-4a9b-bf80-b684446043b1\",\"type\":\"LegendItem\"},{\"id\":\"199e6ad2-d4b3-45b1-b654-2fd04e5cc899\",\"type\":\"LegendItem\"},{\"id\":\"42dfc8e5-47c0-4140-a479-6175a41de79e\",\"type\":\"LegendItem\"},{\"id\":\"f66625e7-05d5-49f4-a1b7-72a73c0dedb1\",\"type\":\"LegendItem\"},{\"id\":\"80bb7c9e-159d-452e-8df2-1a35d9808c85\",\"type\":\"LegendItem\"}],\"location\":\"top_left\",\"plot\":{\"id\":\"a5e94161-3efa-4942-8dd2-f4ddee2a1b39\",\"subtype\":\"Figure\",\"type\":\"Plot\"}},\"id\":\"6d34db40-fe95-4458-bbdc-f4bf4a55998a\",\"type\":\"Legend\"},{\"attributes\":{\"num_minor_ticks\":10},\"id\":\"e8e7f67e-9e2b-4a57-bbb1-8c3b9eb9393b\",\"type\":\"LogTicker\"},{\"attributes\":{\"callback\":null,\"column_names\":[\"x\",\"y\"],\"data\":{\"x\":[1,2,5,10,20,50,100,200,500,1000,2000],\"y\":[2.2810418158769608e-06,2.5780173018574715e-06,7.209018804132938e-06,2.0492938347160816e-05,6.410805508494377e-05,0.00035123503766953945,0.0015158610185608268,0.007402612012811005,0.0685258429730311,0.26473734504543245,1.2196230669505894]}},\"id\":\"7de47cf9-ebb8-4b83-88c2-40aab132f0f2\",\"type\":\"ColumnDataSource\"},{\"attributes\":{\"fill_alpha\":{\"value\":0.1},\"fill_color\":{\"value\":\"#1f77b4\"},\"line_alpha\":{\"value\":0.1},\"line_color\":{\"value\":\"#1f77b4\"},\"x\":{\"field\":\"x\"},\"y\":{\"field\":\"y\"}},\"id\":\"a20a23fb-a23c-4f43-9261-f2a327ed0956\",\"type\":\"Circle\"},{\"attributes\":{\"plot\":{\"id\":\"a5e94161-3efa-4942-8dd2-f4ddee2a1b39\",\"subtype\":\"Figure\",\"type\":\"Plot\"},\"ticker\":{\"id\":\"edb10dda-18b6-4a48-814a-72bca3f19354\",\"type\":\"LogTicker\"}},\"id\":\"34de10f9-2c49-4ddf-bdf2-28081fe2f53c\",\"type\":\"Grid\"},{\"attributes\":{},\"id\":\"59353b7f-a43f-4c41-a46a-3d9265682be1\",\"type\":\"LogScale\"},{\"attributes\":{\"axis_label\":\"Primes\",\"formatter\":{\"id\":\"ab719a3d-17f2-481e-9f87-f90b62d2ed36\",\"type\":\"NumeralTickFormatter\"},\"plot\":{\"id\":\"a5e94161-3efa-4942-8dd2-f4ddee2a1b39\",\"subtype\":\"Figure\",\"type\":\"Plot\"},\"ticker\":{\"id\":\"edb10dda-18b6-4a48-814a-72bca3f19354\",\"type\":\"LogTicker\"}},\"id\":\"8d6b6d4a-09fc-4ece-baae-d1f53354a417\",\"type\":\"LogAxis\"},{\"attributes\":{},\"id\":\"cf8ebbe7-1e81-4c17-b2f2-c5a19030048e\",\"type\":\"LogScale\"},{\"attributes\":{\"label\":{\"value\":\"primes5\"},\"renderers\":[{\"id\":\"49cc2697-5d4b-49ec-ad81-058987e5c06e\",\"type\":\"GlyphRenderer\"},{\"id\":\"e661fd40-5505-4bec-b274-6fa316d4b133\",\"type\":\"GlyphRenderer\"}]},\"id\":\"f66625e7-05d5-49f4-a1b7-72a73c0dedb1\",\"type\":\"LegendItem\"},{\"attributes\":{\"data_source\":{\"id\":\"e82165b7-b29b-409c-a04d-163bdc152f56\",\"type\":\"ColumnDataSource\"},\"glyph\":{\"id\":\"efc5bdea-8fd8-442b-b8df-5d7ef0176972\",\"type\":\"Circle\"},\"hover_glyph\":null,\"muted_glyph\":null,\"nonselection_glyph\":{\"id\":\"a20a23fb-a23c-4f43-9261-f2a327ed0956\",\"type\":\"Circle\"},\"selection_glyph\":null,\"view\":{\"id\":\"d3f7839e-dbfc-4ca0-b664-953a0f6cde83\",\"type\":\"CDSView\"}},\"id\":\"e661fd40-5505-4bec-b274-6fa316d4b133\",\"type\":\"GlyphRenderer\"},{\"attributes\":{\"fill_color\":{\"value\":\"#ff7f0e\"},\"line_color\":{\"value\":\"#ff7f0e\"},\"x\":{\"field\":\"x\"},\"y\":{\"field\":\"y\"}},\"id\":\"2e085f09-18a0-403a-a532-9c90f29bf2b5\",\"type\":\"Circle\"},{\"attributes\":{\"axis_label\":\"Seconds\",\"formatter\":{\"id\":\"1a2992ab-4453-4975-b1be-f06c9e644685\",\"type\":\"LogTickFormatter\"},\"plot\":{\"id\":\"a5e94161-3efa-4942-8dd2-f4ddee2a1b39\",\"subtype\":\"Figure\",\"type\":\"Plot\"},\"ticker\":{\"id\":\"e8e7f67e-9e2b-4a57-bbb1-8c3b9eb9393b\",\"type\":\"LogTicker\"}},\"id\":\"e9f080be-4081-4b30-825c-c30236710a7c\",\"type\":\"LogAxis\"},{\"attributes\":{\"dimension\":1,\"plot\":{\"id\":\"a5e94161-3efa-4942-8dd2-f4ddee2a1b39\",\"subtype\":\"Figure\",\"type\":\"Plot\"},\"ticker\":{\"id\":\"e8e7f67e-9e2b-4a57-bbb1-8c3b9eb9393b\",\"type\":\"LogTicker\"}},\"id\":\"a1816c33-969a-4503-9078-a57bca293eff\",\"type\":\"Grid\"},{\"attributes\":{\"line_color\":\"#1f77b4\",\"line_dash\":[6],\"x\":{\"field\":\"x\"},\"y\":{\"field\":\"y\"}},\"id\":\"be3dcc2e-a862-408d-8661-e48d8f3c3dd4\",\"type\":\"Line\"},{\"attributes\":{\"ticker\":null},\"id\":\"1a2992ab-4453-4975-b1be-f06c9e644685\",\"type\":\"LogTickFormatter\"},{\"attributes\":{\"callback\":null,\"column_names\":[\"x\",\"y\"],\"data\":{\"x\":[1,2,5,10,20,50,100,200,500,1000,2000],\"y\":[2.2810418158769608e-06,2.5780173018574715e-06,7.209018804132938e-06,2.0492938347160816e-05,6.410805508494377e-05,0.00035123503766953945,0.0015158610185608268,0.007402612012811005,0.0685258429730311,0.26473734504543245,1.2196230669505894]}},\"id\":\"208a49ff-c00e-4410-bc52-09a41629666a\",\"type\":\"ColumnDataSource\"},{\"attributes\":{\"bottom_units\":\"screen\",\"fill_alpha\":{\"value\":0.5},\"fill_color\":{\"value\":\"lightgrey\"},\"left_units\":\"screen\",\"level\":\"overlay\",\"line_alpha\":{\"value\":1.0},\"line_color\":{\"value\":\"black\"},\"line_dash\":[4,4],\"line_width\":{\"value\":2},\"plot\":null,\"render_mode\":\"css\",\"right_units\":\"screen\",\"top_units\":\"screen\"},\"id\":\"6a9869d0-5d72-43ba-825f-6afcf3eea3d6\",\"type\":\"BoxAnnotation\"},{\"attributes\":{\"line_alpha\":0.1,\"line_color\":\"#1f77b4\",\"line_dash\":[6],\"x\":{\"field\":\"x\"},\"y\":{\"field\":\"y\"}},\"id\":\"6688f9ef-3057-42ae-8180-891c337cdef3\",\"type\":\"Line\"},{\"attributes\":{},\"id\":\"4c886be9-4eff-4f13-a648-c779cd0ed9c6\",\"type\":\"PanTool\"},{\"attributes\":{\"data_source\":{\"id\":\"208a49ff-c00e-4410-bc52-09a41629666a\",\"type\":\"ColumnDataSource\"},\"glyph\":{\"id\":\"be3dcc2e-a862-408d-8661-e48d8f3c3dd4\",\"type\":\"Line\"},\"hover_glyph\":null,\"muted_glyph\":null,\"nonselection_glyph\":{\"id\":\"30660118-9fc6-4dca-ad35-9ea2d202ea8e\",\"type\":\"Line\"},\"selection_glyph\":null,\"view\":{\"id\":\"12840d88-7b38-44f5-8d11-359008230a8c\",\"type\":\"CDSView\"}},\"id\":\"10b9ed68-3b34-449f-8881-76e65fd17bf7\",\"type\":\"GlyphRenderer\"},{\"attributes\":{},\"id\":\"8c555a74-ec93-4368-a9e7-e4dc7c62d734\",\"type\":\"WheelZoomTool\"},{\"attributes\":{\"overlay\":{\"id\":\"6a9869d0-5d72-43ba-825f-6afcf3eea3d6\",\"type\":\"BoxAnnotation\"}},\"id\":\"ca6a2a8a-e3aa-4f76-80d8-ca7d3f767587\",\"type\":\"BoxZoomTool\"},{\"attributes\":{},\"id\":\"781f78ed-65f2-41dc-b7f5-778de22855a1\",\"type\":\"SaveTool\"},{\"attributes\":{},\"id\":\"b47379a8-6940-441c-97a2-a8fcbb97b0bc\",\"type\":\"ResetTool\"},{\"attributes\":{\"callback\":null,\"column_names\":[\"x\",\"y\"],\"data\":{\"x\":[1,2,5,10,20,50,100,200,500,1000,2000,5000,10000,20000,50000,100000,200000,500000],\"y\":[2.117943949997425e-06,2.710963599383831e-06,4.56592533737421e-06,8.409959264099598e-06,1.7025042325258255e-05,4.580290988087654e-05,0.00011415104381740093,0.00026345602236688137,0.0007764929905533791,0.0017927349545061588,0.004129466018639505,0.01259315200150013,0.02941844705492258,0.0757505769142881,0.14851688093040138,0.3747408129274845,0.8833944080397487,2.6799722670111805]}},\"id\":\"14ec31cc-9a3d-4025-90e7-0ec8e687a05e\",\"type\":\"ColumnDataSource\"},{\"attributes\":{},\"id\":\"f7cf26dd-7165-4878-af1d-2ca99c943894\",\"type\":\"HelpTool\"},{\"attributes\":{\"data_source\":{\"id\":\"5b128b11-678a-4bb8-8574-2ee3b8f7d1cf\",\"type\":\"ColumnDataSource\"},\"glyph\":{\"id\":\"ead66e24-1fc6-4661-ab37-773d04b99368\",\"type\":\"Circle\"},\"hover_glyph\":null,\"muted_glyph\":null,\"nonselection_glyph\":{\"id\":\"0a64b0c9-a57d-49c8-b531-e6381b16481c\",\"type\":\"Circle\"},\"selection_glyph\":null,\"view\":{\"id\":\"52af6328-6747-481d-b3cf-8bff4b528237\",\"type\":\"CDSView\"}},\"id\":\"3c6005c4-5eba-40fb-be5e-47f77e1e9a30\",\"type\":\"GlyphRenderer\"},{\"attributes\":{\"source\":{\"id\":\"208a49ff-c00e-4410-bc52-09a41629666a\",\"type\":\"ColumnDataSource\"}},\"id\":\"12840d88-7b38-44f5-8d11-359008230a8c\",\"type\":\"CDSView\"},{\"attributes\":{\"label\":{\"value\":\"primes1\"},\"renderers\":[{\"id\":\"10b9ed68-3b34-449f-8881-76e65fd17bf7\",\"type\":\"GlyphRenderer\"},{\"id\":\"034449e0-a9e5-46ca-bfe1-40eb03ac982b\",\"type\":\"GlyphRenderer\"}]},\"id\":\"cdd29fda-5ddc-44b0-878b-f60011f95937\",\"type\":\"LegendItem\"}],\"root_ids\":[\"a5e94161-3efa-4942-8dd2-f4ddee2a1b39\"]},\"title\":\"Bokeh Application\",\"version\":\"0.12.14\"}};\n",
       "  var render_items = [{\"docid\":\"68bf3e91-c6d3-4038-acbc-54f89935074f\",\"elementid\":\"b34b6ac2-3209-4d60-a3ea-546ab0d58d10\",\"modelid\":\"a5e94161-3efa-4942-8dd2-f4ddee2a1b39\",\"notebook_comms_target\":\"8b584f6b-727d-456d-8a3f-85107e71a155\"}];\n",
       "  root.Bokeh.embed.embed_items_notebook(docs_json, render_items);\n",
       "\n",
       "  }\n",
       "  if (root.Bokeh !== undefined) {\n",
       "    embed_document(root);\n",
       "  } else {\n",
       "    var attempts = 0;\n",
       "    var timer = setInterval(function(root) {\n",
       "      if (root.Bokeh !== undefined) {\n",
       "        embed_document(root);\n",
       "        clearInterval(timer);\n",
       "      }\n",
       "      attempts++;\n",
       "      if (attempts > 100) {\n",
       "        console.log(\"Bokeh: ERROR: Unable to run BokehJS code because BokehJS library is missing\")\n",
       "        clearInterval(timer);\n",
       "      }\n",
       "    }, 10, root)\n",
       "  }\n",
       "})(window);"
      ],
      "application/vnd.bokehjs_exec.v0+json": ""
     },
     "metadata": {
      "application/vnd.bokehjs_exec.v0+json": {
       "id": "a5e94161-3efa-4942-8dd2-f4ddee2a1b39"
      }
     },
     "output_type": "display_data"
    }
   ],
   "source": [
    "timing_plot(primes6)"
   ]
  },
  {
   "cell_type": "markdown",
   "metadata": {
    "slideshow": {
     "slide_type": "slide"
    }
   },
   "source": [
    "## Better?\n",
    "Now don’t have to decide upper limit in advance, but slower\n",
    "\n",
    "What about switching things around… for each prime store the next multiple higher than candidate, then we just just have to check if candidate is in the list, not multiple test divisions per candidate.\n",
    "For each multiple in the list, we store the original prime, so that when we reach it, we we can add it to generate the next multiple. But it could be a multiple of more than one prime, so we have to store a list of source primes:"
   ]
  },
  {
   "cell_type": "code",
   "execution_count": 17,
   "metadata": {
    "slideshow": {
     "slide_type": "fragment"
    }
   },
   "outputs": [],
   "source": [
    "from itertools import count\n",
    "\n",
    "def primes7():\n",
    "    state = {}\n",
    "    for candidate in count(2):\n",
    "        if candidate in state:\n",
    "            for factor in state[candidate]:\n",
    "                if candidate + factor in state:\n",
    "                    state[candidate + factor].append(factor)\n",
    "                else:\n",
    "                    state[candidate + factor] = [factor]\n",
    "            del state[candidate]\n",
    "        else:\n",
    "            yield candidate\n",
    "            state[2 * candidate] = [candidate]"
   ]
  },
  {
   "cell_type": "code",
   "execution_count": 18,
   "metadata": {
    "slideshow": {
     "slide_type": "slide"
    }
   },
   "outputs": [
    {
     "data": {
      "text/html": [
       "\n",
       "<div class=\"bk-root\">\n",
       "    <div class=\"bk-plotdiv\" id=\"2a3800bc-81c9-4943-b9df-aeff57514b18\"></div>\n",
       "</div>"
      ]
     },
     "metadata": {},
     "output_type": "display_data"
    },
    {
     "data": {
      "application/javascript": [
       "(function(root) {\n",
       "  function embed_document(root) {\n",
       "    \n",
       "  var docs_json = {\"86af28ec-633e-48be-9495-12c485a48ec8\":{\"roots\":{\"references\":[{\"attributes\":{\"format\":\"0[.]0 a\"},\"id\":\"7b5c7222-00e2-4397-9821-74e2508b6fe7\",\"type\":\"NumeralTickFormatter\"},{\"attributes\":{\"source\":{\"id\":\"9d92c7dd-2d62-43f6-9db9-30238ae1b641\",\"type\":\"ColumnDataSource\"}},\"id\":\"b779015d-365b-454d-97aa-8cab0cb6c6fd\",\"type\":\"CDSView\"},{\"attributes\":{\"data_source\":{\"id\":\"9d92c7dd-2d62-43f6-9db9-30238ae1b641\",\"type\":\"ColumnDataSource\"},\"glyph\":{\"id\":\"2fc1c7ea-b16d-4e12-ba30-7da8484791b1\",\"type\":\"Circle\"},\"hover_glyph\":null,\"muted_glyph\":null,\"nonselection_glyph\":{\"id\":\"d133d559-e07e-4de7-b840-eb0cfd35a2b4\",\"type\":\"Circle\"},\"selection_glyph\":null,\"view\":{\"id\":\"b779015d-365b-454d-97aa-8cab0cb6c6fd\",\"type\":\"CDSView\"}},\"id\":\"f2936454-6870-441e-a907-590a54e1ac13\",\"type\":\"GlyphRenderer\"},{\"attributes\":{\"data_source\":{\"id\":\"9d92c7dd-2d62-43f6-9db9-30238ae1b641\",\"type\":\"ColumnDataSource\"},\"glyph\":{\"id\":\"fbe1d55b-7b41-4600-8b9e-53fd5a95ae12\",\"type\":\"Line\"},\"hover_glyph\":null,\"muted_glyph\":null,\"nonselection_glyph\":{\"id\":\"a242440c-0d24-43c4-8377-5312fe0a9e82\",\"type\":\"Line\"},\"selection_glyph\":null,\"view\":{\"id\":\"1fafa8bd-3dbb-471b-b309-53d72fda1e4d\",\"type\":\"CDSView\"}},\"id\":\"cd6a4760-fc8c-4b42-8564-b894b20b06d0\",\"type\":\"GlyphRenderer\"},{\"attributes\":{\"data_source\":{\"id\":\"a108fcad-c567-4c42-b14a-9f4ae64cb355\",\"type\":\"ColumnDataSource\"},\"glyph\":{\"id\":\"921c6aae-51e2-42cb-b2e1-5961e65c4356\",\"type\":\"Circle\"},\"hover_glyph\":null,\"muted_glyph\":null,\"nonselection_glyph\":{\"id\":\"a2237ff8-21c8-4fc6-835e-723e4296211a\",\"type\":\"Circle\"},\"selection_glyph\":null,\"view\":{\"id\":\"7b0189f1-0e93-4e5e-b6fb-3a02ff639d01\",\"type\":\"CDSView\"}},\"id\":\"06eb17a4-9f4c-4cf4-9615-10f216cf8497\",\"type\":\"GlyphRenderer\"},{\"attributes\":{\"label\":{\"value\":\"primes7\"},\"renderers\":[{\"id\":\"cd6a4760-fc8c-4b42-8564-b894b20b06d0\",\"type\":\"GlyphRenderer\"},{\"id\":\"f2936454-6870-441e-a907-590a54e1ac13\",\"type\":\"GlyphRenderer\"}]},\"id\":\"4cec08cc-3711-4be0-9d33-faf26cffa883\",\"type\":\"LegendItem\"},{\"attributes\":{\"source\":{\"id\":\"a108fcad-c567-4c42-b14a-9f4ae64cb355\",\"type\":\"ColumnDataSource\"}},\"id\":\"7b0189f1-0e93-4e5e-b6fb-3a02ff639d01\",\"type\":\"CDSView\"},{\"attributes\":{\"callback\":null,\"column_names\":[\"x\",\"y\"],\"data\":{\"x\":[1,2,5,10,20,50,100,200,500,1000,2000,5000,10000,20000,50000],\"y\":[1.4400575309991837e-06,2.609100192785263e-06,1.1423020623624325e-05,1.527706626802683e-05,6.611598655581474e-05,0.00011964596342295408,0.0005128270713612437,0.0007289999630302191,0.0026792309945449233,0.006290751043707132,0.016653549042530358,0.056266322964802384,0.14411914395168424,0.30627229798119515,1.3236096629407257]}},\"id\":\"1c27cc22-91c6-46e7-bfc3-e5bb87bf7477\",\"type\":\"ColumnDataSource\"},{\"attributes\":{\"source\":{\"id\":\"5cc57029-5e1c-4749-af9d-2a04ccc077db\",\"type\":\"ColumnDataSource\"}},\"id\":\"c2e4fb88-7d2b-40da-b995-923b0378e3e1\",\"type\":\"CDSView\"},{\"attributes\":{\"fill_alpha\":{\"value\":0.1},\"fill_color\":{\"value\":\"#1f77b4\"},\"line_alpha\":{\"value\":0.1},\"line_color\":{\"value\":\"#1f77b4\"},\"x\":{\"field\":\"x\"},\"y\":{\"field\":\"y\"}},\"id\":\"a2237ff8-21c8-4fc6-835e-723e4296211a\",\"type\":\"Circle\"},{\"attributes\":{\"line_alpha\":0.1,\"line_color\":\"#1f77b4\",\"line_dash\":[6],\"x\":{\"field\":\"x\"},\"y\":{\"field\":\"y\"}},\"id\":\"c6246bd2-1940-4e56-ab01-fd3bd35ecb33\",\"type\":\"Line\"},{\"attributes\":{\"callback\":null,\"start\":1},\"id\":\"2c3b7947-512c-438f-a84b-7467a1add65c\",\"type\":\"DataRange1d\"},{\"attributes\":{\"line_alpha\":0.1,\"line_color\":\"#1f77b4\",\"line_dash\":[6],\"x\":{\"field\":\"x\"},\"y\":{\"field\":\"y\"}},\"id\":\"00ba503d-9845-4667-9ecd-7ebdc49a931b\",\"type\":\"Line\"},{\"attributes\":{\"line_alpha\":0.1,\"line_color\":\"#1f77b4\",\"line_dash\":[6],\"x\":{\"field\":\"x\"},\"y\":{\"field\":\"y\"}},\"id\":\"a5469e38-f1ea-4beb-ae63-68e77ceba5ed\",\"type\":\"Line\"},{\"attributes\":{\"callback\":null,\"column_names\":[\"x\",\"y\"],\"data\":{\"x\":[1,2,5,10,20,50,100,200,500,1000,2000,5000],\"y\":[1.4139804989099503e-06,2.2620661184191704e-06,5.381996743381023e-06,1.3141077943146229e-05,3.996898885816336e-05,0.00021801097318530083,0.0009484479669481516,0.004649461014196277,0.033985527930781245,0.14049233100377023,0.6119923630030826,4.361634815926664]}},\"id\":\"9e394d17-a9ca-4e40-9435-6a628a86aa72\",\"type\":\"ColumnDataSource\"},{\"attributes\":{\"below\":[{\"id\":\"1736b86c-9892-4b48-b50f-f8d624ac149d\",\"type\":\"LogAxis\"}],\"left\":[{\"id\":\"d010f924-49ef-44b7-ae3b-8c47344e0405\",\"type\":\"LogAxis\"}],\"plot_height\":400,\"plot_width\":800,\"renderers\":[{\"id\":\"1736b86c-9892-4b48-b50f-f8d624ac149d\",\"type\":\"LogAxis\"},{\"id\":\"554988fa-d8c9-4dc8-9e56-4b13954af007\",\"type\":\"Grid\"},{\"id\":\"d010f924-49ef-44b7-ae3b-8c47344e0405\",\"type\":\"LogAxis\"},{\"id\":\"3ca9d4c6-79e7-466d-8cae-ad678cb87b3f\",\"type\":\"Grid\"},{\"id\":\"cefcb877-51bf-4a41-860b-3ce11fe92b3b\",\"type\":\"BoxAnnotation\"},{\"id\":\"0559e848-132b-459f-8918-02a225899d2f\",\"type\":\"Legend\"},{\"id\":\"04f19cfe-23b2-4634-9f78-aa6e61e372c5\",\"type\":\"GlyphRenderer\"},{\"id\":\"06eb17a4-9f4c-4cf4-9615-10f216cf8497\",\"type\":\"GlyphRenderer\"},{\"id\":\"8ef82864-aafb-490f-8653-b97fb3285a97\",\"type\":\"GlyphRenderer\"},{\"id\":\"0c0c2e84-cfd5-4dce-83e3-ca898f4a5232\",\"type\":\"GlyphRenderer\"},{\"id\":\"edbf4827-9ad0-4eb6-9a4c-13da6a49a5d4\",\"type\":\"GlyphRenderer\"},{\"id\":\"14af0da0-9006-4e79-869b-89d7de78226c\",\"type\":\"GlyphRenderer\"},{\"id\":\"94f52227-f3ca-4474-8c28-373796a5d4e1\",\"type\":\"GlyphRenderer\"},{\"id\":\"7d19410b-d2a4-42c9-8f62-ba0af7b0a368\",\"type\":\"GlyphRenderer\"},{\"id\":\"7e31a140-89c2-440b-998d-1cb7446a90a7\",\"type\":\"GlyphRenderer\"},{\"id\":\"6dae3bca-07ec-4160-abca-5cb0be60acc9\",\"type\":\"GlyphRenderer\"},{\"id\":\"33a442a0-9901-4f7f-b12e-43cdfb7db834\",\"type\":\"GlyphRenderer\"},{\"id\":\"7869f777-051a-476d-abc8-3b9580016f53\",\"type\":\"GlyphRenderer\"},{\"id\":\"cd6a4760-fc8c-4b42-8564-b894b20b06d0\",\"type\":\"GlyphRenderer\"},{\"id\":\"f2936454-6870-441e-a907-590a54e1ac13\",\"type\":\"GlyphRenderer\"}],\"title\":{\"id\":\"5efaea04-14d0-46bd-ba45-d86d3f013baa\",\"type\":\"Title\"},\"toolbar\":{\"id\":\"1ae758a5-2b16-4e87-bb1f-ecf83b5fa649\",\"type\":\"Toolbar\"},\"toolbar_location\":\"above\",\"x_range\":{\"id\":\"2c3b7947-512c-438f-a84b-7467a1add65c\",\"type\":\"DataRange1d\"},\"x_scale\":{\"id\":\"7288ce63-4a7b-4b9a-b8db-2f7e3913811b\",\"type\":\"LogScale\"},\"y_range\":{\"id\":\"c0227ea7-5d45-4cf6-8845-067cde057de3\",\"type\":\"Range1d\"},\"y_scale\":{\"id\":\"1719174d-c20a-4371-8376-ed0a01d60bad\",\"type\":\"LogScale\"}},\"id\":\"3ea10b20-b171-4e18-9fa4-bcb7965cfc4d\",\"subtype\":\"Figure\",\"type\":\"Plot\"},{\"attributes\":{\"callback\":null,\"column_names\":[\"x\",\"y\"],\"data\":{\"x\":[1,2,5,10,20,50,100,200,500,1000,2000,5000,10000,20000,50000,100000,200000,500000],\"y\":[2.117943949997425e-06,2.710963599383831e-06,4.56592533737421e-06,8.409959264099598e-06,1.7025042325258255e-05,4.580290988087654e-05,0.00011415104381740093,0.00026345602236688137,0.0007764929905533791,0.0017927349545061588,0.004129466018639505,0.01259315200150013,0.02941844705492258,0.0757505769142881,0.14851688093040138,0.3747408129274845,0.8833944080397487,2.6799722670111805]}},\"id\":\"a2c74f0e-45e2-4ee3-87c6-985d94808f67\",\"type\":\"ColumnDataSource\"},{\"attributes\":{\"data_source\":{\"id\":\"9e394d17-a9ca-4e40-9435-6a628a86aa72\",\"type\":\"ColumnDataSource\"},\"glyph\":{\"id\":\"a6e5005f-fea2-4e14-8eea-34b92e1676fd\",\"type\":\"Line\"},\"hover_glyph\":null,\"muted_glyph\":null,\"nonselection_glyph\":{\"id\":\"8773f215-ee9b-4ccd-b668-7782aad4c683\",\"type\":\"Line\"},\"selection_glyph\":null,\"view\":{\"id\":\"11652926-4a97-4537-b7f3-78715eae0231\",\"type\":\"CDSView\"}},\"id\":\"8ef82864-aafb-490f-8653-b97fb3285a97\",\"type\":\"GlyphRenderer\"},{\"attributes\":{\"callback\":null,\"start\":1e-06},\"id\":\"c0227ea7-5d45-4cf6-8845-067cde057de3\",\"type\":\"Range1d\"},{\"attributes\":{\"label\":{\"value\":\"primes6\"},\"renderers\":[{\"id\":\"33a442a0-9901-4f7f-b12e-43cdfb7db834\",\"type\":\"GlyphRenderer\"},{\"id\":\"7869f777-051a-476d-abc8-3b9580016f53\",\"type\":\"GlyphRenderer\"}]},\"id\":\"ab2ca076-59c0-48ef-b540-39325feafe9b\",\"type\":\"LegendItem\"},{\"attributes\":{\"active_drag\":\"auto\",\"active_inspect\":\"auto\",\"active_scroll\":\"auto\",\"active_tap\":\"auto\",\"tools\":[{\"id\":\"a3f19da9-01a0-4f88-9781-5a4e49d63fdb\",\"type\":\"PanTool\"},{\"id\":\"570f963e-039d-490a-9529-6faa5ca814dd\",\"type\":\"WheelZoomTool\"},{\"id\":\"ad38c822-df45-4dba-8cdc-f5a13f57848a\",\"type\":\"BoxZoomTool\"},{\"id\":\"22994324-f2b1-4991-9148-cfb0d1aecd25\",\"type\":\"SaveTool\"},{\"id\":\"44a5f8ce-793a-4633-a247-fc904ac98e9d\",\"type\":\"ResetTool\"},{\"id\":\"61f062ce-5eb2-42e7-a774-c475d31ef9f3\",\"type\":\"HelpTool\"}]},\"id\":\"1ae758a5-2b16-4e87-bb1f-ecf83b5fa649\",\"type\":\"Toolbar\"},{\"attributes\":{\"fill_color\":{\"value\":\"#1f77b4\"},\"line_color\":{\"value\":\"#1f77b4\"},\"x\":{\"field\":\"x\"},\"y\":{\"field\":\"y\"}},\"id\":\"921c6aae-51e2-42cb-b2e1-5961e65c4356\",\"type\":\"Circle\"},{\"attributes\":{\"data_source\":{\"id\":\"1943290c-5763-4e12-95e1-1927219b8358\",\"type\":\"ColumnDataSource\"},\"glyph\":{\"id\":\"8206ba71-7808-416d-911d-c17f73bc33e1\",\"type\":\"Line\"},\"hover_glyph\":null,\"muted_glyph\":null,\"nonselection_glyph\":{\"id\":\"c6246bd2-1940-4e56-ab01-fd3bd35ecb33\",\"type\":\"Line\"},\"selection_glyph\":null,\"view\":{\"id\":\"afd36805-9b4f-4520-a603-18467b072ae1\",\"type\":\"CDSView\"}},\"id\":\"33a442a0-9901-4f7f-b12e-43cdfb7db834\",\"type\":\"GlyphRenderer\"},{\"attributes\":{\"fill_alpha\":{\"value\":0.1},\"fill_color\":{\"value\":\"#1f77b4\"},\"line_alpha\":{\"value\":0.1},\"line_color\":{\"value\":\"#1f77b4\"},\"x\":{\"field\":\"x\"},\"y\":{\"field\":\"y\"}},\"id\":\"d133d559-e07e-4de7-b840-eb0cfd35a2b4\",\"type\":\"Circle\"},{\"attributes\":{\"data_source\":{\"id\":\"a2c74f0e-45e2-4ee3-87c6-985d94808f67\",\"type\":\"ColumnDataSource\"},\"glyph\":{\"id\":\"54156b54-7ce5-4ac6-b941-9713fc0cfdb1\",\"type\":\"Line\"},\"hover_glyph\":null,\"muted_glyph\":null,\"nonselection_glyph\":{\"id\":\"04db66ea-449b-4596-8df9-7bc0229fe3b9\",\"type\":\"Line\"},\"selection_glyph\":null,\"view\":{\"id\":\"de712313-f940-4f03-910a-b84aa5d7b787\",\"type\":\"CDSView\"}},\"id\":\"94f52227-f3ca-4474-8c28-373796a5d4e1\",\"type\":\"GlyphRenderer\"},{\"attributes\":{\"num_minor_ticks\":10},\"id\":\"f8fd1552-c482-4175-ab34-de7fa64f9b8f\",\"type\":\"LogTicker\"},{\"attributes\":{\"fill_color\":{\"value\":\"#8c564b\"},\"line_color\":{\"value\":\"#8c564b\"},\"x\":{\"field\":\"x\"},\"y\":{\"field\":\"y\"}},\"id\":\"df57e092-08a4-492f-b977-d9811e740cac\",\"type\":\"Circle\"},{\"attributes\":{\"data_source\":{\"id\":\"f6a94f42-2945-4748-b73b-5e008b5b783a\",\"type\":\"ColumnDataSource\"},\"glyph\":{\"id\":\"244ab436-dbc4-48a5-9b23-19304232a10c\",\"type\":\"Line\"},\"hover_glyph\":null,\"muted_glyph\":null,\"nonselection_glyph\":{\"id\":\"c37c0d80-e5a9-4d54-bfe1-ec5761528193\",\"type\":\"Line\"},\"selection_glyph\":null,\"view\":{\"id\":\"5ff95b03-0a54-45e0-8766-9a9bc6634137\",\"type\":\"CDSView\"}},\"id\":\"edbf4827-9ad0-4eb6-9a4c-13da6a49a5d4\",\"type\":\"GlyphRenderer\"},{\"attributes\":{\"source\":{\"id\":\"9d92c7dd-2d62-43f6-9db9-30238ae1b641\",\"type\":\"ColumnDataSource\"}},\"id\":\"1fafa8bd-3dbb-471b-b309-53d72fda1e4d\",\"type\":\"CDSView\"},{\"attributes\":{\"num_minor_ticks\":10},\"id\":\"0f3b6658-8494-4c7a-a683-a7437f41e4f6\",\"type\":\"LogTicker\"},{\"attributes\":{\"source\":{\"id\":\"224c163b-da29-4962-9bf5-40d612cb78df\",\"type\":\"ColumnDataSource\"}},\"id\":\"406aa507-34a4-410f-b136-ff37a9283dd0\",\"type\":\"CDSView\"},{\"attributes\":{\"source\":{\"id\":\"1943290c-5763-4e12-95e1-1927219b8358\",\"type\":\"ColumnDataSource\"}},\"id\":\"afd36805-9b4f-4520-a603-18467b072ae1\",\"type\":\"CDSView\"},{\"attributes\":{\"axis_label\":\"Seconds\",\"formatter\":{\"id\":\"7d42c386-f157-4204-b354-6bcaf73f1a00\",\"type\":\"LogTickFormatter\"},\"plot\":{\"id\":\"3ea10b20-b171-4e18-9fa4-bcb7965cfc4d\",\"subtype\":\"Figure\",\"type\":\"Plot\"},\"ticker\":{\"id\":\"0f3b6658-8494-4c7a-a683-a7437f41e4f6\",\"type\":\"LogTicker\"}},\"id\":\"d010f924-49ef-44b7-ae3b-8c47344e0405\",\"type\":\"LogAxis\"},{\"attributes\":{\"label\":{\"value\":\"primes5\"},\"renderers\":[{\"id\":\"7e31a140-89c2-440b-998d-1cb7446a90a7\",\"type\":\"GlyphRenderer\"},{\"id\":\"6dae3bca-07ec-4160-abca-5cb0be60acc9\",\"type\":\"GlyphRenderer\"}]},\"id\":\"942b92b7-5db0-4ed5-8813-1213ed5f6b0c\",\"type\":\"LegendItem\"},{\"attributes\":{},\"id\":\"7288ce63-4a7b-4b9a-b8db-2f7e3913811b\",\"type\":\"LogScale\"},{\"attributes\":{\"callback\":null,\"column_names\":[\"x\",\"y\"],\"data\":{\"x\":[1,2,5,10,20,50,100,200,500,1000,2000,5000,10000],\"y\":[1.1100200936198235e-06,1.4940742403268814e-06,2.810964360833168e-06,6.005982868373394e-06,1.6966951079666615e-05,8.20700079202652e-05,0.00030898593831807375,0.0012127070222049952,0.007740333094261587,0.040346126072108746,0.12615202099550515,0.7999409510521218,3.12910230003763]}},\"id\":\"a07c0aab-5211-4c67-a106-42db3af3e49e\",\"type\":\"ColumnDataSource\"},{\"attributes\":{\"source\":{\"id\":\"1c27cc22-91c6-46e7-bfc3-e5bb87bf7477\",\"type\":\"ColumnDataSource\"}},\"id\":\"64649bf0-2110-403b-add9-ab41db616aeb\",\"type\":\"CDSView\"},{\"attributes\":{\"axis_label\":\"Primes\",\"formatter\":{\"id\":\"7b5c7222-00e2-4397-9821-74e2508b6fe7\",\"type\":\"NumeralTickFormatter\"},\"plot\":{\"id\":\"3ea10b20-b171-4e18-9fa4-bcb7965cfc4d\",\"subtype\":\"Figure\",\"type\":\"Plot\"},\"ticker\":{\"id\":\"f8fd1552-c482-4175-ab34-de7fa64f9b8f\",\"type\":\"LogTicker\"}},\"id\":\"1736b86c-9892-4b48-b50f-f8d624ac149d\",\"type\":\"LogAxis\"},{\"attributes\":{\"dimension\":1,\"plot\":{\"id\":\"3ea10b20-b171-4e18-9fa4-bcb7965cfc4d\",\"subtype\":\"Figure\",\"type\":\"Plot\"},\"ticker\":{\"id\":\"0f3b6658-8494-4c7a-a683-a7437f41e4f6\",\"type\":\"LogTicker\"}},\"id\":\"3ca9d4c6-79e7-466d-8cae-ad678cb87b3f\",\"type\":\"Grid\"},{\"attributes\":{\"fill_alpha\":{\"value\":0.1},\"fill_color\":{\"value\":\"#1f77b4\"},\"line_alpha\":{\"value\":0.1},\"line_color\":{\"value\":\"#1f77b4\"},\"x\":{\"field\":\"x\"},\"y\":{\"field\":\"y\"}},\"id\":\"ecae7ee4-f31f-4e64-aafa-c298c8bf8b19\",\"type\":\"Circle\"},{\"attributes\":{\"source\":{\"id\":\"087f2c40-d6a5-4d25-8bac-07c2918ae427\",\"type\":\"ColumnDataSource\"}},\"id\":\"b8abcf36-1ea8-461d-ae12-6bdf7d29d35b\",\"type\":\"CDSView\"},{\"attributes\":{\"plot\":{\"id\":\"3ea10b20-b171-4e18-9fa4-bcb7965cfc4d\",\"subtype\":\"Figure\",\"type\":\"Plot\"},\"ticker\":{\"id\":\"f8fd1552-c482-4175-ab34-de7fa64f9b8f\",\"type\":\"LogTicker\"}},\"id\":\"554988fa-d8c9-4dc8-9e56-4b13954af007\",\"type\":\"Grid\"},{\"attributes\":{\"data_source\":{\"id\":\"a07c0aab-5211-4c67-a106-42db3af3e49e\",\"type\":\"ColumnDataSource\"},\"glyph\":{\"id\":\"df57e092-08a4-492f-b977-d9811e740cac\",\"type\":\"Circle\"},\"hover_glyph\":null,\"muted_glyph\":null,\"nonselection_glyph\":{\"id\":\"ecae7ee4-f31f-4e64-aafa-c298c8bf8b19\",\"type\":\"Circle\"},\"selection_glyph\":null,\"view\":{\"id\":\"11ce380e-26f0-4886-8942-d311b847542e\",\"type\":\"CDSView\"}},\"id\":\"7869f777-051a-476d-abc8-3b9580016f53\",\"type\":\"GlyphRenderer\"},{\"attributes\":{},\"id\":\"1719174d-c20a-4371-8376-ed0a01d60bad\",\"type\":\"LogScale\"},{\"attributes\":{\"line_color\":\"#8c564b\",\"line_dash\":[6],\"x\":{\"field\":\"x\"},\"y\":{\"field\":\"y\"}},\"id\":\"8206ba71-7808-416d-911d-c17f73bc33e1\",\"type\":\"Line\"},{\"attributes\":{\"data_source\":{\"id\":\"1c27cc22-91c6-46e7-bfc3-e5bb87bf7477\",\"type\":\"ColumnDataSource\"},\"glyph\":{\"id\":\"4a634a10-3ee2-4b41-9888-88e6778fed5a\",\"type\":\"Circle\"},\"hover_glyph\":null,\"muted_glyph\":null,\"nonselection_glyph\":{\"id\":\"cc898863-ef6d-4b8a-aeb8-83535d85d999\",\"type\":\"Circle\"},\"selection_glyph\":null,\"view\":{\"id\":\"64649bf0-2110-403b-add9-ab41db616aeb\",\"type\":\"CDSView\"}},\"id\":\"14af0da0-9006-4e79-869b-89d7de78226c\",\"type\":\"GlyphRenderer\"},{\"attributes\":{\"line_color\":\"#1f77b4\",\"line_dash\":[6],\"x\":{\"field\":\"x\"},\"y\":{\"field\":\"y\"}},\"id\":\"c910b1d9-2b6d-4f19-90db-7c902bc33e54\",\"type\":\"Line\"},{\"attributes\":{\"callback\":null,\"column_names\":[\"x\",\"y\"],\"data\":{\"x\":[],\"y\":[]}},\"id\":\"9d92c7dd-2d62-43f6-9db9-30238ae1b641\",\"type\":\"ColumnDataSource\"},{\"attributes\":{\"ticker\":null},\"id\":\"7d42c386-f157-4204-b354-6bcaf73f1a00\",\"type\":\"LogTickFormatter\"},{\"attributes\":{\"callback\":null,\"column_names\":[\"x\",\"y\"],\"data\":{\"x\":[1,2,5,10,20,50,100,200,500,1000,2000,5000,10000,20000,50000,100000,200000,500000],\"y\":[2.2349413484334946e-06,2.8919894248247147e-06,4.932982847094536e-06,8.739996701478958e-06,1.6108970157802105e-05,4.211196210235357e-05,9.71650006249547e-05,0.00022170506417751312,0.0006455769762396812,0.0014229100197553635,0.00310503994114697,0.00859425903763622,0.021596965962089598,0.043651859974488616,0.11191033700015396,0.18856479902751744,0.48616820701863617,1.3338420169893652]}},\"id\":\"224c163b-da29-4962-9bf5-40d612cb78df\",\"type\":\"ColumnDataSource\"},{\"attributes\":{\"data_source\":{\"id\":\"224c163b-da29-4962-9bf5-40d612cb78df\",\"type\":\"ColumnDataSource\"},\"glyph\":{\"id\":\"1eaad0e4-faca-47f6-9d2c-03eec399b016\",\"type\":\"Circle\"},\"hover_glyph\":null,\"muted_glyph\":null,\"nonselection_glyph\":{\"id\":\"e682dada-56f0-467a-b659-1e710559099c\",\"type\":\"Circle\"},\"selection_glyph\":null,\"view\":{\"id\":\"406aa507-34a4-410f-b136-ff37a9283dd0\",\"type\":\"CDSView\"}},\"id\":\"6dae3bca-07ec-4160-abca-5cb0be60acc9\",\"type\":\"GlyphRenderer\"},{\"attributes\":{\"callback\":null,\"column_names\":[\"x\",\"y\"],\"data\":{\"x\":[1,2,5,10,20,50,100,200,500,1000,2000],\"y\":[2.2810418158769608e-06,2.5780173018574715e-06,7.209018804132938e-06,2.0492938347160816e-05,6.410805508494377e-05,0.00035123503766953945,0.0015158610185608268,0.007402612012811005,0.0685258429730311,0.26473734504543245,1.2196230669505894]}},\"id\":\"ebe9c940-7afd-4b58-9f69-1bc46a248ab8\",\"type\":\"ColumnDataSource\"},{\"attributes\":{\"bottom_units\":\"screen\",\"fill_alpha\":{\"value\":0.5},\"fill_color\":{\"value\":\"lightgrey\"},\"left_units\":\"screen\",\"level\":\"overlay\",\"line_alpha\":{\"value\":1.0},\"line_color\":{\"value\":\"black\"},\"line_dash\":[4,4],\"line_width\":{\"value\":2},\"plot\":null,\"render_mode\":\"css\",\"right_units\":\"screen\",\"top_units\":\"screen\"},\"id\":\"cefcb877-51bf-4a41-860b-3ce11fe92b3b\",\"type\":\"BoxAnnotation\"},{\"attributes\":{\"line_color\":\"#9467bd\",\"line_dash\":[6],\"x\":{\"field\":\"x\"},\"y\":{\"field\":\"y\"}},\"id\":\"8f1ad8b7-298f-45ac-81f3-23e114f32c01\",\"type\":\"Line\"},{\"attributes\":{\"line_color\":\"#e377c2\",\"x\":{\"field\":\"x\"},\"y\":{\"field\":\"y\"}},\"id\":\"fbe1d55b-7b41-4600-8b9e-53fd5a95ae12\",\"type\":\"Line\"},{\"attributes\":{},\"id\":\"a3f19da9-01a0-4f88-9781-5a4e49d63fdb\",\"type\":\"PanTool\"},{\"attributes\":{\"callback\":null,\"column_names\":[\"x\",\"y\"],\"data\":{\"x\":[1,2,5,10,20,50,100,200,500,1000,2000,5000,10000],\"y\":[1.1100200936198235e-06,1.4940742403268814e-06,2.810964360833168e-06,6.005982868373394e-06,1.6966951079666615e-05,8.20700079202652e-05,0.00030898593831807375,0.0012127070222049952,0.007740333094261587,0.040346126072108746,0.12615202099550515,0.7999409510521218,3.12910230003763]}},\"id\":\"1943290c-5763-4e12-95e1-1927219b8358\",\"type\":\"ColumnDataSource\"},{\"attributes\":{\"data_source\":{\"id\":\"ebe9c940-7afd-4b58-9f69-1bc46a248ab8\",\"type\":\"ColumnDataSource\"},\"glyph\":{\"id\":\"c910b1d9-2b6d-4f19-90db-7c902bc33e54\",\"type\":\"Line\"},\"hover_glyph\":null,\"muted_glyph\":null,\"nonselection_glyph\":{\"id\":\"a5469e38-f1ea-4beb-ae63-68e77ceba5ed\",\"type\":\"Line\"},\"selection_glyph\":null,\"view\":{\"id\":\"5c563e60-fa37-40a4-bbbe-ee0e721dd148\",\"type\":\"CDSView\"}},\"id\":\"04f19cfe-23b2-4634-9f78-aa6e61e372c5\",\"type\":\"GlyphRenderer\"},{\"attributes\":{\"callback\":null,\"column_names\":[\"x\",\"y\"],\"data\":{\"x\":[1,2,5,10,20,50,100,200,500,1000,2000,5000,10000,20000,50000,100000,200000,500000],\"y\":[2.117943949997425e-06,2.710963599383831e-06,4.56592533737421e-06,8.409959264099598e-06,1.7025042325258255e-05,4.580290988087654e-05,0.00011415104381740093,0.00026345602236688137,0.0007764929905533791,0.0017927349545061588,0.004129466018639505,0.01259315200150013,0.02941844705492258,0.0757505769142881,0.14851688093040138,0.3747408129274845,0.8833944080397487,2.6799722670111805]}},\"id\":\"3eef3373-26f7-4ea8-9fb5-5966bcbf994c\",\"type\":\"ColumnDataSource\"},{\"attributes\":{},\"id\":\"570f963e-039d-490a-9529-6faa5ca814dd\",\"type\":\"WheelZoomTool\"},{\"attributes\":{\"callback\":null,\"column_names\":[\"x\",\"y\"],\"data\":{\"x\":[1,2,5,10,20,50,100,200,500,1000,2000],\"y\":[2.2810418158769608e-06,2.5780173018574715e-06,7.209018804132938e-06,2.0492938347160816e-05,6.410805508494377e-05,0.00035123503766953945,0.0015158610185608268,0.007402612012811005,0.0685258429730311,0.26473734504543245,1.2196230669505894]}},\"id\":\"a108fcad-c567-4c42-b14a-9f4ae64cb355\",\"type\":\"ColumnDataSource\"},{\"attributes\":{\"overlay\":{\"id\":\"cefcb877-51bf-4a41-860b-3ce11fe92b3b\",\"type\":\"BoxAnnotation\"}},\"id\":\"ad38c822-df45-4dba-8cdc-f5a13f57848a\",\"type\":\"BoxZoomTool\"},{\"attributes\":{\"fill_alpha\":{\"value\":0.1},\"fill_color\":{\"value\":\"#1f77b4\"},\"line_alpha\":{\"value\":0.1},\"line_color\":{\"value\":\"#1f77b4\"},\"x\":{\"field\":\"x\"},\"y\":{\"field\":\"y\"}},\"id\":\"e682dada-56f0-467a-b659-1e710559099c\",\"type\":\"Circle\"},{\"attributes\":{},\"id\":\"22994324-f2b1-4991-9148-cfb0d1aecd25\",\"type\":\"SaveTool\"},{\"attributes\":{\"source\":{\"id\":\"3eef3373-26f7-4ea8-9fb5-5966bcbf994c\",\"type\":\"ColumnDataSource\"}},\"id\":\"215e85e6-2444-4a5d-9e87-e38e22dee323\",\"type\":\"CDSView\"},{\"attributes\":{},\"id\":\"44a5f8ce-793a-4633-a247-fc904ac98e9d\",\"type\":\"ResetTool\"},{\"attributes\":{\"source\":{\"id\":\"a2c74f0e-45e2-4ee3-87c6-985d94808f67\",\"type\":\"ColumnDataSource\"}},\"id\":\"de712313-f940-4f03-910a-b84aa5d7b787\",\"type\":\"CDSView\"},{\"attributes\":{},\"id\":\"61f062ce-5eb2-42e7-a774-c475d31ef9f3\",\"type\":\"HelpTool\"},{\"attributes\":{\"fill_alpha\":{\"value\":0.1},\"fill_color\":{\"value\":\"#1f77b4\"},\"line_alpha\":{\"value\":0.1},\"line_color\":{\"value\":\"#1f77b4\"},\"x\":{\"field\":\"x\"},\"y\":{\"field\":\"y\"}},\"id\":\"cc898863-ef6d-4b8a-aeb8-83535d85d999\",\"type\":\"Circle\"},{\"attributes\":{\"line_alpha\":0.1,\"line_color\":\"#1f77b4\",\"line_dash\":[6],\"x\":{\"field\":\"x\"},\"y\":{\"field\":\"y\"}},\"id\":\"04db66ea-449b-4596-8df9-7bc0229fe3b9\",\"type\":\"Line\"},{\"attributes\":{\"source\":{\"id\":\"ebe9c940-7afd-4b58-9f69-1bc46a248ab8\",\"type\":\"ColumnDataSource\"}},\"id\":\"5c563e60-fa37-40a4-bbbe-ee0e721dd148\",\"type\":\"CDSView\"},{\"attributes\":{\"fill_color\":{\"value\":\"#9467bd\"},\"line_color\":{\"value\":\"#9467bd\"},\"x\":{\"field\":\"x\"},\"y\":{\"field\":\"y\"}},\"id\":\"1eaad0e4-faca-47f6-9d2c-03eec399b016\",\"type\":\"Circle\"},{\"attributes\":{\"plot\":null,\"text\":\"Timing\"},\"id\":\"5efaea04-14d0-46bd-ba45-d86d3f013baa\",\"type\":\"Title\"},{\"attributes\":{\"label\":{\"value\":\"primes1\"},\"renderers\":[{\"id\":\"04f19cfe-23b2-4634-9f78-aa6e61e372c5\",\"type\":\"GlyphRenderer\"},{\"id\":\"06eb17a4-9f4c-4cf4-9615-10f216cf8497\",\"type\":\"GlyphRenderer\"}]},\"id\":\"8d5752df-74f9-42dc-b772-792c6332d87a\",\"type\":\"LegendItem\"},{\"attributes\":{\"line_color\":\"#d62728\",\"line_dash\":[6],\"x\":{\"field\":\"x\"},\"y\":{\"field\":\"y\"}},\"id\":\"54156b54-7ce5-4ac6-b941-9713fc0cfdb1\",\"type\":\"Line\"},{\"attributes\":{\"background_fill_alpha\":{\"value\":0.5},\"click_policy\":\"hide\",\"items\":[{\"id\":\"8d5752df-74f9-42dc-b772-792c6332d87a\",\"type\":\"LegendItem\"},{\"id\":\"7dfdde4e-bc7c-4ef0-9385-1d9f9a20df24\",\"type\":\"LegendItem\"},{\"id\":\"1e98ea6a-1482-47a1-b451-040aa71153f6\",\"type\":\"LegendItem\"},{\"id\":\"b654426b-5c3f-44b5-88b3-0f759e148d59\",\"type\":\"LegendItem\"},{\"id\":\"942b92b7-5db0-4ed5-8813-1213ed5f6b0c\",\"type\":\"LegendItem\"},{\"id\":\"ab2ca076-59c0-48ef-b540-39325feafe9b\",\"type\":\"LegendItem\"},{\"id\":\"4cec08cc-3711-4be0-9d33-faf26cffa883\",\"type\":\"LegendItem\"}],\"location\":\"top_left\",\"plot\":{\"id\":\"3ea10b20-b171-4e18-9fa4-bcb7965cfc4d\",\"subtype\":\"Figure\",\"type\":\"Plot\"}},\"id\":\"0559e848-132b-459f-8918-02a225899d2f\",\"type\":\"Legend\"},{\"attributes\":{\"fill_alpha\":{\"value\":0.1},\"fill_color\":{\"value\":\"#1f77b4\"},\"line_alpha\":{\"value\":0.1},\"line_color\":{\"value\":\"#1f77b4\"},\"x\":{\"field\":\"x\"},\"y\":{\"field\":\"y\"}},\"id\":\"7465cc8c-be23-49f3-aa8d-66f409931c91\",\"type\":\"Circle\"},{\"attributes\":{\"line_color\":\"#ff7f0e\",\"line_dash\":[6],\"x\":{\"field\":\"x\"},\"y\":{\"field\":\"y\"}},\"id\":\"a6e5005f-fea2-4e14-8eea-34b92e1676fd\",\"type\":\"Line\"},{\"attributes\":{\"source\":{\"id\":\"f6a94f42-2945-4748-b73b-5e008b5b783a\",\"type\":\"ColumnDataSource\"}},\"id\":\"5ff95b03-0a54-45e0-8766-9a9bc6634137\",\"type\":\"CDSView\"},{\"attributes\":{\"line_alpha\":0.1,\"line_color\":\"#1f77b4\",\"x\":{\"field\":\"x\"},\"y\":{\"field\":\"y\"}},\"id\":\"a242440c-0d24-43c4-8377-5312fe0a9e82\",\"type\":\"Line\"},{\"attributes\":{\"label\":{\"value\":\"primes2\"},\"renderers\":[{\"id\":\"8ef82864-aafb-490f-8653-b97fb3285a97\",\"type\":\"GlyphRenderer\"},{\"id\":\"0c0c2e84-cfd5-4dce-83e3-ca898f4a5232\",\"type\":\"GlyphRenderer\"}]},\"id\":\"7dfdde4e-bc7c-4ef0-9385-1d9f9a20df24\",\"type\":\"LegendItem\"},{\"attributes\":{\"line_alpha\":0.1,\"line_color\":\"#1f77b4\",\"line_dash\":[6],\"x\":{\"field\":\"x\"},\"y\":{\"field\":\"y\"}},\"id\":\"c37c0d80-e5a9-4d54-bfe1-ec5761528193\",\"type\":\"Line\"},{\"attributes\":{\"callback\":null,\"column_names\":[\"x\",\"y\"],\"data\":{\"x\":[1,2,5,10,20,50,100,200,500,1000,2000,5000,10000,20000,50000],\"y\":[1.4400575309991837e-06,2.609100192785263e-06,1.1423020623624325e-05,1.527706626802683e-05,6.611598655581474e-05,0.00011964596342295408,0.0005128270713612437,0.0007289999630302191,0.0026792309945449233,0.006290751043707132,0.016653549042530358,0.056266322964802384,0.14411914395168424,0.30627229798119515,1.3236096629407257]}},\"id\":\"f6a94f42-2945-4748-b73b-5e008b5b783a\",\"type\":\"ColumnDataSource\"},{\"attributes\":{\"fill_color\":{\"value\":\"#2ca02c\"},\"line_color\":{\"value\":\"#2ca02c\"},\"x\":{\"field\":\"x\"},\"y\":{\"field\":\"y\"}},\"id\":\"4a634a10-3ee2-4b41-9888-88e6778fed5a\",\"type\":\"Circle\"},{\"attributes\":{\"callback\":null,\"column_names\":[\"x\",\"y\"],\"data\":{\"x\":[1,2,5,10,20,50,100,200,500,1000,2000,5000],\"y\":[1.4139804989099503e-06,2.2620661184191704e-06,5.381996743381023e-06,1.3141077943146229e-05,3.996898885816336e-05,0.00021801097318530083,0.0009484479669481516,0.004649461014196277,0.033985527930781245,0.14049233100377023,0.6119923630030826,4.361634815926664]}},\"id\":\"087f2c40-d6a5-4d25-8bac-07c2918ae427\",\"type\":\"ColumnDataSource\"},{\"attributes\":{\"line_color\":\"#2ca02c\",\"line_dash\":[6],\"x\":{\"field\":\"x\"},\"y\":{\"field\":\"y\"}},\"id\":\"244ab436-dbc4-48a5-9b23-19304232a10c\",\"type\":\"Line\"},{\"attributes\":{\"label\":{\"value\":\"primes3\"},\"renderers\":[{\"id\":\"edbf4827-9ad0-4eb6-9a4c-13da6a49a5d4\",\"type\":\"GlyphRenderer\"},{\"id\":\"14af0da0-9006-4e79-869b-89d7de78226c\",\"type\":\"GlyphRenderer\"}]},\"id\":\"1e98ea6a-1482-47a1-b451-040aa71153f6\",\"type\":\"LegendItem\"},{\"attributes\":{\"fill_alpha\":{\"value\":0.1},\"fill_color\":{\"value\":\"#1f77b4\"},\"line_alpha\":{\"value\":0.1},\"line_color\":{\"value\":\"#1f77b4\"},\"x\":{\"field\":\"x\"},\"y\":{\"field\":\"y\"}},\"id\":\"a15a29cf-553f-4ec2-989f-e4206c093e65\",\"type\":\"Circle\"},{\"attributes\":{\"callback\":null,\"column_names\":[\"x\",\"y\"],\"data\":{\"x\":[1,2,5,10,20,50,100,200,500,1000,2000,5000,10000,20000,50000,100000,200000,500000],\"y\":[2.2349413484334946e-06,2.8919894248247147e-06,4.932982847094536e-06,8.739996701478958e-06,1.6108970157802105e-05,4.211196210235357e-05,9.71650006249547e-05,0.00022170506417751312,0.0006455769762396812,0.0014229100197553635,0.00310503994114697,0.00859425903763622,0.021596965962089598,0.043651859974488616,0.11191033700015396,0.18856479902751744,0.48616820701863617,1.3338420169893652]}},\"id\":\"5cc57029-5e1c-4749-af9d-2a04ccc077db\",\"type\":\"ColumnDataSource\"},{\"attributes\":{\"fill_color\":{\"value\":\"#ff7f0e\"},\"line_color\":{\"value\":\"#ff7f0e\"},\"x\":{\"field\":\"x\"},\"y\":{\"field\":\"y\"}},\"id\":\"5c09a827-79e7-4a7b-8ac9-4fc2be20926a\",\"type\":\"Circle\"},{\"attributes\":{\"source\":{\"id\":\"9e394d17-a9ca-4e40-9435-6a628a86aa72\",\"type\":\"ColumnDataSource\"}},\"id\":\"11652926-4a97-4537-b7f3-78715eae0231\",\"type\":\"CDSView\"},{\"attributes\":{\"fill_color\":{\"value\":\"#d62728\"},\"line_color\":{\"value\":\"#d62728\"},\"x\":{\"field\":\"x\"},\"y\":{\"field\":\"y\"}},\"id\":\"8d14e943-c6ed-4c21-acba-de08d0b610a9\",\"type\":\"Circle\"},{\"attributes\":{\"data_source\":{\"id\":\"5cc57029-5e1c-4749-af9d-2a04ccc077db\",\"type\":\"ColumnDataSource\"},\"glyph\":{\"id\":\"8f1ad8b7-298f-45ac-81f3-23e114f32c01\",\"type\":\"Line\"},\"hover_glyph\":null,\"muted_glyph\":null,\"nonselection_glyph\":{\"id\":\"00ba503d-9845-4667-9ecd-7ebdc49a931b\",\"type\":\"Line\"},\"selection_glyph\":null,\"view\":{\"id\":\"c2e4fb88-7d2b-40da-b995-923b0378e3e1\",\"type\":\"CDSView\"}},\"id\":\"7e31a140-89c2-440b-998d-1cb7446a90a7\",\"type\":\"GlyphRenderer\"},{\"attributes\":{\"data_source\":{\"id\":\"087f2c40-d6a5-4d25-8bac-07c2918ae427\",\"type\":\"ColumnDataSource\"},\"glyph\":{\"id\":\"5c09a827-79e7-4a7b-8ac9-4fc2be20926a\",\"type\":\"Circle\"},\"hover_glyph\":null,\"muted_glyph\":null,\"nonselection_glyph\":{\"id\":\"a15a29cf-553f-4ec2-989f-e4206c093e65\",\"type\":\"Circle\"},\"selection_glyph\":null,\"view\":{\"id\":\"b8abcf36-1ea8-461d-ae12-6bdf7d29d35b\",\"type\":\"CDSView\"}},\"id\":\"0c0c2e84-cfd5-4dce-83e3-ca898f4a5232\",\"type\":\"GlyphRenderer\"},{\"attributes\":{\"data_source\":{\"id\":\"3eef3373-26f7-4ea8-9fb5-5966bcbf994c\",\"type\":\"ColumnDataSource\"},\"glyph\":{\"id\":\"8d14e943-c6ed-4c21-acba-de08d0b610a9\",\"type\":\"Circle\"},\"hover_glyph\":null,\"muted_glyph\":null,\"nonselection_glyph\":{\"id\":\"7465cc8c-be23-49f3-aa8d-66f409931c91\",\"type\":\"Circle\"},\"selection_glyph\":null,\"view\":{\"id\":\"215e85e6-2444-4a5d-9e87-e38e22dee323\",\"type\":\"CDSView\"}},\"id\":\"7d19410b-d2a4-42c9-8f62-ba0af7b0a368\",\"type\":\"GlyphRenderer\"},{\"attributes\":{\"fill_color\":{\"value\":\"#e377c2\"},\"line_color\":{\"value\":\"#e377c2\"},\"x\":{\"field\":\"x\"},\"y\":{\"field\":\"y\"}},\"id\":\"2fc1c7ea-b16d-4e12-ba30-7da8484791b1\",\"type\":\"Circle\"},{\"attributes\":{\"source\":{\"id\":\"a07c0aab-5211-4c67-a106-42db3af3e49e\",\"type\":\"ColumnDataSource\"}},\"id\":\"11ce380e-26f0-4886-8942-d311b847542e\",\"type\":\"CDSView\"},{\"attributes\":{\"label\":{\"value\":\"primes4\"},\"renderers\":[{\"id\":\"94f52227-f3ca-4474-8c28-373796a5d4e1\",\"type\":\"GlyphRenderer\"},{\"id\":\"7d19410b-d2a4-42c9-8f62-ba0af7b0a368\",\"type\":\"GlyphRenderer\"}]},\"id\":\"b654426b-5c3f-44b5-88b3-0f759e148d59\",\"type\":\"LegendItem\"},{\"attributes\":{\"line_alpha\":0.1,\"line_color\":\"#1f77b4\",\"line_dash\":[6],\"x\":{\"field\":\"x\"},\"y\":{\"field\":\"y\"}},\"id\":\"8773f215-ee9b-4ccd-b668-7782aad4c683\",\"type\":\"Line\"}],\"root_ids\":[\"3ea10b20-b171-4e18-9fa4-bcb7965cfc4d\"]},\"title\":\"Bokeh Application\",\"version\":\"0.12.14\"}};\n",
       "  var render_items = [{\"docid\":\"86af28ec-633e-48be-9495-12c485a48ec8\",\"elementid\":\"2a3800bc-81c9-4943-b9df-aeff57514b18\",\"modelid\":\"3ea10b20-b171-4e18-9fa4-bcb7965cfc4d\",\"notebook_comms_target\":\"c55fc4d0-229a-494a-8196-2a84362e1680\"}];\n",
       "  root.Bokeh.embed.embed_items_notebook(docs_json, render_items);\n",
       "\n",
       "  }\n",
       "  if (root.Bokeh !== undefined) {\n",
       "    embed_document(root);\n",
       "  } else {\n",
       "    var attempts = 0;\n",
       "    var timer = setInterval(function(root) {\n",
       "      if (root.Bokeh !== undefined) {\n",
       "        embed_document(root);\n",
       "        clearInterval(timer);\n",
       "      }\n",
       "      attempts++;\n",
       "      if (attempts > 100) {\n",
       "        console.log(\"Bokeh: ERROR: Unable to run BokehJS code because BokehJS library is missing\")\n",
       "        clearInterval(timer);\n",
       "      }\n",
       "    }, 10, root)\n",
       "  }\n",
       "})(window);"
      ],
      "application/vnd.bokehjs_exec.v0+json": ""
     },
     "metadata": {
      "application/vnd.bokehjs_exec.v0+json": {
       "id": "3ea10b20-b171-4e18-9fa4-bcb7965cfc4d"
      }
     },
     "output_type": "display_data"
    }
   ],
   "source": [
    "timing_plot(primes7)"
   ]
  },
  {
   "cell_type": "markdown",
   "metadata": {
    "slideshow": {
     "slide_type": "slide"
    }
   },
   "source": [
    "We can make a few optimisations:\n",
    "Defaultdict so we don’t have to check if a number is present\n",
    "We skip even numbers, and therefore even multiples of primes\n",
    "When we find a prime, p, the first multiple we have to add to the state is p^2, because smaller multiples will have another factor less than p  (p*q, where q < p).\n"
   ]
  },
  {
   "cell_type": "code",
   "execution_count": 19,
   "metadata": {
    "slideshow": {
     "slide_type": "fragment"
    }
   },
   "outputs": [],
   "source": [
    "from collections import defaultdict\n",
    "from itertools import count\n",
    "\n",
    "def primes8():\n",
    "    yield 2\n",
    "    state = defaultdict(list)\n",
    "    for candidate in count(3, 2):\n",
    "        if candidate in state:\n",
    "            for inc in state[candidate]:\n",
    "                state[candidate + inc].append(inc)\n",
    "            del state[candidate]\n",
    "        else:\n",
    "            yield candidate\n",
    "            state[candidate * candidate] = [2 * candidate]"
   ]
  },
  {
   "cell_type": "code",
   "execution_count": 20,
   "metadata": {
    "slideshow": {
     "slide_type": "slide"
    }
   },
   "outputs": [
    {
     "data": {
      "text/html": [
       "\n",
       "<div class=\"bk-root\">\n",
       "    <div class=\"bk-plotdiv\" id=\"b9126d59-0e35-41d4-b3b6-9b743c885dac\"></div>\n",
       "</div>"
      ]
     },
     "metadata": {},
     "output_type": "display_data"
    },
    {
     "data": {
      "application/javascript": [
       "(function(root) {\n",
       "  function embed_document(root) {\n",
       "    \n",
       "  var docs_json = {\"99446022-de4d-46c3-bf93-0933a995e3f2\":{\"roots\":{\"references\":[{\"attributes\":{\"ticker\":null},\"id\":\"7637eeb7-1d24-498c-9482-2f906890bd1f\",\"type\":\"LogTickFormatter\"},{\"attributes\":{\"source\":{\"id\":\"834440d6-a2a1-4d39-9089-b9b4be26791c\",\"type\":\"ColumnDataSource\"}},\"id\":\"645ec00a-f0e9-4f2f-8bc1-6708bba9cdb6\",\"type\":\"CDSView\"},{\"attributes\":{\"data_source\":{\"id\":\"33b393d8-4e14-4b73-abad-d0424729b7b5\",\"type\":\"ColumnDataSource\"},\"glyph\":{\"id\":\"c597ae79-71d8-4cf3-a1c3-32ed7aef453e\",\"type\":\"Line\"},\"hover_glyph\":null,\"muted_glyph\":null,\"nonselection_glyph\":{\"id\":\"fcdb296c-4a6a-40e5-b60b-e6871eb24455\",\"type\":\"Line\"},\"selection_glyph\":null,\"view\":{\"id\":\"5cb4df1c-f938-4ac0-b0ce-2cdff2315406\",\"type\":\"CDSView\"}},\"id\":\"12e448ee-1d9a-4e4b-9813-b4b0f48712a8\",\"type\":\"GlyphRenderer\"},{\"attributes\":{\"data_source\":{\"id\":\"834440d6-a2a1-4d39-9089-b9b4be26791c\",\"type\":\"ColumnDataSource\"},\"glyph\":{\"id\":\"c293a84a-b1d8-454d-81e2-af4252279f25\",\"type\":\"Line\"},\"hover_glyph\":null,\"muted_glyph\":null,\"nonselection_glyph\":{\"id\":\"b1b7a14e-6ee7-41db-873a-042671da2b5f\",\"type\":\"Line\"},\"selection_glyph\":null,\"view\":{\"id\":\"645ec00a-f0e9-4f2f-8bc1-6708bba9cdb6\",\"type\":\"CDSView\"}},\"id\":\"e4c4029a-9cdd-4525-93d0-6059fc415732\",\"type\":\"GlyphRenderer\"},{\"attributes\":{\"source\":{\"id\":\"33b393d8-4e14-4b73-abad-d0424729b7b5\",\"type\":\"ColumnDataSource\"}},\"id\":\"5cb4df1c-f938-4ac0-b0ce-2cdff2315406\",\"type\":\"CDSView\"},{\"attributes\":{\"callback\":null,\"column_names\":[\"x\",\"y\"],\"data\":{\"x\":[1,2,5,10,20,50,100,200,500,1000,2000,5000,10000,20000,50000],\"y\":[1.4400575309991837e-06,2.609100192785263e-06,1.1423020623624325e-05,1.527706626802683e-05,6.611598655581474e-05,0.00011964596342295408,0.0005128270713612437,0.0007289999630302191,0.0026792309945449233,0.006290751043707132,0.016653549042530358,0.056266322964802384,0.14411914395168424,0.30627229798119515,1.3236096629407257]}},\"id\":\"3a6a4b6e-b0fc-4d3c-8b6d-8b8297465640\",\"type\":\"ColumnDataSource\"},{\"attributes\":{\"line_color\":\"#7f7f7f\",\"x\":{\"field\":\"x\"},\"y\":{\"field\":\"y\"}},\"id\":\"f19e6a38-490c-41a2-ab4a-f42b22b0290a\",\"type\":\"Line\"},{\"attributes\":{\"source\":{\"id\":\"f6022e4f-df84-4622-81e4-333c09d2c62d\",\"type\":\"ColumnDataSource\"}},\"id\":\"04c67a00-e072-49ff-9241-3d96c81cb847\",\"type\":\"CDSView\"},{\"attributes\":{\"data_source\":{\"id\":\"dc16775d-8114-480b-8745-d76160da4a26\",\"type\":\"ColumnDataSource\"},\"glyph\":{\"id\":\"697ec4dc-f807-4f40-8f7a-ec2700cd4ac6\",\"type\":\"Line\"},\"hover_glyph\":null,\"muted_glyph\":null,\"nonselection_glyph\":{\"id\":\"6ed88010-2a4e-4a99-befc-2c62a15ff0d0\",\"type\":\"Line\"},\"selection_glyph\":null,\"view\":{\"id\":\"eea4efbf-32f0-4934-8751-d0b0910f2997\",\"type\":\"CDSView\"}},\"id\":\"a680ca61-2da4-40b1-89df-1f3eff951faf\",\"type\":\"GlyphRenderer\"},{\"attributes\":{\"source\":{\"id\":\"dc16775d-8114-480b-8745-d76160da4a26\",\"type\":\"ColumnDataSource\"}},\"id\":\"eea4efbf-32f0-4934-8751-d0b0910f2997\",\"type\":\"CDSView\"},{\"attributes\":{\"label\":{\"value\":\"primes7\"},\"renderers\":[{\"id\":\"a5d99f98-82ed-45a8-bec4-e3417de18814\",\"type\":\"GlyphRenderer\"},{\"id\":\"34460048-2176-4be8-9c2c-33116f19327d\",\"type\":\"GlyphRenderer\"}]},\"id\":\"256d1f44-018d-452c-9ca2-6d95a35146ba\",\"type\":\"LegendItem\"},{\"attributes\":{\"callback\":null,\"column_names\":[\"x\",\"y\"],\"data\":{\"x\":[1,2,5,10,20,50,100,200,500,1000,2000,5000,10000,20000,50000],\"y\":[1.4400575309991837e-06,2.609100192785263e-06,1.1423020623624325e-05,1.527706626802683e-05,6.611598655581474e-05,0.00011964596342295408,0.0005128270713612437,0.0007289999630302191,0.0026792309945449233,0.006290751043707132,0.016653549042530358,0.056266322964802384,0.14411914395168424,0.30627229798119515,1.3236096629407257]}},\"id\":\"834440d6-a2a1-4d39-9089-b9b4be26791c\",\"type\":\"ColumnDataSource\"},{\"attributes\":{\"label\":{\"value\":\"primes8\"},\"renderers\":[{\"id\":\"c7d2987e-a72e-4532-8ccd-2dc918b22417\",\"type\":\"GlyphRenderer\"},{\"id\":\"6003b63f-d924-40e4-8ff0-a1a808d55fd3\",\"type\":\"GlyphRenderer\"}]},\"id\":\"621ee9fd-3ab2-47fa-9e99-d27335a13d77\",\"type\":\"LegendItem\"},{\"attributes\":{\"source\":{\"id\":\"3fb12365-9a91-4adb-a3f9-29fdb0b0ae29\",\"type\":\"ColumnDataSource\"}},\"id\":\"500c3c49-5859-4682-9372-3b1c5fd7f26a\",\"type\":\"CDSView\"},{\"attributes\":{\"line_alpha\":0.1,\"line_color\":\"#1f77b4\",\"x\":{\"field\":\"x\"},\"y\":{\"field\":\"y\"}},\"id\":\"486dbd52-d7a0-4d54-b99a-e4082640470b\",\"type\":\"Line\"},{\"attributes\":{\"fill_color\":{\"value\":\"#e377c2\"},\"line_color\":{\"value\":\"#e377c2\"},\"x\":{\"field\":\"x\"},\"y\":{\"field\":\"y\"}},\"id\":\"fb63278d-b8f3-42ed-a17b-bae1dd979807\",\"type\":\"Circle\"},{\"attributes\":{\"line_color\":\"#2ca02c\",\"line_dash\":[6],\"x\":{\"field\":\"x\"},\"y\":{\"field\":\"y\"}},\"id\":\"c293a84a-b1d8-454d-81e2-af4252279f25\",\"type\":\"Line\"},{\"attributes\":{\"data_source\":{\"id\":\"f6022e4f-df84-4622-81e4-333c09d2c62d\",\"type\":\"ColumnDataSource\"},\"glyph\":{\"id\":\"e30ee050-b41f-476e-b76b-40c6b4d789bc\",\"type\":\"Line\"},\"hover_glyph\":null,\"muted_glyph\":null,\"nonselection_glyph\":{\"id\":\"95e5a02e-15d1-47ad-b2cf-90a5ad332204\",\"type\":\"Line\"},\"selection_glyph\":null,\"view\":{\"id\":\"04c67a00-e072-49ff-9241-3d96c81cb847\",\"type\":\"CDSView\"}},\"id\":\"a5d99f98-82ed-45a8-bec4-e3417de18814\",\"type\":\"GlyphRenderer\"},{\"attributes\":{\"data_source\":{\"id\":\"562a0486-5845-4778-a2e3-bfcdecc1f63e\",\"type\":\"ColumnDataSource\"},\"glyph\":{\"id\":\"5b84ad0b-b7b8-44ee-92bc-dc163b8b89ca\",\"type\":\"Circle\"},\"hover_glyph\":null,\"muted_glyph\":null,\"nonselection_glyph\":{\"id\":\"65d8ab54-5611-462a-b87d-20290cdac8f3\",\"type\":\"Circle\"},\"selection_glyph\":null,\"view\":{\"id\":\"d1cc1c47-ba0b-4660-b8f9-a45b2ad17bfa\",\"type\":\"CDSView\"}},\"id\":\"67e66b8f-1337-43b2-9c38-a7fd98cf4ef2\",\"type\":\"GlyphRenderer\"},{\"attributes\":{\"data_source\":{\"id\":\"24f02a47-3efd-408d-97d1-01eae6dad955\",\"type\":\"ColumnDataSource\"},\"glyph\":{\"id\":\"bc39a42a-7f70-412a-aef1-cc2e89997dd2\",\"type\":\"Line\"},\"hover_glyph\":null,\"muted_glyph\":null,\"nonselection_glyph\":{\"id\":\"279213ca-f1fe-4ce0-b7ff-ebc61d4e2531\",\"type\":\"Line\"},\"selection_glyph\":null,\"view\":{\"id\":\"16d97a51-f0f0-42e4-90c0-7d46b01f6fa4\",\"type\":\"CDSView\"}},\"id\":\"ded90115-6396-4dac-8846-afcaa3cc3e29\",\"type\":\"GlyphRenderer\"},{\"attributes\":{\"callback\":null,\"column_names\":[\"x\",\"y\"],\"data\":{\"x\":[],\"y\":[]}},\"id\":\"abaceaa0-9696-4609-9686-1a845f047d24\",\"type\":\"ColumnDataSource\"},{\"attributes\":{\"fill_alpha\":{\"value\":0.1},\"fill_color\":{\"value\":\"#1f77b4\"},\"line_alpha\":{\"value\":0.1},\"line_color\":{\"value\":\"#1f77b4\"},\"x\":{\"field\":\"x\"},\"y\":{\"field\":\"y\"}},\"id\":\"65d8ab54-5611-462a-b87d-20290cdac8f3\",\"type\":\"Circle\"},{\"attributes\":{\"callback\":null,\"column_names\":[\"x\",\"y\"],\"data\":{\"x\":[1,2,5,10,20,50,100,200,500,1000,2000,5000,10000,20000,50000,100000],\"y\":[1.2130476534366608e-06,1.467997208237648e-06,4.073022864758968e-06,1.1913012713193893e-05,2.84070847555995e-05,0.00010114093311131,0.00031305605079978704,0.0009301169775426388,0.0027803779812529683,0.007217969978228211,0.01995837700087577,0.05737720604520291,0.11856548697687685,0.21435352298431098,0.786697433097288,1.6622191059868783]}},\"id\":\"b228b4fb-8dfc-48fd-ac7d-d158cf110d83\",\"type\":\"ColumnDataSource\"},{\"attributes\":{\"source\":{\"id\":\"562a0486-5845-4778-a2e3-bfcdecc1f63e\",\"type\":\"ColumnDataSource\"}},\"id\":\"d1cc1c47-ba0b-4660-b8f9-a45b2ad17bfa\",\"type\":\"CDSView\"},{\"attributes\":{\"source\":{\"id\":\"c8e411e6-c933-470a-bfdb-73f41d071167\",\"type\":\"ColumnDataSource\"}},\"id\":\"91a48e41-6437-44eb-9141-79b6378e4904\",\"type\":\"CDSView\"},{\"attributes\":{\"data_source\":{\"id\":\"3fb12365-9a91-4adb-a3f9-29fdb0b0ae29\",\"type\":\"ColumnDataSource\"},\"glyph\":{\"id\":\"ae79fe9e-e832-4119-8036-e7bbd3658f8b\",\"type\":\"Circle\"},\"hover_glyph\":null,\"muted_glyph\":null,\"nonselection_glyph\":{\"id\":\"8f95a835-4021-41a5-b5ef-1ab6cac895f0\",\"type\":\"Circle\"},\"selection_glyph\":null,\"view\":{\"id\":\"500c3c49-5859-4682-9372-3b1c5fd7f26a\",\"type\":\"CDSView\"}},\"id\":\"c76374f1-e72f-484c-8f92-c248dad8caad\",\"type\":\"GlyphRenderer\"},{\"attributes\":{\"line_color\":\"#8c564b\",\"line_dash\":[6],\"x\":{\"field\":\"x\"},\"y\":{\"field\":\"y\"}},\"id\":\"51a387db-9c1f-47df-b7cd-e395ceec979c\",\"type\":\"Line\"},{\"attributes\":{\"data_source\":{\"id\":\"b228b4fb-8dfc-48fd-ac7d-d158cf110d83\",\"type\":\"ColumnDataSource\"},\"glyph\":{\"id\":\"fb63278d-b8f3-42ed-a17b-bae1dd979807\",\"type\":\"Circle\"},\"hover_glyph\":null,\"muted_glyph\":null,\"nonselection_glyph\":{\"id\":\"37b595ea-8078-4f64-a153-0a349add29ac\",\"type\":\"Circle\"},\"selection_glyph\":null,\"view\":{\"id\":\"170adbc5-ef81-4f63-ac52-533d7245bf33\",\"type\":\"CDSView\"}},\"id\":\"34460048-2176-4be8-9c2c-33116f19327d\",\"type\":\"GlyphRenderer\"},{\"attributes\":{\"fill_color\":{\"value\":\"#ff7f0e\"},\"line_color\":{\"value\":\"#ff7f0e\"},\"x\":{\"field\":\"x\"},\"y\":{\"field\":\"y\"}},\"id\":\"5b84ad0b-b7b8-44ee-92bc-dc163b8b89ca\",\"type\":\"Circle\"},{\"attributes\":{\"fill_alpha\":{\"value\":0.1},\"fill_color\":{\"value\":\"#1f77b4\"},\"line_alpha\":{\"value\":0.1},\"line_color\":{\"value\":\"#1f77b4\"},\"x\":{\"field\":\"x\"},\"y\":{\"field\":\"y\"}},\"id\":\"37b595ea-8078-4f64-a153-0a349add29ac\",\"type\":\"Circle\"},{\"attributes\":{\"line_alpha\":0.1,\"line_color\":\"#1f77b4\",\"line_dash\":[6],\"x\":{\"field\":\"x\"},\"y\":{\"field\":\"y\"}},\"id\":\"b1b7a14e-6ee7-41db-873a-042671da2b5f\",\"type\":\"Line\"},{\"attributes\":{\"callback\":null,\"column_names\":[\"x\",\"y\"],\"data\":{\"x\":[1,2,5,10,20,50,100,200,500,1000,2000,5000,10000,20000,50000,100000,200000,500000],\"y\":[2.2349413484334946e-06,2.8919894248247147e-06,4.932982847094536e-06,8.739996701478958e-06,1.6108970157802105e-05,4.211196210235357e-05,9.71650006249547e-05,0.00022170506417751312,0.0006455769762396812,0.0014229100197553635,0.00310503994114697,0.00859425903763622,0.021596965962089598,0.043651859974488616,0.11191033700015396,0.18856479902751744,0.48616820701863617,1.3338420169893652]}},\"id\":\"98eacc87-171e-42fe-9924-092eec0ff80e\",\"type\":\"ColumnDataSource\"},{\"attributes\":{\"label\":{\"value\":\"primes3\"},\"renderers\":[{\"id\":\"e4c4029a-9cdd-4525-93d0-6059fc415732\",\"type\":\"GlyphRenderer\"},{\"id\":\"c455cfcb-8b1c-4e28-9051-2db9b9a8dbae\",\"type\":\"GlyphRenderer\"}]},\"id\":\"8c2b6706-430f-4e3e-b938-260723747bce\",\"type\":\"LegendItem\"},{\"attributes\":{\"line_alpha\":0.1,\"line_color\":\"#1f77b4\",\"line_dash\":[6],\"x\":{\"field\":\"x\"},\"y\":{\"field\":\"y\"}},\"id\":\"67dabedb-4dee-44c2-8d3a-e8fdaab7f660\",\"type\":\"Line\"},{\"attributes\":{\"source\":{\"id\":\"b228b4fb-8dfc-48fd-ac7d-d158cf110d83\",\"type\":\"ColumnDataSource\"}},\"id\":\"170adbc5-ef81-4f63-ac52-533d7245bf33\",\"type\":\"CDSView\"},{\"attributes\":{\"plot\":null,\"text\":\"Timing\"},\"id\":\"3a5795ce-c3b1-4495-b7bf-18ce64b43c35\",\"type\":\"Title\"},{\"attributes\":{\"fill_alpha\":{\"value\":0.1},\"fill_color\":{\"value\":\"#1f77b4\"},\"line_alpha\":{\"value\":0.1},\"line_color\":{\"value\":\"#1f77b4\"},\"x\":{\"field\":\"x\"},\"y\":{\"field\":\"y\"}},\"id\":\"ac91c9ae-291b-4c23-9456-933a3d0fb946\",\"type\":\"Circle\"},{\"attributes\":{\"fill_alpha\":{\"value\":0.1},\"fill_color\":{\"value\":\"#1f77b4\"},\"line_alpha\":{\"value\":0.1},\"line_color\":{\"value\":\"#1f77b4\"},\"x\":{\"field\":\"x\"},\"y\":{\"field\":\"y\"}},\"id\":\"59a32f60-8c70-429e-8f4b-c82b327fda32\",\"type\":\"Circle\"},{\"attributes\":{\"source\":{\"id\":\"24f02a47-3efd-408d-97d1-01eae6dad955\",\"type\":\"ColumnDataSource\"}},\"id\":\"16d97a51-f0f0-42e4-90c0-7d46b01f6fa4\",\"type\":\"CDSView\"},{\"attributes\":{\"fill_color\":{\"value\":\"#2ca02c\"},\"line_color\":{\"value\":\"#2ca02c\"},\"x\":{\"field\":\"x\"},\"y\":{\"field\":\"y\"}},\"id\":\"3a7607a9-1ade-4f07-ab8b-b677be920cbb\",\"type\":\"Circle\"},{\"attributes\":{\"label\":{\"value\":\"primes6\"},\"renderers\":[{\"id\":\"d7f21ec3-8fce-44ad-8ace-dfdccad0164e\",\"type\":\"GlyphRenderer\"},{\"id\":\"90549f8c-fade-4e3c-a7b0-593560bb7425\",\"type\":\"GlyphRenderer\"}]},\"id\":\"6dd49d01-773e-4568-8a7f-d6b6d97d591a\",\"type\":\"LegendItem\"},{\"attributes\":{\"fill_color\":{\"value\":\"#7f7f7f\"},\"line_color\":{\"value\":\"#7f7f7f\"},\"x\":{\"field\":\"x\"},\"y\":{\"field\":\"y\"}},\"id\":\"8005ffb2-01fd-4f7e-9d87-c9f63fea65b1\",\"type\":\"Circle\"},{\"attributes\":{\"data_source\":{\"id\":\"8064dcf9-8bd3-48b5-b9d0-2b64e05c3c3f\",\"type\":\"ColumnDataSource\"},\"glyph\":{\"id\":\"2509a66c-c1fb-4470-9a3f-66104c74ac4a\",\"type\":\"Circle\"},\"hover_glyph\":null,\"muted_glyph\":null,\"nonselection_glyph\":{\"id\":\"30ebaf4e-098a-4ae9-9a77-340274c7e1d5\",\"type\":\"Circle\"},\"selection_glyph\":null,\"view\":{\"id\":\"b62bcaa6-092c-4be8-b2ff-2297645f092a\",\"type\":\"CDSView\"}},\"id\":\"90549f8c-fade-4e3c-a7b0-593560bb7425\",\"type\":\"GlyphRenderer\"},{\"attributes\":{\"fill_alpha\":{\"value\":0.1},\"fill_color\":{\"value\":\"#1f77b4\"},\"line_alpha\":{\"value\":0.1},\"line_color\":{\"value\":\"#1f77b4\"},\"x\":{\"field\":\"x\"},\"y\":{\"field\":\"y\"}},\"id\":\"8f95a835-4021-41a5-b5ef-1ab6cac895f0\",\"type\":\"Circle\"},{\"attributes\":{\"data_source\":{\"id\":\"abaceaa0-9696-4609-9686-1a845f047d24\",\"type\":\"ColumnDataSource\"},\"glyph\":{\"id\":\"8005ffb2-01fd-4f7e-9d87-c9f63fea65b1\",\"type\":\"Circle\"},\"hover_glyph\":null,\"muted_glyph\":null,\"nonselection_glyph\":{\"id\":\"59a32f60-8c70-429e-8f4b-c82b327fda32\",\"type\":\"Circle\"},\"selection_glyph\":null,\"view\":{\"id\":\"7ca87b40-7bef-4b1e-b6d1-5bc1b2e99ea9\",\"type\":\"CDSView\"}},\"id\":\"6003b63f-d924-40e4-8ff0-a1a808d55fd3\",\"type\":\"GlyphRenderer\"},{\"attributes\":{\"callback\":null,\"column_names\":[\"x\",\"y\"],\"data\":{\"x\":[1,2,5,10,20,50,100,200,500,1000,2000],\"y\":[2.2810418158769608e-06,2.5780173018574715e-06,7.209018804132938e-06,2.0492938347160816e-05,6.410805508494377e-05,0.00035123503766953945,0.0015158610185608268,0.007402612012811005,0.0685258429730311,0.26473734504543245,1.2196230669505894]}},\"id\":\"70caab68-ca60-40af-bccc-c53655ae8ac3\",\"type\":\"ColumnDataSource\"},{\"attributes\":{\"callback\":null,\"column_names\":[\"x\",\"y\"],\"data\":{\"x\":[1,2,5,10,20,50,100,200,500,1000,2000,5000,10000,20000,50000,100000,200000,500000],\"y\":[2.117943949997425e-06,2.710963599383831e-06,4.56592533737421e-06,8.409959264099598e-06,1.7025042325258255e-05,4.580290988087654e-05,0.00011415104381740093,0.00026345602236688137,0.0007764929905533791,0.0017927349545061588,0.004129466018639505,0.01259315200150013,0.02941844705492258,0.0757505769142881,0.14851688093040138,0.3747408129274845,0.8833944080397487,2.6799722670111805]}},\"id\":\"c8e411e6-c933-470a-bfdb-73f41d071167\",\"type\":\"ColumnDataSource\"},{\"attributes\":{\"source\":{\"id\":\"abaceaa0-9696-4609-9686-1a845f047d24\",\"type\":\"ColumnDataSource\"}},\"id\":\"7ca87b40-7bef-4b1e-b6d1-5bc1b2e99ea9\",\"type\":\"CDSView\"},{\"attributes\":{\"fill_color\":{\"value\":\"#1f77b4\"},\"line_color\":{\"value\":\"#1f77b4\"},\"x\":{\"field\":\"x\"},\"y\":{\"field\":\"y\"}},\"id\":\"c17965f3-c9c0-47ea-86d8-c72b85a19159\",\"type\":\"Circle\"},{\"attributes\":{\"callback\":null,\"column_names\":[\"x\",\"y\"],\"data\":{\"x\":[1,2,5,10,20,50,100,200,500,1000,2000,5000,10000,20000,50000,100000],\"y\":[1.2130476534366608e-06,1.467997208237648e-06,4.073022864758968e-06,1.1913012713193893e-05,2.84070847555995e-05,0.00010114093311131,0.00031305605079978704,0.0009301169775426388,0.0027803779812529683,0.007217969978228211,0.01995837700087577,0.05737720604520291,0.11856548697687685,0.21435352298431098,0.786697433097288,1.6622191059868783]}},\"id\":\"f6022e4f-df84-4622-81e4-333c09d2c62d\",\"type\":\"ColumnDataSource\"},{\"attributes\":{\"callback\":null,\"column_names\":[\"x\",\"y\"],\"data\":{\"x\":[1,2,5,10,20,50,100,200,500,1000,2000,5000],\"y\":[1.4139804989099503e-06,2.2620661184191704e-06,5.381996743381023e-06,1.3141077943146229e-05,3.996898885816336e-05,0.00021801097318530083,0.0009484479669481516,0.004649461014196277,0.033985527930781245,0.14049233100377023,0.6119923630030826,4.361634815926664]}},\"id\":\"dc16775d-8114-480b-8745-d76160da4a26\",\"type\":\"ColumnDataSource\"},{\"attributes\":{\"source\":{\"id\":\"abaceaa0-9696-4609-9686-1a845f047d24\",\"type\":\"ColumnDataSource\"}},\"id\":\"3cfc358b-f057-45d1-afa3-7d6f67ba2cff\",\"type\":\"CDSView\"},{\"attributes\":{\"format\":\"0[.]0 a\"},\"id\":\"5194d23a-71f5-4068-8917-4ebca945281b\",\"type\":\"NumeralTickFormatter\"},{\"attributes\":{\"callback\":null,\"column_names\":[\"x\",\"y\"],\"data\":{\"x\":[1,2,5,10,20,50,100,200,500,1000,2000,5000,10000,20000,50000,100000,200000,500000],\"y\":[2.117943949997425e-06,2.710963599383831e-06,4.56592533737421e-06,8.409959264099598e-06,1.7025042325258255e-05,4.580290988087654e-05,0.00011415104381740093,0.00026345602236688137,0.0007764929905533791,0.0017927349545061588,0.004129466018639505,0.01259315200150013,0.02941844705492258,0.0757505769142881,0.14851688093040138,0.3747408129274845,0.8833944080397487,2.6799722670111805]}},\"id\":\"3fb12365-9a91-4adb-a3f9-29fdb0b0ae29\",\"type\":\"ColumnDataSource\"},{\"attributes\":{\"fill_color\":{\"value\":\"#8c564b\"},\"line_color\":{\"value\":\"#8c564b\"},\"x\":{\"field\":\"x\"},\"y\":{\"field\":\"y\"}},\"id\":\"2509a66c-c1fb-4470-9a3f-66104c74ac4a\",\"type\":\"Circle\"},{\"attributes\":{\"line_color\":\"#9467bd\",\"line_dash\":[6],\"x\":{\"field\":\"x\"},\"y\":{\"field\":\"y\"}},\"id\":\"bc39a42a-7f70-412a-aef1-cc2e89997dd2\",\"type\":\"Line\"},{\"attributes\":{\"line_alpha\":0.1,\"line_color\":\"#1f77b4\",\"line_dash\":[6],\"x\":{\"field\":\"x\"},\"y\":{\"field\":\"y\"}},\"id\":\"6ed88010-2a4e-4a99-befc-2c62a15ff0d0\",\"type\":\"Line\"},{\"attributes\":{\"callback\":null,\"column_names\":[\"x\",\"y\"],\"data\":{\"x\":[1,2,5,10,20,50,100,200,500,1000,2000,5000],\"y\":[1.4139804989099503e-06,2.2620661184191704e-06,5.381996743381023e-06,1.3141077943146229e-05,3.996898885816336e-05,0.00021801097318530083,0.0009484479669481516,0.004649461014196277,0.033985527930781245,0.14049233100377023,0.6119923630030826,4.361634815926664]}},\"id\":\"562a0486-5845-4778-a2e3-bfcdecc1f63e\",\"type\":\"ColumnDataSource\"},{\"attributes\":{\"label\":{\"value\":\"primes1\"},\"renderers\":[{\"id\":\"12e448ee-1d9a-4e4b-9813-b4b0f48712a8\",\"type\":\"GlyphRenderer\"},{\"id\":\"0c939640-4d53-4901-ae08-be19fef6d6b2\",\"type\":\"GlyphRenderer\"}]},\"id\":\"a6a89728-99f6-406c-a410-ff1b4c384cf0\",\"type\":\"LegendItem\"},{\"attributes\":{\"line_color\":\"#ff7f0e\",\"line_dash\":[6],\"x\":{\"field\":\"x\"},\"y\":{\"field\":\"y\"}},\"id\":\"697ec4dc-f807-4f40-8f7a-ec2700cd4ac6\",\"type\":\"Line\"},{\"attributes\":{\"data_source\":{\"id\":\"abaceaa0-9696-4609-9686-1a845f047d24\",\"type\":\"ColumnDataSource\"},\"glyph\":{\"id\":\"f19e6a38-490c-41a2-ab4a-f42b22b0290a\",\"type\":\"Line\"},\"hover_glyph\":null,\"muted_glyph\":null,\"nonselection_glyph\":{\"id\":\"486dbd52-d7a0-4d54-b99a-e4082640470b\",\"type\":\"Line\"},\"selection_glyph\":null,\"view\":{\"id\":\"3cfc358b-f057-45d1-afa3-7d6f67ba2cff\",\"type\":\"CDSView\"}},\"id\":\"c7d2987e-a72e-4532-8ccd-2dc918b22417\",\"type\":\"GlyphRenderer\"},{\"attributes\":{\"label\":{\"value\":\"primes2\"},\"renderers\":[{\"id\":\"a680ca61-2da4-40b1-89df-1f3eff951faf\",\"type\":\"GlyphRenderer\"},{\"id\":\"67e66b8f-1337-43b2-9c38-a7fd98cf4ef2\",\"type\":\"GlyphRenderer\"}]},\"id\":\"671634c6-fbf1-4d11-8dd0-aa2eb0d93d99\",\"type\":\"LegendItem\"},{\"attributes\":{\"callback\":null,\"column_names\":[\"x\",\"y\"],\"data\":{\"x\":[1,2,5,10,20,50,100,200,500,1000,2000,5000,10000,20000,50000,100000,200000,500000],\"y\":[2.2349413484334946e-06,2.8919894248247147e-06,4.932982847094536e-06,8.739996701478958e-06,1.6108970157802105e-05,4.211196210235357e-05,9.71650006249547e-05,0.00022170506417751312,0.0006455769762396812,0.0014229100197553635,0.00310503994114697,0.00859425903763622,0.021596965962089598,0.043651859974488616,0.11191033700015396,0.18856479902751744,0.48616820701863617,1.3338420169893652]}},\"id\":\"24f02a47-3efd-408d-97d1-01eae6dad955\",\"type\":\"ColumnDataSource\"},{\"attributes\":{\"fill_alpha\":{\"value\":0.1},\"fill_color\":{\"value\":\"#1f77b4\"},\"line_alpha\":{\"value\":0.1},\"line_color\":{\"value\":\"#1f77b4\"},\"x\":{\"field\":\"x\"},\"y\":{\"field\":\"y\"}},\"id\":\"4fa96739-a3bb-425f-bee6-06401f2b286a\",\"type\":\"Circle\"},{\"attributes\":{\"line_color\":\"#e377c2\",\"line_dash\":[6],\"x\":{\"field\":\"x\"},\"y\":{\"field\":\"y\"}},\"id\":\"e30ee050-b41f-476e-b76b-40c6b4d789bc\",\"type\":\"Line\"},{\"attributes\":{\"source\":{\"id\":\"70caab68-ca60-40af-bccc-c53655ae8ac3\",\"type\":\"ColumnDataSource\"}},\"id\":\"246771f6-3a7e-412c-a9b9-4796f3404f88\",\"type\":\"CDSView\"},{\"attributes\":{\"data_source\":{\"id\":\"70caab68-ca60-40af-bccc-c53655ae8ac3\",\"type\":\"ColumnDataSource\"},\"glyph\":{\"id\":\"c17965f3-c9c0-47ea-86d8-c72b85a19159\",\"type\":\"Circle\"},\"hover_glyph\":null,\"muted_glyph\":null,\"nonselection_glyph\":{\"id\":\"4fa96739-a3bb-425f-bee6-06401f2b286a\",\"type\":\"Circle\"},\"selection_glyph\":null,\"view\":{\"id\":\"246771f6-3a7e-412c-a9b9-4796f3404f88\",\"type\":\"CDSView\"}},\"id\":\"0c939640-4d53-4901-ae08-be19fef6d6b2\",\"type\":\"GlyphRenderer\"},{\"attributes\":{},\"id\":\"62b109a3-fc86-4667-8d2c-84d0820e34bc\",\"type\":\"HelpTool\"},{\"attributes\":{\"line_color\":\"#d62728\",\"line_dash\":[6],\"x\":{\"field\":\"x\"},\"y\":{\"field\":\"y\"}},\"id\":\"29a913b7-3e9b-4c1a-bb4b-427f603fee24\",\"type\":\"Line\"},{\"attributes\":{\"fill_color\":{\"value\":\"#d62728\"},\"line_color\":{\"value\":\"#d62728\"},\"x\":{\"field\":\"x\"},\"y\":{\"field\":\"y\"}},\"id\":\"ae79fe9e-e832-4119-8036-e7bbd3658f8b\",\"type\":\"Circle\"},{\"attributes\":{\"background_fill_alpha\":{\"value\":0.5},\"click_policy\":\"hide\",\"items\":[{\"id\":\"a6a89728-99f6-406c-a410-ff1b4c384cf0\",\"type\":\"LegendItem\"},{\"id\":\"671634c6-fbf1-4d11-8dd0-aa2eb0d93d99\",\"type\":\"LegendItem\"},{\"id\":\"8c2b6706-430f-4e3e-b938-260723747bce\",\"type\":\"LegendItem\"},{\"id\":\"f52b650c-d47b-4c85-898f-0a0f1600be5d\",\"type\":\"LegendItem\"},{\"id\":\"9e6105c3-ccb0-4895-8bb5-d16e200c6923\",\"type\":\"LegendItem\"},{\"id\":\"6dd49d01-773e-4568-8a7f-d6b6d97d591a\",\"type\":\"LegendItem\"},{\"id\":\"256d1f44-018d-452c-9ca2-6d95a35146ba\",\"type\":\"LegendItem\"},{\"id\":\"621ee9fd-3ab2-47fa-9e99-d27335a13d77\",\"type\":\"LegendItem\"}],\"location\":\"top_left\",\"plot\":{\"id\":\"0667c14a-951f-4940-b78c-30e1a723fe04\",\"subtype\":\"Figure\",\"type\":\"Plot\"}},\"id\":\"fe4cdcd2-1810-4fbd-a90d-4be9cafefb60\",\"type\":\"Legend\"},{\"attributes\":{\"callback\":null,\"start\":1},\"id\":\"4af423ce-7427-4e3b-a80d-f44e6bac2f2d\",\"type\":\"DataRange1d\"},{\"attributes\":{\"line_alpha\":0.1,\"line_color\":\"#1f77b4\",\"line_dash\":[6],\"x\":{\"field\":\"x\"},\"y\":{\"field\":\"y\"}},\"id\":\"279213ca-f1fe-4ce0-b7ff-ebc61d4e2531\",\"type\":\"Line\"},{\"attributes\":{\"below\":[{\"id\":\"87caefc5-6ae1-403d-ad54-6b7ae40ac47f\",\"type\":\"LogAxis\"}],\"left\":[{\"id\":\"62325bd3-b047-4a7f-8caa-929f14755a5a\",\"type\":\"LogAxis\"}],\"plot_height\":400,\"plot_width\":800,\"renderers\":[{\"id\":\"87caefc5-6ae1-403d-ad54-6b7ae40ac47f\",\"type\":\"LogAxis\"},{\"id\":\"516fb1e5-b8cc-4902-b5f0-e229440c4585\",\"type\":\"Grid\"},{\"id\":\"62325bd3-b047-4a7f-8caa-929f14755a5a\",\"type\":\"LogAxis\"},{\"id\":\"3eac0389-504c-4580-b81c-723d3c7433aa\",\"type\":\"Grid\"},{\"id\":\"ea1fcdc8-b3fd-4380-8ccc-394150c5e4e0\",\"type\":\"BoxAnnotation\"},{\"id\":\"fe4cdcd2-1810-4fbd-a90d-4be9cafefb60\",\"type\":\"Legend\"},{\"id\":\"12e448ee-1d9a-4e4b-9813-b4b0f48712a8\",\"type\":\"GlyphRenderer\"},{\"id\":\"0c939640-4d53-4901-ae08-be19fef6d6b2\",\"type\":\"GlyphRenderer\"},{\"id\":\"a680ca61-2da4-40b1-89df-1f3eff951faf\",\"type\":\"GlyphRenderer\"},{\"id\":\"67e66b8f-1337-43b2-9c38-a7fd98cf4ef2\",\"type\":\"GlyphRenderer\"},{\"id\":\"e4c4029a-9cdd-4525-93d0-6059fc415732\",\"type\":\"GlyphRenderer\"},{\"id\":\"c455cfcb-8b1c-4e28-9051-2db9b9a8dbae\",\"type\":\"GlyphRenderer\"},{\"id\":\"15bc93b7-978b-4fb6-b4de-5ca1b2fb000f\",\"type\":\"GlyphRenderer\"},{\"id\":\"c76374f1-e72f-484c-8f92-c248dad8caad\",\"type\":\"GlyphRenderer\"},{\"id\":\"ded90115-6396-4dac-8846-afcaa3cc3e29\",\"type\":\"GlyphRenderer\"},{\"id\":\"01ba8327-b63b-40b1-93e1-10bd642f3dfb\",\"type\":\"GlyphRenderer\"},{\"id\":\"d7f21ec3-8fce-44ad-8ace-dfdccad0164e\",\"type\":\"GlyphRenderer\"},{\"id\":\"90549f8c-fade-4e3c-a7b0-593560bb7425\",\"type\":\"GlyphRenderer\"},{\"id\":\"a5d99f98-82ed-45a8-bec4-e3417de18814\",\"type\":\"GlyphRenderer\"},{\"id\":\"34460048-2176-4be8-9c2c-33116f19327d\",\"type\":\"GlyphRenderer\"},{\"id\":\"c7d2987e-a72e-4532-8ccd-2dc918b22417\",\"type\":\"GlyphRenderer\"},{\"id\":\"6003b63f-d924-40e4-8ff0-a1a808d55fd3\",\"type\":\"GlyphRenderer\"}],\"title\":{\"id\":\"3a5795ce-c3b1-4495-b7bf-18ce64b43c35\",\"type\":\"Title\"},\"toolbar\":{\"id\":\"622f98f1-421f-437d-9c50-85187e72b0a9\",\"type\":\"Toolbar\"},\"toolbar_location\":\"above\",\"x_range\":{\"id\":\"4af423ce-7427-4e3b-a80d-f44e6bac2f2d\",\"type\":\"DataRange1d\"},\"x_scale\":{\"id\":\"85d37376-5a5b-4064-9950-f0069a401338\",\"type\":\"LogScale\"},\"y_range\":{\"id\":\"0aadb5e4-9c1f-461c-b27d-ce38556cb0db\",\"type\":\"Range1d\"},\"y_scale\":{\"id\":\"b64963d8-1c61-43fb-8bb3-9a522e16c281\",\"type\":\"LogScale\"}},\"id\":\"0667c14a-951f-4940-b78c-30e1a723fe04\",\"subtype\":\"Figure\",\"type\":\"Plot\"},{\"attributes\":{\"callback\":null,\"start\":1e-06},\"id\":\"0aadb5e4-9c1f-461c-b27d-ce38556cb0db\",\"type\":\"Range1d\"},{\"attributes\":{\"active_drag\":\"auto\",\"active_inspect\":\"auto\",\"active_scroll\":\"auto\",\"active_tap\":\"auto\",\"tools\":[{\"id\":\"fc5a9ce6-f06a-4709-900d-0d56041eac1b\",\"type\":\"PanTool\"},{\"id\":\"61b0116b-2e8b-444f-85c7-43c6c8352724\",\"type\":\"WheelZoomTool\"},{\"id\":\"96886105-5416-4d81-80fd-867a3c9c716f\",\"type\":\"BoxZoomTool\"},{\"id\":\"0c36c11e-18c3-4008-96ec-00b19f9ff631\",\"type\":\"SaveTool\"},{\"id\":\"9868a0f1-6455-4098-9870-c63b330dc0a8\",\"type\":\"ResetTool\"},{\"id\":\"62b109a3-fc86-4667-8d2c-84d0820e34bc\",\"type\":\"HelpTool\"}]},\"id\":\"622f98f1-421f-437d-9c50-85187e72b0a9\",\"type\":\"Toolbar\"},{\"attributes\":{\"num_minor_ticks\":10},\"id\":\"f4ea7372-b42f-4012-a928-c37af6f9ccfe\",\"type\":\"LogTicker\"},{\"attributes\":{\"label\":{\"value\":\"primes5\"},\"renderers\":[{\"id\":\"ded90115-6396-4dac-8846-afcaa3cc3e29\",\"type\":\"GlyphRenderer\"},{\"id\":\"01ba8327-b63b-40b1-93e1-10bd642f3dfb\",\"type\":\"GlyphRenderer\"}]},\"id\":\"9e6105c3-ccb0-4895-8bb5-d16e200c6923\",\"type\":\"LegendItem\"},{\"attributes\":{\"fill_color\":{\"value\":\"#9467bd\"},\"line_color\":{\"value\":\"#9467bd\"},\"x\":{\"field\":\"x\"},\"y\":{\"field\":\"y\"}},\"id\":\"0c3cd0da-dad9-4e34-9b16-3eeeae1acf4b\",\"type\":\"Circle\"},{\"attributes\":{\"data_source\":{\"id\":\"3a6a4b6e-b0fc-4d3c-8b6d-8b8297465640\",\"type\":\"ColumnDataSource\"},\"glyph\":{\"id\":\"3a7607a9-1ade-4f07-ab8b-b677be920cbb\",\"type\":\"Circle\"},\"hover_glyph\":null,\"muted_glyph\":null,\"nonselection_glyph\":{\"id\":\"ac91c9ae-291b-4c23-9456-933a3d0fb946\",\"type\":\"Circle\"},\"selection_glyph\":null,\"view\":{\"id\":\"15fa2907-f482-4d38-b6c0-423c21dedd32\",\"type\":\"CDSView\"}},\"id\":\"c455cfcb-8b1c-4e28-9051-2db9b9a8dbae\",\"type\":\"GlyphRenderer\"},{\"attributes\":{\"num_minor_ticks\":10},\"id\":\"6745ea02-6824-4109-851b-296a79a4bd0e\",\"type\":\"LogTicker\"},{\"attributes\":{\"source\":{\"id\":\"3a6a4b6e-b0fc-4d3c-8b6d-8b8297465640\",\"type\":\"ColumnDataSource\"}},\"id\":\"15fa2907-f482-4d38-b6c0-423c21dedd32\",\"type\":\"CDSView\"},{\"attributes\":{\"plot\":{\"id\":\"0667c14a-951f-4940-b78c-30e1a723fe04\",\"subtype\":\"Figure\",\"type\":\"Plot\"},\"ticker\":{\"id\":\"f4ea7372-b42f-4012-a928-c37af6f9ccfe\",\"type\":\"LogTicker\"}},\"id\":\"516fb1e5-b8cc-4902-b5f0-e229440c4585\",\"type\":\"Grid\"},{\"attributes\":{},\"id\":\"85d37376-5a5b-4064-9950-f0069a401338\",\"type\":\"LogScale\"},{\"attributes\":{\"axis_label\":\"Primes\",\"formatter\":{\"id\":\"5194d23a-71f5-4068-8917-4ebca945281b\",\"type\":\"NumeralTickFormatter\"},\"plot\":{\"id\":\"0667c14a-951f-4940-b78c-30e1a723fe04\",\"subtype\":\"Figure\",\"type\":\"Plot\"},\"ticker\":{\"id\":\"f4ea7372-b42f-4012-a928-c37af6f9ccfe\",\"type\":\"LogTicker\"}},\"id\":\"87caefc5-6ae1-403d-ad54-6b7ae40ac47f\",\"type\":\"LogAxis\"},{\"attributes\":{\"line_alpha\":0.1,\"line_color\":\"#1f77b4\",\"line_dash\":[6],\"x\":{\"field\":\"x\"},\"y\":{\"field\":\"y\"}},\"id\":\"95e5a02e-15d1-47ad-b2cf-90a5ad332204\",\"type\":\"Line\"},{\"attributes\":{},\"id\":\"b64963d8-1c61-43fb-8bb3-9a522e16c281\",\"type\":\"LogScale\"},{\"attributes\":{\"callback\":null,\"column_names\":[\"x\",\"y\"],\"data\":{\"x\":[1,2,5,10,20,50,100,200,500,1000,2000,5000,10000],\"y\":[1.1100200936198235e-06,1.4940742403268814e-06,2.810964360833168e-06,6.005982868373394e-06,1.6966951079666615e-05,8.20700079202652e-05,0.00030898593831807375,0.0012127070222049952,0.007740333094261587,0.040346126072108746,0.12615202099550515,0.7999409510521218,3.12910230003763]}},\"id\":\"8064dcf9-8bd3-48b5-b9d0-2b64e05c3c3f\",\"type\":\"ColumnDataSource\"},{\"attributes\":{\"axis_label\":\"Seconds\",\"formatter\":{\"id\":\"7637eeb7-1d24-498c-9482-2f906890bd1f\",\"type\":\"LogTickFormatter\"},\"plot\":{\"id\":\"0667c14a-951f-4940-b78c-30e1a723fe04\",\"subtype\":\"Figure\",\"type\":\"Plot\"},\"ticker\":{\"id\":\"6745ea02-6824-4109-851b-296a79a4bd0e\",\"type\":\"LogTicker\"}},\"id\":\"62325bd3-b047-4a7f-8caa-929f14755a5a\",\"type\":\"LogAxis\"},{\"attributes\":{\"data_source\":{\"id\":\"dbea92eb-f0d9-4fc2-9810-2f2228f43e85\",\"type\":\"ColumnDataSource\"},\"glyph\":{\"id\":\"51a387db-9c1f-47df-b7cd-e395ceec979c\",\"type\":\"Line\"},\"hover_glyph\":null,\"muted_glyph\":null,\"nonselection_glyph\":{\"id\":\"67dabedb-4dee-44c2-8d3a-e8fdaab7f660\",\"type\":\"Line\"},\"selection_glyph\":null,\"view\":{\"id\":\"175a6689-eb35-489b-8946-217d9264735f\",\"type\":\"CDSView\"}},\"id\":\"d7f21ec3-8fce-44ad-8ace-dfdccad0164e\",\"type\":\"GlyphRenderer\"},{\"attributes\":{\"dimension\":1,\"plot\":{\"id\":\"0667c14a-951f-4940-b78c-30e1a723fe04\",\"subtype\":\"Figure\",\"type\":\"Plot\"},\"ticker\":{\"id\":\"6745ea02-6824-4109-851b-296a79a4bd0e\",\"type\":\"LogTicker\"}},\"id\":\"3eac0389-504c-4580-b81c-723d3c7433aa\",\"type\":\"Grid\"},{\"attributes\":{\"source\":{\"id\":\"dbea92eb-f0d9-4fc2-9810-2f2228f43e85\",\"type\":\"ColumnDataSource\"}},\"id\":\"175a6689-eb35-489b-8946-217d9264735f\",\"type\":\"CDSView\"},{\"attributes\":{\"data_source\":{\"id\":\"98eacc87-171e-42fe-9924-092eec0ff80e\",\"type\":\"ColumnDataSource\"},\"glyph\":{\"id\":\"0c3cd0da-dad9-4e34-9b16-3eeeae1acf4b\",\"type\":\"Circle\"},\"hover_glyph\":null,\"muted_glyph\":null,\"nonselection_glyph\":{\"id\":\"df9716be-551f-4724-9656-02baf5de5f80\",\"type\":\"Circle\"},\"selection_glyph\":null,\"view\":{\"id\":\"e7c6e0b4-4cbc-4419-9c9b-361902eb3926\",\"type\":\"CDSView\"}},\"id\":\"01ba8327-b63b-40b1-93e1-10bd642f3dfb\",\"type\":\"GlyphRenderer\"},{\"attributes\":{\"line_color\":\"#1f77b4\",\"line_dash\":[6],\"x\":{\"field\":\"x\"},\"y\":{\"field\":\"y\"}},\"id\":\"c597ae79-71d8-4cf3-a1c3-32ed7aef453e\",\"type\":\"Line\"},{\"attributes\":{\"line_alpha\":0.1,\"line_color\":\"#1f77b4\",\"line_dash\":[6],\"x\":{\"field\":\"x\"},\"y\":{\"field\":\"y\"}},\"id\":\"fcdb296c-4a6a-40e5-b60b-e6871eb24455\",\"type\":\"Line\"},{\"attributes\":{\"fill_alpha\":{\"value\":0.1},\"fill_color\":{\"value\":\"#1f77b4\"},\"line_alpha\":{\"value\":0.1},\"line_color\":{\"value\":\"#1f77b4\"},\"x\":{\"field\":\"x\"},\"y\":{\"field\":\"y\"}},\"id\":\"df9716be-551f-4724-9656-02baf5de5f80\",\"type\":\"Circle\"},{\"attributes\":{\"callback\":null,\"column_names\":[\"x\",\"y\"],\"data\":{\"x\":[1,2,5,10,20,50,100,200,500,1000,2000],\"y\":[2.2810418158769608e-06,2.5780173018574715e-06,7.209018804132938e-06,2.0492938347160816e-05,6.410805508494377e-05,0.00035123503766953945,0.0015158610185608268,0.007402612012811005,0.0685258429730311,0.26473734504543245,1.2196230669505894]}},\"id\":\"33b393d8-4e14-4b73-abad-d0424729b7b5\",\"type\":\"ColumnDataSource\"},{\"attributes\":{\"fill_alpha\":{\"value\":0.1},\"fill_color\":{\"value\":\"#1f77b4\"},\"line_alpha\":{\"value\":0.1},\"line_color\":{\"value\":\"#1f77b4\"},\"x\":{\"field\":\"x\"},\"y\":{\"field\":\"y\"}},\"id\":\"30ebaf4e-098a-4ae9-9a77-340274c7e1d5\",\"type\":\"Circle\"},{\"attributes\":{\"source\":{\"id\":\"98eacc87-171e-42fe-9924-092eec0ff80e\",\"type\":\"ColumnDataSource\"}},\"id\":\"e7c6e0b4-4cbc-4419-9c9b-361902eb3926\",\"type\":\"CDSView\"},{\"attributes\":{},\"id\":\"fc5a9ce6-f06a-4709-900d-0d56041eac1b\",\"type\":\"PanTool\"},{\"attributes\":{\"callback\":null,\"column_names\":[\"x\",\"y\"],\"data\":{\"x\":[1,2,5,10,20,50,100,200,500,1000,2000,5000,10000],\"y\":[1.1100200936198235e-06,1.4940742403268814e-06,2.810964360833168e-06,6.005982868373394e-06,1.6966951079666615e-05,8.20700079202652e-05,0.00030898593831807375,0.0012127070222049952,0.007740333094261587,0.040346126072108746,0.12615202099550515,0.7999409510521218,3.12910230003763]}},\"id\":\"dbea92eb-f0d9-4fc2-9810-2f2228f43e85\",\"type\":\"ColumnDataSource\"},{\"attributes\":{\"bottom_units\":\"screen\",\"fill_alpha\":{\"value\":0.5},\"fill_color\":{\"value\":\"lightgrey\"},\"left_units\":\"screen\",\"level\":\"overlay\",\"line_alpha\":{\"value\":1.0},\"line_color\":{\"value\":\"black\"},\"line_dash\":[4,4],\"line_width\":{\"value\":2},\"plot\":null,\"render_mode\":\"css\",\"right_units\":\"screen\",\"top_units\":\"screen\"},\"id\":\"ea1fcdc8-b3fd-4380-8ccc-394150c5e4e0\",\"type\":\"BoxAnnotation\"},{\"attributes\":{},\"id\":\"61b0116b-2e8b-444f-85c7-43c6c8352724\",\"type\":\"WheelZoomTool\"},{\"attributes\":{\"line_alpha\":0.1,\"line_color\":\"#1f77b4\",\"line_dash\":[6],\"x\":{\"field\":\"x\"},\"y\":{\"field\":\"y\"}},\"id\":\"b8679745-c229-4c16-8298-a5edb0f40b5d\",\"type\":\"Line\"},{\"attributes\":{\"overlay\":{\"id\":\"ea1fcdc8-b3fd-4380-8ccc-394150c5e4e0\",\"type\":\"BoxAnnotation\"}},\"id\":\"96886105-5416-4d81-80fd-867a3c9c716f\",\"type\":\"BoxZoomTool\"},{\"attributes\":{\"source\":{\"id\":\"8064dcf9-8bd3-48b5-b9d0-2b64e05c3c3f\",\"type\":\"ColumnDataSource\"}},\"id\":\"b62bcaa6-092c-4be8-b2ff-2297645f092a\",\"type\":\"CDSView\"},{\"attributes\":{\"data_source\":{\"id\":\"c8e411e6-c933-470a-bfdb-73f41d071167\",\"type\":\"ColumnDataSource\"},\"glyph\":{\"id\":\"29a913b7-3e9b-4c1a-bb4b-427f603fee24\",\"type\":\"Line\"},\"hover_glyph\":null,\"muted_glyph\":null,\"nonselection_glyph\":{\"id\":\"b8679745-c229-4c16-8298-a5edb0f40b5d\",\"type\":\"Line\"},\"selection_glyph\":null,\"view\":{\"id\":\"91a48e41-6437-44eb-9141-79b6378e4904\",\"type\":\"CDSView\"}},\"id\":\"15bc93b7-978b-4fb6-b4de-5ca1b2fb000f\",\"type\":\"GlyphRenderer\"},{\"attributes\":{},\"id\":\"0c36c11e-18c3-4008-96ec-00b19f9ff631\",\"type\":\"SaveTool\"},{\"attributes\":{},\"id\":\"9868a0f1-6455-4098-9870-c63b330dc0a8\",\"type\":\"ResetTool\"},{\"attributes\":{\"label\":{\"value\":\"primes4\"},\"renderers\":[{\"id\":\"15bc93b7-978b-4fb6-b4de-5ca1b2fb000f\",\"type\":\"GlyphRenderer\"},{\"id\":\"c76374f1-e72f-484c-8f92-c248dad8caad\",\"type\":\"GlyphRenderer\"}]},\"id\":\"f52b650c-d47b-4c85-898f-0a0f1600be5d\",\"type\":\"LegendItem\"}],\"root_ids\":[\"0667c14a-951f-4940-b78c-30e1a723fe04\"]},\"title\":\"Bokeh Application\",\"version\":\"0.12.14\"}};\n",
       "  var render_items = [{\"docid\":\"99446022-de4d-46c3-bf93-0933a995e3f2\",\"elementid\":\"b9126d59-0e35-41d4-b3b6-9b743c885dac\",\"modelid\":\"0667c14a-951f-4940-b78c-30e1a723fe04\",\"notebook_comms_target\":\"03bfe26c-7545-408d-bf4f-9195b46f15dc\"}];\n",
       "  root.Bokeh.embed.embed_items_notebook(docs_json, render_items);\n",
       "\n",
       "  }\n",
       "  if (root.Bokeh !== undefined) {\n",
       "    embed_document(root);\n",
       "  } else {\n",
       "    var attempts = 0;\n",
       "    var timer = setInterval(function(root) {\n",
       "      if (root.Bokeh !== undefined) {\n",
       "        embed_document(root);\n",
       "        clearInterval(timer);\n",
       "      }\n",
       "      attempts++;\n",
       "      if (attempts > 100) {\n",
       "        console.log(\"Bokeh: ERROR: Unable to run BokehJS code because BokehJS library is missing\")\n",
       "        clearInterval(timer);\n",
       "      }\n",
       "    }, 10, root)\n",
       "  }\n",
       "})(window);"
      ],
      "application/vnd.bokehjs_exec.v0+json": ""
     },
     "metadata": {
      "application/vnd.bokehjs_exec.v0+json": {
       "id": "0667c14a-951f-4940-b78c-30e1a723fe04"
      }
     },
     "output_type": "display_data"
    }
   ],
   "source": [
    "timing_plot(primes8)"
   ]
  },
  {
   "cell_type": "code",
   "execution_count": 21,
   "metadata": {
    "slideshow": {
     "slide_type": "slide"
    }
   },
   "outputs": [],
   "source": [
    "import heapq\n",
    "from itertools import count\n",
    "\n",
    "def primes9():\n",
    "    yield 2\n",
    "    yield 3\n",
    "    state = [(9, 2 * 3)]\n",
    "    for candidate in count(5, 2):\n",
    "        #print('dbg', candidate, state[0])\n",
    "        if candidate == state[0][0]:\n",
    "            while candidate == state[0][0]:\n",
    "                mult, inc = state[0]\n",
    "                heapq.heapreplace(state, (mult + inc, inc))\n",
    "        else:\n",
    "            yield candidate\n",
    "            heapq.heappush(state, (candidate * candidate, 2 * candidate))"
   ]
  },
  {
   "cell_type": "code",
   "execution_count": 22,
   "metadata": {
    "slideshow": {
     "slide_type": "slide"
    }
   },
   "outputs": [
    {
     "data": {
      "text/html": [
       "\n",
       "<div class=\"bk-root\">\n",
       "    <div class=\"bk-plotdiv\" id=\"b9efa470-b05c-414a-a552-50c800e69b37\"></div>\n",
       "</div>"
      ]
     },
     "metadata": {},
     "output_type": "display_data"
    },
    {
     "data": {
      "application/javascript": [
       "(function(root) {\n",
       "  function embed_document(root) {\n",
       "    \n",
       "  var docs_json = {\"cfeb3447-8883-44ec-ba7b-d5a40ce01be2\":{\"roots\":{\"references\":[{\"attributes\":{\"data_source\":{\"id\":\"9cc3455c-9ea7-45a4-9b3c-28849cab9bec\",\"type\":\"ColumnDataSource\"},\"glyph\":{\"id\":\"2a5c912d-a2b7-40dc-a1b8-ad3537263741\",\"type\":\"Circle\"},\"hover_glyph\":null,\"muted_glyph\":null,\"nonselection_glyph\":{\"id\":\"870cd94c-11f5-45dc-86b0-5a0b72924b58\",\"type\":\"Circle\"},\"selection_glyph\":null,\"view\":{\"id\":\"878719ba-179f-4037-9b97-51b144adf7de\",\"type\":\"CDSView\"}},\"id\":\"a105820c-8ffe-4ee6-a1d0-a2b216d96727\",\"type\":\"GlyphRenderer\"},{\"attributes\":{\"fill_alpha\":{\"value\":0.1},\"fill_color\":{\"value\":\"#1f77b4\"},\"line_alpha\":{\"value\":0.1},\"line_color\":{\"value\":\"#1f77b4\"},\"x\":{\"field\":\"x\"},\"y\":{\"field\":\"y\"}},\"id\":\"870cd94c-11f5-45dc-86b0-5a0b72924b58\",\"type\":\"Circle\"},{\"attributes\":{\"data_source\":{\"id\":\"be4ce103-efee-4c81-a616-8d680cee2bd1\",\"type\":\"ColumnDataSource\"},\"glyph\":{\"id\":\"7c21cea3-c1ae-41ba-b513-3b85b85cd824\",\"type\":\"Line\"},\"hover_glyph\":null,\"muted_glyph\":null,\"nonselection_glyph\":{\"id\":\"d4ae8cad-2be3-4656-8920-7e66b7c99924\",\"type\":\"Line\"},\"selection_glyph\":null,\"view\":{\"id\":\"062eeb35-e6df-4ba9-9d2a-dc33f6fa445e\",\"type\":\"CDSView\"}},\"id\":\"23e2271b-0383-459e-b7b0-ab7cc09b85ab\",\"type\":\"GlyphRenderer\"},{\"attributes\":{\"callback\":null,\"column_names\":[\"x\",\"y\"],\"data\":{\"x\":[1,2,5,10,20,50,100,200,500,1000,2000,5000,10000,20000,50000,100000,200000,500000],\"y\":[2.117943949997425e-06,2.710963599383831e-06,4.56592533737421e-06,8.409959264099598e-06,1.7025042325258255e-05,4.580290988087654e-05,0.00011415104381740093,0.00026345602236688137,0.0007764929905533791,0.0017927349545061588,0.004129466018639505,0.01259315200150013,0.02941844705492258,0.0757505769142881,0.14851688093040138,0.3747408129274845,0.8833944080397487,2.6799722670111805]}},\"id\":\"767ce9a9-3488-4482-97fd-6f759fd87e1f\",\"type\":\"ColumnDataSource\"},{\"attributes\":{\"line_color\":\"#2ca02c\",\"line_dash\":[6],\"x\":{\"field\":\"x\"},\"y\":{\"field\":\"y\"}},\"id\":\"28abfc64-cf39-40a3-b50c-77e131264784\",\"type\":\"Line\"},{\"attributes\":{\"source\":{\"id\":\"be4ce103-efee-4c81-a616-8d680cee2bd1\",\"type\":\"ColumnDataSource\"}},\"id\":\"062eeb35-e6df-4ba9-9d2a-dc33f6fa445e\",\"type\":\"CDSView\"},{\"attributes\":{\"source\":{\"id\":\"9cc3455c-9ea7-45a4-9b3c-28849cab9bec\",\"type\":\"ColumnDataSource\"}},\"id\":\"878719ba-179f-4037-9b97-51b144adf7de\",\"type\":\"CDSView\"},{\"attributes\":{\"data_source\":{\"id\":\"14c4a813-2fcf-4523-b92b-bc139e99c88d\",\"type\":\"ColumnDataSource\"},\"glyph\":{\"id\":\"a71d768c-8bf5-4387-9d34-1dc407275354\",\"type\":\"Circle\"},\"hover_glyph\":null,\"muted_glyph\":null,\"nonselection_glyph\":{\"id\":\"62534620-979c-4b85-984c-04f3707a889b\",\"type\":\"Circle\"},\"selection_glyph\":null,\"view\":{\"id\":\"98313633-982a-494c-8dda-6f8f1b87d421\",\"type\":\"CDSView\"}},\"id\":\"ecfe8709-982d-4e0e-b728-e95e53302560\",\"type\":\"GlyphRenderer\"},{\"attributes\":{\"label\":{\"value\":\"primes9\"},\"renderers\":[{\"id\":\"23e2271b-0383-459e-b7b0-ab7cc09b85ab\",\"type\":\"GlyphRenderer\"},{\"id\":\"95155d6e-cc58-477e-92c2-bf4ec4d61cea\",\"type\":\"GlyphRenderer\"}]},\"id\":\"f92e849b-1069-4f35-b2aa-56ed9bba5959\",\"type\":\"LegendItem\"},{\"attributes\":{\"source\":{\"id\":\"14c4a813-2fcf-4523-b92b-bc139e99c88d\",\"type\":\"ColumnDataSource\"}},\"id\":\"98313633-982a-494c-8dda-6f8f1b87d421\",\"type\":\"CDSView\"},{\"attributes\":{\"fill_alpha\":{\"value\":0.1},\"fill_color\":{\"value\":\"#1f77b4\"},\"line_alpha\":{\"value\":0.1},\"line_color\":{\"value\":\"#1f77b4\"},\"x\":{\"field\":\"x\"},\"y\":{\"field\":\"y\"}},\"id\":\"bd0aa52e-643c-4ce7-99ed-cd6bf6eeab26\",\"type\":\"Circle\"},{\"attributes\":{\"data_source\":{\"id\":\"8b18b8bd-cdca-4f40-a8fd-a049f4548ad5\",\"type\":\"ColumnDataSource\"},\"glyph\":{\"id\":\"28abfc64-cf39-40a3-b50c-77e131264784\",\"type\":\"Line\"},\"hover_glyph\":null,\"muted_glyph\":null,\"nonselection_glyph\":{\"id\":\"1ff07bd9-cff9-4393-801c-f9bc561723c8\",\"type\":\"Line\"},\"selection_glyph\":null,\"view\":{\"id\":\"cc26adad-b48d-434f-b286-a8c77f75ec22\",\"type\":\"CDSView\"}},\"id\":\"17c57553-ff60-41d8-b1a1-3a005bb95a4d\",\"type\":\"GlyphRenderer\"},{\"attributes\":{\"fill_alpha\":{\"value\":0.1},\"fill_color\":{\"value\":\"#1f77b4\"},\"line_alpha\":{\"value\":0.1},\"line_color\":{\"value\":\"#1f77b4\"},\"x\":{\"field\":\"x\"},\"y\":{\"field\":\"y\"}},\"id\":\"62534620-979c-4b85-984c-04f3707a889b\",\"type\":\"Circle\"},{\"attributes\":{\"fill_color\":{\"value\":\"#bcbd22\"},\"line_color\":{\"value\":\"#bcbd22\"},\"x\":{\"field\":\"x\"},\"y\":{\"field\":\"y\"}},\"id\":\"530cabd1-cac4-4310-bda2-d63415cb8960\",\"type\":\"Circle\"},{\"attributes\":{\"fill_color\":{\"value\":\"#2ca02c\"},\"line_color\":{\"value\":\"#2ca02c\"},\"x\":{\"field\":\"x\"},\"y\":{\"field\":\"y\"}},\"id\":\"a71d768c-8bf5-4387-9d34-1dc407275354\",\"type\":\"Circle\"},{\"attributes\":{\"source\":{\"id\":\"be4ce103-efee-4c81-a616-8d680cee2bd1\",\"type\":\"ColumnDataSource\"}},\"id\":\"904f49a9-a9e0-455d-843e-61e187058cc3\",\"type\":\"CDSView\"},{\"attributes\":{\"source\":{\"id\":\"8b18b8bd-cdca-4f40-a8fd-a049f4548ad5\",\"type\":\"ColumnDataSource\"}},\"id\":\"cc26adad-b48d-434f-b286-a8c77f75ec22\",\"type\":\"CDSView\"},{\"attributes\":{\"source\":{\"id\":\"88ec0084-b897-493f-908f-d62b98033fe4\",\"type\":\"ColumnDataSource\"}},\"id\":\"bea09210-860f-4d2b-aece-82035fede81f\",\"type\":\"CDSView\"},{\"attributes\":{\"data_source\":{\"id\":\"be4ce103-efee-4c81-a616-8d680cee2bd1\",\"type\":\"ColumnDataSource\"},\"glyph\":{\"id\":\"530cabd1-cac4-4310-bda2-d63415cb8960\",\"type\":\"Circle\"},\"hover_glyph\":null,\"muted_glyph\":null,\"nonselection_glyph\":{\"id\":\"bd0aa52e-643c-4ce7-99ed-cd6bf6eeab26\",\"type\":\"Circle\"},\"selection_glyph\":null,\"view\":{\"id\":\"904f49a9-a9e0-455d-843e-61e187058cc3\",\"type\":\"CDSView\"}},\"id\":\"95155d6e-cc58-477e-92c2-bf4ec4d61cea\",\"type\":\"GlyphRenderer\"},{\"attributes\":{\"label\":{\"value\":\"primes3\"},\"renderers\":[{\"id\":\"17c57553-ff60-41d8-b1a1-3a005bb95a4d\",\"type\":\"GlyphRenderer\"},{\"id\":\"ecfe8709-982d-4e0e-b728-e95e53302560\",\"type\":\"GlyphRenderer\"}]},\"id\":\"cc04a7b1-1932-40ca-b66c-7aef8c97a93c\",\"type\":\"LegendItem\"},{\"attributes\":{\"line_color\":\"#1f77b4\",\"line_dash\":[6],\"x\":{\"field\":\"x\"},\"y\":{\"field\":\"y\"}},\"id\":\"83aa3763-533d-4d57-996e-75ff067ccfe9\",\"type\":\"Line\"},{\"attributes\":{\"format\":\"0[.]0 a\"},\"id\":\"1df11fc1-b1ed-4018-b5d5-b7cd6edf9881\",\"type\":\"NumeralTickFormatter\"},{\"attributes\":{\"fill_alpha\":{\"value\":0.1},\"fill_color\":{\"value\":\"#1f77b4\"},\"line_alpha\":{\"value\":0.1},\"line_color\":{\"value\":\"#1f77b4\"},\"x\":{\"field\":\"x\"},\"y\":{\"field\":\"y\"}},\"id\":\"b9426131-d647-4bb3-980b-b354eee310de\",\"type\":\"Circle\"},{\"attributes\":{\"callback\":null,\"column_names\":[\"x\",\"y\"],\"data\":{\"x\":[1,2,5,10,20,50,100,200,500,1000,2000,5000],\"y\":[1.4139804989099503e-06,2.2620661184191704e-06,5.381996743381023e-06,1.3141077943146229e-05,3.996898885816336e-05,0.00021801097318530083,0.0009484479669481516,0.004649461014196277,0.033985527930781245,0.14049233100377023,0.6119923630030826,4.361634815926664]}},\"id\":\"9cc3455c-9ea7-45a4-9b3c-28849cab9bec\",\"type\":\"ColumnDataSource\"},{\"attributes\":{\"data_source\":{\"id\":\"8a52b1d0-bc4e-4538-9851-569ed2a90144\",\"type\":\"ColumnDataSource\"},\"glyph\":{\"id\":\"83aa3763-533d-4d57-996e-75ff067ccfe9\",\"type\":\"Line\"},\"hover_glyph\":null,\"muted_glyph\":null,\"nonselection_glyph\":{\"id\":\"d78ed913-2f91-4639-9e3e-a0a3dd29d410\",\"type\":\"Line\"},\"selection_glyph\":null,\"view\":{\"id\":\"e16bfc59-6e38-4c9d-8aaa-253beae274b5\",\"type\":\"CDSView\"}},\"id\":\"78887a69-3013-4468-8ad7-a31582192b81\",\"type\":\"GlyphRenderer\"},{\"attributes\":{\"line_color\":\"#d62728\",\"line_dash\":[6],\"x\":{\"field\":\"x\"},\"y\":{\"field\":\"y\"}},\"id\":\"1dc11b39-febb-4d13-b7bc-c1e1dcc059bf\",\"type\":\"Line\"},{\"attributes\":{\"fill_color\":{\"value\":\"#1f77b4\"},\"line_color\":{\"value\":\"#1f77b4\"},\"x\":{\"field\":\"x\"},\"y\":{\"field\":\"y\"}},\"id\":\"39059f30-44d5-4edc-bc5d-b713b693d1bc\",\"type\":\"Circle\"},{\"attributes\":{\"data_source\":{\"id\":\"767ce9a9-3488-4482-97fd-6f759fd87e1f\",\"type\":\"ColumnDataSource\"},\"glyph\":{\"id\":\"1dc11b39-febb-4d13-b7bc-c1e1dcc059bf\",\"type\":\"Line\"},\"hover_glyph\":null,\"muted_glyph\":null,\"nonselection_glyph\":{\"id\":\"588ccdbd-2ae6-4e10-a33b-851f96722ab6\",\"type\":\"Line\"},\"selection_glyph\":null,\"view\":{\"id\":\"79165e77-c890-4aae-85c1-86c48a51e92a\",\"type\":\"CDSView\"}},\"id\":\"369f5245-1ae9-47b1-afda-2b35cee8088a\",\"type\":\"GlyphRenderer\"},{\"attributes\":{\"line_alpha\":0.1,\"line_color\":\"#1f77b4\",\"x\":{\"field\":\"x\"},\"y\":{\"field\":\"y\"}},\"id\":\"d4ae8cad-2be3-4656-8920-7e66b7c99924\",\"type\":\"Line\"},{\"attributes\":{\"fill_alpha\":{\"value\":0.1},\"fill_color\":{\"value\":\"#1f77b4\"},\"line_alpha\":{\"value\":0.1},\"line_color\":{\"value\":\"#1f77b4\"},\"x\":{\"field\":\"x\"},\"y\":{\"field\":\"y\"}},\"id\":\"3c542a1c-975e-4962-b173-560d62385d18\",\"type\":\"Circle\"},{\"attributes\":{\"callback\":null,\"column_names\":[\"x\",\"y\"],\"data\":{\"x\":[1,2,5,10,20,50,100,200,500,1000,2000,5000,10000,20000,50000],\"y\":[1.4400575309991837e-06,2.609100192785263e-06,1.1423020623624325e-05,1.527706626802683e-05,6.611598655581474e-05,0.00011964596342295408,0.0005128270713612437,0.0007289999630302191,0.0026792309945449233,0.006290751043707132,0.016653549042530358,0.056266322964802384,0.14411914395168424,0.30627229798119515,1.3236096629407257]}},\"id\":\"8b18b8bd-cdca-4f40-a8fd-a049f4548ad5\",\"type\":\"ColumnDataSource\"},{\"attributes\":{\"line_alpha\":0.1,\"line_color\":\"#1f77b4\",\"line_dash\":[6],\"x\":{\"field\":\"x\"},\"y\":{\"field\":\"y\"}},\"id\":\"588ccdbd-2ae6-4e10-a33b-851f96722ab6\",\"type\":\"Line\"},{\"attributes\":{\"source\":{\"id\":\"8a52b1d0-bc4e-4538-9851-569ed2a90144\",\"type\":\"ColumnDataSource\"}},\"id\":\"e16bfc59-6e38-4c9d-8aaa-253beae274b5\",\"type\":\"CDSView\"},{\"attributes\":{\"data_source\":{\"id\":\"2e4eeac4-3f0e-43f3-9736-724a5e602f9e\",\"type\":\"ColumnDataSource\"},\"glyph\":{\"id\":\"39059f30-44d5-4edc-bc5d-b713b693d1bc\",\"type\":\"Circle\"},\"hover_glyph\":null,\"muted_glyph\":null,\"nonselection_glyph\":{\"id\":\"3c542a1c-975e-4962-b173-560d62385d18\",\"type\":\"Circle\"},\"selection_glyph\":null,\"view\":{\"id\":\"bf508c69-3943-42be-92c4-df8c765066ea\",\"type\":\"CDSView\"}},\"id\":\"c0d7bde7-0d63-48e3-8820-0ec16d561071\",\"type\":\"GlyphRenderer\"},{\"attributes\":{\"data_source\":{\"id\":\"88ec0084-b897-493f-908f-d62b98033fe4\",\"type\":\"ColumnDataSource\"},\"glyph\":{\"id\":\"6da0a504-5101-4365-a485-abdd7f342f9b\",\"type\":\"Circle\"},\"hover_glyph\":null,\"muted_glyph\":null,\"nonselection_glyph\":{\"id\":\"b9426131-d647-4bb3-980b-b354eee310de\",\"type\":\"Circle\"},\"selection_glyph\":null,\"view\":{\"id\":\"bea09210-860f-4d2b-aece-82035fede81f\",\"type\":\"CDSView\"}},\"id\":\"bdf52a98-dc30-491d-9976-247a8a7693ca\",\"type\":\"GlyphRenderer\"},{\"attributes\":{\"source\":{\"id\":\"2e4eeac4-3f0e-43f3-9736-724a5e602f9e\",\"type\":\"ColumnDataSource\"}},\"id\":\"bf508c69-3943-42be-92c4-df8c765066ea\",\"type\":\"CDSView\"},{\"attributes\":{\"label\":{\"value\":\"primes2\"},\"renderers\":[{\"id\":\"25276044-5bdd-4d51-b5bf-c05bcc35f67c\",\"type\":\"GlyphRenderer\"},{\"id\":\"a105820c-8ffe-4ee6-a1d0-a2b216d96727\",\"type\":\"GlyphRenderer\"}]},\"id\":\"685780fe-f94b-4310-a6e8-ae5f53097691\",\"type\":\"LegendItem\"},{\"attributes\":{\"line_color\":\"#ff7f0e\",\"line_dash\":[6],\"x\":{\"field\":\"x\"},\"y\":{\"field\":\"y\"}},\"id\":\"8acce524-0d1a-4ffd-82a6-155165258218\",\"type\":\"Line\"},{\"attributes\":{\"callback\":null,\"column_names\":[\"x\",\"y\"],\"data\":{\"x\":[1,2,5,10,20,50,100,200,500,1000,2000],\"y\":[2.2810418158769608e-06,2.5780173018574715e-06,7.209018804132938e-06,2.0492938347160816e-05,6.410805508494377e-05,0.00035123503766953945,0.0015158610185608268,0.007402612012811005,0.0685258429730311,0.26473734504543245,1.2196230669505894]}},\"id\":\"8a52b1d0-bc4e-4538-9851-569ed2a90144\",\"type\":\"ColumnDataSource\"},{\"attributes\":{\"source\":{\"id\":\"843279c3-670e-427e-bfa9-0411c71a8339\",\"type\":\"ColumnDataSource\"}},\"id\":\"a28221cd-96bc-4034-a048-64e6666e4f93\",\"type\":\"CDSView\"},{\"attributes\":{\"fill_color\":{\"value\":\"#ff7f0e\"},\"line_color\":{\"value\":\"#ff7f0e\"},\"x\":{\"field\":\"x\"},\"y\":{\"field\":\"y\"}},\"id\":\"2a5c912d-a2b7-40dc-a1b8-ad3537263741\",\"type\":\"Circle\"},{\"attributes\":{\"line_alpha\":0.1,\"line_color\":\"#1f77b4\",\"line_dash\":[6],\"x\":{\"field\":\"x\"},\"y\":{\"field\":\"y\"}},\"id\":\"1010e565-c0b9-4e81-9fcb-a8bd9dc01a4d\",\"type\":\"Line\"},{\"attributes\":{\"line_alpha\":0.1,\"line_color\":\"#1f77b4\",\"line_dash\":[6],\"x\":{\"field\":\"x\"},\"y\":{\"field\":\"y\"}},\"id\":\"24f6f1e9-a78a-41c2-9470-a7a5af9985ee\",\"type\":\"Line\"},{\"attributes\":{\"line_color\":\"#bcbd22\",\"x\":{\"field\":\"x\"},\"y\":{\"field\":\"y\"}},\"id\":\"7c21cea3-c1ae-41ba-b513-3b85b85cd824\",\"type\":\"Line\"},{\"attributes\":{\"data_source\":{\"id\":\"843279c3-670e-427e-bfa9-0411c71a8339\",\"type\":\"ColumnDataSource\"},\"glyph\":{\"id\":\"8acce524-0d1a-4ffd-82a6-155165258218\",\"type\":\"Line\"},\"hover_glyph\":null,\"muted_glyph\":null,\"nonselection_glyph\":{\"id\":\"24f6f1e9-a78a-41c2-9470-a7a5af9985ee\",\"type\":\"Line\"},\"selection_glyph\":null,\"view\":{\"id\":\"a28221cd-96bc-4034-a048-64e6666e4f93\",\"type\":\"CDSView\"}},\"id\":\"25276044-5bdd-4d51-b5bf-c05bcc35f67c\",\"type\":\"GlyphRenderer\"},{\"attributes\":{\"fill_alpha\":{\"value\":0.1},\"fill_color\":{\"value\":\"#1f77b4\"},\"line_alpha\":{\"value\":0.1},\"line_color\":{\"value\":\"#1f77b4\"},\"x\":{\"field\":\"x\"},\"y\":{\"field\":\"y\"}},\"id\":\"3d2d6697-c6f3-4ea8-92d0-8ea45d2e86cb\",\"type\":\"Circle\"},{\"attributes\":{\"data_source\":{\"id\":\"89ff6bc9-fc1e-49c5-8eba-85b8cb83dfb4\",\"type\":\"ColumnDataSource\"},\"glyph\":{\"id\":\"f337913e-5b03-48c3-b4ff-f921d23621b5\",\"type\":\"Line\"},\"hover_glyph\":null,\"muted_glyph\":null,\"nonselection_glyph\":{\"id\":\"1010e565-c0b9-4e81-9fcb-a8bd9dc01a4d\",\"type\":\"Line\"},\"selection_glyph\":null,\"view\":{\"id\":\"91e2d004-76bb-40b5-bd28-aff110ec463f\",\"type\":\"CDSView\"}},\"id\":\"1388a166-cb8c-4f44-a1dd-fce82872ced3\",\"type\":\"GlyphRenderer\"},{\"attributes\":{\"data_source\":{\"id\":\"0ac52f39-ef6c-4d6d-8857-14c21306fa55\",\"type\":\"ColumnDataSource\"},\"glyph\":{\"id\":\"051ad909-d868-4825-85ff-fb7d9c596915\",\"type\":\"Line\"},\"hover_glyph\":null,\"muted_glyph\":null,\"nonselection_glyph\":{\"id\":\"1984c6fe-04a2-4f8b-a62d-82e425b27821\",\"type\":\"Line\"},\"selection_glyph\":null,\"view\":{\"id\":\"972eb257-4edd-459a-8939-608cdfa01d27\",\"type\":\"CDSView\"}},\"id\":\"35001011-4f31-434d-a084-f86b2ddae3c7\",\"type\":\"GlyphRenderer\"},{\"attributes\":{\"source\":{\"id\":\"22e13885-8f44-49da-a643-5f603abe8549\",\"type\":\"ColumnDataSource\"}},\"id\":\"d3c75f3f-e755-4238-b479-484e79c5348f\",\"type\":\"CDSView\"},{\"attributes\":{\"line_color\":\"#e377c2\",\"line_dash\":[6],\"x\":{\"field\":\"x\"},\"y\":{\"field\":\"y\"}},\"id\":\"f337913e-5b03-48c3-b4ff-f921d23621b5\",\"type\":\"Line\"},{\"attributes\":{\"data_source\":{\"id\":\"3b370ee0-ae2c-41fb-89d1-454b42d3a915\",\"type\":\"ColumnDataSource\"},\"glyph\":{\"id\":\"af531e2d-83d5-4b47-92a0-a471d5aca074\",\"type\":\"Circle\"},\"hover_glyph\":null,\"muted_glyph\":null,\"nonselection_glyph\":{\"id\":\"7c6a8845-312e-4c09-86d4-ca02f2144d73\",\"type\":\"Circle\"},\"selection_glyph\":null,\"view\":{\"id\":\"2a537732-47c0-4f14-956d-4201ef37d8be\",\"type\":\"CDSView\"}},\"id\":\"6915b09e-f05a-4c1a-ab7f-8a31b204cca6\",\"type\":\"GlyphRenderer\"},{\"attributes\":{\"callback\":null,\"column_names\":[\"x\",\"y\"],\"data\":{\"x\":[1,2,5,10,20,50,100,200,500,1000,2000,5000,10000,20000,50000,100000,200000,500000],\"y\":[2.117943949997425e-06,2.710963599383831e-06,4.56592533737421e-06,8.409959264099598e-06,1.7025042325258255e-05,4.580290988087654e-05,0.00011415104381740093,0.00026345602236688137,0.0007764929905533791,0.0017927349545061588,0.004129466018639505,0.01259315200150013,0.02941844705492258,0.0757505769142881,0.14851688093040138,0.3747408129274845,0.8833944080397487,2.6799722670111805]}},\"id\":\"cbbab7e1-909b-407e-9ae2-ae859eac2db9\",\"type\":\"ColumnDataSource\"},{\"attributes\":{\"label\":{\"value\":\"primes8\"},\"renderers\":[{\"id\":\"6ecc66fd-de9a-4bcb-a11a-6048b256c41a\",\"type\":\"GlyphRenderer\"},{\"id\":\"6915b09e-f05a-4c1a-ab7f-8a31b204cca6\",\"type\":\"GlyphRenderer\"}]},\"id\":\"80aaa05d-8c1e-4956-909a-803a887d7be6\",\"type\":\"LegendItem\"},{\"attributes\":{\"fill_alpha\":{\"value\":0.1},\"fill_color\":{\"value\":\"#1f77b4\"},\"line_alpha\":{\"value\":0.1},\"line_color\":{\"value\":\"#1f77b4\"},\"x\":{\"field\":\"x\"},\"y\":{\"field\":\"y\"}},\"id\":\"7c6a8845-312e-4c09-86d4-ca02f2144d73\",\"type\":\"Circle\"},{\"attributes\":{\"callback\":null,\"column_names\":[\"x\",\"y\"],\"data\":{\"x\":[],\"y\":[]}},\"id\":\"be4ce103-efee-4c81-a616-8d680cee2bd1\",\"type\":\"ColumnDataSource\"},{\"attributes\":{\"line_alpha\":0.1,\"line_color\":\"#1f77b4\",\"line_dash\":[6],\"x\":{\"field\":\"x\"},\"y\":{\"field\":\"y\"}},\"id\":\"15e0ede4-9085-48b5-8e50-e1c59fbe1b8c\",\"type\":\"Line\"},{\"attributes\":{\"fill_color\":{\"value\":\"#e377c2\"},\"line_color\":{\"value\":\"#e377c2\"},\"x\":{\"field\":\"x\"},\"y\":{\"field\":\"y\"}},\"id\":\"5dcebced-ef86-4d3d-8a5e-67fe1ded4542\",\"type\":\"Circle\"},{\"attributes\":{\"fill_color\":{\"value\":\"#7f7f7f\"},\"line_color\":{\"value\":\"#7f7f7f\"},\"x\":{\"field\":\"x\"},\"y\":{\"field\":\"y\"}},\"id\":\"af531e2d-83d5-4b47-92a0-a471d5aca074\",\"type\":\"Circle\"},{\"attributes\":{\"plot\":null,\"text\":\"Timing\"},\"id\":\"b86cf26e-08c3-4ebf-b540-4c4a2563685a\",\"type\":\"Title\"},{\"attributes\":{\"callback\":null,\"column_names\":[\"x\",\"y\"],\"data\":{\"x\":[1,2,5,10,20,50,100,200,500,1000,2000,5000,10000,20000,50000,100000],\"y\":[1.2130476534366608e-06,1.467997208237648e-06,4.073022864758968e-06,1.1913012713193893e-05,2.84070847555995e-05,0.00010114093311131,0.00031305605079978704,0.0009301169775426388,0.0027803779812529683,0.007217969978228211,0.01995837700087577,0.05737720604520291,0.11856548697687685,0.21435352298431098,0.786697433097288,1.6622191059868783]}},\"id\":\"22e13885-8f44-49da-a643-5f603abe8549\",\"type\":\"ColumnDataSource\"},{\"attributes\":{\"label\":{\"value\":\"primes6\"},\"renderers\":[{\"id\":\"35001011-4f31-434d-a084-f86b2ddae3c7\",\"type\":\"GlyphRenderer\"},{\"id\":\"bdf52a98-dc30-491d-9976-247a8a7693ca\",\"type\":\"GlyphRenderer\"}]},\"id\":\"ff347441-39a9-4a76-8fc4-e11d07d230ca\",\"type\":\"LegendItem\"},{\"attributes\":{\"fill_alpha\":{\"value\":0.1},\"fill_color\":{\"value\":\"#1f77b4\"},\"line_alpha\":{\"value\":0.1},\"line_color\":{\"value\":\"#1f77b4\"},\"x\":{\"field\":\"x\"},\"y\":{\"field\":\"y\"}},\"id\":\"b68894e8-00bc-4091-84c2-81aaad694b26\",\"type\":\"Circle\"},{\"attributes\":{\"source\":{\"id\":\"89ff6bc9-fc1e-49c5-8eba-85b8cb83dfb4\",\"type\":\"ColumnDataSource\"}},\"id\":\"91e2d004-76bb-40b5-bd28-aff110ec463f\",\"type\":\"CDSView\"},{\"attributes\":{\"data_source\":{\"id\":\"cbbab7e1-909b-407e-9ae2-ae859eac2db9\",\"type\":\"ColumnDataSource\"},\"glyph\":{\"id\":\"504548b7-5217-4653-823f-f8bd9fccfe56\",\"type\":\"Circle\"},\"hover_glyph\":null,\"muted_glyph\":null,\"nonselection_glyph\":{\"id\":\"b68894e8-00bc-4091-84c2-81aaad694b26\",\"type\":\"Circle\"},\"selection_glyph\":null,\"view\":{\"id\":\"b3202c7b-b0d5-4da0-853c-440aea19ce13\",\"type\":\"CDSView\"}},\"id\":\"31911cfa-eb1f-426d-abc8-52e8a0b325ea\",\"type\":\"GlyphRenderer\"},{\"attributes\":{\"callback\":null,\"start\":1},\"id\":\"79eb9c6e-f22a-4ce8-a3e4-5311d148b6d9\",\"type\":\"DataRange1d\"},{\"attributes\":{\"source\":{\"id\":\"3b370ee0-ae2c-41fb-89d1-454b42d3a915\",\"type\":\"ColumnDataSource\"}},\"id\":\"2a537732-47c0-4f14-956d-4201ef37d8be\",\"type\":\"CDSView\"},{\"attributes\":{\"callback\":null,\"column_names\":[\"x\",\"y\"],\"data\":{\"x\":[1,2,5,10,20,50,100,200,500,1000,2000],\"y\":[2.2810418158769608e-06,2.5780173018574715e-06,7.209018804132938e-06,2.0492938347160816e-05,6.410805508494377e-05,0.00035123503766953945,0.0015158610185608268,0.007402612012811005,0.0685258429730311,0.26473734504543245,1.2196230669505894]}},\"id\":\"2e4eeac4-3f0e-43f3-9736-724a5e602f9e\",\"type\":\"ColumnDataSource\"},{\"attributes\":{\"line_alpha\":0.1,\"line_color\":\"#1f77b4\",\"line_dash\":[6],\"x\":{\"field\":\"x\"},\"y\":{\"field\":\"y\"}},\"id\":\"1984c6fe-04a2-4f8b-a62d-82e425b27821\",\"type\":\"Line\"},{\"attributes\":{\"callback\":null,\"column_names\":[\"x\",\"y\"],\"data\":{\"x\":[1,2,5,10,20,50,100,200,500,1000,2000,5000,10000,20000,50000,100000,200000,500000],\"y\":[2.2349413484334946e-06,2.8919894248247147e-06,4.932982847094536e-06,8.739996701478958e-06,1.6108970157802105e-05,4.211196210235357e-05,9.71650006249547e-05,0.00022170506417751312,0.0006455769762396812,0.0014229100197553635,0.00310503994114697,0.00859425903763622,0.021596965962089598,0.043651859974488616,0.11191033700015396,0.18856479902751744,0.48616820701863617,1.3338420169893652]}},\"id\":\"ba5b2514-7ddf-4e5f-8f05-309b003ef552\",\"type\":\"ColumnDataSource\"},{\"attributes\":{\"below\":[{\"id\":\"4575bb8a-cd3d-467b-8209-5cdcc0c13bc9\",\"type\":\"LogAxis\"}],\"left\":[{\"id\":\"08f3cc4d-1294-4d8a-b163-dbc97d7ed05c\",\"type\":\"LogAxis\"}],\"plot_height\":400,\"plot_width\":800,\"renderers\":[{\"id\":\"4575bb8a-cd3d-467b-8209-5cdcc0c13bc9\",\"type\":\"LogAxis\"},{\"id\":\"9655596c-ba97-4762-936a-8514cc8e4a20\",\"type\":\"Grid\"},{\"id\":\"08f3cc4d-1294-4d8a-b163-dbc97d7ed05c\",\"type\":\"LogAxis\"},{\"id\":\"ca9d8283-1de8-47d8-b620-62e2ec3915f1\",\"type\":\"Grid\"},{\"id\":\"c2063e27-cc44-4973-b29b-eef4feee0336\",\"type\":\"BoxAnnotation\"},{\"id\":\"c3f8cfab-6639-455a-9ca8-cded0d667be5\",\"type\":\"Legend\"},{\"id\":\"78887a69-3013-4468-8ad7-a31582192b81\",\"type\":\"GlyphRenderer\"},{\"id\":\"c0d7bde7-0d63-48e3-8820-0ec16d561071\",\"type\":\"GlyphRenderer\"},{\"id\":\"25276044-5bdd-4d51-b5bf-c05bcc35f67c\",\"type\":\"GlyphRenderer\"},{\"id\":\"a105820c-8ffe-4ee6-a1d0-a2b216d96727\",\"type\":\"GlyphRenderer\"},{\"id\":\"17c57553-ff60-41d8-b1a1-3a005bb95a4d\",\"type\":\"GlyphRenderer\"},{\"id\":\"ecfe8709-982d-4e0e-b728-e95e53302560\",\"type\":\"GlyphRenderer\"},{\"id\":\"369f5245-1ae9-47b1-afda-2b35cee8088a\",\"type\":\"GlyphRenderer\"},{\"id\":\"31911cfa-eb1f-426d-abc8-52e8a0b325ea\",\"type\":\"GlyphRenderer\"},{\"id\":\"3950f526-2af5-4b82-ac79-7067b9d9f3fa\",\"type\":\"GlyphRenderer\"},{\"id\":\"27ce74ba-cd2c-4867-a348-160a7c2a13c0\",\"type\":\"GlyphRenderer\"},{\"id\":\"35001011-4f31-434d-a084-f86b2ddae3c7\",\"type\":\"GlyphRenderer\"},{\"id\":\"bdf52a98-dc30-491d-9976-247a8a7693ca\",\"type\":\"GlyphRenderer\"},{\"id\":\"1388a166-cb8c-4f44-a1dd-fce82872ced3\",\"type\":\"GlyphRenderer\"},{\"id\":\"3c52eabc-623b-47d1-a2ee-db6656ef53d1\",\"type\":\"GlyphRenderer\"},{\"id\":\"6ecc66fd-de9a-4bcb-a11a-6048b256c41a\",\"type\":\"GlyphRenderer\"},{\"id\":\"6915b09e-f05a-4c1a-ab7f-8a31b204cca6\",\"type\":\"GlyphRenderer\"},{\"id\":\"23e2271b-0383-459e-b7b0-ab7cc09b85ab\",\"type\":\"GlyphRenderer\"},{\"id\":\"95155d6e-cc58-477e-92c2-bf4ec4d61cea\",\"type\":\"GlyphRenderer\"}],\"title\":{\"id\":\"b86cf26e-08c3-4ebf-b540-4c4a2563685a\",\"type\":\"Title\"},\"toolbar\":{\"id\":\"9f1e3c0f-3950-40bb-8fcd-b9943a8c5810\",\"type\":\"Toolbar\"},\"toolbar_location\":\"above\",\"x_range\":{\"id\":\"79eb9c6e-f22a-4ce8-a3e4-5311d148b6d9\",\"type\":\"DataRange1d\"},\"x_scale\":{\"id\":\"e6c91093-aaaf-4d99-ab28-63040bafe8a3\",\"type\":\"LogScale\"},\"y_range\":{\"id\":\"2ea0145d-7371-424c-87f7-76ebce2066a3\",\"type\":\"Range1d\"},\"y_scale\":{\"id\":\"385f0b99-fc29-4200-9780-aa224f18a4a1\",\"type\":\"LogScale\"}},\"id\":\"80f0956b-905b-45ed-a8b7-9dde228d3cb5\",\"subtype\":\"Figure\",\"type\":\"Plot\"},{\"attributes\":{\"line_color\":\"#8c564b\",\"line_dash\":[6],\"x\":{\"field\":\"x\"},\"y\":{\"field\":\"y\"}},\"id\":\"051ad909-d868-4825-85ff-fb7d9c596915\",\"type\":\"Line\"},{\"attributes\":{\"source\":{\"id\":\"cbbab7e1-909b-407e-9ae2-ae859eac2db9\",\"type\":\"ColumnDataSource\"}},\"id\":\"b3202c7b-b0d5-4da0-853c-440aea19ce13\",\"type\":\"CDSView\"},{\"attributes\":{\"callback\":null,\"start\":1e-06},\"id\":\"2ea0145d-7371-424c-87f7-76ebce2066a3\",\"type\":\"Range1d\"},{\"attributes\":{\"callback\":null,\"column_names\":[\"x\",\"y\"],\"data\":{\"x\":[1,2,5,10,20,50,100,200,500,1000,2000,5000,10000,20000,50000,100000,200000,500000],\"y\":[2.2349413484334946e-06,2.8919894248247147e-06,4.932982847094536e-06,8.739996701478958e-06,1.6108970157802105e-05,4.211196210235357e-05,9.71650006249547e-05,0.00022170506417751312,0.0006455769762396812,0.0014229100197553635,0.00310503994114697,0.00859425903763622,0.021596965962089598,0.043651859974488616,0.11191033700015396,0.18856479902751744,0.48616820701863617,1.3338420169893652]}},\"id\":\"dafc534e-00ec-4bb1-8e25-d233aa25d647\",\"type\":\"ColumnDataSource\"},{\"attributes\":{\"fill_color\":{\"value\":\"#d62728\"},\"line_color\":{\"value\":\"#d62728\"},\"x\":{\"field\":\"x\"},\"y\":{\"field\":\"y\"}},\"id\":\"504548b7-5217-4653-823f-f8bd9fccfe56\",\"type\":\"Circle\"},{\"attributes\":{\"active_drag\":\"auto\",\"active_inspect\":\"auto\",\"active_scroll\":\"auto\",\"active_tap\":\"auto\",\"tools\":[{\"id\":\"944a5534-104d-4a98-9c69-54726329ea2c\",\"type\":\"PanTool\"},{\"id\":\"9c38b34d-4c84-428b-8333-653ab539ef8c\",\"type\":\"WheelZoomTool\"},{\"id\":\"6566b3ff-3a8e-438e-81c5-53edbb5339e7\",\"type\":\"BoxZoomTool\"},{\"id\":\"d72932e2-28cf-4530-82f6-93692b7edd09\",\"type\":\"SaveTool\"},{\"id\":\"c67013d0-d813-4726-951f-cf2a72befddf\",\"type\":\"ResetTool\"},{\"id\":\"0616ba90-162c-429b-b6cb-6da0d4c9255e\",\"type\":\"HelpTool\"}]},\"id\":\"9f1e3c0f-3950-40bb-8fcd-b9943a8c5810\",\"type\":\"Toolbar\"},{\"attributes\":{\"num_minor_ticks\":10},\"id\":\"77110b69-5f8f-4cc4-8250-cf12028c1429\",\"type\":\"LogTicker\"},{\"attributes\":{\"source\":{\"id\":\"ba5b2514-7ddf-4e5f-8f05-309b003ef552\",\"type\":\"ColumnDataSource\"}},\"id\":\"e1cc3c9f-b99d-47d0-9375-a5fa1b1da777\",\"type\":\"CDSView\"},{\"attributes\":{\"label\":{\"value\":\"primes4\"},\"renderers\":[{\"id\":\"369f5245-1ae9-47b1-afda-2b35cee8088a\",\"type\":\"GlyphRenderer\"},{\"id\":\"31911cfa-eb1f-426d-abc8-52e8a0b325ea\",\"type\":\"GlyphRenderer\"}]},\"id\":\"b0234b76-fc92-4df1-89e5-c6170d8f2387\",\"type\":\"LegendItem\"},{\"attributes\":{\"callback\":null,\"column_names\":[\"x\",\"y\"],\"data\":{\"x\":[1,2,5,10,20,50,100,200,500,1000,2000,5000,10000,20000,50000,100000,200000],\"y\":[1.1759111657738686e-06,1.7249258235096931e-06,3.1728995963931084e-06,7.860944606363773e-06,2.368004061281681e-05,5.4028001613914967e-05,0.00014570809435099363,0.0003429809585213661,0.0009974519489333034,0.0023139420663937926,0.005792392999865115,0.021745612961240113,0.04831241595093161,0.08587511407677084,0.23745159804821014,0.5505964489420876,1.2415644458960742]}},\"id\":\"60d0636c-d809-43ad-a71e-f41a00fb2939\",\"type\":\"ColumnDataSource\"},{\"attributes\":{\"num_minor_ticks\":10},\"id\":\"fafb1441-b425-4c1e-a18e-27768d05118c\",\"type\":\"LogTicker\"},{\"attributes\":{\"fill_color\":{\"value\":\"#9467bd\"},\"line_color\":{\"value\":\"#9467bd\"},\"x\":{\"field\":\"x\"},\"y\":{\"field\":\"y\"}},\"id\":\"ac8cacef-bd39-430e-860e-8545ef487192\",\"type\":\"Circle\"},{\"attributes\":{\"plot\":{\"id\":\"80f0956b-905b-45ed-a8b7-9dde228d3cb5\",\"subtype\":\"Figure\",\"type\":\"Plot\"},\"ticker\":{\"id\":\"77110b69-5f8f-4cc4-8250-cf12028c1429\",\"type\":\"LogTicker\"}},\"id\":\"9655596c-ba97-4762-936a-8514cc8e4a20\",\"type\":\"Grid\"},{\"attributes\":{\"callback\":null,\"column_names\":[\"x\",\"y\"],\"data\":{\"x\":[1,2,5,10,20,50,100,200,500,1000,2000,5000,10000],\"y\":[1.1100200936198235e-06,1.4940742403268814e-06,2.810964360833168e-06,6.005982868373394e-06,1.6966951079666615e-05,8.20700079202652e-05,0.00030898593831807375,0.0012127070222049952,0.007740333094261587,0.040346126072108746,0.12615202099550515,0.7999409510521218,3.12910230003763]}},\"id\":\"88ec0084-b897-493f-908f-d62b98033fe4\",\"type\":\"ColumnDataSource\"},{\"attributes\":{},\"id\":\"e6c91093-aaaf-4d99-ab28-63040bafe8a3\",\"type\":\"LogScale\"},{\"attributes\":{\"source\":{\"id\":\"dafc534e-00ec-4bb1-8e25-d233aa25d647\",\"type\":\"ColumnDataSource\"}},\"id\":\"da55ce94-64c7-490f-9bc6-3d7d0a007aaa\",\"type\":\"CDSView\"},{\"attributes\":{\"data_source\":{\"id\":\"ba5b2514-7ddf-4e5f-8f05-309b003ef552\",\"type\":\"ColumnDataSource\"},\"glyph\":{\"id\":\"f529420c-afa1-4f00-a87e-6f4445297294\",\"type\":\"Line\"},\"hover_glyph\":null,\"muted_glyph\":null,\"nonselection_glyph\":{\"id\":\"97760998-a2ad-49ac-9d14-6b99e8b9a5ed\",\"type\":\"Line\"},\"selection_glyph\":null,\"view\":{\"id\":\"e1cc3c9f-b99d-47d0-9375-a5fa1b1da777\",\"type\":\"CDSView\"}},\"id\":\"3950f526-2af5-4b82-ac79-7067b9d9f3fa\",\"type\":\"GlyphRenderer\"},{\"attributes\":{\"axis_label\":\"Primes\",\"formatter\":{\"id\":\"1df11fc1-b1ed-4018-b5d5-b7cd6edf9881\",\"type\":\"NumeralTickFormatter\"},\"plot\":{\"id\":\"80f0956b-905b-45ed-a8b7-9dde228d3cb5\",\"subtype\":\"Figure\",\"type\":\"Plot\"},\"ticker\":{\"id\":\"77110b69-5f8f-4cc4-8250-cf12028c1429\",\"type\":\"LogTicker\"}},\"id\":\"4575bb8a-cd3d-467b-8209-5cdcc0c13bc9\",\"type\":\"LogAxis\"},{\"attributes\":{},\"id\":\"385f0b99-fc29-4200-9780-aa224f18a4a1\",\"type\":\"LogScale\"},{\"attributes\":{\"line_alpha\":0.1,\"line_color\":\"#1f77b4\",\"line_dash\":[6],\"x\":{\"field\":\"x\"},\"y\":{\"field\":\"y\"}},\"id\":\"97760998-a2ad-49ac-9d14-6b99e8b9a5ed\",\"type\":\"Line\"},{\"attributes\":{\"axis_label\":\"Seconds\",\"formatter\":{\"id\":\"08aafaff-ff89-410d-ad68-61071c333cd7\",\"type\":\"LogTickFormatter\"},\"plot\":{\"id\":\"80f0956b-905b-45ed-a8b7-9dde228d3cb5\",\"subtype\":\"Figure\",\"type\":\"Plot\"},\"ticker\":{\"id\":\"fafb1441-b425-4c1e-a18e-27768d05118c\",\"type\":\"LogTicker\"}},\"id\":\"08f3cc4d-1294-4d8a-b163-dbc97d7ed05c\",\"type\":\"LogAxis\"},{\"attributes\":{\"label\":{\"value\":\"primes5\"},\"renderers\":[{\"id\":\"3950f526-2af5-4b82-ac79-7067b9d9f3fa\",\"type\":\"GlyphRenderer\"},{\"id\":\"27ce74ba-cd2c-4867-a348-160a7c2a13c0\",\"type\":\"GlyphRenderer\"}]},\"id\":\"83896bc5-ef89-4baa-8eb7-3ee702f09ab2\",\"type\":\"LegendItem\"},{\"attributes\":{\"dimension\":1,\"plot\":{\"id\":\"80f0956b-905b-45ed-a8b7-9dde228d3cb5\",\"subtype\":\"Figure\",\"type\":\"Plot\"},\"ticker\":{\"id\":\"fafb1441-b425-4c1e-a18e-27768d05118c\",\"type\":\"LogTicker\"}},\"id\":\"ca9d8283-1de8-47d8-b620-62e2ec3915f1\",\"type\":\"Grid\"},{\"attributes\":{\"callback\":null,\"column_names\":[\"x\",\"y\"],\"data\":{\"x\":[1,2,5,10,20,50,100,200,500,1000,2000,5000,10000],\"y\":[1.1100200936198235e-06,1.4940742403268814e-06,2.810964360833168e-06,6.005982868373394e-06,1.6966951079666615e-05,8.20700079202652e-05,0.00030898593831807375,0.0012127070222049952,0.007740333094261587,0.040346126072108746,0.12615202099550515,0.7999409510521218,3.12910230003763]}},\"id\":\"0ac52f39-ef6c-4d6d-8857-14c21306fa55\",\"type\":\"ColumnDataSource\"},{\"attributes\":{\"source\":{\"id\":\"767ce9a9-3488-4482-97fd-6f759fd87e1f\",\"type\":\"ColumnDataSource\"}},\"id\":\"79165e77-c890-4aae-85c1-86c48a51e92a\",\"type\":\"CDSView\"},{\"attributes\":{\"line_alpha\":0.1,\"line_color\":\"#1f77b4\",\"line_dash\":[6],\"x\":{\"field\":\"x\"},\"y\":{\"field\":\"y\"}},\"id\":\"1ff07bd9-cff9-4393-801c-f9bc561723c8\",\"type\":\"Line\"},{\"attributes\":{\"source\":{\"id\":\"0ac52f39-ef6c-4d6d-8857-14c21306fa55\",\"type\":\"ColumnDataSource\"}},\"id\":\"972eb257-4edd-459a-8939-608cdfa01d27\",\"type\":\"CDSView\"},{\"attributes\":{\"data_source\":{\"id\":\"dafc534e-00ec-4bb1-8e25-d233aa25d647\",\"type\":\"ColumnDataSource\"},\"glyph\":{\"id\":\"ac8cacef-bd39-430e-860e-8545ef487192\",\"type\":\"Circle\"},\"hover_glyph\":null,\"muted_glyph\":null,\"nonselection_glyph\":{\"id\":\"e1164d7b-a9d4-4cfe-8fb5-c8458a2a550c\",\"type\":\"Circle\"},\"selection_glyph\":null,\"view\":{\"id\":\"da55ce94-64c7-490f-9bc6-3d7d0a007aaa\",\"type\":\"CDSView\"}},\"id\":\"27ce74ba-cd2c-4867-a348-160a7c2a13c0\",\"type\":\"GlyphRenderer\"},{\"attributes\":{\"callback\":null,\"column_names\":[\"x\",\"y\"],\"data\":{\"x\":[1,2,5,10,20,50,100,200,500,1000,2000,5000,10000,20000,50000],\"y\":[1.4400575309991837e-06,2.609100192785263e-06,1.1423020623624325e-05,1.527706626802683e-05,6.611598655581474e-05,0.00011964596342295408,0.0005128270713612437,0.0007289999630302191,0.0026792309945449233,0.006290751043707132,0.016653549042530358,0.056266322964802384,0.14411914395168424,0.30627229798119515,1.3236096629407257]}},\"id\":\"14c4a813-2fcf-4523-b92b-bc139e99c88d\",\"type\":\"ColumnDataSource\"},{\"attributes\":{\"callback\":null,\"column_names\":[\"x\",\"y\"],\"data\":{\"x\":[1,2,5,10,20,50,100,200,500,1000,2000,5000,10000,20000,50000,100000,200000],\"y\":[1.1759111657738686e-06,1.7249258235096931e-06,3.1728995963931084e-06,7.860944606363773e-06,2.368004061281681e-05,5.4028001613914967e-05,0.00014570809435099363,0.0003429809585213661,0.0009974519489333034,0.0023139420663937926,0.005792392999865115,0.021745612961240113,0.04831241595093161,0.08587511407677084,0.23745159804821014,0.5505964489420876,1.2415644458960742]}},\"id\":\"3b370ee0-ae2c-41fb-89d1-454b42d3a915\",\"type\":\"ColumnDataSource\"},{\"attributes\":{\"background_fill_alpha\":{\"value\":0.5},\"click_policy\":\"hide\",\"items\":[{\"id\":\"2959b1ae-984d-4fdb-bfd4-cc12a68b65a2\",\"type\":\"LegendItem\"},{\"id\":\"685780fe-f94b-4310-a6e8-ae5f53097691\",\"type\":\"LegendItem\"},{\"id\":\"cc04a7b1-1932-40ca-b66c-7aef8c97a93c\",\"type\":\"LegendItem\"},{\"id\":\"b0234b76-fc92-4df1-89e5-c6170d8f2387\",\"type\":\"LegendItem\"},{\"id\":\"83896bc5-ef89-4baa-8eb7-3ee702f09ab2\",\"type\":\"LegendItem\"},{\"id\":\"ff347441-39a9-4a76-8fc4-e11d07d230ca\",\"type\":\"LegendItem\"},{\"id\":\"0deed8c4-ddd1-40b0-9eae-b66c454beb12\",\"type\":\"LegendItem\"},{\"id\":\"80aaa05d-8c1e-4956-909a-803a887d7be6\",\"type\":\"LegendItem\"},{\"id\":\"f92e849b-1069-4f35-b2aa-56ed9bba5959\",\"type\":\"LegendItem\"}],\"location\":\"top_left\",\"plot\":{\"id\":\"80f0956b-905b-45ed-a8b7-9dde228d3cb5\",\"subtype\":\"Figure\",\"type\":\"Plot\"}},\"id\":\"c3f8cfab-6639-455a-9ca8-cded0d667be5\",\"type\":\"Legend\"},{\"attributes\":{\"line_color\":\"#9467bd\",\"line_dash\":[6],\"x\":{\"field\":\"x\"},\"y\":{\"field\":\"y\"}},\"id\":\"f529420c-afa1-4f00-a87e-6f4445297294\",\"type\":\"Line\"},{\"attributes\":{\"label\":{\"value\":\"primes1\"},\"renderers\":[{\"id\":\"78887a69-3013-4468-8ad7-a31582192b81\",\"type\":\"GlyphRenderer\"},{\"id\":\"c0d7bde7-0d63-48e3-8820-0ec16d561071\",\"type\":\"GlyphRenderer\"}]},\"id\":\"2959b1ae-984d-4fdb-bfd4-cc12a68b65a2\",\"type\":\"LegendItem\"},{\"attributes\":{\"fill_alpha\":{\"value\":0.1},\"fill_color\":{\"value\":\"#1f77b4\"},\"line_alpha\":{\"value\":0.1},\"line_color\":{\"value\":\"#1f77b4\"},\"x\":{\"field\":\"x\"},\"y\":{\"field\":\"y\"}},\"id\":\"e1164d7b-a9d4-4cfe-8fb5-c8458a2a550c\",\"type\":\"Circle\"},{\"attributes\":{\"ticker\":null},\"id\":\"08aafaff-ff89-410d-ad68-61071c333cd7\",\"type\":\"LogTickFormatter\"},{\"attributes\":{\"fill_color\":{\"value\":\"#8c564b\"},\"line_color\":{\"value\":\"#8c564b\"},\"x\":{\"field\":\"x\"},\"y\":{\"field\":\"y\"}},\"id\":\"6da0a504-5101-4365-a485-abdd7f342f9b\",\"type\":\"Circle\"},{\"attributes\":{\"callback\":null,\"column_names\":[\"x\",\"y\"],\"data\":{\"x\":[1,2,5,10,20,50,100,200,500,1000,2000,5000],\"y\":[1.4139804989099503e-06,2.2620661184191704e-06,5.381996743381023e-06,1.3141077943146229e-05,3.996898885816336e-05,0.00021801097318530083,0.0009484479669481516,0.004649461014196277,0.033985527930781245,0.14049233100377023,0.6119923630030826,4.361634815926664]}},\"id\":\"843279c3-670e-427e-bfa9-0411c71a8339\",\"type\":\"ColumnDataSource\"},{\"attributes\":{\"source\":{\"id\":\"60d0636c-d809-43ad-a71e-f41a00fb2939\",\"type\":\"ColumnDataSource\"}},\"id\":\"b9ff9dce-c4e7-4ce3-b7e7-e6ec07c8873b\",\"type\":\"CDSView\"},{\"attributes\":{},\"id\":\"944a5534-104d-4a98-9c69-54726329ea2c\",\"type\":\"PanTool\"},{\"attributes\":{\"line_color\":\"#7f7f7f\",\"line_dash\":[6],\"x\":{\"field\":\"x\"},\"y\":{\"field\":\"y\"}},\"id\":\"a930c12d-34fd-4311-bd2f-ffe664fd2498\",\"type\":\"Line\"},{\"attributes\":{\"bottom_units\":\"screen\",\"fill_alpha\":{\"value\":0.5},\"fill_color\":{\"value\":\"lightgrey\"},\"left_units\":\"screen\",\"level\":\"overlay\",\"line_alpha\":{\"value\":1.0},\"line_color\":{\"value\":\"black\"},\"line_dash\":[4,4],\"line_width\":{\"value\":2},\"plot\":null,\"render_mode\":\"css\",\"right_units\":\"screen\",\"top_units\":\"screen\"},\"id\":\"c2063e27-cc44-4973-b29b-eef4feee0336\",\"type\":\"BoxAnnotation\"},{\"attributes\":{\"callback\":null,\"column_names\":[\"x\",\"y\"],\"data\":{\"x\":[1,2,5,10,20,50,100,200,500,1000,2000,5000,10000,20000,50000,100000],\"y\":[1.2130476534366608e-06,1.467997208237648e-06,4.073022864758968e-06,1.1913012713193893e-05,2.84070847555995e-05,0.00010114093311131,0.00031305605079978704,0.0009301169775426388,0.0027803779812529683,0.007217969978228211,0.01995837700087577,0.05737720604520291,0.11856548697687685,0.21435352298431098,0.786697433097288,1.6622191059868783]}},\"id\":\"89ff6bc9-fc1e-49c5-8eba-85b8cb83dfb4\",\"type\":\"ColumnDataSource\"},{\"attributes\":{\"line_alpha\":0.1,\"line_color\":\"#1f77b4\",\"line_dash\":[6],\"x\":{\"field\":\"x\"},\"y\":{\"field\":\"y\"}},\"id\":\"d78ed913-2f91-4639-9e3e-a0a3dd29d410\",\"type\":\"Line\"},{\"attributes\":{\"data_source\":{\"id\":\"60d0636c-d809-43ad-a71e-f41a00fb2939\",\"type\":\"ColumnDataSource\"},\"glyph\":{\"id\":\"a930c12d-34fd-4311-bd2f-ffe664fd2498\",\"type\":\"Line\"},\"hover_glyph\":null,\"muted_glyph\":null,\"nonselection_glyph\":{\"id\":\"15e0ede4-9085-48b5-8e50-e1c59fbe1b8c\",\"type\":\"Line\"},\"selection_glyph\":null,\"view\":{\"id\":\"b9ff9dce-c4e7-4ce3-b7e7-e6ec07c8873b\",\"type\":\"CDSView\"}},\"id\":\"6ecc66fd-de9a-4bcb-a11a-6048b256c41a\",\"type\":\"GlyphRenderer\"},{\"attributes\":{},\"id\":\"9c38b34d-4c84-428b-8333-653ab539ef8c\",\"type\":\"WheelZoomTool\"},{\"attributes\":{\"overlay\":{\"id\":\"c2063e27-cc44-4973-b29b-eef4feee0336\",\"type\":\"BoxAnnotation\"}},\"id\":\"6566b3ff-3a8e-438e-81c5-53edbb5339e7\",\"type\":\"BoxZoomTool\"},{\"attributes\":{\"label\":{\"value\":\"primes7\"},\"renderers\":[{\"id\":\"1388a166-cb8c-4f44-a1dd-fce82872ced3\",\"type\":\"GlyphRenderer\"},{\"id\":\"3c52eabc-623b-47d1-a2ee-db6656ef53d1\",\"type\":\"GlyphRenderer\"}]},\"id\":\"0deed8c4-ddd1-40b0-9eae-b66c454beb12\",\"type\":\"LegendItem\"},{\"attributes\":{\"data_source\":{\"id\":\"22e13885-8f44-49da-a643-5f603abe8549\",\"type\":\"ColumnDataSource\"},\"glyph\":{\"id\":\"5dcebced-ef86-4d3d-8a5e-67fe1ded4542\",\"type\":\"Circle\"},\"hover_glyph\":null,\"muted_glyph\":null,\"nonselection_glyph\":{\"id\":\"3d2d6697-c6f3-4ea8-92d0-8ea45d2e86cb\",\"type\":\"Circle\"},\"selection_glyph\":null,\"view\":{\"id\":\"d3c75f3f-e755-4238-b479-484e79c5348f\",\"type\":\"CDSView\"}},\"id\":\"3c52eabc-623b-47d1-a2ee-db6656ef53d1\",\"type\":\"GlyphRenderer\"},{\"attributes\":{},\"id\":\"d72932e2-28cf-4530-82f6-93692b7edd09\",\"type\":\"SaveTool\"},{\"attributes\":{},\"id\":\"c67013d0-d813-4726-951f-cf2a72befddf\",\"type\":\"ResetTool\"},{\"attributes\":{},\"id\":\"0616ba90-162c-429b-b6cb-6da0d4c9255e\",\"type\":\"HelpTool\"}],\"root_ids\":[\"80f0956b-905b-45ed-a8b7-9dde228d3cb5\"]},\"title\":\"Bokeh Application\",\"version\":\"0.12.14\"}};\n",
       "  var render_items = [{\"docid\":\"cfeb3447-8883-44ec-ba7b-d5a40ce01be2\",\"elementid\":\"b9efa470-b05c-414a-a552-50c800e69b37\",\"modelid\":\"80f0956b-905b-45ed-a8b7-9dde228d3cb5\",\"notebook_comms_target\":\"bd749194-c4b8-4779-9526-06e39fc8167b\"}];\n",
       "  root.Bokeh.embed.embed_items_notebook(docs_json, render_items);\n",
       "\n",
       "  }\n",
       "  if (root.Bokeh !== undefined) {\n",
       "    embed_document(root);\n",
       "  } else {\n",
       "    var attempts = 0;\n",
       "    var timer = setInterval(function(root) {\n",
       "      if (root.Bokeh !== undefined) {\n",
       "        embed_document(root);\n",
       "        clearInterval(timer);\n",
       "      }\n",
       "      attempts++;\n",
       "      if (attempts > 100) {\n",
       "        console.log(\"Bokeh: ERROR: Unable to run BokehJS code because BokehJS library is missing\")\n",
       "        clearInterval(timer);\n",
       "      }\n",
       "    }, 10, root)\n",
       "  }\n",
       "})(window);"
      ],
      "application/vnd.bokehjs_exec.v0+json": ""
     },
     "metadata": {
      "application/vnd.bokehjs_exec.v0+json": {
       "id": "80f0956b-905b-45ed-a8b7-9dde228d3cb5"
      }
     },
     "output_type": "display_data"
    }
   ],
   "source": [
    "timing_plot(primes9)"
   ]
  },
  {
   "cell_type": "code",
   "execution_count": 23,
   "metadata": {
    "slideshow": {
     "slide_type": "slide"
    }
   },
   "outputs": [
    {
     "data": {
      "text/html": [
       "\n",
       "<div class=\"bk-root\">\n",
       "    <div class=\"bk-plotdiv\" id=\"f03380a0-80e4-458f-b98a-ceb159bb526d\"></div>\n",
       "</div>"
      ]
     },
     "metadata": {},
     "output_type": "display_data"
    },
    {
     "data": {
      "application/javascript": [
       "(function(root) {\n",
       "  function embed_document(root) {\n",
       "    \n",
       "  var docs_json = {\"f50233b3-4898-4f35-8826-4251f597a651\":{\"roots\":{\"references\":[{\"attributes\":{\"source\":{\"id\":\"5175cff6-eb84-4d00-a7e8-c347d81c6076\",\"type\":\"ColumnDataSource\"}},\"id\":\"c801cfcd-0d96-4f65-8ec0-693fa3cd84d9\",\"type\":\"CDSView\"},{\"attributes\":{\"fill_alpha\":{\"value\":0.1},\"fill_color\":{\"value\":\"#1f77b4\"},\"line_alpha\":{\"value\":0.1},\"line_color\":{\"value\":\"#1f77b4\"},\"x\":{\"field\":\"x\"},\"y\":{\"field\":\"y\"}},\"id\":\"5871b277-2085-4c6d-b833-4f01bed34f49\",\"type\":\"Circle\"},{\"attributes\":{\"source\":{\"id\":\"59bae103-4f89-4128-ab6f-1c398c1ad0cd\",\"type\":\"ColumnDataSource\"}},\"id\":\"ab2157d4-1694-41df-b2b1-e71b9ab84942\",\"type\":\"CDSView\"},{\"attributes\":{\"source\":{\"id\":\"a8c3edd2-1b14-48df-be3c-43a745a857f4\",\"type\":\"ColumnDataSource\"}},\"id\":\"39a63f2c-f888-4903-89cd-ab7bc1eea7c1\",\"type\":\"CDSView\"},{\"attributes\":{\"fill_color\":{\"value\":\"#17becf\"},\"line_color\":{\"value\":\"#17becf\"},\"x\":{\"field\":\"x\"},\"y\":{\"field\":\"y\"}},\"id\":\"49a2806b-d59e-41dd-bdfb-e5ff5d2f066e\",\"type\":\"Circle\"},{\"attributes\":{\"data_source\":{\"id\":\"a8c3edd2-1b14-48df-be3c-43a745a857f4\",\"type\":\"ColumnDataSource\"},\"glyph\":{\"id\":\"49a2806b-d59e-41dd-bdfb-e5ff5d2f066e\",\"type\":\"Circle\"},\"hover_glyph\":null,\"muted_glyph\":null,\"nonselection_glyph\":{\"id\":\"5871b277-2085-4c6d-b833-4f01bed34f49\",\"type\":\"Circle\"},\"selection_glyph\":null,\"view\":{\"id\":\"39a63f2c-f888-4903-89cd-ab7bc1eea7c1\",\"type\":\"CDSView\"}},\"id\":\"407e5a72-fc2f-402b-be6d-3970ada0522c\",\"type\":\"GlyphRenderer\"},{\"attributes\":{\"format\":\"0[.]0 a\"},\"id\":\"903882d8-3e60-46a2-842c-991547ea3c5c\",\"type\":\"NumeralTickFormatter\"},{\"attributes\":{\"callback\":null,\"column_names\":[\"x\",\"y\"],\"data\":{\"x\":[1,2,5,10,20,50,100,200,500,1000,2000,5000,10000,20000,50000],\"y\":[1.4400575309991837e-06,2.609100192785263e-06,1.1423020623624325e-05,1.527706626802683e-05,6.611598655581474e-05,0.00011964596342295408,0.0005128270713612437,0.0007289999630302191,0.0026792309945449233,0.006290751043707132,0.016653549042530358,0.056266322964802384,0.14411914395168424,0.30627229798119515,1.3236096629407257]}},\"id\":\"59bae103-4f89-4128-ab6f-1c398c1ad0cd\",\"type\":\"ColumnDataSource\"},{\"attributes\":{\"label\":{\"value\":\"primes6\"},\"renderers\":[{\"id\":\"529e42e3-d082-4e5f-9db6-7413ba758d5d\",\"type\":\"GlyphRenderer\"},{\"id\":\"1f146365-e946-4454-86c5-d5b6a69e41cb\",\"type\":\"GlyphRenderer\"}]},\"id\":\"077c7aac-ea72-41ce-9eb9-b1ae033a7bdb\",\"type\":\"LegendItem\"},{\"attributes\":{\"data_source\":{\"id\":\"d2798a42-0254-49e2-b564-0c2119b21ffd\",\"type\":\"ColumnDataSource\"},\"glyph\":{\"id\":\"c669f782-75b8-476c-bd77-7733d90de283\",\"type\":\"Line\"},\"hover_glyph\":null,\"muted_glyph\":null,\"nonselection_glyph\":{\"id\":\"ba1a4631-e85f-48b7-97db-dab1741a2701\",\"type\":\"Line\"},\"selection_glyph\":null,\"view\":{\"id\":\"3cf893e6-e1f6-4438-9f1e-db8e24dbd765\",\"type\":\"CDSView\"}},\"id\":\"79903295-89ee-45d9-9960-9c73e65d5a6d\",\"type\":\"GlyphRenderer\"},{\"attributes\":{\"source\":{\"id\":\"1b779950-8834-492c-b8f8-08f80b2c6bbe\",\"type\":\"ColumnDataSource\"}},\"id\":\"d03054cd-5de9-4205-a4c4-c8a57c0914cf\",\"type\":\"CDSView\"},{\"attributes\":{\"line_color\":\"#ff7f0e\",\"line_dash\":[6],\"x\":{\"field\":\"x\"},\"y\":{\"field\":\"y\"}},\"id\":\"c669f782-75b8-476c-bd77-7733d90de283\",\"type\":\"Line\"},{\"attributes\":{\"data_source\":{\"id\":\"59bae103-4f89-4128-ab6f-1c398c1ad0cd\",\"type\":\"ColumnDataSource\"},\"glyph\":{\"id\":\"2ec33893-e8e6-4851-a13f-084f94652f26\",\"type\":\"Line\"},\"hover_glyph\":null,\"muted_glyph\":null,\"nonselection_glyph\":{\"id\":\"49919859-e46f-4cd2-afe6-570aa5109beb\",\"type\":\"Line\"},\"selection_glyph\":null,\"view\":{\"id\":\"ab2157d4-1694-41df-b2b1-e71b9ab84942\",\"type\":\"CDSView\"}},\"id\":\"0620243b-a3e8-4bfd-b1d0-ee663e00a89b\",\"type\":\"GlyphRenderer\"},{\"attributes\":{\"data_source\":{\"id\":\"409c5559-010b-48a5-a5f2-bceb83004c49\",\"type\":\"ColumnDataSource\"},\"glyph\":{\"id\":\"536b5631-ae15-4398-a834-d1c7101ac928\",\"type\":\"Circle\"},\"hover_glyph\":null,\"muted_glyph\":null,\"nonselection_glyph\":{\"id\":\"7115cd32-80bb-44ac-9ef2-a7f776dffd74\",\"type\":\"Circle\"},\"selection_glyph\":null,\"view\":{\"id\":\"6b320fb9-8333-4769-8bcf-190556b5f42e\",\"type\":\"CDSView\"}},\"id\":\"e59ca4e7-9be2-4fb1-ad26-439958fb95e8\",\"type\":\"GlyphRenderer\"},{\"attributes\":{\"source\":{\"id\":\"d2798a42-0254-49e2-b564-0c2119b21ffd\",\"type\":\"ColumnDataSource\"}},\"id\":\"3cf893e6-e1f6-4438-9f1e-db8e24dbd765\",\"type\":\"CDSView\"},{\"attributes\":{\"callback\":null,\"column_names\":[\"x\",\"y\"],\"data\":{\"x\":[1,2,5,10,20,50,100,200,500,1000,2000,5000],\"y\":[1.4139804989099503e-06,2.2620661184191704e-06,5.381996743381023e-06,1.3141077943146229e-05,3.996898885816336e-05,0.00021801097318530083,0.0009484479669481516,0.004649461014196277,0.033985527930781245,0.14049233100377023,0.6119923630030826,4.361634815926664]}},\"id\":\"409c5559-010b-48a5-a5f2-bceb83004c49\",\"type\":\"ColumnDataSource\"},{\"attributes\":{\"callback\":null,\"column_names\":[\"x\",\"y\"],\"data\":{\"x\":[1,2,5,10,20,50,100,200,500,1000,2000,5000],\"y\":[1.4139804989099503e-06,2.2620661184191704e-06,5.381996743381023e-06,1.3141077943146229e-05,3.996898885816336e-05,0.00021801097318530083,0.0009484479669481516,0.004649461014196277,0.033985527930781245,0.14049233100377023,0.6119923630030826,4.361634815926664]}},\"id\":\"d2798a42-0254-49e2-b564-0c2119b21ffd\",\"type\":\"ColumnDataSource\"},{\"attributes\":{\"label\":{\"value\":\"primes2\"},\"renderers\":[{\"id\":\"79903295-89ee-45d9-9960-9c73e65d5a6d\",\"type\":\"GlyphRenderer\"},{\"id\":\"e59ca4e7-9be2-4fb1-ad26-439958fb95e8\",\"type\":\"GlyphRenderer\"}]},\"id\":\"b8e3162a-c662-4c87-b3dc-9a7ba49bafcd\",\"type\":\"LegendItem\"},{\"attributes\":{\"label\":{\"value\":\"primes3\"},\"renderers\":[{\"id\":\"0620243b-a3e8-4bfd-b1d0-ee663e00a89b\",\"type\":\"GlyphRenderer\"},{\"id\":\"3d015f61-99f8-4407-9727-a0d427800dd8\",\"type\":\"GlyphRenderer\"}]},\"id\":\"8428fed9-94f5-41e7-9af5-b3fcd9f31da5\",\"type\":\"LegendItem\"},{\"attributes\":{\"line_alpha\":0.1,\"line_color\":\"#1f77b4\",\"line_dash\":[6],\"x\":{\"field\":\"x\"},\"y\":{\"field\":\"y\"}},\"id\":\"ba1a4631-e85f-48b7-97db-dab1741a2701\",\"type\":\"Line\"},{\"attributes\":{\"line_color\":\"#2ca02c\",\"line_dash\":[6],\"x\":{\"field\":\"x\"},\"y\":{\"field\":\"y\"}},\"id\":\"2ec33893-e8e6-4851-a13f-084f94652f26\",\"type\":\"Line\"},{\"attributes\":{\"source\":{\"id\":\"409c5559-010b-48a5-a5f2-bceb83004c49\",\"type\":\"ColumnDataSource\"}},\"id\":\"6b320fb9-8333-4769-8bcf-190556b5f42e\",\"type\":\"CDSView\"},{\"attributes\":{\"line_alpha\":0.1,\"line_color\":\"#1f77b4\",\"line_dash\":[6],\"x\":{\"field\":\"x\"},\"y\":{\"field\":\"y\"}},\"id\":\"49919859-e46f-4cd2-afe6-570aa5109beb\",\"type\":\"Line\"},{\"attributes\":{\"fill_alpha\":{\"value\":0.1},\"fill_color\":{\"value\":\"#1f77b4\"},\"line_alpha\":{\"value\":0.1},\"line_color\":{\"value\":\"#1f77b4\"},\"x\":{\"field\":\"x\"},\"y\":{\"field\":\"y\"}},\"id\":\"7115cd32-80bb-44ac-9ef2-a7f776dffd74\",\"type\":\"Circle\"},{\"attributes\":{\"callback\":null,\"column_names\":[\"x\",\"y\"],\"data\":{\"x\":[1,2,5,10,20,50,100,200,500,1000,2000,5000,10000,20000,50000],\"y\":[1.4400575309991837e-06,2.609100192785263e-06,1.1423020623624325e-05,1.527706626802683e-05,6.611598655581474e-05,0.00011964596342295408,0.0005128270713612437,0.0007289999630302191,0.0026792309945449233,0.006290751043707132,0.016653549042530358,0.056266322964802384,0.14411914395168424,0.30627229798119515,1.3236096629407257]}},\"id\":\"6183ce6e-edca-4a3c-8774-ec9d7939b83f\",\"type\":\"ColumnDataSource\"},{\"attributes\":{\"fill_color\":{\"value\":\"#2ca02c\"},\"line_color\":{\"value\":\"#2ca02c\"},\"x\":{\"field\":\"x\"},\"y\":{\"field\":\"y\"}},\"id\":\"350d1c47-5517-4987-bb0b-129b7abd3b73\",\"type\":\"Circle\"},{\"attributes\":{\"callback\":null,\"column_names\":[\"x\",\"y\"],\"data\":{\"x\":[],\"y\":[]}},\"id\":\"a8c3edd2-1b14-48df-be3c-43a745a857f4\",\"type\":\"ColumnDataSource\"},{\"attributes\":{\"fill_alpha\":{\"value\":0.1},\"fill_color\":{\"value\":\"#1f77b4\"},\"line_alpha\":{\"value\":0.1},\"line_color\":{\"value\":\"#1f77b4\"},\"x\":{\"field\":\"x\"},\"y\":{\"field\":\"y\"}},\"id\":\"7f6ef498-f0d4-4ecd-a2fd-424f770accfc\",\"type\":\"Circle\"},{\"attributes\":{\"callback\":null,\"column_names\":[\"x\",\"y\"],\"data\":{\"x\":[1,2,5,10,20,50,100,200,500,1000,2000,5000,10000,20000,50000,100000,200000,500000],\"y\":[2.2349413484334946e-06,2.8919894248247147e-06,4.932982847094536e-06,8.739996701478958e-06,1.6108970157802105e-05,4.211196210235357e-05,9.71650006249547e-05,0.00022170506417751312,0.0006455769762396812,0.0014229100197553635,0.00310503994114697,0.00859425903763622,0.021596965962089598,0.043651859974488616,0.11191033700015396,0.18856479902751744,0.48616820701863617,1.3338420169893652]}},\"id\":\"a648c619-ebc5-4563-a08e-5865fb8175d7\",\"type\":\"ColumnDataSource\"},{\"attributes\":{\"data_source\":{\"id\":\"6183ce6e-edca-4a3c-8774-ec9d7939b83f\",\"type\":\"ColumnDataSource\"},\"glyph\":{\"id\":\"350d1c47-5517-4987-bb0b-129b7abd3b73\",\"type\":\"Circle\"},\"hover_glyph\":null,\"muted_glyph\":null,\"nonselection_glyph\":{\"id\":\"7f6ef498-f0d4-4ecd-a2fd-424f770accfc\",\"type\":\"Circle\"},\"selection_glyph\":null,\"view\":{\"id\":\"9e155260-21b5-41a1-bf99-9bcf319415c8\",\"type\":\"CDSView\"}},\"id\":\"3d015f61-99f8-4407-9727-a0d427800dd8\",\"type\":\"GlyphRenderer\"},{\"attributes\":{\"callback\":null,\"column_names\":[\"x\",\"y\"],\"data\":{\"x\":[1,2,5,10,20,50,100,200,500,1000,2000],\"y\":[2.2810418158769608e-06,2.5780173018574715e-06,7.209018804132938e-06,2.0492938347160816e-05,6.410805508494377e-05,0.00035123503766953945,0.0015158610185608268,0.007402612012811005,0.0685258429730311,0.26473734504543245,1.2196230669505894]}},\"id\":\"1b779950-8834-492c-b8f8-08f80b2c6bbe\",\"type\":\"ColumnDataSource\"},{\"attributes\":{\"source\":{\"id\":\"6183ce6e-edca-4a3c-8774-ec9d7939b83f\",\"type\":\"ColumnDataSource\"}},\"id\":\"9e155260-21b5-41a1-bf99-9bcf319415c8\",\"type\":\"CDSView\"},{\"attributes\":{\"line_alpha\":0.1,\"line_color\":\"#1f77b4\",\"x\":{\"field\":\"x\"},\"y\":{\"field\":\"y\"}},\"id\":\"2d13fcf7-0abc-4c0e-830a-5bbb0de73c5c\",\"type\":\"Line\"},{\"attributes\":{\"callback\":null,\"column_names\":[\"x\",\"y\"],\"data\":{\"x\":[1,2,5,10,20,50,100,200,500,1000,2000,5000,10000,20000,50000,100000,200000,500000],\"y\":[2.117943949997425e-06,2.710963599383831e-06,4.56592533737421e-06,8.409959264099598e-06,1.7025042325258255e-05,4.580290988087654e-05,0.00011415104381740093,0.00026345602236688137,0.0007764929905533791,0.0017927349545061588,0.004129466018639505,0.01259315200150013,0.02941844705492258,0.0757505769142881,0.14851688093040138,0.3747408129274845,0.8833944080397487,2.6799722670111805]}},\"id\":\"5f21ee00-4ae4-4030-b826-ce88511b542d\",\"type\":\"ColumnDataSource\"},{\"attributes\":{\"line_color\":\"#d62728\",\"line_dash\":[6],\"x\":{\"field\":\"x\"},\"y\":{\"field\":\"y\"}},\"id\":\"ecd4dbbc-f461-4e59-82fd-43cf7c2ad367\",\"type\":\"Line\"},{\"attributes\":{\"data_source\":{\"id\":\"5f21ee00-4ae4-4030-b826-ce88511b542d\",\"type\":\"ColumnDataSource\"},\"glyph\":{\"id\":\"ecd4dbbc-f461-4e59-82fd-43cf7c2ad367\",\"type\":\"Line\"},\"hover_glyph\":null,\"muted_glyph\":null,\"nonselection_glyph\":{\"id\":\"467be993-4c96-4c06-8aec-f96597034f18\",\"type\":\"Line\"},\"selection_glyph\":null,\"view\":{\"id\":\"41e43849-2b77-4854-a448-246342461250\",\"type\":\"CDSView\"}},\"id\":\"be77b52d-86d7-458c-a427-bd070e742cc6\",\"type\":\"GlyphRenderer\"},{\"attributes\":{\"callback\":null,\"column_names\":[\"x\",\"y\"],\"data\":{\"x\":[1,2,5,10,20,50,100,200,500,1000,2000,5000,10000,20000,50000,100000,200000,500000],\"y\":[2.117943949997425e-06,2.710963599383831e-06,4.56592533737421e-06,8.409959264099598e-06,1.7025042325258255e-05,4.580290988087654e-05,0.00011415104381740093,0.00026345602236688137,0.0007764929905533791,0.0017927349545061588,0.004129466018639505,0.01259315200150013,0.02941844705492258,0.0757505769142881,0.14851688093040138,0.3747408129274845,0.8833944080397487,2.6799722670111805]}},\"id\":\"8164d3f2-14ce-454e-801a-c378b96f232e\",\"type\":\"ColumnDataSource\"},{\"attributes\":{\"source\":{\"id\":\"5f21ee00-4ae4-4030-b826-ce88511b542d\",\"type\":\"ColumnDataSource\"}},\"id\":\"41e43849-2b77-4854-a448-246342461250\",\"type\":\"CDSView\"},{\"attributes\":{\"line_alpha\":0.1,\"line_color\":\"#1f77b4\",\"line_dash\":[6],\"x\":{\"field\":\"x\"},\"y\":{\"field\":\"y\"}},\"id\":\"467be993-4c96-4c06-8aec-f96597034f18\",\"type\":\"Line\"},{\"attributes\":{\"label\":{\"value\":\"primes4\"},\"renderers\":[{\"id\":\"be77b52d-86d7-458c-a427-bd070e742cc6\",\"type\":\"GlyphRenderer\"},{\"id\":\"66a0826b-638c-4e7d-923a-2c968b4193de\",\"type\":\"GlyphRenderer\"}]},\"id\":\"a5e387b2-7ec8-4310-8d26-b9d729e25889\",\"type\":\"LegendItem\"},{\"attributes\":{\"fill_color\":{\"value\":\"#d62728\"},\"line_color\":{\"value\":\"#d62728\"},\"x\":{\"field\":\"x\"},\"y\":{\"field\":\"y\"}},\"id\":\"bca124bd-6037-4656-92b1-a8695ca71f98\",\"type\":\"Circle\"},{\"attributes\":{\"callback\":null,\"column_names\":[\"x\",\"y\"],\"data\":{\"x\":[1,2,5,10,20,50,100,200,500,1000,2000,5000,10000,20000,50000,100000,200000,500000],\"y\":[2.2349413484334946e-06,2.8919894248247147e-06,4.932982847094536e-06,8.739996701478958e-06,1.6108970157802105e-05,4.211196210235357e-05,9.71650006249547e-05,0.00022170506417751312,0.0006455769762396812,0.0014229100197553635,0.00310503994114697,0.00859425903763622,0.021596965962089598,0.043651859974488616,0.11191033700015396,0.18856479902751744,0.48616820701863617,1.3338420169893652]}},\"id\":\"b2094fc4-43e8-4738-abb2-4d37cd95340d\",\"type\":\"ColumnDataSource\"},{\"attributes\":{\"fill_alpha\":{\"value\":0.1},\"fill_color\":{\"value\":\"#1f77b4\"},\"line_alpha\":{\"value\":0.1},\"line_color\":{\"value\":\"#1f77b4\"},\"x\":{\"field\":\"x\"},\"y\":{\"field\":\"y\"}},\"id\":\"6860dd4e-7937-4bb6-8c30-fde3607e5a76\",\"type\":\"Circle\"},{\"attributes\":{\"data_source\":{\"id\":\"8164d3f2-14ce-454e-801a-c378b96f232e\",\"type\":\"ColumnDataSource\"},\"glyph\":{\"id\":\"bca124bd-6037-4656-92b1-a8695ca71f98\",\"type\":\"Circle\"},\"hover_glyph\":null,\"muted_glyph\":null,\"nonselection_glyph\":{\"id\":\"3567da45-38f4-42be-b3a2-1348b8434331\",\"type\":\"Circle\"},\"selection_glyph\":null,\"view\":{\"id\":\"61382281-3a94-4592-8cbd-d0d4202c50b1\",\"type\":\"CDSView\"}},\"id\":\"66a0826b-638c-4e7d-923a-2c968b4193de\",\"type\":\"GlyphRenderer\"},{\"attributes\":{\"fill_alpha\":{\"value\":0.1},\"fill_color\":{\"value\":\"#1f77b4\"},\"line_alpha\":{\"value\":0.1},\"line_color\":{\"value\":\"#1f77b4\"},\"x\":{\"field\":\"x\"},\"y\":{\"field\":\"y\"}},\"id\":\"3567da45-38f4-42be-b3a2-1348b8434331\",\"type\":\"Circle\"},{\"attributes\":{\"data_source\":{\"id\":\"f35e21de-79e8-4f5f-9a2d-30ac54b573f6\",\"type\":\"ColumnDataSource\"},\"glyph\":{\"id\":\"5455dbb3-24e1-48fd-9f5f-409d27c6adec\",\"type\":\"Circle\"},\"hover_glyph\":null,\"muted_glyph\":null,\"nonselection_glyph\":{\"id\":\"6860dd4e-7937-4bb6-8c30-fde3607e5a76\",\"type\":\"Circle\"},\"selection_glyph\":null,\"view\":{\"id\":\"1df928e2-a334-403a-b121-dfbb47147b8f\",\"type\":\"CDSView\"}},\"id\":\"1f146365-e946-4454-86c5-d5b6a69e41cb\",\"type\":\"GlyphRenderer\"},{\"attributes\":{\"plot\":null,\"text\":\"Timing\"},\"id\":\"db1c3429-b4ff-4d53-9906-ae0d7cf19498\",\"type\":\"Title\"},{\"attributes\":{\"source\":{\"id\":\"8164d3f2-14ce-454e-801a-c378b96f232e\",\"type\":\"ColumnDataSource\"}},\"id\":\"61382281-3a94-4592-8cbd-d0d4202c50b1\",\"type\":\"CDSView\"},{\"attributes\":{\"line_color\":\"#9467bd\",\"line_dash\":[6],\"x\":{\"field\":\"x\"},\"y\":{\"field\":\"y\"}},\"id\":\"2ee4dac3-f978-4896-a636-e896090737a5\",\"type\":\"Line\"},{\"attributes\":{\"data_source\":{\"id\":\"b2094fc4-43e8-4738-abb2-4d37cd95340d\",\"type\":\"ColumnDataSource\"},\"glyph\":{\"id\":\"2ee4dac3-f978-4896-a636-e896090737a5\",\"type\":\"Line\"},\"hover_glyph\":null,\"muted_glyph\":null,\"nonselection_glyph\":{\"id\":\"f7ec6ee0-158e-4999-b0ac-6828da1f3780\",\"type\":\"Line\"},\"selection_glyph\":null,\"view\":{\"id\":\"dddc180c-54e6-4e7e-8dcf-02faecf02d33\",\"type\":\"CDSView\"}},\"id\":\"7b04ff32-799e-4069-ae0a-53c172705264\",\"type\":\"GlyphRenderer\"},{\"attributes\":{\"source\":{\"id\":\"f35e21de-79e8-4f5f-9a2d-30ac54b573f6\",\"type\":\"ColumnDataSource\"}},\"id\":\"1df928e2-a334-403a-b121-dfbb47147b8f\",\"type\":\"CDSView\"},{\"attributes\":{\"source\":{\"id\":\"b2094fc4-43e8-4738-abb2-4d37cd95340d\",\"type\":\"ColumnDataSource\"}},\"id\":\"dddc180c-54e6-4e7e-8dcf-02faecf02d33\",\"type\":\"CDSView\"},{\"attributes\":{\"line_alpha\":0.1,\"line_color\":\"#1f77b4\",\"line_dash\":[6],\"x\":{\"field\":\"x\"},\"y\":{\"field\":\"y\"}},\"id\":\"f7ec6ee0-158e-4999-b0ac-6828da1f3780\",\"type\":\"Line\"},{\"attributes\":{\"label\":{\"value\":\"primes5\"},\"renderers\":[{\"id\":\"7b04ff32-799e-4069-ae0a-53c172705264\",\"type\":\"GlyphRenderer\"},{\"id\":\"ea6aac8d-ef53-48fd-bc3b-ca995c23e84b\",\"type\":\"GlyphRenderer\"}]},\"id\":\"ca3acbd0-a572-438e-aceb-3d986bb6fc8a\",\"type\":\"LegendItem\"},{\"attributes\":{\"fill_color\":{\"value\":\"#9467bd\"},\"line_color\":{\"value\":\"#9467bd\"},\"x\":{\"field\":\"x\"},\"y\":{\"field\":\"y\"}},\"id\":\"91e6b6d6-39c0-438e-bc52-3f29ee61ef9e\",\"type\":\"Circle\"},{\"attributes\":{\"callback\":null,\"column_names\":[\"x\",\"y\"],\"data\":{\"x\":[1,2,5,10,20,50,100,200,500,1000,2000,5000,10000],\"y\":[1.1100200936198235e-06,1.4940742403268814e-06,2.810964360833168e-06,6.005982868373394e-06,1.6966951079666615e-05,8.20700079202652e-05,0.00030898593831807375,0.0012127070222049952,0.007740333094261587,0.040346126072108746,0.12615202099550515,0.7999409510521218,3.12910230003763]}},\"id\":\"d456ab75-1143-4ade-801f-9473cfec6490\",\"type\":\"ColumnDataSource\"},{\"attributes\":{\"data_source\":{\"id\":\"5175cff6-eb84-4d00-a7e8-c347d81c6076\",\"type\":\"ColumnDataSource\"},\"glyph\":{\"id\":\"287d77bf-efe7-4253-b8c5-13740653212f\",\"type\":\"Circle\"},\"hover_glyph\":null,\"muted_glyph\":null,\"nonselection_glyph\":{\"id\":\"64e53d91-43e2-4caa-9bfe-9fe25f1a2364\",\"type\":\"Circle\"},\"selection_glyph\":null,\"view\":{\"id\":\"c801cfcd-0d96-4f65-8ec0-693fa3cd84d9\",\"type\":\"CDSView\"}},\"id\":\"389c0d05-0bb4-43ff-89e4-42d8a690f9e0\",\"type\":\"GlyphRenderer\"},{\"attributes\":{\"data_source\":{\"id\":\"a648c619-ebc5-4563-a08e-5865fb8175d7\",\"type\":\"ColumnDataSource\"},\"glyph\":{\"id\":\"91e6b6d6-39c0-438e-bc52-3f29ee61ef9e\",\"type\":\"Circle\"},\"hover_glyph\":null,\"muted_glyph\":null,\"nonselection_glyph\":{\"id\":\"8c6dfd57-65b5-4080-b103-29b52348798c\",\"type\":\"Circle\"},\"selection_glyph\":null,\"view\":{\"id\":\"7bfd0ef8-3006-4642-8ee5-e09a164c20f4\",\"type\":\"CDSView\"}},\"id\":\"ea6aac8d-ef53-48fd-bc3b-ca995c23e84b\",\"type\":\"GlyphRenderer\"},{\"attributes\":{\"fill_alpha\":{\"value\":0.1},\"fill_color\":{\"value\":\"#1f77b4\"},\"line_alpha\":{\"value\":0.1},\"line_color\":{\"value\":\"#1f77b4\"},\"x\":{\"field\":\"x\"},\"y\":{\"field\":\"y\"}},\"id\":\"8c6dfd57-65b5-4080-b103-29b52348798c\",\"type\":\"Circle\"},{\"attributes\":{\"callback\":null,\"column_names\":[\"x\",\"y\"],\"data\":{\"x\":[1,2,5,10,20,50,100,200,500,1000,2000,5000,10000,20000,50000,100000],\"y\":[1.2130476534366608e-06,1.467997208237648e-06,4.073022864758968e-06,1.1913012713193893e-05,2.84070847555995e-05,0.00010114093311131,0.00031305605079978704,0.0009301169775426388,0.0027803779812529683,0.007217969978228211,0.01995837700087577,0.05737720604520291,0.11856548697687685,0.21435352298431098,0.786697433097288,1.6622191059868783]}},\"id\":\"0e313d2f-1e8e-4808-8381-c712e743ff48\",\"type\":\"ColumnDataSource\"},{\"attributes\":{\"source\":{\"id\":\"a648c619-ebc5-4563-a08e-5865fb8175d7\",\"type\":\"ColumnDataSource\"}},\"id\":\"7bfd0ef8-3006-4642-8ee5-e09a164c20f4\",\"type\":\"CDSView\"},{\"attributes\":{\"line_color\":\"#8c564b\",\"line_dash\":[6],\"x\":{\"field\":\"x\"},\"y\":{\"field\":\"y\"}},\"id\":\"e28b7ce9-9575-47a0-a968-040c0351927c\",\"type\":\"Line\"},{\"attributes\":{\"data_source\":{\"id\":\"d456ab75-1143-4ade-801f-9473cfec6490\",\"type\":\"ColumnDataSource\"},\"glyph\":{\"id\":\"e28b7ce9-9575-47a0-a968-040c0351927c\",\"type\":\"Line\"},\"hover_glyph\":null,\"muted_glyph\":null,\"nonselection_glyph\":{\"id\":\"d5b3bf4f-8a5b-4d9a-9978-5d6d39c20841\",\"type\":\"Line\"},\"selection_glyph\":null,\"view\":{\"id\":\"a83d4fbc-3efe-4f88-bf66-eeea3f45794a\",\"type\":\"CDSView\"}},\"id\":\"529e42e3-d082-4e5f-9db6-7413ba758d5d\",\"type\":\"GlyphRenderer\"},{\"attributes\":{\"line_color\":\"#e377c2\",\"line_dash\":[6],\"x\":{\"field\":\"x\"},\"y\":{\"field\":\"y\"}},\"id\":\"4237dab5-022d-47ee-ad57-73ebe1c48512\",\"type\":\"Line\"},{\"attributes\":{\"below\":[{\"id\":\"e1f0abc1-c40c-4736-8086-76f3ff0ae674\",\"type\":\"LogAxis\"}],\"left\":[{\"id\":\"dfad9134-4506-4f15-96c7-2f900ecc21c9\",\"type\":\"LogAxis\"}],\"plot_height\":400,\"plot_width\":800,\"renderers\":[{\"id\":\"e1f0abc1-c40c-4736-8086-76f3ff0ae674\",\"type\":\"LogAxis\"},{\"id\":\"bafed814-3d97-4450-8aaf-773280b5dbf4\",\"type\":\"Grid\"},{\"id\":\"dfad9134-4506-4f15-96c7-2f900ecc21c9\",\"type\":\"LogAxis\"},{\"id\":\"c7fd1e9c-71aa-49d6-858d-86acae1b183e\",\"type\":\"Grid\"},{\"id\":\"f9c25a6d-4de7-40da-abb7-246a7a76e3a5\",\"type\":\"BoxAnnotation\"},{\"id\":\"1fa141ed-0a69-4236-abaf-fe33eed7cc85\",\"type\":\"Legend\"},{\"id\":\"e579252b-2cf3-45aa-b5b0-8512f380821e\",\"type\":\"GlyphRenderer\"},{\"id\":\"fbdabb39-25b0-44e2-a44a-033e988fe8d0\",\"type\":\"GlyphRenderer\"},{\"id\":\"79903295-89ee-45d9-9960-9c73e65d5a6d\",\"type\":\"GlyphRenderer\"},{\"id\":\"e59ca4e7-9be2-4fb1-ad26-439958fb95e8\",\"type\":\"GlyphRenderer\"},{\"id\":\"0620243b-a3e8-4bfd-b1d0-ee663e00a89b\",\"type\":\"GlyphRenderer\"},{\"id\":\"3d015f61-99f8-4407-9727-a0d427800dd8\",\"type\":\"GlyphRenderer\"},{\"id\":\"be77b52d-86d7-458c-a427-bd070e742cc6\",\"type\":\"GlyphRenderer\"},{\"id\":\"66a0826b-638c-4e7d-923a-2c968b4193de\",\"type\":\"GlyphRenderer\"},{\"id\":\"7b04ff32-799e-4069-ae0a-53c172705264\",\"type\":\"GlyphRenderer\"},{\"id\":\"ea6aac8d-ef53-48fd-bc3b-ca995c23e84b\",\"type\":\"GlyphRenderer\"},{\"id\":\"529e42e3-d082-4e5f-9db6-7413ba758d5d\",\"type\":\"GlyphRenderer\"},{\"id\":\"1f146365-e946-4454-86c5-d5b6a69e41cb\",\"type\":\"GlyphRenderer\"},{\"id\":\"9b73d0af-07ce-4eb7-a5fc-dc2432eeab34\",\"type\":\"GlyphRenderer\"},{\"id\":\"a1e2a141-afa8-4c2c-b36b-da200fc4f2cf\",\"type\":\"GlyphRenderer\"},{\"id\":\"468b4671-df95-40ca-a87b-fcfc85bdaa80\",\"type\":\"GlyphRenderer\"},{\"id\":\"8b246700-2f7d-4e72-94a9-03922e0ea32f\",\"type\":\"GlyphRenderer\"},{\"id\":\"61da4db9-c282-4119-ae5f-03983dc4464e\",\"type\":\"GlyphRenderer\"},{\"id\":\"389c0d05-0bb4-43ff-89e4-42d8a690f9e0\",\"type\":\"GlyphRenderer\"},{\"id\":\"0074dec3-b05d-456f-a9fe-d4f7036888a7\",\"type\":\"GlyphRenderer\"},{\"id\":\"407e5a72-fc2f-402b-be6d-3970ada0522c\",\"type\":\"GlyphRenderer\"}],\"title\":{\"id\":\"db1c3429-b4ff-4d53-9906-ae0d7cf19498\",\"type\":\"Title\"},\"toolbar\":{\"id\":\"35b3ba31-c98f-4aca-9cd5-ae2a38a8cfb3\",\"type\":\"Toolbar\"},\"toolbar_location\":\"above\",\"x_range\":{\"id\":\"169c633f-8c30-4c3a-891b-beca98c38ee7\",\"type\":\"DataRange1d\"},\"x_scale\":{\"id\":\"99903277-8f00-49cf-9cb7-c223c328d571\",\"type\":\"LogScale\"},\"y_range\":{\"id\":\"a5d4db18-2b53-47df-bf2d-41af1bda4385\",\"type\":\"Range1d\"},\"y_scale\":{\"id\":\"1ac8c282-ced5-4b53-8e00-7f351c735e44\",\"type\":\"LogScale\"}},\"id\":\"1a103fa7-b152-40d7-b514-d59e427e195b\",\"subtype\":\"Figure\",\"type\":\"Plot\"},{\"attributes\":{\"source\":{\"id\":\"d456ab75-1143-4ade-801f-9473cfec6490\",\"type\":\"ColumnDataSource\"}},\"id\":\"a83d4fbc-3efe-4f88-bf66-eeea3f45794a\",\"type\":\"CDSView\"},{\"attributes\":{\"line_alpha\":0.1,\"line_color\":\"#1f77b4\",\"line_dash\":[6],\"x\":{\"field\":\"x\"},\"y\":{\"field\":\"y\"}},\"id\":\"d5b3bf4f-8a5b-4d9a-9978-5d6d39c20841\",\"type\":\"Line\"},{\"attributes\":{\"callback\":null,\"start\":1},\"id\":\"169c633f-8c30-4c3a-891b-beca98c38ee7\",\"type\":\"DataRange1d\"},{\"attributes\":{\"fill_color\":{\"value\":\"#8c564b\"},\"line_color\":{\"value\":\"#8c564b\"},\"x\":{\"field\":\"x\"},\"y\":{\"field\":\"y\"}},\"id\":\"5455dbb3-24e1-48fd-9f5f-409d27c6adec\",\"type\":\"Circle\"},{\"attributes\":{\"axis_label\":\"Seconds\",\"formatter\":{\"id\":\"7548b8d2-3d73-4433-b568-1c8213eb3e21\",\"type\":\"LogTickFormatter\"},\"plot\":{\"id\":\"1a103fa7-b152-40d7-b514-d59e427e195b\",\"subtype\":\"Figure\",\"type\":\"Plot\"},\"ticker\":{\"id\":\"980aa86b-ce59-418e-bca2-9abb0900f394\",\"type\":\"LogTicker\"}},\"id\":\"dfad9134-4506-4f15-96c7-2f900ecc21c9\",\"type\":\"LogAxis\"},{\"attributes\":{\"data_source\":{\"id\":\"0e313d2f-1e8e-4808-8381-c712e743ff48\",\"type\":\"ColumnDataSource\"},\"glyph\":{\"id\":\"4237dab5-022d-47ee-ad57-73ebe1c48512\",\"type\":\"Line\"},\"hover_glyph\":null,\"muted_glyph\":null,\"nonselection_glyph\":{\"id\":\"466f25df-8887-414a-b0a9-5ef7c88982c0\",\"type\":\"Line\"},\"selection_glyph\":null,\"view\":{\"id\":\"404ebc79-2a90-42f0-a83d-ea1799692294\",\"type\":\"CDSView\"}},\"id\":\"9b73d0af-07ce-4eb7-a5fc-dc2432eeab34\",\"type\":\"GlyphRenderer\"},{\"attributes\":{},\"id\":\"99903277-8f00-49cf-9cb7-c223c328d571\",\"type\":\"LogScale\"},{\"attributes\":{\"label\":{\"value\":\"primes\"},\"renderers\":[{\"id\":\"0074dec3-b05d-456f-a9fe-d4f7036888a7\",\"type\":\"GlyphRenderer\"},{\"id\":\"407e5a72-fc2f-402b-be6d-3970ada0522c\",\"type\":\"GlyphRenderer\"}]},\"id\":\"b9d2301e-e8f4-4096-a3e9-cf3516223fd6\",\"type\":\"LegendItem\"},{\"attributes\":{\"callback\":null,\"column_names\":[\"x\",\"y\"],\"data\":{\"x\":[1,2,5,10,20,50,100,200,500,1000,2000,5000,10000,20000,50000,100000],\"y\":[1.2130476534366608e-06,1.467997208237648e-06,4.073022864758968e-06,1.1913012713193893e-05,2.84070847555995e-05,0.00010114093311131,0.00031305605079978704,0.0009301169775426388,0.0027803779812529683,0.007217969978228211,0.01995837700087577,0.05737720604520291,0.11856548697687685,0.21435352298431098,0.786697433097288,1.6622191059868783]}},\"id\":\"44845485-91c3-4750-956c-e080b5548ecb\",\"type\":\"ColumnDataSource\"},{\"attributes\":{\"source\":{\"id\":\"0e313d2f-1e8e-4808-8381-c712e743ff48\",\"type\":\"ColumnDataSource\"}},\"id\":\"404ebc79-2a90-42f0-a83d-ea1799692294\",\"type\":\"CDSView\"},{\"attributes\":{\"line_alpha\":0.1,\"line_color\":\"#1f77b4\",\"line_dash\":[6],\"x\":{\"field\":\"x\"},\"y\":{\"field\":\"y\"}},\"id\":\"494dc82f-e931-4816-a1a4-6db8a5cd38ef\",\"type\":\"Line\"},{\"attributes\":{\"line_alpha\":0.1,\"line_color\":\"#1f77b4\",\"line_dash\":[6],\"x\":{\"field\":\"x\"},\"y\":{\"field\":\"y\"}},\"id\":\"466f25df-8887-414a-b0a9-5ef7c88982c0\",\"type\":\"Line\"},{\"attributes\":{\"label\":{\"value\":\"primes7\"},\"renderers\":[{\"id\":\"9b73d0af-07ce-4eb7-a5fc-dc2432eeab34\",\"type\":\"GlyphRenderer\"},{\"id\":\"a1e2a141-afa8-4c2c-b36b-da200fc4f2cf\",\"type\":\"GlyphRenderer\"}]},\"id\":\"82ce302e-8da4-421b-992a-af9fa2653908\",\"type\":\"LegendItem\"},{\"attributes\":{\"fill_color\":{\"value\":\"#ff7f0e\"},\"line_color\":{\"value\":\"#ff7f0e\"},\"x\":{\"field\":\"x\"},\"y\":{\"field\":\"y\"}},\"id\":\"536b5631-ae15-4398-a834-d1c7101ac928\",\"type\":\"Circle\"},{\"attributes\":{\"fill_color\":{\"value\":\"#e377c2\"},\"line_color\":{\"value\":\"#e377c2\"},\"x\":{\"field\":\"x\"},\"y\":{\"field\":\"y\"}},\"id\":\"7eae1b55-f081-4071-be8d-a5be2e1d0295\",\"type\":\"Circle\"},{\"attributes\":{\"callback\":null,\"column_names\":[\"x\",\"y\"],\"data\":{\"x\":[1,2,5,10,20,50,100,200,500,1000,2000,5000,10000,20000,50000,100000,200000],\"y\":[1.1759111657738686e-06,1.7249258235096931e-06,3.1728995963931084e-06,7.860944606363773e-06,2.368004061281681e-05,5.4028001613914967e-05,0.00014570809435099363,0.0003429809585213661,0.0009974519489333034,0.0023139420663937926,0.005792392999865115,0.021745612961240113,0.04831241595093161,0.08587511407677084,0.23745159804821014,0.5505964489420876,1.2415644458960742]}},\"id\":\"463e67b7-7d50-4a9c-835d-083380e48a3d\",\"type\":\"ColumnDataSource\"},{\"attributes\":{\"fill_alpha\":{\"value\":0.1},\"fill_color\":{\"value\":\"#1f77b4\"},\"line_alpha\":{\"value\":0.1},\"line_color\":{\"value\":\"#1f77b4\"},\"x\":{\"field\":\"x\"},\"y\":{\"field\":\"y\"}},\"id\":\"64e53d91-43e2-4caa-9bfe-9fe25f1a2364\",\"type\":\"Circle\"},{\"attributes\":{\"data_source\":{\"id\":\"a8c3edd2-1b14-48df-be3c-43a745a857f4\",\"type\":\"ColumnDataSource\"},\"glyph\":{\"id\":\"1d820d69-9433-4ba5-b4a5-3933cad84666\",\"type\":\"Line\"},\"hover_glyph\":null,\"muted_glyph\":null,\"nonselection_glyph\":{\"id\":\"2d13fcf7-0abc-4c0e-830a-5bbb0de73c5c\",\"type\":\"Line\"},\"selection_glyph\":null,\"view\":{\"id\":\"a8f7bd79-9d63-4432-a4f4-c5cc64c6d680\",\"type\":\"CDSView\"}},\"id\":\"0074dec3-b05d-456f-a9fe-d4f7036888a7\",\"type\":\"GlyphRenderer\"},{\"attributes\":{\"num_minor_ticks\":10},\"id\":\"85016f6e-1c75-43a9-ab89-e11c55c61894\",\"type\":\"LogTicker\"},{\"attributes\":{\"active_drag\":\"auto\",\"active_inspect\":\"auto\",\"active_scroll\":\"auto\",\"active_tap\":\"auto\",\"tools\":[{\"id\":\"8bfb512b-6b56-44ec-93a2-624c2878f419\",\"type\":\"PanTool\"},{\"id\":\"58f24cb3-d7dc-455d-85c3-6d7e92793e1c\",\"type\":\"WheelZoomTool\"},{\"id\":\"b042c14f-b4d3-4e63-9d27-99145e036f42\",\"type\":\"BoxZoomTool\"},{\"id\":\"892f737e-168d-4726-9169-cb2944fb3f98\",\"type\":\"SaveTool\"},{\"id\":\"0f553564-211c-4a31-9c60-b8b7435b8b23\",\"type\":\"ResetTool\"},{\"id\":\"31fc28f0-9082-4dc9-a90a-f6543a8838f0\",\"type\":\"HelpTool\"}]},\"id\":\"35b3ba31-c98f-4aca-9cd5-ae2a38a8cfb3\",\"type\":\"Toolbar\"},{\"attributes\":{\"data_source\":{\"id\":\"44845485-91c3-4750-956c-e080b5548ecb\",\"type\":\"ColumnDataSource\"},\"glyph\":{\"id\":\"7eae1b55-f081-4071-be8d-a5be2e1d0295\",\"type\":\"Circle\"},\"hover_glyph\":null,\"muted_glyph\":null,\"nonselection_glyph\":{\"id\":\"6425e08a-d32d-46ba-9796-4d1a0861cfb3\",\"type\":\"Circle\"},\"selection_glyph\":null,\"view\":{\"id\":\"391ffbc0-e7d9-48f9-ab44-a7b6ecb9ff12\",\"type\":\"CDSView\"}},\"id\":\"a1e2a141-afa8-4c2c-b36b-da200fc4f2cf\",\"type\":\"GlyphRenderer\"},{\"attributes\":{\"callback\":null,\"start\":1e-06},\"id\":\"a5d4db18-2b53-47df-bf2d-41af1bda4385\",\"type\":\"Range1d\"},{\"attributes\":{\"fill_alpha\":{\"value\":0.1},\"fill_color\":{\"value\":\"#1f77b4\"},\"line_alpha\":{\"value\":0.1},\"line_color\":{\"value\":\"#1f77b4\"},\"x\":{\"field\":\"x\"},\"y\":{\"field\":\"y\"}},\"id\":\"6425e08a-d32d-46ba-9796-4d1a0861cfb3\",\"type\":\"Circle\"},{\"attributes\":{\"plot\":{\"id\":\"1a103fa7-b152-40d7-b514-d59e427e195b\",\"subtype\":\"Figure\",\"type\":\"Plot\"},\"ticker\":{\"id\":\"85016f6e-1c75-43a9-ab89-e11c55c61894\",\"type\":\"LogTicker\"}},\"id\":\"bafed814-3d97-4450-8aaf-773280b5dbf4\",\"type\":\"Grid\"},{\"attributes\":{\"line_color\":\"#17becf\",\"x\":{\"field\":\"x\"},\"y\":{\"field\":\"y\"}},\"id\":\"1d820d69-9433-4ba5-b4a5-3933cad84666\",\"type\":\"Line\"},{\"attributes\":{\"num_minor_ticks\":10},\"id\":\"980aa86b-ce59-418e-bca2-9abb0900f394\",\"type\":\"LogTicker\"},{\"attributes\":{\"source\":{\"id\":\"44845485-91c3-4750-956c-e080b5548ecb\",\"type\":\"ColumnDataSource\"}},\"id\":\"391ffbc0-e7d9-48f9-ab44-a7b6ecb9ff12\",\"type\":\"CDSView\"},{\"attributes\":{\"data_source\":{\"id\":\"1b779950-8834-492c-b8f8-08f80b2c6bbe\",\"type\":\"ColumnDataSource\"},\"glyph\":{\"id\":\"e850b589-c4b5-4b34-b04c-0b8bd681e5ac\",\"type\":\"Circle\"},\"hover_glyph\":null,\"muted_glyph\":null,\"nonselection_glyph\":{\"id\":\"c7ed9539-abf6-4c9e-ae9d-c6aaf94cb8f5\",\"type\":\"Circle\"},\"selection_glyph\":null,\"view\":{\"id\":\"d03054cd-5de9-4205-a4c4-c8a57c0914cf\",\"type\":\"CDSView\"}},\"id\":\"fbdabb39-25b0-44e2-a44a-033e988fe8d0\",\"type\":\"GlyphRenderer\"},{\"attributes\":{\"line_color\":\"#7f7f7f\",\"line_dash\":[6],\"x\":{\"field\":\"x\"},\"y\":{\"field\":\"y\"}},\"id\":\"ca525244-8650-4b2e-9369-d7f387b84382\",\"type\":\"Line\"},{\"attributes\":{\"data_source\":{\"id\":\"463e67b7-7d50-4a9c-835d-083380e48a3d\",\"type\":\"ColumnDataSource\"},\"glyph\":{\"id\":\"ca525244-8650-4b2e-9369-d7f387b84382\",\"type\":\"Line\"},\"hover_glyph\":null,\"muted_glyph\":null,\"nonselection_glyph\":{\"id\":\"01010aca-3c8a-4349-8879-2847c6d5a41f\",\"type\":\"Line\"},\"selection_glyph\":null,\"view\":{\"id\":\"cbfa3a61-6303-4f1e-9189-d9613481c014\",\"type\":\"CDSView\"}},\"id\":\"468b4671-df95-40ca-a87b-fcfc85bdaa80\",\"type\":\"GlyphRenderer\"},{\"attributes\":{},\"id\":\"1ac8c282-ced5-4b53-8e00-7f351c735e44\",\"type\":\"LogScale\"},{\"attributes\":{\"axis_label\":\"Primes\",\"formatter\":{\"id\":\"903882d8-3e60-46a2-842c-991547ea3c5c\",\"type\":\"NumeralTickFormatter\"},\"plot\":{\"id\":\"1a103fa7-b152-40d7-b514-d59e427e195b\",\"subtype\":\"Figure\",\"type\":\"Plot\"},\"ticker\":{\"id\":\"85016f6e-1c75-43a9-ab89-e11c55c61894\",\"type\":\"LogTicker\"}},\"id\":\"e1f0abc1-c40c-4736-8086-76f3ff0ae674\",\"type\":\"LogAxis\"},{\"attributes\":{\"callback\":null,\"column_names\":[\"x\",\"y\"],\"data\":{\"x\":[1,2,5,10,20,50,100,200,500,1000,2000,5000,10000,20000,50000,100000,200000],\"y\":[1.1759111657738686e-06,1.7249258235096931e-06,3.1728995963931084e-06,7.860944606363773e-06,2.368004061281681e-05,5.4028001613914967e-05,0.00014570809435099363,0.0003429809585213661,0.0009974519489333034,0.0023139420663937926,0.005792392999865115,0.021745612961240113,0.04831241595093161,0.08587511407677084,0.23745159804821014,0.5505964489420876,1.2415644458960742]}},\"id\":\"75f369ca-910a-45f4-af9b-2105044d3b6b\",\"type\":\"ColumnDataSource\"},{\"attributes\":{\"dimension\":1,\"plot\":{\"id\":\"1a103fa7-b152-40d7-b514-d59e427e195b\",\"subtype\":\"Figure\",\"type\":\"Plot\"},\"ticker\":{\"id\":\"980aa86b-ce59-418e-bca2-9abb0900f394\",\"type\":\"LogTicker\"}},\"id\":\"c7fd1e9c-71aa-49d6-858d-86acae1b183e\",\"type\":\"Grid\"},{\"attributes\":{\"source\":{\"id\":\"463e67b7-7d50-4a9c-835d-083380e48a3d\",\"type\":\"ColumnDataSource\"}},\"id\":\"cbfa3a61-6303-4f1e-9189-d9613481c014\",\"type\":\"CDSView\"},{\"attributes\":{\"line_color\":\"#1f77b4\",\"line_dash\":[6],\"x\":{\"field\":\"x\"},\"y\":{\"field\":\"y\"}},\"id\":\"79c4a754-ba39-4263-ad9c-1cfa7ad1e42a\",\"type\":\"Line\"},{\"attributes\":{\"line_alpha\":0.1,\"line_color\":\"#1f77b4\",\"line_dash\":[6],\"x\":{\"field\":\"x\"},\"y\":{\"field\":\"y\"}},\"id\":\"01010aca-3c8a-4349-8879-2847c6d5a41f\",\"type\":\"Line\"},{\"attributes\":{\"bottom_units\":\"screen\",\"fill_alpha\":{\"value\":0.5},\"fill_color\":{\"value\":\"lightgrey\"},\"left_units\":\"screen\",\"level\":\"overlay\",\"line_alpha\":{\"value\":1.0},\"line_color\":{\"value\":\"black\"},\"line_dash\":[4,4],\"line_width\":{\"value\":2},\"plot\":null,\"render_mode\":\"css\",\"right_units\":\"screen\",\"top_units\":\"screen\"},\"id\":\"f9c25a6d-4de7-40da-abb7-246a7a76e3a5\",\"type\":\"BoxAnnotation\"},{\"attributes\":{\"label\":{\"value\":\"primes8\"},\"renderers\":[{\"id\":\"468b4671-df95-40ca-a87b-fcfc85bdaa80\",\"type\":\"GlyphRenderer\"},{\"id\":\"8b246700-2f7d-4e72-94a9-03922e0ea32f\",\"type\":\"GlyphRenderer\"}]},\"id\":\"43d30d2c-3a40-4cac-9457-541df33e3027\",\"type\":\"LegendItem\"},{\"attributes\":{\"callback\":null,\"column_names\":[\"x\",\"y\"],\"data\":{\"x\":[1,2,5,10,20,50,100,200,500,1000,2000,5000,10000],\"y\":[1.1100200936198235e-06,1.4940742403268814e-06,2.810964360833168e-06,6.005982868373394e-06,1.6966951079666615e-05,8.20700079202652e-05,0.00030898593831807375,0.0012127070222049952,0.007740333094261587,0.040346126072108746,0.12615202099550515,0.7999409510521218,3.12910230003763]}},\"id\":\"f35e21de-79e8-4f5f-9a2d-30ac54b573f6\",\"type\":\"ColumnDataSource\"},{\"attributes\":{\"fill_color\":{\"value\":\"#7f7f7f\"},\"line_color\":{\"value\":\"#7f7f7f\"},\"x\":{\"field\":\"x\"},\"y\":{\"field\":\"y\"}},\"id\":\"fd4490e6-7d27-40c8-8a20-91e145bdd266\",\"type\":\"Circle\"},{\"attributes\":{\"callback\":null,\"column_names\":[\"x\",\"y\"],\"data\":{\"x\":[1,2,5,10,20,50,100,200,500,1000,2000],\"y\":[2.2810418158769608e-06,2.5780173018574715e-06,7.209018804132938e-06,2.0492938347160816e-05,6.410805508494377e-05,0.00035123503766953945,0.0015158610185608268,0.007402612012811005,0.0685258429730311,0.26473734504543245,1.2196230669505894]}},\"id\":\"ec037cda-99cd-4c81-b37d-788e3bab6aed\",\"type\":\"ColumnDataSource\"},{\"attributes\":{\"callback\":null,\"column_names\":[\"x\",\"y\"],\"data\":{\"x\":[1,2,5,10,20,50,100,200,500,1000,2000,5000,10000,20000,50000,100000],\"y\":[9.610084816813469e-07,1.0420335456728935e-06,2.884073182940483e-06,7.32101034373045e-06,1.9647995941340923e-05,7.404899224638939e-05,0.00022443605121225119,0.0006404849700629711,0.002232304075732827,0.005616959067992866,0.016679872991517186,0.05678238801192492,0.09961596096400172,0.24374219099991024,0.7234439750900492,1.6691597769968212]}},\"id\":\"96b72d60-765a-491c-9911-df5545963be7\",\"type\":\"ColumnDataSource\"},{\"attributes\":{\"ticker\":null},\"id\":\"7548b8d2-3d73-4433-b568-1c8213eb3e21\",\"type\":\"LogTickFormatter\"},{\"attributes\":{\"data_source\":{\"id\":\"75f369ca-910a-45f4-af9b-2105044d3b6b\",\"type\":\"ColumnDataSource\"},\"glyph\":{\"id\":\"fd4490e6-7d27-40c8-8a20-91e145bdd266\",\"type\":\"Circle\"},\"hover_glyph\":null,\"muted_glyph\":null,\"nonselection_glyph\":{\"id\":\"253a23be-8169-435f-b329-293ed2e5c140\",\"type\":\"Circle\"},\"selection_glyph\":null,\"view\":{\"id\":\"fc735b24-8372-4477-a3d7-97a6c76b7612\",\"type\":\"CDSView\"}},\"id\":\"8b246700-2f7d-4e72-94a9-03922e0ea32f\",\"type\":\"GlyphRenderer\"},{\"attributes\":{},\"id\":\"8bfb512b-6b56-44ec-93a2-624c2878f419\",\"type\":\"PanTool\"},{\"attributes\":{},\"id\":\"58f24cb3-d7dc-455d-85c3-6d7e92793e1c\",\"type\":\"WheelZoomTool\"},{\"attributes\":{\"fill_alpha\":{\"value\":0.1},\"fill_color\":{\"value\":\"#1f77b4\"},\"line_alpha\":{\"value\":0.1},\"line_color\":{\"value\":\"#1f77b4\"},\"x\":{\"field\":\"x\"},\"y\":{\"field\":\"y\"}},\"id\":\"253a23be-8169-435f-b329-293ed2e5c140\",\"type\":\"Circle\"},{\"attributes\":{\"data_source\":{\"id\":\"ec037cda-99cd-4c81-b37d-788e3bab6aed\",\"type\":\"ColumnDataSource\"},\"glyph\":{\"id\":\"79c4a754-ba39-4263-ad9c-1cfa7ad1e42a\",\"type\":\"Line\"},\"hover_glyph\":null,\"muted_glyph\":null,\"nonselection_glyph\":{\"id\":\"494dc82f-e931-4816-a1a4-6db8a5cd38ef\",\"type\":\"Line\"},\"selection_glyph\":null,\"view\":{\"id\":\"9f225ee3-1e26-4abf-a035-4bdb61764023\",\"type\":\"CDSView\"}},\"id\":\"e579252b-2cf3-45aa-b5b0-8512f380821e\",\"type\":\"GlyphRenderer\"},{\"attributes\":{\"source\":{\"id\":\"a8c3edd2-1b14-48df-be3c-43a745a857f4\",\"type\":\"ColumnDataSource\"}},\"id\":\"a8f7bd79-9d63-4432-a4f4-c5cc64c6d680\",\"type\":\"CDSView\"},{\"attributes\":{},\"id\":\"892f737e-168d-4726-9169-cb2944fb3f98\",\"type\":\"SaveTool\"},{\"attributes\":{\"source\":{\"id\":\"75f369ca-910a-45f4-af9b-2105044d3b6b\",\"type\":\"ColumnDataSource\"}},\"id\":\"fc735b24-8372-4477-a3d7-97a6c76b7612\",\"type\":\"CDSView\"},{\"attributes\":{\"overlay\":{\"id\":\"f9c25a6d-4de7-40da-abb7-246a7a76e3a5\",\"type\":\"BoxAnnotation\"}},\"id\":\"b042c14f-b4d3-4e63-9d27-99145e036f42\",\"type\":\"BoxZoomTool\"},{\"attributes\":{\"line_color\":\"#bcbd22\",\"line_dash\":[6],\"x\":{\"field\":\"x\"},\"y\":{\"field\":\"y\"}},\"id\":\"94ba04bc-d321-4d75-a264-7be587c64e9f\",\"type\":\"Line\"},{\"attributes\":{\"data_source\":{\"id\":\"96b72d60-765a-491c-9911-df5545963be7\",\"type\":\"ColumnDataSource\"},\"glyph\":{\"id\":\"94ba04bc-d321-4d75-a264-7be587c64e9f\",\"type\":\"Line\"},\"hover_glyph\":null,\"muted_glyph\":null,\"nonselection_glyph\":{\"id\":\"04966325-7ddc-4995-8494-4a257be8d5ec\",\"type\":\"Line\"},\"selection_glyph\":null,\"view\":{\"id\":\"e3bb714b-6976-4d7c-aafb-f501b86debeb\",\"type\":\"CDSView\"}},\"id\":\"61da4db9-c282-4119-ae5f-03983dc4464e\",\"type\":\"GlyphRenderer\"},{\"attributes\":{},\"id\":\"31fc28f0-9082-4dc9-a90a-f6543a8838f0\",\"type\":\"HelpTool\"},{\"attributes\":{\"callback\":null,\"column_names\":[\"x\",\"y\"],\"data\":{\"x\":[1,2,5,10,20,50,100,200,500,1000,2000,5000,10000,20000,50000,100000],\"y\":[9.610084816813469e-07,1.0420335456728935e-06,2.884073182940483e-06,7.32101034373045e-06,1.9647995941340923e-05,7.404899224638939e-05,0.00022443605121225119,0.0006404849700629711,0.002232304075732827,0.005616959067992866,0.016679872991517186,0.05678238801192492,0.09961596096400172,0.24374219099991024,0.7234439750900492,1.6691597769968212]}},\"id\":\"5175cff6-eb84-4d00-a7e8-c347d81c6076\",\"type\":\"ColumnDataSource\"},{\"attributes\":{},\"id\":\"0f553564-211c-4a31-9c60-b8b7435b8b23\",\"type\":\"ResetTool\"},{\"attributes\":{\"source\":{\"id\":\"96b72d60-765a-491c-9911-df5545963be7\",\"type\":\"ColumnDataSource\"}},\"id\":\"e3bb714b-6976-4d7c-aafb-f501b86debeb\",\"type\":\"CDSView\"},{\"attributes\":{\"background_fill_alpha\":{\"value\":0.5},\"click_policy\":\"hide\",\"items\":[{\"id\":\"05fabc0d-f57d-4845-910e-e226a370457a\",\"type\":\"LegendItem\"},{\"id\":\"b8e3162a-c662-4c87-b3dc-9a7ba49bafcd\",\"type\":\"LegendItem\"},{\"id\":\"8428fed9-94f5-41e7-9af5-b3fcd9f31da5\",\"type\":\"LegendItem\"},{\"id\":\"a5e387b2-7ec8-4310-8d26-b9d729e25889\",\"type\":\"LegendItem\"},{\"id\":\"ca3acbd0-a572-438e-aceb-3d986bb6fc8a\",\"type\":\"LegendItem\"},{\"id\":\"077c7aac-ea72-41ce-9eb9-b1ae033a7bdb\",\"type\":\"LegendItem\"},{\"id\":\"82ce302e-8da4-421b-992a-af9fa2653908\",\"type\":\"LegendItem\"},{\"id\":\"43d30d2c-3a40-4cac-9457-541df33e3027\",\"type\":\"LegendItem\"},{\"id\":\"07c40183-3fd4-43b8-8664-114805016892\",\"type\":\"LegendItem\"},{\"id\":\"b9d2301e-e8f4-4096-a3e9-cf3516223fd6\",\"type\":\"LegendItem\"}],\"location\":\"top_left\",\"plot\":{\"id\":\"1a103fa7-b152-40d7-b514-d59e427e195b\",\"subtype\":\"Figure\",\"type\":\"Plot\"}},\"id\":\"1fa141ed-0a69-4236-abaf-fe33eed7cc85\",\"type\":\"Legend\"},{\"attributes\":{\"line_alpha\":0.1,\"line_color\":\"#1f77b4\",\"line_dash\":[6],\"x\":{\"field\":\"x\"},\"y\":{\"field\":\"y\"}},\"id\":\"04966325-7ddc-4995-8494-4a257be8d5ec\",\"type\":\"Line\"},{\"attributes\":{\"label\":{\"value\":\"primes1\"},\"renderers\":[{\"id\":\"e579252b-2cf3-45aa-b5b0-8512f380821e\",\"type\":\"GlyphRenderer\"},{\"id\":\"fbdabb39-25b0-44e2-a44a-033e988fe8d0\",\"type\":\"GlyphRenderer\"}]},\"id\":\"05fabc0d-f57d-4845-910e-e226a370457a\",\"type\":\"LegendItem\"},{\"attributes\":{\"label\":{\"value\":\"primes9\"},\"renderers\":[{\"id\":\"61da4db9-c282-4119-ae5f-03983dc4464e\",\"type\":\"GlyphRenderer\"},{\"id\":\"389c0d05-0bb4-43ff-89e4-42d8a690f9e0\",\"type\":\"GlyphRenderer\"}]},\"id\":\"07c40183-3fd4-43b8-8664-114805016892\",\"type\":\"LegendItem\"},{\"attributes\":{\"source\":{\"id\":\"ec037cda-99cd-4c81-b37d-788e3bab6aed\",\"type\":\"ColumnDataSource\"}},\"id\":\"9f225ee3-1e26-4abf-a035-4bdb61764023\",\"type\":\"CDSView\"},{\"attributes\":{\"fill_color\":{\"value\":\"#bcbd22\"},\"line_color\":{\"value\":\"#bcbd22\"},\"x\":{\"field\":\"x\"},\"y\":{\"field\":\"y\"}},\"id\":\"287d77bf-efe7-4253-b8c5-13740653212f\",\"type\":\"Circle\"},{\"attributes\":{\"fill_alpha\":{\"value\":0.1},\"fill_color\":{\"value\":\"#1f77b4\"},\"line_alpha\":{\"value\":0.1},\"line_color\":{\"value\":\"#1f77b4\"},\"x\":{\"field\":\"x\"},\"y\":{\"field\":\"y\"}},\"id\":\"c7ed9539-abf6-4c9e-ae9d-c6aaf94cb8f5\",\"type\":\"Circle\"},{\"attributes\":{\"fill_color\":{\"value\":\"#1f77b4\"},\"line_color\":{\"value\":\"#1f77b4\"},\"x\":{\"field\":\"x\"},\"y\":{\"field\":\"y\"}},\"id\":\"e850b589-c4b5-4b34-b04c-0b8bd681e5ac\",\"type\":\"Circle\"}],\"root_ids\":[\"1a103fa7-b152-40d7-b514-d59e427e195b\"]},\"title\":\"Bokeh Application\",\"version\":\"0.12.14\"}};\n",
       "  var render_items = [{\"docid\":\"f50233b3-4898-4f35-8826-4251f597a651\",\"elementid\":\"f03380a0-80e4-458f-b98a-ceb159bb526d\",\"modelid\":\"1a103fa7-b152-40d7-b514-d59e427e195b\",\"notebook_comms_target\":\"80fbfd94-8775-4377-b87c-7208cad30ed4\"}];\n",
       "  root.Bokeh.embed.embed_items_notebook(docs_json, render_items);\n",
       "\n",
       "  }\n",
       "  if (root.Bokeh !== undefined) {\n",
       "    embed_document(root);\n",
       "  } else {\n",
       "    var attempts = 0;\n",
       "    var timer = setInterval(function(root) {\n",
       "      if (root.Bokeh !== undefined) {\n",
       "        embed_document(root);\n",
       "        clearInterval(timer);\n",
       "      }\n",
       "      attempts++;\n",
       "      if (attempts > 100) {\n",
       "        console.log(\"Bokeh: ERROR: Unable to run BokehJS code because BokehJS library is missing\")\n",
       "        clearInterval(timer);\n",
       "      }\n",
       "    }, 10, root)\n",
       "  }\n",
       "})(window);"
      ],
      "application/vnd.bokehjs_exec.v0+json": ""
     },
     "metadata": {
      "application/vnd.bokehjs_exec.v0+json": {
       "id": "1a103fa7-b152-40d7-b514-d59e427e195b"
      }
     },
     "output_type": "display_data"
    }
   ],
   "source": [
    "import pyprimesieve\n",
    "\n",
    "timing_plot(pyprimesieve.primes, True)"
   ]
  },
  {
   "cell_type": "code",
   "execution_count": 24,
   "metadata": {
    "slideshow": {
     "slide_type": "skip"
    }
   },
   "outputs": [
    {
     "data": {
      "application/javascript": [
       "\n",
       "sieve.src = 'sieve.png';\n"
      ],
      "text/plain": [
       "<IPython.core.display.Javascript object>"
      ]
     },
     "execution_count": 24,
     "metadata": {},
     "output_type": "execute_result"
    }
   ],
   "source": [
    "from IPython.display import Javascript\n",
    "\n",
    "Javascript('''\n",
    "sieve.src = 'sieve.png';\n",
    "''')"
   ]
  }
 ],
 "metadata": {
  "celltoolbar": "Slideshow",
  "kernelspec": {
   "display_name": "Python 3",
   "language": "python",
   "name": "python3"
  },
  "language_info": {
   "codemirror_mode": {
    "name": "ipython",
    "version": 3
   },
   "file_extension": ".py",
   "mimetype": "text/x-python",
   "name": "python",
   "nbconvert_exporter": "python",
   "pygments_lexer": "ipython3",
   "version": "3.6.4"
  },
  "livereveal": {
   "scroll": "True",
   "start_slideshow_at": "selected",
   "theme": "serif",
   "transition": "convex"
  }
 },
 "nbformat": 4,
 "nbformat_minor": 2
}
